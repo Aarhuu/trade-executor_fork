{
 "cells": [
  {
   "attachments": {},
   "cell_type": "markdown",
   "metadata": {},
   "source": [
    "# Spot/short grid search example\n",
    "\n",
    "See ``spot-and-short-momentum.ipynb`` for more details.\n",
    "This notebook is based on the same strategy, but uses a grid search to test out different parameters.\n",
    "\n",
    "To run:\n",
    "\n",
    "```shell\n",
    "ipython notebooks/spot-and-short-momentum-grid.ipynb\n",
    "```"
   ]
  },
  {
   "cell_type": "markdown",
   "metadata": {},
   "source": [
    "### Grid search target strategy loading\n"
   ]
  },
  {
   "cell_type": "code",
   "execution_count": 1,
   "metadata": {
    "ExecuteTime": {
     "end_time": "2023-11-06T11:23:56.822575Z",
     "start_time": "2023-11-06T11:23:56.740008Z"
    },
    "collapsed": false,
    "jupyter": {
     "outputs_hidden": false
    }
   },
   "outputs": [
    {
     "name": "stdout",
     "output_type": "stream",
     "text": [
      "Backtesting for strategy /Users/moo/code/ts/trade-executor/strategies/long-short-momentum.py, engine version 0.3\n"
     ]
    }
   ],
   "source": [
    "import datetime\n",
    "import importlib.util\n",
    "import sys\n",
    "\n",
    "from tradeexecutor.utils.default_strategies import get_default_strategies_path\n",
    "\n",
    "strategies_folder = get_default_strategies_path()\n",
    "strategy_path = strategies_folder / \"spot-and-short-momentum-grid.py\"\n",
    "\n",
    "# See https://stackoverflow.com/a/67692/315168\n",
    "spec = importlib.util.spec_from_file_location(\"strategy_mod\", strategy_path)\n",
    "python_mod = importlib.util.module_from_spec(spec)\n",
    "sys.modules[\"strategy_mod\"] = python_mod\n",
    "spec.loader.exec_module(python_mod)\n",
    "\n",
    "print(f\"Backtesting for strategy {strategy_path}, engine version {python_mod.trading_strategy_engine_version}\")"
   ]
  },
  {
   "cell_type": "markdown",
   "metadata": {},
   "source": [
    "### Set up the market data client\n",
    "\n"
   ]
  },
  {
   "cell_type": "code",
   "execution_count": 2,
   "metadata": {
    "ExecuteTime": {
     "end_time": "2023-11-06T11:23:56.825354Z",
     "start_time": "2023-11-06T11:23:56.745601Z"
    },
    "collapsed": false
   },
   "outputs": [
    {
     "name": "stdout",
     "output_type": "stream",
     "text": [
      "Started Trading Strategy in Jupyter notebook environment, configuration is stored in /Users/moo/.tradingstrategy\n"
     ]
    }
   ],
   "source": [
    "from tradingstrategy.client import Client\n",
    "\n",
    "client = Client.create_jupyter_client()"
   ]
  },
  {
   "cell_type": "markdown",
   "metadata": {
    "collapsed": false
   },
   "source": [
    "Load the strategy universe and analyse what trading pairs the strategy code gives for us."
   ]
  },
  {
   "cell_type": "code",
   "execution_count": 3,
   "metadata": {
    "ExecuteTime": {
     "end_time": "2023-11-06T11:23:57.946683Z",
     "start_time": "2023-11-06T11:23:56.753877Z"
    },
    "collapsed": false
   },
   "outputs": [
    {
     "data": {
      "application/vnd.jupyter.widget-view+json": {
       "model_id": "6de9b47ea380420186445d0f19f185c0",
       "version_major": 2,
       "version_minor": 0
      },
      "text/plain": [
       "Downloading interest rate data for 5 assets:   0%|          | 0/10 [00:00<?, ?it/s]"
      ]
     },
     "metadata": {},
     "output_type": "display_data"
    }
   ],
   "source": [
    "from tradeexecutor.strategy.execution_context import notebook_execution_context\n",
    "\n",
    "universe = python_mod.create_trading_universe(\n",
    "    datetime.datetime.utcnow(),\n",
    "    client,\n",
    "    notebook_execution_context,\n",
    "    python_mod.universe_options,\n",
    ")"
   ]
  },
  {
   "attachments": {},
   "cell_type": "markdown",
   "metadata": {},
   "source": []
  },
  {
   "cell_type": "markdown",
   "metadata": {
    "collapsed": false
   },
   "source": [
    "## Available trading universe\n",
    "\n",
    "Inspect trading pairs and lending markets we are going to backtest.\n"
   ]
  },
  {
   "cell_type": "code",
   "execution_count": 4,
   "metadata": {
    "ExecuteTime": {
     "end_time": "2023-11-06T11:23:57.947922Z",
     "start_time": "2023-11-06T11:23:57.928149Z"
    },
    "collapsed": false
   },
   "outputs": [
    {
     "data": {
      "text/html": [
       "<table border=\"1\" class=\"dataframe\">\n",
       "  <thead>\n",
       "    <tr style=\"text-align: right;\">\n",
       "      <th></th>\n",
       "      <th>Lending asset</th>\n",
       "      <th>Stablecoin</th>\n",
       "      <th>Best trading pair</th>\n",
       "      <th>Lending available at</th>\n",
       "      <th>Trading available at</th>\n",
       "      <th>Price data page</th>\n",
       "      <th>Lending rate page</th>\n",
       "    </tr>\n",
       "  </thead>\n",
       "  <tbody>\n",
       "    <tr>\n",
       "      <th>0</th>\n",
       "      <td>BAL</td>\n",
       "      <td>no</td>\n",
       "      <td>No AMM pools found</td>\n",
       "      <td>2022-03-14</td>\n",
       "      <td>-</td>\n",
       "      <td><a href=\"-\">View</a></td>\n",
       "      <td><a href=\"https://tradingstrategy.ai/trading-view/polygon/lending/aave_v3/bal\">View</a></td>\n",
       "    </tr>\n",
       "    <tr>\n",
       "      <th>1</th>\n",
       "      <td>LINK</td>\n",
       "      <td>no</td>\n",
       "      <td>LINK-USDC at 5 BPS fee tier on Uniswap v3</td>\n",
       "      <td>2022-03-14</td>\n",
       "      <td>2022-08-15</td>\n",
       "      <td><a href=\"https://tradingstrategy.ai/trading-view/polygon/uniswap-v3/link-usdc-fee-5\">View</a></td>\n",
       "      <td><a href=\"https://tradingstrategy.ai/trading-view/polygon/lending/aave_v3/link\">View</a></td>\n",
       "    </tr>\n",
       "    <tr>\n",
       "      <th>2</th>\n",
       "      <td>USDC</td>\n",
       "      <td>yes</td>\n",
       "      <td>No AMM pools found</td>\n",
       "      <td>2022-03-14</td>\n",
       "      <td>-</td>\n",
       "      <td><a href=\"-\">View</a></td>\n",
       "      <td><a href=\"https://tradingstrategy.ai/trading-view/polygon/lending/aave_v3/usdc\">View</a></td>\n",
       "    </tr>\n",
       "    <tr>\n",
       "      <th>3</th>\n",
       "      <td>WETH</td>\n",
       "      <td>no</td>\n",
       "      <td>WETH-USDC at 5 BPS fee tier on Uniswap v3</td>\n",
       "      <td>2022-03-14</td>\n",
       "      <td>2022-07-04</td>\n",
       "      <td><a href=\"https://tradingstrategy.ai/trading-view/polygon/uniswap-v3/eth-usdc-fee-5\">View</a></td>\n",
       "      <td><a href=\"https://tradingstrategy.ai/trading-view/polygon/lending/aave_v3/weth\">View</a></td>\n",
       "    </tr>\n",
       "    <tr>\n",
       "      <th>4</th>\n",
       "      <td>WMATIC</td>\n",
       "      <td>no</td>\n",
       "      <td>WMATIC-USDC at 5 BPS fee tier on Uniswap v3</td>\n",
       "      <td>2022-03-07</td>\n",
       "      <td>2022-07-04</td>\n",
       "      <td><a href=\"https://tradingstrategy.ai/trading-view/polygon/uniswap-v3/matic-usdc-fee-5\">View</a></td>\n",
       "      <td><a href=\"https://tradingstrategy.ai/trading-view/polygon/lending/aave_v3/wmatic\">View</a></td>\n",
       "    </tr>\n",
       "  </tbody>\n",
       "</table>"
      ],
      "text/plain": [
       "<IPython.core.display.HTML object>"
      ]
     },
     "metadata": {},
     "output_type": "display_data"
    }
   ],
   "source": [
    "from IPython.display import HTML\n",
    "\n",
    "from tradeexecutor.analysis.universe import analyse_long_short_universe\n",
    "from tradingstrategy.utils.jupyter import format_links_for_html_output\n",
    "\n",
    "df = analyse_long_short_universe(universe)\n",
    "df = format_links_for_html_output(df, (\"Price data page\", \"Lending rate page\",))\n",
    "\n",
    "display(HTML(df.to_html(escape=False)))"
   ]
  },
  {
   "cell_type": "markdown",
   "metadata": {},
   "source": [
    "## Run grid search"
   ]
  },
  {
   "cell_type": "code",
   "execution_count": 5,
   "metadata": {
    "ExecuteTime": {
     "end_time": "2023-11-06T11:24:00.239763Z",
     "start_time": "2023-11-06T11:23:57.941020Z"
    },
    "collapsed": false,
    "jupyter": {
     "outputs_hidden": false
    }
   },
   "outputs": [
    {
     "data": {
      "application/vnd.jupyter.widget-view+json": {
       "model_id": "2bc8ebd379264fc8a17eb24a528acd39",
       "version_major": 2,
       "version_minor": 0
      },
      "text/plain": [
       "Downloading interest rate data for 5 assets:   0%|          | 0/10 [00:00<?, ?it/s]"
      ]
     },
     "metadata": {},
     "output_type": "display_data"
    },
    {
     "data": {
      "application/vnd.jupyter.widget-view+json": {
       "model_id": "02c53fb6437040d2a5c87d58491a1736",
       "version_major": 2,
       "version_minor": 0
      },
      "text/plain": [
       "  0%|          | 0/57801600 [00:00<?, ?it/s]"
      ]
     },
     "metadata": {},
     "output_type": "display_data"
    },
    {
     "name": "stderr",
     "output_type": "stream",
     "text": [
      "Sync time span must be positive:2022-08-29 00:00:00 - 2022-08-29 00:00:00\n"
     ]
    },
    {
     "name": "stdout",
     "output_type": "stream",
     "text": [
      "Backtesting completed, backtested strategy made 196 trades\n"
     ]
    }
   ],
   "source": [
    "from pathlib import Path\n",
    "from tradeexecutor.backtest.grid_search import perform_grid_search, prepare_grid_combinations\n",
    "\n",
    "# This is the path where we keep the result files around\n",
    "storage_folder = Path(f\"/tmp/{strategy_path.stem}-grid-search\")\n",
    "\n",
    "parameters = {\n",
    "    \"cycle_duration_days\": [3, 6, 8, 12],\n",
    "    \"momentum_lookback\": [2, 4, 6, 8],\n",
    "}\n",
    "combinations = prepare_grid_combinations(parameters, storage_folder, clear_cached_results=True)\n",
    "\n",
    "grid_search_results = perform_grid_search(\n",
    "    python_mod.grid_search_worker,\n",
    "    universe,\n",
    "    combinations,\n",
    "    max_workers=4,\n",
    ")\n"
   ]
  },
  {
   "attachments": {},
   "cell_type": "markdown",
   "metadata": {},
   "source": [
    "## Examine grid search results\n"
   ]
  },
  {
   "cell_type": "code",
   "execution_count": 6,
   "metadata": {
    "ExecuteTime": {
     "end_time": "2023-11-06T11:24:00.246393Z",
     "start_time": "2023-11-06T11:24:00.242327Z"
    },
    "collapsed": false,
    "jupyter": {
     "outputs_hidden": false
    }
   },
   "outputs": [
    {
     "name": "stdout",
     "output_type": "stream",
     "text": [
      "Positions taken: 93\n",
      "Trades made: 196\n"
     ]
    }
   ],
   "source": [
    "from tradeexecutor.analysis.grid_search import analyse_grid_search_result\n",
    "from tradeexecutor.analysis.grid_search import visualise_table\n",
    "table = analyse_grid_search_result(grid_search_results)\n",
    "\n",
    "visualise_table(table)"
   ]
  },
  {
   "cell_type": "markdown",
   "metadata": {
    "collapsed": false
   },
   "source": []
  }
 ],
 "metadata": {
  "kernelspec": {
   "display_name": "trade-executor-8Oz1GdY1-py3.10",
   "language": "python",
   "name": "python3"
  },
  "language_info": {
   "codemirror_mode": {
    "name": "ipython",
    "version": 3
   },
   "file_extension": ".py",
   "mimetype": "text/x-python",
   "name": "python",
   "nbconvert_exporter": "python",
   "pygments_lexer": "ipython3",
   "version": "3.10.13"
  },
  "vscode": {
   "interpreter": {
    "hash": "7adede735167b7e67e1575a49b63099e273f8f003d80ae98ec60bd132e113570"
   }
  }
 },
 "nbformat": 4,
 "nbformat_minor": 4
}
