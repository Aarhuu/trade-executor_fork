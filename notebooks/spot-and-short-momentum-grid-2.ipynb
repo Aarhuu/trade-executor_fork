{
 "cells": [
  {
   "attachments": {},
   "cell_type": "markdown",
   "metadata": {},
   "source": [
    "# Spot/short grid search example\n",
    "\n",
    "See the earlier notebook for more information."
   ]
  },
  {
   "cell_type": "markdown",
   "metadata": {},
   "source": [
    "### Grid search target strategy loading\n"
   ]
  },
  {
   "cell_type": "code",
   "execution_count": 1,
   "metadata": {
    "ExecuteTime": {
     "end_time": "2023-11-06T11:23:56.822575Z",
     "start_time": "2023-11-06T11:23:56.740008Z"
    },
    "collapsed": false,
    "jupyter": {
     "outputs_hidden": false
    }
   },
   "outputs": [
    {
     "name": "stdout",
     "output_type": "stream",
     "text": [
      "Backtesting for strategy /Users/moo/code/ts/trade-executor/strategies/spot-and-short-momentum-grid.py, engine version 0.3\n"
     ]
    }
   ],
   "source": [
    "import datetime\n",
    "import importlib.util\n",
    "import sys\n",
    "\n",
    "from tradeexecutor.utils.default_strategies import get_default_strategies_path\n",
    "\n",
    "strategies_folder = get_default_strategies_path()\n",
    "strategy_path = strategies_folder / \"spot-and-short-momentum-grid.py\"\n",
    "\n",
    "# See https://stackoverflow.com/a/67692/315168\n",
    "spec = importlib.util.spec_from_file_location(\"strategy_mod\", strategy_path)\n",
    "python_mod = importlib.util.module_from_spec(spec)\n",
    "sys.modules[\"strategy_mod\"] = python_mod\n",
    "spec.loader.exec_module(python_mod)\n",
    "\n",
    "print(f\"Backtesting for strategy {strategy_path}, engine version {python_mod.trading_strategy_engine_version}\")"
   ]
  },
  {
   "cell_type": "markdown",
   "metadata": {},
   "source": [
    "### Set up the market data client\n",
    "\n"
   ]
  },
  {
   "cell_type": "code",
   "execution_count": 2,
   "metadata": {
    "ExecuteTime": {
     "end_time": "2023-11-06T11:23:56.825354Z",
     "start_time": "2023-11-06T11:23:56.745601Z"
    },
    "collapsed": false
   },
   "outputs": [
    {
     "name": "stdout",
     "output_type": "stream",
     "text": [
      "Started Trading Strategy in Jupyter notebook environment, configuration is stored in /Users/moo/.tradingstrategy\n"
     ]
    }
   ],
   "source": [
    "from tradingstrategy.client import Client\n",
    "\n",
    "client = Client.create_jupyter_client()"
   ]
  },
  {
   "cell_type": "markdown",
   "metadata": {
    "collapsed": false
   },
   "source": [
    "Load the strategy universe and analyse what trading pairs the strategy code gives for us."
   ]
  },
  {
   "cell_type": "code",
   "execution_count": 3,
   "metadata": {
    "ExecuteTime": {
     "end_time": "2023-11-06T11:23:57.946683Z",
     "start_time": "2023-11-06T11:23:56.753877Z"
    },
    "collapsed": false
   },
   "outputs": [
    {
     "data": {
      "application/vnd.jupyter.widget-view+json": {
       "model_id": "42e70616dbb6451fb6aafa66af2cc782",
       "version_major": 2,
       "version_minor": 0
      },
      "text/plain": [
       "Downloading interest rate data for 5 assets:   0%|          | 0/10 [00:00<?, ?it/s]"
      ]
     },
     "metadata": {},
     "output_type": "display_data"
    }
   ],
   "source": [
    "from tradeexecutor.strategy.execution_context import notebook_execution_context\n",
    "\n",
    "universe = python_mod.create_trading_universe(\n",
    "    datetime.datetime.utcnow(),\n",
    "    client,\n",
    "    notebook_execution_context,\n",
    "    python_mod.universe_options,\n",
    ")"
   ]
  },
  {
   "attachments": {},
   "cell_type": "markdown",
   "metadata": {},
   "source": []
  },
  {
   "cell_type": "markdown",
   "metadata": {
    "collapsed": false
   },
   "source": [
    "## Available trading universe\n",
    "\n",
    "Inspect trading pairs and lending markets we are going to backtest.\n"
   ]
  },
  {
   "cell_type": "code",
   "execution_count": 4,
   "metadata": {
    "ExecuteTime": {
     "end_time": "2023-11-06T11:23:57.947922Z",
     "start_time": "2023-11-06T11:23:57.928149Z"
    },
    "collapsed": false
   },
   "outputs": [
    {
     "data": {
      "text/html": [
       "<table border=\"1\" class=\"dataframe\">\n",
       "  <thead>\n",
       "    <tr style=\"text-align: right;\">\n",
       "      <th></th>\n",
       "      <th>Lending asset</th>\n",
       "      <th>Stablecoin</th>\n",
       "      <th>Best trading pair</th>\n",
       "      <th>Lending available at</th>\n",
       "      <th>Trading available at</th>\n",
       "      <th>Price data page</th>\n",
       "      <th>Lending rate page</th>\n",
       "    </tr>\n",
       "  </thead>\n",
       "  <tbody>\n",
       "    <tr>\n",
       "      <th>0</th>\n",
       "      <td>BAL</td>\n",
       "      <td>no</td>\n",
       "      <td>No AMM pools found</td>\n",
       "      <td>2022-03-16</td>\n",
       "      <td>-</td>\n",
       "      <td><a href=\"-\">View</a></td>\n",
       "      <td><a href=\"https://tradingstrategy.ai/trading-view/polygon/lending/aave_v3/bal\">View</a></td>\n",
       "    </tr>\n",
       "    <tr>\n",
       "      <th>1</th>\n",
       "      <td>LINK</td>\n",
       "      <td>no</td>\n",
       "      <td>LINK-USDC at 5 BPS fee tier on Uniswap v3</td>\n",
       "      <td>2022-03-16</td>\n",
       "      <td>2022-08-21</td>\n",
       "      <td><a href=\"https://tradingstrategy.ai/trading-view/polygon/uniswap-v3/link-usdc-fee-5\">View</a></td>\n",
       "      <td><a href=\"https://tradingstrategy.ai/trading-view/polygon/lending/aave_v3/link\">View</a></td>\n",
       "    </tr>\n",
       "    <tr>\n",
       "      <th>2</th>\n",
       "      <td>USDC</td>\n",
       "      <td>yes</td>\n",
       "      <td>No AMM pools found</td>\n",
       "      <td>2022-03-16</td>\n",
       "      <td>-</td>\n",
       "      <td><a href=\"-\">View</a></td>\n",
       "      <td><a href=\"https://tradingstrategy.ai/trading-view/polygon/lending/aave_v3/usdc\">View</a></td>\n",
       "    </tr>\n",
       "    <tr>\n",
       "      <th>3</th>\n",
       "      <td>WETH</td>\n",
       "      <td>no</td>\n",
       "      <td>WETH-USDC at 5 BPS fee tier on Uniswap v3</td>\n",
       "      <td>2022-03-16</td>\n",
       "      <td>2022-07-07</td>\n",
       "      <td><a href=\"https://tradingstrategy.ai/trading-view/polygon/uniswap-v3/eth-usdc-fee-5\">View</a></td>\n",
       "      <td><a href=\"https://tradingstrategy.ai/trading-view/polygon/lending/aave_v3/weth\">View</a></td>\n",
       "    </tr>\n",
       "    <tr>\n",
       "      <th>4</th>\n",
       "      <td>WMATIC</td>\n",
       "      <td>no</td>\n",
       "      <td>WMATIC-USDC at 5 BPS fee tier on Uniswap v3</td>\n",
       "      <td>2022-03-12</td>\n",
       "      <td>2022-07-07</td>\n",
       "      <td><a href=\"https://tradingstrategy.ai/trading-view/polygon/uniswap-v3/matic-usdc-fee-5\">View</a></td>\n",
       "      <td><a href=\"https://tradingstrategy.ai/trading-view/polygon/lending/aave_v3/wmatic\">View</a></td>\n",
       "    </tr>\n",
       "  </tbody>\n",
       "</table>"
      ],
      "text/plain": [
       "<IPython.core.display.HTML object>"
      ]
     },
     "metadata": {},
     "output_type": "display_data"
    }
   ],
   "source": [
    "from IPython.display import HTML\n",
    "\n",
    "from tradeexecutor.analysis.universe import analyse_long_short_universe\n",
    "from tradingstrategy.utils.jupyter import format_links_for_html_output\n",
    "\n",
    "df = analyse_long_short_universe(universe)\n",
    "df = format_links_for_html_output(df, (\"Price data page\", \"Lending rate page\",))\n",
    "\n",
    "display(HTML(df.to_html(escape=False)))"
   ]
  },
  {
   "cell_type": "markdown",
   "metadata": {},
   "source": [
    "## Run grid search"
   ]
  },
  {
   "cell_type": "code",
   "execution_count": 5,
   "metadata": {
    "ExecuteTime": {
     "end_time": "2023-11-06T11:24:00.239763Z",
     "start_time": "2023-11-06T11:23:57.941020Z"
    },
    "collapsed": false,
    "jupyter": {
     "outputs_hidden": false
    }
   },
   "outputs": [
    {
     "data": {
      "application/vnd.jupyter.widget-view+json": {
       "model_id": "e82380c1154d4aefb08693386ea5d2b8",
       "version_major": 2,
       "version_minor": 0
      },
      "text/plain": [
       "  0%|          | 0/57801600 [00:00<?, ?it/s]"
      ]
     },
     "metadata": {},
     "output_type": "display_data"
    },
    {
     "data": {
      "application/vnd.jupyter.widget-view+json": {
       "model_id": "858d05f8b78448d4a34146d844e5fdd1",
       "version_major": 2,
       "version_minor": 0
      },
      "text/plain": [
       "  0%|          | 0/57801600 [00:00<?, ?it/s]"
      ]
     },
     "metadata": {},
     "output_type": "display_data"
    },
    {
     "data": {
      "application/vnd.jupyter.widget-view+json": {
       "model_id": "fa48e0db34f24689ab4547a283f3a8e0",
       "version_major": 2,
       "version_minor": 0
      },
      "text/plain": [
       "  0%|          | 0/57801600 [00:00<?, ?it/s]"
      ]
     },
     "metadata": {},
     "output_type": "display_data"
    },
    {
     "data": {
      "application/vnd.jupyter.widget-view+json": {
       "model_id": "e01920cb52444132bb5f63edc896ad02",
       "version_major": 2,
       "version_minor": 0
      },
      "text/plain": [
       "  0%|          | 0/57801600 [00:00<?, ?it/s]"
      ]
     },
     "metadata": {},
     "output_type": "display_data"
    },
    {
     "data": {
      "application/vnd.jupyter.widget-view+json": {
       "model_id": "1020a4a37c284acca9cbd63d955b7189",
       "version_major": 2,
       "version_minor": 0
      },
      "text/plain": [
       "  0%|          | 0/57801600 [00:00<?, ?it/s]"
      ]
     },
     "metadata": {},
     "output_type": "display_data"
    },
    {
     "data": {
      "application/vnd.jupyter.widget-view+json": {
       "model_id": "4cb4c4181bef4b91a9184dd1ce4bd4ea",
       "version_major": 2,
       "version_minor": 0
      },
      "text/plain": [
       "  0%|          | 0/57801600 [00:00<?, ?it/s]"
      ]
     },
     "metadata": {},
     "output_type": "display_data"
    },
    {
     "data": {
      "application/vnd.jupyter.widget-view+json": {
       "model_id": "17d25d68e18e44918a511f4146525463",
       "version_major": 2,
       "version_minor": 0
      },
      "text/plain": [
       "  0%|          | 0/57801600 [00:00<?, ?it/s]"
      ]
     },
     "metadata": {},
     "output_type": "display_data"
    },
    {
     "data": {
      "application/vnd.jupyter.widget-view+json": {
       "model_id": "e52d9c6e4c884bfbadfecc95354d93e2",
       "version_major": 2,
       "version_minor": 0
      },
      "text/plain": [
       "  0%|          | 0/57801600 [00:00<?, ?it/s]"
      ]
     },
     "metadata": {},
     "output_type": "display_data"
    },
    {
     "data": {
      "application/vnd.jupyter.widget-view+json": {
       "model_id": "8dc8bda28e1640ec965bc35b05e89938",
       "version_major": 2,
       "version_minor": 0
      },
      "text/plain": [
       "  0%|          | 0/57801600 [00:00<?, ?it/s]"
      ]
     },
     "metadata": {},
     "output_type": "display_data"
    },
    {
     "data": {
      "application/vnd.jupyter.widget-view+json": {
       "model_id": "682420fa302249a89d9dc8d853026fe2",
       "version_major": 2,
       "version_minor": 0
      },
      "text/plain": [
       "  0%|          | 0/57801600 [00:00<?, ?it/s]"
      ]
     },
     "metadata": {},
     "output_type": "display_data"
    },
    {
     "data": {
      "application/vnd.jupyter.widget-view+json": {
       "model_id": "8fd09a1f19614f85882ca173ca4569e5",
       "version_major": 2,
       "version_minor": 0
      },
      "text/plain": [
       "  0%|          | 0/57801600 [00:00<?, ?it/s]"
      ]
     },
     "metadata": {},
     "output_type": "display_data"
    },
    {
     "data": {
      "application/vnd.jupyter.widget-view+json": {
       "model_id": "3b13c05580cf44888b1cbe31cea6f913",
       "version_major": 2,
       "version_minor": 0
      },
      "text/plain": [
       "  0%|          | 0/57801600 [00:00<?, ?it/s]"
      ]
     },
     "metadata": {},
     "output_type": "display_data"
    },
    {
     "data": {
      "application/vnd.jupyter.widget-view+json": {
       "model_id": "ec86bf6b45d44ee89a1de1d815ec0ef9",
       "version_major": 2,
       "version_minor": 0
      },
      "text/plain": [
       "  0%|          | 0/57801600 [00:00<?, ?it/s]"
      ]
     },
     "metadata": {},
     "output_type": "display_data"
    },
    {
     "data": {
      "application/vnd.jupyter.widget-view+json": {
       "model_id": "a2f027f365ef4e05a4a4cc15226e6f26",
       "version_major": 2,
       "version_minor": 0
      },
      "text/plain": [
       "  0%|          | 0/57801600 [00:00<?, ?it/s]"
      ]
     },
     "metadata": {},
     "output_type": "display_data"
    },
    {
     "data": {
      "application/vnd.jupyter.widget-view+json": {
       "model_id": "3c55e68b01f04ad38ad57d94a2fafa58",
       "version_major": 2,
       "version_minor": 0
      },
      "text/plain": [
       "  0%|          | 0/57801600 [00:00<?, ?it/s]"
      ]
     },
     "metadata": {},
     "output_type": "display_data"
    },
    {
     "data": {
      "application/vnd.jupyter.widget-view+json": {
       "model_id": "1074c64a9f824930a3b0390dc9006d7c",
       "version_major": 2,
       "version_minor": 0
      },
      "text/plain": [
       "  0%|          | 0/57801600 [00:00<?, ?it/s]"
      ]
     },
     "metadata": {},
     "output_type": "display_data"
    },
    {
     "data": {
      "application/vnd.jupyter.widget-view+json": {
       "model_id": "dd6ed0121d124ebcac3a77c3b1ed74b8",
       "version_major": 2,
       "version_minor": 0
      },
      "text/plain": [
       "  0%|          | 0/57801600 [00:00<?, ?it/s]"
      ]
     },
     "metadata": {},
     "output_type": "display_data"
    },
    {
     "data": {
      "application/vnd.jupyter.widget-view+json": {
       "model_id": "a4b8ff098ff144469353f65ced4c3dc2",
       "version_major": 2,
       "version_minor": 0
      },
      "text/plain": [
       "  0%|          | 0/57801600 [00:00<?, ?it/s]"
      ]
     },
     "metadata": {},
     "output_type": "display_data"
    },
    {
     "data": {
      "application/vnd.jupyter.widget-view+json": {
       "model_id": "e27b92159a4f45cf935d991321f18791",
       "version_major": 2,
       "version_minor": 0
      },
      "text/plain": [
       "  0%|          | 0/57801600 [00:00<?, ?it/s]"
      ]
     },
     "metadata": {},
     "output_type": "display_data"
    },
    {
     "data": {
      "application/vnd.jupyter.widget-view+json": {
       "model_id": "69195f3f9bcd4ea78a7f9df4fb764cf6",
       "version_major": 2,
       "version_minor": 0
      },
      "text/plain": [
       "  0%|          | 0/57801600 [00:00<?, ?it/s]"
      ]
     },
     "metadata": {},
     "output_type": "display_data"
    },
    {
     "data": {
      "application/vnd.jupyter.widget-view+json": {
       "model_id": "19ec4af7ff1847e78bf564229427ba73",
       "version_major": 2,
       "version_minor": 0
      },
      "text/plain": [
       "  0%|          | 0/57801600 [00:00<?, ?it/s]"
      ]
     },
     "metadata": {},
     "output_type": "display_data"
    },
    {
     "data": {
      "application/vnd.jupyter.widget-view+json": {
       "model_id": "0a86f50309c54f8f9b5a8fa8cc9ed2d4",
       "version_major": 2,
       "version_minor": 0
      },
      "text/plain": [
       "  0%|          | 0/57801600 [00:00<?, ?it/s]"
      ]
     },
     "metadata": {},
     "output_type": "display_data"
    },
    {
     "data": {
      "application/vnd.jupyter.widget-view+json": {
       "model_id": "803de0fc64984460b53c24d255ee5d84",
       "version_major": 2,
       "version_minor": 0
      },
      "text/plain": [
       "  0%|          | 0/57801600 [00:00<?, ?it/s]"
      ]
     },
     "metadata": {},
     "output_type": "display_data"
    },
    {
     "data": {
      "application/vnd.jupyter.widget-view+json": {
       "model_id": "4865ed8e59bf4aec8c4fd1ce656aeae2",
       "version_major": 2,
       "version_minor": 0
      },
      "text/plain": [
       "  0%|          | 0/57801600 [00:00<?, ?it/s]"
      ]
     },
     "metadata": {},
     "output_type": "display_data"
    },
    {
     "data": {
      "application/vnd.jupyter.widget-view+json": {
       "model_id": "fe8973b161c740bc96e3d1ef044a6ab8",
       "version_major": 2,
       "version_minor": 0
      },
      "text/plain": [
       "  0%|          | 0/57801600 [00:00<?, ?it/s]"
      ]
     },
     "metadata": {},
     "output_type": "display_data"
    },
    {
     "data": {
      "application/vnd.jupyter.widget-view+json": {
       "model_id": "553416cde0bd40e7b9be89b0ca71d68a",
       "version_major": 2,
       "version_minor": 0
      },
      "text/plain": [
       "  0%|          | 0/57801600 [00:00<?, ?it/s]"
      ]
     },
     "metadata": {},
     "output_type": "display_data"
    },
    {
     "data": {
      "application/vnd.jupyter.widget-view+json": {
       "model_id": "0b3776a96b024ba89cbd80904c4e4163",
       "version_major": 2,
       "version_minor": 0
      },
      "text/plain": [
       "  0%|          | 0/57801600 [00:00<?, ?it/s]"
      ]
     },
     "metadata": {},
     "output_type": "display_data"
    },
    {
     "data": {
      "application/vnd.jupyter.widget-view+json": {
       "model_id": "2d88562d1d774e51938ec929da910174",
       "version_major": 2,
       "version_minor": 0
      },
      "text/plain": [
       "  0%|          | 0/57801600 [00:00<?, ?it/s]"
      ]
     },
     "metadata": {},
     "output_type": "display_data"
    },
    {
     "data": {
      "application/vnd.jupyter.widget-view+json": {
       "model_id": "db5a3f2ae108453d84ca8225fb50bd3a",
       "version_major": 2,
       "version_minor": 0
      },
      "text/plain": [
       "  0%|          | 0/57801600 [00:00<?, ?it/s]"
      ]
     },
     "metadata": {},
     "output_type": "display_data"
    },
    {
     "data": {
      "application/vnd.jupyter.widget-view+json": {
       "model_id": "4b99341790ce4561b262b17ff086be7a",
       "version_major": 2,
       "version_minor": 0
      },
      "text/plain": [
       "  0%|          | 0/57801600 [00:00<?, ?it/s]"
      ]
     },
     "metadata": {},
     "output_type": "display_data"
    },
    {
     "data": {
      "application/vnd.jupyter.widget-view+json": {
       "model_id": "a75ea0c397bc474e892297ec26d5bb57",
       "version_major": 2,
       "version_minor": 0
      },
      "text/plain": [
       "  0%|          | 0/57801600 [00:00<?, ?it/s]"
      ]
     },
     "metadata": {},
     "output_type": "display_data"
    },
    {
     "data": {
      "application/vnd.jupyter.widget-view+json": {
       "model_id": "9a08e44e43b94033aec394776a267c7f",
       "version_major": 2,
       "version_minor": 0
      },
      "text/plain": [
       "  0%|          | 0/57801600 [00:00<?, ?it/s]"
      ]
     },
     "metadata": {},
     "output_type": "display_data"
    },
    {
     "data": {
      "application/vnd.jupyter.widget-view+json": {
       "model_id": "4654760054b8400995670d736b745def",
       "version_major": 2,
       "version_minor": 0
      },
      "text/plain": [
       "  0%|          | 0/57801600 [00:00<?, ?it/s]"
      ]
     },
     "metadata": {},
     "output_type": "display_data"
    },
    {
     "data": {
      "application/vnd.jupyter.widget-view+json": {
       "model_id": "8ccc6d9289604451a8954ae09ca9a004",
       "version_major": 2,
       "version_minor": 0
      },
      "text/plain": [
       "  0%|          | 0/57801600 [00:00<?, ?it/s]"
      ]
     },
     "metadata": {},
     "output_type": "display_data"
    },
    {
     "data": {
      "application/vnd.jupyter.widget-view+json": {
       "model_id": "4c6ad60344d448e1a2fb593d3040421d",
       "version_major": 2,
       "version_minor": 0
      },
      "text/plain": [
       "  0%|          | 0/57801600 [00:00<?, ?it/s]"
      ]
     },
     "metadata": {},
     "output_type": "display_data"
    },
    {
     "data": {
      "application/vnd.jupyter.widget-view+json": {
       "model_id": "b1cb5456a2d1420db4675ed0298f5315",
       "version_major": 2,
       "version_minor": 0
      },
      "text/plain": [
       "  0%|          | 0/57801600 [00:00<?, ?it/s]"
      ]
     },
     "metadata": {},
     "output_type": "display_data"
    },
    {
     "data": {
      "application/vnd.jupyter.widget-view+json": {
       "model_id": "2a5560005334490590d53b279123b213",
       "version_major": 2,
       "version_minor": 0
      },
      "text/plain": [
       "  0%|          | 0/57801600 [00:00<?, ?it/s]"
      ]
     },
     "metadata": {},
     "output_type": "display_data"
    },
    {
     "data": {
      "application/vnd.jupyter.widget-view+json": {
       "model_id": "f81db504e6124625a820657faa2c9b08",
       "version_major": 2,
       "version_minor": 0
      },
      "text/plain": [
       "  0%|          | 0/57801600 [00:00<?, ?it/s]"
      ]
     },
     "metadata": {},
     "output_type": "display_data"
    },
    {
     "data": {
      "application/vnd.jupyter.widget-view+json": {
       "model_id": "148e3deef68c44d6a2b262eed4743c76",
       "version_major": 2,
       "version_minor": 0
      },
      "text/plain": [
       "  0%|          | 0/57801600 [00:00<?, ?it/s]"
      ]
     },
     "metadata": {},
     "output_type": "display_data"
    },
    {
     "data": {
      "application/vnd.jupyter.widget-view+json": {
       "model_id": "7626ce884a174b54a1caf34e67c32fdb",
       "version_major": 2,
       "version_minor": 0
      },
      "text/plain": [
       "  0%|          | 0/57801600 [00:00<?, ?it/s]"
      ]
     },
     "metadata": {},
     "output_type": "display_data"
    },
    {
     "data": {
      "application/vnd.jupyter.widget-view+json": {
       "model_id": "3fb6a52dda364b068a7e3dd046ce9dcd",
       "version_major": 2,
       "version_minor": 0
      },
      "text/plain": [
       "  0%|          | 0/57801600 [00:00<?, ?it/s]"
      ]
     },
     "metadata": {},
     "output_type": "display_data"
    },
    {
     "data": {
      "application/vnd.jupyter.widget-view+json": {
       "model_id": "fac6bdf1787c4298b9d0f08a44e4bc3a",
       "version_major": 2,
       "version_minor": 0
      },
      "text/plain": [
       "  0%|          | 0/57801600 [00:00<?, ?it/s]"
      ]
     },
     "metadata": {},
     "output_type": "display_data"
    },
    {
     "data": {
      "application/vnd.jupyter.widget-view+json": {
       "model_id": "9a68049d3ea74784b250875d8217429b",
       "version_major": 2,
       "version_minor": 0
      },
      "text/plain": [
       "  0%|          | 0/57801600 [00:00<?, ?it/s]"
      ]
     },
     "metadata": {},
     "output_type": "display_data"
    },
    {
     "data": {
      "application/vnd.jupyter.widget-view+json": {
       "model_id": "0c768a8ce0f2456cbdc5dc82eedbaa10",
       "version_major": 2,
       "version_minor": 0
      },
      "text/plain": [
       "  0%|          | 0/57801600 [00:00<?, ?it/s]"
      ]
     },
     "metadata": {},
     "output_type": "display_data"
    },
    {
     "data": {
      "application/vnd.jupyter.widget-view+json": {
       "model_id": "03739e3d6fa84a4abd82c759afa24312",
       "version_major": 2,
       "version_minor": 0
      },
      "text/plain": [
       "  0%|          | 0/57801600 [00:00<?, ?it/s]"
      ]
     },
     "metadata": {},
     "output_type": "display_data"
    },
    {
     "data": {
      "application/vnd.jupyter.widget-view+json": {
       "model_id": "3c28def218464b0682cb0c9b6ed94441",
       "version_major": 2,
       "version_minor": 0
      },
      "text/plain": [
       "  0%|          | 0/57801600 [00:00<?, ?it/s]"
      ]
     },
     "metadata": {},
     "output_type": "display_data"
    },
    {
     "data": {
      "application/vnd.jupyter.widget-view+json": {
       "model_id": "679bb7ae97af437b815d54cbd18a37f6",
       "version_major": 2,
       "version_minor": 0
      },
      "text/plain": [
       "  0%|          | 0/57801600 [00:00<?, ?it/s]"
      ]
     },
     "metadata": {},
     "output_type": "display_data"
    },
    {
     "data": {
      "application/vnd.jupyter.widget-view+json": {
       "model_id": "aad1284459d8498a865b831f71197e68",
       "version_major": 2,
       "version_minor": 0
      },
      "text/plain": [
       "  0%|          | 0/57801600 [00:00<?, ?it/s]"
      ]
     },
     "metadata": {},
     "output_type": "display_data"
    },
    {
     "data": {
      "application/vnd.jupyter.widget-view+json": {
       "model_id": "d80a9c1fbb6e4256921b2a51097bc4d8",
       "version_major": 2,
       "version_minor": 0
      },
      "text/plain": [
       "  0%|          | 0/57801600 [00:00<?, ?it/s]"
      ]
     },
     "metadata": {},
     "output_type": "display_data"
    },
    {
     "data": {
      "application/vnd.jupyter.widget-view+json": {
       "model_id": "b28905a4d12a4d2ab9988bd3577d0792",
       "version_major": 2,
       "version_minor": 0
      },
      "text/plain": [
       "  0%|          | 0/57801600 [00:00<?, ?it/s]"
      ]
     },
     "metadata": {},
     "output_type": "display_data"
    },
    {
     "data": {
      "application/vnd.jupyter.widget-view+json": {
       "model_id": "9a4d0f60659841d7a0a54af2d14069f9",
       "version_major": 2,
       "version_minor": 0
      },
      "text/plain": [
       "  0%|          | 0/57801600 [00:00<?, ?it/s]"
      ]
     },
     "metadata": {},
     "output_type": "display_data"
    },
    {
     "data": {
      "application/vnd.jupyter.widget-view+json": {
       "model_id": "4b4b5494cfc545a3a5fefcaa23acd804",
       "version_major": 2,
       "version_minor": 0
      },
      "text/plain": [
       "  0%|          | 0/57801600 [00:00<?, ?it/s]"
      ]
     },
     "metadata": {},
     "output_type": "display_data"
    },
    {
     "data": {
      "application/vnd.jupyter.widget-view+json": {
       "model_id": "0dae78d419bf4ef9b185db6d8ead8ac1",
       "version_major": 2,
       "version_minor": 0
      },
      "text/plain": [
       "  0%|          | 0/57801600 [00:00<?, ?it/s]"
      ]
     },
     "metadata": {},
     "output_type": "display_data"
    },
    {
     "data": {
      "application/vnd.jupyter.widget-view+json": {
       "model_id": "5196706c04f04f33ad22316137fe47be",
       "version_major": 2,
       "version_minor": 0
      },
      "text/plain": [
       "  0%|          | 0/57801600 [00:00<?, ?it/s]"
      ]
     },
     "metadata": {},
     "output_type": "display_data"
    },
    {
     "data": {
      "application/vnd.jupyter.widget-view+json": {
       "model_id": "0468ea96932b4f2ea900887489a22483",
       "version_major": 2,
       "version_minor": 0
      },
      "text/plain": [
       "  0%|          | 0/57801600 [00:00<?, ?it/s]"
      ]
     },
     "metadata": {},
     "output_type": "display_data"
    },
    {
     "data": {
      "application/vnd.jupyter.widget-view+json": {
       "model_id": "ee0295febc1b4c3399da7b2ec96ee88c",
       "version_major": 2,
       "version_minor": 0
      },
      "text/plain": [
       "  0%|          | 0/57801600 [00:00<?, ?it/s]"
      ]
     },
     "metadata": {},
     "output_type": "display_data"
    },
    {
     "data": {
      "application/vnd.jupyter.widget-view+json": {
       "model_id": "b6198395640044a39c403bc76968a7e7",
       "version_major": 2,
       "version_minor": 0
      },
      "text/plain": [
       "  0%|          | 0/57801600 [00:00<?, ?it/s]"
      ]
     },
     "metadata": {},
     "output_type": "display_data"
    },
    {
     "data": {
      "application/vnd.jupyter.widget-view+json": {
       "model_id": "9a2ea8e8ef464492873544dacfe5fabc",
       "version_major": 2,
       "version_minor": 0
      },
      "text/plain": [
       "  0%|          | 0/57801600 [00:00<?, ?it/s]"
      ]
     },
     "metadata": {},
     "output_type": "display_data"
    },
    {
     "data": {
      "application/vnd.jupyter.widget-view+json": {
       "model_id": "e2846a64c4324e15a4bb506d2245fa10",
       "version_major": 2,
       "version_minor": 0
      },
      "text/plain": [
       "  0%|          | 0/57801600 [00:00<?, ?it/s]"
      ]
     },
     "metadata": {},
     "output_type": "display_data"
    },
    {
     "data": {
      "application/vnd.jupyter.widget-view+json": {
       "model_id": "83033c6863294879b00b7b3aa85265d6",
       "version_major": 2,
       "version_minor": 0
      },
      "text/plain": [
       "  0%|          | 0/57801600 [00:00<?, ?it/s]"
      ]
     },
     "metadata": {},
     "output_type": "display_data"
    },
    {
     "data": {
      "application/vnd.jupyter.widget-view+json": {
       "model_id": "29a8aeffd6a04cf3bf8f0a990594982c",
       "version_major": 2,
       "version_minor": 0
      },
      "text/plain": [
       "  0%|          | 0/57801600 [00:00<?, ?it/s]"
      ]
     },
     "metadata": {},
     "output_type": "display_data"
    },
    {
     "data": {
      "application/vnd.jupyter.widget-view+json": {
       "model_id": "e897962b3a2c49b08d7905ebca2ad179",
       "version_major": 2,
       "version_minor": 0
      },
      "text/plain": [
       "  0%|          | 0/57801600 [00:00<?, ?it/s]"
      ]
     },
     "metadata": {},
     "output_type": "display_data"
    },
    {
     "data": {
      "application/vnd.jupyter.widget-view+json": {
       "model_id": "e7d3fe132cc44ee194e742eefa44c2e0",
       "version_major": 2,
       "version_minor": 0
      },
      "text/plain": [
       "  0%|          | 0/57801600 [00:00<?, ?it/s]"
      ]
     },
     "metadata": {},
     "output_type": "display_data"
    },
    {
     "data": {
      "application/vnd.jupyter.widget-view+json": {
       "model_id": "c7d8ce669dd745daa632aced6d4dadb1",
       "version_major": 2,
       "version_minor": 0
      },
      "text/plain": [
       "  0%|          | 0/57801600 [00:00<?, ?it/s]"
      ]
     },
     "metadata": {},
     "output_type": "display_data"
    },
    {
     "data": {
      "application/vnd.jupyter.widget-view+json": {
       "model_id": "9fcda52d6676404e9c8455810553f621",
       "version_major": 2,
       "version_minor": 0
      },
      "text/plain": [
       "  0%|          | 0/57801600 [00:00<?, ?it/s]"
      ]
     },
     "metadata": {},
     "output_type": "display_data"
    },
    {
     "data": {
      "application/vnd.jupyter.widget-view+json": {
       "model_id": "ce2db9b1e04f421f831c87fa7fcddc8c",
       "version_major": 2,
       "version_minor": 0
      },
      "text/plain": [
       "  0%|          | 0/57801600 [00:00<?, ?it/s]"
      ]
     },
     "metadata": {},
     "output_type": "display_data"
    },
    {
     "data": {
      "application/vnd.jupyter.widget-view+json": {
       "model_id": "b00e0bcaeaf8405d8db7eea8e49fc0ef",
       "version_major": 2,
       "version_minor": 0
      },
      "text/plain": [
       "  0%|          | 0/57801600 [00:00<?, ?it/s]"
      ]
     },
     "metadata": {},
     "output_type": "display_data"
    },
    {
     "data": {
      "application/vnd.jupyter.widget-view+json": {
       "model_id": "154bc85d534848b9a2cc5756900023a8",
       "version_major": 2,
       "version_minor": 0
      },
      "text/plain": [
       "  0%|          | 0/57801600 [00:00<?, ?it/s]"
      ]
     },
     "metadata": {},
     "output_type": "display_data"
    },
    {
     "data": {
      "application/vnd.jupyter.widget-view+json": {
       "model_id": "e7fabfd7896440039fa8221f973dc3ec",
       "version_major": 2,
       "version_minor": 0
      },
      "text/plain": [
       "  0%|          | 0/57801600 [00:00<?, ?it/s]"
      ]
     },
     "metadata": {},
     "output_type": "display_data"
    },
    {
     "data": {
      "application/vnd.jupyter.widget-view+json": {
       "model_id": "9a6382e1198546888fac22c6d219ea49",
       "version_major": 2,
       "version_minor": 0
      },
      "text/plain": [
       "  0%|          | 0/57801600 [00:00<?, ?it/s]"
      ]
     },
     "metadata": {},
     "output_type": "display_data"
    },
    {
     "data": {
      "application/vnd.jupyter.widget-view+json": {
       "model_id": "dd4ec70476dd4173aff9f060ffa2dcd4",
       "version_major": 2,
       "version_minor": 0
      },
      "text/plain": [
       "  0%|          | 0/57801600 [00:00<?, ?it/s]"
      ]
     },
     "metadata": {},
     "output_type": "display_data"
    },
    {
     "data": {
      "application/vnd.jupyter.widget-view+json": {
       "model_id": "9c592e9808b84f7da370334750f27154",
       "version_major": 2,
       "version_minor": 0
      },
      "text/plain": [
       "  0%|          | 0/57801600 [00:00<?, ?it/s]"
      ]
     },
     "metadata": {},
     "output_type": "display_data"
    },
    {
     "data": {
      "application/vnd.jupyter.widget-view+json": {
       "model_id": "9bab7324b722420f808982e5cdc0823f",
       "version_major": 2,
       "version_minor": 0
      },
      "text/plain": [
       "  0%|          | 0/57801600 [00:00<?, ?it/s]"
      ]
     },
     "metadata": {},
     "output_type": "display_data"
    },
    {
     "data": {
      "application/vnd.jupyter.widget-view+json": {
       "model_id": "d6f3513e6ded4088805094622666486c",
       "version_major": 2,
       "version_minor": 0
      },
      "text/plain": [
       "  0%|          | 0/57801600 [00:00<?, ?it/s]"
      ]
     },
     "metadata": {},
     "output_type": "display_data"
    },
    {
     "data": {
      "application/vnd.jupyter.widget-view+json": {
       "model_id": "ffec8cb7d6c14b4eb478ce04b70da02a",
       "version_major": 2,
       "version_minor": 0
      },
      "text/plain": [
       "  0%|          | 0/57801600 [00:00<?, ?it/s]"
      ]
     },
     "metadata": {},
     "output_type": "display_data"
    },
    {
     "data": {
      "application/vnd.jupyter.widget-view+json": {
       "model_id": "2f164bd793214eb6848d8d708c0111c5",
       "version_major": 2,
       "version_minor": 0
      },
      "text/plain": [
       "  0%|          | 0/57801600 [00:00<?, ?it/s]"
      ]
     },
     "metadata": {},
     "output_type": "display_data"
    },
    {
     "data": {
      "application/vnd.jupyter.widget-view+json": {
       "model_id": "036b31aa3559443f8c19f27bfdefc8ee",
       "version_major": 2,
       "version_minor": 0
      },
      "text/plain": [
       "  0%|          | 0/57801600 [00:00<?, ?it/s]"
      ]
     },
     "metadata": {},
     "output_type": "display_data"
    },
    {
     "data": {
      "application/vnd.jupyter.widget-view+json": {
       "model_id": "12b33e71573146ae96639dcfc721c894",
       "version_major": 2,
       "version_minor": 0
      },
      "text/plain": [
       "  0%|          | 0/57801600 [00:00<?, ?it/s]"
      ]
     },
     "metadata": {},
     "output_type": "display_data"
    },
    {
     "data": {
      "application/vnd.jupyter.widget-view+json": {
       "model_id": "77e0c244684d434e83dce004a7a7c9da",
       "version_major": 2,
       "version_minor": 0
      },
      "text/plain": [
       "  0%|          | 0/57801600 [00:00<?, ?it/s]"
      ]
     },
     "metadata": {},
     "output_type": "display_data"
    },
    {
     "data": {
      "application/vnd.jupyter.widget-view+json": {
       "model_id": "a178988c5a244cad90abc77de9115609",
       "version_major": 2,
       "version_minor": 0
      },
      "text/plain": [
       "  0%|          | 0/57801600 [00:00<?, ?it/s]"
      ]
     },
     "metadata": {},
     "output_type": "display_data"
    },
    {
     "data": {
      "application/vnd.jupyter.widget-view+json": {
       "model_id": "a8037815a4ba4473abcbd5da6cbbf4d2",
       "version_major": 2,
       "version_minor": 0
      },
      "text/plain": [
       "  0%|          | 0/57801600 [00:00<?, ?it/s]"
      ]
     },
     "metadata": {},
     "output_type": "display_data"
    },
    {
     "data": {
      "application/vnd.jupyter.widget-view+json": {
       "model_id": "09edec43e3b141469c5d6e3006580e5e",
       "version_major": 2,
       "version_minor": 0
      },
      "text/plain": [
       "  0%|          | 0/57801600 [00:00<?, ?it/s]"
      ]
     },
     "metadata": {},
     "output_type": "display_data"
    },
    {
     "data": {
      "application/vnd.jupyter.widget-view+json": {
       "model_id": "c2501569c07c402fb1b8128b631cebfb",
       "version_major": 2,
       "version_minor": 0
      },
      "text/plain": [
       "  0%|          | 0/57801600 [00:00<?, ?it/s]"
      ]
     },
     "metadata": {},
     "output_type": "display_data"
    },
    {
     "data": {
      "application/vnd.jupyter.widget-view+json": {
       "model_id": "427c4b5659434d7e90eb317e38e27950",
       "version_major": 2,
       "version_minor": 0
      },
      "text/plain": [
       "  0%|          | 0/57801600 [00:00<?, ?it/s]"
      ]
     },
     "metadata": {},
     "output_type": "display_data"
    },
    {
     "data": {
      "application/vnd.jupyter.widget-view+json": {
       "model_id": "7c94f9cd273a4afbbfc83d2cf05d630a",
       "version_major": 2,
       "version_minor": 0
      },
      "text/plain": [
       "  0%|          | 0/57801600 [00:00<?, ?it/s]"
      ]
     },
     "metadata": {},
     "output_type": "display_data"
    },
    {
     "data": {
      "application/vnd.jupyter.widget-view+json": {
       "model_id": "a770d0d64f0e4278b1f5d5baa73d580b",
       "version_major": 2,
       "version_minor": 0
      },
      "text/plain": [
       "  0%|          | 0/57801600 [00:00<?, ?it/s]"
      ]
     },
     "metadata": {},
     "output_type": "display_data"
    },
    {
     "data": {
      "application/vnd.jupyter.widget-view+json": {
       "model_id": "516b7e61e91f4adcac3d1a48abc2d852",
       "version_major": 2,
       "version_minor": 0
      },
      "text/plain": [
       "  0%|          | 0/57801600 [00:00<?, ?it/s]"
      ]
     },
     "metadata": {},
     "output_type": "display_data"
    },
    {
     "data": {
      "application/vnd.jupyter.widget-view+json": {
       "model_id": "61436d10b3cd447c810ffce71585b38b",
       "version_major": 2,
       "version_minor": 0
      },
      "text/plain": [
       "  0%|          | 0/57801600 [00:00<?, ?it/s]"
      ]
     },
     "metadata": {},
     "output_type": "display_data"
    },
    {
     "data": {
      "application/vnd.jupyter.widget-view+json": {
       "model_id": "1cdbf6f13a974ca49843bd769d8f7ba4",
       "version_major": 2,
       "version_minor": 0
      },
      "text/plain": [
       "  0%|          | 0/57801600 [00:00<?, ?it/s]"
      ]
     },
     "metadata": {},
     "output_type": "display_data"
    },
    {
     "data": {
      "application/vnd.jupyter.widget-view+json": {
       "model_id": "6dc652cffb02438c806043e25739ce61",
       "version_major": 2,
       "version_minor": 0
      },
      "text/plain": [
       "  0%|          | 0/57801600 [00:00<?, ?it/s]"
      ]
     },
     "metadata": {},
     "output_type": "display_data"
    },
    {
     "data": {
      "application/vnd.jupyter.widget-view+json": {
       "model_id": "27d828eeb86d4ab59febf3bfd6aef82d",
       "version_major": 2,
       "version_minor": 0
      },
      "text/plain": [
       "  0%|          | 0/57801600 [00:00<?, ?it/s]"
      ]
     },
     "metadata": {},
     "output_type": "display_data"
    },
    {
     "data": {
      "application/vnd.jupyter.widget-view+json": {
       "model_id": "4772454e4f634629810c80b7ab50b26f",
       "version_major": 2,
       "version_minor": 0
      },
      "text/plain": [
       "  0%|          | 0/57801600 [00:00<?, ?it/s]"
      ]
     },
     "metadata": {},
     "output_type": "display_data"
    },
    {
     "data": {
      "application/vnd.jupyter.widget-view+json": {
       "model_id": "65da921ba9614896922df98c88df28aa",
       "version_major": 2,
       "version_minor": 0
      },
      "text/plain": [
       "  0%|          | 0/57801600 [00:00<?, ?it/s]"
      ]
     },
     "metadata": {},
     "output_type": "display_data"
    },
    {
     "data": {
      "application/vnd.jupyter.widget-view+json": {
       "model_id": "8b12e682109f4d23a450eb37aa2e8636",
       "version_major": 2,
       "version_minor": 0
      },
      "text/plain": [
       "  0%|          | 0/57801600 [00:00<?, ?it/s]"
      ]
     },
     "metadata": {},
     "output_type": "display_data"
    },
    {
     "data": {
      "application/vnd.jupyter.widget-view+json": {
       "model_id": "60f29a988be14761bb07bbf137c64460",
       "version_major": 2,
       "version_minor": 0
      },
      "text/plain": [
       "  0%|          | 0/57801600 [00:00<?, ?it/s]"
      ]
     },
     "metadata": {},
     "output_type": "display_data"
    },
    {
     "data": {
      "application/vnd.jupyter.widget-view+json": {
       "model_id": "2951632beba941d2b12c3533faa6a78b",
       "version_major": 2,
       "version_minor": 0
      },
      "text/plain": [
       "  0%|          | 0/57801600 [00:00<?, ?it/s]"
      ]
     },
     "metadata": {},
     "output_type": "display_data"
    },
    {
     "data": {
      "application/vnd.jupyter.widget-view+json": {
       "model_id": "ea9b888b0b6246818f7f1c59ddf44759",
       "version_major": 2,
       "version_minor": 0
      },
      "text/plain": [
       "  0%|          | 0/57801600 [00:00<?, ?it/s]"
      ]
     },
     "metadata": {},
     "output_type": "display_data"
    },
    {
     "data": {
      "application/vnd.jupyter.widget-view+json": {
       "model_id": "e4b1e52ef17a452c874ae705adaadbbd",
       "version_major": 2,
       "version_minor": 0
      },
      "text/plain": [
       "  0%|          | 0/57801600 [00:00<?, ?it/s]"
      ]
     },
     "metadata": {},
     "output_type": "display_data"
    },
    {
     "data": {
      "application/vnd.jupyter.widget-view+json": {
       "model_id": "48802601104d43be9ab5d411e5003a38",
       "version_major": 2,
       "version_minor": 0
      },
      "text/plain": [
       "  0%|          | 0/57801600 [00:00<?, ?it/s]"
      ]
     },
     "metadata": {},
     "output_type": "display_data"
    },
    {
     "data": {
      "application/vnd.jupyter.widget-view+json": {
       "model_id": "40e8f9140a534985bcb2f2e4826a885c",
       "version_major": 2,
       "version_minor": 0
      },
      "text/plain": [
       "  0%|          | 0/57801600 [00:00<?, ?it/s]"
      ]
     },
     "metadata": {},
     "output_type": "display_data"
    },
    {
     "data": {
      "application/vnd.jupyter.widget-view+json": {
       "model_id": "d584aed8ac1a48acb35f949a986d389c",
       "version_major": 2,
       "version_minor": 0
      },
      "text/plain": [
       "  0%|          | 0/57801600 [00:00<?, ?it/s]"
      ]
     },
     "metadata": {},
     "output_type": "display_data"
    },
    {
     "data": {
      "application/vnd.jupyter.widget-view+json": {
       "model_id": "a8c77fda70794dd39f74895ce20c50b7",
       "version_major": 2,
       "version_minor": 0
      },
      "text/plain": [
       "  0%|          | 0/57801600 [00:00<?, ?it/s]"
      ]
     },
     "metadata": {},
     "output_type": "display_data"
    },
    {
     "data": {
      "application/vnd.jupyter.widget-view+json": {
       "model_id": "5d316874d4ca4a8a942bfd640b001b3b",
       "version_major": 2,
       "version_minor": 0
      },
      "text/plain": [
       "  0%|          | 0/57801600 [00:00<?, ?it/s]"
      ]
     },
     "metadata": {},
     "output_type": "display_data"
    },
    {
     "data": {
      "application/vnd.jupyter.widget-view+json": {
       "model_id": "00b83c2d2927490ea1690e79a0451aef",
       "version_major": 2,
       "version_minor": 0
      },
      "text/plain": [
       "  0%|          | 0/57801600 [00:00<?, ?it/s]"
      ]
     },
     "metadata": {},
     "output_type": "display_data"
    },
    {
     "data": {
      "application/vnd.jupyter.widget-view+json": {
       "model_id": "9c7197a79dfd4351b6071c69960a62c6",
       "version_major": 2,
       "version_minor": 0
      },
      "text/plain": [
       "  0%|          | 0/57801600 [00:00<?, ?it/s]"
      ]
     },
     "metadata": {},
     "output_type": "display_data"
    },
    {
     "data": {
      "application/vnd.jupyter.widget-view+json": {
       "model_id": "332f3452707a402884beddc562a618d3",
       "version_major": 2,
       "version_minor": 0
      },
      "text/plain": [
       "  0%|          | 0/57801600 [00:00<?, ?it/s]"
      ]
     },
     "metadata": {},
     "output_type": "display_data"
    },
    {
     "data": {
      "application/vnd.jupyter.widget-view+json": {
       "model_id": "52cea81c278b4e9f85e5c24040a14a36",
       "version_major": 2,
       "version_minor": 0
      },
      "text/plain": [
       "  0%|          | 0/57801600 [00:00<?, ?it/s]"
      ]
     },
     "metadata": {},
     "output_type": "display_data"
    },
    {
     "data": {
      "application/vnd.jupyter.widget-view+json": {
       "model_id": "6d1eb0a709ba4326987b664fb769bdc2",
       "version_major": 2,
       "version_minor": 0
      },
      "text/plain": [
       "  0%|          | 0/57801600 [00:00<?, ?it/s]"
      ]
     },
     "metadata": {},
     "output_type": "display_data"
    },
    {
     "data": {
      "application/vnd.jupyter.widget-view+json": {
       "model_id": "f835b43359ef43ed82b32acd56f04ae7",
       "version_major": 2,
       "version_minor": 0
      },
      "text/plain": [
       "  0%|          | 0/57801600 [00:00<?, ?it/s]"
      ]
     },
     "metadata": {},
     "output_type": "display_data"
    },
    {
     "data": {
      "application/vnd.jupyter.widget-view+json": {
       "model_id": "6c6bd7211bef49f4b43b00038cef3e68",
       "version_major": 2,
       "version_minor": 0
      },
      "text/plain": [
       "  0%|          | 0/57801600 [00:00<?, ?it/s]"
      ]
     },
     "metadata": {},
     "output_type": "display_data"
    },
    {
     "data": {
      "application/vnd.jupyter.widget-view+json": {
       "model_id": "c6f94ced39c248b0adcd582fd32318f5",
       "version_major": 2,
       "version_minor": 0
      },
      "text/plain": [
       "  0%|          | 0/57801600 [00:00<?, ?it/s]"
      ]
     },
     "metadata": {},
     "output_type": "display_data"
    },
    {
     "data": {
      "application/vnd.jupyter.widget-view+json": {
       "model_id": "017aebc22fcf4cc489159d1e250a10fd",
       "version_major": 2,
       "version_minor": 0
      },
      "text/plain": [
       "  0%|          | 0/57801600 [00:00<?, ?it/s]"
      ]
     },
     "metadata": {},
     "output_type": "display_data"
    },
    {
     "data": {
      "application/vnd.jupyter.widget-view+json": {
       "model_id": "85b320d4d5214e12af2460cd221e02b1",
       "version_major": 2,
       "version_minor": 0
      },
      "text/plain": [
       "  0%|          | 0/57801600 [00:00<?, ?it/s]"
      ]
     },
     "metadata": {},
     "output_type": "display_data"
    },
    {
     "data": {
      "application/vnd.jupyter.widget-view+json": {
       "model_id": "ae28ad7a0cac49e8956efe19aaed57f7",
       "version_major": 2,
       "version_minor": 0
      },
      "text/plain": [
       "  0%|          | 0/57801600 [00:00<?, ?it/s]"
      ]
     },
     "metadata": {},
     "output_type": "display_data"
    },
    {
     "data": {
      "application/vnd.jupyter.widget-view+json": {
       "model_id": "60f63ec4dbf9430792a7eaeef31a4414",
       "version_major": 2,
       "version_minor": 0
      },
      "text/plain": [
       "  0%|          | 0/57801600 [00:00<?, ?it/s]"
      ]
     },
     "metadata": {},
     "output_type": "display_data"
    },
    {
     "data": {
      "application/vnd.jupyter.widget-view+json": {
       "model_id": "ace74492e2324a12be3d66910c8c5875",
       "version_major": 2,
       "version_minor": 0
      },
      "text/plain": [
       "  0%|          | 0/57801600 [00:00<?, ?it/s]"
      ]
     },
     "metadata": {},
     "output_type": "display_data"
    },
    {
     "data": {
      "application/vnd.jupyter.widget-view+json": {
       "model_id": "0956f4b1a484437c97b91f70c98cefff",
       "version_major": 2,
       "version_minor": 0
      },
      "text/plain": [
       "  0%|          | 0/57801600 [00:00<?, ?it/s]"
      ]
     },
     "metadata": {},
     "output_type": "display_data"
    },
    {
     "data": {
      "application/vnd.jupyter.widget-view+json": {
       "model_id": "0963cb5c7f414c81bcd5713901a0d094",
       "version_major": 2,
       "version_minor": 0
      },
      "text/plain": [
       "  0%|          | 0/57801600 [00:00<?, ?it/s]"
      ]
     },
     "metadata": {},
     "output_type": "display_data"
    },
    {
     "data": {
      "application/vnd.jupyter.widget-view+json": {
       "model_id": "873d056e12e6436d958c0a94e06c2a35",
       "version_major": 2,
       "version_minor": 0
      },
      "text/plain": [
       "  0%|          | 0/57801600 [00:00<?, ?it/s]"
      ]
     },
     "metadata": {},
     "output_type": "display_data"
    },
    {
     "data": {
      "application/vnd.jupyter.widget-view+json": {
       "model_id": "517c912c6f0f4a209e2c66f0a4168886",
       "version_major": 2,
       "version_minor": 0
      },
      "text/plain": [
       "  0%|          | 0/57801600 [00:00<?, ?it/s]"
      ]
     },
     "metadata": {},
     "output_type": "display_data"
    }
   ],
   "source": [
    "from pathlib import Path\n",
    "from tradeexecutor.backtest.grid_search import perform_grid_search, prepare_grid_combinations\n",
    "\n",
    "# This is the path where we keep the result files around\n",
    "storage_folder = Path(f\"/tmp/{strategy_path.stem}-grid-search\")\n",
    "\n",
    "parameters = {\n",
    "    \"cycle_duration_days\": [6, 7, 8],\n",
    "    \"momentum_lookback\": [6, 7, 8],\n",
    "    \"take_profit\": [1.06, 1.07, 1.08, 1.09, 1.10],\n",
    "    \"positive_mometum_threshold\": [0.0001, 0.025],\n",
    "    \"negative_mometum_threshold\": [-0.06],\n",
    "}\n",
    "combinations = prepare_grid_combinations(parameters, storage_folder, clear_cached_results=True)\n",
    "\n",
    "grid_search_results = perform_grid_search(\n",
    "    python_mod.grid_search_worker,\n",
    "    universe,\n",
    "    combinations,\n",
    "    max_workers=4,\n",
    ")\n"
   ]
  },
  {
   "attachments": {},
   "cell_type": "markdown",
   "metadata": {},
   "source": [
    "## Examine grid search results\n"
   ]
  },
  {
   "cell_type": "code",
   "execution_count": 6,
   "metadata": {
    "ExecuteTime": {
     "end_time": "2023-11-06T11:24:00.246393Z",
     "start_time": "2023-11-06T11:24:00.242327Z"
    },
    "collapsed": false,
    "jupyter": {
     "outputs_hidden": false
    }
   },
   "outputs": [
    {
     "data": {
      "text/html": [
       "<style type=\"text/css\">\n",
       "#T_54942_row0_col1, #T_54942_row11_col3, #T_54942_row16_col1, #T_54942_row23_col6 {\n",
       "  background-color: #c6cce3;\n",
       "  color: #000000;\n",
       "}\n",
       "#T_54942_row0_col2, #T_54942_row1_col2, #T_54942_row2_col1, #T_54942_row17_col2, #T_54942_row32_col4, #T_54942_row35_col2, #T_54942_row47_col2, #T_54942_row65_col2, #T_54942_row111_col2, #T_54942_row112_col2, #T_54942_row115_col3 {\n",
       "  background-color: #4295c3;\n",
       "  color: #f1f1f1;\n",
       "}\n",
       "#T_54942_row0_col3, #T_54942_row20_col4, #T_54942_row34_col3, #T_54942_row59_col1, #T_54942_row93_col3 {\n",
       "  background-color: #8fb4d6;\n",
       "  color: #000000;\n",
       "}\n",
       "#T_54942_row0_col4, #T_54942_row69_col4, #T_54942_row95_col4, #T_54942_row114_col5 {\n",
       "  background-color: #94b6d7;\n",
       "  color: #000000;\n",
       "}\n",
       "#T_54942_row0_col5, #T_54942_row8_col2, #T_54942_row46_col4, #T_54942_row87_col6, #T_54942_row110_col6 {\n",
       "  background-color: #dbdaeb;\n",
       "  color: #000000;\n",
       "}\n",
       "#T_54942_row0_col6, #T_54942_row1_col6, #T_54942_row2_col6, #T_54942_row3_col6, #T_54942_row4_col6, #T_54942_row6_col6, #T_54942_row7_col6, #T_54942_row8_col6, #T_54942_row9_col6, #T_54942_row10_col6, #T_54942_row14_col6, #T_54942_row20_col6 {\n",
       "  background-color: #046096;\n",
       "  color: #f1f1f1;\n",
       "}\n",
       "#T_54942_row1_col1 {\n",
       "  background-color: #acc0dd;\n",
       "  color: #000000;\n",
       "}\n",
       "#T_54942_row1_col3, #T_54942_row3_col3, #T_54942_row108_col5 {\n",
       "  background-color: #67a4cc;\n",
       "  color: #f1f1f1;\n",
       "}\n",
       "#T_54942_row1_col4, #T_54942_row48_col4, #T_54942_row60_col4, #T_54942_row108_col4 {\n",
       "  background-color: #6ba5cd;\n",
       "  color: #f1f1f1;\n",
       "}\n",
       "#T_54942_row1_col5, #T_54942_row17_col6, #T_54942_row35_col6, #T_54942_row42_col6, #T_54942_row54_col6, #T_54942_row58_col6, #T_54942_row75_col6, #T_54942_row92_col6 {\n",
       "  background-color: #c4cbe3;\n",
       "  color: #000000;\n",
       "}\n",
       "#T_54942_row2_col2, #T_54942_row5_col2, #T_54942_row24_col2, #T_54942_row25_col2, #T_54942_row26_col2, #T_54942_row27_col1, #T_54942_row27_col4, #T_54942_row48_col2, #T_54942_row49_col2, #T_54942_row50_col2, #T_54942_row64_col1, #T_54942_row72_col2, #T_54942_row73_col2, #T_54942_row74_col2, #T_54942_row96_col2, #T_54942_row97_col2, #T_54942_row98_col2 {\n",
       "  background-color: #0567a2;\n",
       "  color: #f1f1f1;\n",
       "}\n",
       "#T_54942_row2_col3, #T_54942_row28_col3, #T_54942_row97_col3, #T_54942_row101_col1, #T_54942_row113_col1 {\n",
       "  background-color: #056caa;\n",
       "  color: #f1f1f1;\n",
       "}\n",
       "#T_54942_row2_col4, #T_54942_row106_col5, #T_54942_row116_col1 {\n",
       "  background-color: #056ba9;\n",
       "  color: #f1f1f1;\n",
       "}\n",
       "#T_54942_row2_col5, #T_54942_row34_col1, #T_54942_row54_col5 {\n",
       "  background-color: #88b1d4;\n",
       "  color: #000000;\n",
       "}\n",
       "#T_54942_row3_col1 {\n",
       "  background-color: #8cb3d5;\n",
       "  color: #000000;\n",
       "}\n",
       "#T_54942_row3_col2, #T_54942_row4_col2, #T_54942_row29_col2, #T_54942_row51_col2, #T_54942_row52_col2, #T_54942_row75_col2, #T_54942_row99_col2, #T_54942_row100_col2 {\n",
       "  background-color: #034a74;\n",
       "  color: #f1f1f1;\n",
       "}\n",
       "#T_54942_row3_col4, #T_54942_row24_col5 {\n",
       "  background-color: #86b0d3;\n",
       "  color: #000000;\n",
       "}\n",
       "#T_54942_row3_col5, #T_54942_row82_col4, #T_54942_row90_col4 {\n",
       "  background-color: #c9cee4;\n",
       "  color: #000000;\n",
       "}\n",
       "#T_54942_row4_col1 {\n",
       "  background-color: #9ebad9;\n",
       "  color: #000000;\n",
       "}\n",
       "#T_54942_row4_col3, #T_54942_row35_col1, #T_54942_row84_col5, #T_54942_row105_col3, #T_54942_row107_col3 {\n",
       "  background-color: #8bb2d4;\n",
       "  color: #000000;\n",
       "}\n",
       "#T_54942_row4_col4, #T_54942_row17_col1, #T_54942_row55_col1, #T_54942_row102_col1, #T_54942_row107_col4 {\n",
       "  background-color: #a2bcda;\n",
       "  color: #000000;\n",
       "}\n",
       "#T_54942_row4_col5, #T_54942_row20_col1, #T_54942_row81_col4 {\n",
       "  background-color: #b3c3de;\n",
       "  color: #000000;\n",
       "}\n",
       "#T_54942_row5_col1 {\n",
       "  background-color: #6fa7ce;\n",
       "  color: #f1f1f1;\n",
       "}\n",
       "#T_54942_row5_col3, #T_54942_row39_col3, #T_54942_row75_col4, #T_54942_row80_col3, #T_54942_row96_col3, #T_54942_row111_col4 {\n",
       "  background-color: #358fc0;\n",
       "  color: #f1f1f1;\n",
       "}\n",
       "#T_54942_row5_col4, #T_54942_row33_col5, #T_54942_row41_col3, #T_54942_row72_col1, #T_54942_row72_col3, #T_54942_row112_col3 {\n",
       "  background-color: #4897c4;\n",
       "  color: #f1f1f1;\n",
       "}\n",
       "#T_54942_row5_col5, #T_54942_row36_col5, #T_54942_row102_col4 {\n",
       "  background-color: #cdd0e5;\n",
       "  color: #000000;\n",
       "}\n",
       "#T_54942_row5_col6, #T_54942_row11_col6, #T_54942_row88_col5, #T_54942_row105_col1, #T_54942_row117_col5 {\n",
       "  background-color: #549cc7;\n",
       "  color: #f1f1f1;\n",
       "}\n",
       "#T_54942_row6_col1, #T_54942_row18_col4, #T_54942_row42_col4 {\n",
       "  background-color: #fdf5fa;\n",
       "  color: #000000;\n",
       "}\n",
       "#T_54942_row6_col2, #T_54942_row6_col4, #T_54942_row7_col2, #T_54942_row18_col1, #T_54942_row18_col3, #T_54942_row18_col5, #T_54942_row107_col6 {\n",
       "  background-color: #fff7fb;\n",
       "  color: #000000;\n",
       "  background-color: pink;\n",
       "}\n",
       "#T_54942_row6_col3, #T_54942_row101_col6 {\n",
       "  background-color: #fcf4fa;\n",
       "  color: #000000;\n",
       "}\n",
       "#T_54942_row6_col5, #T_54942_row10_col1, #T_54942_row53_col6, #T_54942_row82_col6, #T_54942_row100_col6, #T_54942_row109_col6, #T_54942_row115_col6 {\n",
       "  background-color: #e7e3f0;\n",
       "  color: #000000;\n",
       "}\n",
       "#T_54942_row7_col1, #T_54942_row78_col6, #T_54942_row96_col6, #T_54942_row111_col6, #T_54942_row112_col6, #T_54942_row117_col6, #T_54942_row118_col6 {\n",
       "  background-color: #eee9f3;\n",
       "  color: #000000;\n",
       "}\n",
       "#T_54942_row7_col3, #T_54942_row12_col3, #T_54942_row12_col4, #T_54942_row30_col4, #T_54942_row84_col6 {\n",
       "  background-color: #e6e2ef;\n",
       "  color: #000000;\n",
       "}\n",
       "#T_54942_row7_col4 {\n",
       "  background-color: #ece7f2;\n",
       "  color: #000000;\n",
       "}\n",
       "#T_54942_row7_col5, #T_54942_row79_col6, #T_54942_row86_col6, #T_54942_row97_col6, #T_54942_row104_col6 {\n",
       "  background-color: #d2d2e7;\n",
       "  color: #000000;\n",
       "}\n",
       "#T_54942_row8_col1, #T_54942_row15_col3, #T_54942_row45_col3, #T_54942_row102_col3 {\n",
       "  background-color: #b5c4df;\n",
       "  color: #000000;\n",
       "}\n",
       "#T_54942_row8_col3, #T_54942_row20_col3, #T_54942_row71_col5, #T_54942_row79_col3, #T_54942_row119_col5 {\n",
       "  background-color: #97b7d7;\n",
       "  color: #000000;\n",
       "}\n",
       "#T_54942_row8_col4, #T_54942_row45_col1, #T_54942_row114_col3, #T_54942_row114_col4 {\n",
       "  background-color: #a4bcda;\n",
       "  color: #000000;\n",
       "}\n",
       "#T_54942_row8_col5 {\n",
       "  background-color: #96b6d7;\n",
       "  color: #000000;\n",
       "}\n",
       "#T_54942_row9_col1, #T_54942_row9_col3, #T_54942_row66_col3 {\n",
       "  background-color: #dfddec;\n",
       "  color: #000000;\n",
       "}\n",
       "#T_54942_row9_col2, #T_54942_row11_col2, #T_54942_row18_col2, #T_54942_row19_col2, #T_54942_row20_col2, #T_54942_row21_col2, #T_54942_row37_col5, #T_54942_row42_col2, #T_54942_row43_col2, #T_54942_row44_col2, #T_54942_row57_col2, #T_54942_row66_col2, #T_54942_row66_col5, #T_54942_row67_col2, #T_54942_row67_col3, #T_54942_row68_col2, #T_54942_row69_col2, #T_54942_row71_col3, #T_54942_row71_col4, #T_54942_row90_col2, #T_54942_row91_col2, #T_54942_row92_col2, #T_54942_row114_col2, #T_54942_row115_col2, #T_54942_row116_col2, #T_54942_row118_col3 {\n",
       "  background-color: #9cb9d9;\n",
       "  color: #000000;\n",
       "}\n",
       "#T_54942_row9_col4, #T_54942_row10_col3, #T_54942_row12_col1 {\n",
       "  background-color: #eee8f3;\n",
       "  color: #000000;\n",
       "}\n",
       "#T_54942_row9_col5 {\n",
       "  background-color: #d4d4e8;\n",
       "  color: #000000;\n",
       "}\n",
       "#T_54942_row10_col2, #T_54942_row12_col2, #T_54942_row13_col2, #T_54942_row14_col2, #T_54942_row15_col2, #T_54942_row16_col2, #T_54942_row22_col2, #T_54942_row24_col1, #T_54942_row32_col2, #T_54942_row33_col2, #T_54942_row34_col2, #T_54942_row36_col2, #T_54942_row37_col2, #T_54942_row37_col4, #T_54942_row38_col2, #T_54942_row45_col2, #T_54942_row46_col2, #T_54942_row48_col6, #T_54942_row54_col2, #T_54942_row55_col2, #T_54942_row56_col2, #T_54942_row58_col1, #T_54942_row58_col2, #T_54942_row59_col5, #T_54942_row60_col2, #T_54942_row61_col2, #T_54942_row62_col2, #T_54942_row63_col2, #T_54942_row70_col2, #T_54942_row78_col2, #T_54942_row79_col2, #T_54942_row80_col2, #T_54942_row81_col2, #T_54942_row82_col2, #T_54942_row84_col2, #T_54942_row85_col2, #T_54942_row86_col2, #T_54942_row88_col2, #T_54942_row93_col2, #T_54942_row94_col1, #T_54942_row94_col2, #T_54942_row102_col2, #T_54942_row103_col2, #T_54942_row104_col2, #T_54942_row108_col2, #T_54942_row109_col2, #T_54942_row110_col2 {\n",
       "  background-color: #81aed2;\n",
       "  color: #f1f1f1;\n",
       "}\n",
       "#T_54942_row10_col4, #T_54942_row12_col5, #T_54942_row77_col6 {\n",
       "  background-color: #f7f0f7;\n",
       "  color: #000000;\n",
       "}\n",
       "#T_54942_row10_col5, #T_54942_row31_col1 {\n",
       "  background-color: #bfc9e1;\n",
       "  color: #000000;\n",
       "}\n",
       "#T_54942_row11_col1, #T_54942_row16_col5 {\n",
       "  background-color: #d1d2e6;\n",
       "  color: #000000;\n",
       "}\n",
       "#T_54942_row11_col4, #T_54942_row11_col5, #T_54942_row22_col5 {\n",
       "  background-color: #d6d6e9;\n",
       "  color: #000000;\n",
       "}\n",
       "#T_54942_row12_col6, #T_54942_row19_col6, #T_54942_row29_col3, #T_54942_row51_col1, #T_54942_row63_col3, #T_54942_row80_col5, #T_54942_row86_col5 {\n",
       "  background-color: #04629a;\n",
       "  color: #f1f1f1;\n",
       "}\n",
       "#T_54942_row13_col1, #T_54942_row41_col6, #T_54942_row60_col6, #T_54942_row64_col6, #T_54942_row66_col6, #T_54942_row70_col6, #T_54942_row91_col6 {\n",
       "  background-color: #d2d3e7;\n",
       "  color: #000000;\n",
       "}\n",
       "#T_54942_row13_col3, #T_54942_row13_col4, #T_54942_row36_col3, #T_54942_row94_col4 {\n",
       "  background-color: #bcc7e1;\n",
       "  color: #000000;\n",
       "}\n",
       "#T_54942_row13_col5, #T_54942_row19_col3, #T_54942_row42_col5 {\n",
       "  background-color: #e3e0ee;\n",
       "  color: #000000;\n",
       "}\n",
       "#T_54942_row13_col6, #T_54942_row110_col4, #T_54942_row116_col5 {\n",
       "  background-color: #046198;\n",
       "  color: #f1f1f1;\n",
       "}\n",
       "#T_54942_row14_col1, #T_54942_row79_col1, #T_54942_row91_col4, #T_54942_row119_col4 {\n",
       "  background-color: #80aed2;\n",
       "  color: #f1f1f1;\n",
       "}\n",
       "#T_54942_row14_col3, #T_54942_row14_col4, #T_54942_row40_col3, #T_54942_row41_col4, #T_54942_row48_col3, #T_54942_row80_col4, #T_54942_row96_col4, #T_54942_row118_col5 {\n",
       "  background-color: #589ec8;\n",
       "  color: #f1f1f1;\n",
       "}\n",
       "#T_54942_row14_col5 {\n",
       "  background-color: #a9bfdc;\n",
       "  color: #000000;\n",
       "}\n",
       "#T_54942_row15_col1, #T_54942_row29_col6, #T_54942_row47_col3, #T_54942_row73_col6, #T_54942_row98_col6 {\n",
       "  background-color: #b9c6e0;\n",
       "  color: #000000;\n",
       "}\n",
       "#T_54942_row15_col4 {\n",
       "  background-color: #c8cde4;\n",
       "  color: #000000;\n",
       "}\n",
       "#T_54942_row15_col5, #T_54942_row17_col5 {\n",
       "  background-color: #e4e1ef;\n",
       "  color: #000000;\n",
       "}\n",
       "#T_54942_row15_col6, #T_54942_row16_col6, #T_54942_row50_col5 {\n",
       "  background-color: #046299;\n",
       "  color: #f1f1f1;\n",
       "}\n",
       "#T_54942_row16_col3, #T_54942_row46_col3, #T_54942_row78_col3 {\n",
       "  background-color: #ced0e6;\n",
       "  color: #000000;\n",
       "}\n",
       "#T_54942_row16_col4, #T_54942_row43_col1 {\n",
       "  background-color: #d9d8ea;\n",
       "  color: #000000;\n",
       "}\n",
       "#T_54942_row17_col3, #T_54942_row67_col1, #T_54942_row81_col3, #T_54942_row83_col3, #T_54942_row95_col3 {\n",
       "  background-color: #93b5d6;\n",
       "  color: #000000;\n",
       "}\n",
       "#T_54942_row17_col4, #T_54942_row30_col5, #T_54942_row58_col3, #T_54942_row59_col3, #T_54942_row93_col4 {\n",
       "  background-color: #9fbad9;\n",
       "  color: #000000;\n",
       "}\n",
       "#T_54942_row18_col6, #T_54942_row35_col4, #T_54942_row43_col6, #T_54942_row46_col6, #T_54942_row57_col4, #T_54942_row67_col4, #T_54942_row68_col6, #T_54942_row114_col1 {\n",
       "  background-color: #99b8d8;\n",
       "  color: #000000;\n",
       "}\n",
       "#T_54942_row19_col1 {\n",
       "  background-color: #ede8f3;\n",
       "  color: #000000;\n",
       "}\n",
       "#T_54942_row19_col4, #T_54942_row30_col1, #T_54942_row90_col6 {\n",
       "  background-color: #e1dfed;\n",
       "  color: #000000;\n",
       "}\n",
       "#T_54942_row19_col5 {\n",
       "  background-color: #ede7f2;\n",
       "  color: #000000;\n",
       "}\n",
       "#T_54942_row20_col5, #T_54942_row31_col3, #T_54942_row69_col6 {\n",
       "  background-color: #afc1dd;\n",
       "  color: #000000;\n",
       "}\n",
       "#T_54942_row21_col1 {\n",
       "  background-color: #e2dfee;\n",
       "  color: #000000;\n",
       "}\n",
       "#T_54942_row21_col3, #T_54942_row22_col1, #T_54942_row23_col5 {\n",
       "  background-color: #eae6f1;\n",
       "  color: #000000;\n",
       "}\n",
       "#T_54942_row21_col4, #T_54942_row65_col6, #T_54942_row108_col6, #T_54942_row114_col6 {\n",
       "  background-color: #f0eaf4;\n",
       "  color: #000000;\n",
       "}\n",
       "#T_54942_row21_col5 {\n",
       "  background-color: #ebe6f2;\n",
       "  color: #000000;\n",
       "}\n",
       "#T_54942_row21_col6 {\n",
       "  background-color: #0568a3;\n",
       "  color: #f1f1f1;\n",
       "}\n",
       "#T_54942_row22_col3, #T_54942_row59_col6 {\n",
       "  background-color: #f4eef6;\n",
       "  color: #000000;\n",
       "}\n",
       "#T_54942_row22_col4 {\n",
       "  background-color: #f9f2f8;\n",
       "  color: #000000;\n",
       "}\n",
       "#T_54942_row22_col6, #T_54942_row87_col4, #T_54942_row117_col1 {\n",
       "  background-color: #3b92c1;\n",
       "  color: #f1f1f1;\n",
       "}\n",
       "#T_54942_row23_col1, #T_54942_row43_col3, #T_54942_row54_col1 {\n",
       "  background-color: #d8d7e9;\n",
       "  color: #000000;\n",
       "}\n",
       "#T_54942_row23_col2, #T_54942_row39_col2, #T_54942_row40_col2, #T_54942_row46_col5, #T_54942_row59_col2, #T_54942_row64_col2, #T_54942_row71_col2, #T_54942_row78_col5, #T_54942_row83_col2, #T_54942_row87_col2, #T_54942_row89_col2, #T_54942_row93_col1, #T_54942_row95_col2, #T_54942_row100_col4, #T_54942_row105_col2, #T_54942_row106_col2, #T_54942_row107_col1, #T_54942_row107_col2, #T_54942_row113_col2, #T_54942_row117_col2, #T_54942_row118_col2, #T_54942_row119_col2 {\n",
       "  background-color: #63a2cb;\n",
       "  color: #f1f1f1;\n",
       "}\n",
       "#T_54942_row23_col3, #T_54942_row30_col3, #T_54942_row43_col4, #T_54942_row54_col3, #T_54942_row78_col4 {\n",
       "  background-color: #dcdaeb;\n",
       "  color: #000000;\n",
       "}\n",
       "#T_54942_row23_col4, #T_54942_row81_col6, #T_54942_row99_col6 {\n",
       "  background-color: #e0deed;\n",
       "  color: #000000;\n",
       "}\n",
       "#T_54942_row24_col3, #T_54942_row45_col6, #T_54942_row55_col6, #T_54942_row74_col6, #T_54942_row76_col3, #T_54942_row81_col5, #T_54942_row99_col4, #T_54942_row100_col3, #T_54942_row107_col5 {\n",
       "  background-color: #3f93c2;\n",
       "  color: #f1f1f1;\n",
       "}\n",
       "#T_54942_row24_col4, #T_54942_row25_col1, #T_54942_row32_col1, #T_54942_row56_col4, #T_54942_row103_col1 {\n",
       "  background-color: #4c99c5;\n",
       "  color: #f1f1f1;\n",
       "}\n",
       "#T_54942_row24_col6 {\n",
       "  background-color: #023e62;\n",
       "  color: #f1f1f1;\n",
       "}\n",
       "#T_54942_row25_col3, #T_54942_row61_col3, #T_54942_row77_col3 {\n",
       "  background-color: #1077b4;\n",
       "  color: #f1f1f1;\n",
       "}\n",
       "#T_54942_row25_col4, #T_54942_row53_col1, #T_54942_row61_col1 {\n",
       "  background-color: #167bb6;\n",
       "  color: #f1f1f1;\n",
       "}\n",
       "#T_54942_row25_col5 {\n",
       "  background-color: #529bc7;\n",
       "  color: #f1f1f1;\n",
       "}\n",
       "#T_54942_row25_col6, #T_54942_row27_col6, #T_54942_row28_col6, #T_54942_row30_col6, #T_54942_row38_col6 {\n",
       "  background-color: #023c5f;\n",
       "  color: #f1f1f1;\n",
       "}\n",
       "#T_54942_row26_col1, #T_54942_row103_col5, #T_54942_row110_col5 {\n",
       "  background-color: #045687;\n",
       "  color: #f1f1f1;\n",
       "}\n",
       "#T_54942_row26_col3, #T_54942_row26_col4, #T_54942_row27_col2, #T_54942_row28_col2, #T_54942_row32_col6, #T_54942_row62_col1, #T_54942_row98_col5 {\n",
       "  background-color: #023858;\n",
       "  color: #f1f1f1;\n",
       "  background-color: darkgreen;\n",
       "}\n",
       "#T_54942_row26_col5, #T_54942_row65_col1, #T_54942_row77_col1 {\n",
       "  background-color: #056fae;\n",
       "  color: #f1f1f1;\n",
       "}\n",
       "#T_54942_row26_col6, #T_54942_row31_col6, #T_54942_row33_col6, #T_54942_row34_col6, #T_54942_row62_col4 {\n",
       "  background-color: #02395a;\n",
       "  color: #f1f1f1;\n",
       "}\n",
       "#T_54942_row27_col3, #T_54942_row86_col4, #T_54942_row110_col3 {\n",
       "  background-color: #045d92;\n",
       "  color: #f1f1f1;\n",
       "}\n",
       "#T_54942_row27_col5, #T_54942_row52_col4, #T_54942_row85_col5 {\n",
       "  background-color: #348ebf;\n",
       "  color: #f1f1f1;\n",
       "}\n",
       "#T_54942_row28_col1, #T_54942_row51_col6 {\n",
       "  background-color: #0771b1;\n",
       "  color: #f1f1f1;\n",
       "}\n",
       "#T_54942_row28_col4, #T_54942_row64_col3, #T_54942_row73_col3, #T_54942_row75_col3 {\n",
       "  background-color: #1379b5;\n",
       "  color: #f1f1f1;\n",
       "}\n",
       "#T_54942_row28_col5, #T_54942_row52_col3, #T_54942_row64_col4, #T_54942_row68_col1, #T_54942_row99_col3 {\n",
       "  background-color: #1c7fb8;\n",
       "  color: #f1f1f1;\n",
       "}\n",
       "#T_54942_row29_col1 {\n",
       "  background-color: #0a73b2;\n",
       "  color: #f1f1f1;\n",
       "}\n",
       "#T_54942_row29_col4, #T_54942_row56_col5 {\n",
       "  background-color: #056aa6;\n",
       "  color: #f1f1f1;\n",
       "}\n",
       "#T_54942_row29_col5, #T_54942_row44_col4 {\n",
       "  background-color: #7dacd1;\n",
       "  color: #f1f1f1;\n",
       "}\n",
       "#T_54942_row30_col2, #T_54942_row31_col2, #T_54942_row36_col1, #T_54942_row61_col6, #T_54942_row67_col6, #T_54942_row72_col6, #T_54942_row90_col3 {\n",
       "  background-color: #cacee5;\n",
       "  color: #000000;\n",
       "}\n",
       "#T_54942_row31_col4 {\n",
       "  background-color: #bbc7e0;\n",
       "  color: #000000;\n",
       "}\n",
       "#T_54942_row31_col5, #T_54942_row48_col5, #T_54942_row60_col3, #T_54942_row77_col5, #T_54942_row103_col3 {\n",
       "  background-color: #6da6cd;\n",
       "  color: #f1f1f1;\n",
       "}\n",
       "#T_54942_row32_col3, #T_54942_row39_col1, #T_54942_row56_col3 {\n",
       "  background-color: #308cbe;\n",
       "  color: #f1f1f1;\n",
       "}\n",
       "#T_54942_row32_col5, #T_54942_row85_col1, #T_54942_row104_col1 {\n",
       "  background-color: #157ab5;\n",
       "  color: #f1f1f1;\n",
       "}\n",
       "#T_54942_row33_col1, #T_54942_row39_col5, #T_54942_row40_col4, #T_54942_row53_col5, #T_54942_row84_col1 {\n",
       "  background-color: #75a9cf;\n",
       "  color: #f1f1f1;\n",
       "}\n",
       "#T_54942_row33_col3, #T_54942_row44_col3 {\n",
       "  background-color: #71a8ce;\n",
       "  color: #f1f1f1;\n",
       "}\n",
       "#T_54942_row33_col4, #T_54942_row35_col5 {\n",
       "  background-color: #8eb3d5;\n",
       "  color: #000000;\n",
       "}\n",
       "#T_54942_row34_col4, #T_54942_row70_col3, #T_54942_row79_col4, #T_54942_row105_col4, #T_54942_row106_col3 {\n",
       "  background-color: #abbfdc;\n",
       "  color: #000000;\n",
       "}\n",
       "#T_54942_row34_col5, #T_54942_row101_col4 {\n",
       "  background-color: #2c89bd;\n",
       "  color: #f1f1f1;\n",
       "}\n",
       "#T_54942_row35_col3, #T_54942_row65_col5, #T_54942_row69_col3, #T_54942_row91_col3, #T_54942_row113_col5 {\n",
       "  background-color: #83afd3;\n",
       "  color: #f1f1f1;\n",
       "}\n",
       "#T_54942_row36_col4, #T_54942_row47_col4, #T_54942_row90_col1, #T_54942_row106_col4 {\n",
       "  background-color: #c1cae2;\n",
       "  color: #000000;\n",
       "}\n",
       "#T_54942_row36_col6, #T_54942_row45_col5, #T_54942_row63_col6, #T_54942_row80_col6, #T_54942_row90_col5, #T_54942_row103_col4, #T_54942_row117_col4 {\n",
       "  background-color: #89b1d4;\n",
       "  color: #000000;\n",
       "}\n",
       "#T_54942_row37_col1 {\n",
       "  background-color: #91b5d6;\n",
       "  color: #000000;\n",
       "}\n",
       "#T_54942_row37_col3, #T_54942_row70_col1, #T_54942_row84_col3, #T_54942_row117_col3 {\n",
       "  background-color: #79abd0;\n",
       "  color: #f1f1f1;\n",
       "}\n",
       "#T_54942_row37_col6, #T_54942_row40_col6, #T_54942_row75_col1 {\n",
       "  background-color: #0569a4;\n",
       "  color: #f1f1f1;\n",
       "}\n",
       "#T_54942_row38_col1, #T_54942_row52_col5, #T_54942_row97_col4 {\n",
       "  background-color: #0f76b3;\n",
       "  color: #f1f1f1;\n",
       "}\n",
       "#T_54942_row38_col3, #T_54942_row50_col6, #T_54942_row87_col1, #T_54942_row109_col5 {\n",
       "  background-color: #056dac;\n",
       "  color: #f1f1f1;\n",
       "}\n",
       "#T_54942_row38_col4, #T_54942_row52_col1, #T_54942_row57_col6, #T_54942_row96_col5 {\n",
       "  background-color: #0570b0;\n",
       "  color: #f1f1f1;\n",
       "}\n",
       "#T_54942_row38_col5, #T_54942_row57_col5, #T_54942_row112_col5 {\n",
       "  background-color: #328dbf;\n",
       "  color: #f1f1f1;\n",
       "}\n",
       "#T_54942_row39_col4, #T_54942_row40_col5, #T_54942_row41_col1, #T_54942_row87_col5, #T_54942_row88_col3, #T_54942_row94_col5, #T_54942_row108_col1 {\n",
       "  background-color: #4e9ac6;\n",
       "  color: #f1f1f1;\n",
       "}\n",
       "#T_54942_row39_col6, #T_54942_row68_col5, #T_54942_row92_col5 {\n",
       "  background-color: #045b8e;\n",
       "  color: #f1f1f1;\n",
       "}\n",
       "#T_54942_row40_col1, #T_54942_row119_col1 {\n",
       "  background-color: #4a98c5;\n",
       "  color: #f1f1f1;\n",
       "}\n",
       "#T_54942_row41_col2, #T_54942_row113_col4 {\n",
       "  background-color: #2685bb;\n",
       "  color: #f1f1f1;\n",
       "}\n",
       "#T_54942_row41_col5, #T_54942_row82_col3, #T_54942_row94_col3 {\n",
       "  background-color: #b1c2de;\n",
       "  color: #000000;\n",
       "}\n",
       "#T_54942_row42_col1 {\n",
       "  background-color: #f6eff7;\n",
       "  color: #000000;\n",
       "}\n",
       "#T_54942_row42_col3 {\n",
       "  background-color: #fbf3f9;\n",
       "  color: #000000;\n",
       "}\n",
       "#T_54942_row43_col5 {\n",
       "  background-color: #b7c5df;\n",
       "  color: #000000;\n",
       "}\n",
       "#T_54942_row44_col1, #T_54942_row60_col1, #T_54942_row83_col5 {\n",
       "  background-color: #7bacd1;\n",
       "  color: #f1f1f1;\n",
       "}\n",
       "#T_54942_row44_col5, #T_54942_row93_col5 {\n",
       "  background-color: #4697c4;\n",
       "  color: #f1f1f1;\n",
       "}\n",
       "#T_54942_row44_col6, #T_54942_row56_col6 {\n",
       "  background-color: #056dab;\n",
       "  color: #f1f1f1;\n",
       "}\n",
       "#T_54942_row45_col4 {\n",
       "  background-color: #cccfe5;\n",
       "  color: #000000;\n",
       "}\n",
       "#T_54942_row46_col1, #T_54942_row55_col4, #T_54942_row59_col4, #T_54942_row70_col4 {\n",
       "  background-color: #b4c4df;\n",
       "  color: #000000;\n",
       "}\n",
       "#T_54942_row47_col1 {\n",
       "  background-color: #adc1dd;\n",
       "  color: #000000;\n",
       "}\n",
       "#T_54942_row47_col5 {\n",
       "  background-color: #c5cce3;\n",
       "  color: #000000;\n",
       "}\n",
       "#T_54942_row47_col6, #T_54942_row93_col6, #T_54942_row116_col6 {\n",
       "  background-color: #d3d4e7;\n",
       "  color: #000000;\n",
       "}\n",
       "#T_54942_row48_col1, #T_54942_row95_col1, #T_54942_row106_col1 {\n",
       "  background-color: #73a9cf;\n",
       "  color: #f1f1f1;\n",
       "}\n",
       "#T_54942_row49_col1, #T_54942_row53_col4, #T_54942_row75_col5, #T_54942_row85_col4 {\n",
       "  background-color: #2a88bc;\n",
       "  color: #f1f1f1;\n",
       "}\n",
       "#T_54942_row49_col3, #T_54942_row53_col3, #T_54942_row79_col5, #T_54942_row101_col3, #T_54942_row116_col3, #T_54942_row116_col4 {\n",
       "  background-color: #187cb6;\n",
       "  color: #f1f1f1;\n",
       "}\n",
       "#T_54942_row49_col4, #T_54942_row69_col5, #T_54942_row76_col5, #T_54942_row92_col4 {\n",
       "  background-color: #2182b9;\n",
       "  color: #f1f1f1;\n",
       "}\n",
       "#T_54942_row49_col5, #T_54942_row51_col5, #T_54942_row70_col5, #T_54942_row92_col3, #T_54942_row102_col5, #T_54942_row113_col3 {\n",
       "  background-color: #2081b9;\n",
       "  color: #f1f1f1;\n",
       "}\n",
       "#T_54942_row49_col6, #T_54942_row73_col4, #T_54942_row77_col4 {\n",
       "  background-color: #2383ba;\n",
       "  color: #f1f1f1;\n",
       "}\n",
       "#T_54942_row50_col1 {\n",
       "  background-color: #03476f;\n",
       "  color: #f1f1f1;\n",
       "}\n",
       "#T_54942_row50_col3 {\n",
       "  background-color: #034369;\n",
       "  color: #f1f1f1;\n",
       "}\n",
       "#T_54942_row50_col4 {\n",
       "  background-color: #034973;\n",
       "  color: #f1f1f1;\n",
       "}\n",
       "#T_54942_row51_col3 {\n",
       "  background-color: #0567a1;\n",
       "  color: #f1f1f1;\n",
       "}\n",
       "#T_54942_row51_col4 {\n",
       "  background-color: #0d75b3;\n",
       "  color: #f1f1f1;\n",
       "}\n",
       "#T_54942_row52_col6, #T_54942_row60_col5, #T_54942_row71_col1, #T_54942_row119_col3 {\n",
       "  background-color: #7eadd1;\n",
       "  color: #f1f1f1;\n",
       "}\n",
       "#T_54942_row53_col2, #T_54942_row76_col2, #T_54942_row77_col2, #T_54942_row101_col2 {\n",
       "  background-color: #045b8f;\n",
       "  color: #f1f1f1;\n",
       "}\n",
       "#T_54942_row54_col4 {\n",
       "  background-color: #e8e4f0;\n",
       "  color: #000000;\n",
       "}\n",
       "#T_54942_row55_col3, #T_54942_row118_col4 {\n",
       "  background-color: #a7bddb;\n",
       "  color: #000000;\n",
       "}\n",
       "#T_54942_row55_col5, #T_54942_row104_col3 {\n",
       "  background-color: #3991c1;\n",
       "  color: #f1f1f1;\n",
       "}\n",
       "#T_54942_row56_col1, #T_54942_row82_col5, #T_54942_row96_col1, #T_54942_row111_col5 {\n",
       "  background-color: #2d8abd;\n",
       "  color: #f1f1f1;\n",
       "}\n",
       "#T_54942_row57_col1 {\n",
       "  background-color: #60a1ca;\n",
       "  color: #f1f1f1;\n",
       "}\n",
       "#T_54942_row57_col3, #T_54942_row91_col1 {\n",
       "  background-color: #76aad0;\n",
       "  color: #f1f1f1;\n",
       "}\n",
       "#T_54942_row58_col4 {\n",
       "  background-color: #b8c6e0;\n",
       "  color: #000000;\n",
       "}\n",
       "#T_54942_row58_col5, #T_54942_row80_col1, #T_54942_row88_col1, #T_54942_row115_col5 {\n",
       "  background-color: #1b7eb7;\n",
       "  color: #f1f1f1;\n",
       "}\n",
       "#T_54942_row61_col4, #T_54942_row100_col1, #T_54942_row109_col4, #T_54942_row112_col1 {\n",
       "  background-color: #0872b1;\n",
       "  color: #f1f1f1;\n",
       "}\n",
       "#T_54942_row61_col5, #T_54942_row68_col4, #T_54942_row89_col4 {\n",
       "  background-color: #2786bb;\n",
       "  color: #f1f1f1;\n",
       "}\n",
       "#T_54942_row62_col3, #T_54942_row74_col1 {\n",
       "  background-color: #023d60;\n",
       "  color: #f1f1f1;\n",
       "}\n",
       "#T_54942_row62_col5 {\n",
       "  background-color: #045483;\n",
       "  color: #f1f1f1;\n",
       "}\n",
       "#T_54942_row62_col6 {\n",
       "  background-color: #1e80b8;\n",
       "  color: #f1f1f1;\n",
       "}\n",
       "#T_54942_row63_col1 {\n",
       "  background-color: #04588a;\n",
       "  color: #f1f1f1;\n",
       "}\n",
       "#T_54942_row63_col4, #T_54942_row99_col5 {\n",
       "  background-color: #0569a5;\n",
       "  color: #f1f1f1;\n",
       "}\n",
       "#T_54942_row63_col5, #T_54942_row64_col5, #T_54942_row65_col4, #T_54942_row76_col1, #T_54942_row92_col1 {\n",
       "  background-color: #1278b4;\n",
       "  color: #f1f1f1;\n",
       "}\n",
       "#T_54942_row65_col3, #T_54942_row73_col1, #T_54942_row89_col1, #T_54942_row105_col5 {\n",
       "  background-color: #0c74b2;\n",
       "  color: #f1f1f1;\n",
       "}\n",
       "#T_54942_row66_col1, #T_54942_row85_col6 {\n",
       "  background-color: #d7d6e9;\n",
       "  color: #000000;\n",
       "}\n",
       "#T_54942_row66_col4 {\n",
       "  background-color: #dedcec;\n",
       "  color: #000000;\n",
       "}\n",
       "#T_54942_row67_col5 {\n",
       "  background-color: #3d93c2;\n",
       "  color: #f1f1f1;\n",
       "}\n",
       "#T_54942_row68_col3, #T_54942_row85_col3, #T_54942_row91_col5 {\n",
       "  background-color: #2987bc;\n",
       "  color: #f1f1f1;\n",
       "}\n",
       "#T_54942_row69_col1 {\n",
       "  background-color: #569dc8;\n",
       "  color: #f1f1f1;\n",
       "}\n",
       "#T_54942_row71_col6 {\n",
       "  background-color: #f3edf5;\n",
       "  color: #000000;\n",
       "}\n",
       "#T_54942_row72_col4, #T_54942_row88_col4 {\n",
       "  background-color: #65a3cb;\n",
       "  color: #f1f1f1;\n",
       "}\n",
       "#T_54942_row72_col5 {\n",
       "  background-color: #4496c3;\n",
       "  color: #f1f1f1;\n",
       "}\n",
       "#T_54942_row73_col5 {\n",
       "  background-color: #056ead;\n",
       "  color: #f1f1f1;\n",
       "}\n",
       "#T_54942_row74_col3 {\n",
       "  background-color: #034e7b;\n",
       "  color: #f1f1f1;\n",
       "}\n",
       "#T_54942_row74_col4, #T_54942_row74_col5 {\n",
       "  background-color: #045a8d;\n",
       "  color: #f1f1f1;\n",
       "}\n",
       "#T_54942_row76_col4, #T_54942_row104_col4, #T_54942_row108_col3, #T_54942_row112_col4 {\n",
       "  background-color: #5ea0ca;\n",
       "  color: #f1f1f1;\n",
       "}\n",
       "#T_54942_row76_col6 {\n",
       "  background-color: #d5d5e8;\n",
       "  color: #000000;\n",
       "}\n",
       "#T_54942_row78_col1 {\n",
       "  background-color: #bdc8e1;\n",
       "  color: #000000;\n",
       "}\n",
       "#T_54942_row81_col1 {\n",
       "  background-color: #69a5cc;\n",
       "  color: #f1f1f1;\n",
       "}\n",
       "#T_54942_row82_col1, #T_54942_row84_col4 {\n",
       "  background-color: #84b0d3;\n",
       "  color: #f1f1f1;\n",
       "}\n",
       "#T_54942_row83_col1 {\n",
       "  background-color: #78abd0;\n",
       "  color: #f1f1f1;\n",
       "}\n",
       "#T_54942_row83_col4 {\n",
       "  background-color: #a8bedc;\n",
       "  color: #000000;\n",
       "}\n",
       "#T_54942_row83_col6 {\n",
       "  background-color: #fef6fb;\n",
       "  color: #000000;\n",
       "}\n",
       "#T_54942_row86_col1, #T_54942_row97_col5, #T_54942_row104_col5 {\n",
       "  background-color: #03456c;\n",
       "  color: #f1f1f1;\n",
       "}\n",
       "#T_54942_row86_col3, #T_54942_row98_col3 {\n",
       "  background-color: #04598c;\n",
       "  color: #f1f1f1;\n",
       "}\n",
       "#T_54942_row87_col3, #T_54942_row89_col3, #T_54942_row111_col3 {\n",
       "  background-color: #2484ba;\n",
       "  color: #f1f1f1;\n",
       "}\n",
       "#T_54942_row88_col6, #T_54942_row94_col6 {\n",
       "  background-color: #e0dded;\n",
       "  color: #000000;\n",
       "}\n",
       "#T_54942_row89_col5, #T_54942_row95_col5 {\n",
       "  background-color: #a1bbda;\n",
       "  color: #000000;\n",
       "}\n",
       "#T_54942_row89_col6, #T_54942_row95_col6, #T_54942_row113_col6, #T_54942_row119_col6 {\n",
       "  background-color: #fef6fa;\n",
       "  color: #000000;\n",
       "}\n",
       "#T_54942_row97_col1, #T_54942_row109_col1 {\n",
       "  background-color: #04639b;\n",
       "  color: #f1f1f1;\n",
       "}\n",
       "#T_54942_row98_col1, #T_54942_row110_col1 {\n",
       "  background-color: #034267;\n",
       "  color: #f1f1f1;\n",
       "}\n",
       "#T_54942_row98_col4 {\n",
       "  background-color: #04649e;\n",
       "  color: #f1f1f1;\n",
       "}\n",
       "#T_54942_row99_col1, #T_54942_row111_col1 {\n",
       "  background-color: #0566a0;\n",
       "  color: #f1f1f1;\n",
       "}\n",
       "#T_54942_row100_col5 {\n",
       "  background-color: #05659f;\n",
       "  color: #f1f1f1;\n",
       "}\n",
       "#T_54942_row101_col5, #T_54942_row115_col1 {\n",
       "  background-color: #2f8bbe;\n",
       "  color: #f1f1f1;\n",
       "}\n",
       "#T_54942_row102_col6 {\n",
       "  background-color: #fbf4f9;\n",
       "  color: #000000;\n",
       "}\n",
       "#T_54942_row103_col6 {\n",
       "  background-color: #f4edf6;\n",
       "  color: #000000;\n",
       "}\n",
       "#T_54942_row105_col6, #T_54942_row106_col6 {\n",
       "  background-color: #f8f1f8;\n",
       "  color: #000000;\n",
       "}\n",
       "#T_54942_row109_col3 {\n",
       "  background-color: #056faf;\n",
       "  color: #f1f1f1;\n",
       "}\n",
       "#T_54942_row115_col4 {\n",
       "  background-color: #4094c3;\n",
       "  color: #f1f1f1;\n",
       "}\n",
       "#T_54942_row118_col1 {\n",
       "  background-color: #5a9ec9;\n",
       "  color: #f1f1f1;\n",
       "}\n",
       "</style>\n",
       "<table id=\"T_54942\">\n",
       "  <thead>\n",
       "    <tr>\n",
       "      <th class=\"blank\" >&nbsp;</th>\n",
       "      <th class=\"blank\" >&nbsp;</th>\n",
       "      <th class=\"blank\" >&nbsp;</th>\n",
       "      <th class=\"blank\" >&nbsp;</th>\n",
       "      <th class=\"blank level0\" >&nbsp;</th>\n",
       "      <th id=\"T_54942_level0_col0\" class=\"col_heading level0 col0\" >Positions</th>\n",
       "      <th id=\"T_54942_level0_col1\" class=\"col_heading level0 col1\" >Annualised return</th>\n",
       "      <th id=\"T_54942_level0_col2\" class=\"col_heading level0 col2\" >Max drawdown</th>\n",
       "      <th id=\"T_54942_level0_col3\" class=\"col_heading level0 col3\" >Sharpe</th>\n",
       "      <th id=\"T_54942_level0_col4\" class=\"col_heading level0 col4\" >Sortino</th>\n",
       "      <th id=\"T_54942_level0_col5\" class=\"col_heading level0 col5\" >Average position</th>\n",
       "      <th id=\"T_54942_level0_col6\" class=\"col_heading level0 col6\" >Median position</th>\n",
       "    </tr>\n",
       "    <tr>\n",
       "      <th class=\"index_name level0\" >cycle_duration_days</th>\n",
       "      <th class=\"index_name level1\" >momentum_lookback</th>\n",
       "      <th class=\"index_name level2\" >take_profit</th>\n",
       "      <th class=\"index_name level3\" >positive_mometum_threshold</th>\n",
       "      <th class=\"index_name level4\" >negative_mometum_threshold</th>\n",
       "      <th class=\"blank col0\" >&nbsp;</th>\n",
       "      <th class=\"blank col1\" >&nbsp;</th>\n",
       "      <th class=\"blank col2\" >&nbsp;</th>\n",
       "      <th class=\"blank col3\" >&nbsp;</th>\n",
       "      <th class=\"blank col4\" >&nbsp;</th>\n",
       "      <th class=\"blank col5\" >&nbsp;</th>\n",
       "      <th class=\"blank col6\" >&nbsp;</th>\n",
       "    </tr>\n",
       "  </thead>\n",
       "  <tbody>\n",
       "    <tr>\n",
       "      <th id=\"T_54942_level0_row0\" class=\"row_heading level0 row0\" rowspan=\"120\">7</th>\n",
       "      <th id=\"T_54942_level1_row0\" class=\"row_heading level1 row0\" rowspan=\"120\">7</th>\n",
       "      <th id=\"T_54942_level2_row0\" class=\"row_heading level2 row0\" rowspan=\"24\">1.060000</th>\n",
       "      <th id=\"T_54942_level3_row0\" class=\"row_heading level3 row0\" rowspan=\"6\">0.000100</th>\n",
       "      <th id=\"T_54942_level4_row0\" class=\"row_heading level4 row0\" >-0.090000</th>\n",
       "      <td id=\"T_54942_row0_col0\" class=\"data row0 col0\" >102</td>\n",
       "      <td id=\"T_54942_row0_col1\" class=\"data row0 col1\" >50.29%</td>\n",
       "      <td id=\"T_54942_row0_col2\" class=\"data row0 col2\" >-21.00%</td>\n",
       "      <td id=\"T_54942_row0_col3\" class=\"data row0 col3\" >1.560000</td>\n",
       "      <td id=\"T_54942_row0_col4\" class=\"data row0 col4\" >2.570000</td>\n",
       "      <td id=\"T_54942_row0_col5\" class=\"data row0 col5\" >1.56%</td>\n",
       "      <td id=\"T_54942_row0_col6\" class=\"data row0 col6\" >6.02%</td>\n",
       "    </tr>\n",
       "    <tr>\n",
       "      <th id=\"T_54942_level4_row1\" class=\"row_heading level4 row1\" >-0.080000</th>\n",
       "      <td id=\"T_54942_row1_col0\" class=\"data row1 col0\" >106</td>\n",
       "      <td id=\"T_54942_row1_col1\" class=\"data row1 col1\" >54.80%</td>\n",
       "      <td id=\"T_54942_row1_col2\" class=\"data row1 col2\" >-21.00%</td>\n",
       "      <td id=\"T_54942_row1_col3\" class=\"data row1 col3\" >1.650000</td>\n",
       "      <td id=\"T_54942_row1_col4\" class=\"data row1 col4\" >2.740000</td>\n",
       "      <td id=\"T_54942_row1_col5\" class=\"data row1 col5\" >1.68%</td>\n",
       "      <td id=\"T_54942_row1_col6\" class=\"data row1 col6\" >6.03%</td>\n",
       "    </tr>\n",
       "    <tr>\n",
       "      <th id=\"T_54942_level4_row2\" class=\"row_heading level4 row2\" >-0.070000</th>\n",
       "      <td id=\"T_54942_row2_col0\" class=\"data row2 col0\" >112</td>\n",
       "      <td id=\"T_54942_row2_col1\" class=\"data row2 col1\" >68.85%</td>\n",
       "      <td id=\"T_54942_row2_col2\" class=\"data row2 col2\" >-18.00%</td>\n",
       "      <td id=\"T_54942_row2_col3\" class=\"data row2 col3\" >1.890000</td>\n",
       "      <td id=\"T_54942_row2_col4\" class=\"data row2 col4\" >3.190000</td>\n",
       "      <td id=\"T_54942_row2_col5\" class=\"data row2 col5\" >1.89%</td>\n",
       "      <td id=\"T_54942_row2_col6\" class=\"data row2 col6\" >6.04%</td>\n",
       "    </tr>\n",
       "    <tr>\n",
       "      <th id=\"T_54942_level4_row3\" class=\"row_heading level4 row3\" >-0.060000</th>\n",
       "      <td id=\"T_54942_row3_col0\" class=\"data row3 col0\" >121</td>\n",
       "      <td id=\"T_54942_row3_col1\" class=\"data row3 col1\" >59.42%</td>\n",
       "      <td id=\"T_54942_row3_col2\" class=\"data row3 col2\" >-16.00%</td>\n",
       "      <td id=\"T_54942_row3_col3\" class=\"data row3 col3\" >1.650000</td>\n",
       "      <td id=\"T_54942_row3_col4\" class=\"data row3 col4\" >2.630000</td>\n",
       "      <td id=\"T_54942_row3_col5\" class=\"data row3 col5\" >1.66%</td>\n",
       "      <td id=\"T_54942_row3_col6\" class=\"data row3 col6\" >6.02%</td>\n",
       "    </tr>\n",
       "    <tr>\n",
       "      <th id=\"T_54942_level4_row4\" class=\"row_heading level4 row4\" >-0.050000</th>\n",
       "      <td id=\"T_54942_row4_col0\" class=\"data row4 col0\" >127</td>\n",
       "      <td id=\"T_54942_row4_col1\" class=\"data row4 col1\" >57.09%</td>\n",
       "      <td id=\"T_54942_row4_col2\" class=\"data row4 col2\" >-16.00%</td>\n",
       "      <td id=\"T_54942_row4_col3\" class=\"data row4 col3\" >1.570000</td>\n",
       "      <td id=\"T_54942_row4_col4\" class=\"data row4 col4\" >2.510000</td>\n",
       "      <td id=\"T_54942_row4_col5\" class=\"data row4 col5\" >1.75%</td>\n",
       "      <td id=\"T_54942_row4_col6\" class=\"data row4 col6\" >6.02%</td>\n",
       "    </tr>\n",
       "    <tr>\n",
       "      <th id=\"T_54942_level4_row5\" class=\"row_heading level4 row5\" >-0.040000</th>\n",
       "      <td id=\"T_54942_row5_col0\" class=\"data row5 col0\" >138</td>\n",
       "      <td id=\"T_54942_row5_col1\" class=\"data row5 col1\" >63.53%</td>\n",
       "      <td id=\"T_54942_row5_col2\" class=\"data row5 col2\" >-18.00%</td>\n",
       "      <td id=\"T_54942_row5_col3\" class=\"data row5 col3\" >1.750000</td>\n",
       "      <td id=\"T_54942_row5_col4\" class=\"data row5 col4\" >2.860000</td>\n",
       "      <td id=\"T_54942_row5_col5\" class=\"data row5 col5\" >1.64%</td>\n",
       "      <td id=\"T_54942_row5_col6\" class=\"data row5 col6\" >4.19%</td>\n",
       "    </tr>\n",
       "    <tr>\n",
       "      <th id=\"T_54942_level3_row6\" class=\"row_heading level3 row6\" rowspan=\"6\">0.010000</th>\n",
       "      <th id=\"T_54942_level4_row6\" class=\"row_heading level4 row6\" >-0.090000</th>\n",
       "      <td id=\"T_54942_row6_col0\" class=\"data row6 col0\" >98</td>\n",
       "      <td id=\"T_54942_row6_col1\" class=\"data row6 col1\" >34.98%</td>\n",
       "      <td id=\"T_54942_row6_col2\" class=\"data row6 col2\" >-30.00%</td>\n",
       "      <td id=\"T_54942_row6_col3\" class=\"data row6 col3\" >1.160000</td>\n",
       "      <td id=\"T_54942_row6_col4\" class=\"data row6 col4\" >1.840000</td>\n",
       "      <td id=\"T_54942_row6_col5\" class=\"data row6 col5\" >1.50%</td>\n",
       "      <td id=\"T_54942_row6_col6\" class=\"data row6 col6\" >6.02%</td>\n",
       "    </tr>\n",
       "    <tr>\n",
       "      <th id=\"T_54942_level4_row7\" class=\"row_heading level4 row7\" >-0.080000</th>\n",
       "      <td id=\"T_54942_row7_col0\" class=\"data row7 col0\" >102</td>\n",
       "      <td id=\"T_54942_row7_col1\" class=\"data row7 col1\" >40.52%</td>\n",
       "      <td id=\"T_54942_row7_col2\" class=\"data row7 col2\" >-30.00%</td>\n",
       "      <td id=\"T_54942_row7_col3\" class=\"data row7 col3\" >1.290000</td>\n",
       "      <td id=\"T_54942_row7_col4\" class=\"data row7 col4\" >2.060000</td>\n",
       "      <td id=\"T_54942_row7_col5\" class=\"data row7 col5\" >1.62%</td>\n",
       "      <td id=\"T_54942_row7_col6\" class=\"data row7 col6\" >6.03%</td>\n",
       "    </tr>\n",
       "    <tr>\n",
       "      <th id=\"T_54942_level4_row8\" class=\"row_heading level4 row8\" >-0.070000</th>\n",
       "      <td id=\"T_54942_row8_col0\" class=\"data row8 col0\" >108</td>\n",
       "      <td id=\"T_54942_row8_col1\" class=\"data row8 col1\" >53.27%</td>\n",
       "      <td id=\"T_54942_row8_col2\" class=\"data row8 col2\" >-27.00%</td>\n",
       "      <td id=\"T_54942_row8_col3\" class=\"data row8 col3\" >1.540000</td>\n",
       "      <td id=\"T_54942_row8_col4\" class=\"data row8 col4\" >2.500000</td>\n",
       "      <td id=\"T_54942_row8_col5\" class=\"data row8 col5\" >1.85%</td>\n",
       "      <td id=\"T_54942_row8_col6\" class=\"data row8 col6\" >6.04%</td>\n",
       "    </tr>\n",
       "    <tr>\n",
       "      <th id=\"T_54942_level4_row9\" class=\"row_heading level4 row9\" >-0.060000</th>\n",
       "      <td id=\"T_54942_row9_col0\" class=\"data row9 col0\" >117</td>\n",
       "      <td id=\"T_54942_row9_col1\" class=\"data row9 col1\" >44.72%</td>\n",
       "      <td id=\"T_54942_row9_col2\" class=\"data row9 col2\" >-24.00%</td>\n",
       "      <td id=\"T_54942_row9_col3\" class=\"data row9 col3\" >1.320000</td>\n",
       "      <td id=\"T_54942_row9_col4\" class=\"data row9 col4\" >2.040000</td>\n",
       "      <td id=\"T_54942_row9_col5\" class=\"data row9 col5\" >1.61%</td>\n",
       "      <td id=\"T_54942_row9_col6\" class=\"data row9 col6\" >6.02%</td>\n",
       "    </tr>\n",
       "    <tr>\n",
       "      <th id=\"T_54942_level4_row10\" class=\"row_heading level4 row10\" >-0.050000</th>\n",
       "      <td id=\"T_54942_row10_col0\" class=\"data row10 col0\" >123</td>\n",
       "      <td id=\"T_54942_row10_col1\" class=\"data row10 col1\" >42.60%</td>\n",
       "      <td id=\"T_54942_row10_col2\" class=\"data row10 col2\" >-23.00%</td>\n",
       "      <td id=\"T_54942_row10_col3\" class=\"data row10 col3\" >1.250000</td>\n",
       "      <td id=\"T_54942_row10_col4\" class=\"data row10 col4\" >1.940000</td>\n",
       "      <td id=\"T_54942_row10_col5\" class=\"data row10 col5\" >1.70%</td>\n",
       "      <td id=\"T_54942_row10_col6\" class=\"data row10 col6\" >6.02%</td>\n",
       "    </tr>\n",
       "    <tr>\n",
       "      <th id=\"T_54942_level4_row11\" class=\"row_heading level4 row11\" >-0.040000</th>\n",
       "      <td id=\"T_54942_row11_col0\" class=\"data row11 col0\" >134</td>\n",
       "      <td id=\"T_54942_row11_col1\" class=\"data row11 col1\" >48.45%</td>\n",
       "      <td id=\"T_54942_row11_col2\" class=\"data row11 col2\" >-24.00%</td>\n",
       "      <td id=\"T_54942_row11_col3\" class=\"data row11 col3\" >1.410000</td>\n",
       "      <td id=\"T_54942_row11_col4\" class=\"data row11 col4\" >2.230000</td>\n",
       "      <td id=\"T_54942_row11_col5\" class=\"data row11 col5\" >1.59%</td>\n",
       "      <td id=\"T_54942_row11_col6\" class=\"data row11 col6\" >4.19%</td>\n",
       "    </tr>\n",
       "    <tr>\n",
       "      <th id=\"T_54942_level3_row12\" class=\"row_heading level3 row12\" rowspan=\"6\">0.025000</th>\n",
       "      <th id=\"T_54942_level4_row12\" class=\"row_heading level4 row12\" >-0.090000</th>\n",
       "      <td id=\"T_54942_row12_col0\" class=\"data row12 col0\" >84</td>\n",
       "      <td id=\"T_54942_row12_col1\" class=\"data row12 col1\" >40.78%</td>\n",
       "      <td id=\"T_54942_row12_col2\" class=\"data row12 col2\" >-23.00%</td>\n",
       "      <td id=\"T_54942_row12_col3\" class=\"data row12 col3\" >1.290000</td>\n",
       "      <td id=\"T_54942_row12_col4\" class=\"data row12 col4\" >2.110000</td>\n",
       "      <td id=\"T_54942_row12_col5\" class=\"data row12 col5\" >1.37%</td>\n",
       "      <td id=\"T_54942_row12_col6\" class=\"data row12 col6\" >5.94%</td>\n",
       "    </tr>\n",
       "    <tr>\n",
       "      <th id=\"T_54942_level4_row13\" class=\"row_heading level4 row13\" >-0.080000</th>\n",
       "      <td id=\"T_54942_row13_col0\" class=\"data row13 col0\" >88</td>\n",
       "      <td id=\"T_54942_row13_col1\" class=\"data row13 col1\" >47.97%</td>\n",
       "      <td id=\"T_54942_row13_col2\" class=\"data row13 col2\" >-23.00%</td>\n",
       "      <td id=\"T_54942_row13_col3\" class=\"data row13 col3\" >1.440000</td>\n",
       "      <td id=\"T_54942_row13_col4\" class=\"data row13 col4\" >2.380000</td>\n",
       "      <td id=\"T_54942_row13_col5\" class=\"data row13 col5\" >1.52%</td>\n",
       "      <td id=\"T_54942_row13_col6\" class=\"data row13 col6\" >5.99%</td>\n",
       "    </tr>\n",
       "    <tr>\n",
       "      <th id=\"T_54942_level4_row14\" class=\"row_heading level4 row14\" >-0.070000</th>\n",
       "      <td id=\"T_54942_row14_col0\" class=\"data row14 col0\" >94</td>\n",
       "      <td id=\"T_54942_row14_col1\" class=\"data row14 col1\" >61.40%</td>\n",
       "      <td id=\"T_54942_row14_col2\" class=\"data row14 col2\" >-23.00%</td>\n",
       "      <td id=\"T_54942_row14_col3\" class=\"data row14 col3\" >1.680000</td>\n",
       "      <td id=\"T_54942_row14_col4\" class=\"data row14 col4\" >2.810000</td>\n",
       "      <td id=\"T_54942_row14_col5\" class=\"data row14 col5\" >1.78%</td>\n",
       "      <td id=\"T_54942_row14_col6\" class=\"data row14 col6\" >6.03%</td>\n",
       "    </tr>\n",
       "    <tr>\n",
       "      <th id=\"T_54942_level4_row15\" class=\"row_heading level4 row15\" >-0.060000</th>\n",
       "      <td id=\"T_54942_row15_col0\" class=\"data row15 col0\" >103</td>\n",
       "      <td id=\"T_54942_row15_col1\" class=\"data row15 col1\" >52.39%</td>\n",
       "      <td id=\"T_54942_row15_col2\" class=\"data row15 col2\" >-23.00%</td>\n",
       "      <td id=\"T_54942_row15_col3\" class=\"data row15 col3\" >1.460000</td>\n",
       "      <td id=\"T_54942_row15_col4\" class=\"data row15 col4\" >2.320000</td>\n",
       "      <td id=\"T_54942_row15_col5\" class=\"data row15 col5\" >1.51%</td>\n",
       "      <td id=\"T_54942_row15_col6\" class=\"data row15 col6\" >5.95%</td>\n",
       "    </tr>\n",
       "    <tr>\n",
       "      <th id=\"T_54942_level4_row16\" class=\"row_heading level4 row16\" >-0.050000</th>\n",
       "      <td id=\"T_54942_row16_col0\" class=\"data row16 col0\" >109</td>\n",
       "      <td id=\"T_54942_row16_col1\" class=\"data row16 col1\" >50.16%</td>\n",
       "      <td id=\"T_54942_row16_col2\" class=\"data row16 col2\" >-23.00%</td>\n",
       "      <td id=\"T_54942_row16_col3\" class=\"data row16 col3\" >1.390000</td>\n",
       "      <td id=\"T_54942_row16_col4\" class=\"data row16 col4\" >2.210000</td>\n",
       "      <td id=\"T_54942_row16_col5\" class=\"data row16 col5\" >1.62%</td>\n",
       "      <td id=\"T_54942_row16_col6\" class=\"data row16 col6\" >5.95%</td>\n",
       "    </tr>\n",
       "    <tr>\n",
       "      <th id=\"T_54942_level4_row17\" class=\"row_heading level4 row17\" >-0.040000</th>\n",
       "      <td id=\"T_54942_row17_col0\" class=\"data row17 col0\" >120</td>\n",
       "      <td id=\"T_54942_row17_col1\" class=\"data row17 col1\" >56.31%</td>\n",
       "      <td id=\"T_54942_row17_col2\" class=\"data row17 col2\" >-21.00%</td>\n",
       "      <td id=\"T_54942_row17_col3\" class=\"data row17 col3\" >1.550000</td>\n",
       "      <td id=\"T_54942_row17_col4\" class=\"data row17 col4\" >2.520000</td>\n",
       "      <td id=\"T_54942_row17_col5\" class=\"data row17 col5\" >1.51%</td>\n",
       "      <td id=\"T_54942_row17_col6\" class=\"data row17 col6\" >2.36%</td>\n",
       "    </tr>\n",
       "    <tr>\n",
       "      <th id=\"T_54942_level3_row18\" class=\"row_heading level3 row18\" rowspan=\"6\">0.040000</th>\n",
       "      <th id=\"T_54942_level4_row18\" class=\"row_heading level4 row18\" >-0.090000</th>\n",
       "      <td id=\"T_54942_row18_col0\" class=\"data row18 col0\" >75</td>\n",
       "      <td id=\"T_54942_row18_col1\" class=\"data row18 col1\" >34.07%</td>\n",
       "      <td id=\"T_54942_row18_col2\" class=\"data row18 col2\" >-24.00%</td>\n",
       "      <td id=\"T_54942_row18_col3\" class=\"data row18 col3\" >1.140000</td>\n",
       "      <td id=\"T_54942_row18_col4\" class=\"data row18 col4\" >1.870000</td>\n",
       "      <td id=\"T_54942_row18_col5\" class=\"data row18 col5\" >1.30%</td>\n",
       "      <td id=\"T_54942_row18_col6\" class=\"data row18 col6\" >3.16%</td>\n",
       "    </tr>\n",
       "    <tr>\n",
       "      <th id=\"T_54942_level4_row19\" class=\"row_heading level4 row19\" >-0.080000</th>\n",
       "      <td id=\"T_54942_row19_col0\" class=\"data row19 col0\" >79</td>\n",
       "      <td id=\"T_54942_row19_col1\" class=\"data row19 col1\" >40.91%</td>\n",
       "      <td id=\"T_54942_row19_col2\" class=\"data row19 col2\" >-24.00%</td>\n",
       "      <td id=\"T_54942_row19_col3\" class=\"data row19 col3\" >1.300000</td>\n",
       "      <td id=\"T_54942_row19_col4\" class=\"data row19 col4\" >2.140000</td>\n",
       "      <td id=\"T_54942_row19_col5\" class=\"data row19 col5\" >1.46%</td>\n",
       "      <td id=\"T_54942_row19_col6\" class=\"data row19 col6\" >5.93%</td>\n",
       "    </tr>\n",
       "    <tr>\n",
       "      <th id=\"T_54942_level4_row20\" class=\"row_heading level4 row20\" >-0.070000</th>\n",
       "      <td id=\"T_54942_row20_col0\" class=\"data row20 col0\" >85</td>\n",
       "      <td id=\"T_54942_row20_col1\" class=\"data row20 col1\" >53.70%</td>\n",
       "      <td id=\"T_54942_row20_col2\" class=\"data row20 col2\" >-24.00%</td>\n",
       "      <td id=\"T_54942_row20_col3\" class=\"data row20 col3\" >1.540000</td>\n",
       "      <td id=\"T_54942_row20_col4\" class=\"data row20 col4\" >2.590000</td>\n",
       "      <td id=\"T_54942_row20_col5\" class=\"data row20 col5\" >1.76%</td>\n",
       "      <td id=\"T_54942_row20_col6\" class=\"data row20 col6\" >6.02%</td>\n",
       "    </tr>\n",
       "    <tr>\n",
       "      <th id=\"T_54942_level4_row21\" class=\"row_heading level4 row21\" >-0.060000</th>\n",
       "      <td id=\"T_54942_row21_col0\" class=\"data row21 col0\" >94</td>\n",
       "      <td id=\"T_54942_row21_col1\" class=\"data row21 col1\" >43.97%</td>\n",
       "      <td id=\"T_54942_row21_col2\" class=\"data row21 col2\" >-24.00%</td>\n",
       "      <td id=\"T_54942_row21_col3\" class=\"data row21 col3\" >1.270000</td>\n",
       "      <td id=\"T_54942_row21_col4\" class=\"data row21 col4\" >2.010000</td>\n",
       "      <td id=\"T_54942_row21_col5\" class=\"data row21 col5\" >1.47%</td>\n",
       "      <td id=\"T_54942_row21_col6\" class=\"data row21 col6\" >5.73%</td>\n",
       "    </tr>\n",
       "    <tr>\n",
       "      <th id=\"T_54942_level4_row22\" class=\"row_heading level4 row22\" >-0.050000</th>\n",
       "      <td id=\"T_54942_row22_col0\" class=\"data row22 col0\" >100</td>\n",
       "      <td id=\"T_54942_row22_col1\" class=\"data row22 col1\" >41.86%</td>\n",
       "      <td id=\"T_54942_row22_col2\" class=\"data row22 col2\" >-23.00%</td>\n",
       "      <td id=\"T_54942_row22_col3\" class=\"data row22 col3\" >1.210000</td>\n",
       "      <td id=\"T_54942_row22_col4\" class=\"data row22 col4\" >1.910000</td>\n",
       "      <td id=\"T_54942_row22_col5\" class=\"data row22 col5\" >1.59%</td>\n",
       "      <td id=\"T_54942_row22_col6\" class=\"data row22 col6\" >4.54%</td>\n",
       "    </tr>\n",
       "    <tr>\n",
       "      <th id=\"T_54942_level4_row23\" class=\"row_heading level4 row23\" >-0.040000</th>\n",
       "      <td id=\"T_54942_row23_col0\" class=\"data row23 col0\" >111</td>\n",
       "      <td id=\"T_54942_row23_col1\" class=\"data row23 col1\" >46.53%</td>\n",
       "      <td id=\"T_54942_row23_col2\" class=\"data row23 col2\" >-22.00%</td>\n",
       "      <td id=\"T_54942_row23_col3\" class=\"data row23 col3\" >1.330000</td>\n",
       "      <td id=\"T_54942_row23_col4\" class=\"data row23 col4\" >2.150000</td>\n",
       "      <td id=\"T_54942_row23_col5\" class=\"data row23 col5\" >1.47%</td>\n",
       "      <td id=\"T_54942_row23_col6\" class=\"data row23 col6\" >2.32%</td>\n",
       "    </tr>\n",
       "    <tr>\n",
       "      <th id=\"T_54942_level2_row24\" class=\"row_heading level2 row24\" rowspan=\"24\">1.070000</th>\n",
       "      <th id=\"T_54942_level3_row24\" class=\"row_heading level3 row24\" rowspan=\"6\">0.000100</th>\n",
       "      <th id=\"T_54942_level4_row24\" class=\"row_heading level4 row24\" >-0.090000</th>\n",
       "      <td id=\"T_54942_row24_col0\" class=\"data row24 col0\" >102</td>\n",
       "      <td id=\"T_54942_row24_col1\" class=\"data row24 col1\" >61.18%</td>\n",
       "      <td id=\"T_54942_row24_col2\" class=\"data row24 col2\" >-18.00%</td>\n",
       "      <td id=\"T_54942_row24_col3\" class=\"data row24 col3\" >1.730000</td>\n",
       "      <td id=\"T_54942_row24_col4\" class=\"data row24 col4\" >2.850000</td>\n",
       "      <td id=\"T_54942_row24_col5\" class=\"data row24 col5\" >1.90%</td>\n",
       "      <td id=\"T_54942_row24_col6\" class=\"data row24 col6\" >6.92%</td>\n",
       "    </tr>\n",
       "    <tr>\n",
       "      <th id=\"T_54942_level4_row25\" class=\"row_heading level4 row25\" >-0.080000</th>\n",
       "      <td id=\"T_54942_row25_col0\" class=\"data row25 col0\" >106</td>\n",
       "      <td id=\"T_54942_row25_col1\" class=\"data row25 col1\" >67.61%</td>\n",
       "      <td id=\"T_54942_row25_col2\" class=\"data row25 col2\" >-18.00%</td>\n",
       "      <td id=\"T_54942_row25_col3\" class=\"data row25 col3\" >1.840000</td>\n",
       "      <td id=\"T_54942_row25_col4\" class=\"data row25 col4\" >3.070000</td>\n",
       "      <td id=\"T_54942_row25_col5\" class=\"data row25 col5\" >2.05%</td>\n",
       "      <td id=\"T_54942_row25_col6\" class=\"data row25 col6\" >6.97%</td>\n",
       "    </tr>\n",
       "    <tr>\n",
       "      <th id=\"T_54942_level4_row26\" class=\"row_heading level4 row26\" >-0.070000</th>\n",
       "      <td id=\"T_54942_row26_col0\" class=\"data row26 col0\" >112</td>\n",
       "      <td id=\"T_54942_row26_col1\" class=\"data row26 col1\" >85.60%</td>\n",
       "      <td id=\"T_54942_row26_col2\" class=\"data row26 col2\" >-18.00%</td>\n",
       "      <td id=\"T_54942_row26_col3\" class=\"data row26 col3\" >2.110000</td>\n",
       "      <td id=\"T_54942_row26_col4\" class=\"data row26 col4\" >3.580000</td>\n",
       "      <td id=\"T_54942_row26_col5\" class=\"data row26 col5\" >2.29%</td>\n",
       "      <td id=\"T_54942_row26_col6\" class=\"data row26 col6\" >7.05%</td>\n",
       "    </tr>\n",
       "    <tr>\n",
       "      <th id=\"T_54942_level4_row27\" class=\"row_heading level4 row27\" >-0.060000</th>\n",
       "      <td id=\"T_54942_row27_col0\" class=\"data row27 col0\" >120</td>\n",
       "      <td id=\"T_54942_row27_col1\" class=\"data row27 col1\" >80.31%</td>\n",
       "      <td id=\"T_54942_row27_col2\" class=\"data row27 col2\" >-15.00%</td>\n",
       "      <td id=\"T_54942_row27_col3\" class=\"data row27 col3\" >1.970000</td>\n",
       "      <td id=\"T_54942_row27_col4\" class=\"data row27 col4\" >3.230000</td>\n",
       "      <td id=\"T_54942_row27_col5\" class=\"data row27 col5\" >2.13%</td>\n",
       "      <td id=\"T_54942_row27_col6\" class=\"data row27 col6\" >6.97%</td>\n",
       "    </tr>\n",
       "    <tr>\n",
       "      <th id=\"T_54942_level4_row28\" class=\"row_heading level4 row28\" >-0.050000</th>\n",
       "      <td id=\"T_54942_row28_col0\" class=\"data row28 col0\" >126</td>\n",
       "      <td id=\"T_54942_row28_col1\" class=\"data row28 col1\" >77.18%</td>\n",
       "      <td id=\"T_54942_row28_col2\" class=\"data row28 col2\" >-15.00%</td>\n",
       "      <td id=\"T_54942_row28_col3\" class=\"data row28 col3\" >1.890000</td>\n",
       "      <td id=\"T_54942_row28_col4\" class=\"data row28 col4\" >3.080000</td>\n",
       "      <td id=\"T_54942_row28_col5\" class=\"data row28 col5\" >2.21%</td>\n",
       "      <td id=\"T_54942_row28_col6\" class=\"data row28 col6\" >6.97%</td>\n",
       "    </tr>\n",
       "    <tr>\n",
       "      <th id=\"T_54942_level4_row29\" class=\"row_heading level4 row29\" >-0.040000</th>\n",
       "      <td id=\"T_54942_row29_col0\" class=\"data row29 col0\" >136</td>\n",
       "      <td id=\"T_54942_row29_col1\" class=\"data row29 col1\" >76.69%</td>\n",
       "      <td id=\"T_54942_row29_col2\" class=\"data row29 col2\" >-16.00%</td>\n",
       "      <td id=\"T_54942_row29_col3\" class=\"data row29 col3\" >1.940000</td>\n",
       "      <td id=\"T_54942_row29_col4\" class=\"data row29 col4\" >3.200000</td>\n",
       "      <td id=\"T_54942_row29_col5\" class=\"data row29 col5\" >1.93%</td>\n",
       "      <td id=\"T_54942_row29_col6\" class=\"data row29 col6\" >2.57%</td>\n",
       "    </tr>\n",
       "    <tr>\n",
       "      <th id=\"T_54942_level3_row30\" class=\"row_heading level3 row30\" rowspan=\"6\">0.010000</th>\n",
       "      <th id=\"T_54942_level4_row30\" class=\"row_heading level4 row30\" >-0.090000</th>\n",
       "      <td id=\"T_54942_row30_col0\" class=\"data row30 col0\" >98</td>\n",
       "      <td id=\"T_54942_row30_col1\" class=\"data row30 col1\" >44.08%</td>\n",
       "      <td id=\"T_54942_row30_col2\" class=\"data row30 col2\" >-26.00%</td>\n",
       "      <td id=\"T_54942_row30_col3\" class=\"data row30 col3\" >1.330000</td>\n",
       "      <td id=\"T_54942_row30_col4\" class=\"data row30 col4\" >2.110000</td>\n",
       "      <td id=\"T_54942_row30_col5\" class=\"data row30 col5\" >1.82%</td>\n",
       "      <td id=\"T_54942_row30_col6\" class=\"data row30 col6\" >6.97%</td>\n",
       "    </tr>\n",
       "    <tr>\n",
       "      <th id=\"T_54942_level4_row31\" class=\"row_heading level4 row31\" >-0.080000</th>\n",
       "      <td id=\"T_54942_row31_col0\" class=\"data row31 col0\" >102</td>\n",
       "      <td id=\"T_54942_row31_col1\" class=\"data row31 col1\" >51.49%</td>\n",
       "      <td id=\"T_54942_row31_col2\" class=\"data row31 col2\" >-26.00%</td>\n",
       "      <td id=\"T_54942_row31_col3\" class=\"data row31 col3\" >1.480000</td>\n",
       "      <td id=\"T_54942_row31_col4\" class=\"data row31 col4\" >2.390000</td>\n",
       "      <td id=\"T_54942_row31_col5\" class=\"data row31 col5\" >1.97%</td>\n",
       "      <td id=\"T_54942_row31_col6\" class=\"data row31 col6\" >7.05%</td>\n",
       "    </tr>\n",
       "    <tr>\n",
       "      <th id=\"T_54942_level4_row32\" class=\"row_heading level4 row32\" >-0.070000</th>\n",
       "      <td id=\"T_54942_row32_col0\" class=\"data row32 col0\" >108</td>\n",
       "      <td id=\"T_54942_row32_col1\" class=\"data row32 col1\" >67.75%</td>\n",
       "      <td id=\"T_54942_row32_col2\" class=\"data row32 col2\" >-23.00%</td>\n",
       "      <td id=\"T_54942_row32_col3\" class=\"data row32 col3\" >1.760000</td>\n",
       "      <td id=\"T_54942_row32_col4\" class=\"data row32 col4\" >2.880000</td>\n",
       "      <td id=\"T_54942_row32_col5\" class=\"data row32 col5\" >2.24%</td>\n",
       "      <td id=\"T_54942_row32_col6\" class=\"data row32 col6\" >7.08%</td>\n",
       "    </tr>\n",
       "    <tr>\n",
       "      <th id=\"T_54942_level4_row33\" class=\"row_heading level4 row33\" >-0.060000</th>\n",
       "      <td id=\"T_54942_row33_col0\" class=\"data row33 col0\" >116</td>\n",
       "      <td id=\"T_54942_row33_col1\" class=\"data row33 col1\" >62.98%</td>\n",
       "      <td id=\"T_54942_row33_col2\" class=\"data row33 col2\" >-23.00%</td>\n",
       "      <td id=\"T_54942_row33_col3\" class=\"data row33 col3\" >1.630000</td>\n",
       "      <td id=\"T_54942_row33_col4\" class=\"data row33 col4\" >2.600000</td>\n",
       "      <td id=\"T_54942_row33_col5\" class=\"data row33 col5\" >2.07%</td>\n",
       "      <td id=\"T_54942_row33_col6\" class=\"data row33 col6\" >7.05%</td>\n",
       "    </tr>\n",
       "    <tr>\n",
       "      <th id=\"T_54942_level4_row34\" class=\"row_heading level4 row34\" >-0.050000</th>\n",
       "      <td id=\"T_54942_row34_col0\" class=\"data row34 col0\" >122</td>\n",
       "      <td id=\"T_54942_row34_col1\" class=\"data row34 col1\" >60.14%</td>\n",
       "      <td id=\"T_54942_row34_col2\" class=\"data row34 col2\" >-23.00%</td>\n",
       "      <td id=\"T_54942_row34_col3\" class=\"data row34 col3\" >1.560000</td>\n",
       "      <td id=\"T_54942_row34_col4\" class=\"data row34 col4\" >2.470000</td>\n",
       "      <td id=\"T_54942_row34_col5\" class=\"data row34 col5\" >2.15%</td>\n",
       "      <td id=\"T_54942_row34_col6\" class=\"data row34 col6\" >7.05%</td>\n",
       "    </tr>\n",
       "    <tr>\n",
       "      <th id=\"T_54942_level4_row35\" class=\"row_heading level4 row35\" >-0.040000</th>\n",
       "      <td id=\"T_54942_row35_col0\" class=\"data row35 col0\" >132</td>\n",
       "      <td id=\"T_54942_row35_col1\" class=\"data row35 col1\" >59.70%</td>\n",
       "      <td id=\"T_54942_row35_col2\" class=\"data row35 col2\" >-21.00%</td>\n",
       "      <td id=\"T_54942_row35_col3\" class=\"data row35 col3\" >1.590000</td>\n",
       "      <td id=\"T_54942_row35_col4\" class=\"data row35 col4\" >2.550000</td>\n",
       "      <td id=\"T_54942_row35_col5\" class=\"data row35 col5\" >1.87%</td>\n",
       "      <td id=\"T_54942_row35_col6\" class=\"data row35 col6\" >2.37%</td>\n",
       "    </tr>\n",
       "    <tr>\n",
       "      <th id=\"T_54942_level3_row36\" class=\"row_heading level3 row36\" rowspan=\"6\">0.025000</th>\n",
       "      <th id=\"T_54942_level4_row36\" class=\"row_heading level4 row36\" >-0.090000</th>\n",
       "      <td id=\"T_54942_row36_col0\" class=\"data row36 col0\" >84</td>\n",
       "      <td id=\"T_54942_row36_col1\" class=\"data row36 col1\" >49.47%</td>\n",
       "      <td id=\"T_54942_row36_col2\" class=\"data row36 col2\" >-23.00%</td>\n",
       "      <td id=\"T_54942_row36_col3\" class=\"data row36 col3\" >1.440000</td>\n",
       "      <td id=\"T_54942_row36_col4\" class=\"data row36 col4\" >2.350000</td>\n",
       "      <td id=\"T_54942_row36_col5\" class=\"data row36 col5\" >1.64%</td>\n",
       "      <td id=\"T_54942_row36_col6\" class=\"data row36 col6\" >3.42%</td>\n",
       "    </tr>\n",
       "    <tr>\n",
       "      <th id=\"T_54942_level4_row37\" class=\"row_heading level4 row37\" >-0.080000</th>\n",
       "      <td id=\"T_54942_row37_col0\" class=\"data row37 col0\" >88</td>\n",
       "      <td id=\"T_54942_row37_col1\" class=\"data row37 col1\" >58.89%</td>\n",
       "      <td id=\"T_54942_row37_col2\" class=\"data row37 col2\" >-23.00%</td>\n",
       "      <td id=\"T_54942_row37_col3\" class=\"data row37 col3\" >1.610000</td>\n",
       "      <td id=\"T_54942_row37_col4\" class=\"data row37 col4\" >2.650000</td>\n",
       "      <td id=\"T_54942_row37_col5\" class=\"data row37 col5\" >1.83%</td>\n",
       "      <td id=\"T_54942_row37_col6\" class=\"data row37 col6\" >5.70%</td>\n",
       "    </tr>\n",
       "    <tr>\n",
       "      <th id=\"T_54942_level4_row38\" class=\"row_heading level4 row38\" >-0.070000</th>\n",
       "      <td id=\"T_54942_row38_col0\" class=\"data row38 col0\" >94</td>\n",
       "      <td id=\"T_54942_row38_col1\" class=\"data row38 col1\" >75.95%</td>\n",
       "      <td id=\"T_54942_row38_col2\" class=\"data row38 col2\" >-23.00%</td>\n",
       "      <td id=\"T_54942_row38_col3\" class=\"data row38 col3\" >1.880000</td>\n",
       "      <td id=\"T_54942_row38_col4\" class=\"data row38 col4\" >3.140000</td>\n",
       "      <td id=\"T_54942_row38_col5\" class=\"data row38 col5\" >2.14%</td>\n",
       "      <td id=\"T_54942_row38_col6\" class=\"data row38 col6\" >6.97%</td>\n",
       "    </tr>\n",
       "    <tr>\n",
       "      <th id=\"T_54942_level4_row39\" class=\"row_heading level4 row39\" >-0.060000</th>\n",
       "      <td id=\"T_54942_row39_col0\" class=\"data row39 col0\" >102</td>\n",
       "      <td id=\"T_54942_row39_col1\" class=\"data row39 col1\" >70.94%</td>\n",
       "      <td id=\"T_54942_row39_col2\" class=\"data row39 col2\" >-22.00%</td>\n",
       "      <td id=\"T_54942_row39_col3\" class=\"data row39 col3\" >1.750000</td>\n",
       "      <td id=\"T_54942_row39_col4\" class=\"data row39 col4\" >2.840000</td>\n",
       "      <td id=\"T_54942_row39_col5\" class=\"data row39 col5\" >1.96%</td>\n",
       "      <td id=\"T_54942_row39_col6\" class=\"data row39 col6\" >6.23%</td>\n",
       "    </tr>\n",
       "    <tr>\n",
       "      <th id=\"T_54942_level4_row40\" class=\"row_heading level4 row40\" >-0.050000</th>\n",
       "      <td id=\"T_54942_row40_col0\" class=\"data row40 col0\" >108</td>\n",
       "      <td id=\"T_54942_row40_col1\" class=\"data row40 col1\" >67.96%</td>\n",
       "      <td id=\"T_54942_row40_col2\" class=\"data row40 col2\" >-22.00%</td>\n",
       "      <td id=\"T_54942_row40_col3\" class=\"data row40 col3\" >1.680000</td>\n",
       "      <td id=\"T_54942_row40_col4\" class=\"data row40 col4\" >2.710000</td>\n",
       "      <td id=\"T_54942_row40_col5\" class=\"data row40 col5\" >2.06%</td>\n",
       "      <td id=\"T_54942_row40_col6\" class=\"data row40 col6\" >5.70%</td>\n",
       "    </tr>\n",
       "    <tr>\n",
       "      <th id=\"T_54942_level4_row41\" class=\"row_heading level4 row41\" >-0.040000</th>\n",
       "      <td id=\"T_54942_row41_col0\" class=\"data row41 col0\" >118</td>\n",
       "      <td id=\"T_54942_row41_col1\" class=\"data row41 col1\" >67.50%</td>\n",
       "      <td id=\"T_54942_row41_col2\" class=\"data row41 col2\" >-20.00%</td>\n",
       "      <td id=\"T_54942_row41_col3\" class=\"data row41 col3\" >1.710000</td>\n",
       "      <td id=\"T_54942_row41_col4\" class=\"data row41 col4\" >2.810000</td>\n",
       "      <td id=\"T_54942_row41_col5\" class=\"data row41 col5\" >1.75%</td>\n",
       "      <td id=\"T_54942_row41_col6\" class=\"data row41 col6\" >2.06%</td>\n",
       "    </tr>\n",
       "    <tr>\n",
       "      <th id=\"T_54942_level3_row42\" class=\"row_heading level3 row42\" rowspan=\"6\">0.040000</th>\n",
       "      <th id=\"T_54942_level4_row42\" class=\"row_heading level4 row42\" >-0.090000</th>\n",
       "      <td id=\"T_54942_row42_col0\" class=\"data row42 col0\" >75</td>\n",
       "      <td id=\"T_54942_row42_col1\" class=\"data row42 col1\" >37.53%</td>\n",
       "      <td id=\"T_54942_row42_col2\" class=\"data row42 col2\" >-24.00%</td>\n",
       "      <td id=\"T_54942_row42_col3\" class=\"data row42 col3\" >1.170000</td>\n",
       "      <td id=\"T_54942_row42_col4\" class=\"data row42 col4\" >1.870000</td>\n",
       "      <td id=\"T_54942_row42_col5\" class=\"data row42 col5\" >1.51%</td>\n",
       "      <td id=\"T_54942_row42_col6\" class=\"data row42 col6\" >2.37%</td>\n",
       "    </tr>\n",
       "    <tr>\n",
       "      <th id=\"T_54942_level4_row43\" class=\"row_heading level4 row43\" >-0.080000</th>\n",
       "      <td id=\"T_54942_row43_col0\" class=\"data row43 col0\" >79</td>\n",
       "      <td id=\"T_54942_row43_col1\" class=\"data row43 col1\" >46.19%</td>\n",
       "      <td id=\"T_54942_row43_col2\" class=\"data row43 col2\" >-24.00%</td>\n",
       "      <td id=\"T_54942_row43_col3\" class=\"data row43 col3\" >1.350000</td>\n",
       "      <td id=\"T_54942_row43_col4\" class=\"data row43 col4\" >2.180000</td>\n",
       "      <td id=\"T_54942_row43_col5\" class=\"data row43 col5\" >1.73%</td>\n",
       "      <td id=\"T_54942_row43_col6\" class=\"data row43 col6\" >3.16%</td>\n",
       "    </tr>\n",
       "    <tr>\n",
       "      <th id=\"T_54942_level4_row44\" class=\"row_heading level4 row44\" >-0.070000</th>\n",
       "      <td id=\"T_54942_row44_col0\" class=\"data row44 col0\" >85</td>\n",
       "      <td id=\"T_54942_row44_col1\" class=\"data row44 col1\" >61.89%</td>\n",
       "      <td id=\"T_54942_row44_col2\" class=\"data row44 col2\" >-24.00%</td>\n",
       "      <td id=\"T_54942_row44_col3\" class=\"data row44 col3\" >1.630000</td>\n",
       "      <td id=\"T_54942_row44_col4\" class=\"data row44 col4\" >2.670000</td>\n",
       "      <td id=\"T_54942_row44_col5\" class=\"data row44 col5\" >2.08%</td>\n",
       "      <td id=\"T_54942_row44_col6\" class=\"data row44 col6\" >5.53%</td>\n",
       "    </tr>\n",
       "    <tr>\n",
       "      <th id=\"T_54942_level4_row45\" class=\"row_heading level4 row45\" >-0.060000</th>\n",
       "      <td id=\"T_54942_row45_col0\" class=\"data row45 col0\" >93</td>\n",
       "      <td id=\"T_54942_row45_col1\" class=\"data row45 col1\" >56.03%</td>\n",
       "      <td id=\"T_54942_row45_col2\" class=\"data row45 col2\" >-23.00%</td>\n",
       "      <td id=\"T_54942_row45_col3\" class=\"data row45 col3\" >1.460000</td>\n",
       "      <td id=\"T_54942_row45_col4\" class=\"data row45 col4\" >2.300000</td>\n",
       "      <td id=\"T_54942_row45_col5\" class=\"data row45 col5\" >1.89%</td>\n",
       "      <td id=\"T_54942_row45_col6\" class=\"data row45 col6\" >4.47%</td>\n",
       "    </tr>\n",
       "    <tr>\n",
       "      <th id=\"T_54942_level4_row46\" class=\"row_heading level4 row46\" >-0.050000</th>\n",
       "      <td id=\"T_54942_row46_col0\" class=\"data row46 col0\" >99</td>\n",
       "      <td id=\"T_54942_row46_col1\" class=\"data row46 col1\" >53.32%</td>\n",
       "      <td id=\"T_54942_row46_col2\" class=\"data row46 col2\" >-23.00%</td>\n",
       "      <td id=\"T_54942_row46_col3\" class=\"data row46 col3\" >1.390000</td>\n",
       "      <td id=\"T_54942_row46_col4\" class=\"data row46 col4\" >2.190000</td>\n",
       "      <td id=\"T_54942_row46_col5\" class=\"data row46 col5\" >2.00%</td>\n",
       "      <td id=\"T_54942_row46_col6\" class=\"data row46 col6\" >3.16%</td>\n",
       "    </tr>\n",
       "    <tr>\n",
       "      <th id=\"T_54942_level4_row47\" class=\"row_heading level4 row47\" >-0.040000</th>\n",
       "      <td id=\"T_54942_row47_col0\" class=\"data row47 col0\" >109</td>\n",
       "      <td id=\"T_54942_row47_col1\" class=\"data row47 col1\" >54.51%</td>\n",
       "      <td id=\"T_54942_row47_col2\" class=\"data row47 col2\" >-21.00%</td>\n",
       "      <td id=\"T_54942_row47_col3\" class=\"data row47 col3\" >1.450000</td>\n",
       "      <td id=\"T_54942_row47_col4\" class=\"data row47 col4\" >2.350000</td>\n",
       "      <td id=\"T_54942_row47_col5\" class=\"data row47 col5\" >1.67%</td>\n",
       "      <td id=\"T_54942_row47_col6\" class=\"data row47 col6\" >2.03%</td>\n",
       "    </tr>\n",
       "    <tr>\n",
       "      <th id=\"T_54942_level2_row48\" class=\"row_heading level2 row48\" rowspan=\"24\">1.080000</th>\n",
       "      <th id=\"T_54942_level3_row48\" class=\"row_heading level3 row48\" rowspan=\"6\">0.000100</th>\n",
       "      <th id=\"T_54942_level4_row48\" class=\"row_heading level4 row48\" >-0.090000</th>\n",
       "      <td id=\"T_54942_row48_col0\" class=\"data row48 col0\" >98</td>\n",
       "      <td id=\"T_54942_row48_col1\" class=\"data row48 col1\" >63.07%</td>\n",
       "      <td id=\"T_54942_row48_col2\" class=\"data row48 col2\" >-18.00%</td>\n",
       "      <td id=\"T_54942_row48_col3\" class=\"data row48 col3\" >1.680000</td>\n",
       "      <td id=\"T_54942_row48_col4\" class=\"data row48 col4\" >2.740000</td>\n",
       "      <td id=\"T_54942_row48_col5\" class=\"data row48 col5\" >1.98%</td>\n",
       "      <td id=\"T_54942_row48_col6\" class=\"data row48 col6\" >3.55%</td>\n",
       "    </tr>\n",
       "    <tr>\n",
       "      <th id=\"T_54942_level4_row49\" class=\"row_heading level4 row49\" >-0.080000</th>\n",
       "      <td id=\"T_54942_row49_col0\" class=\"data row49 col0\" >102</td>\n",
       "      <td id=\"T_54942_row49_col1\" class=\"data row49 col1\" >71.96%</td>\n",
       "      <td id=\"T_54942_row49_col2\" class=\"data row49 col2\" >-18.00%</td>\n",
       "      <td id=\"T_54942_row49_col3\" class=\"data row49 col3\" >1.820000</td>\n",
       "      <td id=\"T_54942_row49_col4\" class=\"data row49 col4\" >3.020000</td>\n",
       "      <td id=\"T_54942_row49_col5\" class=\"data row49 col5\" >2.20%</td>\n",
       "      <td id=\"T_54942_row49_col6\" class=\"data row49 col6\" >4.92%</td>\n",
       "    </tr>\n",
       "    <tr>\n",
       "      <th id=\"T_54942_level4_row50\" class=\"row_heading level4 row50\" >-0.070000</th>\n",
       "      <td id=\"T_54942_row50_col0\" class=\"data row50 col0\" >106</td>\n",
       "      <td id=\"T_54942_row50_col1\" class=\"data row50 col1\" >88.64%</td>\n",
       "      <td id=\"T_54942_row50_col2\" class=\"data row50 col2\" >-18.00%</td>\n",
       "      <td id=\"T_54942_row50_col3\" class=\"data row50 col3\" >2.070000</td>\n",
       "      <td id=\"T_54942_row50_col4\" class=\"data row50 col4\" >3.470000</td>\n",
       "      <td id=\"T_54942_row50_col5\" class=\"data row50 col5\" >2.39%</td>\n",
       "      <td id=\"T_54942_row50_col6\" class=\"data row50 col6\" >5.51%</td>\n",
       "    </tr>\n",
       "    <tr>\n",
       "      <th id=\"T_54942_level4_row51\" class=\"row_heading level4 row51\" >-0.060000</th>\n",
       "      <td id=\"T_54942_row51_col0\" class=\"data row51 col0\" >114</td>\n",
       "      <td id=\"T_54942_row51_col1\" class=\"data row51 col1\" >81.90%</td>\n",
       "      <td id=\"T_54942_row51_col2\" class=\"data row51 col2\" >-16.00%</td>\n",
       "      <td id=\"T_54942_row51_col3\" class=\"data row51 col3\" >1.920000</td>\n",
       "      <td id=\"T_54942_row51_col4\" class=\"data row51 col4\" >3.110000</td>\n",
       "      <td id=\"T_54942_row51_col5\" class=\"data row51 col5\" >2.20%</td>\n",
       "      <td id=\"T_54942_row51_col6\" class=\"data row51 col6\" >5.39%</td>\n",
       "    </tr>\n",
       "    <tr>\n",
       "      <th id=\"T_54942_level4_row52\" class=\"row_heading level4 row52\" >-0.050000</th>\n",
       "      <td id=\"T_54942_row52_col0\" class=\"data row52 col0\" >120</td>\n",
       "      <td id=\"T_54942_row52_col1\" class=\"data row52 col1\" >77.27%</td>\n",
       "      <td id=\"T_54942_row52_col2\" class=\"data row52 col2\" >-16.00%</td>\n",
       "      <td id=\"T_54942_row52_col3\" class=\"data row52 col3\" >1.810000</td>\n",
       "      <td id=\"T_54942_row52_col4\" class=\"data row52 col4\" >2.940000</td>\n",
       "      <td id=\"T_54942_row52_col5\" class=\"data row52 col5\" >2.25%</td>\n",
       "      <td id=\"T_54942_row52_col6\" class=\"data row52 col6\" >3.61%</td>\n",
       "    </tr>\n",
       "    <tr>\n",
       "      <th id=\"T_54942_level4_row53\" class=\"row_heading level4 row53\" >-0.040000</th>\n",
       "      <td id=\"T_54942_row53_col0\" class=\"data row53 col0\" >130</td>\n",
       "      <td id=\"T_54942_row53_col1\" class=\"data row53 col1\" >74.83%</td>\n",
       "      <td id=\"T_54942_row53_col2\" class=\"data row53 col2\" >-17.00%</td>\n",
       "      <td id=\"T_54942_row53_col3\" class=\"data row53 col3\" >1.820000</td>\n",
       "      <td id=\"T_54942_row53_col4\" class=\"data row53 col4\" >2.980000</td>\n",
       "      <td id=\"T_54942_row53_col5\" class=\"data row53 col5\" >1.96%</td>\n",
       "      <td id=\"T_54942_row53_col6\" class=\"data row53 col6\" >1.42%</td>\n",
       "    </tr>\n",
       "    <tr>\n",
       "      <th id=\"T_54942_level3_row54\" class=\"row_heading level3 row54\" rowspan=\"6\">0.010000</th>\n",
       "      <th id=\"T_54942_level4_row54\" class=\"row_heading level4 row54\" >-0.090000</th>\n",
       "      <td id=\"T_54942_row54_col0\" class=\"data row54 col0\" >95</td>\n",
       "      <td id=\"T_54942_row54_col1\" class=\"data row54 col1\" >46.55%</td>\n",
       "      <td id=\"T_54942_row54_col2\" class=\"data row54 col2\" >-23.00%</td>\n",
       "      <td id=\"T_54942_row54_col3\" class=\"data row54 col3\" >1.330000</td>\n",
       "      <td id=\"T_54942_row54_col4\" class=\"data row54 col4\" >2.090000</td>\n",
       "      <td id=\"T_54942_row54_col5\" class=\"data row54 col5\" >1.89%</td>\n",
       "      <td id=\"T_54942_row54_col6\" class=\"data row54 col6\" >2.37%</td>\n",
       "    </tr>\n",
       "    <tr>\n",
       "      <th id=\"T_54942_level4_row55\" class=\"row_heading level4 row55\" >-0.080000</th>\n",
       "      <td id=\"T_54942_row55_col0\" class=\"data row55 col0\" >99</td>\n",
       "      <td id=\"T_54942_row55_col1\" class=\"data row55 col1\" >56.30%</td>\n",
       "      <td id=\"T_54942_row55_col2\" class=\"data row55 col2\" >-23.00%</td>\n",
       "      <td id=\"T_54942_row55_col3\" class=\"data row55 col3\" >1.500000</td>\n",
       "      <td id=\"T_54942_row55_col4\" class=\"data row55 col4\" >2.420000</td>\n",
       "      <td id=\"T_54942_row55_col5\" class=\"data row55 col5\" >2.12%</td>\n",
       "      <td id=\"T_54942_row55_col6\" class=\"data row55 col6\" >4.47%</td>\n",
       "    </tr>\n",
       "    <tr>\n",
       "      <th id=\"T_54942_level4_row56\" class=\"row_heading level4 row56\" >-0.070000</th>\n",
       "      <td id=\"T_54942_row56_col0\" class=\"data row56 col0\" >103</td>\n",
       "      <td id=\"T_54942_row56_col1\" class=\"data row56 col1\" >71.47%</td>\n",
       "      <td id=\"T_54942_row56_col2\" class=\"data row56 col2\" >-23.00%</td>\n",
       "      <td id=\"T_54942_row56_col3\" class=\"data row56 col3\" >1.760000</td>\n",
       "      <td id=\"T_54942_row56_col4\" class=\"data row56 col4\" >2.850000</td>\n",
       "      <td id=\"T_54942_row56_col5\" class=\"data row56 col5\" >2.33%</td>\n",
       "      <td id=\"T_54942_row56_col6\" class=\"data row56 col6\" >5.53%</td>\n",
       "    </tr>\n",
       "    <tr>\n",
       "      <th id=\"T_54942_level4_row57\" class=\"row_heading level4 row57\" >-0.060000</th>\n",
       "      <td id=\"T_54942_row57_col0\" class=\"data row57 col0\" >111</td>\n",
       "      <td id=\"T_54942_row57_col1\" class=\"data row57 col1\" >65.34%</td>\n",
       "      <td id=\"T_54942_row57_col2\" class=\"data row57 col2\" >-24.00%</td>\n",
       "      <td id=\"T_54942_row57_col3\" class=\"data row57 col3\" >1.620000</td>\n",
       "      <td id=\"T_54942_row57_col4\" class=\"data row57 col4\" >2.550000</td>\n",
       "      <td id=\"T_54942_row57_col5\" class=\"data row57 col5\" >2.14%</td>\n",
       "      <td id=\"T_54942_row57_col6\" class=\"data row57 col6\" >5.41%</td>\n",
       "    </tr>\n",
       "    <tr>\n",
       "      <th id=\"T_54942_level4_row58\" class=\"row_heading level4 row58\" >-0.050000</th>\n",
       "      <td id=\"T_54942_row58_col0\" class=\"data row58 col0\" >117</td>\n",
       "      <td id=\"T_54942_row58_col1\" class=\"data row58 col1\" >61.19%</td>\n",
       "      <td id=\"T_54942_row58_col2\" class=\"data row58 col2\" >-23.00%</td>\n",
       "      <td id=\"T_54942_row58_col3\" class=\"data row58 col3\" >1.520000</td>\n",
       "      <td id=\"T_54942_row58_col4\" class=\"data row58 col4\" >2.400000</td>\n",
       "      <td id=\"T_54942_row58_col5\" class=\"data row58 col5\" >2.21%</td>\n",
       "      <td id=\"T_54942_row58_col6\" class=\"data row58 col6\" >2.37%</td>\n",
       "    </tr>\n",
       "    <tr>\n",
       "      <th id=\"T_54942_level4_row59\" class=\"row_heading level4 row59\" >-0.040000</th>\n",
       "      <td id=\"T_54942_row59_col0\" class=\"data row59 col0\" >127</td>\n",
       "      <td id=\"T_54942_row59_col1\" class=\"data row59 col1\" >58.98%</td>\n",
       "      <td id=\"T_54942_row59_col2\" class=\"data row59 col2\" >-22.00%</td>\n",
       "      <td id=\"T_54942_row59_col3\" class=\"data row59 col3\" >1.520000</td>\n",
       "      <td id=\"T_54942_row59_col4\" class=\"data row59 col4\" >2.420000</td>\n",
       "      <td id=\"T_54942_row59_col5\" class=\"data row59 col5\" >1.91%</td>\n",
       "      <td id=\"T_54942_row59_col6\" class=\"data row59 col6\" >0.94%</td>\n",
       "    </tr>\n",
       "    <tr>\n",
       "      <th id=\"T_54942_level3_row60\" class=\"row_heading level3 row60\" rowspan=\"6\">0.025000</th>\n",
       "      <th id=\"T_54942_level4_row60\" class=\"row_heading level4 row60\" >-0.090000</th>\n",
       "      <td id=\"T_54942_row60_col0\" class=\"data row60 col0\" >82</td>\n",
       "      <td id=\"T_54942_row60_col1\" class=\"data row60 col1\" >61.99%</td>\n",
       "      <td id=\"T_54942_row60_col2\" class=\"data row60 col2\" >-23.00%</td>\n",
       "      <td id=\"T_54942_row60_col3\" class=\"data row60 col3\" >1.640000</td>\n",
       "      <td id=\"T_54942_row60_col4\" class=\"data row60 col4\" >2.740000</td>\n",
       "      <td id=\"T_54942_row60_col5\" class=\"data row60 col5\" >1.92%</td>\n",
       "      <td id=\"T_54942_row60_col6\" class=\"data row60 col6\" >2.06%</td>\n",
       "    </tr>\n",
       "    <tr>\n",
       "      <th id=\"T_54942_level4_row61\" class=\"row_heading level4 row61\" >-0.080000</th>\n",
       "      <td id=\"T_54942_row61_col0\" class=\"data row61 col0\" >86</td>\n",
       "      <td id=\"T_54942_row61_col1\" class=\"data row61 col1\" >74.92%</td>\n",
       "      <td id=\"T_54942_row61_col2\" class=\"data row61 col2\" >-23.00%</td>\n",
       "      <td id=\"T_54942_row61_col3\" class=\"data row61 col3\" >1.840000</td>\n",
       "      <td id=\"T_54942_row61_col4\" class=\"data row61 col4\" >3.130000</td>\n",
       "      <td id=\"T_54942_row61_col5\" class=\"data row61 col5\" >2.17%</td>\n",
       "      <td id=\"T_54942_row61_col6\" class=\"data row61 col6\" >2.23%</td>\n",
       "    </tr>\n",
       "    <tr>\n",
       "      <th id=\"T_54942_level4_row62\" class=\"row_heading level4 row62\" >-0.070000</th>\n",
       "      <td id=\"T_54942_row62_col0\" class=\"data row62 col0\" >90</td>\n",
       "      <td id=\"T_54942_row62_col1\" class=\"data row62 col1\" >91.96%</td>\n",
       "      <td id=\"T_54942_row62_col2\" class=\"data row62 col2\" >-23.00%</td>\n",
       "      <td id=\"T_54942_row62_col3\" class=\"data row62 col3\" >2.090000</td>\n",
       "      <td id=\"T_54942_row62_col4\" class=\"data row62 col4\" >3.570000</td>\n",
       "      <td id=\"T_54942_row62_col5\" class=\"data row62 col5\" >2.48%</td>\n",
       "      <td id=\"T_54942_row62_col6\" class=\"data row62 col6\" >5.00%</td>\n",
       "    </tr>\n",
       "    <tr>\n",
       "      <th id=\"T_54942_level4_row63\" class=\"row_heading level4 row63\" >-0.060000</th>\n",
       "      <td id=\"T_54942_row63_col0\" class=\"data row63 col0\" >98</td>\n",
       "      <td id=\"T_54942_row63_col1\" class=\"data row63 col1\" >85.10%</td>\n",
       "      <td id=\"T_54942_row63_col2\" class=\"data row63 col2\" >-23.00%</td>\n",
       "      <td id=\"T_54942_row63_col3\" class=\"data row63 col3\" >1.940000</td>\n",
       "      <td id=\"T_54942_row63_col4\" class=\"data row63 col4\" >3.210000</td>\n",
       "      <td id=\"T_54942_row63_col5\" class=\"data row63 col5\" >2.25%</td>\n",
       "      <td id=\"T_54942_row63_col6\" class=\"data row63 col6\" >3.42%</td>\n",
       "    </tr>\n",
       "    <tr>\n",
       "      <th id=\"T_54942_level4_row64\" class=\"row_heading level4 row64\" >-0.050000</th>\n",
       "      <td id=\"T_54942_row64_col0\" class=\"data row64 col0\" >104</td>\n",
       "      <td id=\"T_54942_row64_col1\" class=\"data row64 col1\" >80.35%</td>\n",
       "      <td id=\"T_54942_row64_col2\" class=\"data row64 col2\" >-22.00%</td>\n",
       "      <td id=\"T_54942_row64_col3\" class=\"data row64 col3\" >1.830000</td>\n",
       "      <td id=\"T_54942_row64_col4\" class=\"data row64 col4\" >3.040000</td>\n",
       "      <td id=\"T_54942_row64_col5\" class=\"data row64 col5\" >2.25%</td>\n",
       "      <td id=\"T_54942_row64_col6\" class=\"data row64 col6\" >2.06%</td>\n",
       "    </tr>\n",
       "    <tr>\n",
       "      <th id=\"T_54942_level4_row65\" class=\"row_heading level4 row65\" >-0.040000</th>\n",
       "      <td id=\"T_54942_row65_col0\" class=\"data row65 col0\" >114</td>\n",
       "      <td id=\"T_54942_row65_col1\" class=\"data row65 col1\" >77.87%</td>\n",
       "      <td id=\"T_54942_row65_col2\" class=\"data row65 col2\" >-21.00%</td>\n",
       "      <td id=\"T_54942_row65_col3\" class=\"data row65 col3\" >1.850000</td>\n",
       "      <td id=\"T_54942_row65_col4\" class=\"data row65 col4\" >3.090000</td>\n",
       "      <td id=\"T_54942_row65_col5\" class=\"data row65 col5\" >1.91%</td>\n",
       "      <td id=\"T_54942_row65_col6\" class=\"data row65 col6\" >1.11%</td>\n",
       "    </tr>\n",
       "    <tr>\n",
       "      <th id=\"T_54942_level3_row66\" class=\"row_heading level3 row66\" rowspan=\"6\">0.040000</th>\n",
       "      <th id=\"T_54942_level4_row66\" class=\"row_heading level4 row66\" >-0.090000</th>\n",
       "      <td id=\"T_54942_row66_col0\" class=\"data row66 col0\" >74</td>\n",
       "      <td id=\"T_54942_row66_col1\" class=\"data row66 col1\" >46.84%</td>\n",
       "      <td id=\"T_54942_row66_col2\" class=\"data row66 col2\" >-24.00%</td>\n",
       "      <td id=\"T_54942_row66_col3\" class=\"data row66 col3\" >1.320000</td>\n",
       "      <td id=\"T_54942_row66_col4\" class=\"data row66 col4\" >2.170000</td>\n",
       "      <td id=\"T_54942_row66_col5\" class=\"data row66 col5\" >1.83%</td>\n",
       "      <td id=\"T_54942_row66_col6\" class=\"data row66 col6\" >2.06%</td>\n",
       "    </tr>\n",
       "    <tr>\n",
       "      <th id=\"T_54942_level4_row67\" class=\"row_heading level4 row67\" >-0.080000</th>\n",
       "      <td id=\"T_54942_row67_col0\" class=\"data row67 col0\" >78</td>\n",
       "      <td id=\"T_54942_row67_col1\" class=\"data row67 col1\" >58.55%</td>\n",
       "      <td id=\"T_54942_row67_col2\" class=\"data row67 col2\" >-24.00%</td>\n",
       "      <td id=\"T_54942_row67_col3\" class=\"data row67 col3\" >1.530000</td>\n",
       "      <td id=\"T_54942_row67_col4\" class=\"data row67 col4\" >2.550000</td>\n",
       "      <td id=\"T_54942_row67_col5\" class=\"data row67 col5\" >2.11%</td>\n",
       "      <td id=\"T_54942_row67_col6\" class=\"data row67 col6\" >2.23%</td>\n",
       "    </tr>\n",
       "    <tr>\n",
       "      <th id=\"T_54942_level4_row68\" class=\"row_heading level4 row68\" >-0.070000</th>\n",
       "      <td id=\"T_54942_row68_col0\" class=\"data row68 col0\" >82</td>\n",
       "      <td id=\"T_54942_row68_col1\" class=\"data row68 col1\" >74.00%</td>\n",
       "      <td id=\"T_54942_row68_col2\" class=\"data row68 col2\" >-24.00%</td>\n",
       "      <td id=\"T_54942_row68_col3\" class=\"data row68 col3\" >1.780000</td>\n",
       "      <td id=\"T_54942_row68_col4\" class=\"data row68 col4\" >2.990000</td>\n",
       "      <td id=\"T_54942_row68_col5\" class=\"data row68 col5\" >2.45%</td>\n",
       "      <td id=\"T_54942_row68_col6\" class=\"data row68 col6\" >3.16%</td>\n",
       "    </tr>\n",
       "    <tr>\n",
       "      <th id=\"T_54942_level4_row69\" class=\"row_heading level4 row69\" >-0.060000</th>\n",
       "      <td id=\"T_54942_row69_col0\" class=\"data row69 col0\" >90</td>\n",
       "      <td id=\"T_54942_row69_col1\" class=\"data row69 col1\" >66.45%</td>\n",
       "      <td id=\"T_54942_row69_col2\" class=\"data row69 col2\" >-24.00%</td>\n",
       "      <td id=\"T_54942_row69_col3\" class=\"data row69 col3\" >1.590000</td>\n",
       "      <td id=\"T_54942_row69_col4\" class=\"data row69 col4\" >2.570000</td>\n",
       "      <td id=\"T_54942_row69_col5\" class=\"data row69 col5\" >2.19%</td>\n",
       "      <td id=\"T_54942_row69_col6\" class=\"data row69 col6\" >2.77%</td>\n",
       "    </tr>\n",
       "    <tr>\n",
       "      <th id=\"T_54942_level4_row70\" class=\"row_heading level4 row70\" >-0.050000</th>\n",
       "      <td id=\"T_54942_row70_col0\" class=\"data row70 col0\" >96</td>\n",
       "      <td id=\"T_54942_row70_col1\" class=\"data row70 col1\" >62.18%</td>\n",
       "      <td id=\"T_54942_row70_col2\" class=\"data row70 col2\" >-23.00%</td>\n",
       "      <td id=\"T_54942_row70_col3\" class=\"data row70 col3\" >1.490000</td>\n",
       "      <td id=\"T_54942_row70_col4\" class=\"data row70 col4\" >2.420000</td>\n",
       "      <td id=\"T_54942_row70_col5\" class=\"data row70 col5\" >2.20%</td>\n",
       "      <td id=\"T_54942_row70_col6\" class=\"data row70 col6\" >2.06%</td>\n",
       "    </tr>\n",
       "    <tr>\n",
       "      <th id=\"T_54942_level4_row71\" class=\"row_heading level4 row71\" >-0.040000</th>\n",
       "      <td id=\"T_54942_row71_col0\" class=\"data row71 col0\" >106</td>\n",
       "      <td id=\"T_54942_row71_col1\" class=\"data row71 col1\" >61.64%</td>\n",
       "      <td id=\"T_54942_row71_col2\" class=\"data row71 col2\" >-22.00%</td>\n",
       "      <td id=\"T_54942_row71_col3\" class=\"data row71 col3\" >1.530000</td>\n",
       "      <td id=\"T_54942_row71_col4\" class=\"data row71 col4\" >2.540000</td>\n",
       "      <td id=\"T_54942_row71_col5\" class=\"data row71 col5\" >1.84%</td>\n",
       "      <td id=\"T_54942_row71_col6\" class=\"data row71 col6\" >0.99%</td>\n",
       "    </tr>\n",
       "    <tr>\n",
       "      <th id=\"T_54942_level2_row72\" class=\"row_heading level2 row72\" rowspan=\"24\">1.090000</th>\n",
       "      <th id=\"T_54942_level3_row72\" class=\"row_heading level3 row72\" rowspan=\"6\">0.000100</th>\n",
       "      <th id=\"T_54942_level4_row72\" class=\"row_heading level4 row72\" >-0.090000</th>\n",
       "      <td id=\"T_54942_row72_col0\" class=\"data row72 col0\" >98</td>\n",
       "      <td id=\"T_54942_row72_col1\" class=\"data row72 col1\" >68.17%</td>\n",
       "      <td id=\"T_54942_row72_col2\" class=\"data row72 col2\" >-18.00%</td>\n",
       "      <td id=\"T_54942_row72_col3\" class=\"data row72 col3\" >1.710000</td>\n",
       "      <td id=\"T_54942_row72_col4\" class=\"data row72 col4\" >2.760000</td>\n",
       "      <td id=\"T_54942_row72_col5\" class=\"data row72 col5\" >2.08%</td>\n",
       "      <td id=\"T_54942_row72_col6\" class=\"data row72 col6\" >2.23%</td>\n",
       "    </tr>\n",
       "    <tr>\n",
       "      <th id=\"T_54942_level4_row73\" class=\"row_heading level4 row73\" >-0.080000</th>\n",
       "      <td id=\"T_54942_row73_col0\" class=\"data row73 col0\" >102</td>\n",
       "      <td id=\"T_54942_row73_col1\" class=\"data row73 col1\" >76.55%</td>\n",
       "      <td id=\"T_54942_row73_col2\" class=\"data row73 col2\" >-18.00%</td>\n",
       "      <td id=\"T_54942_row73_col3\" class=\"data row73 col3\" >1.830000</td>\n",
       "      <td id=\"T_54942_row73_col4\" class=\"data row73 col4\" >3.010000</td>\n",
       "      <td id=\"T_54942_row73_col5\" class=\"data row73 col5\" >2.30%</td>\n",
       "      <td id=\"T_54942_row73_col6\" class=\"data row73 col6\" >2.56%</td>\n",
       "    </tr>\n",
       "    <tr>\n",
       "      <th id=\"T_54942_level4_row74\" class=\"row_heading level4 row74\" >-0.070000</th>\n",
       "      <td id=\"T_54942_row74_col0\" class=\"data row74 col0\" >105</td>\n",
       "      <td id=\"T_54942_row74_col1\" class=\"data row74 col1\" >90.63%</td>\n",
       "      <td id=\"T_54942_row74_col2\" class=\"data row74 col2\" >-18.00%</td>\n",
       "      <td id=\"T_54942_row74_col3\" class=\"data row74 col3\" >2.030000</td>\n",
       "      <td id=\"T_54942_row74_col4\" class=\"data row74 col4\" >3.360000</td>\n",
       "      <td id=\"T_54942_row74_col5\" class=\"data row74 col5\" >2.45%</td>\n",
       "      <td id=\"T_54942_row74_col6\" class=\"data row74 col6\" >4.47%</td>\n",
       "    </tr>\n",
       "    <tr>\n",
       "      <th id=\"T_54942_level4_row75\" class=\"row_heading level4 row75\" >-0.060000</th>\n",
       "      <td id=\"T_54942_row75_col0\" class=\"data row75 col0\" >113</td>\n",
       "      <td id=\"T_54942_row75_col1\" class=\"data row75 col1\" >79.80%</td>\n",
       "      <td id=\"T_54942_row75_col2\" class=\"data row75 col2\" >-16.00%</td>\n",
       "      <td id=\"T_54942_row75_col3\" class=\"data row75 col3\" >1.830000</td>\n",
       "      <td id=\"T_54942_row75_col4\" class=\"data row75 col4\" >2.930000</td>\n",
       "      <td id=\"T_54942_row75_col5\" class=\"data row75 col5\" >2.16%</td>\n",
       "      <td id=\"T_54942_row75_col6\" class=\"data row75 col6\" >2.37%</td>\n",
       "    </tr>\n",
       "    <tr>\n",
       "      <th id=\"T_54942_level4_row76\" class=\"row_heading level4 row76\" >-0.050000</th>\n",
       "      <td id=\"T_54942_row76_col0\" class=\"data row76 col0\" >119</td>\n",
       "      <td id=\"T_54942_row76_col1\" class=\"data row76 col1\" >75.65%</td>\n",
       "      <td id=\"T_54942_row76_col2\" class=\"data row76 col2\" >-17.00%</td>\n",
       "      <td id=\"T_54942_row76_col3\" class=\"data row76 col3\" >1.730000</td>\n",
       "      <td id=\"T_54942_row76_col4\" class=\"data row76 col4\" >2.790000</td>\n",
       "      <td id=\"T_54942_row76_col5\" class=\"data row76 col5\" >2.19%</td>\n",
       "      <td id=\"T_54942_row76_col6\" class=\"data row76 col6\" >1.97%</td>\n",
       "    </tr>\n",
       "    <tr>\n",
       "      <th id=\"T_54942_level4_row77\" class=\"row_heading level4 row77\" >-0.040000</th>\n",
       "      <td id=\"T_54942_row77_col0\" class=\"data row77 col0\" >129</td>\n",
       "      <td id=\"T_54942_row77_col1\" class=\"data row77 col1\" >77.82%</td>\n",
       "      <td id=\"T_54942_row77_col2\" class=\"data row77 col2\" >-17.00%</td>\n",
       "      <td id=\"T_54942_row77_col3\" class=\"data row77 col3\" >1.840000</td>\n",
       "      <td id=\"T_54942_row77_col4\" class=\"data row77 col4\" >3.010000</td>\n",
       "      <td id=\"T_54942_row77_col5\" class=\"data row77 col5\" >1.98%</td>\n",
       "      <td id=\"T_54942_row77_col6\" class=\"data row77 col6\" >0.82%</td>\n",
       "    </tr>\n",
       "    <tr>\n",
       "      <th id=\"T_54942_level3_row78\" class=\"row_heading level3 row78\" rowspan=\"6\">0.010000</th>\n",
       "      <th id=\"T_54942_level4_row78\" class=\"row_heading level4 row78\" >-0.090000</th>\n",
       "      <td id=\"T_54942_row78_col0\" class=\"data row78 col0\" >95</td>\n",
       "      <td id=\"T_54942_row78_col1\" class=\"data row78 col1\" >51.89%</td>\n",
       "      <td id=\"T_54942_row78_col2\" class=\"data row78 col2\" >-23.00%</td>\n",
       "      <td id=\"T_54942_row78_col3\" class=\"data row78 col3\" >1.390000</td>\n",
       "      <td id=\"T_54942_row78_col4\" class=\"data row78 col4\" >2.180000</td>\n",
       "      <td id=\"T_54942_row78_col5\" class=\"data row78 col5\" >2.00%</td>\n",
       "      <td id=\"T_54942_row78_col6\" class=\"data row78 col6\" >1.19%</td>\n",
       "    </tr>\n",
       "    <tr>\n",
       "      <th id=\"T_54942_level4_row79\" class=\"row_heading level4 row79\" >-0.080000</th>\n",
       "      <td id=\"T_54942_row79_col0\" class=\"data row79 col0\" >99</td>\n",
       "      <td id=\"T_54942_row79_col1\" class=\"data row79 col1\" >61.29%</td>\n",
       "      <td id=\"T_54942_row79_col2\" class=\"data row79 col2\" >-23.00%</td>\n",
       "      <td id=\"T_54942_row79_col3\" class=\"data row79 col3\" >1.540000</td>\n",
       "      <td id=\"T_54942_row79_col4\" class=\"data row79 col4\" >2.470000</td>\n",
       "      <td id=\"T_54942_row79_col5\" class=\"data row79 col5\" >2.22%</td>\n",
       "      <td id=\"T_54942_row79_col6\" class=\"data row79 col6\" >2.08%</td>\n",
       "    </tr>\n",
       "    <tr>\n",
       "      <th id=\"T_54942_level4_row80\" class=\"row_heading level4 row80\" >-0.070000</th>\n",
       "      <td id=\"T_54942_row80_col0\" class=\"data row80 col0\" >102</td>\n",
       "      <td id=\"T_54942_row80_col1\" class=\"data row80 col1\" >74.16%</td>\n",
       "      <td id=\"T_54942_row80_col2\" class=\"data row80 col2\" >-23.00%</td>\n",
       "      <td id=\"T_54942_row80_col3\" class=\"data row80 col3\" >1.750000</td>\n",
       "      <td id=\"T_54942_row80_col4\" class=\"data row80 col4\" >2.810000</td>\n",
       "      <td id=\"T_54942_row80_col5\" class=\"data row80 col5\" >2.39%</td>\n",
       "      <td id=\"T_54942_row80_col6\" class=\"data row80 col6\" >3.42%</td>\n",
       "    </tr>\n",
       "    <tr>\n",
       "      <th id=\"T_54942_level4_row81\" class=\"row_heading level4 row81\" >-0.060000</th>\n",
       "      <td id=\"T_54942_row81_col0\" class=\"data row81 col0\" >110</td>\n",
       "      <td id=\"T_54942_row81_col1\" class=\"data row81 col1\" >64.27%</td>\n",
       "      <td id=\"T_54942_row81_col2\" class=\"data row81 col2\" >-23.00%</td>\n",
       "      <td id=\"T_54942_row81_col3\" class=\"data row81 col3\" >1.550000</td>\n",
       "      <td id=\"T_54942_row81_col4\" class=\"data row81 col4\" >2.430000</td>\n",
       "      <td id=\"T_54942_row81_col5\" class=\"data row81 col5\" >2.10%</td>\n",
       "      <td id=\"T_54942_row81_col6\" class=\"data row81 col6\" >1.64%</td>\n",
       "    </tr>\n",
       "    <tr>\n",
       "      <th id=\"T_54942_level4_row82\" class=\"row_heading level4 row82\" >-0.050000</th>\n",
       "      <td id=\"T_54942_row82_col0\" class=\"data row82 col0\" >116</td>\n",
       "      <td id=\"T_54942_row82_col1\" class=\"data row82 col1\" >60.53%</td>\n",
       "      <td id=\"T_54942_row82_col2\" class=\"data row82 col2\" >-23.00%</td>\n",
       "      <td id=\"T_54942_row82_col3\" class=\"data row82 col3\" >1.470000</td>\n",
       "      <td id=\"T_54942_row82_col4\" class=\"data row82 col4\" >2.310000</td>\n",
       "      <td id=\"T_54942_row82_col5\" class=\"data row82 col5\" >2.15%</td>\n",
       "      <td id=\"T_54942_row82_col6\" class=\"data row82 col6\" >1.42%</td>\n",
       "    </tr>\n",
       "    <tr>\n",
       "      <th id=\"T_54942_level4_row83\" class=\"row_heading level4 row83\" >-0.040000</th>\n",
       "      <td id=\"T_54942_row83_col0\" class=\"data row83 col0\" >126</td>\n",
       "      <td id=\"T_54942_row83_col1\" class=\"data row83 col1\" >62.52%</td>\n",
       "      <td id=\"T_54942_row83_col2\" class=\"data row83 col2\" >-22.00%</td>\n",
       "      <td id=\"T_54942_row83_col3\" class=\"data row83 col3\" >1.550000</td>\n",
       "      <td id=\"T_54942_row83_col4\" class=\"data row83 col4\" >2.480000</td>\n",
       "      <td id=\"T_54942_row83_col5\" class=\"data row83 col5\" >1.94%</td>\n",
       "      <td id=\"T_54942_row83_col6\" class=\"data row83 col6\" >0.49%</td>\n",
       "    </tr>\n",
       "    <tr>\n",
       "      <th id=\"T_54942_level3_row84\" class=\"row_heading level3 row84\" rowspan=\"6\">0.025000</th>\n",
       "      <th id=\"T_54942_level4_row84\" class=\"row_heading level4 row84\" >-0.090000</th>\n",
       "      <td id=\"T_54942_row84_col0\" class=\"data row84 col0\" >82</td>\n",
       "      <td id=\"T_54942_row84_col1\" class=\"data row84 col1\" >62.86%</td>\n",
       "      <td id=\"T_54942_row84_col2\" class=\"data row84 col2\" >-23.00%</td>\n",
       "      <td id=\"T_54942_row84_col3\" class=\"data row84 col3\" >1.610000</td>\n",
       "      <td id=\"T_54942_row84_col4\" class=\"data row84 col4\" >2.640000</td>\n",
       "      <td id=\"T_54942_row84_col5\" class=\"data row84 col5\" >1.88%</td>\n",
       "      <td id=\"T_54942_row84_col6\" class=\"data row84 col6\" >1.49%</td>\n",
       "    </tr>\n",
       "    <tr>\n",
       "      <th id=\"T_54942_level4_row85\" class=\"row_heading level4 row85\" >-0.080000</th>\n",
       "      <td id=\"T_54942_row85_col0\" class=\"data row85 col0\" >86</td>\n",
       "      <td id=\"T_54942_row85_col1\" class=\"data row85 col1\" >75.09%</td>\n",
       "      <td id=\"T_54942_row85_col2\" class=\"data row85 col2\" >-23.00%</td>\n",
       "      <td id=\"T_54942_row85_col3\" class=\"data row85 col3\" >1.780000</td>\n",
       "      <td id=\"T_54942_row85_col4\" class=\"data row85 col4\" >2.980000</td>\n",
       "      <td id=\"T_54942_row85_col5\" class=\"data row85 col5\" >2.13%</td>\n",
       "      <td id=\"T_54942_row85_col6\" class=\"data row85 col6\" >1.91%</td>\n",
       "    </tr>\n",
       "    <tr>\n",
       "      <th id=\"T_54942_level4_row86\" class=\"row_heading level4 row86\" >-0.070000</th>\n",
       "      <td id=\"T_54942_row86_col0\" class=\"data row86 col0\" >89</td>\n",
       "      <td id=\"T_54942_row86_col1\" class=\"data row86 col1\" >89.12%</td>\n",
       "      <td id=\"T_54942_row86_col2\" class=\"data row86 col2\" >-23.00%</td>\n",
       "      <td id=\"T_54942_row86_col3\" class=\"data row86 col3\" >1.990000</td>\n",
       "      <td id=\"T_54942_row86_col4\" class=\"data row86 col4\" >3.330000</td>\n",
       "      <td id=\"T_54942_row86_col5\" class=\"data row86 col5\" >2.39%</td>\n",
       "      <td id=\"T_54942_row86_col6\" class=\"data row86 col6\" >2.08%</td>\n",
       "    </tr>\n",
       "    <tr>\n",
       "      <th id=\"T_54942_level4_row87\" class=\"row_heading level4 row87\" >-0.060000</th>\n",
       "      <td id=\"T_54942_row87_col0\" class=\"data row87 col0\" >97</td>\n",
       "      <td id=\"T_54942_row87_col1\" class=\"data row87 col1\" >78.37%</td>\n",
       "      <td id=\"T_54942_row87_col2\" class=\"data row87 col2\" >-22.00%</td>\n",
       "      <td id=\"T_54942_row87_col3\" class=\"data row87 col3\" >1.790000</td>\n",
       "      <td id=\"T_54942_row87_col4\" class=\"data row87 col4\" >2.910000</td>\n",
       "      <td id=\"T_54942_row87_col5\" class=\"data row87 col5\" >2.06%</td>\n",
       "      <td id=\"T_54942_row87_col6\" class=\"data row87 col6\" >1.80%</td>\n",
       "    </tr>\n",
       "    <tr>\n",
       "      <th id=\"T_54942_level4_row88\" class=\"row_heading level4 row88\" >-0.050000</th>\n",
       "      <td id=\"T_54942_row88_col0\" class=\"data row88 col0\" >103</td>\n",
       "      <td id=\"T_54942_row88_col1\" class=\"data row88 col1\" >74.22%</td>\n",
       "      <td id=\"T_54942_row88_col2\" class=\"data row88 col2\" >-23.00%</td>\n",
       "      <td id=\"T_54942_row88_col3\" class=\"data row88 col3\" >1.700000</td>\n",
       "      <td id=\"T_54942_row88_col4\" class=\"data row88 col4\" >2.760000</td>\n",
       "      <td id=\"T_54942_row88_col5\" class=\"data row88 col5\" >2.04%</td>\n",
       "      <td id=\"T_54942_row88_col6\" class=\"data row88 col6\" >1.65%</td>\n",
       "    </tr>\n",
       "    <tr>\n",
       "      <th id=\"T_54942_level4_row89\" class=\"row_heading level4 row89\" >-0.040000</th>\n",
       "      <td id=\"T_54942_row89_col0\" class=\"data row89 col0\" >113</td>\n",
       "      <td id=\"T_54942_row89_col1\" class=\"data row89 col1\" >76.37%</td>\n",
       "      <td id=\"T_54942_row89_col2\" class=\"data row89 col2\" >-22.00%</td>\n",
       "      <td id=\"T_54942_row89_col3\" class=\"data row89 col3\" >1.790000</td>\n",
       "      <td id=\"T_54942_row89_col4\" class=\"data row89 col4\" >2.990000</td>\n",
       "      <td id=\"T_54942_row89_col5\" class=\"data row89 col5\" >1.81%</td>\n",
       "      <td id=\"T_54942_row89_col6\" class=\"data row89 col6\" >0.52%</td>\n",
       "    </tr>\n",
       "    <tr>\n",
       "      <th id=\"T_54942_level3_row90\" class=\"row_heading level3 row90\" rowspan=\"6\">0.040000</th>\n",
       "      <th id=\"T_54942_level4_row90\" class=\"row_heading level4 row90\" >-0.090000</th>\n",
       "      <td id=\"T_54942_row90_col0\" class=\"data row90 col0\" >74</td>\n",
       "      <td id=\"T_54942_row90_col1\" class=\"data row90 col1\" >51.22%</td>\n",
       "      <td id=\"T_54942_row90_col2\" class=\"data row90 col2\" >-24.00%</td>\n",
       "      <td id=\"T_54942_row90_col3\" class=\"data row90 col3\" >1.400000</td>\n",
       "      <td id=\"T_54942_row90_col4\" class=\"data row90 col4\" >2.310000</td>\n",
       "      <td id=\"T_54942_row90_col5\" class=\"data row90 col5\" >1.89%</td>\n",
       "      <td id=\"T_54942_row90_col6\" class=\"data row90 col6\" >1.61%</td>\n",
       "    </tr>\n",
       "    <tr>\n",
       "      <th id=\"T_54942_level4_row91\" class=\"row_heading level4 row91\" >-0.080000</th>\n",
       "      <td id=\"T_54942_row91_col0\" class=\"data row91 col0\" >78</td>\n",
       "      <td id=\"T_54942_row91_col1\" class=\"data row91 col1\" >62.57%</td>\n",
       "      <td id=\"T_54942_row91_col2\" class=\"data row91 col2\" >-24.00%</td>\n",
       "      <td id=\"T_54942_row91_col3\" class=\"data row91 col3\" >1.590000</td>\n",
       "      <td id=\"T_54942_row91_col4\" class=\"data row91 col4\" >2.660000</td>\n",
       "      <td id=\"T_54942_row91_col5\" class=\"data row91 col5\" >2.17%</td>\n",
       "      <td id=\"T_54942_row91_col6\" class=\"data row91 col6\" >2.06%</td>\n",
       "    </tr>\n",
       "    <tr>\n",
       "      <th id=\"T_54942_level4_row92\" class=\"row_heading level4 row92\" >-0.070000</th>\n",
       "      <td id=\"T_54942_row92_col0\" class=\"data row92 col0\" >81</td>\n",
       "      <td id=\"T_54942_row92_col1\" class=\"data row92 col1\" >75.60%</td>\n",
       "      <td id=\"T_54942_row92_col2\" class=\"data row92 col2\" >-24.00%</td>\n",
       "      <td id=\"T_54942_row92_col3\" class=\"data row92 col3\" >1.800000</td>\n",
       "      <td id=\"T_54942_row92_col4\" class=\"data row92 col4\" >3.020000</td>\n",
       "      <td id=\"T_54942_row92_col5\" class=\"data row92 col5\" >2.45%</td>\n",
       "      <td id=\"T_54942_row92_col6\" class=\"data row92 col6\" >2.37%</td>\n",
       "    </tr>\n",
       "    <tr>\n",
       "      <th id=\"T_54942_level4_row93\" class=\"row_heading level4 row93\" >-0.060000</th>\n",
       "      <td id=\"T_54942_row93_col0\" class=\"data row93 col0\" >89</td>\n",
       "      <td id=\"T_54942_row93_col1\" class=\"data row93 col1\" >64.96%</td>\n",
       "      <td id=\"T_54942_row93_col2\" class=\"data row93 col2\" >-23.00%</td>\n",
       "      <td id=\"T_54942_row93_col3\" class=\"data row93 col3\" >1.560000</td>\n",
       "      <td id=\"T_54942_row93_col4\" class=\"data row93 col4\" >2.520000</td>\n",
       "      <td id=\"T_54942_row93_col5\" class=\"data row93 col5\" >2.08%</td>\n",
       "      <td id=\"T_54942_row93_col6\" class=\"data row93 col6\" >2.03%</td>\n",
       "    </tr>\n",
       "    <tr>\n",
       "      <th id=\"T_54942_level4_row94\" class=\"row_heading level4 row94\" >-0.050000</th>\n",
       "      <td id=\"T_54942_row94_col0\" class=\"data row94 col0\" >95</td>\n",
       "      <td id=\"T_54942_row94_col1\" class=\"data row94 col1\" >61.12%</td>\n",
       "      <td id=\"T_54942_row94_col2\" class=\"data row94 col2\" >-23.00%</td>\n",
       "      <td id=\"T_54942_row94_col3\" class=\"data row94 col3\" >1.470000</td>\n",
       "      <td id=\"T_54942_row94_col4\" class=\"data row94 col4\" >2.380000</td>\n",
       "      <td id=\"T_54942_row94_col5\" class=\"data row94 col5\" >2.06%</td>\n",
       "      <td id=\"T_54942_row94_col6\" class=\"data row94 col6\" >1.65%</td>\n",
       "    </tr>\n",
       "    <tr>\n",
       "      <th id=\"T_54942_level4_row95\" class=\"row_heading level4 row95\" >-0.040000</th>\n",
       "      <td id=\"T_54942_row95_col0\" class=\"data row95 col0\" >105</td>\n",
       "      <td id=\"T_54942_row95_col1\" class=\"data row95 col1\" >63.16%</td>\n",
       "      <td id=\"T_54942_row95_col2\" class=\"data row95 col2\" >-22.00%</td>\n",
       "      <td id=\"T_54942_row95_col3\" class=\"data row95 col3\" >1.550000</td>\n",
       "      <td id=\"T_54942_row95_col4\" class=\"data row95 col4\" >2.570000</td>\n",
       "      <td id=\"T_54942_row95_col5\" class=\"data row95 col5\" >1.81%</td>\n",
       "      <td id=\"T_54942_row95_col6\" class=\"data row95 col6\" >0.52%</td>\n",
       "    </tr>\n",
       "    <tr>\n",
       "      <th id=\"T_54942_level2_row96\" class=\"row_heading level2 row96\" rowspan=\"24\">1.100000</th>\n",
       "      <th id=\"T_54942_level3_row96\" class=\"row_heading level3 row96\" rowspan=\"6\">0.000100</th>\n",
       "      <th id=\"T_54942_level4_row96\" class=\"row_heading level4 row96\" >-0.090000</th>\n",
       "      <td id=\"T_54942_row96_col0\" class=\"data row96 col0\" >93</td>\n",
       "      <td id=\"T_54942_row96_col1\" class=\"data row96 col1\" >71.40%</td>\n",
       "      <td id=\"T_54942_row96_col2\" class=\"data row96 col2\" >-18.00%</td>\n",
       "      <td id=\"T_54942_row96_col3\" class=\"data row96 col3\" >1.750000</td>\n",
       "      <td id=\"T_54942_row96_col4\" class=\"data row96 col4\" >2.810000</td>\n",
       "      <td id=\"T_54942_row96_col5\" class=\"data row96 col5\" >2.29%</td>\n",
       "      <td id=\"T_54942_row96_col6\" class=\"data row96 col6\" >1.19%</td>\n",
       "    </tr>\n",
       "    <tr>\n",
       "      <th id=\"T_54942_level4_row97\" class=\"row_heading level4 row97\" >-0.080000</th>\n",
       "      <td id=\"T_54942_row97_col0\" class=\"data row97 col0\" >97</td>\n",
       "      <td id=\"T_54942_row97_col1\" class=\"data row97 col1\" >81.71%</td>\n",
       "      <td id=\"T_54942_row97_col2\" class=\"data row97 col2\" >-18.00%</td>\n",
       "      <td id=\"T_54942_row97_col3\" class=\"data row97 col3\" >1.890000</td>\n",
       "      <td id=\"T_54942_row97_col4\" class=\"data row97 col4\" >3.100000</td>\n",
       "      <td id=\"T_54942_row97_col5\" class=\"data row97 col5\" >2.55%</td>\n",
       "      <td id=\"T_54942_row97_col6\" class=\"data row97 col6\" >2.08%</td>\n",
       "    </tr>\n",
       "    <tr>\n",
       "      <th id=\"T_54942_level4_row98\" class=\"row_heading level4 row98\" >-0.070000</th>\n",
       "      <td id=\"T_54942_row98_col0\" class=\"data row98 col0\" >100</td>\n",
       "      <td id=\"T_54942_row98_col1\" class=\"data row98 col1\" >89.83%</td>\n",
       "      <td id=\"T_54942_row98_col2\" class=\"data row98 col2\" >-18.00%</td>\n",
       "      <td id=\"T_54942_row98_col3\" class=\"data row98 col3\" >1.990000</td>\n",
       "      <td id=\"T_54942_row98_col4\" class=\"data row98 col4\" >3.260000</td>\n",
       "      <td id=\"T_54942_row98_col5\" class=\"data row98 col5\" >2.62%</td>\n",
       "      <td id=\"T_54942_row98_col6\" class=\"data row98 col6\" >2.56%</td>\n",
       "    </tr>\n",
       "    <tr>\n",
       "      <th id=\"T_54942_level4_row99\" class=\"row_heading level4 row99\" >-0.060000</th>\n",
       "      <td id=\"T_54942_row99_col0\" class=\"data row99 col0\" >108</td>\n",
       "      <td id=\"T_54942_row99_col1\" class=\"data row99 col1\" >80.76%</td>\n",
       "      <td id=\"T_54942_row99_col2\" class=\"data row99 col2\" >-16.00%</td>\n",
       "      <td id=\"T_54942_row99_col3\" class=\"data row99 col3\" >1.810000</td>\n",
       "      <td id=\"T_54942_row99_col4\" class=\"data row99 col4\" >2.900000</td>\n",
       "      <td id=\"T_54942_row99_col5\" class=\"data row99 col5\" >2.33%</td>\n",
       "      <td id=\"T_54942_row99_col6\" class=\"data row99 col6\" >1.64%</td>\n",
       "    </tr>\n",
       "    <tr>\n",
       "      <th id=\"T_54942_level4_row100\" class=\"row_heading level4 row100\" >-0.050000</th>\n",
       "      <td id=\"T_54942_row100_col0\" class=\"data row100 col0\" >114</td>\n",
       "      <td id=\"T_54942_row100_col1\" class=\"data row100 col1\" >76.96%</td>\n",
       "      <td id=\"T_54942_row100_col2\" class=\"data row100 col2\" >-16.00%</td>\n",
       "      <td id=\"T_54942_row100_col3\" class=\"data row100 col3\" >1.730000</td>\n",
       "      <td id=\"T_54942_row100_col4\" class=\"data row100 col4\" >2.770000</td>\n",
       "      <td id=\"T_54942_row100_col5\" class=\"data row100 col5\" >2.37%</td>\n",
       "      <td id=\"T_54942_row100_col6\" class=\"data row100 col6\" >1.42%</td>\n",
       "    </tr>\n",
       "    <tr>\n",
       "      <th id=\"T_54942_level4_row101\" class=\"row_heading level4 row101\" >-0.040000</th>\n",
       "      <td id=\"T_54942_row101_col0\" class=\"data row101 col0\" >124</td>\n",
       "      <td id=\"T_54942_row101_col1\" class=\"data row101 col1\" >78.75%</td>\n",
       "      <td id=\"T_54942_row101_col2\" class=\"data row101 col2\" >-17.00%</td>\n",
       "      <td id=\"T_54942_row101_col3\" class=\"data row101 col3\" >1.820000</td>\n",
       "      <td id=\"T_54942_row101_col4\" class=\"data row101 col4\" >2.970000</td>\n",
       "      <td id=\"T_54942_row101_col5\" class=\"data row101 col5\" >2.15%</td>\n",
       "      <td id=\"T_54942_row101_col6\" class=\"data row101 col6\" >0.60%</td>\n",
       "    </tr>\n",
       "    <tr>\n",
       "      <th id=\"T_54942_level3_row102\" class=\"row_heading level3 row102\" rowspan=\"6\">0.010000</th>\n",
       "      <th id=\"T_54942_level4_row102\" class=\"row_heading level4 row102\" >-0.090000</th>\n",
       "      <td id=\"T_54942_row102_col0\" class=\"data row102 col0\" >90</td>\n",
       "      <td id=\"T_54942_row102_col1\" class=\"data row102 col1\" >56.24%</td>\n",
       "      <td id=\"T_54942_row102_col2\" class=\"data row102 col2\" >-23.00%</td>\n",
       "      <td id=\"T_54942_row102_col3\" class=\"data row102 col3\" >1.460000</td>\n",
       "      <td id=\"T_54942_row102_col4\" class=\"data row102 col4\" >2.290000</td>\n",
       "      <td id=\"T_54942_row102_col5\" class=\"data row102 col5\" >2.20%</td>\n",
       "      <td id=\"T_54942_row102_col6\" class=\"data row102 col6\" >0.63%</td>\n",
       "    </tr>\n",
       "    <tr>\n",
       "      <th id=\"T_54942_level4_row103\" class=\"row_heading level4 row103\" >-0.080000</th>\n",
       "      <td id=\"T_54942_row103_col0\" class=\"data row103 col0\" >94</td>\n",
       "      <td id=\"T_54942_row103_col1\" class=\"data row103 col1\" >67.54%</td>\n",
       "      <td id=\"T_54942_row103_col2\" class=\"data row103 col2\" >-23.00%</td>\n",
       "      <td id=\"T_54942_row103_col3\" class=\"data row103 col3\" >1.640000</td>\n",
       "      <td id=\"T_54942_row103_col4\" class=\"data row103 col4\" >2.620000</td>\n",
       "      <td id=\"T_54942_row103_col5\" class=\"data row103 col5\" >2.47%</td>\n",
       "      <td id=\"T_54942_row103_col6\" class=\"data row103 col6\" >0.97%</td>\n",
       "    </tr>\n",
       "    <tr>\n",
       "      <th id=\"T_54942_level4_row104\" class=\"row_heading level4 row104\" >-0.070000</th>\n",
       "      <td id=\"T_54942_row104_col0\" class=\"data row104 col0\" >97</td>\n",
       "      <td id=\"T_54942_row104_col1\" class=\"data row104 col1\" >75.03%</td>\n",
       "      <td id=\"T_54942_row104_col2\" class=\"data row104 col2\" >-23.00%</td>\n",
       "      <td id=\"T_54942_row104_col3\" class=\"data row104 col3\" >1.740000</td>\n",
       "      <td id=\"T_54942_row104_col4\" class=\"data row104 col4\" >2.790000</td>\n",
       "      <td id=\"T_54942_row104_col5\" class=\"data row104 col5\" >2.55%</td>\n",
       "      <td id=\"T_54942_row104_col6\" class=\"data row104 col6\" >2.08%</td>\n",
       "    </tr>\n",
       "    <tr>\n",
       "      <th id=\"T_54942_level4_row105\" class=\"row_heading level4 row105\" >-0.060000</th>\n",
       "      <td id=\"T_54942_row105_col0\" class=\"data row105 col0\" >105</td>\n",
       "      <td id=\"T_54942_row105_col1\" class=\"data row105 col1\" >66.67%</td>\n",
       "      <td id=\"T_54942_row105_col2\" class=\"data row105 col2\" >-22.00%</td>\n",
       "      <td id=\"T_54942_row105_col3\" class=\"data row105 col3\" >1.570000</td>\n",
       "      <td id=\"T_54942_row105_col4\" class=\"data row105 col4\" >2.470000</td>\n",
       "      <td id=\"T_54942_row105_col5\" class=\"data row105 col5\" >2.27%</td>\n",
       "      <td id=\"T_54942_row105_col6\" class=\"data row105 col6\" >0.75%</td>\n",
       "    </tr>\n",
       "    <tr>\n",
       "      <th id=\"T_54942_level4_row106\" class=\"row_heading level4 row106\" >-0.050000</th>\n",
       "      <td id=\"T_54942_row106_col0\" class=\"data row106 col0\" >111</td>\n",
       "      <td id=\"T_54942_row106_col1\" class=\"data row106 col1\" >63.23%</td>\n",
       "      <td id=\"T_54942_row106_col2\" class=\"data row106 col2\" >-22.00%</td>\n",
       "      <td id=\"T_54942_row106_col3\" class=\"data row106 col3\" >1.490000</td>\n",
       "      <td id=\"T_54942_row106_col4\" class=\"data row106 col4\" >2.350000</td>\n",
       "      <td id=\"T_54942_row106_col5\" class=\"data row106 col5\" >2.32%</td>\n",
       "      <td id=\"T_54942_row106_col6\" class=\"data row106 col6\" >0.75%</td>\n",
       "    </tr>\n",
       "    <tr>\n",
       "      <th id=\"T_54942_level4_row107\" class=\"row_heading level4 row107\" >-0.040000</th>\n",
       "      <td id=\"T_54942_row107_col0\" class=\"data row107 col0\" >121</td>\n",
       "      <td id=\"T_54942_row107_col1\" class=\"data row107 col1\" >64.88%</td>\n",
       "      <td id=\"T_54942_row107_col2\" class=\"data row107 col2\" >-22.00%</td>\n",
       "      <td id=\"T_54942_row107_col3\" class=\"data row107 col3\" >1.570000</td>\n",
       "      <td id=\"T_54942_row107_col4\" class=\"data row107 col4\" >2.510000</td>\n",
       "      <td id=\"T_54942_row107_col5\" class=\"data row107 col5\" >2.10%</td>\n",
       "      <td id=\"T_54942_row107_col6\" class=\"data row107 col6\" >0.46%</td>\n",
       "    </tr>\n",
       "    <tr>\n",
       "      <th id=\"T_54942_level3_row108\" class=\"row_heading level3 row108\" rowspan=\"6\">0.025000</th>\n",
       "      <th id=\"T_54942_level4_row108\" class=\"row_heading level4 row108\" >-0.090000</th>\n",
       "      <td id=\"T_54942_row108_col0\" class=\"data row108 col0\" >78</td>\n",
       "      <td id=\"T_54942_row108_col1\" class=\"data row108 col1\" >67.33%</td>\n",
       "      <td id=\"T_54942_row108_col2\" class=\"data row108 col2\" >-23.00%</td>\n",
       "      <td id=\"T_54942_row108_col3\" class=\"data row108 col3\" >1.670000</td>\n",
       "      <td id=\"T_54942_row108_col4\" class=\"data row108 col4\" >2.740000</td>\n",
       "      <td id=\"T_54942_row108_col5\" class=\"data row108 col5\" >1.99%</td>\n",
       "      <td id=\"T_54942_row108_col6\" class=\"data row108 col6\" >1.11%</td>\n",
       "    </tr>\n",
       "    <tr>\n",
       "      <th id=\"T_54942_level4_row109\" class=\"row_heading level4 row109\" >-0.080000</th>\n",
       "      <td id=\"T_54942_row109_col0\" class=\"data row109 col0\" >82</td>\n",
       "      <td id=\"T_54942_row109_col1\" class=\"data row109 col1\" >81.66%</td>\n",
       "      <td id=\"T_54942_row109_col2\" class=\"data row109 col2\" >-23.00%</td>\n",
       "      <td id=\"T_54942_row109_col3\" class=\"data row109 col3\" >1.870000</td>\n",
       "      <td id=\"T_54942_row109_col4\" class=\"data row109 col4\" >3.130000</td>\n",
       "      <td id=\"T_54942_row109_col5\" class=\"data row109 col5\" >2.31%</td>\n",
       "      <td id=\"T_54942_row109_col6\" class=\"data row109 col6\" >1.43%</td>\n",
       "    </tr>\n",
       "    <tr>\n",
       "      <th id=\"T_54942_level4_row110\" class=\"row_heading level4 row110\" >-0.070000</th>\n",
       "      <td id=\"T_54942_row110_col0\" class=\"data row110 col0\" >85</td>\n",
       "      <td id=\"T_54942_row110_col1\" class=\"data row110 col1\" >89.84%</td>\n",
       "      <td id=\"T_54942_row110_col2\" class=\"data row110 col2\" >-23.00%</td>\n",
       "      <td id=\"T_54942_row110_col3\" class=\"data row110 col3\" >1.970000</td>\n",
       "      <td id=\"T_54942_row110_col4\" class=\"data row110 col4\" >3.290000</td>\n",
       "      <td id=\"T_54942_row110_col5\" class=\"data row110 col5\" >2.47%</td>\n",
       "      <td id=\"T_54942_row110_col6\" class=\"data row110 col6\" >1.80%</td>\n",
       "    </tr>\n",
       "    <tr>\n",
       "      <th id=\"T_54942_level4_row111\" class=\"row_heading level4 row111\" >-0.060000</th>\n",
       "      <td id=\"T_54942_row111_col0\" class=\"data row111 col0\" >93</td>\n",
       "      <td id=\"T_54942_row111_col1\" class=\"data row111 col1\" >80.77%</td>\n",
       "      <td id=\"T_54942_row111_col2\" class=\"data row111 col2\" >-21.00%</td>\n",
       "      <td id=\"T_54942_row111_col3\" class=\"data row111 col3\" >1.790000</td>\n",
       "      <td id=\"T_54942_row111_col4\" class=\"data row111 col4\" >2.930000</td>\n",
       "      <td id=\"T_54942_row111_col5\" class=\"data row111 col5\" >2.15%</td>\n",
       "      <td id=\"T_54942_row111_col6\" class=\"data row111 col6\" >1.19%</td>\n",
       "    </tr>\n",
       "    <tr>\n",
       "      <th id=\"T_54942_level4_row112\" class=\"row_heading level4 row112\" >-0.050000</th>\n",
       "      <td id=\"T_54942_row112_col0\" class=\"data row112 col0\" >99</td>\n",
       "      <td id=\"T_54942_row112_col1\" class=\"data row112 col1\" >76.94%</td>\n",
       "      <td id=\"T_54942_row112_col2\" class=\"data row112 col2\" >-21.00%</td>\n",
       "      <td id=\"T_54942_row112_col3\" class=\"data row112 col3\" >1.710000</td>\n",
       "      <td id=\"T_54942_row112_col4\" class=\"data row112 col4\" >2.790000</td>\n",
       "      <td id=\"T_54942_row112_col5\" class=\"data row112 col5\" >2.14%</td>\n",
       "      <td id=\"T_54942_row112_col6\" class=\"data row112 col6\" >1.19%</td>\n",
       "    </tr>\n",
       "    <tr>\n",
       "      <th id=\"T_54942_level4_row113\" class=\"row_heading level4 row113\" >-0.040000</th>\n",
       "      <td id=\"T_54942_row113_col0\" class=\"data row113 col0\" >109</td>\n",
       "      <td id=\"T_54942_row113_col1\" class=\"data row113 col1\" >78.73%</td>\n",
       "      <td id=\"T_54942_row113_col2\" class=\"data row113 col2\" >-22.00%</td>\n",
       "      <td id=\"T_54942_row113_col3\" class=\"data row113 col3\" >1.800000</td>\n",
       "      <td id=\"T_54942_row113_col4\" class=\"data row113 col4\" >3.000000</td>\n",
       "      <td id=\"T_54942_row113_col5\" class=\"data row113 col5\" >1.91%</td>\n",
       "      <td id=\"T_54942_row113_col6\" class=\"data row113 col6\" >0.52%</td>\n",
       "    </tr>\n",
       "    <tr>\n",
       "      <th id=\"T_54942_level3_row114\" class=\"row_heading level3 row114\" rowspan=\"6\">0.040000</th>\n",
       "      <th id=\"T_54942_level4_row114\" class=\"row_heading level4 row114\" >-0.090000</th>\n",
       "      <td id=\"T_54942_row114_col0\" class=\"data row114 col0\" >70</td>\n",
       "      <td id=\"T_54942_row114_col1\" class=\"data row114 col1\" >57.71%</td>\n",
       "      <td id=\"T_54942_row114_col2\" class=\"data row114 col2\" >-24.00%</td>\n",
       "      <td id=\"T_54942_row114_col3\" class=\"data row114 col3\" >1.510000</td>\n",
       "      <td id=\"T_54942_row114_col4\" class=\"data row114 col4\" >2.500000</td>\n",
       "      <td id=\"T_54942_row114_col5\" class=\"data row114 col5\" >1.85%</td>\n",
       "      <td id=\"T_54942_row114_col6\" class=\"data row114 col6\" >1.11%</td>\n",
       "    </tr>\n",
       "    <tr>\n",
       "      <th id=\"T_54942_level4_row115\" class=\"row_heading level4 row115\" >-0.080000</th>\n",
       "      <td id=\"T_54942_row115_col0\" class=\"data row115 col0\" >74</td>\n",
       "      <td id=\"T_54942_row115_col1\" class=\"data row115 col1\" >71.21%</td>\n",
       "      <td id=\"T_54942_row115_col2\" class=\"data row115 col2\" >-24.00%</td>\n",
       "      <td id=\"T_54942_row115_col3\" class=\"data row115 col3\" >1.720000</td>\n",
       "      <td id=\"T_54942_row115_col4\" class=\"data row115 col4\" >2.890000</td>\n",
       "      <td id=\"T_54942_row115_col5\" class=\"data row115 col5\" >2.21%</td>\n",
       "      <td id=\"T_54942_row115_col6\" class=\"data row115 col6\" >1.43%</td>\n",
       "    </tr>\n",
       "    <tr>\n",
       "      <th id=\"T_54942_level4_row116\" class=\"row_heading level4 row116\" >-0.070000</th>\n",
       "      <td id=\"T_54942_row116_col0\" class=\"data row116 col0\" >77</td>\n",
       "      <td id=\"T_54942_row116_col1\" class=\"data row116 col1\" >78.92%</td>\n",
       "      <td id=\"T_54942_row116_col2\" class=\"data row116 col2\" >-24.00%</td>\n",
       "      <td id=\"T_54942_row116_col3\" class=\"data row116 col3\" >1.820000</td>\n",
       "      <td id=\"T_54942_row116_col4\" class=\"data row116 col4\" >3.060000</td>\n",
       "      <td id=\"T_54942_row116_col5\" class=\"data row116 col5\" >2.40%</td>\n",
       "      <td id=\"T_54942_row116_col6\" class=\"data row116 col6\" >2.03%</td>\n",
       "    </tr>\n",
       "    <tr>\n",
       "      <th id=\"T_54942_level4_row117\" class=\"row_heading level4 row117\" >-0.060000</th>\n",
       "      <td id=\"T_54942_row117_col0\" class=\"data row117 col0\" >85</td>\n",
       "      <td id=\"T_54942_row117_col1\" class=\"data row117 col1\" >69.68%</td>\n",
       "      <td id=\"T_54942_row117_col2\" class=\"data row117 col2\" >-22.00%</td>\n",
       "      <td id=\"T_54942_row117_col3\" class=\"data row117 col3\" >1.610000</td>\n",
       "      <td id=\"T_54942_row117_col4\" class=\"data row117 col4\" >2.620000</td>\n",
       "      <td id=\"T_54942_row117_col5\" class=\"data row117 col5\" >2.04%</td>\n",
       "      <td id=\"T_54942_row117_col6\" class=\"data row117 col6\" >1.19%</td>\n",
       "    </tr>\n",
       "    <tr>\n",
       "      <th id=\"T_54942_level4_row118\" class=\"row_heading level4 row118\" >-0.050000</th>\n",
       "      <td id=\"T_54942_row118_col0\" class=\"data row118 col0\" >91</td>\n",
       "      <td id=\"T_54942_row118_col1\" class=\"data row118 col1\" >66.09%</td>\n",
       "      <td id=\"T_54942_row118_col2\" class=\"data row118 col2\" >-22.00%</td>\n",
       "      <td id=\"T_54942_row118_col3\" class=\"data row118 col3\" >1.530000</td>\n",
       "      <td id=\"T_54942_row118_col4\" class=\"data row118 col4\" >2.490000</td>\n",
       "      <td id=\"T_54942_row118_col5\" class=\"data row118 col5\" >2.03%</td>\n",
       "      <td id=\"T_54942_row118_col6\" class=\"data row118 col6\" >1.19%</td>\n",
       "    </tr>\n",
       "    <tr>\n",
       "      <th id=\"T_54942_level4_row119\" class=\"row_heading level4 row119\" >-0.040000</th>\n",
       "      <td id=\"T_54942_row119_col0\" class=\"data row119 col0\" >101</td>\n",
       "      <td id=\"T_54942_row119_col1\" class=\"data row119 col1\" >67.81%</td>\n",
       "      <td id=\"T_54942_row119_col2\" class=\"data row119 col2\" >-22.00%</td>\n",
       "      <td id=\"T_54942_row119_col3\" class=\"data row119 col3\" >1.600000</td>\n",
       "      <td id=\"T_54942_row119_col4\" class=\"data row119 col4\" >2.660000</td>\n",
       "      <td id=\"T_54942_row119_col5\" class=\"data row119 col5\" >1.84%</td>\n",
       "      <td id=\"T_54942_row119_col6\" class=\"data row119 col6\" >0.52%</td>\n",
       "    </tr>\n",
       "  </tbody>\n",
       "</table>\n"
      ],
      "text/plain": [
       "<pandas.io.formats.style.Styler at 0x2a3261fc0>"
      ]
     },
     "metadata": {},
     "output_type": "display_data"
    }
   ],
   "source": [
    "from tradeexecutor.analysis.grid_search import analyse_grid_search_result\n",
    "from tradeexecutor.analysis.grid_search import visualise_table\n",
    "table = analyse_grid_search_result(grid_search_results)\n",
    "\n",
    "visualise_table(table)"
   ]
  },
  {
   "cell_type": "markdown",
   "metadata": {
    "collapsed": false
   },
   "source": []
  }
 ],
 "metadata": {
  "kernelspec": {
   "display_name": "trade-executor-8Oz1GdY1-py3.10",
   "language": "python",
   "name": "python3"
  },
  "language_info": {
   "codemirror_mode": {
    "name": "ipython",
    "version": 3
   },
   "file_extension": ".py",
   "mimetype": "text/x-python",
   "name": "python",
   "nbconvert_exporter": "python",
   "pygments_lexer": "ipython3",
   "version": "3.10.13"
  },
  "vscode": {
   "interpreter": {
    "hash": "7adede735167b7e67e1575a49b63099e273f8f003d80ae98ec60bd132e113570"
   }
  }
 },
 "nbformat": 4,
 "nbformat_minor": 4
}
