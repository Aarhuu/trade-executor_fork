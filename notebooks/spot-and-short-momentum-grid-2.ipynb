{
 "cells": [
  {
   "attachments": {},
   "cell_type": "markdown",
   "metadata": {},
   "source": [
    "# Spot/short grid search example\n",
    "\n",
    "See the earlier notebook for more information."
   ]
  },
  {
   "cell_type": "markdown",
   "metadata": {},
   "source": [
    "### Grid search target strategy loading\n"
   ]
  },
  {
   "cell_type": "code",
   "execution_count": 1,
   "metadata": {
    "ExecuteTime": {
     "end_time": "2023-11-06T11:23:56.822575Z",
     "start_time": "2023-11-06T11:23:56.740008Z"
    },
    "collapsed": false,
    "jupyter": {
     "outputs_hidden": false
    }
   },
   "outputs": [
    {
     "name": "stdout",
     "output_type": "stream",
     "text": [
      "Backtesting for strategy /Users/moo/code/ts/trade-executor/strategies/spot-and-short-momentum-grid.py, engine version 0.3\n"
     ]
    }
   ],
   "source": [
    "import datetime\n",
    "import importlib.util\n",
    "import sys\n",
    "\n",
    "from tradeexecutor.utils.default_strategies import get_default_strategies_path\n",
    "\n",
    "strategies_folder = get_default_strategies_path()\n",
    "strategy_path = strategies_folder / \"spot-and-short-momentum-grid.py\"\n",
    "\n",
    "# See https://stackoverflow.com/a/67692/315168\n",
    "spec = importlib.util.spec_from_file_location(\"strategy_mod\", strategy_path)\n",
    "python_mod = importlib.util.module_from_spec(spec)\n",
    "sys.modules[\"strategy_mod\"] = python_mod\n",
    "spec.loader.exec_module(python_mod)\n",
    "\n",
    "print(f\"Backtesting for strategy {strategy_path}, engine version {python_mod.trading_strategy_engine_version}\")"
   ]
  },
  {
   "cell_type": "markdown",
   "metadata": {},
   "source": [
    "### Set up the market data client\n",
    "\n"
   ]
  },
  {
   "cell_type": "code",
   "execution_count": 2,
   "metadata": {
    "ExecuteTime": {
     "end_time": "2023-11-06T11:23:56.825354Z",
     "start_time": "2023-11-06T11:23:56.745601Z"
    },
    "collapsed": false
   },
   "outputs": [
    {
     "name": "stdout",
     "output_type": "stream",
     "text": [
      "Started Trading Strategy in Jupyter notebook environment, configuration is stored in /Users/moo/.tradingstrategy\n"
     ]
    }
   ],
   "source": [
    "from tradingstrategy.client import Client\n",
    "\n",
    "client = Client.create_jupyter_client()"
   ]
  },
  {
   "cell_type": "markdown",
   "metadata": {
    "collapsed": false
   },
   "source": [
    "Load the strategy universe and analyse what trading pairs the strategy code gives for us."
   ]
  },
  {
   "cell_type": "code",
   "execution_count": 3,
   "metadata": {
    "ExecuteTime": {
     "end_time": "2023-11-06T11:23:57.946683Z",
     "start_time": "2023-11-06T11:23:56.753877Z"
    },
    "collapsed": false
   },
   "outputs": [
    {
     "data": {
      "application/vnd.jupyter.widget-view+json": {
       "model_id": "d52512dadd4642348aac299eb406cb0f",
       "version_major": 2,
       "version_minor": 0
      },
      "text/plain": [
       "Downloading interest rate data for 5 assets:   0%|          | 0/10 [00:00<?, ?it/s]"
      ]
     },
     "metadata": {},
     "output_type": "display_data"
    }
   ],
   "source": [
    "from tradeexecutor.strategy.execution_context import notebook_execution_context\n",
    "\n",
    "universe = python_mod.create_trading_universe(\n",
    "    datetime.datetime.utcnow(),\n",
    "    client,\n",
    "    notebook_execution_context,\n",
    "    python_mod.universe_options,\n",
    ")"
   ]
  },
  {
   "attachments": {},
   "cell_type": "markdown",
   "metadata": {},
   "source": []
  },
  {
   "cell_type": "markdown",
   "metadata": {
    "collapsed": false
   },
   "source": [
    "## Available trading universe\n",
    "\n",
    "Inspect trading pairs and lending markets we are going to backtest.\n"
   ]
  },
  {
   "cell_type": "code",
   "execution_count": 4,
   "metadata": {
    "ExecuteTime": {
     "end_time": "2023-11-06T11:23:57.947922Z",
     "start_time": "2023-11-06T11:23:57.928149Z"
    },
    "collapsed": false
   },
   "outputs": [
    {
     "data": {
      "text/html": [
       "<table border=\"1\" class=\"dataframe\">\n",
       "  <thead>\n",
       "    <tr style=\"text-align: right;\">\n",
       "      <th></th>\n",
       "      <th>Lending asset</th>\n",
       "      <th>Stablecoin</th>\n",
       "      <th>Best trading pair</th>\n",
       "      <th>Lending available at</th>\n",
       "      <th>Trading available at</th>\n",
       "      <th>Price data page</th>\n",
       "      <th>Lending rate page</th>\n",
       "    </tr>\n",
       "  </thead>\n",
       "  <tbody>\n",
       "    <tr>\n",
       "      <th>0</th>\n",
       "      <td>BAL</td>\n",
       "      <td>no</td>\n",
       "      <td>No AMM pools found</td>\n",
       "      <td>2022-03-16</td>\n",
       "      <td>-</td>\n",
       "      <td><a href=\"-\">View</a></td>\n",
       "      <td><a href=\"https://tradingstrategy.ai/trading-view/polygon/lending/aave_v3/bal\">View</a></td>\n",
       "    </tr>\n",
       "    <tr>\n",
       "      <th>1</th>\n",
       "      <td>LINK</td>\n",
       "      <td>no</td>\n",
       "      <td>LINK-USDC at 5 BPS fee tier on Uniswap v3</td>\n",
       "      <td>2022-03-16</td>\n",
       "      <td>2022-08-21</td>\n",
       "      <td><a href=\"https://tradingstrategy.ai/trading-view/polygon/uniswap-v3/link-usdc-fee-5\">View</a></td>\n",
       "      <td><a href=\"https://tradingstrategy.ai/trading-view/polygon/lending/aave_v3/link\">View</a></td>\n",
       "    </tr>\n",
       "    <tr>\n",
       "      <th>2</th>\n",
       "      <td>USDC</td>\n",
       "      <td>yes</td>\n",
       "      <td>No AMM pools found</td>\n",
       "      <td>2022-03-16</td>\n",
       "      <td>-</td>\n",
       "      <td><a href=\"-\">View</a></td>\n",
       "      <td><a href=\"https://tradingstrategy.ai/trading-view/polygon/lending/aave_v3/usdc\">View</a></td>\n",
       "    </tr>\n",
       "    <tr>\n",
       "      <th>3</th>\n",
       "      <td>WETH</td>\n",
       "      <td>no</td>\n",
       "      <td>WETH-USDC at 5 BPS fee tier on Uniswap v3</td>\n",
       "      <td>2022-03-16</td>\n",
       "      <td>2022-07-07</td>\n",
       "      <td><a href=\"https://tradingstrategy.ai/trading-view/polygon/uniswap-v3/eth-usdc-fee-5\">View</a></td>\n",
       "      <td><a href=\"https://tradingstrategy.ai/trading-view/polygon/lending/aave_v3/weth\">View</a></td>\n",
       "    </tr>\n",
       "    <tr>\n",
       "      <th>4</th>\n",
       "      <td>WMATIC</td>\n",
       "      <td>no</td>\n",
       "      <td>WMATIC-USDC at 5 BPS fee tier on Uniswap v3</td>\n",
       "      <td>2022-03-12</td>\n",
       "      <td>2022-07-07</td>\n",
       "      <td><a href=\"https://tradingstrategy.ai/trading-view/polygon/uniswap-v3/matic-usdc-fee-5\">View</a></td>\n",
       "      <td><a href=\"https://tradingstrategy.ai/trading-view/polygon/lending/aave_v3/wmatic\">View</a></td>\n",
       "    </tr>\n",
       "  </tbody>\n",
       "</table>"
      ],
      "text/plain": [
       "<IPython.core.display.HTML object>"
      ]
     },
     "metadata": {},
     "output_type": "display_data"
    }
   ],
   "source": [
    "from IPython.display import HTML\n",
    "\n",
    "from tradeexecutor.analysis.universe import analyse_long_short_universe\n",
    "from tradingstrategy.utils.jupyter import format_links_for_html_output\n",
    "\n",
    "df = analyse_long_short_universe(universe)\n",
    "df = format_links_for_html_output(df, (\"Price data page\", \"Lending rate page\",))\n",
    "\n",
    "display(HTML(df.to_html(escape=False)))"
   ]
  },
  {
   "cell_type": "markdown",
   "metadata": {},
   "source": [
    "## Run grid search"
   ]
  },
  {
   "cell_type": "code",
   "execution_count": 5,
   "metadata": {
    "ExecuteTime": {
     "end_time": "2023-11-06T11:24:00.239763Z",
     "start_time": "2023-11-06T11:23:57.941020Z"
    },
    "collapsed": false,
    "jupyter": {
     "outputs_hidden": false
    }
   },
   "outputs": [
    {
     "data": {
      "application/vnd.jupyter.widget-view+json": {
       "model_id": "6d81a9dd29da472190f613f5e1cd427c",
       "version_major": 2,
       "version_minor": 0
      },
      "text/plain": [
       "  0%|          | 0/57801600 [00:00<?, ?it/s]"
      ]
     },
     "metadata": {},
     "output_type": "display_data"
    },
    {
     "data": {
      "application/vnd.jupyter.widget-view+json": {
       "model_id": "06f259a7cb9f4b6f8a81ce4acbd12460",
       "version_major": 2,
       "version_minor": 0
      },
      "text/plain": [
       "  0%|          | 0/57801600 [00:00<?, ?it/s]"
      ]
     },
     "metadata": {},
     "output_type": "display_data"
    },
    {
     "data": {
      "application/vnd.jupyter.widget-view+json": {
       "model_id": "91c05358f6e945d1b7e9d97dcf6ed8fd",
       "version_major": 2,
       "version_minor": 0
      },
      "text/plain": [
       "  0%|          | 0/57801600 [00:00<?, ?it/s]"
      ]
     },
     "metadata": {},
     "output_type": "display_data"
    },
    {
     "data": {
      "application/vnd.jupyter.widget-view+json": {
       "model_id": "9a0e6f9f49184e4e826c9ac6bdc3e10c",
       "version_major": 2,
       "version_minor": 0
      },
      "text/plain": [
       "  0%|          | 0/57801600 [00:00<?, ?it/s]"
      ]
     },
     "metadata": {},
     "output_type": "display_data"
    },
    {
     "data": {
      "application/vnd.jupyter.widget-view+json": {
       "model_id": "06be85f3c9344cbaacf8ca090ead8028",
       "version_major": 2,
       "version_minor": 0
      },
      "text/plain": [
       "  0%|          | 0/57801600 [00:00<?, ?it/s]"
      ]
     },
     "metadata": {},
     "output_type": "display_data"
    },
    {
     "data": {
      "application/vnd.jupyter.widget-view+json": {
       "model_id": "46c841cda1d3431fbdcd4877dac13116",
       "version_major": 2,
       "version_minor": 0
      },
      "text/plain": [
       "  0%|          | 0/57801600 [00:00<?, ?it/s]"
      ]
     },
     "metadata": {},
     "output_type": "display_data"
    },
    {
     "data": {
      "application/vnd.jupyter.widget-view+json": {
       "model_id": "7b92573684cf46a6a1c65e3e6672e2db",
       "version_major": 2,
       "version_minor": 0
      },
      "text/plain": [
       "  0%|          | 0/57801600 [00:00<?, ?it/s]"
      ]
     },
     "metadata": {},
     "output_type": "display_data"
    },
    {
     "data": {
      "application/vnd.jupyter.widget-view+json": {
       "model_id": "055dc63b11bf43699c67c061af917b46",
       "version_major": 2,
       "version_minor": 0
      },
      "text/plain": [
       "  0%|          | 0/57801600 [00:00<?, ?it/s]"
      ]
     },
     "metadata": {},
     "output_type": "display_data"
    },
    {
     "data": {
      "application/vnd.jupyter.widget-view+json": {
       "model_id": "d6a6bc961eb34807b997b85f0ea9610f",
       "version_major": 2,
       "version_minor": 0
      },
      "text/plain": [
       "  0%|          | 0/57801600 [00:00<?, ?it/s]"
      ]
     },
     "metadata": {},
     "output_type": "display_data"
    },
    {
     "data": {
      "application/vnd.jupyter.widget-view+json": {
       "model_id": "6927a38dcd324af0ae7da403fedb2884",
       "version_major": 2,
       "version_minor": 0
      },
      "text/plain": [
       "  0%|          | 0/57801600 [00:00<?, ?it/s]"
      ]
     },
     "metadata": {},
     "output_type": "display_data"
    },
    {
     "data": {
      "application/vnd.jupyter.widget-view+json": {
       "model_id": "5dff8265a460410aa397a9eae05c36ff",
       "version_major": 2,
       "version_minor": 0
      },
      "text/plain": [
       "  0%|          | 0/57801600 [00:00<?, ?it/s]"
      ]
     },
     "metadata": {},
     "output_type": "display_data"
    },
    {
     "data": {
      "application/vnd.jupyter.widget-view+json": {
       "model_id": "7159098991814316af4d4aceee11ba48",
       "version_major": 2,
       "version_minor": 0
      },
      "text/plain": [
       "  0%|          | 0/57801600 [00:00<?, ?it/s]"
      ]
     },
     "metadata": {},
     "output_type": "display_data"
    },
    {
     "data": {
      "application/vnd.jupyter.widget-view+json": {
       "model_id": "5146c945cb474153809f77189f7794dc",
       "version_major": 2,
       "version_minor": 0
      },
      "text/plain": [
       "  0%|          | 0/57801600 [00:00<?, ?it/s]"
      ]
     },
     "metadata": {},
     "output_type": "display_data"
    },
    {
     "data": {
      "application/vnd.jupyter.widget-view+json": {
       "model_id": "f225e6596d6e4e5fb91920d262a04e1d",
       "version_major": 2,
       "version_minor": 0
      },
      "text/plain": [
       "  0%|          | 0/57801600 [00:00<?, ?it/s]"
      ]
     },
     "metadata": {},
     "output_type": "display_data"
    },
    {
     "data": {
      "application/vnd.jupyter.widget-view+json": {
       "model_id": "33abc217b3a44e29b4126aba2585d0f1",
       "version_major": 2,
       "version_minor": 0
      },
      "text/plain": [
       "  0%|          | 0/57801600 [00:00<?, ?it/s]"
      ]
     },
     "metadata": {},
     "output_type": "display_data"
    },
    {
     "data": {
      "application/vnd.jupyter.widget-view+json": {
       "model_id": "525ba136b6064a8287182e3042e0f76e",
       "version_major": 2,
       "version_minor": 0
      },
      "text/plain": [
       "  0%|          | 0/57801600 [00:00<?, ?it/s]"
      ]
     },
     "metadata": {},
     "output_type": "display_data"
    },
    {
     "data": {
      "application/vnd.jupyter.widget-view+json": {
       "model_id": "924e6ba8a1da472e963f1bf96bee08d0",
       "version_major": 2,
       "version_minor": 0
      },
      "text/plain": [
       "  0%|          | 0/57801600 [00:00<?, ?it/s]"
      ]
     },
     "metadata": {},
     "output_type": "display_data"
    },
    {
     "data": {
      "application/vnd.jupyter.widget-view+json": {
       "model_id": "4148e636f98d487aa15ced9185562d81",
       "version_major": 2,
       "version_minor": 0
      },
      "text/plain": [
       "  0%|          | 0/57801600 [00:00<?, ?it/s]"
      ]
     },
     "metadata": {},
     "output_type": "display_data"
    },
    {
     "data": {
      "application/vnd.jupyter.widget-view+json": {
       "model_id": "ec7ad8e17f22438cb58575fdc17d931c",
       "version_major": 2,
       "version_minor": 0
      },
      "text/plain": [
       "  0%|          | 0/57801600 [00:00<?, ?it/s]"
      ]
     },
     "metadata": {},
     "output_type": "display_data"
    },
    {
     "data": {
      "application/vnd.jupyter.widget-view+json": {
       "model_id": "19d638dc8369442a913f7ed24e24e513",
       "version_major": 2,
       "version_minor": 0
      },
      "text/plain": [
       "  0%|          | 0/57801600 [00:00<?, ?it/s]"
      ]
     },
     "metadata": {},
     "output_type": "display_data"
    },
    {
     "data": {
      "application/vnd.jupyter.widget-view+json": {
       "model_id": "0c6b57939a674f93896405ac8e0b667c",
       "version_major": 2,
       "version_minor": 0
      },
      "text/plain": [
       "  0%|          | 0/57801600 [00:00<?, ?it/s]"
      ]
     },
     "metadata": {},
     "output_type": "display_data"
    },
    {
     "data": {
      "application/vnd.jupyter.widget-view+json": {
       "model_id": "725eb4b64dbe47c58ec00dbd4d47499c",
       "version_major": 2,
       "version_minor": 0
      },
      "text/plain": [
       "  0%|          | 0/57801600 [00:00<?, ?it/s]"
      ]
     },
     "metadata": {},
     "output_type": "display_data"
    },
    {
     "data": {
      "application/vnd.jupyter.widget-view+json": {
       "model_id": "b0880a9cc60f490d88fbfbd2b18376f8",
       "version_major": 2,
       "version_minor": 0
      },
      "text/plain": [
       "  0%|          | 0/57801600 [00:00<?, ?it/s]"
      ]
     },
     "metadata": {},
     "output_type": "display_data"
    },
    {
     "data": {
      "application/vnd.jupyter.widget-view+json": {
       "model_id": "fca1eec4172b4878961c788ab0b156b0",
       "version_major": 2,
       "version_minor": 0
      },
      "text/plain": [
       "  0%|          | 0/57801600 [00:00<?, ?it/s]"
      ]
     },
     "metadata": {},
     "output_type": "display_data"
    },
    {
     "data": {
      "application/vnd.jupyter.widget-view+json": {
       "model_id": "db38dd0672904e4eab69a7e4c20c54ce",
       "version_major": 2,
       "version_minor": 0
      },
      "text/plain": [
       "  0%|          | 0/57801600 [00:00<?, ?it/s]"
      ]
     },
     "metadata": {},
     "output_type": "display_data"
    },
    {
     "data": {
      "application/vnd.jupyter.widget-view+json": {
       "model_id": "0aec1a2e6e6e44cdbd2e05007ab6df46",
       "version_major": 2,
       "version_minor": 0
      },
      "text/plain": [
       "  0%|          | 0/57801600 [00:00<?, ?it/s]"
      ]
     },
     "metadata": {},
     "output_type": "display_data"
    },
    {
     "data": {
      "application/vnd.jupyter.widget-view+json": {
       "model_id": "20325c946c794879ad084efadc59a19a",
       "version_major": 2,
       "version_minor": 0
      },
      "text/plain": [
       "  0%|          | 0/57801600 [00:00<?, ?it/s]"
      ]
     },
     "metadata": {},
     "output_type": "display_data"
    },
    {
     "data": {
      "application/vnd.jupyter.widget-view+json": {
       "model_id": "58fa8a8eaeb04d57aa3fdabce29f5d51",
       "version_major": 2,
       "version_minor": 0
      },
      "text/plain": [
       "  0%|          | 0/57801600 [00:00<?, ?it/s]"
      ]
     },
     "metadata": {},
     "output_type": "display_data"
    },
    {
     "data": {
      "application/vnd.jupyter.widget-view+json": {
       "model_id": "9cd6b4939695458bbad9c4b708f1a959",
       "version_major": 2,
       "version_minor": 0
      },
      "text/plain": [
       "  0%|          | 0/57801600 [00:00<?, ?it/s]"
      ]
     },
     "metadata": {},
     "output_type": "display_data"
    },
    {
     "data": {
      "application/vnd.jupyter.widget-view+json": {
       "model_id": "ee503c86d0064024a2df917083be20f4",
       "version_major": 2,
       "version_minor": 0
      },
      "text/plain": [
       "  0%|          | 0/57801600 [00:00<?, ?it/s]"
      ]
     },
     "metadata": {},
     "output_type": "display_data"
    },
    {
     "data": {
      "application/vnd.jupyter.widget-view+json": {
       "model_id": "f34219811188466885c5cb662afa9890",
       "version_major": 2,
       "version_minor": 0
      },
      "text/plain": [
       "  0%|          | 0/57801600 [00:00<?, ?it/s]"
      ]
     },
     "metadata": {},
     "output_type": "display_data"
    },
    {
     "data": {
      "application/vnd.jupyter.widget-view+json": {
       "model_id": "b7e4c689eea54b6bb5c670c3d4572fe0",
       "version_major": 2,
       "version_minor": 0
      },
      "text/plain": [
       "  0%|          | 0/57801600 [00:00<?, ?it/s]"
      ]
     },
     "metadata": {},
     "output_type": "display_data"
    },
    {
     "data": {
      "application/vnd.jupyter.widget-view+json": {
       "model_id": "9258fe2c2e5441a0becf8afa72ded9a6",
       "version_major": 2,
       "version_minor": 0
      },
      "text/plain": [
       "  0%|          | 0/57801600 [00:00<?, ?it/s]"
      ]
     },
     "metadata": {},
     "output_type": "display_data"
    },
    {
     "data": {
      "application/vnd.jupyter.widget-view+json": {
       "model_id": "e3a3720b637740da8229677cd7e912b2",
       "version_major": 2,
       "version_minor": 0
      },
      "text/plain": [
       "  0%|          | 0/57801600 [00:00<?, ?it/s]"
      ]
     },
     "metadata": {},
     "output_type": "display_data"
    },
    {
     "data": {
      "application/vnd.jupyter.widget-view+json": {
       "model_id": "4a82579d5b484f3a9ce5b9eb57792923",
       "version_major": 2,
       "version_minor": 0
      },
      "text/plain": [
       "  0%|          | 0/57801600 [00:00<?, ?it/s]"
      ]
     },
     "metadata": {},
     "output_type": "display_data"
    },
    {
     "data": {
      "application/vnd.jupyter.widget-view+json": {
       "model_id": "440ed80896d14571bc7bdfa3a8e6fafe",
       "version_major": 2,
       "version_minor": 0
      },
      "text/plain": [
       "  0%|          | 0/57801600 [00:00<?, ?it/s]"
      ]
     },
     "metadata": {},
     "output_type": "display_data"
    },
    {
     "data": {
      "application/vnd.jupyter.widget-view+json": {
       "model_id": "8666617604ce4301a936ed9c7ca48e73",
       "version_major": 2,
       "version_minor": 0
      },
      "text/plain": [
       "  0%|          | 0/57801600 [00:00<?, ?it/s]"
      ]
     },
     "metadata": {},
     "output_type": "display_data"
    },
    {
     "data": {
      "application/vnd.jupyter.widget-view+json": {
       "model_id": "e7db1fdf83ee457ca727a242b02dc717",
       "version_major": 2,
       "version_minor": 0
      },
      "text/plain": [
       "  0%|          | 0/57801600 [00:00<?, ?it/s]"
      ]
     },
     "metadata": {},
     "output_type": "display_data"
    },
    {
     "data": {
      "application/vnd.jupyter.widget-view+json": {
       "model_id": "1e271e8fac3241be8061ad8377638588",
       "version_major": 2,
       "version_minor": 0
      },
      "text/plain": [
       "  0%|          | 0/57801600 [00:00<?, ?it/s]"
      ]
     },
     "metadata": {},
     "output_type": "display_data"
    },
    {
     "data": {
      "application/vnd.jupyter.widget-view+json": {
       "model_id": "0373407a7f0b44ecbef4a7dc66dfa23d",
       "version_major": 2,
       "version_minor": 0
      },
      "text/plain": [
       "  0%|          | 0/57801600 [00:00<?, ?it/s]"
      ]
     },
     "metadata": {},
     "output_type": "display_data"
    },
    {
     "data": {
      "application/vnd.jupyter.widget-view+json": {
       "model_id": "3d7393992e11409b9ea656d55512b80b",
       "version_major": 2,
       "version_minor": 0
      },
      "text/plain": [
       "  0%|          | 0/57801600 [00:00<?, ?it/s]"
      ]
     },
     "metadata": {},
     "output_type": "display_data"
    },
    {
     "data": {
      "application/vnd.jupyter.widget-view+json": {
       "model_id": "a10f17d3b0854ee1b5d8173feb198c69",
       "version_major": 2,
       "version_minor": 0
      },
      "text/plain": [
       "  0%|          | 0/57801600 [00:00<?, ?it/s]"
      ]
     },
     "metadata": {},
     "output_type": "display_data"
    },
    {
     "data": {
      "application/vnd.jupyter.widget-view+json": {
       "model_id": "385ebfbf43724d2cb52882cacefdf152",
       "version_major": 2,
       "version_minor": 0
      },
      "text/plain": [
       "  0%|          | 0/57801600 [00:00<?, ?it/s]"
      ]
     },
     "metadata": {},
     "output_type": "display_data"
    },
    {
     "data": {
      "application/vnd.jupyter.widget-view+json": {
       "model_id": "0a8f5e24549849b180ef9df88ddd00f9",
       "version_major": 2,
       "version_minor": 0
      },
      "text/plain": [
       "  0%|          | 0/57801600 [00:00<?, ?it/s]"
      ]
     },
     "metadata": {},
     "output_type": "display_data"
    },
    {
     "data": {
      "application/vnd.jupyter.widget-view+json": {
       "model_id": "d90f28a3bed349ed94549e010e68338d",
       "version_major": 2,
       "version_minor": 0
      },
      "text/plain": [
       "  0%|          | 0/57801600 [00:00<?, ?it/s]"
      ]
     },
     "metadata": {},
     "output_type": "display_data"
    },
    {
     "data": {
      "application/vnd.jupyter.widget-view+json": {
       "model_id": "de21d2a4ce824ed6a82fbc25b8549c55",
       "version_major": 2,
       "version_minor": 0
      },
      "text/plain": [
       "  0%|          | 0/57801600 [00:00<?, ?it/s]"
      ]
     },
     "metadata": {},
     "output_type": "display_data"
    },
    {
     "data": {
      "application/vnd.jupyter.widget-view+json": {
       "model_id": "f49a896dbfb142bb908606c2bb493ce5",
       "version_major": 2,
       "version_minor": 0
      },
      "text/plain": [
       "  0%|          | 0/57801600 [00:00<?, ?it/s]"
      ]
     },
     "metadata": {},
     "output_type": "display_data"
    },
    {
     "data": {
      "application/vnd.jupyter.widget-view+json": {
       "model_id": "adbdf00d357c4ad4986b6619420eb799",
       "version_major": 2,
       "version_minor": 0
      },
      "text/plain": [
       "  0%|          | 0/57801600 [00:00<?, ?it/s]"
      ]
     },
     "metadata": {},
     "output_type": "display_data"
    },
    {
     "data": {
      "application/vnd.jupyter.widget-view+json": {
       "model_id": "fd398b442936460783d77416e39623f8",
       "version_major": 2,
       "version_minor": 0
      },
      "text/plain": [
       "  0%|          | 0/57801600 [00:00<?, ?it/s]"
      ]
     },
     "metadata": {},
     "output_type": "display_data"
    },
    {
     "data": {
      "application/vnd.jupyter.widget-view+json": {
       "model_id": "90beb90668d8462b9326a29031126c2a",
       "version_major": 2,
       "version_minor": 0
      },
      "text/plain": [
       "  0%|          | 0/57801600 [00:00<?, ?it/s]"
      ]
     },
     "metadata": {},
     "output_type": "display_data"
    },
    {
     "data": {
      "application/vnd.jupyter.widget-view+json": {
       "model_id": "c57df1eb1df649c2a422e24f5e2e80b7",
       "version_major": 2,
       "version_minor": 0
      },
      "text/plain": [
       "  0%|          | 0/57801600 [00:00<?, ?it/s]"
      ]
     },
     "metadata": {},
     "output_type": "display_data"
    },
    {
     "data": {
      "application/vnd.jupyter.widget-view+json": {
       "model_id": "dc616dde9d814354970f1d4a857a236f",
       "version_major": 2,
       "version_minor": 0
      },
      "text/plain": [
       "  0%|          | 0/57801600 [00:00<?, ?it/s]"
      ]
     },
     "metadata": {},
     "output_type": "display_data"
    },
    {
     "data": {
      "application/vnd.jupyter.widget-view+json": {
       "model_id": "1c412dffac624296a303c0197132e2c2",
       "version_major": 2,
       "version_minor": 0
      },
      "text/plain": [
       "  0%|          | 0/57801600 [00:00<?, ?it/s]"
      ]
     },
     "metadata": {},
     "output_type": "display_data"
    },
    {
     "data": {
      "application/vnd.jupyter.widget-view+json": {
       "model_id": "401ac32913234d0ead4e3d6ee6e49a70",
       "version_major": 2,
       "version_minor": 0
      },
      "text/plain": [
       "  0%|          | 0/57801600 [00:00<?, ?it/s]"
      ]
     },
     "metadata": {},
     "output_type": "display_data"
    },
    {
     "data": {
      "application/vnd.jupyter.widget-view+json": {
       "model_id": "214d6b49a1d749edba6bd867314fbc10",
       "version_major": 2,
       "version_minor": 0
      },
      "text/plain": [
       "  0%|          | 0/57801600 [00:00<?, ?it/s]"
      ]
     },
     "metadata": {},
     "output_type": "display_data"
    },
    {
     "data": {
      "application/vnd.jupyter.widget-view+json": {
       "model_id": "68831b0ca20240fca18af8031189a3bd",
       "version_major": 2,
       "version_minor": 0
      },
      "text/plain": [
       "  0%|          | 0/57801600 [00:00<?, ?it/s]"
      ]
     },
     "metadata": {},
     "output_type": "display_data"
    },
    {
     "data": {
      "application/vnd.jupyter.widget-view+json": {
       "model_id": "056804cfc43443beb9bcfeee968f8103",
       "version_major": 2,
       "version_minor": 0
      },
      "text/plain": [
       "  0%|          | 0/57801600 [00:00<?, ?it/s]"
      ]
     },
     "metadata": {},
     "output_type": "display_data"
    },
    {
     "data": {
      "application/vnd.jupyter.widget-view+json": {
       "model_id": "75dd096254d74230b3dd60f45d5fb31b",
       "version_major": 2,
       "version_minor": 0
      },
      "text/plain": [
       "  0%|          | 0/57801600 [00:00<?, ?it/s]"
      ]
     },
     "metadata": {},
     "output_type": "display_data"
    },
    {
     "data": {
      "application/vnd.jupyter.widget-view+json": {
       "model_id": "156b1134b9314edab96038b514b256fd",
       "version_major": 2,
       "version_minor": 0
      },
      "text/plain": [
       "  0%|          | 0/57801600 [00:00<?, ?it/s]"
      ]
     },
     "metadata": {},
     "output_type": "display_data"
    },
    {
     "data": {
      "application/vnd.jupyter.widget-view+json": {
       "model_id": "6496dadc65ac449d90cae9361183a0a9",
       "version_major": 2,
       "version_minor": 0
      },
      "text/plain": [
       "  0%|          | 0/57801600 [00:00<?, ?it/s]"
      ]
     },
     "metadata": {},
     "output_type": "display_data"
    },
    {
     "data": {
      "application/vnd.jupyter.widget-view+json": {
       "model_id": "4bd54b69171042c6a47fd6db448969bf",
       "version_major": 2,
       "version_minor": 0
      },
      "text/plain": [
       "  0%|          | 0/57801600 [00:00<?, ?it/s]"
      ]
     },
     "metadata": {},
     "output_type": "display_data"
    },
    {
     "data": {
      "application/vnd.jupyter.widget-view+json": {
       "model_id": "04b2e034cabd45259c758b9f9d22208a",
       "version_major": 2,
       "version_minor": 0
      },
      "text/plain": [
       "  0%|          | 0/57801600 [00:00<?, ?it/s]"
      ]
     },
     "metadata": {},
     "output_type": "display_data"
    },
    {
     "data": {
      "application/vnd.jupyter.widget-view+json": {
       "model_id": "f3bcbc18f9014f0390bad2fa3aa24df8",
       "version_major": 2,
       "version_minor": 0
      },
      "text/plain": [
       "  0%|          | 0/57801600 [00:00<?, ?it/s]"
      ]
     },
     "metadata": {},
     "output_type": "display_data"
    },
    {
     "data": {
      "application/vnd.jupyter.widget-view+json": {
       "model_id": "90a2ebef1844410fbcd7259b82c5f6ba",
       "version_major": 2,
       "version_minor": 0
      },
      "text/plain": [
       "  0%|          | 0/57801600 [00:00<?, ?it/s]"
      ]
     },
     "metadata": {},
     "output_type": "display_data"
    },
    {
     "data": {
      "application/vnd.jupyter.widget-view+json": {
       "model_id": "30d6549967e7466a89a2b42eca4f73c7",
       "version_major": 2,
       "version_minor": 0
      },
      "text/plain": [
       "  0%|          | 0/57801600 [00:00<?, ?it/s]"
      ]
     },
     "metadata": {},
     "output_type": "display_data"
    },
    {
     "data": {
      "application/vnd.jupyter.widget-view+json": {
       "model_id": "699df8526f3849caae004aec48432b9c",
       "version_major": 2,
       "version_minor": 0
      },
      "text/plain": [
       "  0%|          | 0/57801600 [00:00<?, ?it/s]"
      ]
     },
     "metadata": {},
     "output_type": "display_data"
    },
    {
     "data": {
      "application/vnd.jupyter.widget-view+json": {
       "model_id": "5bf2793cea184e43b7ea0c9ff8c8fa45",
       "version_major": 2,
       "version_minor": 0
      },
      "text/plain": [
       "  0%|          | 0/57801600 [00:00<?, ?it/s]"
      ]
     },
     "metadata": {},
     "output_type": "display_data"
    },
    {
     "data": {
      "application/vnd.jupyter.widget-view+json": {
       "model_id": "cd3dd226ff184a2ca904c59b4835725a",
       "version_major": 2,
       "version_minor": 0
      },
      "text/plain": [
       "  0%|          | 0/57801600 [00:00<?, ?it/s]"
      ]
     },
     "metadata": {},
     "output_type": "display_data"
    },
    {
     "data": {
      "application/vnd.jupyter.widget-view+json": {
       "model_id": "d9cec739d6064a47a8689047d20d9ffd",
       "version_major": 2,
       "version_minor": 0
      },
      "text/plain": [
       "  0%|          | 0/57801600 [00:00<?, ?it/s]"
      ]
     },
     "metadata": {},
     "output_type": "display_data"
    },
    {
     "data": {
      "application/vnd.jupyter.widget-view+json": {
       "model_id": "5ce333d7550148f2b3a5715b1fddfe56",
       "version_major": 2,
       "version_minor": 0
      },
      "text/plain": [
       "  0%|          | 0/57801600 [00:00<?, ?it/s]"
      ]
     },
     "metadata": {},
     "output_type": "display_data"
    },
    {
     "data": {
      "application/vnd.jupyter.widget-view+json": {
       "model_id": "9d5e19bff9ff431195fc4101fbf843ee",
       "version_major": 2,
       "version_minor": 0
      },
      "text/plain": [
       "  0%|          | 0/57801600 [00:00<?, ?it/s]"
      ]
     },
     "metadata": {},
     "output_type": "display_data"
    },
    {
     "data": {
      "application/vnd.jupyter.widget-view+json": {
       "model_id": "2ddf19cee83f422781edb9a3e662b5b4",
       "version_major": 2,
       "version_minor": 0
      },
      "text/plain": [
       "  0%|          | 0/57801600 [00:00<?, ?it/s]"
      ]
     },
     "metadata": {},
     "output_type": "display_data"
    },
    {
     "data": {
      "application/vnd.jupyter.widget-view+json": {
       "model_id": "2844436183014f9ebaafd87250ce85b5",
       "version_major": 2,
       "version_minor": 0
      },
      "text/plain": [
       "  0%|          | 0/57801600 [00:00<?, ?it/s]"
      ]
     },
     "metadata": {},
     "output_type": "display_data"
    },
    {
     "data": {
      "application/vnd.jupyter.widget-view+json": {
       "model_id": "131e38265bb243d892d060ce2ca3e115",
       "version_major": 2,
       "version_minor": 0
      },
      "text/plain": [
       "  0%|          | 0/57801600 [00:00<?, ?it/s]"
      ]
     },
     "metadata": {},
     "output_type": "display_data"
    },
    {
     "data": {
      "application/vnd.jupyter.widget-view+json": {
       "model_id": "13b25a55a70e44cba7dfa188f56179a3",
       "version_major": 2,
       "version_minor": 0
      },
      "text/plain": [
       "  0%|          | 0/57801600 [00:00<?, ?it/s]"
      ]
     },
     "metadata": {},
     "output_type": "display_data"
    },
    {
     "data": {
      "application/vnd.jupyter.widget-view+json": {
       "model_id": "776f66380b064aa4bcca8ffd62e3cf64",
       "version_major": 2,
       "version_minor": 0
      },
      "text/plain": [
       "  0%|          | 0/57801600 [00:00<?, ?it/s]"
      ]
     },
     "metadata": {},
     "output_type": "display_data"
    },
    {
     "data": {
      "application/vnd.jupyter.widget-view+json": {
       "model_id": "9db8bd759365479d8eb3c2e569ec0470",
       "version_major": 2,
       "version_minor": 0
      },
      "text/plain": [
       "  0%|          | 0/57801600 [00:00<?, ?it/s]"
      ]
     },
     "metadata": {},
     "output_type": "display_data"
    },
    {
     "data": {
      "application/vnd.jupyter.widget-view+json": {
       "model_id": "9a1040872970475d80611e471543ffb6",
       "version_major": 2,
       "version_minor": 0
      },
      "text/plain": [
       "  0%|          | 0/57801600 [00:00<?, ?it/s]"
      ]
     },
     "metadata": {},
     "output_type": "display_data"
    },
    {
     "data": {
      "application/vnd.jupyter.widget-view+json": {
       "model_id": "526e9d6b58b94e458a38ad97f2df0845",
       "version_major": 2,
       "version_minor": 0
      },
      "text/plain": [
       "  0%|          | 0/57801600 [00:00<?, ?it/s]"
      ]
     },
     "metadata": {},
     "output_type": "display_data"
    },
    {
     "data": {
      "application/vnd.jupyter.widget-view+json": {
       "model_id": "443e5b9d094d421e94cc7145fd2aad83",
       "version_major": 2,
       "version_minor": 0
      },
      "text/plain": [
       "  0%|          | 0/57801600 [00:00<?, ?it/s]"
      ]
     },
     "metadata": {},
     "output_type": "display_data"
    },
    {
     "data": {
      "application/vnd.jupyter.widget-view+json": {
       "model_id": "7903080d96c942629f3a5ffad3619a7a",
       "version_major": 2,
       "version_minor": 0
      },
      "text/plain": [
       "  0%|          | 0/57801600 [00:00<?, ?it/s]"
      ]
     },
     "metadata": {},
     "output_type": "display_data"
    },
    {
     "data": {
      "application/vnd.jupyter.widget-view+json": {
       "model_id": "ec8cbc4b3b4b425280ff44b33e95db01",
       "version_major": 2,
       "version_minor": 0
      },
      "text/plain": [
       "  0%|          | 0/57801600 [00:00<?, ?it/s]"
      ]
     },
     "metadata": {},
     "output_type": "display_data"
    },
    {
     "data": {
      "application/vnd.jupyter.widget-view+json": {
       "model_id": "4c8198533695488bac8df2ff87d8da20",
       "version_major": 2,
       "version_minor": 0
      },
      "text/plain": [
       "  0%|          | 0/57801600 [00:00<?, ?it/s]"
      ]
     },
     "metadata": {},
     "output_type": "display_data"
    },
    {
     "data": {
      "application/vnd.jupyter.widget-view+json": {
       "model_id": "062908cec8674fee93a84a9545027436",
       "version_major": 2,
       "version_minor": 0
      },
      "text/plain": [
       "  0%|          | 0/57801600 [00:00<?, ?it/s]"
      ]
     },
     "metadata": {},
     "output_type": "display_data"
    },
    {
     "data": {
      "application/vnd.jupyter.widget-view+json": {
       "model_id": "5766a1c84f7044b09fa45126c5ecfa3b",
       "version_major": 2,
       "version_minor": 0
      },
      "text/plain": [
       "  0%|          | 0/57801600 [00:00<?, ?it/s]"
      ]
     },
     "metadata": {},
     "output_type": "display_data"
    },
    {
     "data": {
      "application/vnd.jupyter.widget-view+json": {
       "model_id": "6de1065781194f639c8594b7d3a6b981",
       "version_major": 2,
       "version_minor": 0
      },
      "text/plain": [
       "  0%|          | 0/57801600 [00:00<?, ?it/s]"
      ]
     },
     "metadata": {},
     "output_type": "display_data"
    },
    {
     "data": {
      "application/vnd.jupyter.widget-view+json": {
       "model_id": "11984410daa1449289e3d15a662d08b4",
       "version_major": 2,
       "version_minor": 0
      },
      "text/plain": [
       "  0%|          | 0/57801600 [00:00<?, ?it/s]"
      ]
     },
     "metadata": {},
     "output_type": "display_data"
    },
    {
     "data": {
      "application/vnd.jupyter.widget-view+json": {
       "model_id": "c331c01abaf14b85bf3a40b473c19526",
       "version_major": 2,
       "version_minor": 0
      },
      "text/plain": [
       "  0%|          | 0/57801600 [00:00<?, ?it/s]"
      ]
     },
     "metadata": {},
     "output_type": "display_data"
    },
    {
     "data": {
      "application/vnd.jupyter.widget-view+json": {
       "model_id": "61eba590289749439d75e9b12a72ce06",
       "version_major": 2,
       "version_minor": 0
      },
      "text/plain": [
       "  0%|          | 0/57801600 [00:00<?, ?it/s]"
      ]
     },
     "metadata": {},
     "output_type": "display_data"
    },
    {
     "data": {
      "application/vnd.jupyter.widget-view+json": {
       "model_id": "c1c8851b5d544235a9f4abbe7cca12d8",
       "version_major": 2,
       "version_minor": 0
      },
      "text/plain": [
       "  0%|          | 0/57801600 [00:00<?, ?it/s]"
      ]
     },
     "metadata": {},
     "output_type": "display_data"
    }
   ],
   "source": [
    "from pathlib import Path\n",
    "from tradeexecutor.backtest.grid_search import perform_grid_search, prepare_grid_combinations\n",
    "\n",
    "# This is the path where we keep the result files around\n",
    "storage_folder = Path(f\"/tmp/{strategy_path.stem}-grid-search\")\n",
    "\n",
    "parameters = {\n",
    "    \"cycle_duration_days\": [6, 7, 8],\n",
    "    \"momentum_lookback\": [6, 7, 8],\n",
    "    \"take_profit\": [1.06, 1.07, 1.08, 1.09, 1.10],\n",
    "    \"negative_take_profit\": [1.06, 1.07, 1.08, 1.09, 1.10],\n",
    "    \"positive_mometum_threshold\": [0.0001, 0.025],\n",
    "    \"negative_mometum_threshold\": [-0.06],\n",
    "}\n",
    "combinations = prepare_grid_combinations(parameters, storage_folder, clear_cached_results=True)\n",
    "\n",
    "grid_search_results = perform_grid_search(\n",
    "    python_mod.grid_search_worker,\n",
    "    universe,\n",
    "    combinations,\n",
    "    max_workers=4,\n",
    ")\n"
   ]
  },
  {
   "attachments": {},
   "cell_type": "markdown",
   "metadata": {},
   "source": [
    "## Examine grid search results\n"
   ]
  },
  {
   "cell_type": "code",
   "execution_count": 6,
   "metadata": {
    "ExecuteTime": {
     "end_time": "2023-11-06T11:24:00.246393Z",
     "start_time": "2023-11-06T11:24:00.242327Z"
    },
    "collapsed": false,
    "jupyter": {
     "outputs_hidden": false
    }
   },
   "outputs": [
    {
     "data": {
      "text/html": [
       "<style type=\"text/css\">\n",
       "#T_15285_row0_col1, #T_15285_row2_col4 {\n",
       "  background-color: #b3c3de;\n",
       "  color: #000000;\n",
       "}\n",
       "#T_15285_row0_col2, #T_15285_row10_col1, #T_15285_row15_col3, #T_15285_row17_col1, #T_15285_row21_col2, #T_15285_row28_col1, #T_15285_row32_col6, #T_15285_row35_col4, #T_15285_row35_col6, #T_15285_row57_col6, #T_15285_row61_col2, #T_15285_row62_col3, #T_15285_row66_col1, #T_15285_row66_col4 {\n",
       "  background-color: #d9d8ea;\n",
       "  color: #000000;\n",
       "}\n",
       "#T_15285_row0_col3 {\n",
       "  background-color: #a9bfdc;\n",
       "  color: #000000;\n",
       "}\n",
       "#T_15285_row0_col4, #T_15285_row0_col5 {\n",
       "  background-color: #b4c4df;\n",
       "  color: #000000;\n",
       "}\n",
       "#T_15285_row0_col6, #T_15285_row3_col3, #T_15285_row10_col6, #T_15285_row13_col6, #T_15285_row20_col6, #T_15285_row22_col3, #T_15285_row25_col4, #T_15285_row37_col6, #T_15285_row70_col3, #T_15285_row72_col4 {\n",
       "  background-color: #f1ebf5;\n",
       "  color: #000000;\n",
       "}\n",
       "#T_15285_row1_col1, #T_15285_row27_col4, #T_15285_row65_col4, #T_15285_row65_col5, #T_15285_row81_col4 {\n",
       "  background-color: #f7f0f7;\n",
       "  color: #000000;\n",
       "}\n",
       "#T_15285_row1_col2, #T_15285_row5_col2, #T_15285_row6_col6, #T_15285_row7_col2, #T_15285_row69_col6 {\n",
       "  background-color: #fcf4fa;\n",
       "  color: #000000;\n",
       "}\n",
       "#T_15285_row1_col3, #T_15285_row1_col6, #T_15285_row20_col4, #T_15285_row23_col6, #T_15285_row75_col1, #T_15285_row75_col3 {\n",
       "  background-color: #f5eef6;\n",
       "  color: #000000;\n",
       "}\n",
       "#T_15285_row1_col4, #T_15285_row27_col3, #T_15285_row65_col3, #T_15285_row73_col4, #T_15285_row75_col4, #T_15285_row81_col1, #T_15285_row81_col3 {\n",
       "  background-color: #f6eff7;\n",
       "  color: #000000;\n",
       "}\n",
       "#T_15285_row1_col5, #T_15285_row33_col1, #T_15285_row62_col6 {\n",
       "  background-color: #d5d5e8;\n",
       "  color: #000000;\n",
       "}\n",
       "#T_15285_row2_col1, #T_15285_row2_col5, #T_15285_row8_col2, #T_15285_row62_col2 {\n",
       "  background-color: #b1c2de;\n",
       "  color: #000000;\n",
       "}\n",
       "#T_15285_row2_col2, #T_15285_row23_col2, #T_15285_row33_col4, #T_15285_row82_col3 {\n",
       "  background-color: #d4d4e8;\n",
       "  color: #000000;\n",
       "}\n",
       "#T_15285_row2_col3, #T_15285_row4_col4, #T_15285_row68_col5 {\n",
       "  background-color: #a8bedc;\n",
       "  color: #000000;\n",
       "}\n",
       "#T_15285_row2_col6, #T_15285_row3_col6, #T_15285_row4_col6, #T_15285_row14_col6, #T_15285_row22_col6, #T_15285_row61_col4 {\n",
       "  background-color: #f9f2f8;\n",
       "  color: #000000;\n",
       "}\n",
       "#T_15285_row3_col1, #T_15285_row20_col3, #T_15285_row36_col6, #T_15285_row38_col6, #T_15285_row77_col1 {\n",
       "  background-color: #f4edf6;\n",
       "  color: #000000;\n",
       "}\n",
       "#T_15285_row3_col2, #T_15285_row21_col1, #T_15285_row21_col3, #T_15285_row21_col4, #T_15285_row29_col6, #T_15285_row61_col5 {\n",
       "  background-color: #fff7fb;\n",
       "  color: #000000;\n",
       "  background-color: pink;\n",
       "}\n",
       "#T_15285_row3_col4, #T_15285_row22_col4, #T_15285_row25_col1, #T_15285_row70_col4 {\n",
       "  background-color: #f3edf5;\n",
       "  color: #000000;\n",
       "}\n",
       "#T_15285_row3_col5, #T_15285_row74_col5 {\n",
       "  background-color: #d3d4e7;\n",
       "  color: #000000;\n",
       "}\n",
       "#T_15285_row4_col1, #T_15285_row47_col6 {\n",
       "  background-color: #a5bddb;\n",
       "  color: #000000;\n",
       "}\n",
       "#T_15285_row4_col2, #T_15285_row6_col2, #T_15285_row63_col2, #T_15285_row66_col2 {\n",
       "  background-color: #ced0e6;\n",
       "  color: #000000;\n",
       "}\n",
       "#T_15285_row4_col3, #T_15285_row6_col4, #T_15285_row18_col3 {\n",
       "  background-color: #9ebad9;\n",
       "  color: #000000;\n",
       "}\n",
       "#T_15285_row4_col5 {\n",
       "  background-color: #a1bbda;\n",
       "  color: #000000;\n",
       "}\n",
       "#T_15285_row5_col1, #T_15285_row7_col1, #T_15285_row25_col3, #T_15285_row61_col6, #T_15285_row63_col6, #T_15285_row79_col1, #T_15285_row79_col4, #T_15285_row86_col6, #T_15285_row89_col1, #T_15285_row89_col4 {\n",
       "  background-color: #f0eaf4;\n",
       "  color: #000000;\n",
       "}\n",
       "#T_15285_row5_col3, #T_15285_row63_col1, #T_15285_row74_col3, #T_15285_row79_col6 {\n",
       "  background-color: #ece7f2;\n",
       "  color: #000000;\n",
       "}\n",
       "#T_15285_row5_col4, #T_15285_row72_col3, #T_15285_row74_col1, #T_15285_row74_col4, #T_15285_row84_col6 {\n",
       "  background-color: #eee9f3;\n",
       "  color: #000000;\n",
       "}\n",
       "#T_15285_row5_col5, #T_15285_row55_col6 {\n",
       "  background-color: #c4cbe3;\n",
       "  color: #000000;\n",
       "}\n",
       "#T_15285_row5_col6, #T_15285_row16_col6, #T_15285_row23_col3, #T_15285_row23_col4, #T_15285_row26_col6, #T_15285_row28_col6 {\n",
       "  background-color: #fdf5fa;\n",
       "  color: #000000;\n",
       "}\n",
       "#T_15285_row6_col1, #T_15285_row32_col1, #T_15285_row36_col4 {\n",
       "  background-color: #94b6d7;\n",
       "  color: #000000;\n",
       "}\n",
       "#T_15285_row6_col3, #T_15285_row6_col5 {\n",
       "  background-color: #91b5d6;\n",
       "  color: #000000;\n",
       "}\n",
       "#T_15285_row7_col3, #T_15285_row29_col3, #T_15285_row63_col4, #T_15285_row85_col3 {\n",
       "  background-color: #ebe6f2;\n",
       "  color: #000000;\n",
       "}\n",
       "#T_15285_row7_col4, #T_15285_row29_col4, #T_15285_row79_col3, #T_15285_row85_col1, #T_15285_row85_col4 {\n",
       "  background-color: #eee8f3;\n",
       "  color: #000000;\n",
       "}\n",
       "#T_15285_row7_col5, #T_15285_row88_col3 {\n",
       "  background-color: #b5c4df;\n",
       "  color: #000000;\n",
       "}\n",
       "#T_15285_row7_col6, #T_15285_row27_col6 {\n",
       "  background-color: #fff7fb;\n",
       "  color: #000000;\n",
       "}\n",
       "#T_15285_row8_col1, #T_15285_row11_col2, #T_15285_row39_col2, #T_15285_row59_col2, #T_15285_row73_col2, #T_15285_row77_col2, #T_15285_row89_col2 {\n",
       "  background-color: #5a9ec9;\n",
       "  color: #f1f1f1;\n",
       "}\n",
       "#T_15285_row8_col3 {\n",
       "  background-color: #67a4cc;\n",
       "  color: #f1f1f1;\n",
       "}\n",
       "#T_15285_row8_col4, #T_15285_row8_col5 {\n",
       "  background-color: #73a9cf;\n",
       "  color: #f1f1f1;\n",
       "}\n",
       "#T_15285_row8_col6, #T_15285_row27_col1 {\n",
       "  background-color: #faf3f9;\n",
       "  color: #000000;\n",
       "}\n",
       "#T_15285_row9_col1, #T_15285_row15_col1, #T_15285_row62_col4, #T_15285_row69_col3, #T_15285_row70_col6, #T_15285_row71_col6, #T_15285_row73_col6 {\n",
       "  background-color: #dfddec;\n",
       "  color: #000000;\n",
       "}\n",
       "#T_15285_row9_col2, #T_15285_row70_col1, #T_15285_row71_col5, #T_15285_row77_col3, #T_15285_row88_col6 {\n",
       "  background-color: #f2ecf5;\n",
       "  color: #000000;\n",
       "}\n",
       "#T_15285_row9_col3, #T_15285_row12_col3, #T_15285_row17_col4, #T_15285_row28_col4, #T_15285_row68_col4 {\n",
       "  background-color: #d6d6e9;\n",
       "  color: #000000;\n",
       "}\n",
       "#T_15285_row9_col4, #T_15285_row20_col5, #T_15285_row21_col5, #T_15285_row67_col5, #T_15285_row73_col5, #T_15285_row78_col3, #T_15285_row82_col1, #T_15285_row84_col5, #T_15285_row87_col5 {\n",
       "  background-color: #dbdaeb;\n",
       "  color: #000000;\n",
       "}\n",
       "#T_15285_row9_col5, #T_15285_row17_col5 {\n",
       "  background-color: #9cb9d9;\n",
       "  color: #000000;\n",
       "}\n",
       "#T_15285_row9_col6, #T_15285_row67_col6, #T_15285_row71_col1 {\n",
       "  background-color: #fbf3f9;\n",
       "  color: #000000;\n",
       "}\n",
       "#T_15285_row10_col2 {\n",
       "  background-color: #93b5d6;\n",
       "  color: #000000;\n",
       "}\n",
       "#T_15285_row10_col3, #T_15285_row35_col3, #T_15285_row66_col3, #T_15285_row84_col1, #T_15285_row86_col5 {\n",
       "  background-color: #d2d3e7;\n",
       "  color: #000000;\n",
       "}\n",
       "#T_15285_row10_col4, #T_15285_row35_col1, #T_15285_row68_col1 {\n",
       "  background-color: #d8d7e9;\n",
       "  color: #000000;\n",
       "}\n",
       "#T_15285_row10_col5, #T_15285_row78_col5 {\n",
       "  background-color: #bbc7e0;\n",
       "  color: #000000;\n",
       "}\n",
       "#T_15285_row11_col1, #T_15285_row11_col6, #T_15285_row13_col4, #T_15285_row26_col4, #T_15285_row58_col6, #T_15285_row60_col1, #T_15285_row60_col4, #T_15285_row63_col3, #T_15285_row63_col5, #T_15285_row64_col4, #T_15285_row67_col4, #T_15285_row76_col4 {\n",
       "  background-color: #e7e3f0;\n",
       "  color: #000000;\n",
       "}\n",
       "#T_15285_row11_col3, #T_15285_row24_col3, #T_15285_row31_col3, #T_15285_row77_col5, #T_15285_row79_col5, #T_15285_row80_col6 {\n",
       "  background-color: #e1dfed;\n",
       "  color: #000000;\n",
       "}\n",
       "#T_15285_row11_col4, #T_15285_row24_col4, #T_15285_row31_col4, #T_15285_row69_col1, #T_15285_row75_col5, #T_15285_row77_col6, #T_15285_row80_col4, #T_15285_row87_col6, #T_15285_row89_col5 {\n",
       "  background-color: #e6e2ef;\n",
       "  color: #000000;\n",
       "}\n",
       "#T_15285_row11_col5, #T_15285_row20_col2, #T_15285_row52_col2, #T_15285_row52_col6 {\n",
       "  background-color: #abbfdc;\n",
       "  color: #000000;\n",
       "}\n",
       "#T_15285_row12_col1, #T_15285_row15_col4, #T_15285_row37_col3, #T_15285_row64_col2, #T_15285_row69_col2, #T_15285_row83_col5 {\n",
       "  background-color: #dddbec;\n",
       "  color: #000000;\n",
       "}\n",
       "#T_15285_row12_col2, #T_15285_row14_col2, #T_15285_row28_col2, #T_15285_row31_col2, #T_15285_row34_col4, #T_15285_row38_col1, #T_15285_row50_col6, #T_15285_row51_col6, #T_15285_row52_col1, #T_15285_row54_col2, #T_15285_row56_col2 {\n",
       "  background-color: #89b1d4;\n",
       "  color: #000000;\n",
       "}\n",
       "#T_15285_row12_col4, #T_15285_row59_col6, #T_15285_row82_col4, #T_15285_row82_col5 {\n",
       "  background-color: #dad9ea;\n",
       "  color: #000000;\n",
       "}\n",
       "#T_15285_row12_col5, #T_15285_row29_col5 {\n",
       "  background-color: #c2cbe2;\n",
       "  color: #000000;\n",
       "}\n",
       "#T_15285_row12_col6, #T_15285_row15_col6, #T_15285_row17_col6, #T_15285_row19_col6, #T_15285_row24_col6, #T_15285_row25_col6, #T_15285_row61_col1, #T_15285_row61_col3, #T_15285_row65_col1 {\n",
       "  background-color: #f8f1f8;\n",
       "  color: #000000;\n",
       "}\n",
       "#T_15285_row13_col1, #T_15285_row24_col1, #T_15285_row64_col1, #T_15285_row67_col1, #T_15285_row68_col6, #T_15285_row74_col6, #T_15285_row76_col1, #T_15285_row82_col6, #T_15285_row87_col3 {\n",
       "  background-color: #e8e4f0;\n",
       "  color: #000000;\n",
       "}\n",
       "#T_15285_row13_col2, #T_15285_row15_col2, #T_15285_row17_col2, #T_15285_row35_col2, #T_15285_row37_col2, #T_15285_row55_col2, #T_15285_row57_col2, #T_15285_row75_col2 {\n",
       "  background-color: #63a2cb;\n",
       "  color: #f1f1f1;\n",
       "}\n",
       "#T_15285_row13_col3, #T_15285_row21_col6, #T_15285_row26_col3, #T_15285_row31_col1, #T_15285_row70_col5, #T_15285_row76_col3 {\n",
       "  background-color: #e3e0ee;\n",
       "  color: #000000;\n",
       "}\n",
       "#T_15285_row13_col5 {\n",
       "  background-color: #b9c6e0;\n",
       "  color: #000000;\n",
       "}\n",
       "#T_15285_row14_col1, #T_15285_row16_col1 {\n",
       "  background-color: #c9cee4;\n",
       "  color: #000000;\n",
       "}\n",
       "#T_15285_row14_col3, #T_15285_row16_col3 {\n",
       "  background-color: #bdc8e1;\n",
       "  color: #000000;\n",
       "}\n",
       "#T_15285_row14_col4, #T_15285_row64_col5 {\n",
       "  background-color: #c6cce3;\n",
       "  color: #000000;\n",
       "}\n",
       "#T_15285_row14_col5 {\n",
       "  background-color: #afc1dd;\n",
       "  color: #000000;\n",
       "}\n",
       "#T_15285_row15_col5, #T_15285_row16_col5, #T_15285_row48_col6 {\n",
       "  background-color: #acc0dd;\n",
       "  color: #000000;\n",
       "}\n",
       "#T_15285_row16_col2, #T_15285_row26_col2, #T_15285_row30_col4, #T_15285_row50_col2, #T_15285_row66_col5 {\n",
       "  background-color: #9ab8d8;\n",
       "  color: #000000;\n",
       "}\n",
       "#T_15285_row16_col4, #T_15285_row19_col4, #T_15285_row68_col2, #T_15285_row76_col5, #T_15285_row84_col3 {\n",
       "  background-color: #c8cde4;\n",
       "  color: #000000;\n",
       "}\n",
       "#T_15285_row17_col3, #T_15285_row26_col5, #T_15285_row28_col3 {\n",
       "  background-color: #d1d2e6;\n",
       "  color: #000000;\n",
       "}\n",
       "#T_15285_row18_col1 {\n",
       "  background-color: #a4bcda;\n",
       "  color: #000000;\n",
       "}\n",
       "#T_15285_row18_col2, #T_15285_row24_col2 {\n",
       "  background-color: #81aed2;\n",
       "  color: #f1f1f1;\n",
       "}\n",
       "#T_15285_row18_col4 {\n",
       "  background-color: #a7bddb;\n",
       "  color: #000000;\n",
       "}\n",
       "#T_15285_row18_col5, #T_15285_row30_col3, #T_15285_row46_col6 {\n",
       "  background-color: #8bb2d4;\n",
       "  color: #000000;\n",
       "}\n",
       "#T_15285_row18_col6, #T_15285_row23_col1, #T_15285_row71_col3, #T_15285_row71_col4 {\n",
       "  background-color: #fef6fa;\n",
       "  color: #000000;\n",
       "}\n",
       "#T_15285_row19_col1, #T_15285_row72_col5, #T_15285_row86_col1, #T_15285_row86_col4 {\n",
       "  background-color: #cccfe5;\n",
       "  color: #000000;\n",
       "}\n",
       "#T_15285_row19_col2, #T_15285_row32_col2, #T_15285_row58_col4, #T_15285_row79_col2, #T_15285_row83_col2 {\n",
       "  background-color: #4496c3;\n",
       "  color: #f1f1f1;\n",
       "}\n",
       "#T_15285_row19_col3, #T_15285_row86_col3 {\n",
       "  background-color: #c1cae2;\n",
       "  color: #000000;\n",
       "}\n",
       "#T_15285_row19_col5 {\n",
       "  background-color: #83afd3;\n",
       "  color: #f1f1f1;\n",
       "}\n",
       "#T_15285_row20_col1, #T_15285_row65_col2 {\n",
       "  background-color: #f5eff6;\n",
       "  color: #000000;\n",
       "}\n",
       "#T_15285_row22_col1, #T_15285_row73_col1, #T_15285_row73_col3, #T_15285_row77_col4 {\n",
       "  background-color: #f4eef6;\n",
       "  color: #000000;\n",
       "}\n",
       "#T_15285_row22_col2, #T_15285_row30_col1 {\n",
       "  background-color: #a2bcda;\n",
       "  color: #000000;\n",
       "}\n",
       "#T_15285_row22_col5, #T_15285_row27_col2, #T_15285_row29_col2, #T_15285_row37_col4, #T_15285_row56_col6, #T_15285_row60_col3, #T_15285_row64_col3, #T_15285_row67_col2, #T_15285_row67_col3, #T_15285_row78_col1, #T_15285_row83_col6 {\n",
       "  background-color: #e2dfee;\n",
       "  color: #000000;\n",
       "}\n",
       "#T_15285_row23_col5, #T_15285_row37_col1, #T_15285_row66_col6, #T_15285_row78_col4, #T_15285_row80_col3 {\n",
       "  background-color: #e0deed;\n",
       "  color: #000000;\n",
       "}\n",
       "#T_15285_row24_col5, #T_15285_row33_col3 {\n",
       "  background-color: #cdd0e5;\n",
       "  color: #000000;\n",
       "}\n",
       "#T_15285_row25_col2, #T_15285_row60_col2, #T_15285_row60_col6, #T_15285_row88_col1, #T_15285_row88_col4 {\n",
       "  background-color: #c0c9e2;\n",
       "  color: #000000;\n",
       "}\n",
       "#T_15285_row25_col5, #T_15285_row68_col3 {\n",
       "  background-color: #d0d1e6;\n",
       "  color: #000000;\n",
       "}\n",
       "#T_15285_row26_col1, #T_15285_row69_col5 {\n",
       "  background-color: #eae6f1;\n",
       "  color: #000000;\n",
       "}\n",
       "#T_15285_row27_col5, #T_15285_row39_col1, #T_15285_row39_col4, #T_15285_row54_col6 {\n",
       "  background-color: #dcdaeb;\n",
       "  color: #000000;\n",
       "}\n",
       "#T_15285_row28_col5 {\n",
       "  background-color: #adc1dd;\n",
       "  color: #000000;\n",
       "}\n",
       "#T_15285_row29_col1, #T_15285_row72_col1, #T_15285_row78_col6 {\n",
       "  background-color: #f1ebf4;\n",
       "  color: #000000;\n",
       "}\n",
       "#T_15285_row30_col2, #T_15285_row36_col2, #T_15285_row38_col2 {\n",
       "  background-color: #2987bc;\n",
       "  color: #f1f1f1;\n",
       "}\n",
       "#T_15285_row30_col5, #T_15285_row45_col6 {\n",
       "  background-color: #509ac6;\n",
       "  color: #f1f1f1;\n",
       "}\n",
       "#T_15285_row30_col6, #T_15285_row31_col6, #T_15285_row49_col6, #T_15285_row62_col5 {\n",
       "  background-color: #bfc9e1;\n",
       "  color: #000000;\n",
       "}\n",
       "#T_15285_row31_col5 {\n",
       "  background-color: #7bacd1;\n",
       "  color: #f1f1f1;\n",
       "}\n",
       "#T_15285_row32_col3 {\n",
       "  background-color: #7eadd1;\n",
       "  color: #f1f1f1;\n",
       "}\n",
       "#T_15285_row32_col4 {\n",
       "  background-color: #8cb3d5;\n",
       "  color: #000000;\n",
       "}\n",
       "#T_15285_row32_col5 {\n",
       "  background-color: #2f8bbe;\n",
       "  color: #f1f1f1;\n",
       "}\n",
       "#T_15285_row33_col2, #T_15285_row38_col3, #T_15285_row51_col2, #T_15285_row52_col4, #T_15285_row58_col2, #T_15285_row71_col2 {\n",
       "  background-color: #78abd0;\n",
       "  color: #f1f1f1;\n",
       "}\n",
       "#T_15285_row33_col5, #T_15285_row37_col5 {\n",
       "  background-color: #4c99c5;\n",
       "  color: #f1f1f1;\n",
       "}\n",
       "#T_15285_row33_col6, #T_15285_row39_col3 {\n",
       "  background-color: #d7d6e9;\n",
       "  color: #000000;\n",
       "}\n",
       "#T_15285_row34_col1 {\n",
       "  background-color: #8fb4d6;\n",
       "  color: #000000;\n",
       "}\n",
       "#T_15285_row34_col2, #T_15285_row76_col2, #T_15285_row80_col2, #T_15285_row82_col2, #T_15285_row88_col2 {\n",
       "  background-color: #308cbe;\n",
       "  color: #f1f1f1;\n",
       "}\n",
       "#T_15285_row34_col3, #T_15285_row53_col1, #T_15285_row54_col1 {\n",
       "  background-color: #7dacd1;\n",
       "  color: #f1f1f1;\n",
       "}\n",
       "#T_15285_row34_col5 {\n",
       "  background-color: #197db7;\n",
       "  color: #f1f1f1;\n",
       "}\n",
       "#T_15285_row34_col6, #T_15285_row39_col6, #T_15285_row80_col1 {\n",
       "  background-color: #e5e1ef;\n",
       "  color: #000000;\n",
       "}\n",
       "#T_15285_row35_col5 {\n",
       "  background-color: #3790c0;\n",
       "  color: #f1f1f1;\n",
       "}\n",
       "#T_15285_row36_col1, #T_15285_row53_col6 {\n",
       "  background-color: #97b7d7;\n",
       "  color: #000000;\n",
       "}\n",
       "#T_15285_row36_col3, #T_15285_row38_col4, #T_15285_row50_col1 {\n",
       "  background-color: #86b0d3;\n",
       "  color: #000000;\n",
       "}\n",
       "#T_15285_row36_col5 {\n",
       "  background-color: #1b7eb7;\n",
       "  color: #f1f1f1;\n",
       "}\n",
       "#T_15285_row38_col5 {\n",
       "  background-color: #1278b4;\n",
       "  color: #f1f1f1;\n",
       "}\n",
       "#T_15285_row39_col5, #T_15285_row55_col3, #T_15285_row59_col4 {\n",
       "  background-color: #4094c3;\n",
       "  color: #f1f1f1;\n",
       "}\n",
       "#T_15285_row40_col1, #T_15285_row41_col5 {\n",
       "  background-color: #0570b0;\n",
       "  color: #f1f1f1;\n",
       "}\n",
       "#T_15285_row40_col2, #T_15285_row44_col2, #T_15285_row44_col3, #T_15285_row46_col2, #T_15285_row48_col2 {\n",
       "  background-color: #023d60;\n",
       "  color: #f1f1f1;\n",
       "}\n",
       "#T_15285_row40_col3 {\n",
       "  background-color: #045e93;\n",
       "  color: #f1f1f1;\n",
       "}\n",
       "#T_15285_row40_col4, #T_15285_row41_col2, #T_15285_row45_col2 {\n",
       "  background-color: #046299;\n",
       "  color: #f1f1f1;\n",
       "}\n",
       "#T_15285_row40_col5 {\n",
       "  background-color: #0569a4;\n",
       "  color: #f1f1f1;\n",
       "}\n",
       "#T_15285_row40_col6, #T_15285_row43_col5 {\n",
       "  background-color: #045788;\n",
       "  color: #f1f1f1;\n",
       "}\n",
       "#T_15285_row41_col1, #T_15285_row72_col2, #T_15285_row74_col2, #T_15285_row84_col2 {\n",
       "  background-color: #2081b9;\n",
       "  color: #f1f1f1;\n",
       "}\n",
       "#T_15285_row41_col3, #T_15285_row59_col5 {\n",
       "  background-color: #056dab;\n",
       "  color: #f1f1f1;\n",
       "}\n",
       "#T_15285_row41_col4, #T_15285_row55_col5 {\n",
       "  background-color: #0771b1;\n",
       "  color: #f1f1f1;\n",
       "}\n",
       "#T_15285_row41_col6 {\n",
       "  background-color: #04598c;\n",
       "  color: #f1f1f1;\n",
       "}\n",
       "#T_15285_row42_col1 {\n",
       "  background-color: #03446a;\n",
       "  color: #f1f1f1;\n",
       "}\n",
       "#T_15285_row42_col2, #T_15285_row42_col3, #T_15285_row42_col4, #T_15285_row42_col6, #T_15285_row45_col1, #T_15285_row48_col5 {\n",
       "  background-color: #023858;\n",
       "  color: #f1f1f1;\n",
       "  background-color: darkgreen;\n",
       "}\n",
       "#T_15285_row42_col5 {\n",
       "  background-color: #034871;\n",
       "  color: #f1f1f1;\n",
       "}\n",
       "#T_15285_row43_col1 {\n",
       "  background-color: #045c90;\n",
       "  color: #f1f1f1;\n",
       "}\n",
       "#T_15285_row43_col2, #T_15285_row47_col2 {\n",
       "  background-color: #045e94;\n",
       "  color: #f1f1f1;\n",
       "}\n",
       "#T_15285_row43_col3 {\n",
       "  background-color: #045382;\n",
       "  color: #f1f1f1;\n",
       "}\n",
       "#T_15285_row43_col4 {\n",
       "  background-color: #045687;\n",
       "  color: #f1f1f1;\n",
       "}\n",
       "#T_15285_row43_col6, #T_15285_row47_col4, #T_15285_row48_col4 {\n",
       "  background-color: #03517e;\n",
       "  color: #f1f1f1;\n",
       "}\n",
       "#T_15285_row44_col1 {\n",
       "  background-color: #023f64;\n",
       "  color: #f1f1f1;\n",
       "}\n",
       "#T_15285_row44_col4 {\n",
       "  background-color: #034165;\n",
       "  color: #f1f1f1;\n",
       "}\n",
       "#T_15285_row44_col5, #T_15285_row48_col1, #T_15285_row49_col1 {\n",
       "  background-color: #034369;\n",
       "  color: #f1f1f1;\n",
       "}\n",
       "#T_15285_row44_col6 {\n",
       "  background-color: #05659f;\n",
       "  color: #f1f1f1;\n",
       "}\n",
       "#T_15285_row45_col3 {\n",
       "  background-color: #023b5d;\n",
       "  color: #f1f1f1;\n",
       "}\n",
       "#T_15285_row45_col4 {\n",
       "  background-color: #02395a;\n",
       "  color: #f1f1f1;\n",
       "}\n",
       "#T_15285_row45_col5 {\n",
       "  background-color: #023e62;\n",
       "  color: #f1f1f1;\n",
       "}\n",
       "#T_15285_row46_col1, #T_15285_row46_col5 {\n",
       "  background-color: #03466e;\n",
       "  color: #f1f1f1;\n",
       "}\n",
       "#T_15285_row46_col3, #T_15285_row47_col1 {\n",
       "  background-color: #034973;\n",
       "  color: #f1f1f1;\n",
       "}\n",
       "#T_15285_row46_col4, #T_15285_row47_col3, #T_15285_row47_col5, #T_15285_row49_col3, #T_15285_row49_col4 {\n",
       "  background-color: #034e7b;\n",
       "  color: #f1f1f1;\n",
       "}\n",
       "#T_15285_row48_col3 {\n",
       "  background-color: #034b76;\n",
       "  color: #f1f1f1;\n",
       "}\n",
       "#T_15285_row49_col2 {\n",
       "  background-color: #045a8d;\n",
       "  color: #f1f1f1;\n",
       "}\n",
       "#T_15285_row49_col5 {\n",
       "  background-color: #03476f;\n",
       "  color: #f1f1f1;\n",
       "}\n",
       "#T_15285_row50_col3, #T_15285_row54_col3, #T_15285_row55_col1 {\n",
       "  background-color: #62a2cb;\n",
       "  color: #f1f1f1;\n",
       "}\n",
       "#T_15285_row50_col4, #T_15285_row53_col4, #T_15285_row54_col4 {\n",
       "  background-color: #69a5cc;\n",
       "  color: #f1f1f1;\n",
       "}\n",
       "#T_15285_row50_col5, #T_15285_row57_col3 {\n",
       "  background-color: #4295c3;\n",
       "  color: #f1f1f1;\n",
       "}\n",
       "#T_15285_row51_col1 {\n",
       "  background-color: #79abd0;\n",
       "  color: #f1f1f1;\n",
       "}\n",
       "#T_15285_row51_col3, #T_15285_row55_col4, #T_15285_row56_col3, #T_15285_row78_col2, #T_15285_row81_col2, #T_15285_row85_col2 {\n",
       "  background-color: #4e9ac6;\n",
       "  color: #f1f1f1;\n",
       "}\n",
       "#T_15285_row51_col4 {\n",
       "  background-color: #5ea0ca;\n",
       "  color: #f1f1f1;\n",
       "}\n",
       "#T_15285_row51_col5 {\n",
       "  background-color: #1379b5;\n",
       "  color: #f1f1f1;\n",
       "}\n",
       "#T_15285_row52_col3, #T_15285_row56_col1 {\n",
       "  background-color: #6ba5cd;\n",
       "  color: #f1f1f1;\n",
       "}\n",
       "#T_15285_row52_col5, #T_15285_row54_col5 {\n",
       "  background-color: #3991c1;\n",
       "  color: #f1f1f1;\n",
       "}\n",
       "#T_15285_row53_col2 {\n",
       "  background-color: #6fa7ce;\n",
       "  color: #f1f1f1;\n",
       "}\n",
       "#T_15285_row53_col3, #T_15285_row56_col4 {\n",
       "  background-color: #589ec8;\n",
       "  color: #f1f1f1;\n",
       "}\n",
       "#T_15285_row53_col5 {\n",
       "  background-color: #056faf;\n",
       "  color: #f1f1f1;\n",
       "}\n",
       "#T_15285_row56_col5, #T_15285_row59_col3 {\n",
       "  background-color: #348ebf;\n",
       "  color: #f1f1f1;\n",
       "}\n",
       "#T_15285_row57_col1 {\n",
       "  background-color: #5c9fc9;\n",
       "  color: #f1f1f1;\n",
       "}\n",
       "#T_15285_row57_col4 {\n",
       "  background-color: #529bc7;\n",
       "  color: #f1f1f1;\n",
       "}\n",
       "#T_15285_row57_col5 {\n",
       "  background-color: #0d75b3;\n",
       "  color: #f1f1f1;\n",
       "}\n",
       "#T_15285_row58_col1 {\n",
       "  background-color: #569dc8;\n",
       "  color: #f1f1f1;\n",
       "}\n",
       "#T_15285_row58_col3 {\n",
       "  background-color: #3d93c2;\n",
       "  color: #f1f1f1;\n",
       "}\n",
       "#T_15285_row58_col5 {\n",
       "  background-color: #2c89bd;\n",
       "  color: #f1f1f1;\n",
       "}\n",
       "#T_15285_row59_col1 {\n",
       "  background-color: #4697c4;\n",
       "  color: #f1f1f1;\n",
       "}\n",
       "#T_15285_row60_col5 {\n",
       "  background-color: #dedcec;\n",
       "  color: #000000;\n",
       "}\n",
       "#T_15285_row62_col1, #T_15285_row81_col6 {\n",
       "  background-color: #e0dded;\n",
       "  color: #000000;\n",
       "}\n",
       "#T_15285_row64_col6, #T_15285_row69_col4, #T_15285_row72_col6, #T_15285_row75_col6, #T_15285_row85_col5, #T_15285_row85_col6 {\n",
       "  background-color: #e4e1ef;\n",
       "  color: #000000;\n",
       "}\n",
       "#T_15285_row65_col6 {\n",
       "  background-color: #fbf4f9;\n",
       "  color: #000000;\n",
       "}\n",
       "#T_15285_row70_col2, #T_15285_row86_col2 {\n",
       "  background-color: #187cb6;\n",
       "  color: #f1f1f1;\n",
       "}\n",
       "#T_15285_row76_col6, #T_15285_row83_col3, #T_15285_row87_col4 {\n",
       "  background-color: #ede7f2;\n",
       "  color: #000000;\n",
       "}\n",
       "#T_15285_row80_col5, #T_15285_row87_col1, #T_15285_row89_col3 {\n",
       "  background-color: #ede8f3;\n",
       "  color: #000000;\n",
       "}\n",
       "#T_15285_row81_col5, #T_15285_row83_col1, #T_15285_row83_col4, #T_15285_row89_col6 {\n",
       "  background-color: #efe9f3;\n",
       "  color: #000000;\n",
       "}\n",
       "#T_15285_row84_col4, #T_15285_row88_col5 {\n",
       "  background-color: #d2d2e7;\n",
       "  color: #000000;\n",
       "}\n",
       "#T_15285_row87_col2 {\n",
       "  background-color: #3b92c1;\n",
       "  color: #f1f1f1;\n",
       "}\n",
       "</style>\n",
       "<table id=\"T_15285\">\n",
       "  <thead>\n",
       "    <tr>\n",
       "      <th class=\"blank\" >&nbsp;</th>\n",
       "      <th class=\"blank\" >&nbsp;</th>\n",
       "      <th class=\"blank\" >&nbsp;</th>\n",
       "      <th class=\"blank\" >&nbsp;</th>\n",
       "      <th class=\"blank level0\" >&nbsp;</th>\n",
       "      <th id=\"T_15285_level0_col0\" class=\"col_heading level0 col0\" >Positions</th>\n",
       "      <th id=\"T_15285_level0_col1\" class=\"col_heading level0 col1\" >Annualised return</th>\n",
       "      <th id=\"T_15285_level0_col2\" class=\"col_heading level0 col2\" >Max drawdown</th>\n",
       "      <th id=\"T_15285_level0_col3\" class=\"col_heading level0 col3\" >Sharpe</th>\n",
       "      <th id=\"T_15285_level0_col4\" class=\"col_heading level0 col4\" >Sortino</th>\n",
       "      <th id=\"T_15285_level0_col5\" class=\"col_heading level0 col5\" >Average position</th>\n",
       "      <th id=\"T_15285_level0_col6\" class=\"col_heading level0 col6\" >Median position</th>\n",
       "    </tr>\n",
       "    <tr>\n",
       "      <th class=\"index_name level0\" >cycle_duration_days</th>\n",
       "      <th class=\"index_name level1\" >momentum_lookback</th>\n",
       "      <th class=\"index_name level2\" >take_profit</th>\n",
       "      <th class=\"index_name level3\" >positive_mometum_threshold</th>\n",
       "      <th class=\"index_name level4\" >negative_mometum_threshold</th>\n",
       "      <th class=\"blank col0\" >&nbsp;</th>\n",
       "      <th class=\"blank col1\" >&nbsp;</th>\n",
       "      <th class=\"blank col2\" >&nbsp;</th>\n",
       "      <th class=\"blank col3\" >&nbsp;</th>\n",
       "      <th class=\"blank col4\" >&nbsp;</th>\n",
       "      <th class=\"blank col5\" >&nbsp;</th>\n",
       "      <th class=\"blank col6\" >&nbsp;</th>\n",
       "    </tr>\n",
       "  </thead>\n",
       "  <tbody>\n",
       "    <tr>\n",
       "      <th id=\"T_15285_level0_row0\" class=\"row_heading level0 row0\" rowspan=\"30\">6</th>\n",
       "      <th id=\"T_15285_level1_row0\" class=\"row_heading level1 row0\" rowspan=\"10\">6</th>\n",
       "      <th id=\"T_15285_level2_row0\" class=\"row_heading level2 row0\" rowspan=\"2\">1.060000</th>\n",
       "      <th id=\"T_15285_level3_row0\" class=\"row_heading level3 row0\" >0.000100</th>\n",
       "      <th id=\"T_15285_level4_row0\" class=\"row_heading level4 row0\" >-0.060000</th>\n",
       "      <td id=\"T_15285_row0_col0\" class=\"data row0 col0\" >151</td>\n",
       "      <td id=\"T_15285_row0_col1\" class=\"data row0 col1\" >17.19%</td>\n",
       "      <td id=\"T_15285_row0_col2\" class=\"data row0 col2\" >-52.00%</td>\n",
       "      <td id=\"T_15285_row0_col3\" class=\"data row0 col3\" >0.580000</td>\n",
       "      <td id=\"T_15285_row0_col4\" class=\"data row0 col4\" >0.870000</td>\n",
       "      <td id=\"T_15285_row0_col5\" class=\"data row0 col5\" >0.15%</td>\n",
       "      <td id=\"T_15285_row0_col6\" class=\"data row0 col6\" >-0.55%</td>\n",
       "    </tr>\n",
       "    <tr>\n",
       "      <th id=\"T_15285_level3_row1\" class=\"row_heading level3 row1\" >0.025000</th>\n",
       "      <th id=\"T_15285_level4_row1\" class=\"row_heading level4 row1\" >-0.060000</th>\n",
       "      <td id=\"T_15285_row1_col0\" class=\"data row1 col0\" >128</td>\n",
       "      <td id=\"T_15285_row1_col1\" class=\"data row1 col1\" >-11.31%</td>\n",
       "      <td id=\"T_15285_row1_col2\" class=\"data row1 col2\" >-61.00%</td>\n",
       "      <td id=\"T_15285_row1_col3\" class=\"data row1 col3\" >-0.070000</td>\n",
       "      <td id=\"T_15285_row1_col4\" class=\"data row1 col4\" >-0.100000</td>\n",
       "      <td id=\"T_15285_row1_col5\" class=\"data row1 col5\" >-0.19%</td>\n",
       "      <td id=\"T_15285_row1_col6\" class=\"data row1 col6\" >-0.73%</td>\n",
       "    </tr>\n",
       "    <tr>\n",
       "      <th id=\"T_15285_level2_row2\" class=\"row_heading level2 row2\" rowspan=\"2\">1.070000</th>\n",
       "      <th id=\"T_15285_level3_row2\" class=\"row_heading level3 row2\" >0.000100</th>\n",
       "      <th id=\"T_15285_level4_row2\" class=\"row_heading level4 row2\" >-0.060000</th>\n",
       "      <td id=\"T_15285_row2_col0\" class=\"data row2 col0\" >147</td>\n",
       "      <td id=\"T_15285_row2_col1\" class=\"data row2 col1\" >17.87%</td>\n",
       "      <td id=\"T_15285_row2_col2\" class=\"data row2 col2\" >-51.00%</td>\n",
       "      <td id=\"T_15285_row2_col3\" class=\"data row2 col3\" >0.590000</td>\n",
       "      <td id=\"T_15285_row2_col4\" class=\"data row2 col4\" >0.880000</td>\n",
       "      <td id=\"T_15285_row2_col5\" class=\"data row2 col5\" >0.18%</td>\n",
       "      <td id=\"T_15285_row2_col6\" class=\"data row2 col6\" >-0.97%</td>\n",
       "    </tr>\n",
       "    <tr>\n",
       "      <th id=\"T_15285_level3_row3\" class=\"row_heading level3 row3\" >0.025000</th>\n",
       "      <th id=\"T_15285_level4_row3\" class=\"row_heading level4 row3\" >-0.060000</th>\n",
       "      <td id=\"T_15285_row3_col0\" class=\"data row3 col0\" >127</td>\n",
       "      <td id=\"T_15285_row3_col1\" class=\"data row3 col1\" >-9.61%</td>\n",
       "      <td id=\"T_15285_row3_col2\" class=\"data row3 col2\" >-62.00%</td>\n",
       "      <td id=\"T_15285_row3_col3\" class=\"data row3 col3\" >-0.020000</td>\n",
       "      <td id=\"T_15285_row3_col4\" class=\"data row3 col4\" >-0.020000</td>\n",
       "      <td id=\"T_15285_row3_col5\" class=\"data row3 col5\" >-0.16%</td>\n",
       "      <td id=\"T_15285_row3_col6\" class=\"data row3 col6\" >-0.97%</td>\n",
       "    </tr>\n",
       "    <tr>\n",
       "      <th id=\"T_15285_level2_row4\" class=\"row_heading level2 row4\" rowspan=\"2\">1.080000</th>\n",
       "      <th id=\"T_15285_level3_row4\" class=\"row_heading level3 row4\" >0.000100</th>\n",
       "      <th id=\"T_15285_level4_row4\" class=\"row_heading level4 row4\" >-0.060000</th>\n",
       "      <td id=\"T_15285_row4_col0\" class=\"data row4 col0\" >145</td>\n",
       "      <td id=\"T_15285_row4_col1\" class=\"data row4 col1\" >21.30%</td>\n",
       "      <td id=\"T_15285_row4_col2\" class=\"data row4 col2\" >-50.00%</td>\n",
       "      <td id=\"T_15285_row4_col3\" class=\"data row4 col3\" >0.650000</td>\n",
       "      <td id=\"T_15285_row4_col4\" class=\"data row4 col4\" >0.990000</td>\n",
       "      <td id=\"T_15285_row4_col5\" class=\"data row4 col5\" >0.34%</td>\n",
       "      <td id=\"T_15285_row4_col6\" class=\"data row4 col6\" >-0.97%</td>\n",
       "    </tr>\n",
       "    <tr>\n",
       "      <th id=\"T_15285_level3_row5\" class=\"row_heading level3 row5\" >0.025000</th>\n",
       "      <th id=\"T_15285_level4_row5\" class=\"row_heading level4 row5\" >-0.060000</th>\n",
       "      <td id=\"T_15285_row5_col0\" class=\"data row5 col0\" >127</td>\n",
       "      <td id=\"T_15285_row5_col1\" class=\"data row5 col1\" >-7.00%</td>\n",
       "      <td id=\"T_15285_row5_col2\" class=\"data row5 col2\" >-61.00%</td>\n",
       "      <td id=\"T_15285_row5_col3\" class=\"data row5 col3\" >0.060000</td>\n",
       "      <td id=\"T_15285_row5_col4\" class=\"data row5 col4\" >0.090000</td>\n",
       "      <td id=\"T_15285_row5_col5\" class=\"data row5 col5\" >0.01%</td>\n",
       "      <td id=\"T_15285_row5_col6\" class=\"data row5 col6\" >-1.17%</td>\n",
       "    </tr>\n",
       "    <tr>\n",
       "      <th id=\"T_15285_level2_row6\" class=\"row_heading level2 row6\" rowspan=\"2\">1.090000</th>\n",
       "      <th id=\"T_15285_level3_row6\" class=\"row_heading level3 row6\" >0.000100</th>\n",
       "      <th id=\"T_15285_level4_row6\" class=\"row_heading level4 row6\" >-0.060000</th>\n",
       "      <td id=\"T_15285_row6_col0\" class=\"data row6 col0\" >141</td>\n",
       "      <td id=\"T_15285_row6_col1\" class=\"data row6 col1\" >25.63%</td>\n",
       "      <td id=\"T_15285_row6_col2\" class=\"data row6 col2\" >-50.00%</td>\n",
       "      <td id=\"T_15285_row6_col3\" class=\"data row6 col3\" >0.720000</td>\n",
       "      <td id=\"T_15285_row6_col4\" class=\"data row6 col4\" >1.100000</td>\n",
       "      <td id=\"T_15285_row6_col5\" class=\"data row6 col5\" >0.46%</td>\n",
       "      <td id=\"T_15285_row6_col6\" class=\"data row6 col6\" >-1.12%</td>\n",
       "    </tr>\n",
       "    <tr>\n",
       "      <th id=\"T_15285_level3_row7\" class=\"row_heading level3 row7\" >0.025000</th>\n",
       "      <th id=\"T_15285_level4_row7\" class=\"row_heading level4 row7\" >-0.060000</th>\n",
       "      <td id=\"T_15285_row7_col0\" class=\"data row7 col0\" >124</td>\n",
       "      <td id=\"T_15285_row7_col1\" class=\"data row7 col1\" >-6.59%</td>\n",
       "      <td id=\"T_15285_row7_col2\" class=\"data row7 col2\" >-61.00%</td>\n",
       "      <td id=\"T_15285_row7_col3\" class=\"data row7 col3\" >0.070000</td>\n",
       "      <td id=\"T_15285_row7_col4\" class=\"data row7 col4\" >0.100000</td>\n",
       "      <td id=\"T_15285_row7_col5\" class=\"data row7 col5\" >0.14%</td>\n",
       "      <td id=\"T_15285_row7_col6\" class=\"data row7 col6\" >-1.28%</td>\n",
       "    </tr>\n",
       "    <tr>\n",
       "      <th id=\"T_15285_level2_row8\" class=\"row_heading level2 row8\" rowspan=\"2\">1.100000</th>\n",
       "      <th id=\"T_15285_level3_row8\" class=\"row_heading level3 row8\" >0.000100</th>\n",
       "      <th id=\"T_15285_level4_row8\" class=\"row_heading level4 row8\" >-0.060000</th>\n",
       "      <td id=\"T_15285_row8_col0\" class=\"data row8 col0\" >138</td>\n",
       "      <td id=\"T_15285_row8_col1\" class=\"data row8 col1\" >39.22%</td>\n",
       "      <td id=\"T_15285_row8_col2\" class=\"data row8 col2\" >-46.00%</td>\n",
       "      <td id=\"T_15285_row8_col3\" class=\"data row8 col3\" >0.930000</td>\n",
       "      <td id=\"T_15285_row8_col4\" class=\"data row8 col4\" >1.460000</td>\n",
       "      <td id=\"T_15285_row8_col5\" class=\"data row8 col5\" >0.71%</td>\n",
       "      <td id=\"T_15285_row8_col6\" class=\"data row8 col6\" >-1.05%</td>\n",
       "    </tr>\n",
       "    <tr>\n",
       "      <th id=\"T_15285_level3_row9\" class=\"row_heading level3 row9\" >0.025000</th>\n",
       "      <th id=\"T_15285_level4_row9\" class=\"row_heading level4 row9\" >-0.060000</th>\n",
       "      <td id=\"T_15285_row9_col0\" class=\"data row9 col0\" >122</td>\n",
       "      <td id=\"T_15285_row9_col1\" class=\"data row9 col1\" >1.84%</td>\n",
       "      <td id=\"T_15285_row9_col2\" class=\"data row9 col2\" >-58.00%</td>\n",
       "      <td id=\"T_15285_row9_col3\" class=\"data row9 col3\" >0.270000</td>\n",
       "      <td id=\"T_15285_row9_col4\" class=\"data row9 col4\" >0.400000</td>\n",
       "      <td id=\"T_15285_row9_col5\" class=\"data row9 col5\" >0.37%</td>\n",
       "      <td id=\"T_15285_row9_col6\" class=\"data row9 col6\" >-1.07%</td>\n",
       "    </tr>\n",
       "    <tr>\n",
       "      <th id=\"T_15285_level1_row10\" class=\"row_heading level1 row10\" rowspan=\"10\">7</th>\n",
       "      <th id=\"T_15285_level2_row10\" class=\"row_heading level2 row10\" rowspan=\"2\">1.060000</th>\n",
       "      <th id=\"T_15285_level3_row10\" class=\"row_heading level3 row10\" >0.000100</th>\n",
       "      <th id=\"T_15285_level4_row10\" class=\"row_heading level4 row10\" >-0.060000</th>\n",
       "      <td id=\"T_15285_row10_col0\" class=\"data row10 col0\" >141</td>\n",
       "      <td id=\"T_15285_row10_col1\" class=\"data row10 col1\" >4.23%</td>\n",
       "      <td id=\"T_15285_row10_col2\" class=\"data row10 col2\" >-42.00%</td>\n",
       "      <td id=\"T_15285_row10_col3\" class=\"data row10 col3\" >0.310000</td>\n",
       "      <td id=\"T_15285_row10_col4\" class=\"data row10 col4\" >0.460000</td>\n",
       "      <td id=\"T_15285_row10_col5\" class=\"data row10 col5\" >0.09%</td>\n",
       "      <td id=\"T_15285_row10_col6\" class=\"data row10 col6\" >-0.55%</td>\n",
       "    </tr>\n",
       "    <tr>\n",
       "      <th id=\"T_15285_level3_row11\" class=\"row_heading level3 row11\" >0.025000</th>\n",
       "      <th id=\"T_15285_level4_row11\" class=\"row_heading level4 row11\" >-0.060000</th>\n",
       "      <td id=\"T_15285_row11_col0\" class=\"data row11 col0\" >115</td>\n",
       "      <td id=\"T_15285_row11_col1\" class=\"data row11 col1\" >-1.72%</td>\n",
       "      <td id=\"T_15285_row11_col2\" class=\"data row11 col2\" >-36.00%</td>\n",
       "      <td id=\"T_15285_row11_col3\" class=\"data row11 col3\" >0.160000</td>\n",
       "      <td id=\"T_15285_row11_col4\" class=\"data row11 col4\" >0.240000</td>\n",
       "      <td id=\"T_15285_row11_col5\" class=\"data row11 col5\" >0.24%</td>\n",
       "      <td id=\"T_15285_row11_col6\" class=\"data row11 col6\" >-0.05%</td>\n",
       "    </tr>\n",
       "    <tr>\n",
       "      <th id=\"T_15285_level2_row12\" class=\"row_heading level2 row12\" rowspan=\"2\">1.070000</th>\n",
       "      <th id=\"T_15285_level3_row12\" class=\"row_heading level3 row12\" >0.000100</th>\n",
       "      <th id=\"T_15285_level4_row12\" class=\"row_heading level4 row12\" >-0.060000</th>\n",
       "      <td id=\"T_15285_row12_col0\" class=\"data row12 col0\" >138</td>\n",
       "      <td id=\"T_15285_row12_col1\" class=\"data row12 col1\" >2.67%</td>\n",
       "      <td id=\"T_15285_row12_col2\" class=\"data row12 col2\" >-41.00%</td>\n",
       "      <td id=\"T_15285_row12_col3\" class=\"data row12 col3\" >0.270000</td>\n",
       "      <td id=\"T_15285_row12_col4\" class=\"data row12 col4\" >0.410000</td>\n",
       "      <td id=\"T_15285_row12_col5\" class=\"data row12 col5\" >0.02%</td>\n",
       "      <td id=\"T_15285_row12_col6\" class=\"data row12 col6\" >-0.94%</td>\n",
       "    </tr>\n",
       "    <tr>\n",
       "      <th id=\"T_15285_level3_row13\" class=\"row_heading level3 row13\" >0.025000</th>\n",
       "      <th id=\"T_15285_level4_row13\" class=\"row_heading level4 row13\" >-0.060000</th>\n",
       "      <td id=\"T_15285_row13_col0\" class=\"data row13 col0\" >113</td>\n",
       "      <td id=\"T_15285_row13_col1\" class=\"data row13 col1\" >-2.72%</td>\n",
       "      <td id=\"T_15285_row13_col2\" class=\"data row13 col2\" >-37.00%</td>\n",
       "      <td id=\"T_15285_row13_col3\" class=\"data row13 col3\" >0.140000</td>\n",
       "      <td id=\"T_15285_row13_col4\" class=\"data row13 col4\" >0.210000</td>\n",
       "      <td id=\"T_15285_row13_col5\" class=\"data row13 col5\" >0.10%</td>\n",
       "      <td id=\"T_15285_row13_col6\" class=\"data row13 col6\" >-0.55%</td>\n",
       "    </tr>\n",
       "    <tr>\n",
       "      <th id=\"T_15285_level2_row14\" class=\"row_heading level2 row14\" rowspan=\"2\">1.080000</th>\n",
       "      <th id=\"T_15285_level3_row14\" class=\"row_heading level3 row14\" >0.000100</th>\n",
       "      <th id=\"T_15285_level4_row14\" class=\"row_heading level4 row14\" >-0.060000</th>\n",
       "      <td id=\"T_15285_row14_col0\" class=\"data row14 col0\" >135</td>\n",
       "      <td id=\"T_15285_row14_col1\" class=\"data row14 col1\" >10.63%</td>\n",
       "      <td id=\"T_15285_row14_col2\" class=\"data row14 col2\" >-41.00%</td>\n",
       "      <td id=\"T_15285_row14_col3\" class=\"data row14 col3\" >0.450000</td>\n",
       "      <td id=\"T_15285_row14_col4\" class=\"data row14 col4\" >0.680000</td>\n",
       "      <td id=\"T_15285_row14_col5\" class=\"data row14 col5\" >0.21%</td>\n",
       "      <td id=\"T_15285_row14_col6\" class=\"data row14 col6\" >-0.97%</td>\n",
       "    </tr>\n",
       "    <tr>\n",
       "      <th id=\"T_15285_level3_row15\" class=\"row_heading level3 row15\" >0.025000</th>\n",
       "      <th id=\"T_15285_level4_row15\" class=\"row_heading level4 row15\" >-0.060000</th>\n",
       "      <td id=\"T_15285_row15_col0\" class=\"data row15 col0\" >113</td>\n",
       "      <td id=\"T_15285_row15_col1\" class=\"data row15 col1\" >1.60%</td>\n",
       "      <td id=\"T_15285_row15_col2\" class=\"data row15 col2\" >-37.00%</td>\n",
       "      <td id=\"T_15285_row15_col3\" class=\"data row15 col3\" >0.250000</td>\n",
       "      <td id=\"T_15285_row15_col4\" class=\"data row15 col4\" >0.380000</td>\n",
       "      <td id=\"T_15285_row15_col5\" class=\"data row15 col5\" >0.24%</td>\n",
       "      <td id=\"T_15285_row15_col6\" class=\"data row15 col6\" >-0.92%</td>\n",
       "    </tr>\n",
       "    <tr>\n",
       "      <th id=\"T_15285_level2_row16\" class=\"row_heading level2 row16\" rowspan=\"2\">1.090000</th>\n",
       "      <th id=\"T_15285_level3_row16\" class=\"row_heading level3 row16\" >0.000100</th>\n",
       "      <th id=\"T_15285_level4_row16\" class=\"row_heading level4 row16\" >-0.060000</th>\n",
       "      <td id=\"T_15285_row16_col0\" class=\"data row16 col0\" >131</td>\n",
       "      <td id=\"T_15285_row16_col1\" class=\"data row16 col1\" >10.64%</td>\n",
       "      <td id=\"T_15285_row16_col2\" class=\"data row16 col2\" >-43.00%</td>\n",
       "      <td id=\"T_15285_row16_col3\" class=\"data row16 col3\" >0.450000</td>\n",
       "      <td id=\"T_15285_row16_col4\" class=\"data row16 col4\" >0.670000</td>\n",
       "      <td id=\"T_15285_row16_col5\" class=\"data row16 col5\" >0.24%</td>\n",
       "      <td id=\"T_15285_row16_col6\" class=\"data row16 col6\" >-1.17%</td>\n",
       "    </tr>\n",
       "    <tr>\n",
       "      <th id=\"T_15285_level3_row17\" class=\"row_heading level3 row17\" >0.025000</th>\n",
       "      <th id=\"T_15285_level4_row17\" class=\"row_heading level4 row17\" >-0.060000</th>\n",
       "      <td id=\"T_15285_row17_col0\" class=\"data row17 col0\" >111</td>\n",
       "      <td id=\"T_15285_row17_col1\" class=\"data row17 col1\" >4.62%</td>\n",
       "      <td id=\"T_15285_row17_col2\" class=\"data row17 col2\" >-37.00%</td>\n",
       "      <td id=\"T_15285_row17_col3\" class=\"data row17 col3\" >0.320000</td>\n",
       "      <td id=\"T_15285_row17_col4\" class=\"data row17 col4\" >0.480000</td>\n",
       "      <td id=\"T_15285_row17_col5\" class=\"data row17 col5\" >0.38%</td>\n",
       "      <td id=\"T_15285_row17_col6\" class=\"data row17 col6\" >-0.92%</td>\n",
       "    </tr>\n",
       "    <tr>\n",
       "      <th id=\"T_15285_level2_row18\" class=\"row_heading level2 row18\" rowspan=\"2\">1.100000</th>\n",
       "      <th id=\"T_15285_level3_row18\" class=\"row_heading level3 row18\" >0.000100</th>\n",
       "      <th id=\"T_15285_level4_row18\" class=\"row_heading level4 row18\" >-0.060000</th>\n",
       "      <td id=\"T_15285_row18_col0\" class=\"data row18 col0\" >130</td>\n",
       "      <td id=\"T_15285_row18_col1\" class=\"data row18 col1\" >21.54%</td>\n",
       "      <td id=\"T_15285_row18_col2\" class=\"data row18 col2\" >-40.00%</td>\n",
       "      <td id=\"T_15285_row18_col3\" class=\"data row18 col3\" >0.650000</td>\n",
       "      <td id=\"T_15285_row18_col4\" class=\"data row18 col4\" >1.010000</td>\n",
       "      <td id=\"T_15285_row18_col5\" class=\"data row18 col5\" >0.52%</td>\n",
       "      <td id=\"T_15285_row18_col6\" class=\"data row18 col6\" >-1.23%</td>\n",
       "    </tr>\n",
       "    <tr>\n",
       "      <th id=\"T_15285_level3_row19\" class=\"row_heading level3 row19\" >0.025000</th>\n",
       "      <th id=\"T_15285_level4_row19\" class=\"row_heading level4 row19\" >-0.060000</th>\n",
       "      <td id=\"T_15285_row19_col0\" class=\"data row19 col0\" >111</td>\n",
       "      <td id=\"T_15285_row19_col1\" class=\"data row19 col1\" >9.75%</td>\n",
       "      <td id=\"T_15285_row19_col2\" class=\"data row19 col2\" >-34.00%</td>\n",
       "      <td id=\"T_15285_row19_col3\" class=\"data row19 col3\" >0.430000</td>\n",
       "      <td id=\"T_15285_row19_col4\" class=\"data row19 col4\" >0.660000</td>\n",
       "      <td id=\"T_15285_row19_col5\" class=\"data row19 col5\" >0.58%</td>\n",
       "      <td id=\"T_15285_row19_col6\" class=\"data row19 col6\" >-0.92%</td>\n",
       "    </tr>\n",
       "    <tr>\n",
       "      <th id=\"T_15285_level1_row20\" class=\"row_heading level1 row20\" rowspan=\"10\">8</th>\n",
       "      <th id=\"T_15285_level2_row20\" class=\"row_heading level2 row20\" rowspan=\"2\">1.060000</th>\n",
       "      <th id=\"T_15285_level3_row20\" class=\"row_heading level3 row20\" >0.000100</th>\n",
       "      <th id=\"T_15285_level4_row20\" class=\"row_heading level4 row20\" >-0.060000</th>\n",
       "      <td id=\"T_15285_row20_col0\" class=\"data row20 col0\" >139</td>\n",
       "      <td id=\"T_15285_row20_col1\" class=\"data row20 col1\" >-10.74%</td>\n",
       "      <td id=\"T_15285_row20_col2\" class=\"data row20 col2\" >-45.00%</td>\n",
       "      <td id=\"T_15285_row20_col3\" class=\"data row20 col3\" >-0.050000</td>\n",
       "      <td id=\"T_15285_row20_col4\" class=\"data row20 col4\" >-0.070000</td>\n",
       "      <td id=\"T_15285_row20_col5\" class=\"data row20 col5\" >-0.27%</td>\n",
       "      <td id=\"T_15285_row20_col6\" class=\"data row20 col6\" >-0.55%</td>\n",
       "    </tr>\n",
       "    <tr>\n",
       "      <th id=\"T_15285_level3_row21\" class=\"row_heading level3 row21\" >0.025000</th>\n",
       "      <th id=\"T_15285_level4_row21\" class=\"row_heading level4 row21\" >-0.060000</th>\n",
       "      <td id=\"T_15285_row21_col0\" class=\"data row21 col0\" >121</td>\n",
       "      <td id=\"T_15285_row21_col1\" class=\"data row21 col1\" >-17.23%</td>\n",
       "      <td id=\"T_15285_row21_col2\" class=\"data row21 col2\" >-52.00%</td>\n",
       "      <td id=\"T_15285_row21_col3\" class=\"data row21 col3\" >-0.220000</td>\n",
       "      <td id=\"T_15285_row21_col4\" class=\"data row21 col4\" >-0.310000</td>\n",
       "      <td id=\"T_15285_row21_col5\" class=\"data row21 col5\" >-0.28%</td>\n",
       "      <td id=\"T_15285_row21_col6\" class=\"data row21 col6\" >0.08%</td>\n",
       "    </tr>\n",
       "    <tr>\n",
       "      <th id=\"T_15285_level2_row22\" class=\"row_heading level2 row22\" rowspan=\"2\">1.070000</th>\n",
       "      <th id=\"T_15285_level3_row22\" class=\"row_heading level3 row22\" >0.000100</th>\n",
       "      <th id=\"T_15285_level4_row22\" class=\"row_heading level4 row22\" >-0.060000</th>\n",
       "      <td id=\"T_15285_row22_col0\" class=\"data row22 col0\" >135</td>\n",
       "      <td id=\"T_15285_row22_col1\" class=\"data row22 col1\" >-9.94%</td>\n",
       "      <td id=\"T_15285_row22_col2\" class=\"data row22 col2\" >-44.00%</td>\n",
       "      <td id=\"T_15285_row22_col3\" class=\"data row22 col3\" >-0.020000</td>\n",
       "      <td id=\"T_15285_row22_col4\" class=\"data row22 col4\" >-0.030000</td>\n",
       "      <td id=\"T_15285_row22_col5\" class=\"data row22 col5\" >-0.38%</td>\n",
       "      <td id=\"T_15285_row22_col6\" class=\"data row22 col6\" >-0.97%</td>\n",
       "    </tr>\n",
       "    <tr>\n",
       "      <th id=\"T_15285_level3_row23\" class=\"row_heading level3 row23\" >0.025000</th>\n",
       "      <th id=\"T_15285_level4_row23\" class=\"row_heading level4 row23\" >-0.060000</th>\n",
       "      <td id=\"T_15285_row23_col0\" class=\"data row23 col0\" >118</td>\n",
       "      <td id=\"T_15285_row23_col1\" class=\"data row23 col1\" >-16.35%</td>\n",
       "      <td id=\"T_15285_row23_col2\" class=\"data row23 col2\" >-51.00%</td>\n",
       "      <td id=\"T_15285_row23_col3\" class=\"data row23 col3\" >-0.180000</td>\n",
       "      <td id=\"T_15285_row23_col4\" class=\"data row23 col4\" >-0.260000</td>\n",
       "      <td id=\"T_15285_row23_col5\" class=\"data row23 col5\" >-0.36%</td>\n",
       "      <td id=\"T_15285_row23_col6\" class=\"data row23 col6\" >-0.73%</td>\n",
       "    </tr>\n",
       "    <tr>\n",
       "      <th id=\"T_15285_level2_row24\" class=\"row_heading level2 row24\" rowspan=\"2\">1.080000</th>\n",
       "      <th id=\"T_15285_level3_row24\" class=\"row_heading level3 row24\" >0.000100</th>\n",
       "      <th id=\"T_15285_level4_row24\" class=\"row_heading level4 row24\" >-0.060000</th>\n",
       "      <td id=\"T_15285_row24_col0\" class=\"data row24 col0\" >132</td>\n",
       "      <td id=\"T_15285_row24_col1\" class=\"data row24 col1\" >-2.69%</td>\n",
       "      <td id=\"T_15285_row24_col2\" class=\"data row24 col2\" >-40.00%</td>\n",
       "      <td id=\"T_15285_row24_col3\" class=\"data row24 col3\" >0.160000</td>\n",
       "      <td id=\"T_15285_row24_col4\" class=\"data row24 col4\" >0.230000</td>\n",
       "      <td id=\"T_15285_row24_col5\" class=\"data row24 col5\" >-0.09%</td>\n",
       "      <td id=\"T_15285_row24_col6\" class=\"data row24 col6\" >-0.94%</td>\n",
       "    </tr>\n",
       "    <tr>\n",
       "      <th id=\"T_15285_level3_row25\" class=\"row_heading level3 row25\" >0.025000</th>\n",
       "      <th id=\"T_15285_level4_row25\" class=\"row_heading level4 row25\" >-0.060000</th>\n",
       "      <td id=\"T_15285_row25_col0\" class=\"data row25 col0\" >116</td>\n",
       "      <td id=\"T_15285_row25_col1\" class=\"data row25 col1\" >-9.20%</td>\n",
       "      <td id=\"T_15285_row25_col2\" class=\"data row25 col2\" >-48.00%</td>\n",
       "      <td id=\"T_15285_row25_col3\" class=\"data row25 col3\" >0.010000</td>\n",
       "      <td id=\"T_15285_row25_col4\" class=\"data row25 col4\" >0.010000</td>\n",
       "      <td id=\"T_15285_row25_col5\" class=\"data row25 col5\" >-0.11%</td>\n",
       "      <td id=\"T_15285_row25_col6\" class=\"data row25 col6\" >-0.94%</td>\n",
       "    </tr>\n",
       "    <tr>\n",
       "      <th id=\"T_15285_level2_row26\" class=\"row_heading level2 row26\" rowspan=\"2\">1.090000</th>\n",
       "      <th id=\"T_15285_level3_row26\" class=\"row_heading level3 row26\" >0.000100</th>\n",
       "      <th id=\"T_15285_level4_row26\" class=\"row_heading level4 row26\" >-0.060000</th>\n",
       "      <td id=\"T_15285_row26_col0\" class=\"data row26 col0\" >129</td>\n",
       "      <td id=\"T_15285_row26_col1\" class=\"data row26 col1\" >-3.60%</td>\n",
       "      <td id=\"T_15285_row26_col2\" class=\"data row26 col2\" >-43.00%</td>\n",
       "      <td id=\"T_15285_row26_col3\" class=\"data row26 col3\" >0.140000</td>\n",
       "      <td id=\"T_15285_row26_col4\" class=\"data row26 col4\" >0.210000</td>\n",
       "      <td id=\"T_15285_row26_col5\" class=\"data row26 col5\" >-0.13%</td>\n",
       "      <td id=\"T_15285_row26_col6\" class=\"data row26 col6\" >-1.17%</td>\n",
       "    </tr>\n",
       "    <tr>\n",
       "      <th id=\"T_15285_level3_row27\" class=\"row_heading level3 row27\" >0.025000</th>\n",
       "      <th id=\"T_15285_level4_row27\" class=\"row_heading level4 row27\" >-0.060000</th>\n",
       "      <td id=\"T_15285_row27_col0\" class=\"data row27 col0\" >113</td>\n",
       "      <td id=\"T_15285_row27_col1\" class=\"data row27 col1\" >-13.68%</td>\n",
       "      <td id=\"T_15285_row27_col2\" class=\"data row27 col2\" >-54.00%</td>\n",
       "      <td id=\"T_15285_row27_col3\" class=\"data row27 col3\" >-0.090000</td>\n",
       "      <td id=\"T_15285_row27_col4\" class=\"data row27 col4\" >-0.130000</td>\n",
       "      <td id=\"T_15285_row27_col5\" class=\"data row27 col5\" >-0.29%</td>\n",
       "      <td id=\"T_15285_row27_col6\" class=\"data row27 col6\" >-1.31%</td>\n",
       "    </tr>\n",
       "    <tr>\n",
       "      <th id=\"T_15285_level2_row28\" class=\"row_heading level2 row28\" rowspan=\"2\">1.100000</th>\n",
       "      <th id=\"T_15285_level3_row28\" class=\"row_heading level3 row28\" >0.000100</th>\n",
       "      <th id=\"T_15285_level4_row28\" class=\"row_heading level4 row28\" >-0.060000</th>\n",
       "      <td id=\"T_15285_row28_col0\" class=\"data row28 col0\" >127</td>\n",
       "      <td id=\"T_15285_row28_col1\" class=\"data row28 col1\" >4.43%</td>\n",
       "      <td id=\"T_15285_row28_col2\" class=\"data row28 col2\" >-41.00%</td>\n",
       "      <td id=\"T_15285_row28_col3\" class=\"data row28 col3\" >0.320000</td>\n",
       "      <td id=\"T_15285_row28_col4\" class=\"data row28 col4\" >0.480000</td>\n",
       "      <td id=\"T_15285_row28_col5\" class=\"data row28 col5\" >0.22%</td>\n",
       "      <td id=\"T_15285_row28_col6\" class=\"data row28 col6\" >-1.17%</td>\n",
       "    </tr>\n",
       "    <tr>\n",
       "      <th id=\"T_15285_level3_row29\" class=\"row_heading level3 row29\" >0.025000</th>\n",
       "      <th id=\"T_15285_level4_row29\" class=\"row_heading level4 row29\" >-0.060000</th>\n",
       "      <td id=\"T_15285_row29_col0\" class=\"data row29 col0\" >111</td>\n",
       "      <td id=\"T_15285_row29_col1\" class=\"data row29 col1\" >-7.35%</td>\n",
       "      <td id=\"T_15285_row29_col2\" class=\"data row29 col2\" >-54.00%</td>\n",
       "      <td id=\"T_15285_row29_col3\" class=\"data row29 col3\" >0.070000</td>\n",
       "      <td id=\"T_15285_row29_col4\" class=\"data row29 col4\" >0.100000</td>\n",
       "      <td id=\"T_15285_row29_col5\" class=\"data row29 col5\" >0.02%</td>\n",
       "      <td id=\"T_15285_row29_col6\" class=\"data row29 col6\" >-1.31%</td>\n",
       "    </tr>\n",
       "    <tr>\n",
       "      <th id=\"T_15285_level0_row30\" class=\"row_heading level0 row30\" rowspan=\"30\">7</th>\n",
       "      <th id=\"T_15285_level1_row30\" class=\"row_heading level1 row30\" rowspan=\"10\">6</th>\n",
       "      <th id=\"T_15285_level2_row30\" class=\"row_heading level2 row30\" rowspan=\"2\">1.060000</th>\n",
       "      <th id=\"T_15285_level3_row30\" class=\"row_heading level3 row30\" >0.000100</th>\n",
       "      <th id=\"T_15285_level4_row30\" class=\"row_heading level4 row30\" >-0.060000</th>\n",
       "      <td id=\"T_15285_row30_col0\" class=\"data row30 col0\" >117</td>\n",
       "      <td id=\"T_15285_row30_col1\" class=\"data row30 col1\" >22.04%</td>\n",
       "      <td id=\"T_15285_row30_col2\" class=\"data row30 col2\" >-31.00%</td>\n",
       "      <td id=\"T_15285_row30_col3\" class=\"data row30 col3\" >0.750000</td>\n",
       "      <td id=\"T_15285_row30_col4\" class=\"data row30 col4\" >1.120000</td>\n",
       "      <td id=\"T_15285_row30_col5\" class=\"data row30 col5\" >0.93%</td>\n",
       "      <td id=\"T_15285_row30_col6\" class=\"data row30 col6\" >1.20%</td>\n",
       "    </tr>\n",
       "    <tr>\n",
       "      <th id=\"T_15285_level3_row31\" class=\"row_heading level3 row31\" >0.025000</th>\n",
       "      <th id=\"T_15285_level4_row31\" class=\"row_heading level4 row31\" >-0.060000</th>\n",
       "      <td id=\"T_15285_row31_col0\" class=\"data row31 col0\" >97</td>\n",
       "      <td id=\"T_15285_row31_col1\" class=\"data row31 col1\" >-0.07%</td>\n",
       "      <td id=\"T_15285_row31_col2\" class=\"data row31 col2\" >-41.00%</td>\n",
       "      <td id=\"T_15285_row31_col3\" class=\"data row31 col3\" >0.160000</td>\n",
       "      <td id=\"T_15285_row31_col4\" class=\"data row31 col4\" >0.230000</td>\n",
       "      <td id=\"T_15285_row31_col5\" class=\"data row31 col5\" >0.65%</td>\n",
       "      <td id=\"T_15285_row31_col6\" class=\"data row31 col6\" >1.20%</td>\n",
       "    </tr>\n",
       "    <tr>\n",
       "      <th id=\"T_15285_level2_row32\" class=\"row_heading level2 row32\" rowspan=\"2\">1.070000</th>\n",
       "      <th id=\"T_15285_level3_row32\" class=\"row_heading level3 row32\" >0.000100</th>\n",
       "      <th id=\"T_15285_level4_row32\" class=\"row_heading level4 row32\" >-0.060000</th>\n",
       "      <td id=\"T_15285_row32_col0\" class=\"data row32 col0\" >116</td>\n",
       "      <td id=\"T_15285_row32_col1\" class=\"data row32 col1\" >25.76%</td>\n",
       "      <td id=\"T_15285_row32_col2\" class=\"data row32 col2\" >-34.00%</td>\n",
       "      <td id=\"T_15285_row32_col3\" class=\"data row32 col3\" >0.820000</td>\n",
       "      <td id=\"T_15285_row32_col4\" class=\"data row32 col4\" >1.240000</td>\n",
       "      <td id=\"T_15285_row32_col5\" class=\"data row32 col5\" >1.17%</td>\n",
       "      <td id=\"T_15285_row32_col6\" class=\"data row32 col6\" >0.42%</td>\n",
       "    </tr>\n",
       "    <tr>\n",
       "      <th id=\"T_15285_level3_row33\" class=\"row_heading level3 row33\" >0.025000</th>\n",
       "      <th id=\"T_15285_level4_row33\" class=\"row_heading level4 row33\" >-0.060000</th>\n",
       "      <td id=\"T_15285_row33_col0\" class=\"data row33 col0\" >97</td>\n",
       "      <td id=\"T_15285_row33_col1\" class=\"data row33 col1\" >6.27%</td>\n",
       "      <td id=\"T_15285_row33_col2\" class=\"data row33 col2\" >-39.00%</td>\n",
       "      <td id=\"T_15285_row33_col3\" class=\"data row33 col3\" >0.350000</td>\n",
       "      <td id=\"T_15285_row33_col4\" class=\"data row33 col4\" >0.510000</td>\n",
       "      <td id=\"T_15285_row33_col5\" class=\"data row33 col5\" >0.96%</td>\n",
       "      <td id=\"T_15285_row33_col6\" class=\"data row33 col6\" >0.52%</td>\n",
       "    </tr>\n",
       "    <tr>\n",
       "      <th id=\"T_15285_level2_row34\" class=\"row_heading level2 row34\" rowspan=\"2\">1.080000</th>\n",
       "      <th id=\"T_15285_level3_row34\" class=\"row_heading level3 row34\" >0.000100</th>\n",
       "      <th id=\"T_15285_level4_row34\" class=\"row_heading level4 row34\" >-0.060000</th>\n",
       "      <td id=\"T_15285_row34_col0\" class=\"data row34 col0\" >116</td>\n",
       "      <td id=\"T_15285_row34_col1\" class=\"data row34 col1\" >27.06%</td>\n",
       "      <td id=\"T_15285_row34_col2\" class=\"data row34 col2\" >-32.00%</td>\n",
       "      <td id=\"T_15285_row34_col3\" class=\"data row34 col3\" >0.830000</td>\n",
       "      <td id=\"T_15285_row34_col4\" class=\"data row34 col4\" >1.270000</td>\n",
       "      <td id=\"T_15285_row34_col5\" class=\"data row34 col5\" >1.35%</td>\n",
       "      <td id=\"T_15285_row34_col6\" class=\"data row34 col6\" >-0.01%</td>\n",
       "    </tr>\n",
       "    <tr>\n",
       "      <th id=\"T_15285_level3_row35\" class=\"row_heading level3 row35\" >0.025000</th>\n",
       "      <th id=\"T_15285_level4_row35\" class=\"row_heading level4 row35\" >-0.060000</th>\n",
       "      <td id=\"T_15285_row35_col0\" class=\"data row35 col0\" >96</td>\n",
       "      <td id=\"T_15285_row35_col1\" class=\"data row35 col1\" >4.80%</td>\n",
       "      <td id=\"T_15285_row35_col2\" class=\"data row35 col2\" >-37.00%</td>\n",
       "      <td id=\"T_15285_row35_col3\" class=\"data row35 col3\" >0.310000</td>\n",
       "      <td id=\"T_15285_row35_col4\" class=\"data row35 col4\" >0.450000</td>\n",
       "      <td id=\"T_15285_row35_col5\" class=\"data row35 col5\" >1.10%</td>\n",
       "      <td id=\"T_15285_row35_col6\" class=\"data row35 col6\" >0.42%</td>\n",
       "    </tr>\n",
       "    <tr>\n",
       "      <th id=\"T_15285_level2_row36\" class=\"row_heading level2 row36\" rowspan=\"2\">1.090000</th>\n",
       "      <th id=\"T_15285_level3_row36\" class=\"row_heading level3 row36\" >0.000100</th>\n",
       "      <th id=\"T_15285_level4_row36\" class=\"row_heading level4 row36\" >-0.060000</th>\n",
       "      <td id=\"T_15285_row36_col0\" class=\"data row36 col0\" >114</td>\n",
       "      <td id=\"T_15285_row36_col1\" class=\"data row36 col1\" >24.96%</td>\n",
       "      <td id=\"T_15285_row36_col2\" class=\"data row36 col2\" >-31.00%</td>\n",
       "      <td id=\"T_15285_row36_col3\" class=\"data row36 col3\" >0.780000</td>\n",
       "      <td id=\"T_15285_row36_col4\" class=\"data row36 col4\" >1.170000</td>\n",
       "      <td id=\"T_15285_row36_col5\" class=\"data row36 col5\" >1.33%</td>\n",
       "      <td id=\"T_15285_row36_col6\" class=\"data row36 col6\" >-0.67%</td>\n",
       "    </tr>\n",
       "    <tr>\n",
       "      <th id=\"T_15285_level3_row37\" class=\"row_heading level3 row37\" >0.025000</th>\n",
       "      <th id=\"T_15285_level4_row37\" class=\"row_heading level4 row37\" >-0.060000</th>\n",
       "      <td id=\"T_15285_row37_col0\" class=\"data row37 col0\" >94</td>\n",
       "      <td id=\"T_15285_row37_col1\" class=\"data row37 col1\" >0.81%</td>\n",
       "      <td id=\"T_15285_row37_col2\" class=\"data row37 col2\" >-37.00%</td>\n",
       "      <td id=\"T_15285_row37_col3\" class=\"data row37 col3\" >0.200000</td>\n",
       "      <td id=\"T_15285_row37_col4\" class=\"data row37 col4\" >0.290000</td>\n",
       "      <td id=\"T_15285_row37_col5\" class=\"data row37 col5\" >0.96%</td>\n",
       "      <td id=\"T_15285_row37_col6\" class=\"data row37 col6\" >-0.54%</td>\n",
       "    </tr>\n",
       "    <tr>\n",
       "      <th id=\"T_15285_level2_row38\" class=\"row_heading level2 row38\" rowspan=\"2\">1.100000</th>\n",
       "      <th id=\"T_15285_level3_row38\" class=\"row_heading level3 row38\" >0.000100</th>\n",
       "      <th id=\"T_15285_level4_row38\" class=\"row_heading level4 row38\" >-0.060000</th>\n",
       "      <td id=\"T_15285_row38_col0\" class=\"data row38 col0\" >110</td>\n",
       "      <td id=\"T_15285_row38_col1\" class=\"data row38 col1\" >28.61%</td>\n",
       "      <td id=\"T_15285_row38_col2\" class=\"data row38 col2\" >-31.00%</td>\n",
       "      <td id=\"T_15285_row38_col3\" class=\"data row38 col3\" >0.850000</td>\n",
       "      <td id=\"T_15285_row38_col4\" class=\"data row38 col4\" >1.300000</td>\n",
       "      <td id=\"T_15285_row38_col5\" class=\"data row38 col5\" >1.41%</td>\n",
       "      <td id=\"T_15285_row38_col6\" class=\"data row38 col6\" >-0.67%</td>\n",
       "    </tr>\n",
       "    <tr>\n",
       "      <th id=\"T_15285_level3_row39\" class=\"row_heading level3 row39\" >0.025000</th>\n",
       "      <th id=\"T_15285_level4_row39\" class=\"row_heading level4 row39\" >-0.060000</th>\n",
       "      <td id=\"T_15285_row39_col0\" class=\"data row39 col0\" >92</td>\n",
       "      <td id=\"T_15285_row39_col1\" class=\"data row39 col1\" >3.09%</td>\n",
       "      <td id=\"T_15285_row39_col2\" class=\"data row39 col2\" >-36.00%</td>\n",
       "      <td id=\"T_15285_row39_col3\" class=\"data row39 col3\" >0.260000</td>\n",
       "      <td id=\"T_15285_row39_col4\" class=\"data row39 col4\" >0.390000</td>\n",
       "      <td id=\"T_15285_row39_col5\" class=\"data row39 col5\" >1.04%</td>\n",
       "      <td id=\"T_15285_row39_col6\" class=\"data row39 col6\" >-0.01%</td>\n",
       "    </tr>\n",
       "    <tr>\n",
       "      <th id=\"T_15285_level1_row40\" class=\"row_heading level1 row40\" rowspan=\"10\">7</th>\n",
       "      <th id=\"T_15285_level2_row40\" class=\"row_heading level2 row40\" rowspan=\"2\">1.060000</th>\n",
       "      <th id=\"T_15285_level3_row40\" class=\"row_heading level3 row40\" >0.000100</th>\n",
       "      <th id=\"T_15285_level4_row40\" class=\"row_heading level4 row40\" >-0.060000</th>\n",
       "      <td id=\"T_15285_row40_col0\" class=\"data row40 col0\" >121</td>\n",
       "      <td id=\"T_15285_row40_col1\" class=\"data row40 col1\" >59.42%</td>\n",
       "      <td id=\"T_15285_row40_col2\" class=\"data row40 col2\" >-16.00%</td>\n",
       "      <td id=\"T_15285_row40_col3\" class=\"data row40 col3\" >1.650000</td>\n",
       "      <td id=\"T_15285_row40_col4\" class=\"data row40 col4\" >2.630000</td>\n",
       "      <td id=\"T_15285_row40_col5\" class=\"data row40 col5\" >1.66%</td>\n",
       "      <td id=\"T_15285_row40_col6\" class=\"data row40 col6\" >6.02%</td>\n",
       "    </tr>\n",
       "    <tr>\n",
       "      <th id=\"T_15285_level3_row41\" class=\"row_heading level3 row41\" >0.025000</th>\n",
       "      <th id=\"T_15285_level4_row41\" class=\"row_heading level4 row41\" >-0.060000</th>\n",
       "      <td id=\"T_15285_row41_col0\" class=\"data row41 col0\" >103</td>\n",
       "      <td id=\"T_15285_row41_col1\" class=\"data row41 col1\" >52.39%</td>\n",
       "      <td id=\"T_15285_row41_col2\" class=\"data row41 col2\" >-23.00%</td>\n",
       "      <td id=\"T_15285_row41_col3\" class=\"data row41 col3\" >1.460000</td>\n",
       "      <td id=\"T_15285_row41_col4\" class=\"data row41 col4\" >2.320000</td>\n",
       "      <td id=\"T_15285_row41_col5\" class=\"data row41 col5\" >1.51%</td>\n",
       "      <td id=\"T_15285_row41_col6\" class=\"data row41 col6\" >5.95%</td>\n",
       "    </tr>\n",
       "    <tr>\n",
       "      <th id=\"T_15285_level2_row42\" class=\"row_heading level2 row42\" rowspan=\"2\">1.070000</th>\n",
       "      <th id=\"T_15285_level3_row42\" class=\"row_heading level3 row42\" >0.000100</th>\n",
       "      <th id=\"T_15285_level4_row42\" class=\"row_heading level4 row42\" >-0.060000</th>\n",
       "      <td id=\"T_15285_row42_col0\" class=\"data row42 col0\" >120</td>\n",
       "      <td id=\"T_15285_row42_col1\" class=\"data row42 col1\" >80.31%</td>\n",
       "      <td id=\"T_15285_row42_col2\" class=\"data row42 col2\" >-15.00%</td>\n",
       "      <td id=\"T_15285_row42_col3\" class=\"data row42 col3\" >1.970000</td>\n",
       "      <td id=\"T_15285_row42_col4\" class=\"data row42 col4\" >3.230000</td>\n",
       "      <td id=\"T_15285_row42_col5\" class=\"data row42 col5\" >2.13%</td>\n",
       "      <td id=\"T_15285_row42_col6\" class=\"data row42 col6\" >6.97%</td>\n",
       "    </tr>\n",
       "    <tr>\n",
       "      <th id=\"T_15285_level3_row43\" class=\"row_heading level3 row43\" >0.025000</th>\n",
       "      <th id=\"T_15285_level4_row43\" class=\"row_heading level4 row43\" >-0.060000</th>\n",
       "      <td id=\"T_15285_row43_col0\" class=\"data row43 col0\" >102</td>\n",
       "      <td id=\"T_15285_row43_col1\" class=\"data row43 col1\" >70.94%</td>\n",
       "      <td id=\"T_15285_row43_col2\" class=\"data row43 col2\" >-22.00%</td>\n",
       "      <td id=\"T_15285_row43_col3\" class=\"data row43 col3\" >1.750000</td>\n",
       "      <td id=\"T_15285_row43_col4\" class=\"data row43 col4\" >2.840000</td>\n",
       "      <td id=\"T_15285_row43_col5\" class=\"data row43 col5\" >1.96%</td>\n",
       "      <td id=\"T_15285_row43_col6\" class=\"data row43 col6\" >6.23%</td>\n",
       "    </tr>\n",
       "    <tr>\n",
       "      <th id=\"T_15285_level2_row44\" class=\"row_heading level2 row44\" rowspan=\"2\">1.080000</th>\n",
       "      <th id=\"T_15285_level3_row44\" class=\"row_heading level3 row44\" >0.000100</th>\n",
       "      <th id=\"T_15285_level4_row44\" class=\"row_heading level4 row44\" >-0.060000</th>\n",
       "      <td id=\"T_15285_row44_col0\" class=\"data row44 col0\" >114</td>\n",
       "      <td id=\"T_15285_row44_col1\" class=\"data row44 col1\" >81.90%</td>\n",
       "      <td id=\"T_15285_row44_col2\" class=\"data row44 col2\" >-16.00%</td>\n",
       "      <td id=\"T_15285_row44_col3\" class=\"data row44 col3\" >1.920000</td>\n",
       "      <td id=\"T_15285_row44_col4\" class=\"data row44 col4\" >3.110000</td>\n",
       "      <td id=\"T_15285_row44_col5\" class=\"data row44 col5\" >2.20%</td>\n",
       "      <td id=\"T_15285_row44_col6\" class=\"data row44 col6\" >5.39%</td>\n",
       "    </tr>\n",
       "    <tr>\n",
       "      <th id=\"T_15285_level3_row45\" class=\"row_heading level3 row45\" >0.025000</th>\n",
       "      <th id=\"T_15285_level4_row45\" class=\"row_heading level4 row45\" >-0.060000</th>\n",
       "      <td id=\"T_15285_row45_col0\" class=\"data row45 col0\" >98</td>\n",
       "      <td id=\"T_15285_row45_col1\" class=\"data row45 col1\" >85.10%</td>\n",
       "      <td id=\"T_15285_row45_col2\" class=\"data row45 col2\" >-23.00%</td>\n",
       "      <td id=\"T_15285_row45_col3\" class=\"data row45 col3\" >1.940000</td>\n",
       "      <td id=\"T_15285_row45_col4\" class=\"data row45 col4\" >3.210000</td>\n",
       "      <td id=\"T_15285_row45_col5\" class=\"data row45 col5\" >2.25%</td>\n",
       "      <td id=\"T_15285_row45_col6\" class=\"data row45 col6\" >3.42%</td>\n",
       "    </tr>\n",
       "    <tr>\n",
       "      <th id=\"T_15285_level2_row46\" class=\"row_heading level2 row46\" rowspan=\"2\">1.090000</th>\n",
       "      <th id=\"T_15285_level3_row46\" class=\"row_heading level3 row46\" >0.000100</th>\n",
       "      <th id=\"T_15285_level4_row46\" class=\"row_heading level4 row46\" >-0.060000</th>\n",
       "      <td id=\"T_15285_row46_col0\" class=\"data row46 col0\" >113</td>\n",
       "      <td id=\"T_15285_row46_col1\" class=\"data row46 col1\" >79.80%</td>\n",
       "      <td id=\"T_15285_row46_col2\" class=\"data row46 col2\" >-16.00%</td>\n",
       "      <td id=\"T_15285_row46_col3\" class=\"data row46 col3\" >1.830000</td>\n",
       "      <td id=\"T_15285_row46_col4\" class=\"data row46 col4\" >2.930000</td>\n",
       "      <td id=\"T_15285_row46_col5\" class=\"data row46 col5\" >2.16%</td>\n",
       "      <td id=\"T_15285_row46_col6\" class=\"data row46 col6\" >2.37%</td>\n",
       "    </tr>\n",
       "    <tr>\n",
       "      <th id=\"T_15285_level3_row47\" class=\"row_heading level3 row47\" >0.025000</th>\n",
       "      <th id=\"T_15285_level4_row47\" class=\"row_heading level4 row47\" >-0.060000</th>\n",
       "      <td id=\"T_15285_row47_col0\" class=\"data row47 col0\" >97</td>\n",
       "      <td id=\"T_15285_row47_col1\" class=\"data row47 col1\" >78.37%</td>\n",
       "      <td id=\"T_15285_row47_col2\" class=\"data row47 col2\" >-22.00%</td>\n",
       "      <td id=\"T_15285_row47_col3\" class=\"data row47 col3\" >1.790000</td>\n",
       "      <td id=\"T_15285_row47_col4\" class=\"data row47 col4\" >2.910000</td>\n",
       "      <td id=\"T_15285_row47_col5\" class=\"data row47 col5\" >2.06%</td>\n",
       "      <td id=\"T_15285_row47_col6\" class=\"data row47 col6\" >1.80%</td>\n",
       "    </tr>\n",
       "    <tr>\n",
       "      <th id=\"T_15285_level2_row48\" class=\"row_heading level2 row48\" rowspan=\"2\">1.100000</th>\n",
       "      <th id=\"T_15285_level3_row48\" class=\"row_heading level3 row48\" >0.000100</th>\n",
       "      <th id=\"T_15285_level4_row48\" class=\"row_heading level4 row48\" >-0.060000</th>\n",
       "      <td id=\"T_15285_row48_col0\" class=\"data row48 col0\" >108</td>\n",
       "      <td id=\"T_15285_row48_col1\" class=\"data row48 col1\" >80.76%</td>\n",
       "      <td id=\"T_15285_row48_col2\" class=\"data row48 col2\" >-16.00%</td>\n",
       "      <td id=\"T_15285_row48_col3\" class=\"data row48 col3\" >1.810000</td>\n",
       "      <td id=\"T_15285_row48_col4\" class=\"data row48 col4\" >2.900000</td>\n",
       "      <td id=\"T_15285_row48_col5\" class=\"data row48 col5\" >2.33%</td>\n",
       "      <td id=\"T_15285_row48_col6\" class=\"data row48 col6\" >1.64%</td>\n",
       "    </tr>\n",
       "    <tr>\n",
       "      <th id=\"T_15285_level3_row49\" class=\"row_heading level3 row49\" >0.025000</th>\n",
       "      <th id=\"T_15285_level4_row49\" class=\"row_heading level4 row49\" >-0.060000</th>\n",
       "      <td id=\"T_15285_row49_col0\" class=\"data row49 col0\" >93</td>\n",
       "      <td id=\"T_15285_row49_col1\" class=\"data row49 col1\" >80.77%</td>\n",
       "      <td id=\"T_15285_row49_col2\" class=\"data row49 col2\" >-21.00%</td>\n",
       "      <td id=\"T_15285_row49_col3\" class=\"data row49 col3\" >1.790000</td>\n",
       "      <td id=\"T_15285_row49_col4\" class=\"data row49 col4\" >2.930000</td>\n",
       "      <td id=\"T_15285_row49_col5\" class=\"data row49 col5\" >2.15%</td>\n",
       "      <td id=\"T_15285_row49_col6\" class=\"data row49 col6\" >1.19%</td>\n",
       "    </tr>\n",
       "    <tr>\n",
       "      <th id=\"T_15285_level1_row50\" class=\"row_heading level1 row50\" rowspan=\"10\">8</th>\n",
       "      <th id=\"T_15285_level2_row50\" class=\"row_heading level2 row50\" rowspan=\"2\">1.060000</th>\n",
       "      <th id=\"T_15285_level3_row50\" class=\"row_heading level3 row50\" >0.000100</th>\n",
       "      <th id=\"T_15285_level4_row50\" class=\"row_heading level4 row50\" >-0.060000</th>\n",
       "      <td id=\"T_15285_row50_col0\" class=\"data row50 col0\" >123</td>\n",
       "      <td id=\"T_15285_row50_col1\" class=\"data row50 col1\" >29.53%</td>\n",
       "      <td id=\"T_15285_row50_col2\" class=\"data row50 col2\" >-43.00%</td>\n",
       "      <td id=\"T_15285_row50_col3\" class=\"data row50 col3\" >0.960000</td>\n",
       "      <td id=\"T_15285_row50_col4\" class=\"data row50 col4\" >1.530000</td>\n",
       "      <td id=\"T_15285_row50_col5\" class=\"data row50 col5\" >1.03%</td>\n",
       "      <td id=\"T_15285_row50_col6\" class=\"data row50 col6\" >2.38%</td>\n",
       "    </tr>\n",
       "    <tr>\n",
       "      <th id=\"T_15285_level3_row51\" class=\"row_heading level3 row51\" >0.025000</th>\n",
       "      <th id=\"T_15285_level4_row51\" class=\"row_heading level4 row51\" >-0.060000</th>\n",
       "      <td id=\"T_15285_row51_col0\" class=\"data row51 col0\" >103</td>\n",
       "      <td id=\"T_15285_row51_col1\" class=\"data row51 col1\" >32.40%</td>\n",
       "      <td id=\"T_15285_row51_col2\" class=\"data row51 col2\" >-39.00%</td>\n",
       "      <td id=\"T_15285_row51_col3\" class=\"data row51 col3\" >1.040000</td>\n",
       "      <td id=\"T_15285_row51_col4\" class=\"data row51 col4\" >1.620000</td>\n",
       "      <td id=\"T_15285_row51_col5\" class=\"data row51 col5\" >1.39%</td>\n",
       "      <td id=\"T_15285_row51_col6\" class=\"data row51 col6\" >2.38%</td>\n",
       "    </tr>\n",
       "    <tr>\n",
       "      <th id=\"T_15285_level2_row52\" class=\"row_heading level2 row52\" rowspan=\"2\">1.070000</th>\n",
       "      <th id=\"T_15285_level3_row52\" class=\"row_heading level3 row52\" >0.000100</th>\n",
       "      <th id=\"T_15285_level4_row52\" class=\"row_heading level4 row52\" >-0.060000</th>\n",
       "      <td id=\"T_15285_row52_col0\" class=\"data row52 col0\" >120</td>\n",
       "      <td id=\"T_15285_row52_col1\" class=\"data row52 col1\" >28.54%</td>\n",
       "      <td id=\"T_15285_row52_col2\" class=\"data row52 col2\" >-45.00%</td>\n",
       "      <td id=\"T_15285_row52_col3\" class=\"data row52 col3\" >0.910000</td>\n",
       "      <td id=\"T_15285_row52_col4\" class=\"data row52 col4\" >1.420000</td>\n",
       "      <td id=\"T_15285_row52_col5\" class=\"data row52 col5\" >1.08%</td>\n",
       "      <td id=\"T_15285_row52_col6\" class=\"data row52 col6\" >1.69%</td>\n",
       "    </tr>\n",
       "    <tr>\n",
       "      <th id=\"T_15285_level3_row53\" class=\"row_heading level3 row53\" >0.025000</th>\n",
       "      <th id=\"T_15285_level4_row53\" class=\"row_heading level4 row53\" >-0.060000</th>\n",
       "      <td id=\"T_15285_row53_col0\" class=\"data row53 col0\" >100</td>\n",
       "      <td id=\"T_15285_row53_col1\" class=\"data row53 col1\" >31.87%</td>\n",
       "      <td id=\"T_15285_row53_col2\" class=\"data row53 col2\" >-38.00%</td>\n",
       "      <td id=\"T_15285_row53_col3\" class=\"data row53 col3\" >1.000000</td>\n",
       "      <td id=\"T_15285_row53_col4\" class=\"data row53 col4\" >1.530000</td>\n",
       "      <td id=\"T_15285_row53_col5\" class=\"data row53 col5\" >1.53%</td>\n",
       "      <td id=\"T_15285_row53_col6\" class=\"data row53 col6\" >2.10%</td>\n",
       "    </tr>\n",
       "    <tr>\n",
       "      <th id=\"T_15285_level2_row54\" class=\"row_heading level2 row54\" rowspan=\"2\">1.080000</th>\n",
       "      <th id=\"T_15285_level3_row54\" class=\"row_heading level3 row54\" >0.000100</th>\n",
       "      <th id=\"T_15285_level4_row54\" class=\"row_heading level4 row54\" >-0.060000</th>\n",
       "      <td id=\"T_15285_row54_col0\" class=\"data row54 col0\" >117</td>\n",
       "      <td id=\"T_15285_row54_col1\" class=\"data row54 col1\" >31.64%</td>\n",
       "      <td id=\"T_15285_row54_col2\" class=\"data row54 col2\" >-41.00%</td>\n",
       "      <td id=\"T_15285_row54_col3\" class=\"data row54 col3\" >0.960000</td>\n",
       "      <td id=\"T_15285_row54_col4\" class=\"data row54 col4\" >1.530000</td>\n",
       "      <td id=\"T_15285_row54_col5\" class=\"data row54 col5\" >1.08%</td>\n",
       "      <td id=\"T_15285_row54_col6\" class=\"data row54 col6\" >0.31%</td>\n",
       "    </tr>\n",
       "    <tr>\n",
       "      <th id=\"T_15285_level3_row55\" class=\"row_heading level3 row55\" >0.025000</th>\n",
       "      <th id=\"T_15285_level4_row55\" class=\"row_heading level4 row55\" >-0.060000</th>\n",
       "      <td id=\"T_15285_row55_col0\" class=\"data row55 col0\" >97</td>\n",
       "      <td id=\"T_15285_row55_col1\" class=\"data row55 col1\" >37.87%</td>\n",
       "      <td id=\"T_15285_row55_col2\" class=\"data row55 col2\" >-37.00%</td>\n",
       "      <td id=\"T_15285_row55_col3\" class=\"data row55 col3\" >1.100000</td>\n",
       "      <td id=\"T_15285_row55_col4\" class=\"data row55 col4\" >1.730000</td>\n",
       "      <td id=\"T_15285_row55_col5\" class=\"data row55 col5\" >1.49%</td>\n",
       "      <td id=\"T_15285_row55_col6\" class=\"data row55 col6\" >1.06%</td>\n",
       "    </tr>\n",
       "    <tr>\n",
       "      <th id=\"T_15285_level2_row56\" class=\"row_heading level2 row56\" rowspan=\"2\">1.090000</th>\n",
       "      <th id=\"T_15285_level3_row56\" class=\"row_heading level3 row56\" >0.000100</th>\n",
       "      <th id=\"T_15285_level4_row56\" class=\"row_heading level4 row56\" >-0.060000</th>\n",
       "      <td id=\"T_15285_row56_col0\" class=\"data row56 col0\" >115</td>\n",
       "      <td id=\"T_15285_row56_col1\" class=\"data row56 col1\" >35.79%</td>\n",
       "      <td id=\"T_15285_row56_col2\" class=\"data row56 col2\" >-41.00%</td>\n",
       "      <td id=\"T_15285_row56_col3\" class=\"data row56 col3\" >1.040000</td>\n",
       "      <td id=\"T_15285_row56_col4\" class=\"data row56 col4\" >1.660000</td>\n",
       "      <td id=\"T_15285_row56_col5\" class=\"data row56 col5\" >1.12%</td>\n",
       "      <td id=\"T_15285_row56_col6\" class=\"data row56 col6\" >0.10%</td>\n",
       "    </tr>\n",
       "    <tr>\n",
       "      <th id=\"T_15285_level3_row57\" class=\"row_heading level3 row57\" >0.025000</th>\n",
       "      <th id=\"T_15285_level4_row57\" class=\"row_heading level4 row57\" >-0.060000</th>\n",
       "      <td id=\"T_15285_row57_col0\" class=\"data row57 col0\" >97</td>\n",
       "      <td id=\"T_15285_row57_col1\" class=\"data row57 col1\" >38.98%</td>\n",
       "      <td id=\"T_15285_row57_col2\" class=\"data row57 col2\" >-37.00%</td>\n",
       "      <td id=\"T_15285_row57_col3\" class=\"data row57 col3\" >1.090000</td>\n",
       "      <td id=\"T_15285_row57_col4\" class=\"data row57 col4\" >1.700000</td>\n",
       "      <td id=\"T_15285_row57_col5\" class=\"data row57 col5\" >1.45%</td>\n",
       "      <td id=\"T_15285_row57_col6\" class=\"data row57 col6\" >0.46%</td>\n",
       "    </tr>\n",
       "    <tr>\n",
       "      <th id=\"T_15285_level2_row58\" class=\"row_heading level2 row58\" rowspan=\"2\">1.100000</th>\n",
       "      <th id=\"T_15285_level3_row58\" class=\"row_heading level3 row58\" >0.000100</th>\n",
       "      <th id=\"T_15285_level4_row58\" class=\"row_heading level4 row58\" >-0.060000</th>\n",
       "      <td id=\"T_15285_row58_col0\" class=\"data row58 col0\" >109</td>\n",
       "      <td id=\"T_15285_row58_col1\" class=\"data row58 col1\" >40.30%</td>\n",
       "      <td id=\"T_15285_row58_col2\" class=\"data row58 col2\" >-39.00%</td>\n",
       "      <td id=\"T_15285_row58_col3\" class=\"data row58 col3\" >1.120000</td>\n",
       "      <td id=\"T_15285_row58_col4\" class=\"data row58 col4\" >1.800000</td>\n",
       "      <td id=\"T_15285_row58_col5\" class=\"data row58 col5\" >1.19%</td>\n",
       "      <td id=\"T_15285_row58_col6\" class=\"data row58 col6\" >-0.05%</td>\n",
       "    </tr>\n",
       "    <tr>\n",
       "      <th id=\"T_15285_level3_row59\" class=\"row_heading level3 row59\" >0.025000</th>\n",
       "      <th id=\"T_15285_level4_row59\" class=\"row_heading level4 row59\" >-0.060000</th>\n",
       "      <td id=\"T_15285_row59_col0\" class=\"data row59 col0\" >92</td>\n",
       "      <td id=\"T_15285_row59_col1\" class=\"data row59 col1\" >43.46%</td>\n",
       "      <td id=\"T_15285_row59_col2\" class=\"data row59 col2\" >-36.00%</td>\n",
       "      <td id=\"T_15285_row59_col3\" class=\"data row59 col3\" >1.160000</td>\n",
       "      <td id=\"T_15285_row59_col4\" class=\"data row59 col4\" >1.830000</td>\n",
       "      <td id=\"T_15285_row59_col5\" class=\"data row59 col5\" >1.57%</td>\n",
       "      <td id=\"T_15285_row59_col6\" class=\"data row59 col6\" >0.38%</td>\n",
       "    </tr>\n",
       "    <tr>\n",
       "      <th id=\"T_15285_level0_row60\" class=\"row_heading level0 row60\" rowspan=\"30\">8</th>\n",
       "      <th id=\"T_15285_level1_row60\" class=\"row_heading level1 row60\" rowspan=\"10\">6</th>\n",
       "      <th id=\"T_15285_level2_row60\" class=\"row_heading level2 row60\" rowspan=\"2\">1.060000</th>\n",
       "      <th id=\"T_15285_level3_row60\" class=\"row_heading level3 row60\" >0.000100</th>\n",
       "      <th id=\"T_15285_level4_row60\" class=\"row_heading level4 row60\" >-0.060000</th>\n",
       "      <td id=\"T_15285_row60_col0\" class=\"data row60 col0\" >94</td>\n",
       "      <td id=\"T_15285_row60_col1\" class=\"data row60 col1\" >-2.10%</td>\n",
       "      <td id=\"T_15285_row60_col2\" class=\"data row60 col2\" >-48.00%</td>\n",
       "      <td id=\"T_15285_row60_col3\" class=\"data row60 col3\" >0.150000</td>\n",
       "      <td id=\"T_15285_row60_col4\" class=\"data row60 col4\" >0.220000</td>\n",
       "      <td id=\"T_15285_row60_col5\" class=\"data row60 col5\" >-0.31%</td>\n",
       "      <td id=\"T_15285_row60_col6\" class=\"data row60 col6\" >1.18%</td>\n",
       "    </tr>\n",
       "    <tr>\n",
       "      <th id=\"T_15285_level3_row61\" class=\"row_heading level3 row61\" >0.025000</th>\n",
       "      <th id=\"T_15285_level4_row61\" class=\"row_heading level4 row61\" >-0.060000</th>\n",
       "      <td id=\"T_15285_row61_col0\" class=\"data row61 col0\" >85</td>\n",
       "      <td id=\"T_15285_row61_col1\" class=\"data row61 col1\" >-12.24%</td>\n",
       "      <td id=\"T_15285_row61_col2\" class=\"data row61 col2\" >-52.00%</td>\n",
       "      <td id=\"T_15285_row61_col3\" class=\"data row61 col3\" >-0.110000</td>\n",
       "      <td id=\"T_15285_row61_col4\" class=\"data row61 col4\" >-0.160000</td>\n",
       "      <td id=\"T_15285_row61_col5\" class=\"data row61 col5\" >-0.94%</td>\n",
       "      <td id=\"T_15285_row61_col6\" class=\"data row61 col6\" >-0.48%</td>\n",
       "    </tr>\n",
       "    <tr>\n",
       "      <th id=\"T_15285_level2_row62\" class=\"row_heading level2 row62\" rowspan=\"2\">1.070000</th>\n",
       "      <th id=\"T_15285_level3_row62\" class=\"row_heading level3 row62\" >0.000100</th>\n",
       "      <th id=\"T_15285_level4_row62\" class=\"row_heading level4 row62\" >-0.060000</th>\n",
       "      <td id=\"T_15285_row62_col0\" class=\"data row62 col0\" >94</td>\n",
       "      <td id=\"T_15285_row62_col1\" class=\"data row62 col1\" >1.34%</td>\n",
       "      <td id=\"T_15285_row62_col2\" class=\"data row62 col2\" >-46.00%</td>\n",
       "      <td id=\"T_15285_row62_col3\" class=\"data row62 col3\" >0.240000</td>\n",
       "      <td id=\"T_15285_row62_col4\" class=\"data row62 col4\" >0.340000</td>\n",
       "      <td id=\"T_15285_row62_col5\" class=\"data row62 col5\" >0.05%</td>\n",
       "      <td id=\"T_15285_row62_col6\" class=\"data row62 col6\" >0.60%</td>\n",
       "    </tr>\n",
       "    <tr>\n",
       "      <th id=\"T_15285_level3_row63\" class=\"row_heading level3 row63\" >0.025000</th>\n",
       "      <th id=\"T_15285_level4_row63\" class=\"row_heading level4 row63\" >-0.060000</th>\n",
       "      <td id=\"T_15285_row63_col0\" class=\"data row63 col0\" >85</td>\n",
       "      <td id=\"T_15285_row63_col1\" class=\"data row63 col1\" >-4.04%</td>\n",
       "      <td id=\"T_15285_row63_col2\" class=\"data row63 col2\" >-50.00%</td>\n",
       "      <td id=\"T_15285_row63_col3\" class=\"data row63 col3\" >0.110000</td>\n",
       "      <td id=\"T_15285_row63_col4\" class=\"data row63 col4\" >0.150000</td>\n",
       "      <td id=\"T_15285_row63_col5\" class=\"data row63 col5\" >-0.45%</td>\n",
       "      <td id=\"T_15285_row63_col6\" class=\"data row63 col6\" >-0.48%</td>\n",
       "    </tr>\n",
       "    <tr>\n",
       "      <th id=\"T_15285_level2_row64\" class=\"row_heading level2 row64\" rowspan=\"2\">1.080000</th>\n",
       "      <th id=\"T_15285_level3_row64\" class=\"row_heading level3 row64\" >0.000100</th>\n",
       "      <th id=\"T_15285_level4_row64\" class=\"row_heading level4 row64\" >-0.060000</th>\n",
       "      <td id=\"T_15285_row64_col0\" class=\"data row64 col0\" >90</td>\n",
       "      <td id=\"T_15285_row64_col1\" class=\"data row64 col1\" >-2.84%</td>\n",
       "      <td id=\"T_15285_row64_col2\" class=\"data row64 col2\" >-53.00%</td>\n",
       "      <td id=\"T_15285_row64_col3\" class=\"data row64 col3\" >0.150000</td>\n",
       "      <td id=\"T_15285_row64_col4\" class=\"data row64 col4\" >0.210000</td>\n",
       "      <td id=\"T_15285_row64_col5\" class=\"data row64 col5\" >-0.02%</td>\n",
       "      <td id=\"T_15285_row64_col6\" class=\"data row64 col6\" >0.02%</td>\n",
       "    </tr>\n",
       "    <tr>\n",
       "      <th id=\"T_15285_level3_row65\" class=\"row_heading level3 row65\" >0.025000</th>\n",
       "      <th id=\"T_15285_level4_row65\" class=\"row_heading level4 row65\" >-0.060000</th>\n",
       "      <td id=\"T_15285_row65_col0\" class=\"data row65 col0\" >83</td>\n",
       "      <td id=\"T_15285_row65_col1\" class=\"data row65 col1\" >-12.07%</td>\n",
       "      <td id=\"T_15285_row65_col2\" class=\"data row65 col2\" >-59.00%</td>\n",
       "      <td id=\"T_15285_row65_col3\" class=\"data row65 col3\" >-0.090000</td>\n",
       "      <td id=\"T_15285_row65_col4\" class=\"data row65 col4\" >-0.120000</td>\n",
       "      <td id=\"T_15285_row65_col5\" class=\"data row65 col5\" >-0.77%</td>\n",
       "      <td id=\"T_15285_row65_col6\" class=\"data row65 col6\" >-1.10%</td>\n",
       "    </tr>\n",
       "    <tr>\n",
       "      <th id=\"T_15285_level2_row66\" class=\"row_heading level2 row66\" rowspan=\"2\">1.090000</th>\n",
       "      <th id=\"T_15285_level3_row66\" class=\"row_heading level3 row66\" >0.000100</th>\n",
       "      <th id=\"T_15285_level4_row66\" class=\"row_heading level4 row66\" >-0.060000</th>\n",
       "      <td id=\"T_15285_row66_col0\" class=\"data row66 col0\" >89</td>\n",
       "      <td id=\"T_15285_row66_col1\" class=\"data row66 col1\" >4.12%</td>\n",
       "      <td id=\"T_15285_row66_col2\" class=\"data row66 col2\" >-50.00%</td>\n",
       "      <td id=\"T_15285_row66_col3\" class=\"data row66 col3\" >0.310000</td>\n",
       "      <td id=\"T_15285_row66_col4\" class=\"data row66 col4\" >0.440000</td>\n",
       "      <td id=\"T_15285_row66_col5\" class=\"data row66 col5\" >0.39%</td>\n",
       "      <td id=\"T_15285_row66_col6\" class=\"data row66 col6\" >0.16%</td>\n",
       "    </tr>\n",
       "    <tr>\n",
       "      <th id=\"T_15285_level3_row67\" class=\"row_heading level3 row67\" >0.025000</th>\n",
       "      <th id=\"T_15285_level4_row67\" class=\"row_heading level4 row67\" >-0.060000</th>\n",
       "      <td id=\"T_15285_row67_col0\" class=\"data row67 col0\" >82</td>\n",
       "      <td id=\"T_15285_row67_col1\" class=\"data row67 col1\" >-2.64%</td>\n",
       "      <td id=\"T_15285_row67_col2\" class=\"data row67 col2\" >-54.00%</td>\n",
       "      <td id=\"T_15285_row67_col3\" class=\"data row67 col3\" >0.150000</td>\n",
       "      <td id=\"T_15285_row67_col4\" class=\"data row67 col4\" >0.210000</td>\n",
       "      <td id=\"T_15285_row67_col5\" class=\"data row67 col5\" >-0.28%</td>\n",
       "      <td id=\"T_15285_row67_col6\" class=\"data row67 col6\" >-1.06%</td>\n",
       "    </tr>\n",
       "    <tr>\n",
       "      <th id=\"T_15285_level2_row68\" class=\"row_heading level2 row68\" rowspan=\"2\">1.100000</th>\n",
       "      <th id=\"T_15285_level3_row68\" class=\"row_heading level3 row68\" >0.000100</th>\n",
       "      <th id=\"T_15285_level4_row68\" class=\"row_heading level4 row68\" >-0.060000</th>\n",
       "      <td id=\"T_15285_row68_col0\" class=\"data row68 col0\" >87</td>\n",
       "      <td id=\"T_15285_row68_col1\" class=\"data row68 col1\" >5.00%</td>\n",
       "      <td id=\"T_15285_row68_col2\" class=\"data row68 col2\" >-49.00%</td>\n",
       "      <td id=\"T_15285_row68_col3\" class=\"data row68 col3\" >0.330000</td>\n",
       "      <td id=\"T_15285_row68_col4\" class=\"data row68 col4\" >0.480000</td>\n",
       "      <td id=\"T_15285_row68_col5\" class=\"data row68 col5\" >0.27%</td>\n",
       "      <td id=\"T_15285_row68_col6\" class=\"data row68 col6\" >-0.12%</td>\n",
       "    </tr>\n",
       "    <tr>\n",
       "      <th id=\"T_15285_level3_row69\" class=\"row_heading level3 row69\" >0.025000</th>\n",
       "      <th id=\"T_15285_level4_row69\" class=\"row_heading level4 row69\" >-0.060000</th>\n",
       "      <td id=\"T_15285_row69_col0\" class=\"data row69 col0\" >81</td>\n",
       "      <td id=\"T_15285_row69_col1\" class=\"data row69 col1\" >-1.29%</td>\n",
       "      <td id=\"T_15285_row69_col2\" class=\"data row69 col2\" >-53.00%</td>\n",
       "      <td id=\"T_15285_row69_col3\" class=\"data row69 col3\" >0.190000</td>\n",
       "      <td id=\"T_15285_row69_col4\" class=\"data row69 col4\" >0.270000</td>\n",
       "      <td id=\"T_15285_row69_col5\" class=\"data row69 col5\" >-0.50%</td>\n",
       "      <td id=\"T_15285_row69_col6\" class=\"data row69 col6\" >-1.12%</td>\n",
       "    </tr>\n",
       "    <tr>\n",
       "      <th id=\"T_15285_level1_row70\" class=\"row_heading level1 row70\" rowspan=\"10\">7</th>\n",
       "      <th id=\"T_15285_level2_row70\" class=\"row_heading level2 row70\" rowspan=\"2\">1.060000</th>\n",
       "      <th id=\"T_15285_level3_row70\" class=\"row_heading level3 row70\" >0.000100</th>\n",
       "      <th id=\"T_15285_level4_row70\" class=\"row_heading level4 row70\" >-0.060000</th>\n",
       "      <td id=\"T_15285_row70_col0\" class=\"data row70 col0\" >107</td>\n",
       "      <td id=\"T_15285_row70_col1\" class=\"data row70 col1\" >-8.83%</td>\n",
       "      <td id=\"T_15285_row70_col2\" class=\"data row70 col2\" >-29.00%</td>\n",
       "      <td id=\"T_15285_row70_col3\" class=\"data row70 col3\" >-0.020000</td>\n",
       "      <td id=\"T_15285_row70_col4\" class=\"data row70 col4\" >-0.030000</td>\n",
       "      <td id=\"T_15285_row70_col5\" class=\"data row70 col5\" >-0.39%</td>\n",
       "      <td id=\"T_15285_row70_col6\" class=\"data row70 col6\" >0.23%</td>\n",
       "    </tr>\n",
       "    <tr>\n",
       "      <th id=\"T_15285_level3_row71\" class=\"row_heading level3 row71\" >0.025000</th>\n",
       "      <th id=\"T_15285_level4_row71\" class=\"row_heading level4 row71\" >-0.060000</th>\n",
       "      <td id=\"T_15285_row71_col0\" class=\"data row71 col0\" >91</td>\n",
       "      <td id=\"T_15285_row71_col1\" class=\"data row71 col1\" >-14.32%</td>\n",
       "      <td id=\"T_15285_row71_col2\" class=\"data row71 col2\" >-39.00%</td>\n",
       "      <td id=\"T_15285_row71_col3\" class=\"data row71 col3\" >-0.200000</td>\n",
       "      <td id=\"T_15285_row71_col4\" class=\"data row71 col4\" >-0.280000</td>\n",
       "      <td id=\"T_15285_row71_col5\" class=\"data row71 col5\" >-0.67%</td>\n",
       "      <td id=\"T_15285_row71_col6\" class=\"data row71 col6\" >0.23%</td>\n",
       "    </tr>\n",
       "    <tr>\n",
       "      <th id=\"T_15285_level2_row72\" class=\"row_heading level2 row72\" rowspan=\"2\">1.070000</th>\n",
       "      <th id=\"T_15285_level3_row72\" class=\"row_heading level3 row72\" >0.000100</th>\n",
       "      <th id=\"T_15285_level4_row72\" class=\"row_heading level4 row72\" >-0.060000</th>\n",
       "      <td id=\"T_15285_row72_col0\" class=\"data row72 col0\" >107</td>\n",
       "      <td id=\"T_15285_row72_col1\" class=\"data row72 col1\" >-7.45%</td>\n",
       "      <td id=\"T_15285_row72_col2\" class=\"data row72 col2\" >-30.00%</td>\n",
       "      <td id=\"T_15285_row72_col3\" class=\"data row72 col3\" >0.020000</td>\n",
       "      <td id=\"T_15285_row72_col4\" class=\"data row72 col4\" >0.020000</td>\n",
       "      <td id=\"T_15285_row72_col5\" class=\"data row72 col5\" >-0.08%</td>\n",
       "      <td id=\"T_15285_row72_col6\" class=\"data row72 col6\" >0.02%</td>\n",
       "    </tr>\n",
       "    <tr>\n",
       "      <th id=\"T_15285_level3_row73\" class=\"row_heading level3 row73\" >0.025000</th>\n",
       "      <th id=\"T_15285_level4_row73\" class=\"row_heading level4 row73\" >-0.060000</th>\n",
       "      <td id=\"T_15285_row73_col0\" class=\"data row73 col0\" >91</td>\n",
       "      <td id=\"T_15285_row73_col1\" class=\"data row73 col1\" >-9.78%</td>\n",
       "      <td id=\"T_15285_row73_col2\" class=\"data row73 col2\" >-36.00%</td>\n",
       "      <td id=\"T_15285_row73_col3\" class=\"data row73 col3\" >-0.060000</td>\n",
       "      <td id=\"T_15285_row73_col4\" class=\"data row73 col4\" >-0.090000</td>\n",
       "      <td id=\"T_15285_row73_col5\" class=\"data row73 col5\" >-0.28%</td>\n",
       "      <td id=\"T_15285_row73_col6\" class=\"data row73 col6\" >0.23%</td>\n",
       "    </tr>\n",
       "    <tr>\n",
       "      <th id=\"T_15285_level2_row74\" class=\"row_heading level2 row74\" rowspan=\"2\">1.080000</th>\n",
       "      <th id=\"T_15285_level3_row74\" class=\"row_heading level3 row74\" >0.000100</th>\n",
       "      <th id=\"T_15285_level4_row74\" class=\"row_heading level4 row74\" >-0.060000</th>\n",
       "      <td id=\"T_15285_row74_col0\" class=\"data row74 col0\" >105</td>\n",
       "      <td id=\"T_15285_row74_col1\" class=\"data row74 col1\" >-5.98%</td>\n",
       "      <td id=\"T_15285_row74_col2\" class=\"data row74 col2\" >-30.00%</td>\n",
       "      <td id=\"T_15285_row74_col3\" class=\"data row74 col3\" >0.060000</td>\n",
       "      <td id=\"T_15285_row74_col4\" class=\"data row74 col4\" >0.090000</td>\n",
       "      <td id=\"T_15285_row74_col5\" class=\"data row74 col5\" >-0.16%</td>\n",
       "      <td id=\"T_15285_row74_col6\" class=\"data row74 col6\" >-0.12%</td>\n",
       "    </tr>\n",
       "    <tr>\n",
       "      <th id=\"T_15285_level3_row75\" class=\"row_heading level3 row75\" >0.025000</th>\n",
       "      <th id=\"T_15285_level4_row75\" class=\"row_heading level4 row75\" >-0.060000</th>\n",
       "      <td id=\"T_15285_row75_col0\" class=\"data row75 col0\" >89</td>\n",
       "      <td id=\"T_15285_row75_col1\" class=\"data row75 col1\" >-10.28%</td>\n",
       "      <td id=\"T_15285_row75_col2\" class=\"data row75 col2\" >-37.00%</td>\n",
       "      <td id=\"T_15285_row75_col3\" class=\"data row75 col3\" >-0.070000</td>\n",
       "      <td id=\"T_15285_row75_col4\" class=\"data row75 col4\" >-0.100000</td>\n",
       "      <td id=\"T_15285_row75_col5\" class=\"data row75 col5\" >-0.44%</td>\n",
       "      <td id=\"T_15285_row75_col6\" class=\"data row75 col6\" >0.02%</td>\n",
       "    </tr>\n",
       "    <tr>\n",
       "      <th id=\"T_15285_level2_row76\" class=\"row_heading level2 row76\" rowspan=\"2\">1.090000</th>\n",
       "      <th id=\"T_15285_level3_row76\" class=\"row_heading level3 row76\" >0.000100</th>\n",
       "      <th id=\"T_15285_level4_row76\" class=\"row_heading level4 row76\" >-0.060000</th>\n",
       "      <td id=\"T_15285_row76_col0\" class=\"data row76 col0\" >104</td>\n",
       "      <td id=\"T_15285_row76_col1\" class=\"data row76 col1\" >-2.81%</td>\n",
       "      <td id=\"T_15285_row76_col2\" class=\"data row76 col2\" >-32.00%</td>\n",
       "      <td id=\"T_15285_row76_col3\" class=\"data row76 col3\" >0.140000</td>\n",
       "      <td id=\"T_15285_row76_col4\" class=\"data row76 col4\" >0.210000</td>\n",
       "      <td id=\"T_15285_row76_col5\" class=\"data row76 col5\" >-0.04%</td>\n",
       "      <td id=\"T_15285_row76_col6\" class=\"data row76 col6\" >-0.30%</td>\n",
       "    </tr>\n",
       "    <tr>\n",
       "      <th id=\"T_15285_level3_row77\" class=\"row_heading level3 row77\" >0.025000</th>\n",
       "      <th id=\"T_15285_level4_row77\" class=\"row_heading level4 row77\" >-0.060000</th>\n",
       "      <td id=\"T_15285_row77_col0\" class=\"data row77 col0\" >88</td>\n",
       "      <td id=\"T_15285_row77_col1\" class=\"data row77 col1\" >-9.44%</td>\n",
       "      <td id=\"T_15285_row77_col2\" class=\"data row77 col2\" >-36.00%</td>\n",
       "      <td id=\"T_15285_row77_col3\" class=\"data row77 col3\" >-0.040000</td>\n",
       "      <td id=\"T_15285_row77_col4\" class=\"data row77 col4\" >-0.060000</td>\n",
       "      <td id=\"T_15285_row77_col5\" class=\"data row77 col5\" >-0.36%</td>\n",
       "      <td id=\"T_15285_row77_col6\" class=\"data row77 col6\" >-0.05%</td>\n",
       "    </tr>\n",
       "    <tr>\n",
       "      <th id=\"T_15285_level2_row78\" class=\"row_heading level2 row78\" rowspan=\"2\">1.100000</th>\n",
       "      <th id=\"T_15285_level3_row78\" class=\"row_heading level3 row78\" >0.000100</th>\n",
       "      <th id=\"T_15285_level4_row78\" class=\"row_heading level4 row78\" >-0.060000</th>\n",
       "      <td id=\"T_15285_row78_col0\" class=\"data row78 col0\" >104</td>\n",
       "      <td id=\"T_15285_row78_col1\" class=\"data row78 col1\" >0.13%</td>\n",
       "      <td id=\"T_15285_row78_col2\" class=\"data row78 col2\" >-35.00%</td>\n",
       "      <td id=\"T_15285_row78_col3\" class=\"data row78 col3\" >0.220000</td>\n",
       "      <td id=\"T_15285_row78_col4\" class=\"data row78 col4\" >0.320000</td>\n",
       "      <td id=\"T_15285_row78_col5\" class=\"data row78 col5\" >0.10%</td>\n",
       "      <td id=\"T_15285_row78_col6\" class=\"data row78 col6\" >-0.53%</td>\n",
       "    </tr>\n",
       "    <tr>\n",
       "      <th id=\"T_15285_level3_row79\" class=\"row_heading level3 row79\" >0.025000</th>\n",
       "      <th id=\"T_15285_level4_row79\" class=\"row_heading level4 row79\" >-0.060000</th>\n",
       "      <td id=\"T_15285_row79_col0\" class=\"data row79 col0\" >88</td>\n",
       "      <td id=\"T_15285_row79_col1\" class=\"data row79 col1\" >-7.13%</td>\n",
       "      <td id=\"T_15285_row79_col2\" class=\"data row79 col2\" >-34.00%</td>\n",
       "      <td id=\"T_15285_row79_col3\" class=\"data row79 col3\" >0.030000</td>\n",
       "      <td id=\"T_15285_row79_col4\" class=\"data row79 col4\" >0.040000</td>\n",
       "      <td id=\"T_15285_row79_col5\" class=\"data row79 col5\" >-0.37%</td>\n",
       "      <td id=\"T_15285_row79_col6\" class=\"data row79 col6\" >-0.27%</td>\n",
       "    </tr>\n",
       "    <tr>\n",
       "      <th id=\"T_15285_level1_row80\" class=\"row_heading level1 row80\" rowspan=\"10\">8</th>\n",
       "      <th id=\"T_15285_level2_row80\" class=\"row_heading level2 row80\" rowspan=\"2\">1.060000</th>\n",
       "      <th id=\"T_15285_level3_row80\" class=\"row_heading level3 row80\" >0.000100</th>\n",
       "      <th id=\"T_15285_level4_row80\" class=\"row_heading level4 row80\" >-0.060000</th>\n",
       "      <td id=\"T_15285_row80_col0\" class=\"data row80 col0\" >110</td>\n",
       "      <td id=\"T_15285_row80_col1\" class=\"data row80 col1\" >-1.23%</td>\n",
       "      <td id=\"T_15285_row80_col2\" class=\"data row80 col2\" >-32.00%</td>\n",
       "      <td id=\"T_15285_row80_col3\" class=\"data row80 col3\" >0.170000</td>\n",
       "      <td id=\"T_15285_row80_col4\" class=\"data row80 col4\" >0.240000</td>\n",
       "      <td id=\"T_15285_row80_col5\" class=\"data row80 col5\" >-0.54%</td>\n",
       "      <td id=\"T_15285_row80_col6\" class=\"data row80 col6\" >0.13%</td>\n",
       "    </tr>\n",
       "    <tr>\n",
       "      <th id=\"T_15285_level3_row81\" class=\"row_heading level3 row81\" >0.025000</th>\n",
       "      <th id=\"T_15285_level4_row81\" class=\"row_heading level4 row81\" >-0.060000</th>\n",
       "      <td id=\"T_15285_row81_col0\" class=\"data row81 col0\" >99</td>\n",
       "      <td id=\"T_15285_row81_col1\" class=\"data row81 col1\" >-11.09%</td>\n",
       "      <td id=\"T_15285_row81_col2\" class=\"data row81 col2\" >-35.00%</td>\n",
       "      <td id=\"T_15285_row81_col3\" class=\"data row81 col3\" >-0.090000</td>\n",
       "      <td id=\"T_15285_row81_col4\" class=\"data row81 col4\" >-0.120000</td>\n",
       "      <td id=\"T_15285_row81_col5\" class=\"data row81 col5\" >-0.58%</td>\n",
       "      <td id=\"T_15285_row81_col6\" class=\"data row81 col6\" >0.19%</td>\n",
       "    </tr>\n",
       "    <tr>\n",
       "      <th id=\"T_15285_level2_row82\" class=\"row_heading level2 row82\" rowspan=\"2\">1.070000</th>\n",
       "      <th id=\"T_15285_level3_row82\" class=\"row_heading level3 row82\" >0.000100</th>\n",
       "      <th id=\"T_15285_level4_row82\" class=\"row_heading level4 row82\" >-0.060000</th>\n",
       "      <td id=\"T_15285_row82_col0\" class=\"data row82 col0\" >109</td>\n",
       "      <td id=\"T_15285_row82_col1\" class=\"data row82 col1\" >3.33%</td>\n",
       "      <td id=\"T_15285_row82_col2\" class=\"data row82 col2\" >-32.00%</td>\n",
       "      <td id=\"T_15285_row82_col3\" class=\"data row82 col3\" >0.290000</td>\n",
       "      <td id=\"T_15285_row82_col4\" class=\"data row82 col4\" >0.410000</td>\n",
       "      <td id=\"T_15285_row82_col5\" class=\"data row82 col5\" >-0.27%</td>\n",
       "      <td id=\"T_15285_row82_col6\" class=\"data row82 col6\" >-0.14%</td>\n",
       "    </tr>\n",
       "    <tr>\n",
       "      <th id=\"T_15285_level3_row83\" class=\"row_heading level3 row83\" >0.025000</th>\n",
       "      <th id=\"T_15285_level4_row83\" class=\"row_heading level4 row83\" >-0.060000</th>\n",
       "      <td id=\"T_15285_row83_col0\" class=\"data row83 col0\" >98</td>\n",
       "      <td id=\"T_15285_row83_col1\" class=\"data row83 col1\" >-6.21%</td>\n",
       "      <td id=\"T_15285_row83_col2\" class=\"data row83 col2\" >-34.00%</td>\n",
       "      <td id=\"T_15285_row83_col3\" class=\"data row83 col3\" >0.050000</td>\n",
       "      <td id=\"T_15285_row83_col4\" class=\"data row83 col4\" >0.070000</td>\n",
       "      <td id=\"T_15285_row83_col5\" class=\"data row83 col5\" >-0.30%</td>\n",
       "      <td id=\"T_15285_row83_col6\" class=\"data row83 col6\" >0.11%</td>\n",
       "    </tr>\n",
       "    <tr>\n",
       "      <th id=\"T_15285_level2_row84\" class=\"row_heading level2 row84\" rowspan=\"2\">1.080000</th>\n",
       "      <th id=\"T_15285_level3_row84\" class=\"row_heading level3 row84\" >0.000100</th>\n",
       "      <th id=\"T_15285_level4_row84\" class=\"row_heading level4 row84\" >-0.060000</th>\n",
       "      <td id=\"T_15285_row84_col0\" class=\"data row84 col0\" >106</td>\n",
       "      <td id=\"T_15285_row84_col1\" class=\"data row84 col1\" >7.27%</td>\n",
       "      <td id=\"T_15285_row84_col2\" class=\"data row84 col2\" >-30.00%</td>\n",
       "      <td id=\"T_15285_row84_col3\" class=\"data row84 col3\" >0.380000</td>\n",
       "      <td id=\"T_15285_row84_col4\" class=\"data row84 col4\" >0.550000</td>\n",
       "      <td id=\"T_15285_row84_col5\" class=\"data row84 col5\" >-0.28%</td>\n",
       "      <td id=\"T_15285_row84_col6\" class=\"data row84 col6\" >-0.40%</td>\n",
       "    </tr>\n",
       "    <tr>\n",
       "      <th id=\"T_15285_level3_row85\" class=\"row_heading level3 row85\" >0.025000</th>\n",
       "      <th id=\"T_15285_level4_row85\" class=\"row_heading level4 row85\" >-0.060000</th>\n",
       "      <td id=\"T_15285_row85_col0\" class=\"data row85 col0\" >97</td>\n",
       "      <td id=\"T_15285_row85_col1\" class=\"data row85 col1\" >-5.57%</td>\n",
       "      <td id=\"T_15285_row85_col2\" class=\"data row85 col2\" >-35.00%</td>\n",
       "      <td id=\"T_15285_row85_col3\" class=\"data row85 col3\" >0.070000</td>\n",
       "      <td id=\"T_15285_row85_col4\" class=\"data row85 col4\" >0.100000</td>\n",
       "      <td id=\"T_15285_row85_col5\" class=\"data row85 col5\" >-0.41%</td>\n",
       "      <td id=\"T_15285_row85_col6\" class=\"data row85 col6\" >0.02%</td>\n",
       "    </tr>\n",
       "    <tr>\n",
       "      <th id=\"T_15285_level2_row86\" class=\"row_heading level2 row86\" rowspan=\"2\">1.090000</th>\n",
       "      <th id=\"T_15285_level3_row86\" class=\"row_heading level3 row86\" >0.000100</th>\n",
       "      <th id=\"T_15285_level4_row86\" class=\"row_heading level4 row86\" >-0.060000</th>\n",
       "      <td id=\"T_15285_row86_col0\" class=\"data row86 col0\" >104</td>\n",
       "      <td id=\"T_15285_row86_col1\" class=\"data row86 col1\" >9.79%</td>\n",
       "      <td id=\"T_15285_row86_col2\" class=\"data row86 col2\" >-29.00%</td>\n",
       "      <td id=\"T_15285_row86_col3\" class=\"data row86 col3\" >0.430000</td>\n",
       "      <td id=\"T_15285_row86_col4\" class=\"data row86 col4\" >0.630000</td>\n",
       "      <td id=\"T_15285_row86_col5\" class=\"data row86 col5\" >-0.15%</td>\n",
       "      <td id=\"T_15285_row86_col6\" class=\"data row86 col6\" >-0.45%</td>\n",
       "    </tr>\n",
       "    <tr>\n",
       "      <th id=\"T_15285_level3_row87\" class=\"row_heading level3 row87\" >0.025000</th>\n",
       "      <th id=\"T_15285_level4_row87\" class=\"row_heading level4 row87\" >-0.060000</th>\n",
       "      <td id=\"T_15285_row87_col0\" class=\"data row87 col0\" >96</td>\n",
       "      <td id=\"T_15285_row87_col1\" class=\"data row87 col1\" >-4.85%</td>\n",
       "      <td id=\"T_15285_row87_col2\" class=\"data row87 col2\" >-33.00%</td>\n",
       "      <td id=\"T_15285_row87_col3\" class=\"data row87 col3\" >0.090000</td>\n",
       "      <td id=\"T_15285_row87_col4\" class=\"data row87 col4\" >0.130000</td>\n",
       "      <td id=\"T_15285_row87_col5\" class=\"data row87 col5\" >-0.27%</td>\n",
       "      <td id=\"T_15285_row87_col6\" class=\"data row87 col6\" >-0.05%</td>\n",
       "    </tr>\n",
       "    <tr>\n",
       "      <th id=\"T_15285_level2_row88\" class=\"row_heading level2 row88\" rowspan=\"2\">1.100000</th>\n",
       "      <th id=\"T_15285_level3_row88\" class=\"row_heading level3 row88\" >0.000100</th>\n",
       "      <th id=\"T_15285_level4_row88\" class=\"row_heading level4 row88\" >-0.060000</th>\n",
       "      <td id=\"T_15285_row88_col0\" class=\"data row88 col0\" >103</td>\n",
       "      <td id=\"T_15285_row88_col1\" class=\"data row88 col1\" >13.39%</td>\n",
       "      <td id=\"T_15285_row88_col2\" class=\"data row88 col2\" >-32.00%</td>\n",
       "      <td id=\"T_15285_row88_col3\" class=\"data row88 col3\" >0.500000</td>\n",
       "      <td id=\"T_15285_row88_col4\" class=\"data row88 col4\" >0.750000</td>\n",
       "      <td id=\"T_15285_row88_col5\" class=\"data row88 col5\" >-0.14%</td>\n",
       "      <td id=\"T_15285_row88_col6\" class=\"data row88 col6\" >-0.58%</td>\n",
       "    </tr>\n",
       "    <tr>\n",
       "      <th id=\"T_15285_level3_row89\" class=\"row_heading level3 row89\" >0.025000</th>\n",
       "      <th id=\"T_15285_level4_row89\" class=\"row_heading level4 row89\" >-0.060000</th>\n",
       "      <td id=\"T_15285_row89_col0\" class=\"data row89 col0\" >95</td>\n",
       "      <td id=\"T_15285_row89_col1\" class=\"data row89 col1\" >-6.96%</td>\n",
       "      <td id=\"T_15285_row89_col2\" class=\"data row89 col2\" >-36.00%</td>\n",
       "      <td id=\"T_15285_row89_col3\" class=\"data row89 col3\" >0.040000</td>\n",
       "      <td id=\"T_15285_row89_col4\" class=\"data row89 col4\" >0.050000</td>\n",
       "      <td id=\"T_15285_row89_col5\" class=\"data row89 col5\" >-0.44%</td>\n",
       "      <td id=\"T_15285_row89_col6\" class=\"data row89 col6\" >-0.42%</td>\n",
       "    </tr>\n",
       "  </tbody>\n",
       "</table>\n"
      ],
      "text/plain": [
       "<pandas.io.formats.style.Styler at 0x2aca280a0>"
      ]
     },
     "metadata": {},
     "output_type": "display_data"
    }
   ],
   "source": [
    "from tradeexecutor.analysis.grid_search import analyse_grid_search_result\n",
    "from tradeexecutor.analysis.grid_search import visualise_table\n",
    "table = analyse_grid_search_result(grid_search_results)\n",
    "\n",
    "visualise_table(table)"
   ]
  },
  {
   "cell_type": "markdown",
   "metadata": {
    "collapsed": false
   },
   "source": []
  }
 ],
 "metadata": {
  "kernelspec": {
   "display_name": "trade-executor-8Oz1GdY1-py3.10",
   "language": "python",
   "name": "python3"
  },
  "language_info": {
   "codemirror_mode": {
    "name": "ipython",
    "version": 3
   },
   "file_extension": ".py",
   "mimetype": "text/x-python",
   "name": "python",
   "nbconvert_exporter": "python",
   "pygments_lexer": "ipython3",
   "version": "3.10.13"
  },
  "vscode": {
   "interpreter": {
    "hash": "7adede735167b7e67e1575a49b63099e273f8f003d80ae98ec60bd132e113570"
   }
  }
 },
 "nbformat": 4,
 "nbformat_minor": 4
}
