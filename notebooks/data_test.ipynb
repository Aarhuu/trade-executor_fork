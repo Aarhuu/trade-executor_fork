{
 "cells": [
  {
   "cell_type": "markdown",
   "source": [
    "# Data test"
   ],
   "metadata": {
    "collapsed": false
   }
  },
  {
   "cell_type": "code",
   "execution_count": 1,
   "outputs": [
    {
     "name": "stdout",
     "output_type": "stream",
     "text": [
      "Started Trading Strategy in Jupyter notebook environment, configuration is stored in /Users/moo/.tradingstrategy\n",
      "We loaded 30,068 candles for pair #2854973 WETH-USDC\n",
      "Data range is (Timestamp('2021-12-21 19:00:00'), Timestamp('2023-05-16 13:00:00'))\n"
     ]
    }
   ],
   "source": [
    "from tradingstrategy.chain import ChainId\n",
    "from tradeexecutor.strategy.reserve_currency import ReserveCurrency\n",
    "from tradingstrategy.timebucket import TimeBucket\n",
    "import datetime\n",
    "from tradingstrategy.client import Client\n",
    "\n",
    "from tradeexecutor.strategy.execution_context import ExecutionMode\n",
    "from tradeexecutor.strategy.trading_strategy_universe import load_pair_data_for_single_exchange, TradingStrategyUniverse\n",
    "from tradeexecutor.strategy.execution_context import ExecutionContext\n",
    "from tradeexecutor.strategy.universe_model import UniverseOptions\n",
    "from tradingstrategy.client import Client\n",
    "\n",
    "\n",
    "\n",
    "# Time bucket for our candles\n",
    "CANDLE_TIME_BUCKET = TimeBucket.m15\n",
    "\n",
    "# Candle time granularity we use to trigger stop loss checks\n",
    "STOP_LOSS_TIME_BUCKET = TimeBucket.m5\n",
    "\n",
    "# Strategy keeps its cash in USDC\n",
    "RESERVE_CURRENCY = ReserveCurrency.usdc\n",
    "\n",
    "# Which trading pair we are backtesting on\n",
    "# (Might be different from the live trading pair)\n",
    "# https://tradingstrategy.ai/trading-view/polygon/quickswap/eth-usdc\n",
    "TRADING_PAIR = (ChainId.polygon, \"uniswap-v3\", \"WETH\", \"USDC\", 0.0005)\n",
    "\n",
    "\n",
    "START_AT = datetime.datetime(2022, 9, 1)\n",
    "\n",
    "# Backtest range\n",
    "END_AT = datetime.datetime(2023, 4, 1)\n",
    "\n",
    "def create_single_pair_trading_universe(\n",
    "        ts: datetime.datetime,\n",
    "        client: Client,\n",
    "        execution_context: ExecutionContext,\n",
    "        universe_options: UniverseOptions,\n",
    ") -> TradingStrategyUniverse:\n",
    "\n",
    "    # Fetch backtesting datasets from the server\n",
    "    dataset = load_pair_data_for_single_exchange(\n",
    "        client,\n",
    "        time_bucket=CANDLE_TIME_BUCKET,\n",
    "        pair_tickers=[TRADING_PAIR],\n",
    "        execution_context=execution_context,\n",
    "        universe_options=universe_options,\n",
    "        stop_loss_time_bucket=STOP_LOSS_TIME_BUCKET,\n",
    "    )\n",
    "\n",
    "    # Convert loaded data to a trading pair universe\n",
    "    universe = TradingStrategyUniverse.create_single_pair_universe(\n",
    "        dataset,\n",
    "        pair=TRADING_PAIR,\n",
    "    )\n",
    "\n",
    "    return universe\n",
    "\n",
    "client = Client.create_jupyter_client()\n",
    "\n",
    "universe = create_single_pair_trading_universe(\n",
    "    END_AT,\n",
    "    client,\n",
    "\n",
    "    ExecutionContext(mode=ExecutionMode.data_preload),\n",
    "    UniverseOptions()\n",
    ")\n",
    "pair = universe.get_single_pair()\n",
    "\n",
    "print(f\"We loaded {universe.universe.candles.get_candle_count():,} candles for pair #{pair.internal_id} {pair.get_ticker()}\")\n",
    "print(f\"Data range is {universe.universe.candles.get_timestamp_range()}\")"
   ],
   "metadata": {
    "collapsed": false,
    "ExecuteTime": {
     "end_time": "2023-05-18T10:04:11.108880Z",
     "start_time": "2023-05-18T10:04:07.074428Z"
    }
   }
  }
 ],
 "metadata": {
  "kernelspec": {
   "display_name": "Python 3",
   "language": "python",
   "name": "python3"
  },
  "language_info": {
   "codemirror_mode": {
    "name": "ipython",
    "version": 2
   },
   "file_extension": ".py",
   "mimetype": "text/x-python",
   "name": "python",
   "nbconvert_exporter": "python",
   "pygments_lexer": "ipython2",
   "version": "2.7.6"
  }
 },
 "nbformat": 4,
 "nbformat_minor": 0
}
