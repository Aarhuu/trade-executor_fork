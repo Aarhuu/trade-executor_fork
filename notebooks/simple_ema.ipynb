{
 "cells": [
  {
   "cell_type": "markdown",
   "metadata": {
    "collapsed": true,
    "pycharm": {
     "name": "#%% md\n"
    }
   },
   "source": [
    "# Simple EMA backtest\n",
    "\n",
    "\n",
    "This is an example notebook how to create and run backtests with\n",
    "`tradeexecutor` framework.\n",
    "\n",
    "Some highlights of this notebook:\n",
    "\n",
    "* Runs everything within a single notebook\n",
    "    - The backtest code and charts are self-contained in a single file\n",
    "    - The example code is easy to read\n",
    "    - Easy to test different functionalities of `tradeexecutor` library\n",
    "* Runs a backtest for [EMA strategy](https://tradingstrategy.ai/docs/glossary.html#term-EMA) on a single trading pair\n",
    "    - Uses PancakeSwap on BNB chain for trading\n",
    "* You need a [Trading Strategy API key](https://tradingstrategy.ai/trading-view/backtesting) to run the notebook\n",
    "\n"
   ]
  },
  {
   "cell_type": "markdown",
   "source": [
    "## Set up\n",
    "\n",
    "Set up the parameters used in the backtesting\n",
    "\n",
    "- Backtested blockchain, exchange and trading pair\n",
    "- Backtesting period\n",
    "- Strategy parameters for EMAs"
   ],
   "metadata": {
    "collapsed": false,
    "pycharm": {
     "name": "#%% md\n"
    }
   }
  },
  {
   "cell_type": "code",
   "execution_count": 12,
   "outputs": [],
   "source": [
    "import datetime\n",
    "import pandas as pd\n",
    "\n",
    "from tradingstrategy.chain import ChainId\n",
    "from tradingstrategy.timebucket import TimeBucket\n",
    "from tradeexecutor.strategy.cycle import CycleDuration\n",
    "from tradeexecutor.strategy.strategy_module import StrategyType, TradeRouting, ReserveCurrency\n",
    "\n",
    "# Tell what trade execution engine version this strategy needs to use\n",
    "trading_strategy_engine_version = \"0.1\"\n",
    "\n",
    "# What kind of strategy we are running.\n",
    "# This tells we are going to use\n",
    "trading_strategy_type = StrategyType.managed_positions\n",
    "\n",
    "# How our trades are routed.\n",
    "# PancakeSwap basic routing supports two way trades with BUSD\n",
    "# and three way trades with BUSD-BNB hop.\n",
    "trade_routing = TradeRouting.pancakeswap_basic\n",
    "\n",
    "# How often the strategy performs the decide_trades cycle.\n",
    "# We do it for every 16h.\n",
    "trading_strategy_cycle = CycleDuration.cycle_16h\n",
    "\n",
    "# Strategy keeps its cash in BUSD\n",
    "reserve_currency = ReserveCurrency.busd\n",
    "\n",
    "# Time bucket for our candles\n",
    "candle_time_bucket = TimeBucket.h4\n",
    "\n",
    "# Which chain we are trading\n",
    "chain_id = ChainId.bsc\n",
    "\n",
    "# Which exchange we are trading on.\n",
    "exchange_slug = \"pancakeswap-v2\"\n",
    "\n",
    "# Which trading pair we are trading\n",
    "trading_pair = (\"WBNB\", \"BUSD\")\n",
    "\n",
    "# How much of the cash to put on a single trade\n",
    "position_size = 0.10\n",
    "\n",
    "#\n",
    "# Strategy thinking specific parameter\n",
    "#\n",
    "\n",
    "batch_size = 90\n",
    "\n",
    "slow_ema_candle_count = 39\n",
    "\n",
    "fast_ema_candle_count = 15\n",
    "\n",
    "\n",
    "# Range of backtesting and synthetic data generation.\n",
    "# Because we are using synthetic data actual dates do not really matter -\n",
    "# only the duration\n",
    "\n",
    "start_at = datetime.datetime(2021, 6, 1)\n",
    "\n",
    "end_at = datetime.datetime(2022, 1, 1)\n",
    "\n",
    "# Start with 10,000 USD\n",
    "initial_deposit = 10_000\n"
   ],
   "metadata": {
    "collapsed": false,
    "pycharm": {
     "name": "#%%\n"
    }
   }
  },
  {
   "cell_type": "code",
   "execution_count": 13,
   "outputs": [],
   "source": [
    "\n",
    "from tradeexecutor.state.visualisation import PlotKind\n",
    "from tradeexecutor.state.trade import TradeExecution\n",
    "from typing import List, Dict\n",
    "from tradeexecutor.strategy.pricing_model import PricingModel\n",
    "from tradeexecutor.strategy.pandas_trader.position_manager import PositionManager\n",
    "from tradeexecutor.state.state import State\n",
    "from tradingstrategy.universe import Universe\n",
    "\n",
    "\n",
    "def decide_trades(\n",
    "        timestamp: pd.Timestamp,\n",
    "        universe: Universe,\n",
    "        state: State,\n",
    "        pricing_model: PricingModel,\n",
    "        cycle_debug_data: Dict) -> List[TradeExecution]:\n",
    "    \"\"\"The brain function to decide the trades on each trading strategy cycle.\n",
    "\n",
    "    - Reads incoming execution state (positions, past trades)\n",
    "\n",
    "    - Reads the current universe (candles)\n",
    "\n",
    "    - Decides what to do next\n",
    "\n",
    "    - Outputs strategy thinking for visualisation and debug messages\n",
    "\n",
    "    :param timestamp:\n",
    "        The Pandas timestamp object for this cycle. Matches\n",
    "        trading_strategy_cycle division.\n",
    "        Always truncated to the zero seconds and minutes, never a real-time clock.\n",
    "\n",
    "    :param universe:\n",
    "        Trading universe that was constructed earlier.\n",
    "\n",
    "    :param state:\n",
    "        The current trade execution state.\n",
    "        Contains current open positions and all previously executed trades, plus output\n",
    "        for statistics, visualisation and diangnostics of the strategy.\n",
    "\n",
    "    :param pricing_model:\n",
    "        Pricing model can tell the buy/sell price of the particular asset at a particular moment.\n",
    "\n",
    "    :param cycle_debug_data:\n",
    "        Python dictionary for various debug variables you can read or set, specific to this trade cycle.\n",
    "        This data is discarded at the end of the trade cycle.\n",
    "\n",
    "    :return:\n",
    "        List of trade instructions in the form of :py:class:`TradeExecution` instances.\n",
    "        The trades can be generated using `position_manager` but strategy could also hand craft its trades.\n",
    "    \"\"\"\n",
    "\n",
    "    # The pair we are trading\n",
    "    pair = universe.pairs.get_single()\n",
    "\n",
    "    # How much cash we have in the hand\n",
    "    cash = state.portfolio.get_current_cash()\n",
    "\n",
    "    # Get OHLCV candles for our trading pair as Pandas Dataframe.\n",
    "    # We could have candles for multiple trading pairs in a different strategy,\n",
    "    # but this strategy only operates on single pair candle.\n",
    "    # We also limit our sample size to N latest candles to speed up calculations.\n",
    "    candles: pd.DataFrame = universe.candles.get_single_pair_data(sample_count=batch_size)\n",
    "\n",
    "    # We have data for open, high, close, etc.\n",
    "    # We only operate using candle close values in this strategy.\n",
    "    close = candles[\"close\"]\n",
    "\n",
    "    # Calculate exponential moving averages based on slow and fast sample numbers.\n",
    "    # More information about calculating expotential averages in Pandas:\n",
    "    #\n",
    "    # - https://www.statology.org/exponential-moving-average-pandas/\n",
    "    #\n",
    "    # - https://pandas.pydata.org/pandas-docs/stable/reference/api/pandas.DataFrame.ewm.html\n",
    "    #\n",
    "    slow_ema = close.ewm(span=slow_ema_candle_count).mean().iloc[-1]\n",
    "    fast_ema = close.ewm(span=fast_ema_candle_count).mean().iloc[-1]\n",
    "\n",
    "    # Get the last close price from close time series\n",
    "    # that's Pandas's Series object\n",
    "    # https://pandas.pydata.org/docs/reference/api/pandas.Series.iat.html\n",
    "    current_price = close.iloc[-1]\n",
    "\n",
    "    # List of any trades we decide on this cycle.\n",
    "    # Because the strategy is simple, there can be\n",
    "    # only zero (do nothing) or 1 (open or close) trades\n",
    "    # decides\n",
    "    trades = []\n",
    "\n",
    "    # Create a position manager helper class that allows us easily to create\n",
    "    # opening/closing trades for different positions\n",
    "    position_manager = PositionManager(timestamp, universe, state, pricing_model)\n",
    "\n",
    "    if current_price >= slow_ema:\n",
    "        # Entry condition:\n",
    "        # Close price is higher than the slow EMA\n",
    "        if not position_manager.is_any_open():\n",
    "            buy_amount = cash * position_size\n",
    "            trades += position_manager.open_1x_long(pair, buy_amount)\n",
    "    elif fast_ema >= slow_ema:\n",
    "        # Exit condition:\n",
    "        # Fast EMA crosses slow EMA\n",
    "        if position_manager.is_any_open():\n",
    "            trades += position_manager.close_all()\n",
    "\n",
    "    # Visualize strategy\n",
    "    visualisation = state.visualisation\n",
    "    visualisation.plot_indicator(timestamp, \"Slow EMA\", PlotKind.technical_indicator_on_price, slow_ema, colour=\"darkblue\")\n",
    "    visualisation.plot_indicator(timestamp, \"Fast EMA\", PlotKind.technical_indicator_on_price, fast_ema, colour=\"#003300\")\n",
    "\n",
    "    return trades"
   ],
   "metadata": {
    "collapsed": false,
    "pycharm": {
     "name": "#%%\n"
    }
   }
  },
  {
   "cell_type": "code",
   "execution_count": 14,
   "outputs": [],
   "source": [
    "\n",
    "from typing import Optional\n",
    "from tradeexecutor.strategy.trading_strategy_universe import load_all_data, TradingStrategyUniverse\n",
    "from tradeexecutor.strategy.execution_context import ExecutionContext\n",
    "from tradingstrategy.client import Client\n",
    "import datetime\n",
    "\n",
    "def create_trading_universe(\n",
    "        ts: datetime.datetime,\n",
    "        client: Client,\n",
    "        execution_context: ExecutionContext,\n",
    "        candle_time_frame_override: Optional[TimeBucket]=None,\n",
    ") -> TradingStrategyUniverse:\n",
    "    \"\"\"Creates the trading universe where the strategy trades.\n",
    "\n",
    "    If `execution_context.live_trading` is true then this function is called for\n",
    "    every execution cycle. If we are backtesting, then this function is\n",
    "    called only once at the start of backtesting and the `decide_trades`\n",
    "    need to deal with new and deprecated trading pairs.\n",
    "\n",
    "    As we are only trading a single pair, load data for the single pair only.\n",
    "\n",
    "    :param ts:\n",
    "        The timestamp of the trading cycle. For live trading,\n",
    "        `create_trading_universe` is called on every cycle.\n",
    "        For backtesting, it is only called at the start\n",
    "\n",
    "    :param client:\n",
    "        Trading Strategy Python client instance.\n",
    "\n",
    "    :param execution_context:\n",
    "        Information how the strategy is executed. E.g.\n",
    "        if we are live trading or not.\n",
    "\n",
    "    :param candle_timeframe_override:\n",
    "        Allow the backtest framework override what candle size is used to backtest the strategy\n",
    "        without editing the strategy Python source code file.\n",
    "\n",
    "    :return:\n",
    "        This function must return :py:class:`TradingStrategyUniverse` instance\n",
    "        filled with the data for exchanges, pairs and candles needed to decide trades.\n",
    "        The trading universe also contains information about the reserve asset,\n",
    "        usually stablecoin, we use for the strategy.\n",
    "    \"\"\"\n",
    "\n",
    "    # Load all datas we can get for our candle time bucket\n",
    "    dataset = load_all_data(client, candle_time_bucket, execution_context)\n",
    "\n",
    "    # Filter down to the single pair we are interested in\n",
    "    universe = TradingStrategyUniverse.create_single_pair_universe(\n",
    "        dataset,\n",
    "        chain_id,\n",
    "        exchange_slug,\n",
    "        trading_pair[0],\n",
    "        trading_pair[1],\n",
    "    )\n",
    "\n",
    "    return universe"
   ],
   "metadata": {
    "collapsed": false,
    "pycharm": {
     "name": "#%%\n"
    }
   }
  },
  {
   "cell_type": "markdown",
   "source": [
    "## Set up the market data client\n",
    "\n",
    "The [Trading Strategy market data client](https://tradingstrategy.ai/docs/programming/api/client/index.html)\n",
    "is the Python library responsible for managing the data feeds needed to run the backtest.None\n",
    "\n",
    "We set up the market data client with an API key.\n",
    "\n",
    "[If you do not have an API key yet, you can register one](https://tradingstrategy.ai/trading-view/backtesting)."
   ],
   "metadata": {
    "collapsed": false,
    "pycharm": {
     "name": "#%% md\n"
    }
   }
  },
  {
   "cell_type": "code",
   "execution_count": 15,
   "outputs": [
    {
     "name": "stdout",
     "output_type": "stream",
     "text": [
      "Started Trading Strategy in Jupyter notebook environment, configuration is stored in /Users/moo/.tradingstrategy\n"
     ]
    }
   ],
   "source": [
    "from tradingstrategy.client import Client\n",
    "\n",
    "client = Client.create_jupyter_client()"
   ],
   "metadata": {
    "collapsed": false,
    "pycharm": {
     "name": "#%%\n"
    }
   }
  },
  {
   "cell_type": "markdown",
   "source": [
    "## Run backtest\n",
    "\n",
    "Run backtest using giving trading universe and strategy function.\n",
    "\n",
    "- Running the backtest outputs `state` object that contains all the information\n",
    "on the backtesting position and trades.\n",
    "- The trade execution engine will download the necessary datasets to run the backtest.\n",
    "  The datasets may be large, several gigabytes.\n"
   ],
   "metadata": {
    "collapsed": false,
    "pycharm": {
     "name": "#%% md\n"
    }
   }
  },
  {
   "cell_type": "code",
   "execution_count": 16,
   "outputs": [
    {
     "name": "stderr",
     "output_type": "stream",
     "text": [
      "2022-07-11 11:01:23 tradingstrategy.environment.jupyter                WARNING  Missing HTTP response content-length header for download https://tradingstrategy.ai/api/exchange-universe, headers are ItemsView({'Date': 'Mon, 11 Jul 2022 02:01:23 GMT', 'Content-Type': 'application/json', 'Transfer-Encoding': 'chunked', 'Connection': 'keep-alive', 'Access-Control-Allow-Credentials': 'true', 'Access-Control-Allow-Headers': 'Origin, Content-Type, Accept, Authorization', 'Access-Control-Allow-Methods': 'POST,GET,DELETE,PUT,OPTIONS', 'Access-Control-Allow-Origin': '*', 'Access-Control-Max-Age': '1728000', 'CF-Cache-Status': 'DYNAMIC', 'Expect-CT': 'max-age=604800, report-uri=\"https://report-uri.cloudflare.com/cdn-cgi/beacon/expect-ct\"', 'Report-To': '{\"endpoints\":[{\"url\":\"https:\\\\/\\\\/a.nel.cloudflare.com\\\\/report\\\\/v3?s=UDwg7jrtnbtVMkawL5IXXPi9jNatK%2BEhdVgBMEFTOrqw12QfjOg8Cy%2BJhnpQV7WmOULHEuM7iAQ4aq3DZBNwXr657vueqC%2FgRIft4iejvE3Ii9VHj61CidNdte0iCeiYfP2oSQ%3D%3D\"}],\"group\":\"cf-nel\",\"max_age\":604800}', 'NEL': '{\"success_fraction\":0,\"report_to\":\"cf-nel\",\"max_age\":604800}', 'Server': 'cloudflare', 'CF-RAY': '728df36cde818a62-NRT', 'Content-Encoding': 'gzip'})\n"
     ]
    },
    {
     "data": {
      "text/plain": "Downloading exchange dataset(Unknown total file size): 0it [00:00, ?it/s]",
      "application/vnd.jupyter.widget-view+json": {
       "version_major": 2,
       "version_minor": 0,
       "model_id": "fb60e4b4849c46a5a9e4c0d2e80a754e"
      }
     },
     "metadata": {},
     "output_type": "display_data"
    },
    {
     "data": {
      "text/plain": "Downloading OHLCV data for 4h time bucket:   0%|          | 0/1593445337 [00:00<?, ?it/s]",
      "application/vnd.jupyter.widget-view+json": {
       "version_major": 2,
       "version_minor": 0,
       "model_id": "21533938f5154a68b66b675172b15122"
      }
     },
     "metadata": {},
     "output_type": "display_data"
    },
    {
     "ename": "KeyboardInterrupt",
     "evalue": "",
     "output_type": "error",
     "traceback": [
      "\u001B[0;31m---------------------------------------------------------------------------\u001B[0m",
      "\u001B[0;31mKeyboardInterrupt\u001B[0m                         Traceback (most recent call last)",
      "Input \u001B[0;32mIn [16]\u001B[0m, in \u001B[0;36m<cell line: 5>\u001B[0;34m()\u001B[0m\n\u001B[1;32m      1\u001B[0m \u001B[38;5;28;01mimport\u001B[39;00m \u001B[38;5;21;01mlogging\u001B[39;00m\n\u001B[1;32m      3\u001B[0m \u001B[38;5;28;01mfrom\u001B[39;00m \u001B[38;5;21;01mtradeexecutor\u001B[39;00m\u001B[38;5;21;01m.\u001B[39;00m\u001B[38;5;21;01mbacktest\u001B[39;00m\u001B[38;5;21;01m.\u001B[39;00m\u001B[38;5;21;01mbacktest_runner\u001B[39;00m \u001B[38;5;28;01mimport\u001B[39;00m run_backtest_inline\n\u001B[0;32m----> 5\u001B[0m state, debug_dump \u001B[38;5;241m=\u001B[39m \u001B[43mrun_backtest_inline\u001B[49m\u001B[43m(\u001B[49m\n\u001B[1;32m      6\u001B[0m \u001B[43m    \u001B[49m\u001B[43mname\u001B[49m\u001B[38;5;241;43m=\u001B[39;49m\u001B[38;5;124;43m\"\u001B[39;49m\u001B[38;5;124;43mSynthetic random data backtest\u001B[39;49m\u001B[38;5;124;43m\"\u001B[39;49m\u001B[43m,\u001B[49m\n\u001B[1;32m      7\u001B[0m \u001B[43m    \u001B[49m\u001B[43mstart_at\u001B[49m\u001B[38;5;241;43m=\u001B[39;49m\u001B[43mstart_at\u001B[49m\u001B[43m,\u001B[49m\n\u001B[1;32m      8\u001B[0m \u001B[43m    \u001B[49m\u001B[43mend_at\u001B[49m\u001B[38;5;241;43m=\u001B[39;49m\u001B[43mend_at\u001B[49m\u001B[43m,\u001B[49m\n\u001B[1;32m      9\u001B[0m \u001B[43m    \u001B[49m\u001B[43mclient\u001B[49m\u001B[38;5;241;43m=\u001B[39;49m\u001B[43mclient\u001B[49m\u001B[43m,\u001B[49m\u001B[43m  \u001B[49m\n\u001B[1;32m     10\u001B[0m \u001B[43m    \u001B[49m\u001B[43mcycle_duration\u001B[49m\u001B[38;5;241;43m=\u001B[39;49m\u001B[43mtrading_strategy_cycle\u001B[49m\u001B[43m,\u001B[49m\n\u001B[1;32m     11\u001B[0m \u001B[43m    \u001B[49m\u001B[43mdecide_trades\u001B[49m\u001B[38;5;241;43m=\u001B[39;49m\u001B[43mdecide_trades\u001B[49m\u001B[43m,\u001B[49m\n\u001B[1;32m     12\u001B[0m \u001B[43m    \u001B[49m\u001B[43mcreate_trading_universe\u001B[49m\u001B[38;5;241;43m=\u001B[39;49m\u001B[43mcreate_trading_universe\u001B[49m\u001B[43m,\u001B[49m\n\u001B[1;32m     13\u001B[0m \u001B[43m    \u001B[49m\u001B[43minitial_deposit\u001B[49m\u001B[38;5;241;43m=\u001B[39;49m\u001B[43minitial_deposit\u001B[49m\u001B[43m,\u001B[49m\n\u001B[1;32m     14\u001B[0m \u001B[43m    \u001B[49m\u001B[43mreserve_currency\u001B[49m\u001B[38;5;241;43m=\u001B[39;49m\u001B[43mReserveCurrency\u001B[49m\u001B[38;5;241;43m.\u001B[39;49m\u001B[43mbusd\u001B[49m\u001B[43m,\u001B[49m\n\u001B[1;32m     15\u001B[0m \u001B[43m    \u001B[49m\u001B[43mtrade_routing\u001B[49m\u001B[38;5;241;43m=\u001B[39;49m\u001B[43mTradeRouting\u001B[49m\u001B[38;5;241;43m.\u001B[39;49m\u001B[43mpancakeswap_basic\u001B[49m\u001B[43m,\u001B[49m\n\u001B[1;32m     16\u001B[0m \u001B[43m    \u001B[49m\u001B[43mlog_level\u001B[49m\u001B[38;5;241;43m=\u001B[39;49m\u001B[43mlogging\u001B[49m\u001B[38;5;241;43m.\u001B[39;49m\u001B[43mWARNING\u001B[49m\u001B[43m,\u001B[49m\n\u001B[1;32m     17\u001B[0m \u001B[43m)\u001B[49m\n\u001B[1;32m     19\u001B[0m trade_count \u001B[38;5;241m=\u001B[39m \u001B[38;5;28mlen\u001B[39m(\u001B[38;5;28mlist\u001B[39m(state\u001B[38;5;241m.\u001B[39mportfolio\u001B[38;5;241m.\u001B[39mget_all_trades()))\n\u001B[1;32m     20\u001B[0m \u001B[38;5;28mprint\u001B[39m(\u001B[38;5;124mf\u001B[39m\u001B[38;5;124m\"\u001B[39m\u001B[38;5;124mBacktesting completed, backtested strategy made \u001B[39m\u001B[38;5;132;01m{\u001B[39;00mtrade_count\u001B[38;5;132;01m}\u001B[39;00m\u001B[38;5;124m trades\u001B[39m\u001B[38;5;124m\"\u001B[39m)\n",
      "File \u001B[0;32m~/code/executor/trade-executor/tradeexecutor/backtest/backtest_runner.py:446\u001B[0m, in \u001B[0;36mrun_backtest_inline\u001B[0;34m(start_at, end_at, client, decide_trades, cycle_duration, initial_deposit, reserve_currency, trade_routing, create_trading_universe, universe, routing_model, max_slippage, candle_time_frame, log_level, data_preload, name)\u001B[0m\n\u001B[1;32m    423\u001B[0m     pricing_model \u001B[38;5;241m=\u001B[39m \u001B[38;5;28;01mNone\u001B[39;00m\n\u001B[1;32m    425\u001B[0m backtest_setup \u001B[38;5;241m=\u001B[39m BacktestSetup(\n\u001B[1;32m    426\u001B[0m     start_at,\n\u001B[1;32m    427\u001B[0m     end_at,\n\u001B[0;32m   (...)\u001B[0m\n\u001B[1;32m    443\u001B[0m     data_preload\u001B[38;5;241m=\u001B[39mdata_preload,\n\u001B[1;32m    444\u001B[0m )\n\u001B[0;32m--> 446\u001B[0m \u001B[38;5;28;01mreturn\u001B[39;00m \u001B[43mrun_backtest\u001B[49m\u001B[43m(\u001B[49m\u001B[43mbacktest_setup\u001B[49m\u001B[43m,\u001B[49m\u001B[43m \u001B[49m\u001B[43mclient\u001B[49m\u001B[43m)\u001B[49m\n",
      "File \u001B[0;32m~/code/executor/trade-executor/tradeexecutor/backtest/backtest_runner.py:322\u001B[0m, in \u001B[0;36mrun_backtest\u001B[0;34m(setup, client)\u001B[0m\n\u001B[1;32m    298\u001B[0m         \u001B[38;5;28;01mpass\u001B[39;00m\n\u001B[1;32m    300\u001B[0m main_loop \u001B[38;5;241m=\u001B[39m ExecutionLoop(\n\u001B[1;32m    301\u001B[0m     name\u001B[38;5;241m=\u001B[39msetup\u001B[38;5;241m.\u001B[39mname,\n\u001B[1;32m    302\u001B[0m     command_queue\u001B[38;5;241m=\u001B[39mQueue(),\n\u001B[0;32m   (...)\u001B[0m\n\u001B[1;32m    319\u001B[0m     trade_immediately\u001B[38;5;241m=\u001B[39m\u001B[38;5;28;01mTrue\u001B[39;00m,\n\u001B[1;32m    320\u001B[0m )\n\u001B[0;32m--> 322\u001B[0m debug_dump \u001B[38;5;241m=\u001B[39m \u001B[43mmain_loop\u001B[49m\u001B[38;5;241;43m.\u001B[39;49m\u001B[43mrun\u001B[49m\u001B[43m(\u001B[49m\u001B[43m)\u001B[49m\n\u001B[1;32m    324\u001B[0m \u001B[38;5;28;01mreturn\u001B[39;00m setup\u001B[38;5;241m.\u001B[39mstate, debug_dump\n",
      "File \u001B[0;32m~/code/executor/trade-executor/tradeexecutor/cli/loop.py:398\u001B[0m, in \u001B[0;36mExecutionLoop.run\u001B[0;34m(self)\u001B[0m\n\u001B[1;32m    394\u001B[0m \u001B[38;5;28;01massert\u001B[39;00m \u001B[38;5;28mself\u001B[39m\u001B[38;5;241m.\u001B[39mcycle_duration \u001B[38;5;129;01mis\u001B[39;00m \u001B[38;5;129;01mnot\u001B[39;00m \u001B[38;5;28;01mNone\u001B[39;00m, \u001B[38;5;124m\"\u001B[39m\u001B[38;5;124mDid not get strategy cycle duration from constructor or strategy run description\u001B[39m\u001B[38;5;124m\"\u001B[39m\n\u001B[1;32m    396\u001B[0m \u001B[38;5;28;01mif\u001B[39;00m \u001B[38;5;28mself\u001B[39m\u001B[38;5;241m.\u001B[39mbacktest_start:\n\u001B[1;32m    397\u001B[0m     \u001B[38;5;66;03m# Walk through backtesting range\u001B[39;00m\n\u001B[0;32m--> 398\u001B[0m     \u001B[38;5;28;01mreturn\u001B[39;00m \u001B[38;5;28;43mself\u001B[39;49m\u001B[38;5;241;43m.\u001B[39;49m\u001B[43mrun_backtest\u001B[49m\u001B[43m(\u001B[49m\u001B[43mstate\u001B[49m\u001B[43m)\u001B[49m\n\u001B[1;32m    399\u001B[0m \u001B[38;5;28;01melse\u001B[39;00m:\n\u001B[1;32m    400\u001B[0m     \u001B[38;5;28;01mreturn\u001B[39;00m \u001B[38;5;28mself\u001B[39m\u001B[38;5;241m.\u001B[39mrun_live(state)\n",
      "File \u001B[0;32m~/code/executor/trade-executor/tradeexecutor/cli/loop.py:240\u001B[0m, in \u001B[0;36mExecutionLoop.run_backtest\u001B[0;34m(self, state)\u001B[0m\n\u001B[1;32m    236\u001B[0m friendly_end \u001B[38;5;241m=\u001B[39m \u001B[38;5;28mself\u001B[39m\u001B[38;5;241m.\u001B[39mbacktest_end\u001B[38;5;241m.\u001B[39mstrftime(ts_format)\n\u001B[1;32m    238\u001B[0m seconds \u001B[38;5;241m=\u001B[39m \u001B[38;5;28mint\u001B[39m(\u001B[38;5;28mrange\u001B[39m\u001B[38;5;241m.\u001B[39mtotal_seconds())\n\u001B[0;32m--> 240\u001B[0m \u001B[38;5;28;43mself\u001B[39;49m\u001B[38;5;241;43m.\u001B[39;49m\u001B[43mwarm_up_backtest\u001B[49m\u001B[43m(\u001B[49m\u001B[43m)\u001B[49m\n\u001B[1;32m    242\u001B[0m \u001B[38;5;28;01mwith\u001B[39;00m tqdm(total\u001B[38;5;241m=\u001B[39mseconds) \u001B[38;5;28;01mas\u001B[39;00m progress_bar:\n\u001B[1;32m    243\u001B[0m     \u001B[38;5;28;01mwhile\u001B[39;00m \u001B[38;5;28;01mTrue\u001B[39;00m:\n",
      "File \u001B[0;32m~/code/executor/trade-executor/tradeexecutor/cli/loop.py:219\u001B[0m, in \u001B[0;36mExecutionLoop.warm_up_backtest\u001B[0;34m(self)\u001B[0m\n\u001B[1;32m    214\u001B[0m \u001B[38;5;124;03m\"\"\"Load backtesting trading universe.\u001B[39;00m\n\u001B[1;32m    215\u001B[0m \n\u001B[1;32m    216\u001B[0m \u001B[38;5;124;03mDisplay progress bars for downlaod.\u001B[39;00m\n\u001B[1;32m    217\u001B[0m \u001B[38;5;124;03m\"\"\"\u001B[39;00m\n\u001B[1;32m    218\u001B[0m logger\u001B[38;5;241m.\u001B[39minfo(\u001B[38;5;124m\"\u001B[39m\u001B[38;5;124mWarming up backesting\u001B[39m\u001B[38;5;124m\"\u001B[39m)\n\u001B[0;32m--> 219\u001B[0m \u001B[38;5;28;43mself\u001B[39;49m\u001B[38;5;241;43m.\u001B[39;49m\u001B[43muniverse_model\u001B[49m\u001B[38;5;241;43m.\u001B[39;49m\u001B[43mpreload_universe\u001B[49m\u001B[43m(\u001B[49m\u001B[43m)\u001B[49m\n",
      "File \u001B[0;32m~/code/executor/trade-executor/tradeexecutor/strategy/trading_strategy_universe.py:354\u001B[0m, in \u001B[0;36mDefaultTradingStrategyUniverseModel.preload_universe\u001B[0;34m(self)\u001B[0m\n\u001B[1;32m    347\u001B[0m \u001B[38;5;124;03m\"\"\"Triggered before backtesting execution.\u001B[39;00m\n\u001B[1;32m    348\u001B[0m \n\u001B[1;32m    349\u001B[0m \u001B[38;5;124;03m- Load all datasets with progress bar display.\u001B[39;00m\n\u001B[1;32m    350\u001B[0m \n\u001B[1;32m    351\u001B[0m \u001B[38;5;124;03m- Not triggered in live trading, as universe changes between cycles\u001B[39;00m\n\u001B[1;32m    352\u001B[0m \u001B[38;5;124;03m\"\"\"\u001B[39;00m\n\u001B[1;32m    353\u001B[0m \u001B[38;5;28;01mwith\u001B[39;00m \u001B[38;5;28mself\u001B[39m\u001B[38;5;241m.\u001B[39mexecution_context\u001B[38;5;241m.\u001B[39mtimed_task_context_manager(task_name\u001B[38;5;241m=\u001B[39m\u001B[38;5;124m\"\u001B[39m\u001B[38;5;124mpreload_universe\u001B[39m\u001B[38;5;124m\"\u001B[39m):\n\u001B[0;32m--> 354\u001B[0m     \u001B[43mpreload_data\u001B[49m\u001B[43m(\u001B[49m\n\u001B[1;32m    355\u001B[0m \u001B[43m        \u001B[49m\u001B[38;5;28;43mself\u001B[39;49m\u001B[38;5;241;43m.\u001B[39;49m\u001B[43mclient\u001B[49m\u001B[43m,\u001B[49m\n\u001B[1;32m    356\u001B[0m \u001B[43m        \u001B[49m\u001B[38;5;28;43mself\u001B[39;49m\u001B[38;5;241;43m.\u001B[39;49m\u001B[43mcreate_trading_universe\u001B[49m\u001B[43m,\u001B[49m\n\u001B[1;32m    357\u001B[0m \u001B[43m        \u001B[49m\u001B[43mcandle_time_frame_override\u001B[49m\u001B[38;5;241;43m=\u001B[39;49m\u001B[38;5;28;43mself\u001B[39;49m\u001B[38;5;241;43m.\u001B[39;49m\u001B[43mcandle_time_frame_override\u001B[49m\u001B[43m)\u001B[49m\n",
      "File \u001B[0;32m~/code/executor/trade-executor/tradeexecutor/backtest/data_preload.py:37\u001B[0m, in \u001B[0;36mpreload_data\u001B[0;34m(client, create_trading_universe, candle_time_frame_override)\u001B[0m\n\u001B[1;32m     30\u001B[0m client\u001B[38;5;241m.\u001B[39mtransport\u001B[38;5;241m.\u001B[39mdownload_func \u001B[38;5;241m=\u001B[39m download_with_tqdm_progress_bar\n\u001B[1;32m     32\u001B[0m execution_context \u001B[38;5;241m=\u001B[39m ExecutionContext(\n\u001B[1;32m     33\u001B[0m     mode\u001B[38;5;241m=\u001B[39mExecutionMode\u001B[38;5;241m.\u001B[39mdata_preload,\n\u001B[1;32m     34\u001B[0m     timed_task_context_manager\u001B[38;5;241m=\u001B[39mtimed_task,\n\u001B[1;32m     35\u001B[0m )\n\u001B[0;32m---> 37\u001B[0m \u001B[43mcreate_trading_universe\u001B[49m\u001B[43m(\u001B[49m\n\u001B[1;32m     38\u001B[0m \u001B[43m    \u001B[49m\u001B[43mpd\u001B[49m\u001B[38;5;241;43m.\u001B[39;49m\u001B[43mTimestamp\u001B[49m\u001B[38;5;241;43m.\u001B[39;49m\u001B[43mnow\u001B[49m\u001B[43m(\u001B[49m\u001B[43m)\u001B[49m\u001B[43m,\u001B[49m\n\u001B[1;32m     39\u001B[0m \u001B[43m    \u001B[49m\u001B[43mclient\u001B[49m\u001B[43m,\u001B[49m\n\u001B[1;32m     40\u001B[0m \u001B[43m    \u001B[49m\u001B[43mexecution_context\u001B[49m\u001B[43m,\u001B[49m\n\u001B[1;32m     41\u001B[0m \u001B[43m    \u001B[49m\u001B[43mcandle_time_frame_override\u001B[49m\u001B[38;5;241;43m=\u001B[39;49m\u001B[43mcandle_time_frame_override\u001B[49m\u001B[43m,\u001B[49m\n\u001B[1;32m     42\u001B[0m \u001B[43m\u001B[49m\u001B[43m)\u001B[49m\n",
      "Input \u001B[0;32mIn [14]\u001B[0m, in \u001B[0;36mcreate_trading_universe\u001B[0;34m(ts, client, execution_context, candle_time_frame_override)\u001B[0m\n\u001B[1;32m     13\u001B[0m \u001B[38;5;124;03m\"\"\"Creates the trading universe where the strategy trades.\u001B[39;00m\n\u001B[1;32m     14\u001B[0m \n\u001B[1;32m     15\u001B[0m \u001B[38;5;124;03mIf `execution_context.live_trading` is true then this function is called for\u001B[39;00m\n\u001B[0;32m   (...)\u001B[0m\n\u001B[1;32m     42\u001B[0m \u001B[38;5;124;03m    usually stablecoin, we use for the strategy.\u001B[39;00m\n\u001B[1;32m     43\u001B[0m \u001B[38;5;124;03m\"\"\"\u001B[39;00m\n\u001B[1;32m     45\u001B[0m \u001B[38;5;66;03m# Load all datas we can get for our candle time bucket\u001B[39;00m\n\u001B[0;32m---> 46\u001B[0m dataset \u001B[38;5;241m=\u001B[39m \u001B[43mload_all_data\u001B[49m\u001B[43m(\u001B[49m\u001B[43mclient\u001B[49m\u001B[43m,\u001B[49m\u001B[43m \u001B[49m\u001B[43mcandle_time_bucket\u001B[49m\u001B[43m,\u001B[49m\u001B[43m \u001B[49m\u001B[43mexecution_context\u001B[49m\u001B[43m)\u001B[49m\n\u001B[1;32m     48\u001B[0m \u001B[38;5;66;03m# Filter down to the single pair we are interested in\u001B[39;00m\n\u001B[1;32m     49\u001B[0m universe \u001B[38;5;241m=\u001B[39m TradingStrategyUniverse\u001B[38;5;241m.\u001B[39mcreate_single_pair_universe(\n\u001B[1;32m     50\u001B[0m     dataset,\n\u001B[1;32m     51\u001B[0m     chain_id,\n\u001B[0;32m   (...)\u001B[0m\n\u001B[1;32m     54\u001B[0m     trading_pair[\u001B[38;5;241m1\u001B[39m],\n\u001B[1;32m     55\u001B[0m )\n",
      "File \u001B[0;32m~/code/executor/trade-executor/tradeexecutor/strategy/trading_strategy_universe.py:492\u001B[0m, in \u001B[0;36mload_all_data\u001B[0;34m(client, time_frame, execution_context)\u001B[0m\n\u001B[1;32m    490\u001B[0m exchanges \u001B[38;5;241m=\u001B[39m client\u001B[38;5;241m.\u001B[39mfetch_exchange_universe()\n\u001B[1;32m    491\u001B[0m pairs \u001B[38;5;241m=\u001B[39m client\u001B[38;5;241m.\u001B[39mfetch_pair_universe()\u001B[38;5;241m.\u001B[39mto_pandas()\n\u001B[0;32m--> 492\u001B[0m candles \u001B[38;5;241m=\u001B[39m \u001B[43mclient\u001B[49m\u001B[38;5;241;43m.\u001B[39;49m\u001B[43mfetch_all_candles\u001B[49m\u001B[43m(\u001B[49m\u001B[43mtime_frame\u001B[49m\u001B[43m)\u001B[49m\u001B[38;5;241m.\u001B[39mto_pandas()\n\u001B[1;32m    493\u001B[0m liquidity \u001B[38;5;241m=\u001B[39m client\u001B[38;5;241m.\u001B[39mfetch_all_liquidity_samples(time_frame)\u001B[38;5;241m.\u001B[39mto_pandas()\n\u001B[1;32m    494\u001B[0m \u001B[38;5;28;01mreturn\u001B[39;00m Dataset(\n\u001B[1;32m    495\u001B[0m     time_bucket\u001B[38;5;241m=\u001B[39mtime_frame,\n\u001B[1;32m    496\u001B[0m     exchanges\u001B[38;5;241m=\u001B[39mexchanges,\n\u001B[0;32m   (...)\u001B[0m\n\u001B[1;32m    499\u001B[0m     liquidity\u001B[38;5;241m=\u001B[39mliquidity,\n\u001B[1;32m    500\u001B[0m )\n",
      "File \u001B[0;32m~/code/executor/trade-executor/deps/trading-strategy/tradingstrategy/client.py:65\u001B[0m, in \u001B[0;36m_retry_corrupted_parquet_fetch.<locals>.impl\u001B[0;34m(self, *method_args, **method_kwargs)\u001B[0m\n\u001B[1;32m     63\u001B[0m \u001B[38;5;28;01mwhile\u001B[39;00m attempts \u001B[38;5;241m>\u001B[39m \u001B[38;5;241m0\u001B[39m:\n\u001B[1;32m     64\u001B[0m     \u001B[38;5;28;01mtry\u001B[39;00m:\n\u001B[0;32m---> 65\u001B[0m         \u001B[38;5;28;01mreturn\u001B[39;00m \u001B[43mmethod\u001B[49m\u001B[43m(\u001B[49m\u001B[38;5;28;43mself\u001B[39;49m\u001B[43m,\u001B[49m\u001B[43m \u001B[49m\u001B[38;5;241;43m*\u001B[39;49m\u001B[43mmethod_args\u001B[49m\u001B[43m,\u001B[49m\u001B[43m \u001B[49m\u001B[38;5;241;43m*\u001B[39;49m\u001B[38;5;241;43m*\u001B[39;49m\u001B[43mmethod_kwargs\u001B[49m\u001B[43m)\u001B[49m\n\u001B[1;32m     66\u001B[0m     \u001B[38;5;66;03m# TODO: Build expection list over the time by\u001B[39;00m\n\u001B[1;32m     67\u001B[0m     \u001B[38;5;66;03m# observing issues in production\u001B[39;00m\n\u001B[1;32m     68\u001B[0m     \u001B[38;5;28;01mexcept\u001B[39;00m \u001B[38;5;167;01mOSError\u001B[39;00m \u001B[38;5;28;01mas\u001B[39;00m e:\n\u001B[1;32m     69\u001B[0m         \u001B[38;5;66;03m# This happens when we download Parquet file, but it is missing half\u001B[39;00m\n\u001B[1;32m     70\u001B[0m         \u001B[38;5;66;03m# e.g. due to interrupted download\u001B[39;00m\n",
      "File \u001B[0;32m~/code/executor/trade-executor/deps/trading-strategy/tradingstrategy/client.py:164\u001B[0m, in \u001B[0;36mClient.fetch_all_candles\u001B[0;34m(self, bucket)\u001B[0m\n\u001B[1;32m    151\u001B[0m \u001B[38;5;129m@_retry_corrupted_parquet_fetch\u001B[39m\n\u001B[1;32m    152\u001B[0m \u001B[38;5;28;01mdef\u001B[39;00m \u001B[38;5;21mfetch_all_candles\u001B[39m(\u001B[38;5;28mself\u001B[39m, bucket: TimeBucket) \u001B[38;5;241m-\u001B[39m\u001B[38;5;241m>\u001B[39m pyarrow\u001B[38;5;241m.\u001B[39mTable:\n\u001B[1;32m    153\u001B[0m     \u001B[38;5;124;03m\"\"\"Get cached blob of candle data of a certain candle width.\u001B[39;00m\n\u001B[1;32m    154\u001B[0m \n\u001B[1;32m    155\u001B[0m \u001B[38;5;124;03m    The returned data can be between several hundreds of megabytes to several gigabytes\u001B[39;00m\n\u001B[0;32m   (...)\u001B[0m\n\u001B[1;32m    162\u001B[0m \u001B[38;5;124;03m    If the download seems to be corrupted, it will be attempted 3 times.\u001B[39;00m\n\u001B[1;32m    163\u001B[0m \u001B[38;5;124;03m    \"\"\"\u001B[39;00m\n\u001B[0;32m--> 164\u001B[0m     path \u001B[38;5;241m=\u001B[39m \u001B[38;5;28;43mself\u001B[39;49m\u001B[38;5;241;43m.\u001B[39;49m\u001B[43mtransport\u001B[49m\u001B[38;5;241;43m.\u001B[39;49m\u001B[43mfetch_candles_all_time\u001B[49m\u001B[43m(\u001B[49m\u001B[43mbucket\u001B[49m\u001B[43m)\u001B[49m\n\u001B[1;32m    165\u001B[0m     \u001B[38;5;28;01mreturn\u001B[39;00m read_parquet(path)\n",
      "File \u001B[0;32m~/code/executor/trade-executor/deps/trading-strategy/tradingstrategy/transport/cache.py:177\u001B[0m, in \u001B[0;36mCachedHTTPTransport.fetch_candles_all_time\u001B[0;34m(self, bucket)\u001B[0m\n\u001B[1;32m    175\u001B[0m \u001B[38;5;66;03m# Download save the file\u001B[39;00m\n\u001B[1;32m    176\u001B[0m path \u001B[38;5;241m=\u001B[39m \u001B[38;5;28mself\u001B[39m\u001B[38;5;241m.\u001B[39mget_cached_file_path(fname)\n\u001B[0;32m--> 177\u001B[0m \u001B[38;5;28;43mself\u001B[39;49m\u001B[38;5;241;43m.\u001B[39;49m\u001B[43msave_response\u001B[49m\u001B[43m(\u001B[49m\u001B[43mpath\u001B[49m\u001B[43m,\u001B[49m\u001B[43m \u001B[49m\u001B[38;5;124;43m\"\u001B[39;49m\u001B[38;5;124;43mcandles-all\u001B[39;49m\u001B[38;5;124;43m\"\u001B[39;49m\u001B[43m,\u001B[49m\u001B[43m \u001B[49m\u001B[43mparams\u001B[49m\u001B[38;5;241;43m=\u001B[39;49m\u001B[43m{\u001B[49m\u001B[38;5;124;43m\"\u001B[39;49m\u001B[38;5;124;43mbucket\u001B[39;49m\u001B[38;5;124;43m\"\u001B[39;49m\u001B[43m:\u001B[49m\u001B[43m \u001B[49m\u001B[43mbucket\u001B[49m\u001B[38;5;241;43m.\u001B[39;49m\u001B[43mvalue\u001B[49m\u001B[43m}\u001B[49m\u001B[43m,\u001B[49m\u001B[43m \u001B[49m\u001B[43mhuman_readable_hint\u001B[49m\u001B[38;5;241;43m=\u001B[39;49m\u001B[38;5;124;43mf\u001B[39;49m\u001B[38;5;124;43m\"\u001B[39;49m\u001B[38;5;124;43mDownloading OHLCV data for \u001B[39;49m\u001B[38;5;132;43;01m{\u001B[39;49;00m\u001B[43mbucket\u001B[49m\u001B[38;5;241;43m.\u001B[39;49m\u001B[43mvalue\u001B[49m\u001B[38;5;132;43;01m}\u001B[39;49;00m\u001B[38;5;124;43m time bucket\u001B[39;49m\u001B[38;5;124;43m\"\u001B[39;49m\u001B[43m)\u001B[49m\n\u001B[1;32m    178\u001B[0m \u001B[38;5;28;01mreturn\u001B[39;00m \u001B[38;5;28mself\u001B[39m\u001B[38;5;241m.\u001B[39mget_cached_item(path)\n",
      "File \u001B[0;32m~/code/executor/trade-executor/deps/trading-strategy/tradingstrategy/transport/cache.py:131\u001B[0m, in \u001B[0;36mCachedHTTPTransport.save_response\u001B[0;34m(self, fpath, api_path, params, human_readable_hint)\u001B[0m\n\u001B[1;32m    129\u001B[0m logger\u001B[38;5;241m.\u001B[39mdebug(\u001B[38;5;124m\"\u001B[39m\u001B[38;5;124mSaving \u001B[39m\u001B[38;5;132;01m%s\u001B[39;00m\u001B[38;5;124m to \u001B[39m\u001B[38;5;132;01m%s\u001B[39;00m\u001B[38;5;124m\"\u001B[39m, url, fpath)\n\u001B[1;32m    130\u001B[0m \u001B[38;5;66;03m# https://stackoverflow.com/a/14114741/315168\u001B[39;00m\n\u001B[0;32m--> 131\u001B[0m \u001B[38;5;28;43mself\u001B[39;49m\u001B[38;5;241;43m.\u001B[39;49m\u001B[43mdownload_func\u001B[49m\u001B[43m(\u001B[49m\u001B[38;5;28;43mself\u001B[39;49m\u001B[38;5;241;43m.\u001B[39;49m\u001B[43mrequests\u001B[49m\u001B[43m,\u001B[49m\u001B[43m \u001B[49m\u001B[43mfpath\u001B[49m\u001B[43m,\u001B[49m\u001B[43m \u001B[49m\u001B[43murl\u001B[49m\u001B[43m,\u001B[49m\u001B[43m \u001B[49m\u001B[43mparams\u001B[49m\u001B[43m,\u001B[49m\u001B[43m \u001B[49m\u001B[38;5;28;43mself\u001B[39;49m\u001B[38;5;241;43m.\u001B[39;49m\u001B[43mtimeout\u001B[49m\u001B[43m,\u001B[49m\u001B[43m \u001B[49m\u001B[43mhuman_readable_hint\u001B[49m\u001B[43m)\u001B[49m\n",
      "File \u001B[0;32m~/code/executor/trade-executor/deps/trading-strategy/tradingstrategy/environment/jupyter.py:107\u001B[0m, in \u001B[0;36mdownload_with_tqdm_progress_bar\u001B[0;34m(session, path, url, params, timeout, human_readable_hint)\u001B[0m\n\u001B[1;32m    105\u001B[0m \u001B[38;5;28;01mwith\u001B[39;00m tqdm\u001B[38;5;241m.\u001B[39mwrapattr(r\u001B[38;5;241m.\u001B[39mraw, \u001B[38;5;124m\"\u001B[39m\u001B[38;5;124mread\u001B[39m\u001B[38;5;124m\"\u001B[39m, total\u001B[38;5;241m=\u001B[39mfile_size, desc\u001B[38;5;241m=\u001B[39mdesc) \u001B[38;5;28;01mas\u001B[39;00m r_raw:\n\u001B[1;32m    106\u001B[0m     \u001B[38;5;28;01mwith\u001B[39;00m \u001B[38;5;28mopen\u001B[39m(path, \u001B[38;5;124m\"\u001B[39m\u001B[38;5;124mwb\u001B[39m\u001B[38;5;124m\"\u001B[39m) \u001B[38;5;28;01mas\u001B[39;00m f:\n\u001B[0;32m--> 107\u001B[0m         \u001B[43mshutil\u001B[49m\u001B[38;5;241;43m.\u001B[39;49m\u001B[43mcopyfileobj\u001B[49m\u001B[43m(\u001B[49m\u001B[43mr_raw\u001B[49m\u001B[43m,\u001B[49m\u001B[43m \u001B[49m\u001B[43mf\u001B[49m\u001B[43m)\u001B[49m\n\u001B[1;32m    109\u001B[0m \u001B[38;5;28;01mreturn\u001B[39;00m path\n",
      "File \u001B[0;32m/opt/homebrew/Cellar/python@3.9/3.9.12/Frameworks/Python.framework/Versions/3.9/lib/python3.9/shutil.py:205\u001B[0m, in \u001B[0;36mcopyfileobj\u001B[0;34m(fsrc, fdst, length)\u001B[0m\n\u001B[1;32m    203\u001B[0m fdst_write \u001B[38;5;241m=\u001B[39m fdst\u001B[38;5;241m.\u001B[39mwrite\n\u001B[1;32m    204\u001B[0m \u001B[38;5;28;01mwhile\u001B[39;00m \u001B[38;5;28;01mTrue\u001B[39;00m:\n\u001B[0;32m--> 205\u001B[0m     buf \u001B[38;5;241m=\u001B[39m \u001B[43mfsrc_read\u001B[49m\u001B[43m(\u001B[49m\u001B[43mlength\u001B[49m\u001B[43m)\u001B[49m\n\u001B[1;32m    206\u001B[0m     \u001B[38;5;28;01mif\u001B[39;00m \u001B[38;5;129;01mnot\u001B[39;00m buf:\n\u001B[1;32m    207\u001B[0m         \u001B[38;5;28;01mbreak\u001B[39;00m\n",
      "File \u001B[0;32m~/Library/Caches/pypoetry/virtualenvs/trade-executor-0IMGzMxl-py3.9/lib/python3.9/site-packages/tqdm/utils.py:193\u001B[0m, in \u001B[0;36mCallbackIOWrapper.__init__.<locals>.read\u001B[0;34m(*args, **kwargs)\u001B[0m\n\u001B[1;32m    191\u001B[0m \u001B[38;5;129m@wraps\u001B[39m(func)\n\u001B[1;32m    192\u001B[0m \u001B[38;5;28;01mdef\u001B[39;00m \u001B[38;5;21mread\u001B[39m(\u001B[38;5;241m*\u001B[39margs, \u001B[38;5;241m*\u001B[39m\u001B[38;5;241m*\u001B[39mkwargs):\n\u001B[0;32m--> 193\u001B[0m     data \u001B[38;5;241m=\u001B[39m \u001B[43mfunc\u001B[49m\u001B[43m(\u001B[49m\u001B[38;5;241;43m*\u001B[39;49m\u001B[43margs\u001B[49m\u001B[43m,\u001B[49m\u001B[43m \u001B[49m\u001B[38;5;241;43m*\u001B[39;49m\u001B[38;5;241;43m*\u001B[39;49m\u001B[43mkwargs\u001B[49m\u001B[43m)\u001B[49m\n\u001B[1;32m    194\u001B[0m     callback(\u001B[38;5;28mlen\u001B[39m(data))\n\u001B[1;32m    195\u001B[0m     \u001B[38;5;28;01mreturn\u001B[39;00m data\n",
      "File \u001B[0;32m~/Library/Caches/pypoetry/virtualenvs/trade-executor-0IMGzMxl-py3.9/lib/python3.9/site-packages/urllib3/response.py:522\u001B[0m, in \u001B[0;36mHTTPResponse.read\u001B[0;34m(self, amt, decode_content, cache_content)\u001B[0m\n\u001B[1;32m    520\u001B[0m \u001B[38;5;28;01melse\u001B[39;00m:\n\u001B[1;32m    521\u001B[0m     cache_content \u001B[38;5;241m=\u001B[39m \u001B[38;5;28;01mFalse\u001B[39;00m\n\u001B[0;32m--> 522\u001B[0m     data \u001B[38;5;241m=\u001B[39m \u001B[38;5;28;43mself\u001B[39;49m\u001B[38;5;241;43m.\u001B[39;49m\u001B[43m_fp\u001B[49m\u001B[38;5;241;43m.\u001B[39;49m\u001B[43mread\u001B[49m\u001B[43m(\u001B[49m\u001B[43mamt\u001B[49m\u001B[43m)\u001B[49m \u001B[38;5;28;01mif\u001B[39;00m \u001B[38;5;129;01mnot\u001B[39;00m fp_closed \u001B[38;5;28;01melse\u001B[39;00m \u001B[38;5;124mb\u001B[39m\u001B[38;5;124m\"\u001B[39m\u001B[38;5;124m\"\u001B[39m\n\u001B[1;32m    523\u001B[0m     \u001B[38;5;28;01mif\u001B[39;00m (\n\u001B[1;32m    524\u001B[0m         amt \u001B[38;5;241m!=\u001B[39m \u001B[38;5;241m0\u001B[39m \u001B[38;5;129;01mand\u001B[39;00m \u001B[38;5;129;01mnot\u001B[39;00m data\n\u001B[1;32m    525\u001B[0m     ):  \u001B[38;5;66;03m# Platform-specific: Buggy versions of Python.\u001B[39;00m\n\u001B[0;32m   (...)\u001B[0m\n\u001B[1;32m    531\u001B[0m         \u001B[38;5;66;03m# not properly close the connection in all cases. There is\u001B[39;00m\n\u001B[1;32m    532\u001B[0m         \u001B[38;5;66;03m# no harm in redundantly calling close.\u001B[39;00m\n\u001B[1;32m    533\u001B[0m         \u001B[38;5;28mself\u001B[39m\u001B[38;5;241m.\u001B[39m_fp\u001B[38;5;241m.\u001B[39mclose()\n",
      "File \u001B[0;32m/opt/homebrew/Cellar/python@3.9/3.9.12/Frameworks/Python.framework/Versions/3.9/lib/python3.9/http/client.py:463\u001B[0m, in \u001B[0;36mHTTPResponse.read\u001B[0;34m(self, amt)\u001B[0m\n\u001B[1;32m    460\u001B[0m \u001B[38;5;28;01mif\u001B[39;00m amt \u001B[38;5;129;01mis\u001B[39;00m \u001B[38;5;129;01mnot\u001B[39;00m \u001B[38;5;28;01mNone\u001B[39;00m:\n\u001B[1;32m    461\u001B[0m     \u001B[38;5;66;03m# Amount is given, implement using readinto\u001B[39;00m\n\u001B[1;32m    462\u001B[0m     b \u001B[38;5;241m=\u001B[39m \u001B[38;5;28mbytearray\u001B[39m(amt)\n\u001B[0;32m--> 463\u001B[0m     n \u001B[38;5;241m=\u001B[39m \u001B[38;5;28;43mself\u001B[39;49m\u001B[38;5;241;43m.\u001B[39;49m\u001B[43mreadinto\u001B[49m\u001B[43m(\u001B[49m\u001B[43mb\u001B[49m\u001B[43m)\u001B[49m\n\u001B[1;32m    464\u001B[0m     \u001B[38;5;28;01mreturn\u001B[39;00m \u001B[38;5;28mmemoryview\u001B[39m(b)[:n]\u001B[38;5;241m.\u001B[39mtobytes()\n\u001B[1;32m    465\u001B[0m \u001B[38;5;28;01melse\u001B[39;00m:\n\u001B[1;32m    466\u001B[0m     \u001B[38;5;66;03m# Amount is not given (unbounded read) so we must check self.length\u001B[39;00m\n\u001B[1;32m    467\u001B[0m     \u001B[38;5;66;03m# and self.chunked\u001B[39;00m\n",
      "File \u001B[0;32m/opt/homebrew/Cellar/python@3.9/3.9.12/Frameworks/Python.framework/Versions/3.9/lib/python3.9/http/client.py:507\u001B[0m, in \u001B[0;36mHTTPResponse.readinto\u001B[0;34m(self, b)\u001B[0m\n\u001B[1;32m    502\u001B[0m         b \u001B[38;5;241m=\u001B[39m \u001B[38;5;28mmemoryview\u001B[39m(b)[\u001B[38;5;241m0\u001B[39m:\u001B[38;5;28mself\u001B[39m\u001B[38;5;241m.\u001B[39mlength]\n\u001B[1;32m    504\u001B[0m \u001B[38;5;66;03m# we do not use _safe_read() here because this may be a .will_close\u001B[39;00m\n\u001B[1;32m    505\u001B[0m \u001B[38;5;66;03m# connection, and the user is reading more bytes than will be provided\u001B[39;00m\n\u001B[1;32m    506\u001B[0m \u001B[38;5;66;03m# (for example, reading in 1k chunks)\u001B[39;00m\n\u001B[0;32m--> 507\u001B[0m n \u001B[38;5;241m=\u001B[39m \u001B[38;5;28;43mself\u001B[39;49m\u001B[38;5;241;43m.\u001B[39;49m\u001B[43mfp\u001B[49m\u001B[38;5;241;43m.\u001B[39;49m\u001B[43mreadinto\u001B[49m\u001B[43m(\u001B[49m\u001B[43mb\u001B[49m\u001B[43m)\u001B[49m\n\u001B[1;32m    508\u001B[0m \u001B[38;5;28;01mif\u001B[39;00m \u001B[38;5;129;01mnot\u001B[39;00m n \u001B[38;5;129;01mand\u001B[39;00m b:\n\u001B[1;32m    509\u001B[0m     \u001B[38;5;66;03m# Ideally, we would raise IncompleteRead if the content-length\u001B[39;00m\n\u001B[1;32m    510\u001B[0m     \u001B[38;5;66;03m# wasn't satisfied, but it might break compatibility.\u001B[39;00m\n\u001B[1;32m    511\u001B[0m     \u001B[38;5;28mself\u001B[39m\u001B[38;5;241m.\u001B[39m_close_conn()\n",
      "File \u001B[0;32m/opt/homebrew/Cellar/python@3.9/3.9.12/Frameworks/Python.framework/Versions/3.9/lib/python3.9/socket.py:704\u001B[0m, in \u001B[0;36mSocketIO.readinto\u001B[0;34m(self, b)\u001B[0m\n\u001B[1;32m    702\u001B[0m \u001B[38;5;28;01mwhile\u001B[39;00m \u001B[38;5;28;01mTrue\u001B[39;00m:\n\u001B[1;32m    703\u001B[0m     \u001B[38;5;28;01mtry\u001B[39;00m:\n\u001B[0;32m--> 704\u001B[0m         \u001B[38;5;28;01mreturn\u001B[39;00m \u001B[38;5;28;43mself\u001B[39;49m\u001B[38;5;241;43m.\u001B[39;49m\u001B[43m_sock\u001B[49m\u001B[38;5;241;43m.\u001B[39;49m\u001B[43mrecv_into\u001B[49m\u001B[43m(\u001B[49m\u001B[43mb\u001B[49m\u001B[43m)\u001B[49m\n\u001B[1;32m    705\u001B[0m     \u001B[38;5;28;01mexcept\u001B[39;00m timeout:\n\u001B[1;32m    706\u001B[0m         \u001B[38;5;28mself\u001B[39m\u001B[38;5;241m.\u001B[39m_timeout_occurred \u001B[38;5;241m=\u001B[39m \u001B[38;5;28;01mTrue\u001B[39;00m\n",
      "File \u001B[0;32m/opt/homebrew/Cellar/python@3.9/3.9.12/Frameworks/Python.framework/Versions/3.9/lib/python3.9/ssl.py:1241\u001B[0m, in \u001B[0;36mSSLSocket.recv_into\u001B[0;34m(self, buffer, nbytes, flags)\u001B[0m\n\u001B[1;32m   1237\u001B[0m     \u001B[38;5;28;01mif\u001B[39;00m flags \u001B[38;5;241m!=\u001B[39m \u001B[38;5;241m0\u001B[39m:\n\u001B[1;32m   1238\u001B[0m         \u001B[38;5;28;01mraise\u001B[39;00m \u001B[38;5;167;01mValueError\u001B[39;00m(\n\u001B[1;32m   1239\u001B[0m           \u001B[38;5;124m\"\u001B[39m\u001B[38;5;124mnon-zero flags not allowed in calls to recv_into() on \u001B[39m\u001B[38;5;132;01m%s\u001B[39;00m\u001B[38;5;124m\"\u001B[39m \u001B[38;5;241m%\u001B[39m\n\u001B[1;32m   1240\u001B[0m           \u001B[38;5;28mself\u001B[39m\u001B[38;5;241m.\u001B[39m\u001B[38;5;18m__class__\u001B[39m)\n\u001B[0;32m-> 1241\u001B[0m     \u001B[38;5;28;01mreturn\u001B[39;00m \u001B[38;5;28;43mself\u001B[39;49m\u001B[38;5;241;43m.\u001B[39;49m\u001B[43mread\u001B[49m\u001B[43m(\u001B[49m\u001B[43mnbytes\u001B[49m\u001B[43m,\u001B[49m\u001B[43m \u001B[49m\u001B[43mbuffer\u001B[49m\u001B[43m)\u001B[49m\n\u001B[1;32m   1242\u001B[0m \u001B[38;5;28;01melse\u001B[39;00m:\n\u001B[1;32m   1243\u001B[0m     \u001B[38;5;28;01mreturn\u001B[39;00m \u001B[38;5;28msuper\u001B[39m()\u001B[38;5;241m.\u001B[39mrecv_into(buffer, nbytes, flags)\n",
      "File \u001B[0;32m/opt/homebrew/Cellar/python@3.9/3.9.12/Frameworks/Python.framework/Versions/3.9/lib/python3.9/ssl.py:1099\u001B[0m, in \u001B[0;36mSSLSocket.read\u001B[0;34m(self, len, buffer)\u001B[0m\n\u001B[1;32m   1097\u001B[0m \u001B[38;5;28;01mtry\u001B[39;00m:\n\u001B[1;32m   1098\u001B[0m     \u001B[38;5;28;01mif\u001B[39;00m buffer \u001B[38;5;129;01mis\u001B[39;00m \u001B[38;5;129;01mnot\u001B[39;00m \u001B[38;5;28;01mNone\u001B[39;00m:\n\u001B[0;32m-> 1099\u001B[0m         \u001B[38;5;28;01mreturn\u001B[39;00m \u001B[38;5;28;43mself\u001B[39;49m\u001B[38;5;241;43m.\u001B[39;49m\u001B[43m_sslobj\u001B[49m\u001B[38;5;241;43m.\u001B[39;49m\u001B[43mread\u001B[49m\u001B[43m(\u001B[49m\u001B[38;5;28;43mlen\u001B[39;49m\u001B[43m,\u001B[49m\u001B[43m \u001B[49m\u001B[43mbuffer\u001B[49m\u001B[43m)\u001B[49m\n\u001B[1;32m   1100\u001B[0m     \u001B[38;5;28;01melse\u001B[39;00m:\n\u001B[1;32m   1101\u001B[0m         \u001B[38;5;28;01mreturn\u001B[39;00m \u001B[38;5;28mself\u001B[39m\u001B[38;5;241m.\u001B[39m_sslobj\u001B[38;5;241m.\u001B[39mread(\u001B[38;5;28mlen\u001B[39m)\n",
      "\u001B[0;31mKeyboardInterrupt\u001B[0m: "
     ]
    }
   ],
   "source": [
    "import logging\n",
    "\n",
    "from tradeexecutor.backtest.backtest_runner import run_backtest_inline\n",
    "\n",
    "state, debug_dump = run_backtest_inline(\n",
    "    name=\"Synthetic random data backtest\",\n",
    "    start_at=start_at,\n",
    "    end_at=end_at,\n",
    "    client=client,\n",
    "    cycle_duration=trading_strategy_cycle,\n",
    "    decide_trades=decide_trades,\n",
    "    create_trading_universe=create_trading_universe,\n",
    "    initial_deposit=initial_deposit,\n",
    "    reserve_currency=ReserveCurrency.busd,\n",
    "    trade_routing=TradeRouting.pancakeswap_basic,\n",
    "    log_level=logging.WARNING,\n",
    ")\n",
    "\n",
    "trade_count = len(list(state.portfolio.get_all_trades()))\n",
    "print(f\"Backtesting completed, backtested strategy made {trade_count} trades\")"
   ],
   "metadata": {
    "collapsed": false,
    "pycharm": {
     "name": "#%%\n"
    }
   }
  }
 ],
 "metadata": {
  "kernelspec": {
   "display_name": "Python 3",
   "language": "python",
   "name": "python3"
  },
  "language_info": {
   "codemirror_mode": {
    "name": "ipython",
    "version": 2
   },
   "file_extension": ".py",
   "mimetype": "text/x-python",
   "name": "python",
   "nbconvert_exporter": "python",
   "pygments_lexer": "ipython2",
   "version": "2.7.6"
  }
 },
 "nbformat": 4,
 "nbformat_minor": 0
}