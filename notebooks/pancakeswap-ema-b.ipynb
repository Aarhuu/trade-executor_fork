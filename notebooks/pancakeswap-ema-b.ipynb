{
 "cells": [
  {
   "cell_type": "markdown",
   "metadata": {
    "collapsed": true,
    "pycharm": {
     "name": "#%% md\n"
    }
   },
   "source": [
    "# Single trading pair EMA crossover strategy\n",
    "\n",
    "\n",
    "This is an example notebook how to create and run backtests with\n",
    "[tradeexecutor](https://tradingstrategy.ai/docs/programming/api/execution/index.html) framework.\n",
    "\n",
    "Some highlights of this notebook:\n",
    "\n",
    "* The backtest has all its code within a single Jupyter notebook\n",
    "    - The backtest code and charts are self-contained in a single file\n",
    "    - The example code is easy to read\n",
    "    - Easy to test different functionalities of [tradeexecutor](https://tradingstrategy.ai/docs/programming/api/execution/index.html) library\n",
    "* Runs a backtest for [EMA strategy](https://tradingstrategy.ai/docs/glossary.html#term-EMA) on a single trading pair\n",
    "    - Uses PancakeSwap on BNB chain for trading\n",
    "    - Based on fast EMA and slow EMA\n",
    "    - Depending on the moving average overlap, enters in to a position\n",
    "* You need a [Trading Strategy API key](https://tradingstrategy.ai/trading-view/backtesting) to run the notebook\n",
    "* This backtest is made to demostrate the features\n",
    "    - The strategy may or may not generate any profits, as it is not the purpose of this example\n"
   ]
  },
  {
   "cell_type": "markdown",
   "metadata": {
    "collapsed": false,
    "pycharm": {
     "name": "#%% md\n"
    }
   },
   "source": [
    "## Set up\n",
    "\n",
    "Set up the parameters used in in this strategy backtest study.\n",
    "\n",
    "- Backtested blockchain, exchange and trading pair\n",
    "- Backtesting period\n",
    "- Strategy parameters for EMA crossovers"
   ]
  },
  {
   "cell_type": "code",
   "execution_count": 1,
   "metadata": {
    "collapsed": false,
    "pycharm": {
     "name": "#%%\n"
    }
   },
   "outputs": [],
   "source": [
    "import datetime\n",
    "import pandas as pd\n",
    "\n",
    "from tradingstrategy.chain import ChainId\n",
    "from tradingstrategy.timebucket import TimeBucket\n",
    "from tradeexecutor.strategy.cycle import CycleDuration\n",
    "from tradeexecutor.strategy.strategy_module import StrategyType, TradeRouting, ReserveCurrency\n",
    "\n",
    "# Tell what trade execution engine version this strategy needs to use\n",
    "trading_strategy_engine_version = \"0.1\"\n",
    "\n",
    "# What kind of strategy we are running.\n",
    "# This tells we are going to use\n",
    "trading_strategy_type = StrategyType.managed_positions\n",
    "\n",
    "# How our trades are routed.\n",
    "# PancakeSwap basic routing supports two way trades with BUSD\n",
    "# and three way trades with BUSD-BNB hop.\n",
    "trade_routing = TradeRouting.pancakeswap_basic\n",
    "\n",
    "# How often the strategy performs the decide_trades cycle.\n",
    "# We do it for every 16h.\n",
    "trading_strategy_cycle = CycleDuration.cycle_16h\n",
    "\n",
    "# Strategy keeps its cash in BUSD\n",
    "reserve_currency = ReserveCurrency.busd\n",
    "\n",
    "# Time bucket for our candles\n",
    "candle_time_bucket = TimeBucket.h4\n",
    "\n",
    "# Which chain we are trading\n",
    "chain_id = ChainId.bsc\n",
    "\n",
    "# Which exchange we are trading on.\n",
    "exchange_slug = \"pancakeswap-v2\"\n",
    "\n",
    "# Which trading pair we are trading\n",
    "trading_pair = (\"WBNB\", \"BUSD\")\n",
    "\n",
    "# How much of the cash to put on a single trade\n",
    "position_size = 0.10\n",
    "\n",
    "#\n",
    "# Strategy thinking specific parameter\n",
    "#\n",
    "\n",
    "batch_size = 90\n",
    "\n",
    "slow_ema_candle_count = 39 // 2  # we want 2h candles, thus adjust to th actual candles\n",
    "fast_ema_candle_count = 15 // 2  # we want 2h candles, thus adjust to th actual candles\n",
    "\n",
    "\n",
    "# Range of backtesting and synthetic data generation.\n",
    "# Because we are using synthetic data actual dates do not really matter -\n",
    "# only the duration\n",
    "\n",
    "start_at = datetime.datetime(2021, 11, 1)  # TODO: adjust back to earlier date\n",
    "\n",
    "end_at = datetime.datetime(2022, 1, 1)\n",
    "\n",
    "# Start with 10,000 USD\n",
    "initial_deposit = 10_000\n",
    "\n"
   ]
  },
  {
   "cell_type": "markdown",
   "metadata": {
    "collapsed": false,
    "pycharm": {
     "name": "#%% md\n"
    }
   },
   "source": [
    "## Strategy logic and trade decisions\n",
    "\n",
    "`decide_trades` function decide what trades to take.\n",
    "In this example, we calculate two exponential moving averages\n",
    "(EMAs) and make decisions based on those.\n"
   ]
  },
  {
   "cell_type": "code",
   "execution_count": 2,
   "metadata": {
    "collapsed": false,
    "pycharm": {
     "name": "#%%\n"
    }
   },
   "outputs": [],
   "source": [
    "from typing import List, Dict\n",
    "\n",
    "from pandas_ta.overlap import ema\n",
    "\n",
    "from tradeexecutor.state.visualisation import PlotKind\n",
    "from tradeexecutor.state.trade import TradeExecution\n",
    "from tradeexecutor.strategy.pricing_model import PricingModel\n",
    "from tradeexecutor.strategy.pandas_trader.position_manager import PositionManager\n",
    "from tradeexecutor.state.state import State\n",
    "from tradingstrategy.universe import Universe\n",
    "\n",
    "\n",
    "def decide_trades(\n",
    "        timestamp: pd.Timestamp,\n",
    "        universe: Universe,\n",
    "        state: State,\n",
    "        pricing_model: PricingModel,\n",
    "        cycle_debug_data: Dict) -> List[TradeExecution]:\n",
    "    \"\"\"The brain function to decide the trades on each trading strategy cycle.\n",
    "\n",
    "    - Reads incoming execution state (positions, past trades)\n",
    "\n",
    "    - Reads the current universe (candles)\n",
    "\n",
    "    - Decides what to do next\n",
    "\n",
    "    - Outputs strategy thinking for visualisation and debug messages\n",
    "\n",
    "    :param timestamp:\n",
    "        The Pandas timestamp object for this cycle. Matches\n",
    "        trading_strategy_cycle division.\n",
    "        Always truncated to the zero seconds and minutes, never a real-time clock.\n",
    "\n",
    "    :param universe:\n",
    "        Trading universe that was constructed earlier.\n",
    "\n",
    "    :param state:\n",
    "        The current trade execution state.\n",
    "        Contains current open positions and all previously executed trades, plus output\n",
    "        for statistics, visualisation and diangnostics of the strategy.\n",
    "\n",
    "    :param pricing_model:\n",
    "        Pricing model can tell the buy/sell price of the particular asset at a particular moment.\n",
    "\n",
    "    :param cycle_debug_data:\n",
    "        Python dictionary for various debug variables you can read or set, specific to this trade cycle.\n",
    "        This data is discarded at the end of the trade cycle.\n",
    "\n",
    "    :return:\n",
    "        List of trade instructions in the form of :py:class:`TradeExecution` instances.\n",
    "        The trades can be generated using `position_manager` but strategy could also hand craft its trades.\n",
    "    \"\"\"\n",
    "\n",
    "    # The pair we are trading\n",
    "    pair = universe.pairs.get_single()\n",
    "\n",
    "    # How much cash we have in the hand\n",
    "    cash = state.portfolio.get_current_cash()\n",
    "\n",
    "    # Get OHLCV candles for our trading pair as Pandas Dataframe.\n",
    "    # We could have candles for multiple trading pairs in a different strategy,\n",
    "    # but this strategy only operates on single pair candle.\n",
    "    # We also limit our sample size to N latest candles to speed up calculations.\n",
    "    candles: pd.DataFrame = universe.candles.get_single_pair_data(timestamp, sample_count=batch_size)\n",
    "\n",
    "    # We have data for open, high, close, etc.\n",
    "    # We only operate using candle close values in this strategy.\n",
    "    close = candles[\"close\"]\n",
    "\n",
    "    # Calculate exponential moving averages based on slow and fast sample numbers.\n",
    "    slow_ema_series = ema(close, length=slow_ema_candle_count)\n",
    "    fast_ema_series = ema(close, length=fast_ema_candle_count)\n",
    "\n",
    "    if slow_ema_series is None or fast_ema_series is None:\n",
    "        # Cannot calculate EMA, because\n",
    "        # not enough samples in backtesting\n",
    "        return []\n",
    "\n",
    "    slow_ema = slow_ema_series.iloc[-1]\n",
    "    fast_ema = fast_ema_series.iloc[-1]\n",
    "\n",
    "    LAST5 = slice(-5, None, None)\n",
    "    df2 = pd.DataFrame({\"close\":close, \"slow_EMA\": slow_ema_series, \"fast_EMA\": fast_ema_series})  # TODO: for debug only\n",
    "\n",
    "    # Only consider candles in the current trading cycle (any older candles were just used\n",
    "    # to compute the EMAs).\n",
    "    # TODO: pa se eno nazaj za primerjave! oziroma.. rocno oddelaj to?\n",
    "    import datetime as dt\n",
    "    cycle_len_h = int(trading_strategy_cycle.value.removesuffix(\"h\"))  # TODO: add as class method\n",
    "    eligible_candles = (\n",
    "        (df2.index > (timestamp - dt.timedelta(hours=cycle_len_h)))\n",
    "        & (df2.index >= start_at)\n",
    "    )\n",
    "    df2 = df2[eligible_candles]\n",
    "\n",
    "\n",
    "    df2[\"close_ge_slow_EMA\"] = df2[\"close\"] >= df2[\"slow_EMA\"]\n",
    "    df2[\"close_ge_fast_EMA\"] = df2[\"close\"] >= df2[\"fast_EMA\"]\n",
    "    df2[\"close_lt_any_EMA\"] = (~df2[\"close_ge_slow_EMA\"]) | (~df2[\"close_ge_fast_EMA\"])\n",
    "\n",
    "    # https://stackoverflow.com/questions/41399538/comparing-previous-row-values-in-pandas-dataframe\n",
    "    # use col.shift() ... ali pa diff()  (ker booleane lahko odstevas)\n",
    "\n",
    "    # TODO: compute crossovers, crossunders\n",
    "    # position_manager.state.portfolio.open_positions\n",
    "    # then for position adjust opened_at value and last_token_price\n",
    "    \n",
    "    \n",
    "\n",
    "    # List of any trades we decide on this cycle.\n",
    "    trades = []\n",
    "\n",
    "    # Create a position manager helper class that allows us easily to create\n",
    "    # opening/closing trades for different positions\n",
    "    position_manager = PositionManager(timestamp, universe, state, pricing_model)  # TODO: remove?\n",
    "\n",
    "    from decimal import Decimal\n",
    "    # TODO: compute for all\n",
    "    # also, consider crossovers, crossunders...\n",
    "    for ts, (current_price, *emas, above_slow, above_fast, below_any_ema) in df2.iterrows():\n",
    "        # TODO: adjust position_manager timestamp?\n",
    "        position_manager = PositionManager(ts, universe, state, pricing_model)\n",
    "\n",
    "        if above_slow:\n",
    "            # Entry condition:\n",
    "            # Close price is higher than the slow EMA\n",
    "            if not position_manager.is_any_open():\n",
    "                buy_amount = cash * position_size\n",
    "                new_trade = position_manager.open_1x_long(pair, buy_amount)[0]  # TODO: this is a list?\n",
    "                # TODO: adjustments not needed anymore?\n",
    "                new_trade.opened_at = ts\n",
    "                new_trade.planned_price = current_price\n",
    "                new_trade.planned_quantity = Decimal(buy_amount) / Decimal(current_price)   # TODO: convert to Decimal *before*??\n",
    "                trades.append(new_trade)\n",
    "        elif below_any_ema:\n",
    "            # Exit condition:\n",
    "            # The price drops below either of the moving averages\n",
    "            if position_manager.is_any_open():  # TODO: only if the last is BUY!\n",
    "                open_positions = position_manager.state.portfolio.open_positions\n",
    "                assert len(open_positions) == 1  # We only trade a single pair.\n",
    "                pos = next(iter(open_positions.values()))  \n",
    "                pos_trades = pos.trades\n",
    "\n",
    "                last_trade = next(reversed(pos_trades.values()), None)\n",
    "                if last_trade and last_trade.is_buy():\n",
    "                    new_trades = position_manager.close_all()  # should only be length 1\n",
    "                    assert len(new_trades) == 1\n",
    "                    new_trade = new_trades[0]\n",
    "                    new_trade.opened_at = ts  # TODO: correct porperty?\n",
    "                    new_trade.planned_price = current_price\n",
    "\n",
    "                    # TODO: why does close_all() return a SELL trade with a quantity\n",
    "                    # different than the last BUY quantity?\n",
    "                    # We want to close the position completely, i.e. sell the entire quantity\n",
    "                    new_trade.planned_quantity = -last_trade.planned_quantity\n",
    "                    trades += new_trades\n",
    "                else:\n",
    "                    foo = 10  # just for the breakpoint... we do not close again if a close is already the last trade\n",
    "\n",
    "    # Visualize strategy\n",
    "    # See available Plotly colours here\n",
    "    # https://community.plotly.com/t/plotly-colours-list/11730/3?u=miohtama\n",
    "    visualisation = state.visualisation\n",
    "    visualisation.plot_indicator(timestamp, \"Slow EMA\", PlotKind.technical_indicator_on_price, slow_ema, colour=\"darkblue\")\n",
    "    visualisation.plot_indicator(timestamp, \"Fast EMA\", PlotKind.technical_indicator_on_price, fast_ema, colour=\"#009900\")\n",
    "\n",
    "    return trades"
   ]
  },
  {
   "cell_type": "markdown",
   "metadata": {
    "collapsed": false,
    "pycharm": {
     "name": "#%% md\n"
    }
   },
   "source": []
  },
  {
   "cell_type": "markdown",
   "metadata": {
    "collapsed": false,
    "pycharm": {
     "name": "#%% md\n"
    }
   },
   "source": [
    "## Defining the trading universe\n",
    "\n",
    "We create a trading universe with a single blockchain, exchange and trading pair.\n",
    "For the sake of easier understanding the code, we name this \"Uniswap v2\" like exchange with a single ETH-USDC trading pair.\n",
    "\n",
    "The trading pair contains generated noise-like OHLCV trading data."
   ]
  },
  {
   "cell_type": "code",
   "execution_count": 3,
   "metadata": {
    "collapsed": false,
    "pycharm": {
     "name": "#%%\n"
    }
   },
   "outputs": [],
   "source": [
    "from typing import Optional\n",
    "from tradeexecutor.strategy.trading_strategy_universe import load_all_data, TradingStrategyUniverse\n",
    "from tradeexecutor.strategy.execution_context import ExecutionContext\n",
    "from tradingstrategy.client import Client\n",
    "import datetime\n",
    "\n",
    "def create_trading_universe(\n",
    "        ts: datetime.datetime,\n",
    "        client: Client,\n",
    "        execution_context: ExecutionContext,\n",
    "        candle_time_frame_override: Optional[TimeBucket]=None,\n",
    ") -> TradingStrategyUniverse:\n",
    "    \"\"\"Creates the trading universe where the strategy trades.\n",
    "\n",
    "    If `execution_context.live_trading` is true then this function is called for\n",
    "    every execution cycle. If we are backtesting, then this function is\n",
    "    called only once at the start of backtesting and the `decide_trades`\n",
    "    need to deal with new and deprecated trading pairs.\n",
    "\n",
    "    As we are only trading a single pair, load data for the single pair only.\n",
    "\n",
    "    :param ts:\n",
    "        The timestamp of the trading cycle. For live trading,\n",
    "        `create_trading_universe` is called on every cycle.\n",
    "        For backtesting, it is only called at the start\n",
    "\n",
    "    :param client:\n",
    "        Trading Strategy Python client instance.\n",
    "\n",
    "    :param execution_context:\n",
    "        Information how the strategy is executed. E.g.\n",
    "        if we are live trading or not.\n",
    "\n",
    "    :param candle_timeframe_override:\n",
    "        Allow the backtest framework override what candle size is used to backtest the strategy\n",
    "        without editing the strategy Python source code file.\n",
    "\n",
    "    :return:\n",
    "        This function must return :py:class:`TradingStrategyUniverse` instance\n",
    "        filled with the data for exchanges, pairs and candles needed to decide trades.\n",
    "        The trading universe also contains information about the reserve asset,\n",
    "        usually stablecoin, we use for the strategy.\n",
    "    \"\"\"\n",
    "\n",
    "    # Load all datas we can get for our candle time bucket\n",
    "    dataset = load_all_data(client, candle_time_bucket, execution_context)\n",
    "\n",
    "    # Filter down to the single pair we are interested in\n",
    "    universe = TradingStrategyUniverse.create_single_pair_universe(\n",
    "        dataset,\n",
    "        chain_id,\n",
    "        exchange_slug,\n",
    "        trading_pair[0],\n",
    "        trading_pair[1],\n",
    "    )\n",
    "\n",
    "    return universe"
   ]
  },
  {
   "cell_type": "markdown",
   "metadata": {
    "collapsed": false,
    "pycharm": {
     "name": "#%% md\n"
    }
   },
   "source": [
    "## Set up the market data client\n",
    "\n",
    "The [Trading Strategy market data client](https://tradingstrategy.ai/docs/programming/api/client/index.html)\n",
    "is the Python library responsible for managing the data feeds needed to run the backtest.None\n",
    "\n",
    "We set up the market data client with an API key.\n",
    "\n",
    "[If you do not have an API key yet, you can register one](https://tradingstrategy.ai/trading-view/backtesting)."
   ]
  },
  {
   "cell_type": "code",
   "execution_count": 4,
   "metadata": {
    "collapsed": false,
    "pycharm": {
     "name": "#%%\n"
    }
   },
   "outputs": [
    {
     "name": "stdout",
     "output_type": "stream",
     "text": [
      "Started Trading Strategy in Jupyter notebook environment, configuration is stored in /Users/moo/.tradingstrategy\n"
     ]
    }
   ],
   "source": [
    "from tradingstrategy.client import Client\n",
    "\n",
    "client = Client.create_jupyter_client()"
   ]
  },
  {
   "cell_type": "markdown",
   "metadata": {
    "collapsed": false,
    "pycharm": {
     "name": "#%% md\n"
    }
   },
   "source": [
    "## Run backtest\n",
    "\n",
    "Run backtest using giving trading universe and strategy function.\n",
    "\n",
    "- Running the backtest outputs `state` object that contains all the information\n",
    "on the backtesting position and trades.\n",
    "- The trade execution engine will download the necessary datasets to run the backtest.\n",
    "  The datasets may be large, several gigabytes.\n"
   ]
  },
  {
   "cell_type": "code",
   "execution_count": 5,
   "metadata": {
    "collapsed": false,
    "pycharm": {
     "name": "#%%\n"
    }
   },
   "outputs": [
    {
     "data": {
      "text/plain": "  0%|          | 0/5270400 [00:00<?, ?it/s]",
      "application/vnd.jupyter.widget-view+json": {
       "version_major": 2,
       "version_minor": 0,
       "model_id": "8160459233b04a289d4e822be97218f4"
      }
     },
     "metadata": {},
     "output_type": "display_data"
    },
    {
     "ename": "BacktestExecutionFailed",
     "evalue": "Execution of trade <Sell #2 1.942606322244526045081651358 WBNB at 546.6453857421875> failed.\nTrade type: rebalance.\nWallet base balance: 1.936778503277792461770263364 WBNB.\nWallet quote balance: 9000 BUSD.\nWallet reserve balance: 9000 BUSD.\nExecuted base: -1.942606322244526045081651358 WBNB\nExecuted reserve: 1065.102532715676732181655481 BUSD\nOut of balance: Simulated wallet balance went negative -0.005827818966733583311387994 for token 0xbb4cdb9cbd36b01bd1cbaebf2de08d9173bc095c\n",
     "output_type": "error",
     "traceback": [
      "\u001B[0;31m---------------------------------------------------------------------------\u001B[0m",
      "\u001B[0;31mOutOfSimulatedBalance\u001B[0m                     Traceback (most recent call last)",
      "File \u001B[0;32m~/code/executor/trade-executor/tradeexecutor/backtest/backtest_execution.py:65\u001B[0m, in \u001B[0;36mBacktestExecutionModel.simulate_trade\u001B[0;34m(self, ts, state, trade)\u001B[0m\n\u001B[1;32m     64\u001B[0m \u001B[38;5;28;01melse\u001B[39;00m:\n\u001B[0;32m---> 65\u001B[0m     \u001B[38;5;28;43mself\u001B[39;49m\u001B[38;5;241;43m.\u001B[39;49m\u001B[43mwallet\u001B[49m\u001B[38;5;241;43m.\u001B[39;49m\u001B[43mupdate_balance\u001B[49m\u001B[43m(\u001B[49m\u001B[43mbase\u001B[49m\u001B[38;5;241;43m.\u001B[39;49m\u001B[43maddress\u001B[49m\u001B[43m,\u001B[49m\u001B[43m \u001B[49m\u001B[43mexecuted_quantity\u001B[49m\u001B[43m)\u001B[49m\n\u001B[1;32m     66\u001B[0m     \u001B[38;5;28mself\u001B[39m\u001B[38;5;241m.\u001B[39mwallet\u001B[38;5;241m.\u001B[39mupdate_balance(reserve\u001B[38;5;241m.\u001B[39maddress, executed_reserve)\n",
      "File \u001B[0;32m~/code/executor/trade-executor/tradeexecutor/backtest/simulated_wallet.py:22\u001B[0m, in \u001B[0;36mSimulatedWallet.update_balance\u001B[0;34m(self, token_address, delta)\u001B[0m\n\u001B[1;32m     21\u001B[0m \u001B[38;5;28;01mif\u001B[39;00m new_balance \u001B[38;5;241m<\u001B[39m \u001B[38;5;241m0\u001B[39m:\n\u001B[0;32m---> 22\u001B[0m     \u001B[38;5;28;01mraise\u001B[39;00m OutOfSimulatedBalance(\u001B[38;5;124mf\u001B[39m\u001B[38;5;124m\"\u001B[39m\u001B[38;5;124mSimulated wallet balance went negative \u001B[39m\u001B[38;5;132;01m{\u001B[39;00mnew_balance\u001B[38;5;132;01m}\u001B[39;00m\u001B[38;5;124m for token \u001B[39m\u001B[38;5;132;01m{\u001B[39;00mtoken_address\u001B[38;5;132;01m}\u001B[39;00m\u001B[38;5;124m\"\u001B[39m)\n\u001B[1;32m     23\u001B[0m \u001B[38;5;28mself\u001B[39m\u001B[38;5;241m.\u001B[39mbalances[token_address] \u001B[38;5;241m=\u001B[39m new_balance\n",
      "\u001B[0;31mOutOfSimulatedBalance\u001B[0m: Simulated wallet balance went negative -0.005827818966733583311387994 for token 0xbb4cdb9cbd36b01bd1cbaebf2de08d9173bc095c",
      "\nThe above exception was the direct cause of the following exception:\n",
      "\u001B[0;31mBacktestExecutionFailed\u001B[0m                   Traceback (most recent call last)",
      "Input \u001B[0;32mIn [5]\u001B[0m, in \u001B[0;36m<cell line: 5>\u001B[0;34m()\u001B[0m\n\u001B[1;32m      1\u001B[0m \u001B[38;5;28;01mimport\u001B[39;00m \u001B[38;5;21;01mlogging\u001B[39;00m\n\u001B[1;32m      3\u001B[0m \u001B[38;5;28;01mfrom\u001B[39;00m \u001B[38;5;21;01mtradeexecutor\u001B[39;00m\u001B[38;5;21;01m.\u001B[39;00m\u001B[38;5;21;01mbacktest\u001B[39;00m\u001B[38;5;21;01m.\u001B[39;00m\u001B[38;5;21;01mbacktest_runner\u001B[39;00m \u001B[38;5;28;01mimport\u001B[39;00m run_backtest_inline\n\u001B[0;32m----> 5\u001B[0m state, universe, debug_dump \u001B[38;5;241m=\u001B[39m \u001B[43mrun_backtest_inline\u001B[49m\u001B[43m(\u001B[49m\n\u001B[1;32m      6\u001B[0m \u001B[43m    \u001B[49m\u001B[43mname\u001B[49m\u001B[38;5;241;43m=\u001B[39;49m\u001B[38;5;124;43m\"\u001B[39;49m\u001B[38;5;124;43mBNB/USD fast and slow EMA example\u001B[39;49m\u001B[38;5;124;43m\"\u001B[39;49m\u001B[43m,\u001B[49m\n\u001B[1;32m      7\u001B[0m \u001B[43m    \u001B[49m\u001B[43mstart_at\u001B[49m\u001B[38;5;241;43m=\u001B[39;49m\u001B[43mstart_at\u001B[49m\u001B[43m,\u001B[49m\n\u001B[1;32m      8\u001B[0m \u001B[43m    \u001B[49m\u001B[43mend_at\u001B[49m\u001B[38;5;241;43m=\u001B[39;49m\u001B[43mend_at\u001B[49m\u001B[43m,\u001B[49m\n\u001B[1;32m      9\u001B[0m \u001B[43m    \u001B[49m\u001B[43mclient\u001B[49m\u001B[38;5;241;43m=\u001B[39;49m\u001B[43mclient\u001B[49m\u001B[43m,\u001B[49m\n\u001B[1;32m     10\u001B[0m \u001B[43m    \u001B[49m\u001B[43mcycle_duration\u001B[49m\u001B[38;5;241;43m=\u001B[39;49m\u001B[43mtrading_strategy_cycle\u001B[49m\u001B[43m,\u001B[49m\n\u001B[1;32m     11\u001B[0m \u001B[43m    \u001B[49m\u001B[43mdecide_trades\u001B[49m\u001B[38;5;241;43m=\u001B[39;49m\u001B[43mdecide_trades\u001B[49m\u001B[43m,\u001B[49m\n\u001B[1;32m     12\u001B[0m \u001B[43m    \u001B[49m\u001B[43mcreate_trading_universe\u001B[49m\u001B[38;5;241;43m=\u001B[39;49m\u001B[43mcreate_trading_universe\u001B[49m\u001B[43m,\u001B[49m\n\u001B[1;32m     13\u001B[0m \u001B[43m    \u001B[49m\u001B[43minitial_deposit\u001B[49m\u001B[38;5;241;43m=\u001B[39;49m\u001B[43minitial_deposit\u001B[49m\u001B[43m,\u001B[49m\n\u001B[1;32m     14\u001B[0m \u001B[43m    \u001B[49m\u001B[43mreserve_currency\u001B[49m\u001B[38;5;241;43m=\u001B[39;49m\u001B[43mReserveCurrency\u001B[49m\u001B[38;5;241;43m.\u001B[39;49m\u001B[43mbusd\u001B[49m\u001B[43m,\u001B[49m\n\u001B[1;32m     15\u001B[0m \u001B[43m    \u001B[49m\u001B[43mtrade_routing\u001B[49m\u001B[38;5;241;43m=\u001B[39;49m\u001B[43mTradeRouting\u001B[49m\u001B[38;5;241;43m.\u001B[39;49m\u001B[43mpancakeswap_basic\u001B[49m\u001B[43m,\u001B[49m\n\u001B[1;32m     16\u001B[0m \u001B[43m    \u001B[49m\u001B[43mlog_level\u001B[49m\u001B[38;5;241;43m=\u001B[39;49m\u001B[43mlogging\u001B[49m\u001B[38;5;241;43m.\u001B[39;49m\u001B[43mWARNING\u001B[49m\u001B[43m,\u001B[49m\n\u001B[1;32m     17\u001B[0m \u001B[43m)\u001B[49m\n\u001B[1;32m     19\u001B[0m trade_count \u001B[38;5;241m=\u001B[39m \u001B[38;5;28mlen\u001B[39m(\u001B[38;5;28mlist\u001B[39m(state\u001B[38;5;241m.\u001B[39mportfolio\u001B[38;5;241m.\u001B[39mget_all_trades()))\n\u001B[1;32m     20\u001B[0m \u001B[38;5;28mprint\u001B[39m(\u001B[38;5;124mf\u001B[39m\u001B[38;5;124m\"\u001B[39m\u001B[38;5;124mBacktesting completed, backtested strategy made \u001B[39m\u001B[38;5;132;01m{\u001B[39;00mtrade_count\u001B[38;5;132;01m}\u001B[39;00m\u001B[38;5;124m trades\u001B[39m\u001B[38;5;124m\"\u001B[39m)\n",
      "File \u001B[0;32m~/code/executor/trade-executor/tradeexecutor/backtest/backtest_runner.py:459\u001B[0m, in \u001B[0;36mrun_backtest_inline\u001B[0;34m(start_at, end_at, client, decide_trades, cycle_duration, initial_deposit, reserve_currency, trade_routing, create_trading_universe, universe, routing_model, max_slippage, candle_time_frame, log_level, data_preload, name, *ignore)\u001B[0m\n\u001B[1;32m    436\u001B[0m     pricing_model \u001B[38;5;241m=\u001B[39m \u001B[38;5;28;01mNone\u001B[39;00m\n\u001B[1;32m    438\u001B[0m backtest_setup \u001B[38;5;241m=\u001B[39m BacktestSetup(\n\u001B[1;32m    439\u001B[0m     start_at,\n\u001B[1;32m    440\u001B[0m     end_at,\n\u001B[0;32m   (...)\u001B[0m\n\u001B[1;32m    456\u001B[0m     data_preload\u001B[38;5;241m=\u001B[39mdata_preload,\n\u001B[1;32m    457\u001B[0m )\n\u001B[0;32m--> 459\u001B[0m \u001B[38;5;28;01mreturn\u001B[39;00m \u001B[43mrun_backtest\u001B[49m\u001B[43m(\u001B[49m\u001B[43mbacktest_setup\u001B[49m\u001B[43m,\u001B[49m\u001B[43m \u001B[49m\u001B[43mclient\u001B[49m\u001B[43m)\u001B[49m\n",
      "File \u001B[0;32m~/code/executor/trade-executor/tradeexecutor/backtest/backtest_runner.py:330\u001B[0m, in \u001B[0;36mrun_backtest\u001B[0;34m(setup, client)\u001B[0m\n\u001B[1;32m    306\u001B[0m         \u001B[38;5;28;01mpass\u001B[39;00m\n\u001B[1;32m    308\u001B[0m main_loop \u001B[38;5;241m=\u001B[39m ExecutionLoop(\n\u001B[1;32m    309\u001B[0m     name\u001B[38;5;241m=\u001B[39msetup\u001B[38;5;241m.\u001B[39mname,\n\u001B[1;32m    310\u001B[0m     command_queue\u001B[38;5;241m=\u001B[39mQueue(),\n\u001B[0;32m   (...)\u001B[0m\n\u001B[1;32m    327\u001B[0m     trade_immediately\u001B[38;5;241m=\u001B[39m\u001B[38;5;28;01mTrue\u001B[39;00m,\n\u001B[1;32m    328\u001B[0m )\n\u001B[0;32m--> 330\u001B[0m debug_dump \u001B[38;5;241m=\u001B[39m \u001B[43mmain_loop\u001B[49m\u001B[38;5;241;43m.\u001B[39;49m\u001B[43mrun\u001B[49m\u001B[43m(\u001B[49m\u001B[43m)\u001B[49m\n\u001B[1;32m    332\u001B[0m \u001B[38;5;28;01mreturn\u001B[39;00m setup\u001B[38;5;241m.\u001B[39mstate, backtest_universe, debug_dump\n",
      "File \u001B[0;32m~/code/executor/trade-executor/tradeexecutor/cli/loop.py:462\u001B[0m, in \u001B[0;36mExecutionLoop.run\u001B[0;34m(self)\u001B[0m\n\u001B[1;32m    458\u001B[0m \u001B[38;5;28;01massert\u001B[39;00m \u001B[38;5;28mself\u001B[39m\u001B[38;5;241m.\u001B[39mcycle_duration \u001B[38;5;129;01mis\u001B[39;00m \u001B[38;5;129;01mnot\u001B[39;00m \u001B[38;5;28;01mNone\u001B[39;00m, \u001B[38;5;124m\"\u001B[39m\u001B[38;5;124mDid not get strategy cycle duration from constructor or strategy run description\u001B[39m\u001B[38;5;124m\"\u001B[39m\n\u001B[1;32m    460\u001B[0m \u001B[38;5;28;01mif\u001B[39;00m \u001B[38;5;28mself\u001B[39m\u001B[38;5;241m.\u001B[39mbacktest_start:\n\u001B[1;32m    461\u001B[0m     \u001B[38;5;66;03m# Walk through backtesting range\u001B[39;00m\n\u001B[0;32m--> 462\u001B[0m     \u001B[38;5;28;01mreturn\u001B[39;00m \u001B[38;5;28;43mself\u001B[39;49m\u001B[38;5;241;43m.\u001B[39;49m\u001B[43mrun_backtest\u001B[49m\u001B[43m(\u001B[49m\u001B[43mstate\u001B[49m\u001B[43m)\u001B[49m\n\u001B[1;32m    463\u001B[0m \u001B[38;5;28;01melse\u001B[39;00m:\n\u001B[1;32m    464\u001B[0m     \u001B[38;5;28;01mreturn\u001B[39;00m \u001B[38;5;28mself\u001B[39m\u001B[38;5;241m.\u001B[39mrun_live(state)\n",
      "File \u001B[0;32m~/code/executor/trade-executor/tradeexecutor/cli/loop.py:308\u001B[0m, in \u001B[0;36mExecutionLoop.run_backtest\u001B[0;34m(self, state)\u001B[0m\n\u001B[1;32m    305\u001B[0m progress_bar\u001B[38;5;241m.\u001B[39mset_description(\u001B[38;5;124mf\u001B[39m\u001B[38;5;124m\"\u001B[39m\u001B[38;5;124mBacktesting \u001B[39m\u001B[38;5;132;01m{\u001B[39;00m\u001B[38;5;28mself\u001B[39m\u001B[38;5;241m.\u001B[39mname\u001B[38;5;132;01m}\u001B[39;00m\u001B[38;5;124m, \u001B[39m\u001B[38;5;132;01m{\u001B[39;00mfriendly_start\u001B[38;5;132;01m}\u001B[39;00m\u001B[38;5;124m-\u001B[39m\u001B[38;5;132;01m{\u001B[39;00mfriendly_end\u001B[38;5;132;01m}\u001B[39;00m\u001B[38;5;124m at \u001B[39m\u001B[38;5;132;01m{\u001B[39;00mfriedly_ts\u001B[38;5;132;01m}\u001B[39;00m\u001B[38;5;124m, total \u001B[39m\u001B[38;5;132;01m{\u001B[39;00mtrade_count\u001B[38;5;132;01m:\u001B[39;00m\u001B[38;5;124m,\u001B[39m\u001B[38;5;132;01m}\u001B[39;00m\u001B[38;5;124m trades\u001B[39m\u001B[38;5;124m\"\u001B[39m)\n\u001B[1;32m    307\u001B[0m \u001B[38;5;66;03m# Decide trades and everything for this cycle\u001B[39;00m\n\u001B[0;32m--> 308\u001B[0m universe: TradingStrategyUniverse \u001B[38;5;241m=\u001B[39m \u001B[38;5;28;43mself\u001B[39;49m\u001B[38;5;241;43m.\u001B[39;49m\u001B[43mtick\u001B[49m\u001B[43m(\u001B[49m\u001B[43mts\u001B[49m\u001B[43m,\u001B[49m\u001B[43m \u001B[49m\u001B[43mstate\u001B[49m\u001B[43m,\u001B[49m\u001B[43m \u001B[49m\u001B[43mcycle\u001B[49m\u001B[43m,\u001B[49m\u001B[43m \u001B[49m\u001B[43mlive\u001B[49m\u001B[38;5;241;43m=\u001B[39;49m\u001B[38;5;28;43;01mFalse\u001B[39;49;00m\u001B[43m,\u001B[49m\u001B[43m \u001B[49m\u001B[43mbacktesting_universe\u001B[49m\u001B[38;5;241;43m=\u001B[39;49m\u001B[43muniverse\u001B[49m\u001B[43m)\u001B[49m\n\u001B[1;32m    310\u001B[0m \u001B[38;5;66;03m# Revalue our portfolio\u001B[39;00m\n\u001B[1;32m    311\u001B[0m \u001B[38;5;28mself\u001B[39m\u001B[38;5;241m.\u001B[39mupdate_position_valuations(ts, state, universe)\n",
      "File \u001B[0;32m~/code/executor/trade-executor/tradeexecutor/cli/loop.py:170\u001B[0m, in \u001B[0;36mExecutionLoop.tick\u001B[0;34m(self, unrounded_timestamp, state, cycle, live, backtesting_universe)\u001B[0m\n\u001B[1;32m    167\u001B[0m     \u001B[38;5;28mself\u001B[39m\u001B[38;5;241m.\u001B[39mbacktest_setup(state, universe, \u001B[38;5;28mself\u001B[39m\u001B[38;5;241m.\u001B[39msync_method)\n\u001B[1;32m    169\u001B[0m \u001B[38;5;66;03m# Execute the strategy tick and trades\u001B[39;00m\n\u001B[0;32m--> 170\u001B[0m \u001B[38;5;28;43mself\u001B[39;49m\u001B[38;5;241;43m.\u001B[39;49m\u001B[43mrunner\u001B[49m\u001B[38;5;241;43m.\u001B[39;49m\u001B[43mtick\u001B[49m\u001B[43m(\u001B[49m\u001B[43mts\u001B[49m\u001B[43m,\u001B[49m\u001B[43m \u001B[49m\u001B[43muniverse\u001B[49m\u001B[43m,\u001B[49m\u001B[43m \u001B[49m\u001B[43mstate\u001B[49m\u001B[43m,\u001B[49m\u001B[43m \u001B[49m\u001B[43mdebug_details\u001B[49m\u001B[43m)\u001B[49m\n\u001B[1;32m    172\u001B[0m \u001B[38;5;66;03m# Check that state is good before writing it to the disk\u001B[39;00m\n\u001B[1;32m    173\u001B[0m state\u001B[38;5;241m.\u001B[39mperform_integrity_check()\n",
      "File \u001B[0;32m~/code/executor/trade-executor/tradeexecutor/strategy/runner.py:289\u001B[0m, in \u001B[0;36mStrategyRunner.tick\u001B[0;34m(self, clock, universe, state, debug_details)\u001B[0m\n\u001B[1;32m    284\u001B[0m \u001B[38;5;28;01mwith\u001B[39;00m \u001B[38;5;28mself\u001B[39m\u001B[38;5;241m.\u001B[39mtimed_task_context_manager(\u001B[38;5;124m\"\u001B[39m\u001B[38;5;124mexecute_trades\u001B[39m\u001B[38;5;124m\"\u001B[39m):\n\u001B[1;32m    285\u001B[0m \n\u001B[1;32m    286\u001B[0m     \u001B[38;5;66;03m# Unit tests can turn this flag to make it easier to see why trades fail\u001B[39;00m\n\u001B[1;32m    287\u001B[0m     check_balances \u001B[38;5;241m=\u001B[39m debug_details\u001B[38;5;241m.\u001B[39mget(\u001B[38;5;124m\"\u001B[39m\u001B[38;5;124mcheck_balances\u001B[39m\u001B[38;5;124m\"\u001B[39m, \u001B[38;5;28;01mFalse\u001B[39;00m)\n\u001B[0;32m--> 289\u001B[0m     \u001B[38;5;28;43mself\u001B[39;49m\u001B[38;5;241;43m.\u001B[39;49m\u001B[43mexecution_model\u001B[49m\u001B[38;5;241;43m.\u001B[39;49m\u001B[43mexecute_trades\u001B[49m\u001B[43m(\u001B[49m\n\u001B[1;32m    290\u001B[0m \u001B[43m        \u001B[49m\u001B[43mclock\u001B[49m\u001B[43m,\u001B[49m\n\u001B[1;32m    291\u001B[0m \u001B[43m        \u001B[49m\u001B[43mstate\u001B[49m\u001B[43m,\u001B[49m\n\u001B[1;32m    292\u001B[0m \u001B[43m        \u001B[49m\u001B[43mapproved_trades\u001B[49m\u001B[43m,\u001B[49m\n\u001B[1;32m    293\u001B[0m \u001B[43m        \u001B[49m\u001B[38;5;28;43mself\u001B[39;49m\u001B[38;5;241;43m.\u001B[39;49m\u001B[43mrouting_model\u001B[49m\u001B[43m,\u001B[49m\n\u001B[1;32m    294\u001B[0m \u001B[43m        \u001B[49m\u001B[43mrouting_state\u001B[49m\u001B[43m,\u001B[49m\n\u001B[1;32m    295\u001B[0m \u001B[43m        \u001B[49m\u001B[43mcheck_balances\u001B[49m\u001B[38;5;241;43m=\u001B[39;49m\u001B[43mcheck_balances\u001B[49m\u001B[43m)\u001B[49m\n\u001B[1;32m    297\u001B[0m \u001B[38;5;66;03m# Log output\u001B[39;00m\n\u001B[1;32m    298\u001B[0m \u001B[38;5;28mself\u001B[39m\u001B[38;5;241m.\u001B[39mreport_after_execution(clock, universe, state, debug_details)\n",
      "File \u001B[0;32m~/code/executor/trade-executor/tradeexecutor/backtest/backtest_execution.py:113\u001B[0m, in \u001B[0;36mBacktestExecutionModel.execute_trades\u001B[0;34m(self, ts, state, trades, routing_model, routing_state, check_balances)\u001B[0m\n\u001B[1;32m    105\u001B[0m routing_model\u001B[38;5;241m.\u001B[39msetup_trades(\n\u001B[1;32m    106\u001B[0m     routing_state,\n\u001B[1;32m    107\u001B[0m     trades,\n\u001B[1;32m    108\u001B[0m     check_balances\u001B[38;5;241m=\u001B[39mcheck_balances)\n\u001B[1;32m    110\u001B[0m \u001B[38;5;28;01mfor\u001B[39;00m trade \u001B[38;5;129;01min\u001B[39;00m trades:\n\u001B[1;32m    111\u001B[0m \n\u001B[1;32m    112\u001B[0m     \u001B[38;5;66;03m# 3. Simulate tx broadcast\u001B[39;00m\n\u001B[0;32m--> 113\u001B[0m     executed_quantity, executed_reserve \u001B[38;5;241m=\u001B[39m \u001B[38;5;28;43mself\u001B[39;49m\u001B[38;5;241;43m.\u001B[39;49m\u001B[43msimulate_trade\u001B[49m\u001B[43m(\u001B[49m\u001B[43mts\u001B[49m\u001B[43m,\u001B[49m\u001B[43m \u001B[49m\u001B[43mstate\u001B[49m\u001B[43m,\u001B[49m\u001B[43m \u001B[49m\u001B[43mtrade\u001B[49m\u001B[43m)\u001B[49m\n\u001B[1;32m    115\u001B[0m     \u001B[38;5;66;03m# 4. execution is dummy operation where planned execution becomes actual execution\u001B[39;00m\n\u001B[1;32m    116\u001B[0m     \u001B[38;5;66;03m# Assume we always get the same execution we planned\u001B[39;00m\n\u001B[1;32m    117\u001B[0m     executed_price \u001B[38;5;241m=\u001B[39m \u001B[38;5;28mfloat\u001B[39m(\u001B[38;5;28mabs\u001B[39m(executed_reserve \u001B[38;5;241m/\u001B[39m executed_quantity))\n",
      "File \u001B[0;32m~/code/executor/trade-executor/tradeexecutor/backtest/backtest_execution.py:69\u001B[0m, in \u001B[0;36mBacktestExecutionModel.simulate_trade\u001B[0;34m(self, ts, state, trade)\u001B[0m\n\u001B[1;32m     66\u001B[0m         \u001B[38;5;28mself\u001B[39m\u001B[38;5;241m.\u001B[39mwallet\u001B[38;5;241m.\u001B[39mupdate_balance(reserve\u001B[38;5;241m.\u001B[39maddress, executed_reserve)\n\u001B[1;32m     67\u001B[0m \u001B[38;5;28;01mexcept\u001B[39;00m OutOfSimulatedBalance \u001B[38;5;28;01mas\u001B[39;00m e:\n\u001B[1;32m     68\u001B[0m     \u001B[38;5;66;03m# Better error messages to helping out why backtesting failed\u001B[39;00m\n\u001B[0;32m---> 69\u001B[0m     \u001B[38;5;28;01mraise\u001B[39;00m BacktestExecutionFailed(\n\u001B[1;32m     70\u001B[0m         \u001B[38;5;124mf\u001B[39m\u001B[38;5;124m\"\u001B[39m\u001B[38;5;124mExecution of trade \u001B[39m\u001B[38;5;132;01m{\u001B[39;00mtrade\u001B[38;5;132;01m}\u001B[39;00m\u001B[38;5;124m failed.\u001B[39m\u001B[38;5;130;01m\\n\u001B[39;00m\u001B[38;5;124m\"\u001B[39m\n\u001B[1;32m     71\u001B[0m         \u001B[38;5;124mf\u001B[39m\u001B[38;5;124m\"\u001B[39m\u001B[38;5;124mTrade type: \u001B[39m\u001B[38;5;132;01m{\u001B[39;00mtrade\u001B[38;5;241m.\u001B[39mtrade_type\u001B[38;5;241m.\u001B[39mname\u001B[38;5;132;01m}\u001B[39;00m\u001B[38;5;124m.\u001B[39m\u001B[38;5;130;01m\\n\u001B[39;00m\u001B[38;5;124m\"\u001B[39m\n\u001B[1;32m     72\u001B[0m         \u001B[38;5;124mf\u001B[39m\u001B[38;5;124m\"\u001B[39m\u001B[38;5;124mWallet base balance: \u001B[39m\u001B[38;5;132;01m{\u001B[39;00mbase_balance\u001B[38;5;132;01m}\u001B[39;00m\u001B[38;5;124m \u001B[39m\u001B[38;5;132;01m{\u001B[39;00mbase\u001B[38;5;241m.\u001B[39mtoken_symbol\u001B[38;5;132;01m}\u001B[39;00m\u001B[38;5;124m.\u001B[39m\u001B[38;5;130;01m\\n\u001B[39;00m\u001B[38;5;124m\"\u001B[39m\n\u001B[1;32m     73\u001B[0m         \u001B[38;5;124mf\u001B[39m\u001B[38;5;124m\"\u001B[39m\u001B[38;5;124mWallet quote balance: \u001B[39m\u001B[38;5;132;01m{\u001B[39;00mquote_balance\u001B[38;5;132;01m}\u001B[39;00m\u001B[38;5;124m \u001B[39m\u001B[38;5;132;01m{\u001B[39;00mquote\u001B[38;5;241m.\u001B[39mtoken_symbol\u001B[38;5;132;01m}\u001B[39;00m\u001B[38;5;124m.\u001B[39m\u001B[38;5;130;01m\\n\u001B[39;00m\u001B[38;5;124m\"\u001B[39m\n\u001B[1;32m     74\u001B[0m         \u001B[38;5;124mf\u001B[39m\u001B[38;5;124m\"\u001B[39m\u001B[38;5;124mWallet reserve balance: \u001B[39m\u001B[38;5;132;01m{\u001B[39;00mreserve_balance\u001B[38;5;132;01m}\u001B[39;00m\u001B[38;5;124m \u001B[39m\u001B[38;5;132;01m{\u001B[39;00mreserve\u001B[38;5;241m.\u001B[39mtoken_symbol\u001B[38;5;132;01m}\u001B[39;00m\u001B[38;5;124m.\u001B[39m\u001B[38;5;130;01m\\n\u001B[39;00m\u001B[38;5;124m\"\u001B[39m\n\u001B[1;32m     75\u001B[0m         \u001B[38;5;124mf\u001B[39m\u001B[38;5;124m\"\u001B[39m\u001B[38;5;124mExecuted base: \u001B[39m\u001B[38;5;132;01m{\u001B[39;00mexecuted_quantity\u001B[38;5;132;01m}\u001B[39;00m\u001B[38;5;124m \u001B[39m\u001B[38;5;132;01m{\u001B[39;00mbase\u001B[38;5;241m.\u001B[39mtoken_symbol\u001B[38;5;132;01m}\u001B[39;00m\u001B[38;5;130;01m\\n\u001B[39;00m\u001B[38;5;124m\"\u001B[39m\n\u001B[1;32m     76\u001B[0m         \u001B[38;5;124mf\u001B[39m\u001B[38;5;124m\"\u001B[39m\u001B[38;5;124mExecuted reserve: \u001B[39m\u001B[38;5;132;01m{\u001B[39;00mexecuted_reserve\u001B[38;5;132;01m}\u001B[39;00m\u001B[38;5;124m \u001B[39m\u001B[38;5;132;01m{\u001B[39;00mreserve\u001B[38;5;241m.\u001B[39mtoken_symbol\u001B[38;5;132;01m}\u001B[39;00m\u001B[38;5;130;01m\\n\u001B[39;00m\u001B[38;5;124m\"\u001B[39m\n\u001B[1;32m     77\u001B[0m         \u001B[38;5;124mf\u001B[39m\u001B[38;5;124m\"\u001B[39m\u001B[38;5;124mOut of balance: \u001B[39m\u001B[38;5;132;01m{\u001B[39;00me\u001B[38;5;132;01m}\u001B[39;00m\u001B[38;5;130;01m\\n\u001B[39;00m\u001B[38;5;124m\"\u001B[39m\n\u001B[1;32m     78\u001B[0m     ) \u001B[38;5;28;01mfrom\u001B[39;00m \u001B[38;5;21;01me\u001B[39;00m\n\u001B[1;32m     80\u001B[0m \u001B[38;5;28;01massert\u001B[39;00m \u001B[38;5;28mabs\u001B[39m(executed_quantity) \u001B[38;5;241m>\u001B[39m \u001B[38;5;241m0\u001B[39m\n\u001B[1;32m     81\u001B[0m \u001B[38;5;28;01massert\u001B[39;00m executed_reserve \u001B[38;5;241m>\u001B[39m \u001B[38;5;241m0\u001B[39m\n",
      "\u001B[0;31mBacktestExecutionFailed\u001B[0m: Execution of trade <Sell #2 1.942606322244526045081651358 WBNB at 546.6453857421875> failed.\nTrade type: rebalance.\nWallet base balance: 1.936778503277792461770263364 WBNB.\nWallet quote balance: 9000 BUSD.\nWallet reserve balance: 9000 BUSD.\nExecuted base: -1.942606322244526045081651358 WBNB\nExecuted reserve: 1065.102532715676732181655481 BUSD\nOut of balance: Simulated wallet balance went negative -0.005827818966733583311387994 for token 0xbb4cdb9cbd36b01bd1cbaebf2de08d9173bc095c\n"
     ]
    }
   ],
   "source": [
    "import logging\n",
    "\n",
    "from tradeexecutor.backtest.backtest_runner import run_backtest_inline\n",
    "\n",
    "state, universe, debug_dump = run_backtest_inline(\n",
    "    name=\"BNB/USD fast and slow EMA example\",\n",
    "    start_at=start_at,\n",
    "    end_at=end_at,\n",
    "    client=client,\n",
    "    cycle_duration=trading_strategy_cycle,\n",
    "    decide_trades=decide_trades,\n",
    "    create_trading_universe=create_trading_universe,\n",
    "    initial_deposit=initial_deposit,\n",
    "    reserve_currency=ReserveCurrency.busd,\n",
    "    trade_routing=TradeRouting.pancakeswap_basic,\n",
    "    log_level=logging.WARNING,\n",
    ")\n",
    "\n",
    "trade_count = len(list(state.portfolio.get_all_trades()))\n",
    "print(f\"Backtesting completed, backtested strategy made {trade_count} trades\")"
   ]
  },
  {
   "cell_type": "markdown",
   "metadata": {
    "collapsed": false,
    "pycharm": {
     "name": "#%% md\n"
    }
   },
   "source": [
    "## Examine backtest results\n",
    "\n",
    "Examine `state` that contains all actions the trade executor took.\n",
    "\n",
    "We plot out a chart that shows\n",
    "- The price action\n",
    "- When the strategy made buys or sells"
   ]
  },
  {
   "cell_type": "code",
   "execution_count": null,
   "metadata": {
    "collapsed": false,
    "pycharm": {
     "name": "#%%\n"
    }
   },
   "outputs": [],
   "source": [
    "print(f\"Positions taken: {len(list(state.portfolio.get_all_positions()))}\")\n",
    "print(f\"Trades made: {len(list(state.portfolio.get_all_trades()))}\")"
   ]
  },
  {
   "cell_type": "code",
   "execution_count": null,
   "metadata": {
    "collapsed": false,
    "pycharm": {
     "name": "#%%\n"
    }
   },
   "outputs": [],
   "source": [
    "from tradeexecutor.visual.single_pair import visualise_single_pair\n",
    "\n",
    "figure = visualise_single_pair(\n",
    "    state,\n",
    "    universe.universe.candles,\n",
    "    start_at=start_at,\n",
    "    end_at=end_at)\n",
    "\n",
    "figure.show()"
   ]
  },
  {
   "cell_type": "markdown",
   "metadata": {
    "collapsed": false,
    "pycharm": {
     "name": "#%% md\n"
    }
   },
   "source": [
    "## Benchmarking the strategy performance\n",
    "\n",
    "Here we benchmark the strategy performance against some baseline scenarios.\n",
    "\n",
    "- Buy and hold US dollar\n",
    "- Buy and hold the underlying trading pair base asset\n"
   ]
  },
  {
   "cell_type": "code",
   "execution_count": null,
   "metadata": {
    "collapsed": false,
    "pycharm": {
     "name": "#%%\n"
    }
   },
   "outputs": [],
   "source": [
    "close = universe.universe.candles.get_single_pair_data()[\"close\"]"
   ]
  },
  {
   "cell_type": "code",
   "execution_count": null,
   "metadata": {
    "collapsed": false,
    "pycharm": {
     "name": "#%%\n"
    }
   },
   "outputs": [],
   "source": [
    "from tradeexecutor.visual.benchmark import visualise_benchmark\n",
    "\n",
    "traded_pair = universe.universe.pairs.get_single()\n",
    "\n",
    "fig = visualise_benchmark(\n",
    "    state.name,\n",
    "    portfolio_statistics=state.stats.portfolio,\n",
    "    all_cash=state.portfolio.get_initial_deposit(),\n",
    "    buy_and_hold_asset_name=traded_pair.base_token_symbol,\n",
    "    buy_and_hold_price_series=universe.universe.candles.get_single_pair_data()[\"close\"],\n",
    "    start_at=start_at,\n",
    "    end_at=end_at\n",
    ")\n",
    "\n",
    "fig.show()"
   ]
  },
  {
   "cell_type": "markdown",
   "metadata": {
    "collapsed": false,
    "pycharm": {
     "name": "#%% md\n"
    }
   },
   "source": [
    "## Analysing  the strategy success\n",
    "\n",
    "Here we calculate statistics on how well the strategy performed.\n",
    "\n",
    "- Won/lost trades\n",
    "- Timeline of taken positions with color coding of trade performance\n"
   ]
  },
  {
   "cell_type": "code",
   "execution_count": null,
   "metadata": {
    "collapsed": false,
    "pycharm": {
     "name": "#%%\n"
    }
   },
   "outputs": [],
   "source": [
    "from tradeexecutor.analysis.trade_analyser import build_trade_analysis\n",
    "\n",
    "analysis = build_trade_analysis(state.portfolio)"
   ]
  },
  {
   "cell_type": "markdown",
   "metadata": {
    "collapsed": false,
    "pycharm": {
     "name": "#%% md\n"
    }
   },
   "source": [
    "### Strategy summary\n",
    "\n",
    "Overview of strategy performance\n",
    "\n"
   ]
  },
  {
   "cell_type": "code",
   "execution_count": null,
   "metadata": {
    "collapsed": false,
    "pycharm": {
     "name": "#%%\n"
    }
   },
   "outputs": [],
   "source": [
    "from IPython.core.display_functions import display\n",
    "\n",
    "summary = analysis.calculate_summary_statistics()\n",
    "\n",
    "with pd.option_context(\"display.max_row\", None):\n",
    "    display(summary.to_dataframe())"
   ]
  },
  {
   "cell_type": "markdown",
   "metadata": {
    "collapsed": false,
    "pycharm": {
     "name": "#%% md\n"
    }
   },
   "source": [
    "### Position and trade timeline\n",
    "\n",
    "Display all positions and how much profit they made."
   ]
  },
  {
   "cell_type": "code",
   "execution_count": null,
   "metadata": {
    "collapsed": false,
    "pycharm": {
     "name": "#%%\n"
    }
   },
   "outputs": [],
   "source": [
    "from tradeexecutor.analysis.trade_analyser import expand_timeline\n",
    "\n",
    "timeline = analysis.create_timeline()\n",
    "\n",
    "expanded_timeline, apply_styles = expand_timeline(\n",
    "        universe.universe.exchanges,\n",
    "        universe.universe.pairs,\n",
    "        timeline)\n",
    "\n",
    "# Do not truncate the row output\n",
    "with pd.option_context(\"display.max_row\", None):\n",
    "    display(apply_styles(expanded_timeline))\n"
   ]
  },
  {
   "cell_type": "markdown",
   "metadata": {
    "collapsed": false,
    "pycharm": {
     "name": "#%% md\n"
    }
   },
   "source": [
    "## Finishing notes\n",
    "\n",
    "Print out a line to signal the notebook finished the execution successfully."
   ]
  },
  {
   "cell_type": "code",
   "execution_count": null,
   "metadata": {
    "collapsed": false,
    "pycharm": {
     "name": "#%%\n"
    }
   },
   "outputs": [],
   "source": [
    "print(\"All ok\")"
   ]
  },
  {
   "cell_type": "code",
   "execution_count": null,
   "metadata": {
    "collapsed": false,
    "pycharm": {
     "name": "#%%\n"
    }
   },
   "outputs": [],
   "source": []
  }
 ],
 "metadata": {
  "kernelspec": {
   "display_name": "Python 3.10.5 ('trade-executor-0D_VEULp-py3.10')",
   "language": "python",
   "name": "python3"
  },
  "language_info": {
   "codemirror_mode": {
    "name": "ipython",
    "version": 3
   },
   "file_extension": ".py",
   "mimetype": "text/x-python",
   "name": "python",
   "nbconvert_exporter": "python",
   "pygments_lexer": "ipython3",
   "version": "3.10.5"
  },
  "vscode": {
   "interpreter": {
    "hash": "46a9f87deafece0ec3fb7a09d87e562d28814a590aadc4c135ad702697474266"
   }
  }
 },
 "nbformat": 4,
 "nbformat_minor": 0
}