{
 "cells": [
  {
   "cell_type": "markdown",
   "metadata": {
    "collapsed": true,
    "pycharm": {
     "name": "#%% md\n"
    }
   },
   "source": [
    "# Backtest template\n",
    "\n",
    "This is a template for [Jupyter Notebook](../../glossary.rst#term-Jupyter-notebook) for developing algorithmic trading strategies using\n",
    "[Trading Strategy framework](https://tradingstrategy.ai/docs/index.html).\n",
    "\n",
    "This is an empty backtest that won't do any trades, because it does not contain any trading logic.\n",
    "For examples that contain strategy logic [please see the strategy examples section in the documentation](./index.rst).\n",
    "\n",
    "✂️ ✂️ ✂️ ✂️ ✂️ ✂️ ✂️ ✂️ ✂️\n",
    "\n",
    "## How to use this template\n",
    "\n",
    "Copy-paste this template to your favorite Jupyter Notebook environment.\n",
    "Some examples below.\n",
    "\n",
    "<div class=\"alert alert-info\">\n",
    "    Note\n",
    "    Python version 3.9 or higher is required. Google Colab is currently unsupported.\n",
    "</div>\n",
    "\n",
    "\n",
    "### MyBinder cloud environment\n",
    "\n",
    "- Click *Launch Binder* at the top of this documentation page\n",
    "- Save as\n",
    "\n",
    "### Local development or Visual Studio Code\n",
    "\n",
    "- Read instructions for [local development](../development.rst)\n",
    "- Set up Visual Studio Code with Python environemnt that has *tradeexecutor* package installed\n",
    "- [Download this notebook file from Github](https://github.com/tradingstrategy-ai/docs/blob/master/source/programming/strategy-examples/strategy-template.ipynb)\n",
    " and save locally\n",
    "- Open the template in your Visual Studio Code\n",
    "\n",
    "## End of instructions\n",
    "\n",
    "The actual trading strategy code starts here.\n",
    "After you have successfully run the notebook in your environment you can delete\n",
    "this section and everything above this.\n",
    "\n",
    "✂️ ✂️ ✂️ ✂️ ✂️ ✂️ ✂️ ✂️ ✂️"
   ]
  },
  {
   "cell_type": "markdown",
   "source": [
    "## Strategy parameters\n",
    "\n",
    "In this section we set up parameters for the strategy backtest.\n",
    "\n",
    "For available options see the documentation in relevant Python classes:\n",
    "\n",
    "- [Strategy types](../api/execution/help/tradeexecutor.strategy.strategy_type.StrategyType.rst)\n",
    "- [Blockchains](../api/client/help/tradingstrategy.chain.rst)\n",
    "- [Exchanges](https://tradingstrategy.ai/trading-view/exchanges)\n",
    "- [Trading pairs](https://tradingstrategy.ai/trading-view/trading-pairs)\n",
    "- [Routing methods](../api/execution/help/tradeexecutor.strategy.default_routing_options.TradeRouting.rst)\n",
    "- [Strategy cycles](../api/execution/help/tradeexecutor.strategy.cycle.CycleDuration.rst)\n",
    "- [Candle timeframes a.k.a. candle time buckets](../api/client/help/tradingstrategy.chain.ChainId.rst)\n",
    "- [Reserve currencies](../api/execution/help/tradeexecutor.strategy.reserve_currency.ReserveCurrency.rst)\n",
    "\n",
    "Beyond the options above, we have some self-explanatory parameters like.\n",
    "\n",
    "- Max position size (of cash, or available total equity)\n",
    "- Initial cash at the start of the backtesting period\n",
    "- Backtesting start and end dates"
   ],
   "metadata": {
    "collapsed": false,
    "pycharm": {
     "name": "#%% md\n"
    }
   }
  },
  {
   "cell_type": "code",
   "execution_count": 14,
   "outputs": [],
   "source": [
    "import datetime\n",
    "import pandas as pd\n",
    "\n",
    "from tradingstrategy.chain import ChainId\n",
    "from tradingstrategy.timebucket import TimeBucket\n",
    "from tradeexecutor.strategy.cycle import CycleDuration\n",
    "from tradeexecutor.strategy.strategy_module import StrategyType, TradeRouting, ReserveCurrency\n",
    "\n",
    "# Tell what trade execution engine version this strategy needs to use\n",
    "trading_strategy_engine_version = \"0.1\"\n",
    "\n",
    "backtest_name = \"Your backtest name\"\n",
    "\n",
    "# What kind of strategy type we are running.\n",
    "trading_strategy_type = StrategyType.managed_positions\n",
    "\n",
    "# On which chain we are trading\n",
    "chain_id = ChainId.bsc\n",
    "\n",
    "# How our trades are routed.\n",
    "# PancakeSwap basic routing supports two way trades with BUSD\n",
    "# and three way trades with BUSD-BNB hop.\n",
    "trade_routing = TradeRouting.pancakeswap_basic\n",
    "\n",
    "# How often the strategy performs the decide_trades cycle.\n",
    "# We do it for every 24h.\n",
    "trading_strategy_cycle = CycleDuration.cycle_24h\n",
    "\n",
    "# Strategy keeps its cash as BUSD token\n",
    "reserve_currency = ReserveCurrency.busd\n",
    "\n",
    "# We use daily candles for this strategy\n",
    "candle_time_bucket = TimeBucket.d1\n",
    "\n",
    "# Which exchange we are trading on.\n",
    "exchange_slug = \"pancakeswap-v2\"\n",
    "\n",
    "# Which trading pair we are trading\n",
    "trading_pair = (\"WBNB\", \"BUSD\")\n",
    "\n",
    "# How much of the cash from the strategy treasury\n",
    "# we allocate for a single trade\n",
    "position_size = 0.10\n",
    "\n",
    "# Backtesting range start\n",
    "start_at = datetime.datetime(2021, 6, 1)\n",
    "\n",
    "# Backtesting range end\n",
    "end_at = datetime.datetime(2022, 1, 1)\n",
    "\n",
    "# Start with 10,000 USD\n",
    "initial_deposit = 10_000\n",
    "\n",
    "#\n",
    "# Strategy thinking specific parameter\n",
    "#\n",
    "# TODO: Add your parameters here.\n",
    "#\n",
    "\n",
    "# For backward looking strategies, how many candles we look backwards\n",
    "candle_batch_size = 90\n"
   ],
   "metadata": {
    "collapsed": false,
    "pycharm": {
     "name": "#%%\n"
    }
   }
  },
  {
   "cell_type": "markdown",
   "source": [
    "## Strategy logic\n",
    "\n",
    "The strategy logic is in `decide_trades()` Python function.\n",
    "\n",
    "- This function is called for each [strategy cycle](../../running/architecture.rst#strategy cycle).\n",
    "- The return value of the function is a list of trades that the strategy does for the cycle.\n",
    "- The logic function takes inputs:\n",
    "  * Timestamp is the time of the strategy cycle. This is never real-time clock, but always rounded to the cycle time.\n",
    "  * The function takes the strategy trading universe as an input. This is OHLCV and liquidity data for chosen trading pairs. The additional input includes the current `State` of the strategy execution.\n",
    "  * The function also receives the current `PricingModel` as the input. The pricing model estimates how much it will cost us to open or close positions, in the terms of price impact and transaction fees.\n",
    "  * The function also receives `cycle_debug_data` that strategy developers can use to\n",
    "- The function constructs `PositionManager` helper class to generate trades for different actions (open position, close position, close all positions). You can also use PositionManager to query open positions.\n",
    "- The strategy can further visualise the indicators it uses using `visualisation` instance that is part of the state. This is especially useful during backtesting when one is iterating through different trading ideas and want to see how they behave.\n",
    "\n",
    "If you do not add any logic, the backtest results section will plot the price action\n",
    "for the backtest duration and no positions or trades are made.\n"
   ],
   "metadata": {
    "collapsed": false,
    "pycharm": {
     "name": "#%% md\n"
    }
   }
  },
  {
   "cell_type": "code",
   "execution_count": 15,
   "outputs": [],
   "source": [
    "from typing import List, Dict\n",
    "\n",
    "from tradeexecutor.state.visualisation import PlotKind\n",
    "from tradeexecutor.state.trade import TradeExecution\n",
    "from tradeexecutor.strategy.pricing_model import PricingModel\n",
    "from tradeexecutor.strategy.pandas_trader.position_manager import PositionManager\n",
    "from tradeexecutor.state.state import State\n",
    "from tradingstrategy.universe import Universe\n",
    "\n",
    "\n",
    "def decide_trades(\n",
    "        timestamp: pd.Timestamp,\n",
    "        universe: Universe,\n",
    "        state: State,\n",
    "        pricing_model: PricingModel,\n",
    "        cycle_debug_data: Dict) -> List[TradeExecution]:\n",
    "    \"\"\"The brain function to decide the trades on each trading strategy cycle.\n",
    "\n",
    "    - Reads incoming execution state (positions, past trades)\n",
    "\n",
    "    - Reads the current universe (candles)\n",
    "\n",
    "    - Decides what to do next\n",
    "\n",
    "    - Outputs strategy thinking for visualisation and debug messages\n",
    "\n",
    "    :param timestamp:\n",
    "        The Pandas timestamp object for this strategy cycle. Matches\n",
    "        trading_strategy_cycle division.\n",
    "        Always truncated to the zero seconds and minutes, never a real-time clock.\n",
    "\n",
    "    :param universe:\n",
    "        Trading universe that was constructed earlier.\n",
    "\n",
    "    :param state:\n",
    "        The current trade execution state.\n",
    "        Contains current open positions and all previously executed trades, plus output\n",
    "        for statistics, visualisation and diangnostics of the strategy.\n",
    "\n",
    "    :param pricing_model:\n",
    "        Pricing model can tell the buy/sell price of the particular asset at a particular moment.\n",
    "\n",
    "    :param cycle_debug_data:\n",
    "        Python dictionary for various debug variables you can read or set, specific to this trade cycle.\n",
    "        This data is discarded at the end of the trade cycle.\n",
    "\n",
    "    :return:\n",
    "        List of trade instructions in the form of :py:class:`TradeExecution` instances.\n",
    "        The trades can be generated using `position_manager` but strategy could also hand craft its trades.\n",
    "    \"\"\"\n",
    "\n",
    "    # The pair we are trading\n",
    "    pair = universe.pairs.get_single()\n",
    "\n",
    "    # How much cash we have in the hand\n",
    "    cash = state.portfolio.get_current_cash()\n",
    "\n",
    "    # How much we can afford to spend on opening a position, USD wise=\n",
    "    cash_available_for_trade = cash * position_size\n",
    "\n",
    "    # Get OHLCV candles for our trading pair as Pandas Dataframe.\n",
    "    candles: pd.DataFrame = universe.candles.get_single_pair_data(timestamp, sample_count=candle_batch_size)\n",
    "\n",
    "    # We have data for open, high, close, etc.\n",
    "    # We only operate using candle close values in this strategy.\n",
    "    # This is a Pandas series object\n",
    "    # # https://pandas.pydata.org/docs/reference/api/pandas.Series.iat.html\n",
    "    close = candles[\"close\"]\n",
    "\n",
    "    # Calculate exponential moving averages based on slow and fast sample numbers.\n",
    "\n",
    "    # Get the last close price from OHLCV close time series\n",
    "    current_price = close.iloc[-1]\n",
    "\n",
    "    # List of any trades we decide on this cycle.\n",
    "    # Because the strategy is simple, there can be\n",
    "    # only zero (do nothing) or 1 (open or close) trades\n",
    "    # decides\n",
    "    trades = []\n",
    "\n",
    "    # Create a position manager helper class that allows us easily to create\n",
    "    # opening/closing trades for different positions\n",
    "    position_manager = PositionManager(timestamp, universe, state, pricing_model)\n",
    "\n",
    "    # 💡 💡 💡 💡 💡 💡\n",
    "    # TODO: Add strategy logic here using position manager\n",
    "    # For examples see\n",
    "    # 💡 💡 💡 💡 💡 💡\n",
    "\n",
    "    # Visualize strategy\n",
    "    # See Strategy examples how to plot your technical indicators\n",
    "    # in backtesting output.\n",
    "    # https://tradingstrategy.ai/docs/programming/strategy-examples/index.html\n",
    "    visualisation = state.visualisation\n",
    "\n",
    "    # 💡 💡 💡 💡 💡 💡\n",
    "    # TODO: plot any extra indicators you want here\n",
    "    # 💡 💡 💡 💡 💡 💡\n",
    "\n",
    "    return trades"
   ],
   "metadata": {
    "collapsed": false,
    "pycharm": {
     "name": "#%%\n"
    }
   }
  },
  {
   "cell_type": "markdown",
   "source": [],
   "metadata": {
    "collapsed": false,
    "pycharm": {
     "name": "#%% md\n"
    }
   }
  },
  {
   "cell_type": "markdown",
   "source": [
    "## Trading universe\n",
    "\n",
    "Trading universe tells us what assets our strategy will trade.\n",
    "\n",
    "- Blockchains it trades on\n",
    "- Exchanges it trades on\n",
    "- List of allowed trading pairs\n",
    "\n",
    "In this example, we create a trading universe that contains only a single predefined trading pair.\n",
    "\n",
    "Unless you want to have multipair trading strategy, you do not need to change this function, as it only reads input from *Strategy parameters* section above."
   ],
   "metadata": {
    "collapsed": false,
    "pycharm": {
     "name": "#%% md\n"
    }
   }
  },
  {
   "cell_type": "code",
   "execution_count": 16,
   "outputs": [],
   "source": [
    "from typing import Optional\n",
    "from tradeexecutor.strategy.trading_strategy_universe import load_all_data, TradingStrategyUniverse\n",
    "from tradeexecutor.strategy.execution_context import ExecutionContext\n",
    "from tradingstrategy.client import Client\n",
    "import datetime\n",
    "\n",
    "def create_trading_universe(\n",
    "        ts: datetime.datetime,\n",
    "        client: Client,\n",
    "        execution_context: ExecutionContext,\n",
    "        candle_time_frame_override: Optional[TimeBucket]=None,\n",
    ") -> TradingStrategyUniverse:\n",
    "    \"\"\"Creates the trading universe where the strategy trades.\n",
    "\n",
    "    If `execution_context.live_trading` is true then this function is called for\n",
    "    every execution cycle. If we are backtesting, then this function is\n",
    "    called only once at the start of backtesting and the `decide_trades`\n",
    "    need to deal with new and deprecated trading pairs.\n",
    "\n",
    "    As we are only trading a single pair, load data for the single pair only.\n",
    "\n",
    "    :param ts:\n",
    "        The timestamp of the trading cycle. For live trading,\n",
    "        `create_trading_universe` is called on every cycle.\n",
    "        For backtesting, it is only called at the start\n",
    "\n",
    "    :param client:\n",
    "        Trading Strategy Python client instance.\n",
    "\n",
    "    :param execution_context:\n",
    "        Information how the strategy is executed. E.g.\n",
    "        if we are live trading or not.\n",
    "\n",
    "    :param candle_timeframe_override:\n",
    "        Allow the backtest framework override what candle size is used to backtest the strategy\n",
    "        without editing the strategy Python source code file.\n",
    "\n",
    "    :return:\n",
    "        This function must return :py:class:`TradingStrategyUniverse` instance\n",
    "        filled with the data for exchanges, pairs and candles needed to decide trades.\n",
    "        The trading universe also contains information about the reserve asset,\n",
    "        usually stablecoin, we use for the strategy.\n",
    "    \"\"\"\n",
    "\n",
    "    # Load all datas we can get for our candle time bucket\n",
    "    dataset = load_all_data(client, candle_time_bucket, execution_context)\n",
    "\n",
    "    # Filter down to the single pair we are interested in\n",
    "    universe = TradingStrategyUniverse.create_single_pair_universe(\n",
    "        dataset,\n",
    "        chain_id,\n",
    "        exchange_slug,\n",
    "        trading_pair[0],\n",
    "        trading_pair[1],\n",
    "    )\n",
    "\n",
    "    return universe"
   ],
   "metadata": {
    "collapsed": false,
    "pycharm": {
     "name": "#%%\n"
    }
   }
  },
  {
   "cell_type": "markdown",
   "source": [
    "## Market data client\n",
    "\n",
    "The [Trading Strategy market data client](https://tradingstrategy.ai/docs/programming/api/client/index.html)\n",
    "is the Python library responsible for managing the data feeds needed to run the backtest.None\n",
    "\n",
    "We set up the market data client with an API key.\n",
    "\n",
    "When this notebook is run, you will receive a prompt or a dialog box to enter your API key.\n",
    "After entering the API key once, it is saved on your notebook system in your home folder."
   ],
   "metadata": {
    "collapsed": false,
    "pycharm": {
     "name": "#%% md\n"
    }
   }
  },
  {
   "cell_type": "code",
   "execution_count": 17,
   "outputs": [
    {
     "name": "stdout",
     "output_type": "stream",
     "text": [
      "Started Trading Strategy in Jupyter notebook environment, configuration is stored in /Users/moo/.tradingstrategy\n"
     ]
    }
   ],
   "source": [
    "from tradingstrategy.client import Client\n",
    "\n",
    "client = Client.create_jupyter_client()"
   ],
   "metadata": {
    "collapsed": false,
    "pycharm": {
     "name": "#%%\n"
    }
   }
  },
  {
   "cell_type": "markdown",
   "source": [
    "## Running backtest\n",
    "\n",
    "In this section, the backtest is run using giving trading universe and strategy function.\n",
    "\n",
    "- Running the backtest outputs `state` object that contains all the information\n",
    "on the backtesting position and trades.\n",
    "- The trade execution engine will download the necessary datasets to run the backtest.\n",
    "  The datasets may be large, several gigabytes.\n",
    "\n",
    "Unless you want to customize how backtests are run, you do not need to change this section, as it is only using parameters defined in *Strategy parameters* section above."
   ],
   "metadata": {
    "collapsed": false,
    "pycharm": {
     "name": "#%% md\n"
    }
   }
  },
  {
   "cell_type": "code",
   "execution_count": 18,
   "outputs": [
    {
     "data": {
      "text/plain": "  0%|          | 0/18489600 [00:00<?, ?it/s]",
      "application/vnd.jupyter.widget-view+json": {
       "version_major": 2,
       "version_minor": 0,
       "model_id": "e704228b94fd487386f3f9f45dd4b0c9"
      }
     },
     "metadata": {},
     "output_type": "display_data"
    }
   ],
   "source": [
    "import logging\n",
    "\n",
    "from tradeexecutor.backtest.backtest_runner import run_backtest_inline\n",
    "\n",
    "state, universe, debug_dump = run_backtest_inline(\n",
    "    name=backtest_name,\n",
    "    start_at=start_at,\n",
    "    end_at=end_at,\n",
    "    client=client,\n",
    "    cycle_duration=trading_strategy_cycle,\n",
    "    decide_trades=decide_trades,\n",
    "    create_trading_universe=create_trading_universe,\n",
    "    initial_deposit=initial_deposit,\n",
    "    reserve_currency=reserve_currency,\n",
    "    trade_routing=trade_routing,\n",
    "    log_level=logging.WARNING,\n",
    ")\n"
   ],
   "metadata": {
    "collapsed": false,
    "pycharm": {
     "name": "#%%\n"
    }
   }
  },
  {
   "cell_type": "markdown",
   "source": [
    "## Backtest results\n",
    "\n",
    "In this section, we examine and visualise the performance of the trading strategy\n",
    "based on its backtest results.\n",
    "\n",
    "- We read `state` object that contains all backtesting positions and trades created during the backtest run\n",
    "- Based on these trades, we create various charts ana analysis to understand the strategy performance\n",
    "\n",
    "For analysis options see *strategy performance analysis* section in the documentatio."
   ],
   "metadata": {
    "collapsed": false
   }
  },
  {
   "cell_type": "markdown",
   "source": [
    "### Trade and position count\n",
    "\n",
    "We print out how many (if any) positions and trades was taken by the strategy."
   ],
   "metadata": {
    "collapsed": false,
    "pycharm": {
     "name": "#%% md\n"
    }
   }
  },
  {
   "cell_type": "code",
   "execution_count": 19,
   "outputs": [
    {
     "name": "stdout",
     "output_type": "stream",
     "text": [
      "Backtesting for Your backtest name complete\n",
      "Positions taken: 0\n",
      "Trades made: 0\n"
     ]
    }
   ],
   "source": [
    "print(f\"Backtesting for {backtest_name} complete\")\n",
    "print(f\"Positions taken: {len(list(state.portfolio.get_all_positions()))}\")\n",
    "print(f\"Trades made: {len(list(state.portfolio.get_all_trades()))}\")"
   ],
   "metadata": {
    "collapsed": false,
    "pycharm": {
     "name": "#%%\n"
    }
   }
  },
  {
   "cell_type": "markdown",
   "source": [
    "### Price and trade chart\n",
    "\n",
    "We plot out a chart that shows\n",
    "- The price action\n",
    "- Any technical indicators we used and added to the `visualisation`\n",
    "- When the strategy made buys or sells"
   ],
   "metadata": {
    "collapsed": false,
    "pycharm": {
     "name": "#%% md\n"
    }
   }
  },
  {
   "cell_type": "code",
   "execution_count": 20,
   "outputs": [
    {
     "data": {
      "application/vnd.plotly.v1+json": {
       "data": [
        {
         "close": [
          361.040283203125,
          402.52978515625,
          427.0998229980469,
          392.5729675292969,
          390.399658203125,
          392.3028869628906,
          356.273193359375,
          354.20947265625,
          375.8246154785156,
          352.8206481933594,
          346.469482421875,
          342.65087890625,
          367.4494934082031,
          370.8711242675781,
          368.2753601074219,
          345.185546875,
          352.8303527832031,
          337.21868896484375,
          333.843017578125,
          338.59539794921875,
          272.0257568359375,
          261.6210021972656,
          295.6112976074219,
          308.2738952636719,
          282.4177551269531,
          278.117919921875,
          291.1085510253906,
          290.32073974609375,
          300.9482421875,
          304.4126281738281,
          288.7317810058594,
          286.1551208496094,
          298.48565673828125,
          306.795166015625,
          303.593994140625,
          321.2676696777344,
          326.3189697265625,
          309.3086853027344,
          318.0235290527344,
          316.4435119628906,
          321.1534729003906,
          317.3978576660156,
          307.3564453125,
          307.8727111816406,
          315.8116760253906,
          301.6994323730469,
          299.5464172363281,
          303.6400451660156,
          279.25390625,
          265.5096130371094,
          291.9300537109375,
          293.9367980957031,
          299.44805908203125,
          301.87945556640625,
          303.4867248535156,
          305.3243103027344,
          312.5029602050781,
          312.26226806640625,
          316.28472900390625,
          321.7874755859375,
          333.34735107421875,
          334.32806396484375,
          330.05303955078125,
          322.2367248535156,
          334.2583923339844,
          337.6455078125,
          341.1481018066406,
          356.9450988769531,
          341.138671875,
          355.1736145019531,
          372.39422607421875,
          393.29461669921875,
          385.75311279296875,
          408.8394470214844,
          408.6654968261719,
          414.33734130859375,
          416.03179931640625,
          400.1304626464844,
          396.1277160644531,
          429.136962890625,
          452.67352294921875,
          448.6663818359375,
          450.1016845703125,
          498.6849060058594,
          469.76031494140625,
          501.9546813964844,
          480.3419494628906,
          492.6370849609375,
          484.1666564941406,
          479.615234375,
          459.31494140625,
          463.96392822265625,
          490.2930908203125,
          486.1850280761719,
          485.98272705078125,
          497.5715026855469,
          504.6690673828125,
          497.3810729980469,
          419.38165283203125,
          415.0832824707031,
          419.5381774902344,
          401.746337890625,
          405.043701171875,
          417.9629821777344,
          400.96514892578125,
          414.9289245605469,
          431.2832336425781,
          423.8547058105469,
          404.4737548828125,
          411.5732116699219,
          406.9608459472656,
          362.02008056640625,
          343.0843505859375,
          377.7449035644531,
          382.3274230957031,
          355.5516052246094,
          351.0362548828125,
          343.1218566894531,
          335.4732971191406,
          331.56732177734375,
          366.0201110839844,
          387.3375244140625,
          421.88812255859375,
          428.8414611816406,
          429.70892333984375,
          427.7626953125,
          442.0952453613281,
          436.5747375488281,
          439.3464660644531,
          417.5489501953125,
          422.319580078125,
          405.0426330566406,
          411.31939697265625,
          441.49432373046875,
          468.1252746582031,
          472.45849609375,
          472.59112548828125,
          467.3962097167969,
          468.6142272949219,
          485.59173583984375,
          486.1795349121094,
          502.0533142089844,
          473.2756042480469,
          477.3874816894531,
          482.8654479980469,
          474.31170654296875,
          483.4594421386719,
          476.5845947265625,
          450.95135498046875,
          492.1171569824219,
          527.1068725585938,
          524.428466796875,
          525.9246215820312,
          549.0343017578125,
          555.8399047851562,
          565.7162475585938,
          556.7194213867188,
          608.8564453125,
          634.0505981445312,
          649.96240234375,
          652.5230102539062,
          637.2262573242188,
          615.8760375976562,
          631.0751342773438,
          628.4617309570312,
          651.3344116210938,
          653.8026123046875,
          631.8621215820312,
          587.9400024414062,
          578.9064331054688,
          532.730224609375,
          581.7186889648438,
          605.7498779296875,
          586.1839599609375,
          560.6337890625,
          592.5261840820312,
          588.2080688476562,
          639.9144287109375,
          587.4602661132812,
          600.8426513671875,
          608.7811279296875,
          622.0697631835938,
          622.314453125,
          628.0081787109375,
          618.06787109375,
          593.9798583984375,
          567.6607055664062,
          555.4498901367188,
          589.4047241210938,
          580.1697998046875,
          604.48291015625,
          573.5778198242188,
          551.3569946289062,
          563.579345703125,
          573.21728515625,
          523.3289184570312,
          526.0739135742188,
          538.9722900390625,
          527.735595703125,
          527.5297241210938,
          532.7525024414062,
          531.5997314453125,
          522.7796630859375,
          527.8370971679688,
          532.7084350585938,
          546.1771850585938,
          542.6567993164062,
          546.8908081054688,
          544.7161865234375,
          565.7423706054688,
          533.8636474609375,
          514.5574340820312,
          515.9725952148438,
          510.79290771484375,
          524.9526977539062
         ],
         "high": [
          366.1678771972656,
          418.9421691894531,
          432.7472839355469,
          429.2530212402344,
          426.1103210449219,
          401.8072509765625,
          410.3803405761719,
          370.7983093261719,
          379.0846862792969,
          377.9467468261719,
          365.50457763671875,
          348.60748291015625,
          369.0548400878906,
          383.6320495605469,
          386.4306945800781,
          372.9826354980469,
          363.5394592285156,
          358.19915771484375,
          345.0671081542969,
          341.3319396972656,
          341.5941162109375,
          291.2886047363281,
          314.7096252441406,
          319.38507080078125,
          314.7022399902344,
          290.1549987792969,
          292.26904296875,
          304.6356506347656,
          315.4622802734375,
          304.49688720703125,
          304.4244384765625,
          291.1783752441406,
          302.53533935546875,
          319.5702209472656,
          308.3469543457031,
          322.8252868652344,
          342.10064697265625,
          327.984130859375,
          321.79486083984375,
          321.5565185546875,
          327.3271789550781,
          334.6037292480469,
          319.9236145019531,
          313.33489990234375,
          324.1125793457031,
          323.235595703125,
          309.9218444824219,
          313.4400634765625,
          496.7144470214844,
          283.43426513671875,
          298.6773376464844,
          299.4747009277344,
          301.50054931640625,
          307.9453125,
          383.3333435058594,
          327.7961730957031,
          318.1834411621094,
          319.1684875488281,
          322.4056701660156,
          325.8769836425781,
          338.38623046875,
          348.3856506347656,
          337.86700439453125,
          334.9366455078125,
          337.2992248535156,
          340.6914367675781,
          347.37158203125,
          360.0758972167969,
          360.20208740234375,
          357.8227233886719,
          375.1614990234375,
          407.5037841796875,
          406.13458251953125,
          432.80877685546875,
          419.3803405761719,
          416.5589904785156,
          436.42376708984375,
          437.0406799316406,
          412.1658935546875,
          431.5175476074219,
          457.5312194824219,
          460.5267333984375,
          458.9922180175781,
          508.8843078613281,
          504.1148986816406,
          507.0755310058594,
          518.1732788085938,
          495.1302185058594,
          496.64190673828125,
          495.59552001953125,
          482.2646789550781,
          477.1552734375,
          490.36676025390625,
          504.7407531738281,
          495.3025207519531,
          510.2632141113281,
          505.3974609375,
          508.3829650878906,
          505.1120300292969,
          425.82928466796875,
          435.6989440917969,
          438.8285217285156,
          416.5885925292969,
          421.3017272949219,
          419.6495056152344,
          415.2396240234375,
          437.0108337402344,
          434.0341796875,
          426.24822998046875,
          419.8870849609375,
          420.4749450683594,
          410.06610107421875,
          375.59149169921875,
          380.6949157714844,
          384.6314697265625,
          385.3584899902344,
          360.9895324707031,
          352.7481689453125,
          357.5970458984375,
          344.7464599609375,
          374.92279052734375,
          388.0928955078125,
          423.9666442871094,
          438.2980651855469,
          438.90045166015625,
          432.05706787109375,
          446.4725341796875,
          444.3201904296875,
          456.0432434082031,
          441.8639221191406,
          426.04571533203125,
          423.4575500488281,
          423.80322265625,
          443.7189025878906,
          471.3149108886719,
          483.4996643066406,
          478.81781005859375,
          484.2684020996094,
          472.5090637207031,
          486.93670654296875,
          502.40765380859375,
          508.2412109375,
          505.0140686035156,
          497.88751220703125,
          485.78631591796875,
          486.4826965332031,
          490.13134765625,
          489.4557800292969,
          486.768798828125,
          494.8039855957031,
          533.7398071289062,
          540.329833984375,
          535.0066528320312,
          584.9032592773438,
          575.5778198242188,
          570.5574951171875,
          568.9627075195312,
          614.0941772460938,
          637.233642578125,
          671.2982177734375,
          656.135498046875,
          657.37646484375,
          665.014892578125,
          635.2070922851562,
          635.5528564453125,
          655.78955078125,
          662.3071899414062,
          660.3403930664062,
          1396.7301025390625,
          592.347900390625,
          591.6832275390625,
          586.6510009765625,
          605.9089965820312,
          606.9386596679688,
          586.7850952148438,
          611.955810546875,
          594.7199096679688,
          647.0596313476562,
          657.5661010742188,
          620.9865112304688,
          614.0892333984375,
          629.310302734375,
          637.1692504882812,
          650.9114379882812,
          630.4879150390625,
          628.5355834960938,
          597.6846923828125,
          582.6422119140625,
          593.4468383789062,
          594.2932739257812,
          608.026611328125,
          617.2922973632812,
          597.6702880859375,
          573.0234375,
          575.0869140625,
          574.5232543945312,
          536.6270141601562,
          548.0589599609375,
          547.1643676757812,
          539.6775512695312,
          538.92626953125,
          551.8610229492188,
          534.9471435546875,
          535.9818725585938,
          565.034423828125,
          553.1864624023438,
          554.6449584960938,
          550.9885864257812,
          550.8387451171875,
          573.2068481445312,
          565.9544067382812,
          540.8209228515625,
          528.3241577148438,
          528.9127807617188,
          527.9002075195312
         ],
         "low": [
          339.8299560546875,
          350.2459411621094,
          390.9759216308594,
          365.4657287597656,
          374.1316223144531,
          377.271240234375,
          353.9957580566406,
          313.5736389160156,
          333.5053405761719,
          343.9766540527344,
          335.21258544921875,
          317.9275817871094,
          325.6939392089844,
          354.87506103515625,
          360.1661682128906,
          343.408935546875,
          339.3460388183594,
          321.04815673828125,
          331.1316833496094,
          308.963134765625,
          268.8917541503906,
          218.82313537597656,
          251.7832489013672,
          281.6667785644531,
          275.464111328125,
          261.84759521484375,
          267.7976989746094,
          282.3100891113281,
          288.8660888671875,
          281.3131103515625,
          280.90008544921875,
          142.2939910888672,
          281.4088134765625,
          280.5777587890625,
          287.30926513671875,
          301.96136474609375,
          318.5097351074219,
          304.07562255859375,
          299.6262512207031,
          308.7375793457031,
          311.09100341796875,
          309.0106506347656,
          300.58843994140625,
          290.3822326660156,
          301.39404296875,
          298.34381103515625,
          292.6340637207031,
          297.6667175292969,
          123.88510131835938,
          241.6249542236328,
          260.9822692871094,
          279.34417724609375,
          280.98822021484375,
          294.118896484375,
          292.13800048828125,
          301.315673828125,
          298.07574462890625,
          305.9743957519531,
          308.830322265625,
          301.4779968261719,
          317.5470275878906,
          330.0063781738281,
          325.3721618652344,
          316.31207275390625,
          319.68450927734375,
          323.28857421875,
          330.66949462890625,
          340.496826171875,
          336.5815734863281,
          333.69134521484375,
          348.93267822265625,
          370.52679443359375,
          371.36981201171875,
          383.1775817871094,
          400.24298095703125,
          395.25677490234375,
          410.6009216308594,
          399.014892578125,
          387.2164306640625,
          390.8808898925781,
          421.76702880859375,
          444.63909912109375,
          436.2851257324219,
          446.5032653808594,
          461.7149353027344,
          469.5650939941406,
          472.0366516113281,
          467.515625,
          482.1850280761719,
          476.51507568359375,
          457.5886535644531,
          450.14825439453125,
          452.4377136230469,
          478.7196350097656,
          472.6002197265625,
          485.0877990722656,
          489.0246887207031,
          488.0973205566406,
          400.8806457519531,
          381.3343505859375,
          403.5212707519531,
          391.03802490234375,
          399.57623291015625,
          397.2513427734375,
          385.8639221191406,
          396.1014404296875,
          409.9689636230469,
          415.6902160644531,
          300.0,
          401.62982177734375,
          400.5367736816406,
          353.5365905761719,
          337.69830322265625,
          342.3003234863281,
          368.6532287597656,
          34.0,
          343.3935546875,
          320.0462951660156,
          335.2867126464844,
          329.6355285644531,
          330.7955322265625,
          365.6707458496094,
          381.5694885253906,
          406.86328125,
          421.8268127441406,
          410.0722351074219,
          423.7955627441406,
          414.97216796875,
          424.0840759277344,
          415.8647766113281,
          416.4650573730469,
          402.1210021972656,
          400.589599609375,
          392.11907958984375,
          433.9909362792969,
          461.07257080078125,
          452.6825256347656,
          462.4742431640625,
          454.60260009765625,
          466.2088317871094,
          475.5570068359375,
          481.1049499511719,
          467.4107360839844,
          470.41827392578125,
          472.9327392578125,
          466.6360168457031,
          474.21112060546875,
          472.3750915527344,
          446.6520690917969,
          445.8724365234375,
          488.1260681152344,
          508.0523986816406,
          498.54644775390625,
          511.10430908203125,
          536.327392578125,
          537.0780029296875,
          542.54541015625,
          553.9680786132812,
          596.1162719726562,
          630.802001953125,
          631.7587890625,
          629.78759765625,
          587.2957153320312,
          605.9559936523438,
          600.7650146484375,
          619.2830200195312,
          611.333251953125,
          630.4764404296875,
          567.7327270507812,
          554.7684936523438,
          516.8323364257812,
          523.6298217773438,
          572.3817138671875,
          578.6461181640625,
          553.7440795898438,
          557.4279174804688,
          43.728004455566406,
          587.0194091796875,
          563.5439453125,
          583.6991577148438,
          571.7886962890625,
          601.633056640625,
          603.9957275390625,
          602.7063598632812,
          600.6664428710938,
          576.6041870117188,
          498.91912841796875,
          542.7583618164062,
          533.0804443359375,
          567.6260986328125,
          565.0532836914062,
          566.010986328125,
          549.9417114257812,
          542.4752197265625,
          558.4699096679688,
          511.09210205078125,
          509.2409973144531,
          501.1578063964844,
          524.889892578125,
          507.1382141113281,
          516.5272216796875,
          525.7647705078125,
          505.32635498046875,
          516.9336547851562,
          525.8119506835938,
          523.3060302734375,
          537.5191040039062,
          539.3197021484375,
          535.961669921875,
          542.8522338867188,
          528.4138793945312,
          510.7126159667969,
          507.66168212890625,
          506.3536376953125,
          510.6378479003906
         ],
         "open": [
          353.4242248535156,
          361.039306640625,
          402.5299072265625,
          429.24359130859375,
          390.61248779296875,
          390.3992919921875,
          392.3023681640625,
          358.0697326660156,
          352.44061279296875,
          373.9478454589844,
          352.8207092285156,
          344.7392883300781,
          344.3703918457031,
          367.4527282714844,
          370.8712463378906,
          368.27642822265625,
          346.9267272949219,
          351.0682678222656,
          335.5347595214844,
          335.515625,
          338.5951843261719,
          272.02777099609375,
          261.71612548828125,
          295.61126708984375,
          308.2739562988281,
          281.0047912597656,
          278.1171569824219,
          291.10870361328125,
          290.3209228515625,
          300.9482421875,
          302.8925476074219,
          287.2899169921875,
          286.1551208496094,
          296.99517822265625,
          308.3348693847656,
          303.59405517578125,
          319.66351318359375,
          326.3184814453125,
          309.3072509765625,
          318.02362060546875,
          314.8634338378906,
          322.76519775390625,
          315.8128662109375,
          308.8990478515625,
          309.4178466796875,
          314.2338562011719,
          303.210693359375,
          301.0498046875,
          302.1236877441406,
          280.65521240234375,
          265.50970458984375,
          293.39593505859375,
          292.468994140625,
          299.4482421875,
          301.87994384765625,
          301.9711608886719,
          305.3254699707031,
          314.06988525390625,
          313.8294677734375,
          316.28399658203125,
          323.39300537109375,
          333.3478088378906,
          334.3280944824219,
          330.05218505859375,
          323.8548583984375,
          334.2565612792969,
          337.6453857421875,
          341.1479187011719,
          355.1617431640625,
          342.8517150878906,
          355.175048828125,
          370.5338134765625,
          391.330322265625,
          383.827392578125,
          410.8913269042969,
          410.716796875,
          414.3370666503906,
          418.12017822265625,
          402.13848876953125,
          396.12677001953125,
          431.2906799316406,
          454.95361328125,
          450.91802978515625,
          450.101806640625,
          501.1877746582031,
          472.1178283691406,
          504.47418212890625,
          477.94342041015625,
          495.1092529296875,
          486.5949401855469,
          479.8550720214844,
          459.31494140625,
          466.2923278808594,
          490.2931213378906,
          486.2033996582031,
          488.4264221191406,
          497.5714416503906,
          504.669921875,
          497.38134765625,
          419.3818054199219,
          415.08349609375,
          419.5379333496094,
          399.7400817871094,
          405.0437316894531,
          415.8737487792969,
          400.96539306640625,
          414.92974853515625,
          431.2832946777344,
          423.8453063964844,
          406.50311279296875,
          409.5179748535156,
          406.9607238769531,
          363.83697509765625,
          344.8062438964844,
          379.6407165527344,
          382.327392578125,
          355.5519714355469,
          351.036376953125,
          343.12176513671875,
          335.47320556640625,
          333.2322082519531,
          367.85711669921875,
          387.3375549316406,
          421.8883972167969,
          428.8432312011719,
          431.8655700683594,
          427.7630310058594,
          442.09429931640625,
          434.3944396972656,
          439.34661865234375,
          419.6445007324219,
          420.2107849121094,
          403.0210876464844,
          411.3193359375,
          443.709716796875,
          468.1249694824219,
          472.4585876464844,
          474.9627685546875,
          467.396240234375,
          470.96875,
          483.16754150390625,
          486.17950439453125,
          499.5461730957031,
          470.9122009277344,
          479.7848815917969,
          482.86297607421875,
          476.69219970703125,
          483.4590148925781,
          478.9761657714844,
          448.6993408203125,
          489.6609802246094,
          529.7636108398438,
          527.0648803710938,
          523.2982788085938,
          549.0128784179688,
          555.8400268554688,
          568.5579223632812,
          556.7153930664062,
          608.8571166992188,
          637.264892578125,
          646.7158813476562,
          655.7960815429688,
          634.0452270507812,
          612.8017578125,
          631.0760498046875,
          628.4620361328125,
          651.33447265625,
          650.5379028320312,
          631.8514404296875,
          587.93994140625,
          578.9089965820312,
          529.946044921875,
          578.5140991210938,
          605.7545776367188,
          583.2570190429688,
          557.8302001953125,
          589.5669555664062,
          591.1600952148438,
          636.7154541015625,
          587.4603271484375,
          600.8478393554688,
          611.8374633789062,
          622.0695190429688,
          622.31396484375,
          628.0202026367188,
          618.0633544921875,
          593.9796142578125,
          570.499267578125,
          555.4496459960938,
          586.1678466796875,
          577.2731323242188,
          604.4822998046875,
          570.7133178710938,
          554.1220092773438,
          563.5792846679688,
          570.354736328125,
          520.7160034179688,
          526.0737915039062,
          541.6773071289062,
          527.746337890625,
          527.5298461914062,
          532.7485961914062,
          528.9446411132812,
          522.779052734375,
          530.4859619140625,
          532.70703125,
          546.1757202148438,
          539.9451293945312,
          546.8853759765625,
          547.4494018554688,
          562.917236328125,
          533.8632202148438,
          514.5584106445312,
          518.562255859375,
          510.79254150390625
         ],
         "showlegend": false,
         "x": [
          "2021-06-01T00:00:00",
          "2021-06-02T00:00:00",
          "2021-06-03T00:00:00",
          "2021-06-04T00:00:00",
          "2021-06-05T00:00:00",
          "2021-06-06T00:00:00",
          "2021-06-07T00:00:00",
          "2021-06-08T00:00:00",
          "2021-06-09T00:00:00",
          "2021-06-10T00:00:00",
          "2021-06-11T00:00:00",
          "2021-06-12T00:00:00",
          "2021-06-13T00:00:00",
          "2021-06-14T00:00:00",
          "2021-06-15T00:00:00",
          "2021-06-16T00:00:00",
          "2021-06-17T00:00:00",
          "2021-06-18T00:00:00",
          "2021-06-19T00:00:00",
          "2021-06-20T00:00:00",
          "2021-06-21T00:00:00",
          "2021-06-22T00:00:00",
          "2021-06-23T00:00:00",
          "2021-06-24T00:00:00",
          "2021-06-25T00:00:00",
          "2021-06-26T00:00:00",
          "2021-06-27T00:00:00",
          "2021-06-28T00:00:00",
          "2021-06-29T00:00:00",
          "2021-06-30T00:00:00",
          "2021-07-01T00:00:00",
          "2021-07-02T00:00:00",
          "2021-07-03T00:00:00",
          "2021-07-04T00:00:00",
          "2021-07-05T00:00:00",
          "2021-07-06T00:00:00",
          "2021-07-07T00:00:00",
          "2021-07-08T00:00:00",
          "2021-07-09T00:00:00",
          "2021-07-10T00:00:00",
          "2021-07-11T00:00:00",
          "2021-07-12T00:00:00",
          "2021-07-13T00:00:00",
          "2021-07-14T00:00:00",
          "2021-07-15T00:00:00",
          "2021-07-16T00:00:00",
          "2021-07-17T00:00:00",
          "2021-07-18T00:00:00",
          "2021-07-19T00:00:00",
          "2021-07-20T00:00:00",
          "2021-07-21T00:00:00",
          "2021-07-22T00:00:00",
          "2021-07-23T00:00:00",
          "2021-07-24T00:00:00",
          "2021-07-25T00:00:00",
          "2021-07-26T00:00:00",
          "2021-07-27T00:00:00",
          "2021-07-28T00:00:00",
          "2021-07-29T00:00:00",
          "2021-07-30T00:00:00",
          "2021-07-31T00:00:00",
          "2021-08-01T00:00:00",
          "2021-08-02T00:00:00",
          "2021-08-03T00:00:00",
          "2021-08-04T00:00:00",
          "2021-08-05T00:00:00",
          "2021-08-06T00:00:00",
          "2021-08-07T00:00:00",
          "2021-08-08T00:00:00",
          "2021-08-09T00:00:00",
          "2021-08-10T00:00:00",
          "2021-08-11T00:00:00",
          "2021-08-12T00:00:00",
          "2021-08-13T00:00:00",
          "2021-08-14T00:00:00",
          "2021-08-15T00:00:00",
          "2021-08-16T00:00:00",
          "2021-08-17T00:00:00",
          "2021-08-18T00:00:00",
          "2021-08-19T00:00:00",
          "2021-08-20T00:00:00",
          "2021-08-21T00:00:00",
          "2021-08-22T00:00:00",
          "2021-08-23T00:00:00",
          "2021-08-24T00:00:00",
          "2021-08-25T00:00:00",
          "2021-08-26T00:00:00",
          "2021-08-27T00:00:00",
          "2021-08-28T00:00:00",
          "2021-08-29T00:00:00",
          "2021-08-30T00:00:00",
          "2021-08-31T00:00:00",
          "2021-09-01T00:00:00",
          "2021-09-02T00:00:00",
          "2021-09-03T00:00:00",
          "2021-09-04T00:00:00",
          "2021-09-05T00:00:00",
          "2021-09-06T00:00:00",
          "2021-09-07T00:00:00",
          "2021-09-08T00:00:00",
          "2021-09-09T00:00:00",
          "2021-09-10T00:00:00",
          "2021-09-11T00:00:00",
          "2021-09-12T00:00:00",
          "2021-09-13T00:00:00",
          "2021-09-14T00:00:00",
          "2021-09-15T00:00:00",
          "2021-09-16T00:00:00",
          "2021-09-17T00:00:00",
          "2021-09-18T00:00:00",
          "2021-09-19T00:00:00",
          "2021-09-20T00:00:00",
          "2021-09-21T00:00:00",
          "2021-09-22T00:00:00",
          "2021-09-23T00:00:00",
          "2021-09-24T00:00:00",
          "2021-09-25T00:00:00",
          "2021-09-26T00:00:00",
          "2021-09-27T00:00:00",
          "2021-09-28T00:00:00",
          "2021-09-29T00:00:00",
          "2021-09-30T00:00:00",
          "2021-10-01T00:00:00",
          "2021-10-02T00:00:00",
          "2021-10-03T00:00:00",
          "2021-10-04T00:00:00",
          "2021-10-05T00:00:00",
          "2021-10-06T00:00:00",
          "2021-10-07T00:00:00",
          "2021-10-08T00:00:00",
          "2021-10-09T00:00:00",
          "2021-10-10T00:00:00",
          "2021-10-11T00:00:00",
          "2021-10-12T00:00:00",
          "2021-10-13T00:00:00",
          "2021-10-14T00:00:00",
          "2021-10-15T00:00:00",
          "2021-10-16T00:00:00",
          "2021-10-17T00:00:00",
          "2021-10-18T00:00:00",
          "2021-10-19T00:00:00",
          "2021-10-20T00:00:00",
          "2021-10-21T00:00:00",
          "2021-10-22T00:00:00",
          "2021-10-23T00:00:00",
          "2021-10-24T00:00:00",
          "2021-10-25T00:00:00",
          "2021-10-26T00:00:00",
          "2021-10-27T00:00:00",
          "2021-10-28T00:00:00",
          "2021-10-29T00:00:00",
          "2021-10-30T00:00:00",
          "2021-10-31T00:00:00",
          "2021-11-01T00:00:00",
          "2021-11-02T00:00:00",
          "2021-11-03T00:00:00",
          "2021-11-04T00:00:00",
          "2021-11-05T00:00:00",
          "2021-11-06T00:00:00",
          "2021-11-07T00:00:00",
          "2021-11-08T00:00:00",
          "2021-11-09T00:00:00",
          "2021-11-10T00:00:00",
          "2021-11-11T00:00:00",
          "2021-11-12T00:00:00",
          "2021-11-13T00:00:00",
          "2021-11-14T00:00:00",
          "2021-11-15T00:00:00",
          "2021-11-16T00:00:00",
          "2021-11-17T00:00:00",
          "2021-11-18T00:00:00",
          "2021-11-19T00:00:00",
          "2021-11-20T00:00:00",
          "2021-11-21T00:00:00",
          "2021-11-22T00:00:00",
          "2021-11-23T00:00:00",
          "2021-11-24T00:00:00",
          "2021-11-25T00:00:00",
          "2021-11-26T00:00:00",
          "2021-11-27T00:00:00",
          "2021-11-28T00:00:00",
          "2021-11-29T00:00:00",
          "2021-11-30T00:00:00",
          "2021-12-01T00:00:00",
          "2021-12-02T00:00:00",
          "2021-12-03T00:00:00",
          "2021-12-04T00:00:00",
          "2021-12-05T00:00:00",
          "2021-12-06T00:00:00",
          "2021-12-07T00:00:00",
          "2021-12-08T00:00:00",
          "2021-12-09T00:00:00",
          "2021-12-10T00:00:00",
          "2021-12-11T00:00:00",
          "2021-12-12T00:00:00",
          "2021-12-13T00:00:00",
          "2021-12-14T00:00:00",
          "2021-12-15T00:00:00",
          "2021-12-16T00:00:00",
          "2021-12-17T00:00:00",
          "2021-12-18T00:00:00",
          "2021-12-19T00:00:00",
          "2021-12-20T00:00:00",
          "2021-12-21T00:00:00",
          "2021-12-22T00:00:00",
          "2021-12-23T00:00:00",
          "2021-12-24T00:00:00",
          "2021-12-25T00:00:00",
          "2021-12-26T00:00:00",
          "2021-12-27T00:00:00",
          "2021-12-28T00:00:00",
          "2021-12-29T00:00:00",
          "2021-12-30T00:00:00",
          "2021-12-31T00:00:00",
          "2022-01-01T00:00:00"
         ],
         "type": "candlestick",
         "xaxis": "x",
         "yaxis": "y"
        }
       ],
       "layout": {
        "template": {
         "data": {
          "histogram2dcontour": [
           {
            "type": "histogram2dcontour",
            "colorbar": {
             "outlinewidth": 0,
             "ticks": ""
            },
            "colorscale": [
             [
              0.0,
              "#0d0887"
             ],
             [
              0.1111111111111111,
              "#46039f"
             ],
             [
              0.2222222222222222,
              "#7201a8"
             ],
             [
              0.3333333333333333,
              "#9c179e"
             ],
             [
              0.4444444444444444,
              "#bd3786"
             ],
             [
              0.5555555555555556,
              "#d8576b"
             ],
             [
              0.6666666666666666,
              "#ed7953"
             ],
             [
              0.7777777777777778,
              "#fb9f3a"
             ],
             [
              0.8888888888888888,
              "#fdca26"
             ],
             [
              1.0,
              "#f0f921"
             ]
            ]
           }
          ],
          "choropleth": [
           {
            "type": "choropleth",
            "colorbar": {
             "outlinewidth": 0,
             "ticks": ""
            }
           }
          ],
          "histogram2d": [
           {
            "type": "histogram2d",
            "colorbar": {
             "outlinewidth": 0,
             "ticks": ""
            },
            "colorscale": [
             [
              0.0,
              "#0d0887"
             ],
             [
              0.1111111111111111,
              "#46039f"
             ],
             [
              0.2222222222222222,
              "#7201a8"
             ],
             [
              0.3333333333333333,
              "#9c179e"
             ],
             [
              0.4444444444444444,
              "#bd3786"
             ],
             [
              0.5555555555555556,
              "#d8576b"
             ],
             [
              0.6666666666666666,
              "#ed7953"
             ],
             [
              0.7777777777777778,
              "#fb9f3a"
             ],
             [
              0.8888888888888888,
              "#fdca26"
             ],
             [
              1.0,
              "#f0f921"
             ]
            ]
           }
          ],
          "heatmap": [
           {
            "type": "heatmap",
            "colorbar": {
             "outlinewidth": 0,
             "ticks": ""
            },
            "colorscale": [
             [
              0.0,
              "#0d0887"
             ],
             [
              0.1111111111111111,
              "#46039f"
             ],
             [
              0.2222222222222222,
              "#7201a8"
             ],
             [
              0.3333333333333333,
              "#9c179e"
             ],
             [
              0.4444444444444444,
              "#bd3786"
             ],
             [
              0.5555555555555556,
              "#d8576b"
             ],
             [
              0.6666666666666666,
              "#ed7953"
             ],
             [
              0.7777777777777778,
              "#fb9f3a"
             ],
             [
              0.8888888888888888,
              "#fdca26"
             ],
             [
              1.0,
              "#f0f921"
             ]
            ]
           }
          ],
          "heatmapgl": [
           {
            "type": "heatmapgl",
            "colorbar": {
             "outlinewidth": 0,
             "ticks": ""
            },
            "colorscale": [
             [
              0.0,
              "#0d0887"
             ],
             [
              0.1111111111111111,
              "#46039f"
             ],
             [
              0.2222222222222222,
              "#7201a8"
             ],
             [
              0.3333333333333333,
              "#9c179e"
             ],
             [
              0.4444444444444444,
              "#bd3786"
             ],
             [
              0.5555555555555556,
              "#d8576b"
             ],
             [
              0.6666666666666666,
              "#ed7953"
             ],
             [
              0.7777777777777778,
              "#fb9f3a"
             ],
             [
              0.8888888888888888,
              "#fdca26"
             ],
             [
              1.0,
              "#f0f921"
             ]
            ]
           }
          ],
          "contourcarpet": [
           {
            "type": "contourcarpet",
            "colorbar": {
             "outlinewidth": 0,
             "ticks": ""
            }
           }
          ],
          "contour": [
           {
            "type": "contour",
            "colorbar": {
             "outlinewidth": 0,
             "ticks": ""
            },
            "colorscale": [
             [
              0.0,
              "#0d0887"
             ],
             [
              0.1111111111111111,
              "#46039f"
             ],
             [
              0.2222222222222222,
              "#7201a8"
             ],
             [
              0.3333333333333333,
              "#9c179e"
             ],
             [
              0.4444444444444444,
              "#bd3786"
             ],
             [
              0.5555555555555556,
              "#d8576b"
             ],
             [
              0.6666666666666666,
              "#ed7953"
             ],
             [
              0.7777777777777778,
              "#fb9f3a"
             ],
             [
              0.8888888888888888,
              "#fdca26"
             ],
             [
              1.0,
              "#f0f921"
             ]
            ]
           }
          ],
          "surface": [
           {
            "type": "surface",
            "colorbar": {
             "outlinewidth": 0,
             "ticks": ""
            },
            "colorscale": [
             [
              0.0,
              "#0d0887"
             ],
             [
              0.1111111111111111,
              "#46039f"
             ],
             [
              0.2222222222222222,
              "#7201a8"
             ],
             [
              0.3333333333333333,
              "#9c179e"
             ],
             [
              0.4444444444444444,
              "#bd3786"
             ],
             [
              0.5555555555555556,
              "#d8576b"
             ],
             [
              0.6666666666666666,
              "#ed7953"
             ],
             [
              0.7777777777777778,
              "#fb9f3a"
             ],
             [
              0.8888888888888888,
              "#fdca26"
             ],
             [
              1.0,
              "#f0f921"
             ]
            ]
           }
          ],
          "mesh3d": [
           {
            "type": "mesh3d",
            "colorbar": {
             "outlinewidth": 0,
             "ticks": ""
            }
           }
          ],
          "scatter": [
           {
            "fillpattern": {
             "fillmode": "overlay",
             "size": 10,
             "solidity": 0.2
            },
            "type": "scatter"
           }
          ],
          "parcoords": [
           {
            "type": "parcoords",
            "line": {
             "colorbar": {
              "outlinewidth": 0,
              "ticks": ""
             }
            }
           }
          ],
          "scatterpolargl": [
           {
            "type": "scatterpolargl",
            "marker": {
             "colorbar": {
              "outlinewidth": 0,
              "ticks": ""
             }
            }
           }
          ],
          "bar": [
           {
            "error_x": {
             "color": "#2a3f5f"
            },
            "error_y": {
             "color": "#2a3f5f"
            },
            "marker": {
             "line": {
              "color": "#E5ECF6",
              "width": 0.5
             },
             "pattern": {
              "fillmode": "overlay",
              "size": 10,
              "solidity": 0.2
             }
            },
            "type": "bar"
           }
          ],
          "scattergeo": [
           {
            "type": "scattergeo",
            "marker": {
             "colorbar": {
              "outlinewidth": 0,
              "ticks": ""
             }
            }
           }
          ],
          "scatterpolar": [
           {
            "type": "scatterpolar",
            "marker": {
             "colorbar": {
              "outlinewidth": 0,
              "ticks": ""
             }
            }
           }
          ],
          "histogram": [
           {
            "marker": {
             "pattern": {
              "fillmode": "overlay",
              "size": 10,
              "solidity": 0.2
             }
            },
            "type": "histogram"
           }
          ],
          "scattergl": [
           {
            "type": "scattergl",
            "marker": {
             "colorbar": {
              "outlinewidth": 0,
              "ticks": ""
             }
            }
           }
          ],
          "scatter3d": [
           {
            "type": "scatter3d",
            "line": {
             "colorbar": {
              "outlinewidth": 0,
              "ticks": ""
             }
            },
            "marker": {
             "colorbar": {
              "outlinewidth": 0,
              "ticks": ""
             }
            }
           }
          ],
          "scattermapbox": [
           {
            "type": "scattermapbox",
            "marker": {
             "colorbar": {
              "outlinewidth": 0,
              "ticks": ""
             }
            }
           }
          ],
          "scatterternary": [
           {
            "type": "scatterternary",
            "marker": {
             "colorbar": {
              "outlinewidth": 0,
              "ticks": ""
             }
            }
           }
          ],
          "scattercarpet": [
           {
            "type": "scattercarpet",
            "marker": {
             "colorbar": {
              "outlinewidth": 0,
              "ticks": ""
             }
            }
           }
          ],
          "carpet": [
           {
            "aaxis": {
             "endlinecolor": "#2a3f5f",
             "gridcolor": "white",
             "linecolor": "white",
             "minorgridcolor": "white",
             "startlinecolor": "#2a3f5f"
            },
            "baxis": {
             "endlinecolor": "#2a3f5f",
             "gridcolor": "white",
             "linecolor": "white",
             "minorgridcolor": "white",
             "startlinecolor": "#2a3f5f"
            },
            "type": "carpet"
           }
          ],
          "table": [
           {
            "cells": {
             "fill": {
              "color": "#EBF0F8"
             },
             "line": {
              "color": "white"
             }
            },
            "header": {
             "fill": {
              "color": "#C8D4E3"
             },
             "line": {
              "color": "white"
             }
            },
            "type": "table"
           }
          ],
          "barpolar": [
           {
            "marker": {
             "line": {
              "color": "#E5ECF6",
              "width": 0.5
             },
             "pattern": {
              "fillmode": "overlay",
              "size": 10,
              "solidity": 0.2
             }
            },
            "type": "barpolar"
           }
          ],
          "pie": [
           {
            "automargin": true,
            "type": "pie"
           }
          ]
         },
         "layout": {
          "autotypenumbers": "strict",
          "colorway": [
           "#636efa",
           "#EF553B",
           "#00cc96",
           "#ab63fa",
           "#FFA15A",
           "#19d3f3",
           "#FF6692",
           "#B6E880",
           "#FF97FF",
           "#FECB52"
          ],
          "font": {
           "color": "#2a3f5f"
          },
          "hovermode": "closest",
          "hoverlabel": {
           "align": "left"
          },
          "paper_bgcolor": "white",
          "plot_bgcolor": "#E5ECF6",
          "polar": {
           "bgcolor": "#E5ECF6",
           "angularaxis": {
            "gridcolor": "white",
            "linecolor": "white",
            "ticks": ""
           },
           "radialaxis": {
            "gridcolor": "white",
            "linecolor": "white",
            "ticks": ""
           }
          },
          "ternary": {
           "bgcolor": "#E5ECF6",
           "aaxis": {
            "gridcolor": "white",
            "linecolor": "white",
            "ticks": ""
           },
           "baxis": {
            "gridcolor": "white",
            "linecolor": "white",
            "ticks": ""
           },
           "caxis": {
            "gridcolor": "white",
            "linecolor": "white",
            "ticks": ""
           }
          },
          "coloraxis": {
           "colorbar": {
            "outlinewidth": 0,
            "ticks": ""
           }
          },
          "colorscale": {
           "sequential": [
            [
             0.0,
             "#0d0887"
            ],
            [
             0.1111111111111111,
             "#46039f"
            ],
            [
             0.2222222222222222,
             "#7201a8"
            ],
            [
             0.3333333333333333,
             "#9c179e"
            ],
            [
             0.4444444444444444,
             "#bd3786"
            ],
            [
             0.5555555555555556,
             "#d8576b"
            ],
            [
             0.6666666666666666,
             "#ed7953"
            ],
            [
             0.7777777777777778,
             "#fb9f3a"
            ],
            [
             0.8888888888888888,
             "#fdca26"
            ],
            [
             1.0,
             "#f0f921"
            ]
           ],
           "sequentialminus": [
            [
             0.0,
             "#0d0887"
            ],
            [
             0.1111111111111111,
             "#46039f"
            ],
            [
             0.2222222222222222,
             "#7201a8"
            ],
            [
             0.3333333333333333,
             "#9c179e"
            ],
            [
             0.4444444444444444,
             "#bd3786"
            ],
            [
             0.5555555555555556,
             "#d8576b"
            ],
            [
             0.6666666666666666,
             "#ed7953"
            ],
            [
             0.7777777777777778,
             "#fb9f3a"
            ],
            [
             0.8888888888888888,
             "#fdca26"
            ],
            [
             1.0,
             "#f0f921"
            ]
           ],
           "diverging": [
            [
             0,
             "#8e0152"
            ],
            [
             0.1,
             "#c51b7d"
            ],
            [
             0.2,
             "#de77ae"
            ],
            [
             0.3,
             "#f1b6da"
            ],
            [
             0.4,
             "#fde0ef"
            ],
            [
             0.5,
             "#f7f7f7"
            ],
            [
             0.6,
             "#e6f5d0"
            ],
            [
             0.7,
             "#b8e186"
            ],
            [
             0.8,
             "#7fbc41"
            ],
            [
             0.9,
             "#4d9221"
            ],
            [
             1,
             "#276419"
            ]
           ]
          },
          "xaxis": {
           "gridcolor": "white",
           "linecolor": "white",
           "ticks": "",
           "title": {
            "standoff": 15
           },
           "zerolinecolor": "white",
           "automargin": true,
           "zerolinewidth": 2
          },
          "yaxis": {
           "gridcolor": "white",
           "linecolor": "white",
           "ticks": "",
           "title": {
            "standoff": 15
           },
           "zerolinecolor": "white",
           "automargin": true,
           "zerolinewidth": 2
          },
          "scene": {
           "xaxis": {
            "backgroundcolor": "#E5ECF6",
            "gridcolor": "white",
            "linecolor": "white",
            "showbackground": true,
            "ticks": "",
            "zerolinecolor": "white",
            "gridwidth": 2
           },
           "yaxis": {
            "backgroundcolor": "#E5ECF6",
            "gridcolor": "white",
            "linecolor": "white",
            "showbackground": true,
            "ticks": "",
            "zerolinecolor": "white",
            "gridwidth": 2
           },
           "zaxis": {
            "backgroundcolor": "#E5ECF6",
            "gridcolor": "white",
            "linecolor": "white",
            "showbackground": true,
            "ticks": "",
            "zerolinecolor": "white",
            "gridwidth": 2
           }
          },
          "shapedefaults": {
           "line": {
            "color": "#2a3f5f"
           }
          },
          "annotationdefaults": {
           "arrowcolor": "#2a3f5f",
           "arrowhead": 0,
           "arrowwidth": 1
          },
          "geo": {
           "bgcolor": "white",
           "landcolor": "#E5ECF6",
           "subunitcolor": "white",
           "showland": true,
           "showlakes": true,
           "lakecolor": "white"
          },
          "title": {
           "x": 0.05
          },
          "mapbox": {
           "style": "light"
          }
         }
        },
        "xaxis": {
         "anchor": "y",
         "domain": [
          0.0,
          1.0
         ],
         "rangeslider": {
          "visible": false
         }
        },
        "yaxis": {
         "anchor": "x",
         "domain": [
          0.0,
          1.0
         ],
         "title": {
          "text": "Price $"
         },
         "showgrid": true
        },
        "title": {
         "text": "Your backtest name trades"
        },
        "height": 800,
        "legend": {
         "orientation": "h",
         "yanchor": "bottom",
         "y": 1.02,
         "xanchor": "right",
         "x": 1
        }
       },
       "config": {
        "plotlyServerURL": "https://plot.ly"
       }
      },
      "text/html": "<div>                            <div id=\"d3f4493c-2d54-49fa-af59-1d88bf9c0658\" class=\"plotly-graph-div\" style=\"height:800px; width:100%;\"></div>            <script type=\"text/javascript\">                require([\"plotly\"], function(Plotly) {                    window.PLOTLYENV=window.PLOTLYENV || {};                                    if (document.getElementById(\"d3f4493c-2d54-49fa-af59-1d88bf9c0658\")) {                    Plotly.newPlot(                        \"d3f4493c-2d54-49fa-af59-1d88bf9c0658\",                        [{\"close\":[361.040283203125,402.52978515625,427.0998229980469,392.5729675292969,390.399658203125,392.3028869628906,356.273193359375,354.20947265625,375.8246154785156,352.8206481933594,346.469482421875,342.65087890625,367.4494934082031,370.8711242675781,368.2753601074219,345.185546875,352.8303527832031,337.21868896484375,333.843017578125,338.59539794921875,272.0257568359375,261.6210021972656,295.6112976074219,308.2738952636719,282.4177551269531,278.117919921875,291.1085510253906,290.32073974609375,300.9482421875,304.4126281738281,288.7317810058594,286.1551208496094,298.48565673828125,306.795166015625,303.593994140625,321.2676696777344,326.3189697265625,309.3086853027344,318.0235290527344,316.4435119628906,321.1534729003906,317.3978576660156,307.3564453125,307.8727111816406,315.8116760253906,301.6994323730469,299.5464172363281,303.6400451660156,279.25390625,265.5096130371094,291.9300537109375,293.9367980957031,299.44805908203125,301.87945556640625,303.4867248535156,305.3243103027344,312.5029602050781,312.26226806640625,316.28472900390625,321.7874755859375,333.34735107421875,334.32806396484375,330.05303955078125,322.2367248535156,334.2583923339844,337.6455078125,341.1481018066406,356.9450988769531,341.138671875,355.1736145019531,372.39422607421875,393.29461669921875,385.75311279296875,408.8394470214844,408.6654968261719,414.33734130859375,416.03179931640625,400.1304626464844,396.1277160644531,429.136962890625,452.67352294921875,448.6663818359375,450.1016845703125,498.6849060058594,469.76031494140625,501.9546813964844,480.3419494628906,492.6370849609375,484.1666564941406,479.615234375,459.31494140625,463.96392822265625,490.2930908203125,486.1850280761719,485.98272705078125,497.5715026855469,504.6690673828125,497.3810729980469,419.38165283203125,415.0832824707031,419.5381774902344,401.746337890625,405.043701171875,417.9629821777344,400.96514892578125,414.9289245605469,431.2832336425781,423.8547058105469,404.4737548828125,411.5732116699219,406.9608459472656,362.02008056640625,343.0843505859375,377.7449035644531,382.3274230957031,355.5516052246094,351.0362548828125,343.1218566894531,335.4732971191406,331.56732177734375,366.0201110839844,387.3375244140625,421.88812255859375,428.8414611816406,429.70892333984375,427.7626953125,442.0952453613281,436.5747375488281,439.3464660644531,417.5489501953125,422.319580078125,405.0426330566406,411.31939697265625,441.49432373046875,468.1252746582031,472.45849609375,472.59112548828125,467.3962097167969,468.6142272949219,485.59173583984375,486.1795349121094,502.0533142089844,473.2756042480469,477.3874816894531,482.8654479980469,474.31170654296875,483.4594421386719,476.5845947265625,450.95135498046875,492.1171569824219,527.1068725585938,524.428466796875,525.9246215820312,549.0343017578125,555.8399047851562,565.7162475585938,556.7194213867188,608.8564453125,634.0505981445312,649.96240234375,652.5230102539062,637.2262573242188,615.8760375976562,631.0751342773438,628.4617309570312,651.3344116210938,653.8026123046875,631.8621215820312,587.9400024414062,578.9064331054688,532.730224609375,581.7186889648438,605.7498779296875,586.1839599609375,560.6337890625,592.5261840820312,588.2080688476562,639.9144287109375,587.4602661132812,600.8426513671875,608.7811279296875,622.0697631835938,622.314453125,628.0081787109375,618.06787109375,593.9798583984375,567.6607055664062,555.4498901367188,589.4047241210938,580.1697998046875,604.48291015625,573.5778198242188,551.3569946289062,563.579345703125,573.21728515625,523.3289184570312,526.0739135742188,538.9722900390625,527.735595703125,527.5297241210938,532.7525024414062,531.5997314453125,522.7796630859375,527.8370971679688,532.7084350585938,546.1771850585938,542.6567993164062,546.8908081054688,544.7161865234375,565.7423706054688,533.8636474609375,514.5574340820312,515.9725952148438,510.79290771484375,524.9526977539062],\"high\":[366.1678771972656,418.9421691894531,432.7472839355469,429.2530212402344,426.1103210449219,401.8072509765625,410.3803405761719,370.7983093261719,379.0846862792969,377.9467468261719,365.50457763671875,348.60748291015625,369.0548400878906,383.6320495605469,386.4306945800781,372.9826354980469,363.5394592285156,358.19915771484375,345.0671081542969,341.3319396972656,341.5941162109375,291.2886047363281,314.7096252441406,319.38507080078125,314.7022399902344,290.1549987792969,292.26904296875,304.6356506347656,315.4622802734375,304.49688720703125,304.4244384765625,291.1783752441406,302.53533935546875,319.5702209472656,308.3469543457031,322.8252868652344,342.10064697265625,327.984130859375,321.79486083984375,321.5565185546875,327.3271789550781,334.6037292480469,319.9236145019531,313.33489990234375,324.1125793457031,323.235595703125,309.9218444824219,313.4400634765625,496.7144470214844,283.43426513671875,298.6773376464844,299.4747009277344,301.50054931640625,307.9453125,383.3333435058594,327.7961730957031,318.1834411621094,319.1684875488281,322.4056701660156,325.8769836425781,338.38623046875,348.3856506347656,337.86700439453125,334.9366455078125,337.2992248535156,340.6914367675781,347.37158203125,360.0758972167969,360.20208740234375,357.8227233886719,375.1614990234375,407.5037841796875,406.13458251953125,432.80877685546875,419.3803405761719,416.5589904785156,436.42376708984375,437.0406799316406,412.1658935546875,431.5175476074219,457.5312194824219,460.5267333984375,458.9922180175781,508.8843078613281,504.1148986816406,507.0755310058594,518.1732788085938,495.1302185058594,496.64190673828125,495.59552001953125,482.2646789550781,477.1552734375,490.36676025390625,504.7407531738281,495.3025207519531,510.2632141113281,505.3974609375,508.3829650878906,505.1120300292969,425.82928466796875,435.6989440917969,438.8285217285156,416.5885925292969,421.3017272949219,419.6495056152344,415.2396240234375,437.0108337402344,434.0341796875,426.24822998046875,419.8870849609375,420.4749450683594,410.06610107421875,375.59149169921875,380.6949157714844,384.6314697265625,385.3584899902344,360.9895324707031,352.7481689453125,357.5970458984375,344.7464599609375,374.92279052734375,388.0928955078125,423.9666442871094,438.2980651855469,438.90045166015625,432.05706787109375,446.4725341796875,444.3201904296875,456.0432434082031,441.8639221191406,426.04571533203125,423.4575500488281,423.80322265625,443.7189025878906,471.3149108886719,483.4996643066406,478.81781005859375,484.2684020996094,472.5090637207031,486.93670654296875,502.40765380859375,508.2412109375,505.0140686035156,497.88751220703125,485.78631591796875,486.4826965332031,490.13134765625,489.4557800292969,486.768798828125,494.8039855957031,533.7398071289062,540.329833984375,535.0066528320312,584.9032592773438,575.5778198242188,570.5574951171875,568.9627075195312,614.0941772460938,637.233642578125,671.2982177734375,656.135498046875,657.37646484375,665.014892578125,635.2070922851562,635.5528564453125,655.78955078125,662.3071899414062,660.3403930664062,1396.7301025390625,592.347900390625,591.6832275390625,586.6510009765625,605.9089965820312,606.9386596679688,586.7850952148438,611.955810546875,594.7199096679688,647.0596313476562,657.5661010742188,620.9865112304688,614.0892333984375,629.310302734375,637.1692504882812,650.9114379882812,630.4879150390625,628.5355834960938,597.6846923828125,582.6422119140625,593.4468383789062,594.2932739257812,608.026611328125,617.2922973632812,597.6702880859375,573.0234375,575.0869140625,574.5232543945312,536.6270141601562,548.0589599609375,547.1643676757812,539.6775512695312,538.92626953125,551.8610229492188,534.9471435546875,535.9818725585938,565.034423828125,553.1864624023438,554.6449584960938,550.9885864257812,550.8387451171875,573.2068481445312,565.9544067382812,540.8209228515625,528.3241577148438,528.9127807617188,527.9002075195312],\"low\":[339.8299560546875,350.2459411621094,390.9759216308594,365.4657287597656,374.1316223144531,377.271240234375,353.9957580566406,313.5736389160156,333.5053405761719,343.9766540527344,335.21258544921875,317.9275817871094,325.6939392089844,354.87506103515625,360.1661682128906,343.408935546875,339.3460388183594,321.04815673828125,331.1316833496094,308.963134765625,268.8917541503906,218.82313537597656,251.7832489013672,281.6667785644531,275.464111328125,261.84759521484375,267.7976989746094,282.3100891113281,288.8660888671875,281.3131103515625,280.90008544921875,142.2939910888672,281.4088134765625,280.5777587890625,287.30926513671875,301.96136474609375,318.5097351074219,304.07562255859375,299.6262512207031,308.7375793457031,311.09100341796875,309.0106506347656,300.58843994140625,290.3822326660156,301.39404296875,298.34381103515625,292.6340637207031,297.6667175292969,123.88510131835938,241.6249542236328,260.9822692871094,279.34417724609375,280.98822021484375,294.118896484375,292.13800048828125,301.315673828125,298.07574462890625,305.9743957519531,308.830322265625,301.4779968261719,317.5470275878906,330.0063781738281,325.3721618652344,316.31207275390625,319.68450927734375,323.28857421875,330.66949462890625,340.496826171875,336.5815734863281,333.69134521484375,348.93267822265625,370.52679443359375,371.36981201171875,383.1775817871094,400.24298095703125,395.25677490234375,410.6009216308594,399.014892578125,387.2164306640625,390.8808898925781,421.76702880859375,444.63909912109375,436.2851257324219,446.5032653808594,461.7149353027344,469.5650939941406,472.0366516113281,467.515625,482.1850280761719,476.51507568359375,457.5886535644531,450.14825439453125,452.4377136230469,478.7196350097656,472.6002197265625,485.0877990722656,489.0246887207031,488.0973205566406,400.8806457519531,381.3343505859375,403.5212707519531,391.03802490234375,399.57623291015625,397.2513427734375,385.8639221191406,396.1014404296875,409.9689636230469,415.6902160644531,300.0,401.62982177734375,400.5367736816406,353.5365905761719,337.69830322265625,342.3003234863281,368.6532287597656,34.0,343.3935546875,320.0462951660156,335.2867126464844,329.6355285644531,330.7955322265625,365.6707458496094,381.5694885253906,406.86328125,421.8268127441406,410.0722351074219,423.7955627441406,414.97216796875,424.0840759277344,415.8647766113281,416.4650573730469,402.1210021972656,400.589599609375,392.11907958984375,433.9909362792969,461.07257080078125,452.6825256347656,462.4742431640625,454.60260009765625,466.2088317871094,475.5570068359375,481.1049499511719,467.4107360839844,470.41827392578125,472.9327392578125,466.6360168457031,474.21112060546875,472.3750915527344,446.6520690917969,445.8724365234375,488.1260681152344,508.0523986816406,498.54644775390625,511.10430908203125,536.327392578125,537.0780029296875,542.54541015625,553.9680786132812,596.1162719726562,630.802001953125,631.7587890625,629.78759765625,587.2957153320312,605.9559936523438,600.7650146484375,619.2830200195312,611.333251953125,630.4764404296875,567.7327270507812,554.7684936523438,516.8323364257812,523.6298217773438,572.3817138671875,578.6461181640625,553.7440795898438,557.4279174804688,43.728004455566406,587.0194091796875,563.5439453125,583.6991577148438,571.7886962890625,601.633056640625,603.9957275390625,602.7063598632812,600.6664428710938,576.6041870117188,498.91912841796875,542.7583618164062,533.0804443359375,567.6260986328125,565.0532836914062,566.010986328125,549.9417114257812,542.4752197265625,558.4699096679688,511.09210205078125,509.2409973144531,501.1578063964844,524.889892578125,507.1382141113281,516.5272216796875,525.7647705078125,505.32635498046875,516.9336547851562,525.8119506835938,523.3060302734375,537.5191040039062,539.3197021484375,535.961669921875,542.8522338867188,528.4138793945312,510.7126159667969,507.66168212890625,506.3536376953125,510.6378479003906],\"open\":[353.4242248535156,361.039306640625,402.5299072265625,429.24359130859375,390.61248779296875,390.3992919921875,392.3023681640625,358.0697326660156,352.44061279296875,373.9478454589844,352.8207092285156,344.7392883300781,344.3703918457031,367.4527282714844,370.8712463378906,368.27642822265625,346.9267272949219,351.0682678222656,335.5347595214844,335.515625,338.5951843261719,272.02777099609375,261.71612548828125,295.61126708984375,308.2739562988281,281.0047912597656,278.1171569824219,291.10870361328125,290.3209228515625,300.9482421875,302.8925476074219,287.2899169921875,286.1551208496094,296.99517822265625,308.3348693847656,303.59405517578125,319.66351318359375,326.3184814453125,309.3072509765625,318.02362060546875,314.8634338378906,322.76519775390625,315.8128662109375,308.8990478515625,309.4178466796875,314.2338562011719,303.210693359375,301.0498046875,302.1236877441406,280.65521240234375,265.50970458984375,293.39593505859375,292.468994140625,299.4482421875,301.87994384765625,301.9711608886719,305.3254699707031,314.06988525390625,313.8294677734375,316.28399658203125,323.39300537109375,333.3478088378906,334.3280944824219,330.05218505859375,323.8548583984375,334.2565612792969,337.6453857421875,341.1479187011719,355.1617431640625,342.8517150878906,355.175048828125,370.5338134765625,391.330322265625,383.827392578125,410.8913269042969,410.716796875,414.3370666503906,418.12017822265625,402.13848876953125,396.12677001953125,431.2906799316406,454.95361328125,450.91802978515625,450.101806640625,501.1877746582031,472.1178283691406,504.47418212890625,477.94342041015625,495.1092529296875,486.5949401855469,479.8550720214844,459.31494140625,466.2923278808594,490.2931213378906,486.2033996582031,488.4264221191406,497.5714416503906,504.669921875,497.38134765625,419.3818054199219,415.08349609375,419.5379333496094,399.7400817871094,405.0437316894531,415.8737487792969,400.96539306640625,414.92974853515625,431.2832946777344,423.8453063964844,406.50311279296875,409.5179748535156,406.9607238769531,363.83697509765625,344.8062438964844,379.6407165527344,382.327392578125,355.5519714355469,351.036376953125,343.12176513671875,335.47320556640625,333.2322082519531,367.85711669921875,387.3375549316406,421.8883972167969,428.8432312011719,431.8655700683594,427.7630310058594,442.09429931640625,434.3944396972656,439.34661865234375,419.6445007324219,420.2107849121094,403.0210876464844,411.3193359375,443.709716796875,468.1249694824219,472.4585876464844,474.9627685546875,467.396240234375,470.96875,483.16754150390625,486.17950439453125,499.5461730957031,470.9122009277344,479.7848815917969,482.86297607421875,476.69219970703125,483.4590148925781,478.9761657714844,448.6993408203125,489.6609802246094,529.7636108398438,527.0648803710938,523.2982788085938,549.0128784179688,555.8400268554688,568.5579223632812,556.7153930664062,608.8571166992188,637.264892578125,646.7158813476562,655.7960815429688,634.0452270507812,612.8017578125,631.0760498046875,628.4620361328125,651.33447265625,650.5379028320312,631.8514404296875,587.93994140625,578.9089965820312,529.946044921875,578.5140991210938,605.7545776367188,583.2570190429688,557.8302001953125,589.5669555664062,591.1600952148438,636.7154541015625,587.4603271484375,600.8478393554688,611.8374633789062,622.0695190429688,622.31396484375,628.0202026367188,618.0633544921875,593.9796142578125,570.499267578125,555.4496459960938,586.1678466796875,577.2731323242188,604.4822998046875,570.7133178710938,554.1220092773438,563.5792846679688,570.354736328125,520.7160034179688,526.0737915039062,541.6773071289062,527.746337890625,527.5298461914062,532.7485961914062,528.9446411132812,522.779052734375,530.4859619140625,532.70703125,546.1757202148438,539.9451293945312,546.8853759765625,547.4494018554688,562.917236328125,533.8632202148438,514.5584106445312,518.562255859375,510.79254150390625],\"showlegend\":false,\"x\":[\"2021-06-01T00:00:00\",\"2021-06-02T00:00:00\",\"2021-06-03T00:00:00\",\"2021-06-04T00:00:00\",\"2021-06-05T00:00:00\",\"2021-06-06T00:00:00\",\"2021-06-07T00:00:00\",\"2021-06-08T00:00:00\",\"2021-06-09T00:00:00\",\"2021-06-10T00:00:00\",\"2021-06-11T00:00:00\",\"2021-06-12T00:00:00\",\"2021-06-13T00:00:00\",\"2021-06-14T00:00:00\",\"2021-06-15T00:00:00\",\"2021-06-16T00:00:00\",\"2021-06-17T00:00:00\",\"2021-06-18T00:00:00\",\"2021-06-19T00:00:00\",\"2021-06-20T00:00:00\",\"2021-06-21T00:00:00\",\"2021-06-22T00:00:00\",\"2021-06-23T00:00:00\",\"2021-06-24T00:00:00\",\"2021-06-25T00:00:00\",\"2021-06-26T00:00:00\",\"2021-06-27T00:00:00\",\"2021-06-28T00:00:00\",\"2021-06-29T00:00:00\",\"2021-06-30T00:00:00\",\"2021-07-01T00:00:00\",\"2021-07-02T00:00:00\",\"2021-07-03T00:00:00\",\"2021-07-04T00:00:00\",\"2021-07-05T00:00:00\",\"2021-07-06T00:00:00\",\"2021-07-07T00:00:00\",\"2021-07-08T00:00:00\",\"2021-07-09T00:00:00\",\"2021-07-10T00:00:00\",\"2021-07-11T00:00:00\",\"2021-07-12T00:00:00\",\"2021-07-13T00:00:00\",\"2021-07-14T00:00:00\",\"2021-07-15T00:00:00\",\"2021-07-16T00:00:00\",\"2021-07-17T00:00:00\",\"2021-07-18T00:00:00\",\"2021-07-19T00:00:00\",\"2021-07-20T00:00:00\",\"2021-07-21T00:00:00\",\"2021-07-22T00:00:00\",\"2021-07-23T00:00:00\",\"2021-07-24T00:00:00\",\"2021-07-25T00:00:00\",\"2021-07-26T00:00:00\",\"2021-07-27T00:00:00\",\"2021-07-28T00:00:00\",\"2021-07-29T00:00:00\",\"2021-07-30T00:00:00\",\"2021-07-31T00:00:00\",\"2021-08-01T00:00:00\",\"2021-08-02T00:00:00\",\"2021-08-03T00:00:00\",\"2021-08-04T00:00:00\",\"2021-08-05T00:00:00\",\"2021-08-06T00:00:00\",\"2021-08-07T00:00:00\",\"2021-08-08T00:00:00\",\"2021-08-09T00:00:00\",\"2021-08-10T00:00:00\",\"2021-08-11T00:00:00\",\"2021-08-12T00:00:00\",\"2021-08-13T00:00:00\",\"2021-08-14T00:00:00\",\"2021-08-15T00:00:00\",\"2021-08-16T00:00:00\",\"2021-08-17T00:00:00\",\"2021-08-18T00:00:00\",\"2021-08-19T00:00:00\",\"2021-08-20T00:00:00\",\"2021-08-21T00:00:00\",\"2021-08-22T00:00:00\",\"2021-08-23T00:00:00\",\"2021-08-24T00:00:00\",\"2021-08-25T00:00:00\",\"2021-08-26T00:00:00\",\"2021-08-27T00:00:00\",\"2021-08-28T00:00:00\",\"2021-08-29T00:00:00\",\"2021-08-30T00:00:00\",\"2021-08-31T00:00:00\",\"2021-09-01T00:00:00\",\"2021-09-02T00:00:00\",\"2021-09-03T00:00:00\",\"2021-09-04T00:00:00\",\"2021-09-05T00:00:00\",\"2021-09-06T00:00:00\",\"2021-09-07T00:00:00\",\"2021-09-08T00:00:00\",\"2021-09-09T00:00:00\",\"2021-09-10T00:00:00\",\"2021-09-11T00:00:00\",\"2021-09-12T00:00:00\",\"2021-09-13T00:00:00\",\"2021-09-14T00:00:00\",\"2021-09-15T00:00:00\",\"2021-09-16T00:00:00\",\"2021-09-17T00:00:00\",\"2021-09-18T00:00:00\",\"2021-09-19T00:00:00\",\"2021-09-20T00:00:00\",\"2021-09-21T00:00:00\",\"2021-09-22T00:00:00\",\"2021-09-23T00:00:00\",\"2021-09-24T00:00:00\",\"2021-09-25T00:00:00\",\"2021-09-26T00:00:00\",\"2021-09-27T00:00:00\",\"2021-09-28T00:00:00\",\"2021-09-29T00:00:00\",\"2021-09-30T00:00:00\",\"2021-10-01T00:00:00\",\"2021-10-02T00:00:00\",\"2021-10-03T00:00:00\",\"2021-10-04T00:00:00\",\"2021-10-05T00:00:00\",\"2021-10-06T00:00:00\",\"2021-10-07T00:00:00\",\"2021-10-08T00:00:00\",\"2021-10-09T00:00:00\",\"2021-10-10T00:00:00\",\"2021-10-11T00:00:00\",\"2021-10-12T00:00:00\",\"2021-10-13T00:00:00\",\"2021-10-14T00:00:00\",\"2021-10-15T00:00:00\",\"2021-10-16T00:00:00\",\"2021-10-17T00:00:00\",\"2021-10-18T00:00:00\",\"2021-10-19T00:00:00\",\"2021-10-20T00:00:00\",\"2021-10-21T00:00:00\",\"2021-10-22T00:00:00\",\"2021-10-23T00:00:00\",\"2021-10-24T00:00:00\",\"2021-10-25T00:00:00\",\"2021-10-26T00:00:00\",\"2021-10-27T00:00:00\",\"2021-10-28T00:00:00\",\"2021-10-29T00:00:00\",\"2021-10-30T00:00:00\",\"2021-10-31T00:00:00\",\"2021-11-01T00:00:00\",\"2021-11-02T00:00:00\",\"2021-11-03T00:00:00\",\"2021-11-04T00:00:00\",\"2021-11-05T00:00:00\",\"2021-11-06T00:00:00\",\"2021-11-07T00:00:00\",\"2021-11-08T00:00:00\",\"2021-11-09T00:00:00\",\"2021-11-10T00:00:00\",\"2021-11-11T00:00:00\",\"2021-11-12T00:00:00\",\"2021-11-13T00:00:00\",\"2021-11-14T00:00:00\",\"2021-11-15T00:00:00\",\"2021-11-16T00:00:00\",\"2021-11-17T00:00:00\",\"2021-11-18T00:00:00\",\"2021-11-19T00:00:00\",\"2021-11-20T00:00:00\",\"2021-11-21T00:00:00\",\"2021-11-22T00:00:00\",\"2021-11-23T00:00:00\",\"2021-11-24T00:00:00\",\"2021-11-25T00:00:00\",\"2021-11-26T00:00:00\",\"2021-11-27T00:00:00\",\"2021-11-28T00:00:00\",\"2021-11-29T00:00:00\",\"2021-11-30T00:00:00\",\"2021-12-01T00:00:00\",\"2021-12-02T00:00:00\",\"2021-12-03T00:00:00\",\"2021-12-04T00:00:00\",\"2021-12-05T00:00:00\",\"2021-12-06T00:00:00\",\"2021-12-07T00:00:00\",\"2021-12-08T00:00:00\",\"2021-12-09T00:00:00\",\"2021-12-10T00:00:00\",\"2021-12-11T00:00:00\",\"2021-12-12T00:00:00\",\"2021-12-13T00:00:00\",\"2021-12-14T00:00:00\",\"2021-12-15T00:00:00\",\"2021-12-16T00:00:00\",\"2021-12-17T00:00:00\",\"2021-12-18T00:00:00\",\"2021-12-19T00:00:00\",\"2021-12-20T00:00:00\",\"2021-12-21T00:00:00\",\"2021-12-22T00:00:00\",\"2021-12-23T00:00:00\",\"2021-12-24T00:00:00\",\"2021-12-25T00:00:00\",\"2021-12-26T00:00:00\",\"2021-12-27T00:00:00\",\"2021-12-28T00:00:00\",\"2021-12-29T00:00:00\",\"2021-12-30T00:00:00\",\"2021-12-31T00:00:00\",\"2022-01-01T00:00:00\"],\"type\":\"candlestick\",\"xaxis\":\"x\",\"yaxis\":\"y\"}],                        {\"template\":{\"data\":{\"histogram2dcontour\":[{\"type\":\"histogram2dcontour\",\"colorbar\":{\"outlinewidth\":0,\"ticks\":\"\"},\"colorscale\":[[0.0,\"#0d0887\"],[0.1111111111111111,\"#46039f\"],[0.2222222222222222,\"#7201a8\"],[0.3333333333333333,\"#9c179e\"],[0.4444444444444444,\"#bd3786\"],[0.5555555555555556,\"#d8576b\"],[0.6666666666666666,\"#ed7953\"],[0.7777777777777778,\"#fb9f3a\"],[0.8888888888888888,\"#fdca26\"],[1.0,\"#f0f921\"]]}],\"choropleth\":[{\"type\":\"choropleth\",\"colorbar\":{\"outlinewidth\":0,\"ticks\":\"\"}}],\"histogram2d\":[{\"type\":\"histogram2d\",\"colorbar\":{\"outlinewidth\":0,\"ticks\":\"\"},\"colorscale\":[[0.0,\"#0d0887\"],[0.1111111111111111,\"#46039f\"],[0.2222222222222222,\"#7201a8\"],[0.3333333333333333,\"#9c179e\"],[0.4444444444444444,\"#bd3786\"],[0.5555555555555556,\"#d8576b\"],[0.6666666666666666,\"#ed7953\"],[0.7777777777777778,\"#fb9f3a\"],[0.8888888888888888,\"#fdca26\"],[1.0,\"#f0f921\"]]}],\"heatmap\":[{\"type\":\"heatmap\",\"colorbar\":{\"outlinewidth\":0,\"ticks\":\"\"},\"colorscale\":[[0.0,\"#0d0887\"],[0.1111111111111111,\"#46039f\"],[0.2222222222222222,\"#7201a8\"],[0.3333333333333333,\"#9c179e\"],[0.4444444444444444,\"#bd3786\"],[0.5555555555555556,\"#d8576b\"],[0.6666666666666666,\"#ed7953\"],[0.7777777777777778,\"#fb9f3a\"],[0.8888888888888888,\"#fdca26\"],[1.0,\"#f0f921\"]]}],\"heatmapgl\":[{\"type\":\"heatmapgl\",\"colorbar\":{\"outlinewidth\":0,\"ticks\":\"\"},\"colorscale\":[[0.0,\"#0d0887\"],[0.1111111111111111,\"#46039f\"],[0.2222222222222222,\"#7201a8\"],[0.3333333333333333,\"#9c179e\"],[0.4444444444444444,\"#bd3786\"],[0.5555555555555556,\"#d8576b\"],[0.6666666666666666,\"#ed7953\"],[0.7777777777777778,\"#fb9f3a\"],[0.8888888888888888,\"#fdca26\"],[1.0,\"#f0f921\"]]}],\"contourcarpet\":[{\"type\":\"contourcarpet\",\"colorbar\":{\"outlinewidth\":0,\"ticks\":\"\"}}],\"contour\":[{\"type\":\"contour\",\"colorbar\":{\"outlinewidth\":0,\"ticks\":\"\"},\"colorscale\":[[0.0,\"#0d0887\"],[0.1111111111111111,\"#46039f\"],[0.2222222222222222,\"#7201a8\"],[0.3333333333333333,\"#9c179e\"],[0.4444444444444444,\"#bd3786\"],[0.5555555555555556,\"#d8576b\"],[0.6666666666666666,\"#ed7953\"],[0.7777777777777778,\"#fb9f3a\"],[0.8888888888888888,\"#fdca26\"],[1.0,\"#f0f921\"]]}],\"surface\":[{\"type\":\"surface\",\"colorbar\":{\"outlinewidth\":0,\"ticks\":\"\"},\"colorscale\":[[0.0,\"#0d0887\"],[0.1111111111111111,\"#46039f\"],[0.2222222222222222,\"#7201a8\"],[0.3333333333333333,\"#9c179e\"],[0.4444444444444444,\"#bd3786\"],[0.5555555555555556,\"#d8576b\"],[0.6666666666666666,\"#ed7953\"],[0.7777777777777778,\"#fb9f3a\"],[0.8888888888888888,\"#fdca26\"],[1.0,\"#f0f921\"]]}],\"mesh3d\":[{\"type\":\"mesh3d\",\"colorbar\":{\"outlinewidth\":0,\"ticks\":\"\"}}],\"scatter\":[{\"fillpattern\":{\"fillmode\":\"overlay\",\"size\":10,\"solidity\":0.2},\"type\":\"scatter\"}],\"parcoords\":[{\"type\":\"parcoords\",\"line\":{\"colorbar\":{\"outlinewidth\":0,\"ticks\":\"\"}}}],\"scatterpolargl\":[{\"type\":\"scatterpolargl\",\"marker\":{\"colorbar\":{\"outlinewidth\":0,\"ticks\":\"\"}}}],\"bar\":[{\"error_x\":{\"color\":\"#2a3f5f\"},\"error_y\":{\"color\":\"#2a3f5f\"},\"marker\":{\"line\":{\"color\":\"#E5ECF6\",\"width\":0.5},\"pattern\":{\"fillmode\":\"overlay\",\"size\":10,\"solidity\":0.2}},\"type\":\"bar\"}],\"scattergeo\":[{\"type\":\"scattergeo\",\"marker\":{\"colorbar\":{\"outlinewidth\":0,\"ticks\":\"\"}}}],\"scatterpolar\":[{\"type\":\"scatterpolar\",\"marker\":{\"colorbar\":{\"outlinewidth\":0,\"ticks\":\"\"}}}],\"histogram\":[{\"marker\":{\"pattern\":{\"fillmode\":\"overlay\",\"size\":10,\"solidity\":0.2}},\"type\":\"histogram\"}],\"scattergl\":[{\"type\":\"scattergl\",\"marker\":{\"colorbar\":{\"outlinewidth\":0,\"ticks\":\"\"}}}],\"scatter3d\":[{\"type\":\"scatter3d\",\"line\":{\"colorbar\":{\"outlinewidth\":0,\"ticks\":\"\"}},\"marker\":{\"colorbar\":{\"outlinewidth\":0,\"ticks\":\"\"}}}],\"scattermapbox\":[{\"type\":\"scattermapbox\",\"marker\":{\"colorbar\":{\"outlinewidth\":0,\"ticks\":\"\"}}}],\"scatterternary\":[{\"type\":\"scatterternary\",\"marker\":{\"colorbar\":{\"outlinewidth\":0,\"ticks\":\"\"}}}],\"scattercarpet\":[{\"type\":\"scattercarpet\",\"marker\":{\"colorbar\":{\"outlinewidth\":0,\"ticks\":\"\"}}}],\"carpet\":[{\"aaxis\":{\"endlinecolor\":\"#2a3f5f\",\"gridcolor\":\"white\",\"linecolor\":\"white\",\"minorgridcolor\":\"white\",\"startlinecolor\":\"#2a3f5f\"},\"baxis\":{\"endlinecolor\":\"#2a3f5f\",\"gridcolor\":\"white\",\"linecolor\":\"white\",\"minorgridcolor\":\"white\",\"startlinecolor\":\"#2a3f5f\"},\"type\":\"carpet\"}],\"table\":[{\"cells\":{\"fill\":{\"color\":\"#EBF0F8\"},\"line\":{\"color\":\"white\"}},\"header\":{\"fill\":{\"color\":\"#C8D4E3\"},\"line\":{\"color\":\"white\"}},\"type\":\"table\"}],\"barpolar\":[{\"marker\":{\"line\":{\"color\":\"#E5ECF6\",\"width\":0.5},\"pattern\":{\"fillmode\":\"overlay\",\"size\":10,\"solidity\":0.2}},\"type\":\"barpolar\"}],\"pie\":[{\"automargin\":true,\"type\":\"pie\"}]},\"layout\":{\"autotypenumbers\":\"strict\",\"colorway\":[\"#636efa\",\"#EF553B\",\"#00cc96\",\"#ab63fa\",\"#FFA15A\",\"#19d3f3\",\"#FF6692\",\"#B6E880\",\"#FF97FF\",\"#FECB52\"],\"font\":{\"color\":\"#2a3f5f\"},\"hovermode\":\"closest\",\"hoverlabel\":{\"align\":\"left\"},\"paper_bgcolor\":\"white\",\"plot_bgcolor\":\"#E5ECF6\",\"polar\":{\"bgcolor\":\"#E5ECF6\",\"angularaxis\":{\"gridcolor\":\"white\",\"linecolor\":\"white\",\"ticks\":\"\"},\"radialaxis\":{\"gridcolor\":\"white\",\"linecolor\":\"white\",\"ticks\":\"\"}},\"ternary\":{\"bgcolor\":\"#E5ECF6\",\"aaxis\":{\"gridcolor\":\"white\",\"linecolor\":\"white\",\"ticks\":\"\"},\"baxis\":{\"gridcolor\":\"white\",\"linecolor\":\"white\",\"ticks\":\"\"},\"caxis\":{\"gridcolor\":\"white\",\"linecolor\":\"white\",\"ticks\":\"\"}},\"coloraxis\":{\"colorbar\":{\"outlinewidth\":0,\"ticks\":\"\"}},\"colorscale\":{\"sequential\":[[0.0,\"#0d0887\"],[0.1111111111111111,\"#46039f\"],[0.2222222222222222,\"#7201a8\"],[0.3333333333333333,\"#9c179e\"],[0.4444444444444444,\"#bd3786\"],[0.5555555555555556,\"#d8576b\"],[0.6666666666666666,\"#ed7953\"],[0.7777777777777778,\"#fb9f3a\"],[0.8888888888888888,\"#fdca26\"],[1.0,\"#f0f921\"]],\"sequentialminus\":[[0.0,\"#0d0887\"],[0.1111111111111111,\"#46039f\"],[0.2222222222222222,\"#7201a8\"],[0.3333333333333333,\"#9c179e\"],[0.4444444444444444,\"#bd3786\"],[0.5555555555555556,\"#d8576b\"],[0.6666666666666666,\"#ed7953\"],[0.7777777777777778,\"#fb9f3a\"],[0.8888888888888888,\"#fdca26\"],[1.0,\"#f0f921\"]],\"diverging\":[[0,\"#8e0152\"],[0.1,\"#c51b7d\"],[0.2,\"#de77ae\"],[0.3,\"#f1b6da\"],[0.4,\"#fde0ef\"],[0.5,\"#f7f7f7\"],[0.6,\"#e6f5d0\"],[0.7,\"#b8e186\"],[0.8,\"#7fbc41\"],[0.9,\"#4d9221\"],[1,\"#276419\"]]},\"xaxis\":{\"gridcolor\":\"white\",\"linecolor\":\"white\",\"ticks\":\"\",\"title\":{\"standoff\":15},\"zerolinecolor\":\"white\",\"automargin\":true,\"zerolinewidth\":2},\"yaxis\":{\"gridcolor\":\"white\",\"linecolor\":\"white\",\"ticks\":\"\",\"title\":{\"standoff\":15},\"zerolinecolor\":\"white\",\"automargin\":true,\"zerolinewidth\":2},\"scene\":{\"xaxis\":{\"backgroundcolor\":\"#E5ECF6\",\"gridcolor\":\"white\",\"linecolor\":\"white\",\"showbackground\":true,\"ticks\":\"\",\"zerolinecolor\":\"white\",\"gridwidth\":2},\"yaxis\":{\"backgroundcolor\":\"#E5ECF6\",\"gridcolor\":\"white\",\"linecolor\":\"white\",\"showbackground\":true,\"ticks\":\"\",\"zerolinecolor\":\"white\",\"gridwidth\":2},\"zaxis\":{\"backgroundcolor\":\"#E5ECF6\",\"gridcolor\":\"white\",\"linecolor\":\"white\",\"showbackground\":true,\"ticks\":\"\",\"zerolinecolor\":\"white\",\"gridwidth\":2}},\"shapedefaults\":{\"line\":{\"color\":\"#2a3f5f\"}},\"annotationdefaults\":{\"arrowcolor\":\"#2a3f5f\",\"arrowhead\":0,\"arrowwidth\":1},\"geo\":{\"bgcolor\":\"white\",\"landcolor\":\"#E5ECF6\",\"subunitcolor\":\"white\",\"showland\":true,\"showlakes\":true,\"lakecolor\":\"white\"},\"title\":{\"x\":0.05},\"mapbox\":{\"style\":\"light\"}}},\"xaxis\":{\"anchor\":\"y\",\"domain\":[0.0,1.0],\"rangeslider\":{\"visible\":false}},\"yaxis\":{\"anchor\":\"x\",\"domain\":[0.0,1.0],\"title\":{\"text\":\"Price $\"},\"showgrid\":true},\"title\":{\"text\":\"Your backtest name trades\"},\"height\":800,\"legend\":{\"orientation\":\"h\",\"yanchor\":\"bottom\",\"y\":1.02,\"xanchor\":\"right\",\"x\":1}},                        {\"responsive\": true}                    ).then(function(){\n                            \nvar gd = document.getElementById('d3f4493c-2d54-49fa-af59-1d88bf9c0658');\nvar x = new MutationObserver(function (mutations, observer) {{\n        var display = window.getComputedStyle(gd).display;\n        if (!display || display === 'none') {{\n            console.log([gd, 'removed!']);\n            Plotly.purge(gd);\n            observer.disconnect();\n        }}\n}});\n\n// Listen for the removal of the full notebook cells\nvar notebookContainer = gd.closest('#notebook-container');\nif (notebookContainer) {{\n    x.observe(notebookContainer, {childList: true});\n}}\n\n// Listen for the clearing of the current output cell\nvar outputEl = gd.closest('.output');\nif (outputEl) {{\n    x.observe(outputEl, {childList: true});\n}}\n\n                        })                };                });            </script>        </div>"
     },
     "metadata": {},
     "output_type": "display_data"
    }
   ],
   "source": [
    "from tradeexecutor.visual.single_pair import visualise_single_pair\n",
    "\n",
    "figure = visualise_single_pair(\n",
    "    state,\n",
    "    universe.universe.candles,\n",
    "    start_at=start_at,\n",
    "    end_at=end_at)\n",
    "\n",
    "figure.show()"
   ],
   "metadata": {
    "collapsed": false,
    "pycharm": {
     "name": "#%%\n"
    }
   }
  },
  {
   "cell_type": "markdown",
   "source": [
    "### Portfolio performance benchmark\n",
    "\n",
    "Here we benchmark the strategy performance against some baseline scenarios.\n",
    "\n",
    "- Buy and hold US dollar\n",
    "- Buy and hold the underlying trading pair base asset\n",
    "\n",
    "You can add more complex benchmarking, or different asset and stratey benchmarks here."
   ],
   "metadata": {
    "collapsed": false
   }
  },
  {
   "cell_type": "code",
   "execution_count": 21,
   "outputs": [],
   "source": [
    "close = universe.universe.candles.get_single_pair_data()[\"close\"]"
   ],
   "metadata": {
    "collapsed": false,
    "pycharm": {
     "name": "#%%\n"
    }
   }
  },
  {
   "cell_type": "code",
   "execution_count": 22,
   "outputs": [
    {
     "data": {
      "application/vnd.plotly.v1+json": {
       "data": [
        {
         "line": {
          "color": "#008800"
         },
         "mode": "lines",
         "name": "Your backtest name",
         "x": [
          "2021-06-01T00:00:00",
          "2021-06-02T00:00:00",
          "2021-06-03T00:00:00",
          "2021-06-04T00:00:00",
          "2021-06-05T00:00:00",
          "2021-06-06T00:00:00",
          "2021-06-07T00:00:00",
          "2021-06-08T00:00:00",
          "2021-06-09T00:00:00",
          "2021-06-10T00:00:00",
          "2021-06-11T00:00:00",
          "2021-06-12T00:00:00",
          "2021-06-13T00:00:00",
          "2021-06-14T00:00:00",
          "2021-06-15T00:00:00",
          "2021-06-16T00:00:00",
          "2021-06-17T00:00:00",
          "2021-06-18T00:00:00",
          "2021-06-19T00:00:00",
          "2021-06-20T00:00:00",
          "2021-06-21T00:00:00",
          "2021-06-22T00:00:00",
          "2021-06-23T00:00:00",
          "2021-06-24T00:00:00",
          "2021-06-25T00:00:00",
          "2021-06-26T00:00:00",
          "2021-06-27T00:00:00",
          "2021-06-28T00:00:00",
          "2021-06-29T00:00:00",
          "2021-06-30T00:00:00",
          "2021-07-01T00:00:00",
          "2021-07-02T00:00:00",
          "2021-07-03T00:00:00",
          "2021-07-04T00:00:00",
          "2021-07-05T00:00:00",
          "2021-07-06T00:00:00",
          "2021-07-07T00:00:00",
          "2021-07-08T00:00:00",
          "2021-07-09T00:00:00",
          "2021-07-10T00:00:00",
          "2021-07-11T00:00:00",
          "2021-07-12T00:00:00",
          "2021-07-13T00:00:00",
          "2021-07-14T00:00:00",
          "2021-07-15T00:00:00",
          "2021-07-16T00:00:00",
          "2021-07-17T00:00:00",
          "2021-07-18T00:00:00",
          "2021-07-19T00:00:00",
          "2021-07-20T00:00:00",
          "2021-07-21T00:00:00",
          "2021-07-22T00:00:00",
          "2021-07-23T00:00:00",
          "2021-07-24T00:00:00",
          "2021-07-25T00:00:00",
          "2021-07-26T00:00:00",
          "2021-07-27T00:00:00",
          "2021-07-28T00:00:00",
          "2021-07-29T00:00:00",
          "2021-07-30T00:00:00",
          "2021-07-31T00:00:00",
          "2021-08-01T00:00:00",
          "2021-08-02T00:00:00",
          "2021-08-03T00:00:00",
          "2021-08-04T00:00:00",
          "2021-08-05T00:00:00",
          "2021-08-06T00:00:00",
          "2021-08-07T00:00:00",
          "2021-08-08T00:00:00",
          "2021-08-09T00:00:00",
          "2021-08-10T00:00:00",
          "2021-08-11T00:00:00",
          "2021-08-12T00:00:00",
          "2021-08-13T00:00:00",
          "2021-08-14T00:00:00",
          "2021-08-15T00:00:00",
          "2021-08-16T00:00:00",
          "2021-08-17T00:00:00",
          "2021-08-18T00:00:00",
          "2021-08-19T00:00:00",
          "2021-08-20T00:00:00",
          "2021-08-21T00:00:00",
          "2021-08-22T00:00:00",
          "2021-08-23T00:00:00",
          "2021-08-24T00:00:00",
          "2021-08-25T00:00:00",
          "2021-08-26T00:00:00",
          "2021-08-27T00:00:00",
          "2021-08-28T00:00:00",
          "2021-08-29T00:00:00",
          "2021-08-30T00:00:00",
          "2021-08-31T00:00:00",
          "2021-09-01T00:00:00",
          "2021-09-02T00:00:00",
          "2021-09-03T00:00:00",
          "2021-09-04T00:00:00",
          "2021-09-05T00:00:00",
          "2021-09-06T00:00:00",
          "2021-09-07T00:00:00",
          "2021-09-08T00:00:00",
          "2021-09-09T00:00:00",
          "2021-09-10T00:00:00",
          "2021-09-11T00:00:00",
          "2021-09-12T00:00:00",
          "2021-09-13T00:00:00",
          "2021-09-14T00:00:00",
          "2021-09-15T00:00:00",
          "2021-09-16T00:00:00",
          "2021-09-17T00:00:00",
          "2021-09-18T00:00:00",
          "2021-09-19T00:00:00",
          "2021-09-20T00:00:00",
          "2021-09-21T00:00:00",
          "2021-09-22T00:00:00",
          "2021-09-23T00:00:00",
          "2021-09-24T00:00:00",
          "2021-09-25T00:00:00",
          "2021-09-26T00:00:00",
          "2021-09-27T00:00:00",
          "2021-09-28T00:00:00",
          "2021-09-29T00:00:00",
          "2021-09-30T00:00:00",
          "2021-10-01T00:00:00",
          "2021-10-02T00:00:00",
          "2021-10-03T00:00:00",
          "2021-10-04T00:00:00",
          "2021-10-05T00:00:00",
          "2021-10-06T00:00:00",
          "2021-10-07T00:00:00",
          "2021-10-08T00:00:00",
          "2021-10-09T00:00:00",
          "2021-10-10T00:00:00",
          "2021-10-11T00:00:00",
          "2021-10-12T00:00:00",
          "2021-10-13T00:00:00",
          "2021-10-14T00:00:00",
          "2021-10-15T00:00:00",
          "2021-10-16T00:00:00",
          "2021-10-17T00:00:00",
          "2021-10-18T00:00:00",
          "2021-10-19T00:00:00",
          "2021-10-20T00:00:00",
          "2021-10-21T00:00:00",
          "2021-10-22T00:00:00",
          "2021-10-23T00:00:00",
          "2021-10-24T00:00:00",
          "2021-10-25T00:00:00",
          "2021-10-26T00:00:00",
          "2021-10-27T00:00:00",
          "2021-10-28T00:00:00",
          "2021-10-29T00:00:00",
          "2021-10-30T00:00:00",
          "2021-10-31T00:00:00",
          "2021-11-01T00:00:00",
          "2021-11-02T00:00:00",
          "2021-11-03T00:00:00",
          "2021-11-04T00:00:00",
          "2021-11-05T00:00:00",
          "2021-11-06T00:00:00",
          "2021-11-07T00:00:00",
          "2021-11-08T00:00:00",
          "2021-11-09T00:00:00",
          "2021-11-10T00:00:00",
          "2021-11-11T00:00:00",
          "2021-11-12T00:00:00",
          "2021-11-13T00:00:00",
          "2021-11-14T00:00:00",
          "2021-11-15T00:00:00",
          "2021-11-16T00:00:00",
          "2021-11-17T00:00:00",
          "2021-11-18T00:00:00",
          "2021-11-19T00:00:00",
          "2021-11-20T00:00:00",
          "2021-11-21T00:00:00",
          "2021-11-22T00:00:00",
          "2021-11-23T00:00:00",
          "2021-11-24T00:00:00",
          "2021-11-25T00:00:00",
          "2021-11-26T00:00:00",
          "2021-11-27T00:00:00",
          "2021-11-28T00:00:00",
          "2021-11-29T00:00:00",
          "2021-11-30T00:00:00",
          "2021-12-01T00:00:00",
          "2021-12-02T00:00:00",
          "2021-12-03T00:00:00",
          "2021-12-04T00:00:00",
          "2021-12-05T00:00:00",
          "2021-12-06T00:00:00",
          "2021-12-07T00:00:00",
          "2021-12-08T00:00:00",
          "2021-12-09T00:00:00",
          "2021-12-10T00:00:00",
          "2021-12-11T00:00:00",
          "2021-12-12T00:00:00",
          "2021-12-13T00:00:00",
          "2021-12-14T00:00:00",
          "2021-12-15T00:00:00",
          "2021-12-16T00:00:00",
          "2021-12-17T00:00:00",
          "2021-12-18T00:00:00",
          "2021-12-19T00:00:00",
          "2021-12-20T00:00:00",
          "2021-12-21T00:00:00",
          "2021-12-22T00:00:00",
          "2021-12-23T00:00:00",
          "2021-12-24T00:00:00",
          "2021-12-25T00:00:00",
          "2021-12-26T00:00:00",
          "2021-12-27T00:00:00",
          "2021-12-28T00:00:00",
          "2021-12-29T00:00:00",
          "2021-12-30T00:00:00",
          "2021-12-31T00:00:00"
         ],
         "y": [
          10000.0,
          10000.0,
          10000.0,
          10000.0,
          10000.0,
          10000.0,
          10000.0,
          10000.0,
          10000.0,
          10000.0,
          10000.0,
          10000.0,
          10000.0,
          10000.0,
          10000.0,
          10000.0,
          10000.0,
          10000.0,
          10000.0,
          10000.0,
          10000.0,
          10000.0,
          10000.0,
          10000.0,
          10000.0,
          10000.0,
          10000.0,
          10000.0,
          10000.0,
          10000.0,
          10000.0,
          10000.0,
          10000.0,
          10000.0,
          10000.0,
          10000.0,
          10000.0,
          10000.0,
          10000.0,
          10000.0,
          10000.0,
          10000.0,
          10000.0,
          10000.0,
          10000.0,
          10000.0,
          10000.0,
          10000.0,
          10000.0,
          10000.0,
          10000.0,
          10000.0,
          10000.0,
          10000.0,
          10000.0,
          10000.0,
          10000.0,
          10000.0,
          10000.0,
          10000.0,
          10000.0,
          10000.0,
          10000.0,
          10000.0,
          10000.0,
          10000.0,
          10000.0,
          10000.0,
          10000.0,
          10000.0,
          10000.0,
          10000.0,
          10000.0,
          10000.0,
          10000.0,
          10000.0,
          10000.0,
          10000.0,
          10000.0,
          10000.0,
          10000.0,
          10000.0,
          10000.0,
          10000.0,
          10000.0,
          10000.0,
          10000.0,
          10000.0,
          10000.0,
          10000.0,
          10000.0,
          10000.0,
          10000.0,
          10000.0,
          10000.0,
          10000.0,
          10000.0,
          10000.0,
          10000.0,
          10000.0,
          10000.0,
          10000.0,
          10000.0,
          10000.0,
          10000.0,
          10000.0,
          10000.0,
          10000.0,
          10000.0,
          10000.0,
          10000.0,
          10000.0,
          10000.0,
          10000.0,
          10000.0,
          10000.0,
          10000.0,
          10000.0,
          10000.0,
          10000.0,
          10000.0,
          10000.0,
          10000.0,
          10000.0,
          10000.0,
          10000.0,
          10000.0,
          10000.0,
          10000.0,
          10000.0,
          10000.0,
          10000.0,
          10000.0,
          10000.0,
          10000.0,
          10000.0,
          10000.0,
          10000.0,
          10000.0,
          10000.0,
          10000.0,
          10000.0,
          10000.0,
          10000.0,
          10000.0,
          10000.0,
          10000.0,
          10000.0,
          10000.0,
          10000.0,
          10000.0,
          10000.0,
          10000.0,
          10000.0,
          10000.0,
          10000.0,
          10000.0,
          10000.0,
          10000.0,
          10000.0,
          10000.0,
          10000.0,
          10000.0,
          10000.0,
          10000.0,
          10000.0,
          10000.0,
          10000.0,
          10000.0,
          10000.0,
          10000.0,
          10000.0,
          10000.0,
          10000.0,
          10000.0,
          10000.0,
          10000.0,
          10000.0,
          10000.0,
          10000.0,
          10000.0,
          10000.0,
          10000.0,
          10000.0,
          10000.0,
          10000.0,
          10000.0,
          10000.0,
          10000.0,
          10000.0,
          10000.0,
          10000.0,
          10000.0,
          10000.0,
          10000.0,
          10000.0,
          10000.0,
          10000.0,
          10000.0,
          10000.0,
          10000.0,
          10000.0,
          10000.0,
          10000.0,
          10000.0,
          10000.0,
          10000.0,
          10000.0,
          10000.0,
          10000.0,
          10000.0,
          10000.0,
          10000.0,
          10000.0
         ],
         "type": "scatter"
        },
        {
         "line": {
          "color": "#000088"
         },
         "mode": "lines",
         "name": "All cash",
         "x": [
          "2021-06-01T00:00:00",
          "2022-01-01T00:00:00"
         ],
         "y": [
          10000.0,
          10000.0
         ],
         "type": "scatter"
        },
        {
         "line": {
          "color": "#880000"
         },
         "mode": "lines",
         "name": "Buy and hold WBNB",
         "x": [
          "2021-06-01T00:00:00",
          "2021-06-02T00:00:00",
          "2021-06-03T00:00:00",
          "2021-06-04T00:00:00",
          "2021-06-05T00:00:00",
          "2021-06-06T00:00:00",
          "2021-06-07T00:00:00",
          "2021-06-08T00:00:00",
          "2021-06-09T00:00:00",
          "2021-06-10T00:00:00",
          "2021-06-11T00:00:00",
          "2021-06-12T00:00:00",
          "2021-06-13T00:00:00",
          "2021-06-14T00:00:00",
          "2021-06-15T00:00:00",
          "2021-06-16T00:00:00",
          "2021-06-17T00:00:00",
          "2021-06-18T00:00:00",
          "2021-06-19T00:00:00",
          "2021-06-20T00:00:00",
          "2021-06-21T00:00:00",
          "2021-06-22T00:00:00",
          "2021-06-23T00:00:00",
          "2021-06-24T00:00:00",
          "2021-06-25T00:00:00",
          "2021-06-26T00:00:00",
          "2021-06-27T00:00:00",
          "2021-06-28T00:00:00",
          "2021-06-29T00:00:00",
          "2021-06-30T00:00:00",
          "2021-07-01T00:00:00",
          "2021-07-02T00:00:00",
          "2021-07-03T00:00:00",
          "2021-07-04T00:00:00",
          "2021-07-05T00:00:00",
          "2021-07-06T00:00:00",
          "2021-07-07T00:00:00",
          "2021-07-08T00:00:00",
          "2021-07-09T00:00:00",
          "2021-07-10T00:00:00",
          "2021-07-11T00:00:00",
          "2021-07-12T00:00:00",
          "2021-07-13T00:00:00",
          "2021-07-14T00:00:00",
          "2021-07-15T00:00:00",
          "2021-07-16T00:00:00",
          "2021-07-17T00:00:00",
          "2021-07-18T00:00:00",
          "2021-07-19T00:00:00",
          "2021-07-20T00:00:00",
          "2021-07-21T00:00:00",
          "2021-07-22T00:00:00",
          "2021-07-23T00:00:00",
          "2021-07-24T00:00:00",
          "2021-07-25T00:00:00",
          "2021-07-26T00:00:00",
          "2021-07-27T00:00:00",
          "2021-07-28T00:00:00",
          "2021-07-29T00:00:00",
          "2021-07-30T00:00:00",
          "2021-07-31T00:00:00",
          "2021-08-01T00:00:00",
          "2021-08-02T00:00:00",
          "2021-08-03T00:00:00",
          "2021-08-04T00:00:00",
          "2021-08-05T00:00:00",
          "2021-08-06T00:00:00",
          "2021-08-07T00:00:00",
          "2021-08-08T00:00:00",
          "2021-08-09T00:00:00",
          "2021-08-10T00:00:00",
          "2021-08-11T00:00:00",
          "2021-08-12T00:00:00",
          "2021-08-13T00:00:00",
          "2021-08-14T00:00:00",
          "2021-08-15T00:00:00",
          "2021-08-16T00:00:00",
          "2021-08-17T00:00:00",
          "2021-08-18T00:00:00",
          "2021-08-19T00:00:00",
          "2021-08-20T00:00:00",
          "2021-08-21T00:00:00",
          "2021-08-22T00:00:00",
          "2021-08-23T00:00:00",
          "2021-08-24T00:00:00",
          "2021-08-25T00:00:00",
          "2021-08-26T00:00:00",
          "2021-08-27T00:00:00",
          "2021-08-28T00:00:00",
          "2021-08-29T00:00:00",
          "2021-08-30T00:00:00",
          "2021-08-31T00:00:00",
          "2021-09-01T00:00:00",
          "2021-09-02T00:00:00",
          "2021-09-03T00:00:00",
          "2021-09-04T00:00:00",
          "2021-09-05T00:00:00",
          "2021-09-06T00:00:00",
          "2021-09-07T00:00:00",
          "2021-09-08T00:00:00",
          "2021-09-09T00:00:00",
          "2021-09-10T00:00:00",
          "2021-09-11T00:00:00",
          "2021-09-12T00:00:00",
          "2021-09-13T00:00:00",
          "2021-09-14T00:00:00",
          "2021-09-15T00:00:00",
          "2021-09-16T00:00:00",
          "2021-09-17T00:00:00",
          "2021-09-18T00:00:00",
          "2021-09-19T00:00:00",
          "2021-09-20T00:00:00",
          "2021-09-21T00:00:00",
          "2021-09-22T00:00:00",
          "2021-09-23T00:00:00",
          "2021-09-24T00:00:00",
          "2021-09-25T00:00:00",
          "2021-09-26T00:00:00",
          "2021-09-27T00:00:00",
          "2021-09-28T00:00:00",
          "2021-09-29T00:00:00",
          "2021-09-30T00:00:00",
          "2021-10-01T00:00:00",
          "2021-10-02T00:00:00",
          "2021-10-03T00:00:00",
          "2021-10-04T00:00:00",
          "2021-10-05T00:00:00",
          "2021-10-06T00:00:00",
          "2021-10-07T00:00:00",
          "2021-10-08T00:00:00",
          "2021-10-09T00:00:00",
          "2021-10-10T00:00:00",
          "2021-10-11T00:00:00",
          "2021-10-12T00:00:00",
          "2021-10-13T00:00:00",
          "2021-10-14T00:00:00",
          "2021-10-15T00:00:00",
          "2021-10-16T00:00:00",
          "2021-10-17T00:00:00",
          "2021-10-18T00:00:00",
          "2021-10-19T00:00:00",
          "2021-10-20T00:00:00",
          "2021-10-21T00:00:00",
          "2021-10-22T00:00:00",
          "2021-10-23T00:00:00",
          "2021-10-24T00:00:00",
          "2021-10-25T00:00:00",
          "2021-10-26T00:00:00",
          "2021-10-27T00:00:00",
          "2021-10-28T00:00:00",
          "2021-10-29T00:00:00",
          "2021-10-30T00:00:00",
          "2021-10-31T00:00:00",
          "2021-11-01T00:00:00",
          "2021-11-02T00:00:00",
          "2021-11-03T00:00:00",
          "2021-11-04T00:00:00",
          "2021-11-05T00:00:00",
          "2021-11-06T00:00:00",
          "2021-11-07T00:00:00",
          "2021-11-08T00:00:00",
          "2021-11-09T00:00:00",
          "2021-11-10T00:00:00",
          "2021-11-11T00:00:00",
          "2021-11-12T00:00:00",
          "2021-11-13T00:00:00",
          "2021-11-14T00:00:00",
          "2021-11-15T00:00:00",
          "2021-11-16T00:00:00",
          "2021-11-17T00:00:00",
          "2021-11-18T00:00:00",
          "2021-11-19T00:00:00",
          "2021-11-20T00:00:00",
          "2021-11-21T00:00:00",
          "2021-11-22T00:00:00",
          "2021-11-23T00:00:00",
          "2021-11-24T00:00:00",
          "2021-11-25T00:00:00",
          "2021-11-26T00:00:00",
          "2021-11-27T00:00:00",
          "2021-11-28T00:00:00",
          "2021-11-29T00:00:00",
          "2021-11-30T00:00:00",
          "2021-12-01T00:00:00",
          "2021-12-02T00:00:00",
          "2021-12-03T00:00:00",
          "2021-12-04T00:00:00",
          "2021-12-05T00:00:00",
          "2021-12-06T00:00:00",
          "2021-12-07T00:00:00",
          "2021-12-08T00:00:00",
          "2021-12-09T00:00:00",
          "2021-12-10T00:00:00",
          "2021-12-11T00:00:00",
          "2021-12-12T00:00:00",
          "2021-12-13T00:00:00",
          "2021-12-14T00:00:00",
          "2021-12-15T00:00:00",
          "2021-12-16T00:00:00",
          "2021-12-17T00:00:00",
          "2021-12-18T00:00:00",
          "2021-12-19T00:00:00",
          "2021-12-20T00:00:00",
          "2021-12-21T00:00:00",
          "2021-12-22T00:00:00",
          "2021-12-23T00:00:00",
          "2021-12-24T00:00:00",
          "2021-12-25T00:00:00",
          "2021-12-26T00:00:00",
          "2021-12-27T00:00:00",
          "2021-12-28T00:00:00",
          "2021-12-29T00:00:00",
          "2021-12-30T00:00:00",
          "2021-12-31T00:00:00",
          "2022-01-01T00:00:00"
         ],
         "y": [
          10000.0,
          11149.166015625,
          11829.7001953125,
          10873.3837890625,
          10813.1884765625,
          10865.9033203125,
          9867.962890625,
          9810.8017578125,
          10409.4931640625,
          9772.3349609375,
          9596.421875,
          9490.6552734375,
          10177.5205078125,
          10272.2919921875,
          10200.3955078125,
          9560.859375,
          9772.603515625,
          9340.1953125,
          9246.697265625,
          9378.3271484375,
          7534.4990234375,
          7246.310546875,
          8187.76513671875,
          8538.490234375,
          7822.33349609375,
          7703.23779296875,
          8063.04931640625,
          8041.228515625,
          8335.5859375,
          8431.5419921875,
          7997.2177734375,
          7925.85009765625,
          8267.3779296875,
          8497.533203125,
          8408.8681640625,
          8898.388671875,
          9038.2978515625,
          8567.1513671875,
          8808.533203125,
          8764.7705078125,
          8895.2255859375,
          8791.203125,
          8513.0791015625,
          8527.37890625,
          8747.26953125,
          8356.392578125,
          8296.7587890625,
          8410.1435546875,
          7734.7021484375,
          7354.0166015625,
          8085.802734375,
          8141.38525390625,
          8294.0341796875,
          8361.37890625,
          8405.896484375,
          8456.7939453125,
          8655.6259765625,
          8648.958984375,
          8760.3720703125,
          8912.7861328125,
          9232.96875,
          9260.1318359375,
          9141.7236328125,
          8925.2294921875,
          9258.2021484375,
          9352.017578125,
          9449.03125,
          9886.572265625,
          9448.7705078125,
          9837.5068359375,
          10314.478515625,
          10893.3720703125,
          10684.4892578125,
          11323.9287109375,
          11319.111328125,
          11476.2080078125,
          11523.140625,
          11082.7099609375,
          10971.8427734375,
          11886.1240234375,
          12538.0341796875,
          12427.044921875,
          12466.7998046875,
          13812.4453125,
          13011.2998046875,
          13903.0107421875,
          13304.38671875,
          13644.9345703125,
          13410.322265625,
          13284.2587890625,
          12721.986328125,
          12850.7529296875,
          13580.0107421875,
          13466.2265625,
          13460.623046875,
          13781.6064453125,
          13978.193359375,
          13776.33203125,
          11615.923828125,
          11496.869140625,
          11620.259765625,
          11127.4658203125,
          11218.794921875,
          11576.6298828125,
          11105.8291015625,
          11492.59375,
          11945.5712890625,
          11739.8173828125,
          11203.0087890625,
          11399.6484375,
          11271.8955078125,
          10027.138671875,
          9502.6611328125,
          10462.6806640625,
          10589.60546875,
          9847.9765625,
          9722.9111328125,
          9503.7001953125,
          9291.8525390625,
          9183.666015625,
          10137.9296875,
          10728.3740234375,
          11685.34765625,
          11877.939453125,
          11901.9658203125,
          11848.060546875,
          12245.0390625,
          12092.1337890625,
          12168.904296875,
          11565.162109375,
          11697.2978515625,
          11218.765625,
          11392.6181640625,
          12228.3955078125,
          12966.0126953125,
          13086.033203125,
          13089.7060546875,
          12945.8193359375,
          12979.5556640625,
          13449.7939453125,
          13466.07421875,
          13905.7421875,
          13108.6650390625,
          13222.5546875,
          13374.2822265625,
          13137.3623046875,
          13390.734375,
          13200.31640625,
          12490.333984375,
          13630.533203125,
          14599.6689453125,
          14525.4833984375,
          14566.923828125,
          15207.009765625,
          15395.509765625,
          15669.0615234375,
          15419.8701171875,
          16863.947265625,
          17561.76953125,
          18002.490234375,
          18073.412109375,
          17649.728515625,
          17058.375,
          17479.35546875,
          17406.970703125,
          18040.4921875,
          18108.85546875,
          17501.15234375,
          16284.609375,
          16034.400390625,
          14755.423828125,
          16112.29296875,
          16777.90234375,
          16235.9716796875,
          15528.2890625,
          16411.63671875,
          16292.0341796875,
          17724.18359375,
          16271.322265625,
          16641.984375,
          16861.861328125,
          17229.927734375,
          17236.705078125,
          17394.408203125,
          17119.083984375,
          16451.900390625,
          15722.9189453125,
          15384.70703125,
          16325.1787109375,
          16069.392578125,
          16742.810546875,
          15886.8095703125,
          15271.3427734375,
          15609.8740234375,
          15876.8232421875,
          14495.0283203125,
          14571.05859375,
          14928.314453125,
          14617.083984375,
          14611.3818359375,
          14756.041015625,
          14724.111328125,
          14479.8154296875,
          14619.89453125,
          14754.8203125,
          15127.8740234375,
          15030.3671875,
          15147.6396484375,
          15087.4072265625,
          15669.78515625,
          14786.81640625,
          14252.078125,
          14291.275390625,
          14147.8095703125,
          14540.00390625
         ],
         "type": "scatter"
        }
       ],
       "layout": {
        "template": {
         "data": {
          "histogram2dcontour": [
           {
            "type": "histogram2dcontour",
            "colorbar": {
             "outlinewidth": 0,
             "ticks": ""
            },
            "colorscale": [
             [
              0.0,
              "#0d0887"
             ],
             [
              0.1111111111111111,
              "#46039f"
             ],
             [
              0.2222222222222222,
              "#7201a8"
             ],
             [
              0.3333333333333333,
              "#9c179e"
             ],
             [
              0.4444444444444444,
              "#bd3786"
             ],
             [
              0.5555555555555556,
              "#d8576b"
             ],
             [
              0.6666666666666666,
              "#ed7953"
             ],
             [
              0.7777777777777778,
              "#fb9f3a"
             ],
             [
              0.8888888888888888,
              "#fdca26"
             ],
             [
              1.0,
              "#f0f921"
             ]
            ]
           }
          ],
          "choropleth": [
           {
            "type": "choropleth",
            "colorbar": {
             "outlinewidth": 0,
             "ticks": ""
            }
           }
          ],
          "histogram2d": [
           {
            "type": "histogram2d",
            "colorbar": {
             "outlinewidth": 0,
             "ticks": ""
            },
            "colorscale": [
             [
              0.0,
              "#0d0887"
             ],
             [
              0.1111111111111111,
              "#46039f"
             ],
             [
              0.2222222222222222,
              "#7201a8"
             ],
             [
              0.3333333333333333,
              "#9c179e"
             ],
             [
              0.4444444444444444,
              "#bd3786"
             ],
             [
              0.5555555555555556,
              "#d8576b"
             ],
             [
              0.6666666666666666,
              "#ed7953"
             ],
             [
              0.7777777777777778,
              "#fb9f3a"
             ],
             [
              0.8888888888888888,
              "#fdca26"
             ],
             [
              1.0,
              "#f0f921"
             ]
            ]
           }
          ],
          "heatmap": [
           {
            "type": "heatmap",
            "colorbar": {
             "outlinewidth": 0,
             "ticks": ""
            },
            "colorscale": [
             [
              0.0,
              "#0d0887"
             ],
             [
              0.1111111111111111,
              "#46039f"
             ],
             [
              0.2222222222222222,
              "#7201a8"
             ],
             [
              0.3333333333333333,
              "#9c179e"
             ],
             [
              0.4444444444444444,
              "#bd3786"
             ],
             [
              0.5555555555555556,
              "#d8576b"
             ],
             [
              0.6666666666666666,
              "#ed7953"
             ],
             [
              0.7777777777777778,
              "#fb9f3a"
             ],
             [
              0.8888888888888888,
              "#fdca26"
             ],
             [
              1.0,
              "#f0f921"
             ]
            ]
           }
          ],
          "heatmapgl": [
           {
            "type": "heatmapgl",
            "colorbar": {
             "outlinewidth": 0,
             "ticks": ""
            },
            "colorscale": [
             [
              0.0,
              "#0d0887"
             ],
             [
              0.1111111111111111,
              "#46039f"
             ],
             [
              0.2222222222222222,
              "#7201a8"
             ],
             [
              0.3333333333333333,
              "#9c179e"
             ],
             [
              0.4444444444444444,
              "#bd3786"
             ],
             [
              0.5555555555555556,
              "#d8576b"
             ],
             [
              0.6666666666666666,
              "#ed7953"
             ],
             [
              0.7777777777777778,
              "#fb9f3a"
             ],
             [
              0.8888888888888888,
              "#fdca26"
             ],
             [
              1.0,
              "#f0f921"
             ]
            ]
           }
          ],
          "contourcarpet": [
           {
            "type": "contourcarpet",
            "colorbar": {
             "outlinewidth": 0,
             "ticks": ""
            }
           }
          ],
          "contour": [
           {
            "type": "contour",
            "colorbar": {
             "outlinewidth": 0,
             "ticks": ""
            },
            "colorscale": [
             [
              0.0,
              "#0d0887"
             ],
             [
              0.1111111111111111,
              "#46039f"
             ],
             [
              0.2222222222222222,
              "#7201a8"
             ],
             [
              0.3333333333333333,
              "#9c179e"
             ],
             [
              0.4444444444444444,
              "#bd3786"
             ],
             [
              0.5555555555555556,
              "#d8576b"
             ],
             [
              0.6666666666666666,
              "#ed7953"
             ],
             [
              0.7777777777777778,
              "#fb9f3a"
             ],
             [
              0.8888888888888888,
              "#fdca26"
             ],
             [
              1.0,
              "#f0f921"
             ]
            ]
           }
          ],
          "surface": [
           {
            "type": "surface",
            "colorbar": {
             "outlinewidth": 0,
             "ticks": ""
            },
            "colorscale": [
             [
              0.0,
              "#0d0887"
             ],
             [
              0.1111111111111111,
              "#46039f"
             ],
             [
              0.2222222222222222,
              "#7201a8"
             ],
             [
              0.3333333333333333,
              "#9c179e"
             ],
             [
              0.4444444444444444,
              "#bd3786"
             ],
             [
              0.5555555555555556,
              "#d8576b"
             ],
             [
              0.6666666666666666,
              "#ed7953"
             ],
             [
              0.7777777777777778,
              "#fb9f3a"
             ],
             [
              0.8888888888888888,
              "#fdca26"
             ],
             [
              1.0,
              "#f0f921"
             ]
            ]
           }
          ],
          "mesh3d": [
           {
            "type": "mesh3d",
            "colorbar": {
             "outlinewidth": 0,
             "ticks": ""
            }
           }
          ],
          "scatter": [
           {
            "fillpattern": {
             "fillmode": "overlay",
             "size": 10,
             "solidity": 0.2
            },
            "type": "scatter"
           }
          ],
          "parcoords": [
           {
            "type": "parcoords",
            "line": {
             "colorbar": {
              "outlinewidth": 0,
              "ticks": ""
             }
            }
           }
          ],
          "scatterpolargl": [
           {
            "type": "scatterpolargl",
            "marker": {
             "colorbar": {
              "outlinewidth": 0,
              "ticks": ""
             }
            }
           }
          ],
          "bar": [
           {
            "error_x": {
             "color": "#2a3f5f"
            },
            "error_y": {
             "color": "#2a3f5f"
            },
            "marker": {
             "line": {
              "color": "#E5ECF6",
              "width": 0.5
             },
             "pattern": {
              "fillmode": "overlay",
              "size": 10,
              "solidity": 0.2
             }
            },
            "type": "bar"
           }
          ],
          "scattergeo": [
           {
            "type": "scattergeo",
            "marker": {
             "colorbar": {
              "outlinewidth": 0,
              "ticks": ""
             }
            }
           }
          ],
          "scatterpolar": [
           {
            "type": "scatterpolar",
            "marker": {
             "colorbar": {
              "outlinewidth": 0,
              "ticks": ""
             }
            }
           }
          ],
          "histogram": [
           {
            "marker": {
             "pattern": {
              "fillmode": "overlay",
              "size": 10,
              "solidity": 0.2
             }
            },
            "type": "histogram"
           }
          ],
          "scattergl": [
           {
            "type": "scattergl",
            "marker": {
             "colorbar": {
              "outlinewidth": 0,
              "ticks": ""
             }
            }
           }
          ],
          "scatter3d": [
           {
            "type": "scatter3d",
            "line": {
             "colorbar": {
              "outlinewidth": 0,
              "ticks": ""
             }
            },
            "marker": {
             "colorbar": {
              "outlinewidth": 0,
              "ticks": ""
             }
            }
           }
          ],
          "scattermapbox": [
           {
            "type": "scattermapbox",
            "marker": {
             "colorbar": {
              "outlinewidth": 0,
              "ticks": ""
             }
            }
           }
          ],
          "scatterternary": [
           {
            "type": "scatterternary",
            "marker": {
             "colorbar": {
              "outlinewidth": 0,
              "ticks": ""
             }
            }
           }
          ],
          "scattercarpet": [
           {
            "type": "scattercarpet",
            "marker": {
             "colorbar": {
              "outlinewidth": 0,
              "ticks": ""
             }
            }
           }
          ],
          "carpet": [
           {
            "aaxis": {
             "endlinecolor": "#2a3f5f",
             "gridcolor": "white",
             "linecolor": "white",
             "minorgridcolor": "white",
             "startlinecolor": "#2a3f5f"
            },
            "baxis": {
             "endlinecolor": "#2a3f5f",
             "gridcolor": "white",
             "linecolor": "white",
             "minorgridcolor": "white",
             "startlinecolor": "#2a3f5f"
            },
            "type": "carpet"
           }
          ],
          "table": [
           {
            "cells": {
             "fill": {
              "color": "#EBF0F8"
             },
             "line": {
              "color": "white"
             }
            },
            "header": {
             "fill": {
              "color": "#C8D4E3"
             },
             "line": {
              "color": "white"
             }
            },
            "type": "table"
           }
          ],
          "barpolar": [
           {
            "marker": {
             "line": {
              "color": "#E5ECF6",
              "width": 0.5
             },
             "pattern": {
              "fillmode": "overlay",
              "size": 10,
              "solidity": 0.2
             }
            },
            "type": "barpolar"
           }
          ],
          "pie": [
           {
            "automargin": true,
            "type": "pie"
           }
          ]
         },
         "layout": {
          "autotypenumbers": "strict",
          "colorway": [
           "#636efa",
           "#EF553B",
           "#00cc96",
           "#ab63fa",
           "#FFA15A",
           "#19d3f3",
           "#FF6692",
           "#B6E880",
           "#FF97FF",
           "#FECB52"
          ],
          "font": {
           "color": "#2a3f5f"
          },
          "hovermode": "closest",
          "hoverlabel": {
           "align": "left"
          },
          "paper_bgcolor": "white",
          "plot_bgcolor": "#E5ECF6",
          "polar": {
           "bgcolor": "#E5ECF6",
           "angularaxis": {
            "gridcolor": "white",
            "linecolor": "white",
            "ticks": ""
           },
           "radialaxis": {
            "gridcolor": "white",
            "linecolor": "white",
            "ticks": ""
           }
          },
          "ternary": {
           "bgcolor": "#E5ECF6",
           "aaxis": {
            "gridcolor": "white",
            "linecolor": "white",
            "ticks": ""
           },
           "baxis": {
            "gridcolor": "white",
            "linecolor": "white",
            "ticks": ""
           },
           "caxis": {
            "gridcolor": "white",
            "linecolor": "white",
            "ticks": ""
           }
          },
          "coloraxis": {
           "colorbar": {
            "outlinewidth": 0,
            "ticks": ""
           }
          },
          "colorscale": {
           "sequential": [
            [
             0.0,
             "#0d0887"
            ],
            [
             0.1111111111111111,
             "#46039f"
            ],
            [
             0.2222222222222222,
             "#7201a8"
            ],
            [
             0.3333333333333333,
             "#9c179e"
            ],
            [
             0.4444444444444444,
             "#bd3786"
            ],
            [
             0.5555555555555556,
             "#d8576b"
            ],
            [
             0.6666666666666666,
             "#ed7953"
            ],
            [
             0.7777777777777778,
             "#fb9f3a"
            ],
            [
             0.8888888888888888,
             "#fdca26"
            ],
            [
             1.0,
             "#f0f921"
            ]
           ],
           "sequentialminus": [
            [
             0.0,
             "#0d0887"
            ],
            [
             0.1111111111111111,
             "#46039f"
            ],
            [
             0.2222222222222222,
             "#7201a8"
            ],
            [
             0.3333333333333333,
             "#9c179e"
            ],
            [
             0.4444444444444444,
             "#bd3786"
            ],
            [
             0.5555555555555556,
             "#d8576b"
            ],
            [
             0.6666666666666666,
             "#ed7953"
            ],
            [
             0.7777777777777778,
             "#fb9f3a"
            ],
            [
             0.8888888888888888,
             "#fdca26"
            ],
            [
             1.0,
             "#f0f921"
            ]
           ],
           "diverging": [
            [
             0,
             "#8e0152"
            ],
            [
             0.1,
             "#c51b7d"
            ],
            [
             0.2,
             "#de77ae"
            ],
            [
             0.3,
             "#f1b6da"
            ],
            [
             0.4,
             "#fde0ef"
            ],
            [
             0.5,
             "#f7f7f7"
            ],
            [
             0.6,
             "#e6f5d0"
            ],
            [
             0.7,
             "#b8e186"
            ],
            [
             0.8,
             "#7fbc41"
            ],
            [
             0.9,
             "#4d9221"
            ],
            [
             1,
             "#276419"
            ]
           ]
          },
          "xaxis": {
           "gridcolor": "white",
           "linecolor": "white",
           "ticks": "",
           "title": {
            "standoff": 15
           },
           "zerolinecolor": "white",
           "automargin": true,
           "zerolinewidth": 2
          },
          "yaxis": {
           "gridcolor": "white",
           "linecolor": "white",
           "ticks": "",
           "title": {
            "standoff": 15
           },
           "zerolinecolor": "white",
           "automargin": true,
           "zerolinewidth": 2
          },
          "scene": {
           "xaxis": {
            "backgroundcolor": "#E5ECF6",
            "gridcolor": "white",
            "linecolor": "white",
            "showbackground": true,
            "ticks": "",
            "zerolinecolor": "white",
            "gridwidth": 2
           },
           "yaxis": {
            "backgroundcolor": "#E5ECF6",
            "gridcolor": "white",
            "linecolor": "white",
            "showbackground": true,
            "ticks": "",
            "zerolinecolor": "white",
            "gridwidth": 2
           },
           "zaxis": {
            "backgroundcolor": "#E5ECF6",
            "gridcolor": "white",
            "linecolor": "white",
            "showbackground": true,
            "ticks": "",
            "zerolinecolor": "white",
            "gridwidth": 2
           }
          },
          "shapedefaults": {
           "line": {
            "color": "#2a3f5f"
           }
          },
          "annotationdefaults": {
           "arrowcolor": "#2a3f5f",
           "arrowhead": 0,
           "arrowwidth": 1
          },
          "geo": {
           "bgcolor": "white",
           "landcolor": "#E5ECF6",
           "subunitcolor": "white",
           "showland": true,
           "showlakes": true,
           "lakecolor": "white"
          },
          "title": {
           "x": 0.05
          },
          "mapbox": {
           "style": "light"
          }
         }
        },
        "title": {
         "text": "Your backtest name portfolio value"
        },
        "height": 800,
        "yaxis": {
         "title": {
          "text": "Value $"
         },
         "showgrid": false
        },
        "xaxis": {
         "rangeslider": {
          "visible": false
         }
        },
        "legend": {
         "orientation": "h",
         "yanchor": "bottom",
         "y": 1.02,
         "xanchor": "right",
         "x": 1
        }
       },
       "config": {
        "plotlyServerURL": "https://plot.ly"
       }
      },
      "text/html": "<div>                            <div id=\"b236925d-a62c-41ed-be9d-0c5842b4aec4\" class=\"plotly-graph-div\" style=\"height:800px; width:100%;\"></div>            <script type=\"text/javascript\">                require([\"plotly\"], function(Plotly) {                    window.PLOTLYENV=window.PLOTLYENV || {};                                    if (document.getElementById(\"b236925d-a62c-41ed-be9d-0c5842b4aec4\")) {                    Plotly.newPlot(                        \"b236925d-a62c-41ed-be9d-0c5842b4aec4\",                        [{\"line\":{\"color\":\"#008800\"},\"mode\":\"lines\",\"name\":\"Your backtest name\",\"x\":[\"2021-06-01T00:00:00\",\"2021-06-02T00:00:00\",\"2021-06-03T00:00:00\",\"2021-06-04T00:00:00\",\"2021-06-05T00:00:00\",\"2021-06-06T00:00:00\",\"2021-06-07T00:00:00\",\"2021-06-08T00:00:00\",\"2021-06-09T00:00:00\",\"2021-06-10T00:00:00\",\"2021-06-11T00:00:00\",\"2021-06-12T00:00:00\",\"2021-06-13T00:00:00\",\"2021-06-14T00:00:00\",\"2021-06-15T00:00:00\",\"2021-06-16T00:00:00\",\"2021-06-17T00:00:00\",\"2021-06-18T00:00:00\",\"2021-06-19T00:00:00\",\"2021-06-20T00:00:00\",\"2021-06-21T00:00:00\",\"2021-06-22T00:00:00\",\"2021-06-23T00:00:00\",\"2021-06-24T00:00:00\",\"2021-06-25T00:00:00\",\"2021-06-26T00:00:00\",\"2021-06-27T00:00:00\",\"2021-06-28T00:00:00\",\"2021-06-29T00:00:00\",\"2021-06-30T00:00:00\",\"2021-07-01T00:00:00\",\"2021-07-02T00:00:00\",\"2021-07-03T00:00:00\",\"2021-07-04T00:00:00\",\"2021-07-05T00:00:00\",\"2021-07-06T00:00:00\",\"2021-07-07T00:00:00\",\"2021-07-08T00:00:00\",\"2021-07-09T00:00:00\",\"2021-07-10T00:00:00\",\"2021-07-11T00:00:00\",\"2021-07-12T00:00:00\",\"2021-07-13T00:00:00\",\"2021-07-14T00:00:00\",\"2021-07-15T00:00:00\",\"2021-07-16T00:00:00\",\"2021-07-17T00:00:00\",\"2021-07-18T00:00:00\",\"2021-07-19T00:00:00\",\"2021-07-20T00:00:00\",\"2021-07-21T00:00:00\",\"2021-07-22T00:00:00\",\"2021-07-23T00:00:00\",\"2021-07-24T00:00:00\",\"2021-07-25T00:00:00\",\"2021-07-26T00:00:00\",\"2021-07-27T00:00:00\",\"2021-07-28T00:00:00\",\"2021-07-29T00:00:00\",\"2021-07-30T00:00:00\",\"2021-07-31T00:00:00\",\"2021-08-01T00:00:00\",\"2021-08-02T00:00:00\",\"2021-08-03T00:00:00\",\"2021-08-04T00:00:00\",\"2021-08-05T00:00:00\",\"2021-08-06T00:00:00\",\"2021-08-07T00:00:00\",\"2021-08-08T00:00:00\",\"2021-08-09T00:00:00\",\"2021-08-10T00:00:00\",\"2021-08-11T00:00:00\",\"2021-08-12T00:00:00\",\"2021-08-13T00:00:00\",\"2021-08-14T00:00:00\",\"2021-08-15T00:00:00\",\"2021-08-16T00:00:00\",\"2021-08-17T00:00:00\",\"2021-08-18T00:00:00\",\"2021-08-19T00:00:00\",\"2021-08-20T00:00:00\",\"2021-08-21T00:00:00\",\"2021-08-22T00:00:00\",\"2021-08-23T00:00:00\",\"2021-08-24T00:00:00\",\"2021-08-25T00:00:00\",\"2021-08-26T00:00:00\",\"2021-08-27T00:00:00\",\"2021-08-28T00:00:00\",\"2021-08-29T00:00:00\",\"2021-08-30T00:00:00\",\"2021-08-31T00:00:00\",\"2021-09-01T00:00:00\",\"2021-09-02T00:00:00\",\"2021-09-03T00:00:00\",\"2021-09-04T00:00:00\",\"2021-09-05T00:00:00\",\"2021-09-06T00:00:00\",\"2021-09-07T00:00:00\",\"2021-09-08T00:00:00\",\"2021-09-09T00:00:00\",\"2021-09-10T00:00:00\",\"2021-09-11T00:00:00\",\"2021-09-12T00:00:00\",\"2021-09-13T00:00:00\",\"2021-09-14T00:00:00\",\"2021-09-15T00:00:00\",\"2021-09-16T00:00:00\",\"2021-09-17T00:00:00\",\"2021-09-18T00:00:00\",\"2021-09-19T00:00:00\",\"2021-09-20T00:00:00\",\"2021-09-21T00:00:00\",\"2021-09-22T00:00:00\",\"2021-09-23T00:00:00\",\"2021-09-24T00:00:00\",\"2021-09-25T00:00:00\",\"2021-09-26T00:00:00\",\"2021-09-27T00:00:00\",\"2021-09-28T00:00:00\",\"2021-09-29T00:00:00\",\"2021-09-30T00:00:00\",\"2021-10-01T00:00:00\",\"2021-10-02T00:00:00\",\"2021-10-03T00:00:00\",\"2021-10-04T00:00:00\",\"2021-10-05T00:00:00\",\"2021-10-06T00:00:00\",\"2021-10-07T00:00:00\",\"2021-10-08T00:00:00\",\"2021-10-09T00:00:00\",\"2021-10-10T00:00:00\",\"2021-10-11T00:00:00\",\"2021-10-12T00:00:00\",\"2021-10-13T00:00:00\",\"2021-10-14T00:00:00\",\"2021-10-15T00:00:00\",\"2021-10-16T00:00:00\",\"2021-10-17T00:00:00\",\"2021-10-18T00:00:00\",\"2021-10-19T00:00:00\",\"2021-10-20T00:00:00\",\"2021-10-21T00:00:00\",\"2021-10-22T00:00:00\",\"2021-10-23T00:00:00\",\"2021-10-24T00:00:00\",\"2021-10-25T00:00:00\",\"2021-10-26T00:00:00\",\"2021-10-27T00:00:00\",\"2021-10-28T00:00:00\",\"2021-10-29T00:00:00\",\"2021-10-30T00:00:00\",\"2021-10-31T00:00:00\",\"2021-11-01T00:00:00\",\"2021-11-02T00:00:00\",\"2021-11-03T00:00:00\",\"2021-11-04T00:00:00\",\"2021-11-05T00:00:00\",\"2021-11-06T00:00:00\",\"2021-11-07T00:00:00\",\"2021-11-08T00:00:00\",\"2021-11-09T00:00:00\",\"2021-11-10T00:00:00\",\"2021-11-11T00:00:00\",\"2021-11-12T00:00:00\",\"2021-11-13T00:00:00\",\"2021-11-14T00:00:00\",\"2021-11-15T00:00:00\",\"2021-11-16T00:00:00\",\"2021-11-17T00:00:00\",\"2021-11-18T00:00:00\",\"2021-11-19T00:00:00\",\"2021-11-20T00:00:00\",\"2021-11-21T00:00:00\",\"2021-11-22T00:00:00\",\"2021-11-23T00:00:00\",\"2021-11-24T00:00:00\",\"2021-11-25T00:00:00\",\"2021-11-26T00:00:00\",\"2021-11-27T00:00:00\",\"2021-11-28T00:00:00\",\"2021-11-29T00:00:00\",\"2021-11-30T00:00:00\",\"2021-12-01T00:00:00\",\"2021-12-02T00:00:00\",\"2021-12-03T00:00:00\",\"2021-12-04T00:00:00\",\"2021-12-05T00:00:00\",\"2021-12-06T00:00:00\",\"2021-12-07T00:00:00\",\"2021-12-08T00:00:00\",\"2021-12-09T00:00:00\",\"2021-12-10T00:00:00\",\"2021-12-11T00:00:00\",\"2021-12-12T00:00:00\",\"2021-12-13T00:00:00\",\"2021-12-14T00:00:00\",\"2021-12-15T00:00:00\",\"2021-12-16T00:00:00\",\"2021-12-17T00:00:00\",\"2021-12-18T00:00:00\",\"2021-12-19T00:00:00\",\"2021-12-20T00:00:00\",\"2021-12-21T00:00:00\",\"2021-12-22T00:00:00\",\"2021-12-23T00:00:00\",\"2021-12-24T00:00:00\",\"2021-12-25T00:00:00\",\"2021-12-26T00:00:00\",\"2021-12-27T00:00:00\",\"2021-12-28T00:00:00\",\"2021-12-29T00:00:00\",\"2021-12-30T00:00:00\",\"2021-12-31T00:00:00\"],\"y\":[10000.0,10000.0,10000.0,10000.0,10000.0,10000.0,10000.0,10000.0,10000.0,10000.0,10000.0,10000.0,10000.0,10000.0,10000.0,10000.0,10000.0,10000.0,10000.0,10000.0,10000.0,10000.0,10000.0,10000.0,10000.0,10000.0,10000.0,10000.0,10000.0,10000.0,10000.0,10000.0,10000.0,10000.0,10000.0,10000.0,10000.0,10000.0,10000.0,10000.0,10000.0,10000.0,10000.0,10000.0,10000.0,10000.0,10000.0,10000.0,10000.0,10000.0,10000.0,10000.0,10000.0,10000.0,10000.0,10000.0,10000.0,10000.0,10000.0,10000.0,10000.0,10000.0,10000.0,10000.0,10000.0,10000.0,10000.0,10000.0,10000.0,10000.0,10000.0,10000.0,10000.0,10000.0,10000.0,10000.0,10000.0,10000.0,10000.0,10000.0,10000.0,10000.0,10000.0,10000.0,10000.0,10000.0,10000.0,10000.0,10000.0,10000.0,10000.0,10000.0,10000.0,10000.0,10000.0,10000.0,10000.0,10000.0,10000.0,10000.0,10000.0,10000.0,10000.0,10000.0,10000.0,10000.0,10000.0,10000.0,10000.0,10000.0,10000.0,10000.0,10000.0,10000.0,10000.0,10000.0,10000.0,10000.0,10000.0,10000.0,10000.0,10000.0,10000.0,10000.0,10000.0,10000.0,10000.0,10000.0,10000.0,10000.0,10000.0,10000.0,10000.0,10000.0,10000.0,10000.0,10000.0,10000.0,10000.0,10000.0,10000.0,10000.0,10000.0,10000.0,10000.0,10000.0,10000.0,10000.0,10000.0,10000.0,10000.0,10000.0,10000.0,10000.0,10000.0,10000.0,10000.0,10000.0,10000.0,10000.0,10000.0,10000.0,10000.0,10000.0,10000.0,10000.0,10000.0,10000.0,10000.0,10000.0,10000.0,10000.0,10000.0,10000.0,10000.0,10000.0,10000.0,10000.0,10000.0,10000.0,10000.0,10000.0,10000.0,10000.0,10000.0,10000.0,10000.0,10000.0,10000.0,10000.0,10000.0,10000.0,10000.0,10000.0,10000.0,10000.0,10000.0,10000.0,10000.0,10000.0,10000.0,10000.0,10000.0,10000.0,10000.0,10000.0,10000.0,10000.0,10000.0,10000.0,10000.0,10000.0,10000.0,10000.0],\"type\":\"scatter\"},{\"line\":{\"color\":\"#000088\"},\"mode\":\"lines\",\"name\":\"All cash\",\"x\":[\"2021-06-01T00:00:00\",\"2022-01-01T00:00:00\"],\"y\":[10000.0,10000.0],\"type\":\"scatter\"},{\"line\":{\"color\":\"#880000\"},\"mode\":\"lines\",\"name\":\"Buy and hold WBNB\",\"x\":[\"2021-06-01T00:00:00\",\"2021-06-02T00:00:00\",\"2021-06-03T00:00:00\",\"2021-06-04T00:00:00\",\"2021-06-05T00:00:00\",\"2021-06-06T00:00:00\",\"2021-06-07T00:00:00\",\"2021-06-08T00:00:00\",\"2021-06-09T00:00:00\",\"2021-06-10T00:00:00\",\"2021-06-11T00:00:00\",\"2021-06-12T00:00:00\",\"2021-06-13T00:00:00\",\"2021-06-14T00:00:00\",\"2021-06-15T00:00:00\",\"2021-06-16T00:00:00\",\"2021-06-17T00:00:00\",\"2021-06-18T00:00:00\",\"2021-06-19T00:00:00\",\"2021-06-20T00:00:00\",\"2021-06-21T00:00:00\",\"2021-06-22T00:00:00\",\"2021-06-23T00:00:00\",\"2021-06-24T00:00:00\",\"2021-06-25T00:00:00\",\"2021-06-26T00:00:00\",\"2021-06-27T00:00:00\",\"2021-06-28T00:00:00\",\"2021-06-29T00:00:00\",\"2021-06-30T00:00:00\",\"2021-07-01T00:00:00\",\"2021-07-02T00:00:00\",\"2021-07-03T00:00:00\",\"2021-07-04T00:00:00\",\"2021-07-05T00:00:00\",\"2021-07-06T00:00:00\",\"2021-07-07T00:00:00\",\"2021-07-08T00:00:00\",\"2021-07-09T00:00:00\",\"2021-07-10T00:00:00\",\"2021-07-11T00:00:00\",\"2021-07-12T00:00:00\",\"2021-07-13T00:00:00\",\"2021-07-14T00:00:00\",\"2021-07-15T00:00:00\",\"2021-07-16T00:00:00\",\"2021-07-17T00:00:00\",\"2021-07-18T00:00:00\",\"2021-07-19T00:00:00\",\"2021-07-20T00:00:00\",\"2021-07-21T00:00:00\",\"2021-07-22T00:00:00\",\"2021-07-23T00:00:00\",\"2021-07-24T00:00:00\",\"2021-07-25T00:00:00\",\"2021-07-26T00:00:00\",\"2021-07-27T00:00:00\",\"2021-07-28T00:00:00\",\"2021-07-29T00:00:00\",\"2021-07-30T00:00:00\",\"2021-07-31T00:00:00\",\"2021-08-01T00:00:00\",\"2021-08-02T00:00:00\",\"2021-08-03T00:00:00\",\"2021-08-04T00:00:00\",\"2021-08-05T00:00:00\",\"2021-08-06T00:00:00\",\"2021-08-07T00:00:00\",\"2021-08-08T00:00:00\",\"2021-08-09T00:00:00\",\"2021-08-10T00:00:00\",\"2021-08-11T00:00:00\",\"2021-08-12T00:00:00\",\"2021-08-13T00:00:00\",\"2021-08-14T00:00:00\",\"2021-08-15T00:00:00\",\"2021-08-16T00:00:00\",\"2021-08-17T00:00:00\",\"2021-08-18T00:00:00\",\"2021-08-19T00:00:00\",\"2021-08-20T00:00:00\",\"2021-08-21T00:00:00\",\"2021-08-22T00:00:00\",\"2021-08-23T00:00:00\",\"2021-08-24T00:00:00\",\"2021-08-25T00:00:00\",\"2021-08-26T00:00:00\",\"2021-08-27T00:00:00\",\"2021-08-28T00:00:00\",\"2021-08-29T00:00:00\",\"2021-08-30T00:00:00\",\"2021-08-31T00:00:00\",\"2021-09-01T00:00:00\",\"2021-09-02T00:00:00\",\"2021-09-03T00:00:00\",\"2021-09-04T00:00:00\",\"2021-09-05T00:00:00\",\"2021-09-06T00:00:00\",\"2021-09-07T00:00:00\",\"2021-09-08T00:00:00\",\"2021-09-09T00:00:00\",\"2021-09-10T00:00:00\",\"2021-09-11T00:00:00\",\"2021-09-12T00:00:00\",\"2021-09-13T00:00:00\",\"2021-09-14T00:00:00\",\"2021-09-15T00:00:00\",\"2021-09-16T00:00:00\",\"2021-09-17T00:00:00\",\"2021-09-18T00:00:00\",\"2021-09-19T00:00:00\",\"2021-09-20T00:00:00\",\"2021-09-21T00:00:00\",\"2021-09-22T00:00:00\",\"2021-09-23T00:00:00\",\"2021-09-24T00:00:00\",\"2021-09-25T00:00:00\",\"2021-09-26T00:00:00\",\"2021-09-27T00:00:00\",\"2021-09-28T00:00:00\",\"2021-09-29T00:00:00\",\"2021-09-30T00:00:00\",\"2021-10-01T00:00:00\",\"2021-10-02T00:00:00\",\"2021-10-03T00:00:00\",\"2021-10-04T00:00:00\",\"2021-10-05T00:00:00\",\"2021-10-06T00:00:00\",\"2021-10-07T00:00:00\",\"2021-10-08T00:00:00\",\"2021-10-09T00:00:00\",\"2021-10-10T00:00:00\",\"2021-10-11T00:00:00\",\"2021-10-12T00:00:00\",\"2021-10-13T00:00:00\",\"2021-10-14T00:00:00\",\"2021-10-15T00:00:00\",\"2021-10-16T00:00:00\",\"2021-10-17T00:00:00\",\"2021-10-18T00:00:00\",\"2021-10-19T00:00:00\",\"2021-10-20T00:00:00\",\"2021-10-21T00:00:00\",\"2021-10-22T00:00:00\",\"2021-10-23T00:00:00\",\"2021-10-24T00:00:00\",\"2021-10-25T00:00:00\",\"2021-10-26T00:00:00\",\"2021-10-27T00:00:00\",\"2021-10-28T00:00:00\",\"2021-10-29T00:00:00\",\"2021-10-30T00:00:00\",\"2021-10-31T00:00:00\",\"2021-11-01T00:00:00\",\"2021-11-02T00:00:00\",\"2021-11-03T00:00:00\",\"2021-11-04T00:00:00\",\"2021-11-05T00:00:00\",\"2021-11-06T00:00:00\",\"2021-11-07T00:00:00\",\"2021-11-08T00:00:00\",\"2021-11-09T00:00:00\",\"2021-11-10T00:00:00\",\"2021-11-11T00:00:00\",\"2021-11-12T00:00:00\",\"2021-11-13T00:00:00\",\"2021-11-14T00:00:00\",\"2021-11-15T00:00:00\",\"2021-11-16T00:00:00\",\"2021-11-17T00:00:00\",\"2021-11-18T00:00:00\",\"2021-11-19T00:00:00\",\"2021-11-20T00:00:00\",\"2021-11-21T00:00:00\",\"2021-11-22T00:00:00\",\"2021-11-23T00:00:00\",\"2021-11-24T00:00:00\",\"2021-11-25T00:00:00\",\"2021-11-26T00:00:00\",\"2021-11-27T00:00:00\",\"2021-11-28T00:00:00\",\"2021-11-29T00:00:00\",\"2021-11-30T00:00:00\",\"2021-12-01T00:00:00\",\"2021-12-02T00:00:00\",\"2021-12-03T00:00:00\",\"2021-12-04T00:00:00\",\"2021-12-05T00:00:00\",\"2021-12-06T00:00:00\",\"2021-12-07T00:00:00\",\"2021-12-08T00:00:00\",\"2021-12-09T00:00:00\",\"2021-12-10T00:00:00\",\"2021-12-11T00:00:00\",\"2021-12-12T00:00:00\",\"2021-12-13T00:00:00\",\"2021-12-14T00:00:00\",\"2021-12-15T00:00:00\",\"2021-12-16T00:00:00\",\"2021-12-17T00:00:00\",\"2021-12-18T00:00:00\",\"2021-12-19T00:00:00\",\"2021-12-20T00:00:00\",\"2021-12-21T00:00:00\",\"2021-12-22T00:00:00\",\"2021-12-23T00:00:00\",\"2021-12-24T00:00:00\",\"2021-12-25T00:00:00\",\"2021-12-26T00:00:00\",\"2021-12-27T00:00:00\",\"2021-12-28T00:00:00\",\"2021-12-29T00:00:00\",\"2021-12-30T00:00:00\",\"2021-12-31T00:00:00\",\"2022-01-01T00:00:00\"],\"y\":[10000.0,11149.166015625,11829.7001953125,10873.3837890625,10813.1884765625,10865.9033203125,9867.962890625,9810.8017578125,10409.4931640625,9772.3349609375,9596.421875,9490.6552734375,10177.5205078125,10272.2919921875,10200.3955078125,9560.859375,9772.603515625,9340.1953125,9246.697265625,9378.3271484375,7534.4990234375,7246.310546875,8187.76513671875,8538.490234375,7822.33349609375,7703.23779296875,8063.04931640625,8041.228515625,8335.5859375,8431.5419921875,7997.2177734375,7925.85009765625,8267.3779296875,8497.533203125,8408.8681640625,8898.388671875,9038.2978515625,8567.1513671875,8808.533203125,8764.7705078125,8895.2255859375,8791.203125,8513.0791015625,8527.37890625,8747.26953125,8356.392578125,8296.7587890625,8410.1435546875,7734.7021484375,7354.0166015625,8085.802734375,8141.38525390625,8294.0341796875,8361.37890625,8405.896484375,8456.7939453125,8655.6259765625,8648.958984375,8760.3720703125,8912.7861328125,9232.96875,9260.1318359375,9141.7236328125,8925.2294921875,9258.2021484375,9352.017578125,9449.03125,9886.572265625,9448.7705078125,9837.5068359375,10314.478515625,10893.3720703125,10684.4892578125,11323.9287109375,11319.111328125,11476.2080078125,11523.140625,11082.7099609375,10971.8427734375,11886.1240234375,12538.0341796875,12427.044921875,12466.7998046875,13812.4453125,13011.2998046875,13903.0107421875,13304.38671875,13644.9345703125,13410.322265625,13284.2587890625,12721.986328125,12850.7529296875,13580.0107421875,13466.2265625,13460.623046875,13781.6064453125,13978.193359375,13776.33203125,11615.923828125,11496.869140625,11620.259765625,11127.4658203125,11218.794921875,11576.6298828125,11105.8291015625,11492.59375,11945.5712890625,11739.8173828125,11203.0087890625,11399.6484375,11271.8955078125,10027.138671875,9502.6611328125,10462.6806640625,10589.60546875,9847.9765625,9722.9111328125,9503.7001953125,9291.8525390625,9183.666015625,10137.9296875,10728.3740234375,11685.34765625,11877.939453125,11901.9658203125,11848.060546875,12245.0390625,12092.1337890625,12168.904296875,11565.162109375,11697.2978515625,11218.765625,11392.6181640625,12228.3955078125,12966.0126953125,13086.033203125,13089.7060546875,12945.8193359375,12979.5556640625,13449.7939453125,13466.07421875,13905.7421875,13108.6650390625,13222.5546875,13374.2822265625,13137.3623046875,13390.734375,13200.31640625,12490.333984375,13630.533203125,14599.6689453125,14525.4833984375,14566.923828125,15207.009765625,15395.509765625,15669.0615234375,15419.8701171875,16863.947265625,17561.76953125,18002.490234375,18073.412109375,17649.728515625,17058.375,17479.35546875,17406.970703125,18040.4921875,18108.85546875,17501.15234375,16284.609375,16034.400390625,14755.423828125,16112.29296875,16777.90234375,16235.9716796875,15528.2890625,16411.63671875,16292.0341796875,17724.18359375,16271.322265625,16641.984375,16861.861328125,17229.927734375,17236.705078125,17394.408203125,17119.083984375,16451.900390625,15722.9189453125,15384.70703125,16325.1787109375,16069.392578125,16742.810546875,15886.8095703125,15271.3427734375,15609.8740234375,15876.8232421875,14495.0283203125,14571.05859375,14928.314453125,14617.083984375,14611.3818359375,14756.041015625,14724.111328125,14479.8154296875,14619.89453125,14754.8203125,15127.8740234375,15030.3671875,15147.6396484375,15087.4072265625,15669.78515625,14786.81640625,14252.078125,14291.275390625,14147.8095703125,14540.00390625],\"type\":\"scatter\"}],                        {\"template\":{\"data\":{\"histogram2dcontour\":[{\"type\":\"histogram2dcontour\",\"colorbar\":{\"outlinewidth\":0,\"ticks\":\"\"},\"colorscale\":[[0.0,\"#0d0887\"],[0.1111111111111111,\"#46039f\"],[0.2222222222222222,\"#7201a8\"],[0.3333333333333333,\"#9c179e\"],[0.4444444444444444,\"#bd3786\"],[0.5555555555555556,\"#d8576b\"],[0.6666666666666666,\"#ed7953\"],[0.7777777777777778,\"#fb9f3a\"],[0.8888888888888888,\"#fdca26\"],[1.0,\"#f0f921\"]]}],\"choropleth\":[{\"type\":\"choropleth\",\"colorbar\":{\"outlinewidth\":0,\"ticks\":\"\"}}],\"histogram2d\":[{\"type\":\"histogram2d\",\"colorbar\":{\"outlinewidth\":0,\"ticks\":\"\"},\"colorscale\":[[0.0,\"#0d0887\"],[0.1111111111111111,\"#46039f\"],[0.2222222222222222,\"#7201a8\"],[0.3333333333333333,\"#9c179e\"],[0.4444444444444444,\"#bd3786\"],[0.5555555555555556,\"#d8576b\"],[0.6666666666666666,\"#ed7953\"],[0.7777777777777778,\"#fb9f3a\"],[0.8888888888888888,\"#fdca26\"],[1.0,\"#f0f921\"]]}],\"heatmap\":[{\"type\":\"heatmap\",\"colorbar\":{\"outlinewidth\":0,\"ticks\":\"\"},\"colorscale\":[[0.0,\"#0d0887\"],[0.1111111111111111,\"#46039f\"],[0.2222222222222222,\"#7201a8\"],[0.3333333333333333,\"#9c179e\"],[0.4444444444444444,\"#bd3786\"],[0.5555555555555556,\"#d8576b\"],[0.6666666666666666,\"#ed7953\"],[0.7777777777777778,\"#fb9f3a\"],[0.8888888888888888,\"#fdca26\"],[1.0,\"#f0f921\"]]}],\"heatmapgl\":[{\"type\":\"heatmapgl\",\"colorbar\":{\"outlinewidth\":0,\"ticks\":\"\"},\"colorscale\":[[0.0,\"#0d0887\"],[0.1111111111111111,\"#46039f\"],[0.2222222222222222,\"#7201a8\"],[0.3333333333333333,\"#9c179e\"],[0.4444444444444444,\"#bd3786\"],[0.5555555555555556,\"#d8576b\"],[0.6666666666666666,\"#ed7953\"],[0.7777777777777778,\"#fb9f3a\"],[0.8888888888888888,\"#fdca26\"],[1.0,\"#f0f921\"]]}],\"contourcarpet\":[{\"type\":\"contourcarpet\",\"colorbar\":{\"outlinewidth\":0,\"ticks\":\"\"}}],\"contour\":[{\"type\":\"contour\",\"colorbar\":{\"outlinewidth\":0,\"ticks\":\"\"},\"colorscale\":[[0.0,\"#0d0887\"],[0.1111111111111111,\"#46039f\"],[0.2222222222222222,\"#7201a8\"],[0.3333333333333333,\"#9c179e\"],[0.4444444444444444,\"#bd3786\"],[0.5555555555555556,\"#d8576b\"],[0.6666666666666666,\"#ed7953\"],[0.7777777777777778,\"#fb9f3a\"],[0.8888888888888888,\"#fdca26\"],[1.0,\"#f0f921\"]]}],\"surface\":[{\"type\":\"surface\",\"colorbar\":{\"outlinewidth\":0,\"ticks\":\"\"},\"colorscale\":[[0.0,\"#0d0887\"],[0.1111111111111111,\"#46039f\"],[0.2222222222222222,\"#7201a8\"],[0.3333333333333333,\"#9c179e\"],[0.4444444444444444,\"#bd3786\"],[0.5555555555555556,\"#d8576b\"],[0.6666666666666666,\"#ed7953\"],[0.7777777777777778,\"#fb9f3a\"],[0.8888888888888888,\"#fdca26\"],[1.0,\"#f0f921\"]]}],\"mesh3d\":[{\"type\":\"mesh3d\",\"colorbar\":{\"outlinewidth\":0,\"ticks\":\"\"}}],\"scatter\":[{\"fillpattern\":{\"fillmode\":\"overlay\",\"size\":10,\"solidity\":0.2},\"type\":\"scatter\"}],\"parcoords\":[{\"type\":\"parcoords\",\"line\":{\"colorbar\":{\"outlinewidth\":0,\"ticks\":\"\"}}}],\"scatterpolargl\":[{\"type\":\"scatterpolargl\",\"marker\":{\"colorbar\":{\"outlinewidth\":0,\"ticks\":\"\"}}}],\"bar\":[{\"error_x\":{\"color\":\"#2a3f5f\"},\"error_y\":{\"color\":\"#2a3f5f\"},\"marker\":{\"line\":{\"color\":\"#E5ECF6\",\"width\":0.5},\"pattern\":{\"fillmode\":\"overlay\",\"size\":10,\"solidity\":0.2}},\"type\":\"bar\"}],\"scattergeo\":[{\"type\":\"scattergeo\",\"marker\":{\"colorbar\":{\"outlinewidth\":0,\"ticks\":\"\"}}}],\"scatterpolar\":[{\"type\":\"scatterpolar\",\"marker\":{\"colorbar\":{\"outlinewidth\":0,\"ticks\":\"\"}}}],\"histogram\":[{\"marker\":{\"pattern\":{\"fillmode\":\"overlay\",\"size\":10,\"solidity\":0.2}},\"type\":\"histogram\"}],\"scattergl\":[{\"type\":\"scattergl\",\"marker\":{\"colorbar\":{\"outlinewidth\":0,\"ticks\":\"\"}}}],\"scatter3d\":[{\"type\":\"scatter3d\",\"line\":{\"colorbar\":{\"outlinewidth\":0,\"ticks\":\"\"}},\"marker\":{\"colorbar\":{\"outlinewidth\":0,\"ticks\":\"\"}}}],\"scattermapbox\":[{\"type\":\"scattermapbox\",\"marker\":{\"colorbar\":{\"outlinewidth\":0,\"ticks\":\"\"}}}],\"scatterternary\":[{\"type\":\"scatterternary\",\"marker\":{\"colorbar\":{\"outlinewidth\":0,\"ticks\":\"\"}}}],\"scattercarpet\":[{\"type\":\"scattercarpet\",\"marker\":{\"colorbar\":{\"outlinewidth\":0,\"ticks\":\"\"}}}],\"carpet\":[{\"aaxis\":{\"endlinecolor\":\"#2a3f5f\",\"gridcolor\":\"white\",\"linecolor\":\"white\",\"minorgridcolor\":\"white\",\"startlinecolor\":\"#2a3f5f\"},\"baxis\":{\"endlinecolor\":\"#2a3f5f\",\"gridcolor\":\"white\",\"linecolor\":\"white\",\"minorgridcolor\":\"white\",\"startlinecolor\":\"#2a3f5f\"},\"type\":\"carpet\"}],\"table\":[{\"cells\":{\"fill\":{\"color\":\"#EBF0F8\"},\"line\":{\"color\":\"white\"}},\"header\":{\"fill\":{\"color\":\"#C8D4E3\"},\"line\":{\"color\":\"white\"}},\"type\":\"table\"}],\"barpolar\":[{\"marker\":{\"line\":{\"color\":\"#E5ECF6\",\"width\":0.5},\"pattern\":{\"fillmode\":\"overlay\",\"size\":10,\"solidity\":0.2}},\"type\":\"barpolar\"}],\"pie\":[{\"automargin\":true,\"type\":\"pie\"}]},\"layout\":{\"autotypenumbers\":\"strict\",\"colorway\":[\"#636efa\",\"#EF553B\",\"#00cc96\",\"#ab63fa\",\"#FFA15A\",\"#19d3f3\",\"#FF6692\",\"#B6E880\",\"#FF97FF\",\"#FECB52\"],\"font\":{\"color\":\"#2a3f5f\"},\"hovermode\":\"closest\",\"hoverlabel\":{\"align\":\"left\"},\"paper_bgcolor\":\"white\",\"plot_bgcolor\":\"#E5ECF6\",\"polar\":{\"bgcolor\":\"#E5ECF6\",\"angularaxis\":{\"gridcolor\":\"white\",\"linecolor\":\"white\",\"ticks\":\"\"},\"radialaxis\":{\"gridcolor\":\"white\",\"linecolor\":\"white\",\"ticks\":\"\"}},\"ternary\":{\"bgcolor\":\"#E5ECF6\",\"aaxis\":{\"gridcolor\":\"white\",\"linecolor\":\"white\",\"ticks\":\"\"},\"baxis\":{\"gridcolor\":\"white\",\"linecolor\":\"white\",\"ticks\":\"\"},\"caxis\":{\"gridcolor\":\"white\",\"linecolor\":\"white\",\"ticks\":\"\"}},\"coloraxis\":{\"colorbar\":{\"outlinewidth\":0,\"ticks\":\"\"}},\"colorscale\":{\"sequential\":[[0.0,\"#0d0887\"],[0.1111111111111111,\"#46039f\"],[0.2222222222222222,\"#7201a8\"],[0.3333333333333333,\"#9c179e\"],[0.4444444444444444,\"#bd3786\"],[0.5555555555555556,\"#d8576b\"],[0.6666666666666666,\"#ed7953\"],[0.7777777777777778,\"#fb9f3a\"],[0.8888888888888888,\"#fdca26\"],[1.0,\"#f0f921\"]],\"sequentialminus\":[[0.0,\"#0d0887\"],[0.1111111111111111,\"#46039f\"],[0.2222222222222222,\"#7201a8\"],[0.3333333333333333,\"#9c179e\"],[0.4444444444444444,\"#bd3786\"],[0.5555555555555556,\"#d8576b\"],[0.6666666666666666,\"#ed7953\"],[0.7777777777777778,\"#fb9f3a\"],[0.8888888888888888,\"#fdca26\"],[1.0,\"#f0f921\"]],\"diverging\":[[0,\"#8e0152\"],[0.1,\"#c51b7d\"],[0.2,\"#de77ae\"],[0.3,\"#f1b6da\"],[0.4,\"#fde0ef\"],[0.5,\"#f7f7f7\"],[0.6,\"#e6f5d0\"],[0.7,\"#b8e186\"],[0.8,\"#7fbc41\"],[0.9,\"#4d9221\"],[1,\"#276419\"]]},\"xaxis\":{\"gridcolor\":\"white\",\"linecolor\":\"white\",\"ticks\":\"\",\"title\":{\"standoff\":15},\"zerolinecolor\":\"white\",\"automargin\":true,\"zerolinewidth\":2},\"yaxis\":{\"gridcolor\":\"white\",\"linecolor\":\"white\",\"ticks\":\"\",\"title\":{\"standoff\":15},\"zerolinecolor\":\"white\",\"automargin\":true,\"zerolinewidth\":2},\"scene\":{\"xaxis\":{\"backgroundcolor\":\"#E5ECF6\",\"gridcolor\":\"white\",\"linecolor\":\"white\",\"showbackground\":true,\"ticks\":\"\",\"zerolinecolor\":\"white\",\"gridwidth\":2},\"yaxis\":{\"backgroundcolor\":\"#E5ECF6\",\"gridcolor\":\"white\",\"linecolor\":\"white\",\"showbackground\":true,\"ticks\":\"\",\"zerolinecolor\":\"white\",\"gridwidth\":2},\"zaxis\":{\"backgroundcolor\":\"#E5ECF6\",\"gridcolor\":\"white\",\"linecolor\":\"white\",\"showbackground\":true,\"ticks\":\"\",\"zerolinecolor\":\"white\",\"gridwidth\":2}},\"shapedefaults\":{\"line\":{\"color\":\"#2a3f5f\"}},\"annotationdefaults\":{\"arrowcolor\":\"#2a3f5f\",\"arrowhead\":0,\"arrowwidth\":1},\"geo\":{\"bgcolor\":\"white\",\"landcolor\":\"#E5ECF6\",\"subunitcolor\":\"white\",\"showland\":true,\"showlakes\":true,\"lakecolor\":\"white\"},\"title\":{\"x\":0.05},\"mapbox\":{\"style\":\"light\"}}},\"title\":{\"text\":\"Your backtest name portfolio value\"},\"height\":800,\"yaxis\":{\"title\":{\"text\":\"Value $\"},\"showgrid\":false},\"xaxis\":{\"rangeslider\":{\"visible\":false}},\"legend\":{\"orientation\":\"h\",\"yanchor\":\"bottom\",\"y\":1.02,\"xanchor\":\"right\",\"x\":1}},                        {\"responsive\": true}                    ).then(function(){\n                            \nvar gd = document.getElementById('b236925d-a62c-41ed-be9d-0c5842b4aec4');\nvar x = new MutationObserver(function (mutations, observer) {{\n        var display = window.getComputedStyle(gd).display;\n        if (!display || display === 'none') {{\n            console.log([gd, 'removed!']);\n            Plotly.purge(gd);\n            observer.disconnect();\n        }}\n}});\n\n// Listen for the removal of the full notebook cells\nvar notebookContainer = gd.closest('#notebook-container');\nif (notebookContainer) {{\n    x.observe(notebookContainer, {childList: true});\n}}\n\n// Listen for the clearing of the current output cell\nvar outputEl = gd.closest('.output');\nif (outputEl) {{\n    x.observe(outputEl, {childList: true});\n}}\n\n                        })                };                });            </script>        </div>"
     },
     "metadata": {},
     "output_type": "display_data"
    }
   ],
   "source": [
    "from tradeexecutor.visual.benchmark import visualise_benchmark\n",
    "\n",
    "traded_pair = universe.universe.pairs.get_single()\n",
    "\n",
    "fig = visualise_benchmark(\n",
    "    state.name,\n",
    "    portfolio_statistics=state.stats.portfolio,\n",
    "    all_cash=state.portfolio.get_initial_deposit(),\n",
    "    buy_and_hold_asset_name=traded_pair.base_token_symbol,\n",
    "    buy_and_hold_price_series=universe.universe.candles.get_single_pair_data()[\"close\"],\n",
    "    start_at=start_at,\n",
    "    end_at=end_at\n",
    ")\n",
    "\n",
    "fig.show()"
   ],
   "metadata": {
    "collapsed": false,
    "pycharm": {
     "name": "#%%\n"
    }
   }
  },
  {
   "cell_type": "markdown",
   "source": [
    "### Trading success\n",
    "\n",
    "Here we calculate statistics on how well the trades made by our strategy performed.\n",
    "\n",
    "- Won/lost trades\n",
    "- Timeline of taken positions with color coding of trade performance\n"
   ],
   "metadata": {
    "collapsed": false
   }
  },
  {
   "cell_type": "code",
   "execution_count": 23,
   "outputs": [],
   "source": [
    "from tradeexecutor.analysis.trade_analyser import build_trade_analysis\n",
    "\n",
    "analysis = build_trade_analysis(state.portfolio)"
   ],
   "metadata": {
    "collapsed": false,
    "pycharm": {
     "name": "#%%\n"
    }
   }
  },
  {
   "cell_type": "markdown",
   "source": [
    "### Performance summary numbers\n",
    "\n",
    "Print out overview numbers of the strategy performance.\n",
    "\n"
   ],
   "metadata": {
    "collapsed": false
   }
  },
  {
   "cell_type": "code",
   "execution_count": 24,
   "outputs": [
    {
     "data": {
      "text/plain": "                                                 0\nTrading period length                       0 days\nReturn %                                        0%\nAnnualised return %                             0%\nCash at start                           $10,000.00\nValue at end                            $10,000.00\nTrade win percent                                -\nTotal trades done                                0\nWon trades                                       0\nLost trades                                      0\nStop losses triggered                            0\nStop loss % of all                               -\nStop loss % of lost                              -\nZero profit trades                               0\nPositions open at the end                        0\nRealised profit and loss                     $0.00\nPortfolio unrealised value                   $0.00\nExtra returns on lending pool interest       $0.00\nCash left at the end                    $10,000.00",
      "text/html": "<div>\n<style scoped>\n    .dataframe tbody tr th:only-of-type {\n        vertical-align: middle;\n    }\n\n    .dataframe tbody tr th {\n        vertical-align: top;\n    }\n\n    .dataframe thead th {\n        text-align: right;\n    }\n</style>\n<table border=\"1\" class=\"dataframe\">\n  <thead>\n    <tr style=\"text-align: right;\">\n      <th></th>\n      <th>0</th>\n    </tr>\n  </thead>\n  <tbody>\n    <tr>\n      <th>Trading period length</th>\n      <td>0 days</td>\n    </tr>\n    <tr>\n      <th>Return %</th>\n      <td>0%</td>\n    </tr>\n    <tr>\n      <th>Annualised return %</th>\n      <td>0%</td>\n    </tr>\n    <tr>\n      <th>Cash at start</th>\n      <td>$10,000.00</td>\n    </tr>\n    <tr>\n      <th>Value at end</th>\n      <td>$10,000.00</td>\n    </tr>\n    <tr>\n      <th>Trade win percent</th>\n      <td>-</td>\n    </tr>\n    <tr>\n      <th>Total trades done</th>\n      <td>0</td>\n    </tr>\n    <tr>\n      <th>Won trades</th>\n      <td>0</td>\n    </tr>\n    <tr>\n      <th>Lost trades</th>\n      <td>0</td>\n    </tr>\n    <tr>\n      <th>Stop losses triggered</th>\n      <td>0</td>\n    </tr>\n    <tr>\n      <th>Stop loss % of all</th>\n      <td>-</td>\n    </tr>\n    <tr>\n      <th>Stop loss % of lost</th>\n      <td>-</td>\n    </tr>\n    <tr>\n      <th>Zero profit trades</th>\n      <td>0</td>\n    </tr>\n    <tr>\n      <th>Positions open at the end</th>\n      <td>0</td>\n    </tr>\n    <tr>\n      <th>Realised profit and loss</th>\n      <td>$0.00</td>\n    </tr>\n    <tr>\n      <th>Portfolio unrealised value</th>\n      <td>$0.00</td>\n    </tr>\n    <tr>\n      <th>Extra returns on lending pool interest</th>\n      <td>$0.00</td>\n    </tr>\n    <tr>\n      <th>Cash left at the end</th>\n      <td>$10,000.00</td>\n    </tr>\n  </tbody>\n</table>\n</div>"
     },
     "metadata": {},
     "output_type": "display_data"
    }
   ],
   "source": [
    "from IPython.core.display_functions import display\n",
    "\n",
    "summary = analysis.calculate_summary_statistics()\n",
    "\n",
    "with pd.option_context(\"display.max_row\", None):\n",
    "    display(summary.to_dataframe())"
   ],
   "metadata": {
    "collapsed": false,
    "pycharm": {
     "name": "#%%\n"
    }
   }
  },
  {
   "cell_type": "markdown",
   "source": [
    "### Position and trade timeline\n",
    "\n",
    "Display all positions and how much profit they made."
   ],
   "metadata": {
    "collapsed": false
   }
  },
  {
   "cell_type": "code",
   "execution_count": 25,
   "outputs": [],
   "source": [
    "from tradeexecutor.analysis.trade_analyser import expand_timeline\n",
    "\n",
    "timeline = analysis.create_timeline()\n",
    "\n",
    "expanded_timeline, apply_styles = expand_timeline(\n",
    "        universe.universe.exchanges,\n",
    "        universe.universe.pairs,\n",
    "        timeline)\n",
    "\n",
    "# Did we do any trades\n",
    "if len(expanded_timeline) > 0:\n",
    "    # Do not truncate the row output\n",
    "    with pd.option_context(\"display.max_row\", None):\n",
    "        display(apply_styles(expanded_timeline))\n"
   ],
   "metadata": {
    "collapsed": false,
    "pycharm": {
     "name": "#%%\n"
    }
   }
  },
  {
   "cell_type": "markdown",
   "source": [
    "## Finish\n",
    "\n",
    "This is the last section of the strategy backtest notebook.\n",
    "\n",
    "You can add any further analysis for your backtest here.\n",
    "\n",
    "We print out a comment to signal the notebook finished the execution successfully."
   ],
   "metadata": {
    "collapsed": false
   }
  },
  {
   "cell_type": "code",
   "execution_count": 26,
   "outputs": [
    {
     "name": "stdout",
     "output_type": "stream",
     "text": [
      "All ok\n"
     ]
    }
   ],
   "source": [
    "print(\"All ok\")"
   ],
   "metadata": {
    "collapsed": false,
    "pycharm": {
     "name": "#%%\n"
    }
   }
  }
 ],
 "metadata": {
  "kernelspec": {
   "display_name": "Python 3",
   "language": "python",
   "name": "python3"
  },
  "language_info": {
   "codemirror_mode": {
    "name": "ipython",
    "version": 2
   },
   "file_extension": ".py",
   "mimetype": "text/x-python",
   "name": "python",
   "nbconvert_exporter": "python",
   "pygments_lexer": "ipython2",
   "version": "2.7.6"
  }
 },
 "nbformat": 4,
 "nbformat_minor": 0
}