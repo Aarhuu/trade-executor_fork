{
 "cells": [
  {
   "cell_type": "markdown",
   "source": [
    "# Lending protocols and short/long leverage data\n",
    "\n",
    "Load lending market data for a specific chain (Polygon in this example)\n",
    "and diplay status of the lending market.\n",
    "\n",
    "In this specific example we download interest rates and prices\n",
    "for all assets on Aave v3 on Polygon."
   ],
   "metadata": {
    "collapsed": false
   }
  },
  {
   "cell_type": "markdown",
   "source": [
    "## Set up cient and API keys to download dataset"
   ],
   "metadata": {
    "collapsed": false
   }
  },
  {
   "cell_type": "code",
   "execution_count": 1,
   "outputs": [
    {
     "name": "stdout",
     "output_type": "stream",
     "text": [
      "Started Trading Strategy in Jupyter notebook environment, configuration is stored in /Users/moo/.tradingstrategy\n"
     ]
    }
   ],
   "source": [
    "import datetime\n",
    "\n",
    "from tradingstrategy.client import Client\n",
    "\n",
    "# You will be interactively prompted to register an API key if you do not have one yet\n",
    "client = Client.create_jupyter_client()"
   ],
   "metadata": {
    "collapsed": false,
    "ExecuteTime": {
     "end_time": "2023-10-05T15:48:34.803665Z",
     "start_time": "2023-10-05T15:48:34.216718Z"
    }
   }
  },
  {
   "cell_type": "markdown",
   "source": [
    "## Download datasets\n",
    "\n",
    "We use a shortcut method `load_trading_and_lending_data` to grab everything we need.\n",
    "\n",
    "- This function can download current data\n",
    "- This function can download data for historical time periods"
   ],
   "metadata": {
    "collapsed": false
   }
  },
  {
   "cell_type": "code",
   "execution_count": 2,
   "outputs": [
    {
     "data": {
      "text/plain": "Downloading OHLCV data for 11 trading pairs:   0%|          | 0/2562516 [00:00<?, ?it/s]",
      "application/vnd.jupyter.widget-view+json": {
       "version_major": 2,
       "version_minor": 0,
       "model_id": "c2c7242324fe402eb05f14fdd32d260f"
      }
     },
     "metadata": {},
     "output_type": "display_data"
    },
    {
     "data": {
      "text/plain": "Downloading interest rate data for 20 assets:   0%|          | 0/40 [00:00<?, ?it/s]",
      "application/vnd.jupyter.widget-view+json": {
       "version_major": 2,
       "version_minor": 0,
       "model_id": "b1c3467a20654acfa26003b9273ba21e"
      }
     },
     "metadata": {},
     "output_type": "display_data"
    },
    {
     "name": "stdout",
     "output_type": "stream",
     "text": [
      "We have 11 trading pairs and 20 lending reserves in our datasets\n"
     ]
    }
   ],
   "source": [
    "from tradingstrategy.chain import ChainId\n",
    "from tradeexecutor.strategy.universe_model import UniverseOptions\n",
    "from tradeexecutor.strategy.execution_context import ExecutionMode, ExecutionContext\n",
    "from tradeexecutor.strategy.trading_strategy_universe import load_trading_and_lending_data, TradingStrategyUniverse\n",
    "\n",
    "# Download 30 days historical from today\n",
    "lookback = datetime.timedelta(days=30)\n",
    "\n",
    "# Load all trading and lending data on Polygon\n",
    "# for all lending markets on a relevant time period\n",
    "dataset = load_trading_and_lending_data(\n",
    "    client,\n",
    "    execution_context=ExecutionContext(mode=ExecutionMode.data_research),\n",
    "    universe_options=UniverseOptions(history_period=lookback),\n",
    "    # Ask for all Polygon data\n",
    "    chain_id=ChainId.polygon,\n",
    "    # We limit ourselves to price feeds on Uniswap v3 on Polygon,\n",
    "    # as there are multiple small or dead DEXes on Polygon\n",
    "    # which also have price feeds but not interesting liquidity\n",
    "    exchange_slug=\"uniswap-v3\",\n",
    ")\n",
    "\n",
    "# Construct a trading universe that covers all\n",
    "# chains, DEXes, trading pairs and lending pools we specified\n",
    "strategy_universe = TradingStrategyUniverse.create_from_dataset(dataset)\n",
    "data_universe = strategy_universe.data_universe\n",
    "\n",
    "print(f\"We have {data_universe.pairs.get_count()} trading pairs and {data_universe.lending_reserves.get_count()} lending reserves in our datasets\")"
   ],
   "metadata": {
    "collapsed": false,
    "ExecuteTime": {
     "end_time": "2023-10-05T15:48:41.255126Z",
     "start_time": "2023-10-05T15:48:34.805647Z"
    }
   }
  }
 ],
 "metadata": {
  "kernelspec": {
   "display_name": "Python 3",
   "language": "python",
   "name": "python3"
  },
  "language_info": {
   "codemirror_mode": {
    "name": "ipython",
    "version": 2
   },
   "file_extension": ".py",
   "mimetype": "text/x-python",
   "name": "python",
   "nbconvert_exporter": "python",
   "pygments_lexer": "ipython2",
   "version": "2.7.6"
  }
 },
 "nbformat": 4,
 "nbformat_minor": 0
}
