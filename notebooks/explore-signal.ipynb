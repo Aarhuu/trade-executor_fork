{
 "cells": [
  {
   "cell_type": "markdown",
   "metadata": {},
   "source": [
    "# Explore signal/price movement relationship\n",
    "\n",
    "This is an example notebook to explore whether a trading signal results to profitable trades.\n",
    "\n",
    "- It explores a small set of pairs on Uni v3 on Polygon\n",
    "- Both long and short are considered (though shorts might be theoretical only, if such a lending market doest not exist in the point of time)"
   ]
  },
  {
   "cell_type": "code",
   "execution_count": 1,
   "metadata": {},
   "outputs": [
    {
     "name": "stdout",
     "output_type": "stream",
     "text": [
      "Started Trading Strategy in Jupyter notebook environment, configuration is stored in /Users/moo/.tradingstrategy\n"
     ]
    },
    {
     "ename": "TypeError",
     "evalue": "UniverseOptions.__init__() got an unexpected keyword argument 'start'",
     "output_type": "error",
     "traceback": [
      "\u001b[0;31m---------------------------------------------------------------------------\u001b[0m",
      "\u001b[0;31mTypeError\u001b[0m                                 Traceback (most recent call last)",
      "\u001b[1;32m/Users/moo/code/ts/trade-executor/notebooks/explore-signal.ipynb Cell 2\u001b[0m line \u001b[0;36m5\n\u001b[1;32m     <a href='vscode-notebook-cell:/Users/moo/code/ts/trade-executor/notebooks/explore-signal.ipynb#W6sZmlsZQ%3D%3D?line=41'>42</a>\u001b[0m     \u001b[39mreturn\u001b[39;00m universe\n\u001b[1;32m     <a href='vscode-notebook-cell:/Users/moo/code/ts/trade-executor/notebooks/explore-signal.ipynb#W6sZmlsZQ%3D%3D?line=44'>45</a>\u001b[0m client \u001b[39m=\u001b[39m Client\u001b[39m.\u001b[39mcreate_jupyter_client()\n\u001b[1;32m     <a href='vscode-notebook-cell:/Users/moo/code/ts/trade-executor/notebooks/explore-signal.ipynb#W6sZmlsZQ%3D%3D?line=46'>47</a>\u001b[0m strategy_universe \u001b[39m=\u001b[39m create_trading_universe(\n\u001b[1;32m     <a href='vscode-notebook-cell:/Users/moo/code/ts/trade-executor/notebooks/explore-signal.ipynb#W6sZmlsZQ%3D%3D?line=47'>48</a>\u001b[0m     datetime\u001b[39m.\u001b[39mdatetime\u001b[39m.\u001b[39mutcnow(),\n\u001b[1;32m     <a href='vscode-notebook-cell:/Users/moo/code/ts/trade-executor/notebooks/explore-signal.ipynb#W6sZmlsZQ%3D%3D?line=48'>49</a>\u001b[0m     client,\n\u001b[1;32m     <a href='vscode-notebook-cell:/Users/moo/code/ts/trade-executor/notebooks/explore-signal.ipynb#W6sZmlsZQ%3D%3D?line=49'>50</a>\u001b[0m     notebook_execution_context,\n\u001b[0;32m---> <a href='vscode-notebook-cell:/Users/moo/code/ts/trade-executor/notebooks/explore-signal.ipynb#W6sZmlsZQ%3D%3D?line=50'>51</a>\u001b[0m     UniverseOptions(start\u001b[39m=\u001b[39;49mpd\u001b[39m.\u001b[39;49mTimestamp(\u001b[39m\"\u001b[39;49m\u001b[39m2022-01-01\u001b[39;49m\u001b[39m\"\u001b[39;49m), end\u001b[39m=\u001b[39;49mpd\u001b[39m.\u001b[39;49mTimestamp(\u001b[39m\"\u001b[39;49m\u001b[39m2023-11-01\u001b[39;49m\u001b[39m\"\u001b[39;49m)),\n\u001b[1;32m     <a href='vscode-notebook-cell:/Users/moo/code/ts/trade-executor/notebooks/explore-signal.ipynb#W6sZmlsZQ%3D%3D?line=51'>52</a>\u001b[0m )\n\u001b[1;32m     <a href='vscode-notebook-cell:/Users/moo/code/ts/trade-executor/notebooks/explore-signal.ipynb#W6sZmlsZQ%3D%3D?line=53'>54</a>\u001b[0m data_universe \u001b[39m=\u001b[39m strategy_universe\u001b[39m.\u001b[39mdata_universe\n",
      "\u001b[0;31mTypeError\u001b[0m: UniverseOptions.__init__() got an unexpected keyword argument 'start'"
     ]
    }
   ],
   "source": [
    "import datetime\n",
    "\n",
    "import pandas as pd\n",
    "\n",
    "from tradingstrategy.client import Client\n",
    "from tradingstrategy.chain import ChainId\n",
    "from tradingstrategy.timebucket import TimeBucket\n",
    "from tradeexecutor.utils.default_strategies import get_default_strategies_path\n",
    "from tradeexecutor.strategy.execution_context import notebook_execution_context\n",
    "from tradeexecutor.utils.default_strategies import get_default_strategies_path\n",
    "from tradeexecutor.strategy.strategy_module import read_strategy_module\n",
    "from tradeexecutor.strategy.trading_strategy_universe import TradingStrategyUniverse, load_trading_and_lending_data\n",
    "from tradeexecutor.strategy.universe_model import UniverseOptions\n",
    "\n",
    "\n",
    "def create_trading_universe(\n",
    "    ts: datetime.datetime,\n",
    "    client: Client,\n",
    "    execution_context,\n",
    "    universe_options,\n",
    ") -> TradingStrategyUniverse:\n",
    "    # We limit ourselves to price feeds on Uniswap v3 and Quickswap on Polygon,\n",
    "    # as there are multiple small or dead DEXes on Polygon\n",
    "    # which also have price feeds but not interesting liquidity\n",
    "    dataset = load_trading_and_lending_data(\n",
    "        client,\n",
    "        execution_context=execution_context,\n",
    "        universe_options=universe_options,\n",
    "        # Ask for all Polygon data\n",
    "        chain_id=ChainId.polygon,\n",
    "        exchange_slugs={\"uniswap-v3\"},\n",
    "        reserve_asset_symbols={\"USDC\"},\n",
    "        asset_symbols={\"LINK\", \"WMATIC\", \"WETH\", \"BAL\"},\n",
    "        trading_fee=0.0005,\n",
    "        time_bucket=TimeBucket.d1,\n",
    "        stop_loss_time_bucket=TimeBucket.h1,\n",
    "    )\n",
    "\n",
    "    # Filter down the dataset to the pairs we specified\n",
    "    universe = TradingStrategyUniverse.create_from_dataset(dataset)\n",
    "\n",
    "    return universe\n",
    "\n",
    "\n",
    "client = Client.create_jupyter_client()\n",
    "\n",
    "strategy_universe = create_trading_universe(\n",
    "    datetime.datetime.utcnow(),\n",
    "    client,\n",
    "    notebook_execution_context,\n",
    "    UniverseOptions(start_at=pd.Timestamp(\"2022-01-01\"), end_at=pd.Timestamp(\"2023-11-01\")),\n",
    ")\n",
    "\n",
    "data_universe = strategy_universe.data_universe"
   ]
  },
  {
   "cell_type": "markdown",
   "metadata": {},
   "source": [
    "## Github mode\n",
    "\n",
    "Set chart output mode to static images that Github website notebook viewer can display."
   ]
  },
  {
   "cell_type": "code",
   "execution_count": null,
   "metadata": {},
   "outputs": [],
   "source": [
    "from tradeexecutor.utils.notebook import OutputMode, setup_charting_and_output\n",
    "\n",
    "\n",
    "setup_charting_and_output(OutputMode.static, image_format=\"png\")"
   ]
  },
  {
   "cell_type": "markdown",
   "metadata": {},
   "source": [
    "## Explore signal vs price change\n",
    "\n",
    "Create a function `calculate_signal_vs_profit` which calculates \n",
    "- Signal (naive momentum)\n",
    "- Profit: the last and the best future price we can get\n",
    "- Allows us to play around with different time windows\n",
    "- Split between shorts and longs\n"
   ]
  },
  {
   "cell_type": "code",
   "execution_count": null,
   "metadata": {},
   "outputs": [],
   "source": [
    "import pandas as pd\n",
    "import numpy as np\n",
    "from pandas.tseries.frequencies import to_offset\n",
    "\n",
    "from tradingstrategy.utils.forward_fill import forward_fill\n",
    "from tradingstrategy.chain import ChainId\n",
    "from tradingstrategy.pair import DEXPair\n",
    "\n",
    "def calculate_signal_vs_profit(df, signal_window: pd.Timedelta, profit_window: pd.Timedelta) -> pd.DataFrame:\n",
    "    \"\"\"Calculate signals and profits for all incoming candles.\"\"\"\n",
    "    \n",
    "    # Create entries for past price to be used for signal\n",
    "    # and future price (used for the price correlation)\n",
    "    signal_offset = to_offset(signal_window)\n",
    "    profit_offset = to_offset(profit_window)\n",
    "\n",
    "    df[\"prev\"] = df[\"close\"].shift(freq=signal_offset)\n",
    "    df[\"next\"] = df[\"open\"].shift(freq=-profit_offset)\n",
    "\n",
    "    # Calculate signal from the past and price difference to the future\n",
    "    df[\"signal\"] = (df[\"prev\"] - df[\"open\"]) / df[\"open\"]\n",
    "    df[\"price_diff\"] = (df[\"next\"] - df[\"open\"]) / df[\"open\"]  # Get the profit on the final day of profit window\n",
    "\n",
    "    # On negative signals, we go short.\n",
    "    # On zero signal and lack of data set side to NA\n",
    "    df[\"side\"] = pd.NA\n",
    "    df.loc[df[\"signal\"] > 0, \"side\"] = \"long\"\n",
    "    df.loc[df[\"signal\"] < 0, \"side\"] = \"short\"\n",
    "\n",
    "    # Max and min price wihtin the profit window will determine the profit for longs and shorts respective\n",
    "    df[\"max_future_price\"] = df[\"close\"].rolling(profit_window.days).max().shift(-profit_window.days) # Get the max profit on the profit window, assuming take profit %\n",
    "    df[\"min_future_price\"] = df[\"close\"].rolling(profit_window.days).min().shift(-profit_window.days) # Get the max profit on the profit window, assuming take profit %    \n",
    "    \n",
    "    # Calculate profit separately for longs and shorts\n",
    "    # using Pandas Mask\n",
    "    # https://stackoverflow.com/a/33770421/315168\n",
    "    #\n",
    "    # We calculate both profit after X time,\n",
    "    # and also max take profit, assuming\n",
    "    # we could do a perfect trailing stop loss\n",
    "    #\n",
    "    longs = (df[\"side\"] == \"long\")\n",
    "    shorts = (df[\"side\"] == \"short\")\n",
    "    df.loc[longs, \"profit\"] = df[\"price_diff\"]\n",
    "    df.loc[shorts, \"profit\"] = -df[\"price_diff\"]\n",
    "    df.loc[longs, \"profit_max\"] = (df[\"max_future_price\"] - df[\"open\"]) / df[\"open\"]  # Get the profit based on max price\n",
    "    df.loc[shorts, \"profit_max\"] = -(df[\"min_future_price\"] - df[\"open\"]) / df[\"open\"]  # Get the profit based on max price\n",
    "\n",
    "    df.loc[longs, \"desc\"] = df.agg('{0[pair]} long'.format, axis=1)\n",
    "    df.loc[shorts, \"desc\"] = df.agg('{0[pair]} short'.format, axis=1)\n",
    "\n",
    "    \n",
    "    return df\n",
    "     \n"
   ]
  },
  {
   "cell_type": "markdown",
   "metadata": {},
   "source": [
    "Create a function `calculate_signal_vs_price_for_pair` which calculates \n",
    "- Calculates the signal vs. for certain trading pair\n",
    "- Bundle few different pairs to the same `DataFrame` so we can examine them together\n"
   ]
  },
  {
   "cell_type": "code",
   "execution_count": null,
   "metadata": {},
   "outputs": [],
   "source": [
    "def calculate_signal_vs_price_for_pair(pair: DEXPair) -> pd.DataFrame:\n",
    "    \"\"\"Calculate signal vs. profit ratio for an individual pair.\"\"\"\n",
    "    df = data_universe.candles.get_candles_by_pair(pair)\n",
    "    assert df is not None\n",
    "\n",
    "    df = df.copy()\n",
    "\n",
    "    # Make sure there are no gaps in the data\n",
    "    df = forward_fill(\n",
    "        df, \n",
    "        freq=data_universe.time_bucket.to_frequency(), \n",
    "        columns=(\"open\", \"high\", \"low\", \"close\")\n",
    "    )\n",
    "\n",
    "    df[\"pair\"] = pair.get_ticker()\n",
    "    df = calculate_signal_vs_profit(\n",
    "        df,\n",
    "        #signal_window=pd.DateOffset(days=7),\n",
    "        #profit_window=pd.DateOffset(days=7),\n",
    "        signal_window=pd.Timedelta(days=8),\n",
    "        profit_window=pd.Timedelta(days=8),\n",
    "    )\n",
    "\n",
    "    \n",
    "    return df\n",
    "\n",
    "pairs = data_universe.pairs\n",
    "eth = calculate_signal_vs_price_for_pair(pairs.get_pair_by_human_description((ChainId.polygon, \"uniswap-v3\", \"WETH\", \"USDC\")))\n",
    "link = calculate_signal_vs_price_for_pair(pairs.get_pair_by_human_description((ChainId.polygon, \"uniswap-v3\", \"LINK\", \"USDC\")))\n",
    "matic = calculate_signal_vs_price_for_pair(pairs.get_pair_by_human_description((ChainId.polygon, \"uniswap-v3\", \"WMATIC\", \"USDC\")))\n",
    "\n",
    "df = pd.concat([eth, link, matic])\n",
    "\n",
    "pd.set_option('display.min_rows', 36)\n",
    "display(df)"
   ]
  },
  {
   "cell_type": "markdown",
   "metadata": {},
   "source": [
    "## Plot signal vs. price samples\n",
    "\n",
    "Different scatter charts to examine if there is a correlation between the signal and the profit."
   ]
  },
  {
   "cell_type": "code",
   "execution_count": null,
   "metadata": {},
   "outputs": [],
   "source": [
    "import plotly.express as px\n",
    "fig = px.scatter(df, x=\"signal\", y=\"profit_max\", trendline=\"ols\", color=\"desc\", title=\"Max take profit\")\n",
    "fig.show()\n",
    "\n",
    "fig = px.scatter(df, x=\"signal\", y=\"profit\", trendline=\"ols\", color=\"desc\", title=\"Profit last day\")\n",
    "fig.show()"
   ]
  },
  {
   "cell_type": "markdown",
   "metadata": {},
   "source": [
    "### Long only vs. short \n",
    "\n",
    "Examine trade types separately to better see if one side is clearly superior."
   ]
  },
  {
   "cell_type": "code",
   "execution_count": null,
   "metadata": {},
   "outputs": [],
   "source": [
    "df_long_only = df.loc[df[\"side\"] == \"long\"]\n",
    "\n",
    "fig = px.scatter(df_long_only, x=\"signal\", y=\"profit_max\", trendline=\"ols\", color=\"desc\", title=\"Long only max take profit\")\n",
    "fig.show()\n",
    "\n",
    "fig = px.scatter(df_long_only, x=\"signal\", y=\"profit\", trendline=\"ols\", color=\"desc\", title=\"Long only profit last day\")\n",
    "fig.show()"
   ]
  },
  {
   "cell_type": "code",
   "execution_count": null,
   "metadata": {},
   "outputs": [],
   "source": [
    "df_short_only = df.loc[df[\"side\"] == \"short\"]\n",
    "\n",
    "fig = px.scatter(df_short_only, x=\"signal\", y=\"profit_max\", trendline=\"ols\", color=\"desc\", title=\"Short only max take profit\")\n",
    "fig.show()\n",
    "\n",
    "fig = px.scatter(df_short_only, x=\"signal\", y=\"profit\", trendline=\"ols\", color=\"desc\", title=\"Short only profit last day\")\n",
    "fig.show()"
   ]
  },
  {
   "cell_type": "markdown",
   "metadata": {},
   "source": [
    "### Filtered signal\n",
    "\n",
    "Remove low signals below a certain threshold and see if it affects the correlation between the signal and the profit."
   ]
  },
  {
   "cell_type": "code",
   "execution_count": null,
   "metadata": {},
   "outputs": [],
   "source": [
    "\n",
    "threshold = 0.05\n",
    "\n",
    "filtered_df = df.loc[abs(df[\"signal\"]) >= threshold]\n",
    "\n",
    "fig = px.scatter(filtered_df, x=\"signal\", y=\"profit_max\", trendline=\"ols\", color=\"desc\", title=f\"Filtered signal at {threshold} max take profit\")\n",
    "fig.show()\n",
    "\n",
    "fig = px.scatter(filtered_df, x=\"signal\", y=\"profit\", trendline=\"ols\", color=\"desc\", title=f\"Filtered signal at {threshold} profit last day\")\n",
    "fig.show()"
   ]
  }
 ],
 "metadata": {
  "kernelspec": {
   "display_name": "trade-executor-8Oz1GdY1-py3.10",
   "language": "python",
   "name": "python3"
  },
  "language_info": {
   "codemirror_mode": {
    "name": "ipython",
    "version": 3
   },
   "file_extension": ".py",
   "mimetype": "text/x-python",
   "name": "python",
   "nbconvert_exporter": "python",
   "pygments_lexer": "ipython3",
   "version": "3.10.13"
  }
 },
 "nbformat": 4,
 "nbformat_minor": 2
}
