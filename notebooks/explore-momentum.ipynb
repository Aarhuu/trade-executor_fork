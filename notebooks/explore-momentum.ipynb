{
 "cells": [
  {
   "cell_type": "code",
   "execution_count": 5,
   "metadata": {},
   "outputs": [
    {
     "name": "stdout",
     "output_type": "stream",
     "text": [
      "Backtesting for strategy /Users/moo/code/ts/trade-executor/strategies/spot-and-short-momentum.py, engine version 0.3\n",
      "Started Trading Strategy in Jupyter notebook environment, configuration is stored in /Users/moo/.tradingstrategy\n"
     ]
    },
    {
     "data": {
      "application/vnd.jupyter.widget-view+json": {
       "model_id": "03cf4cec51d84fd4a23e9d78cf927fc2",
       "version_major": 2,
       "version_minor": 0
      },
      "text/plain": [
       "Downloading interest rate data for 5 assets:   0%|          | 0/10 [00:00<?, ?it/s]"
      ]
     },
     "metadata": {},
     "output_type": "display_data"
    }
   ],
   "source": [
    "import datetime\n",
    "import importlib.util\n",
    "import sys\n",
    "from tradingstrategy.client import Client\n",
    "from tradeexecutor.utils.default_strategies import get_default_strategies_path\n",
    "from tradeexecutor.strategy.execution_context import notebook_execution_context\n",
    "\n",
    "\n",
    "from tradeexecutor.utils.default_strategies import get_default_strategies_path\n",
    "from tradeexecutor.strategy.strategy_module import read_strategy_module\n",
    "\n",
    "strategies_folder = get_default_strategies_path()\n",
    "strategy_path = strategies_folder / \"spot-and-short-momentum.py\"\n",
    "\n",
    "strategy_mod = read_strategy_module(strategy_path)\n",
    "\n",
    "print(f\"Backtesting for strategy {strategy_path}, engine version {strategy_mod.trading_strategy_engine_version}\")\n",
    "\n",
    "client = Client.create_jupyter_client()\n",
    "\n",
    "# contains start_at, end_at backtesting range\n",
    "universe_options = strategy_mod.get_universe_options()\n",
    "\n",
    "strategy_universe = strategy_mod.create_trading_universe(\n",
    "    datetime.datetime.utcnow(),\n",
    "    client,\n",
    "    notebook_execution_context,\n",
    "    universe_options,\n",
    ")\n",
    "\n",
    "data_universe = strategy_universe.data_universe"
   ]
  },
  {
   "cell_type": "markdown",
   "metadata": {},
   "source": [
    "## Explore momentum by weekday\n",
    "\n"
   ]
  },
  {
   "cell_type": "code",
   "execution_count": 6,
   "metadata": {},
   "outputs": [],
   "source": [
    "import pandas as pd\n",
    "from collections import defaultdict\n",
    "\n",
    "\n",
    "def calculate_momentum_by_weekday(df, momentum_period: pd.TimeDelta, weekday: int) -> pd.Series:\n",
    "    # Monday = 0 and Sunday = 6\n",
    "    index = []\n",
    "    values = []\n",
    "    for date in df.index[df.index.weekday==weekday]:\n",
    "        first = df[date + momentum_period][\"close\"]\n",
    "        last = df[date][\"open\"]\n",
    "        momentum = (last - first) / first \n",
    "        index.append(date)\n",
    "        values.append(momentum)\n",
    "    \n",
    "    return pd.Series(values, index)\n",
    "     "
   ]
  },
  {
   "cell_type": "code",
   "execution_count": 7,
   "metadata": {},
   "outputs": [
    {
     "name": "stdout",
     "output_type": "stream",
     "text": [
      "Creating for 0\n",
      "2022-07-04 00:00:00\n",
      "2022-07-11 00:00:00\n",
      "2022-07-18 00:00:00\n",
      "2022-07-25 00:00:00\n",
      "2022-08-01 00:00:00\n",
      "2022-08-08 00:00:00\n",
      "2022-08-15 00:00:00\n",
      "2022-08-22 00:00:00\n",
      "2022-08-29 00:00:00\n",
      "2022-09-05 00:00:00\n",
      "2022-09-12 00:00:00\n",
      "2022-09-19 00:00:00\n",
      "2022-09-26 00:00:00\n",
      "2022-10-03 00:00:00\n",
      "2022-10-10 00:00:00\n",
      "2022-10-17 00:00:00\n",
      "2022-10-24 00:00:00\n",
      "2022-10-31 00:00:00\n",
      "2022-11-07 00:00:00\n",
      "2022-11-14 00:00:00\n",
      "2022-11-21 00:00:00\n",
      "2022-11-28 00:00:00\n",
      "2022-12-05 00:00:00\n",
      "2022-12-12 00:00:00\n",
      "2022-12-19 00:00:00\n",
      "2022-12-26 00:00:00\n",
      "2023-01-02 00:00:00\n",
      "2023-01-09 00:00:00\n",
      "2023-01-16 00:00:00\n",
      "2023-01-23 00:00:00\n",
      "2023-01-30 00:00:00\n",
      "2023-02-06 00:00:00\n",
      "2023-02-13 00:00:00\n",
      "2023-02-20 00:00:00\n",
      "2023-02-27 00:00:00\n",
      "2023-03-06 00:00:00\n",
      "2023-03-13 00:00:00\n",
      "2023-03-20 00:00:00\n",
      "2023-03-27 00:00:00\n",
      "2023-04-03 00:00:00\n",
      "2023-04-10 00:00:00\n",
      "2023-04-17 00:00:00\n",
      "2023-04-24 00:00:00\n",
      "2023-05-01 00:00:00\n",
      "2023-05-08 00:00:00\n",
      "2023-05-15 00:00:00\n",
      "2023-05-22 00:00:00\n",
      "2023-05-29 00:00:00\n",
      "2023-06-05 00:00:00\n",
      "2023-06-12 00:00:00\n",
      "2023-06-19 00:00:00\n",
      "2023-06-26 00:00:00\n",
      "2023-07-03 00:00:00\n",
      "2023-07-10 00:00:00\n",
      "2023-07-17 00:00:00\n",
      "2023-07-24 00:00:00\n",
      "2023-07-31 00:00:00\n",
      "2023-08-07 00:00:00\n",
      "2023-08-14 00:00:00\n",
      "2023-08-21 00:00:00\n",
      "2023-08-28 00:00:00\n",
      "2023-09-04 00:00:00\n",
      "2023-09-11 00:00:00\n",
      "2023-09-18 00:00:00\n",
      "2023-09-25 00:00:00\n",
      "2023-10-02 00:00:00\n",
      "2023-10-09 00:00:00\n",
      "2023-10-16 00:00:00\n",
      "2023-10-23 00:00:00\n",
      "2023-10-30 00:00:00\n",
      "Creating for 1\n",
      "Creating for 2\n",
      "Creating for 3\n",
      "Creating for 4\n",
      "Creating for 5\n",
      "Creating for 6\n"
     ]
    }
   ],
   "source": [
    "# Do ETH first\n",
    "from tradingstrategy.chain import ChainId\n",
    "\n",
    "pair = data_universe.pairs.get_pair_by_human_description((ChainId.polygon, \"uniswap-v3\", \"WETH\", \"USDC\"))\n",
    "df = data_universe.candles.get_candles_by_pair(pair)\n",
    "assert df is not None\n",
    "momentums = pd.DataFrame()\n",
    "\n",
    "for day in range(0, 7):\n",
    "    day_name = calendar.day_name[day]\n",
    "    print(f\"Creating for {day_name}\")\n",
    "    momentums[day_name] = calculate_momentum_by_weekday(df, pd.Timedelta(days=-7), day)\n",
    "\n",
    "\n"
   ]
  },
  {
   "cell_type": "code",
   "execution_count": 8,
   "metadata": {},
   "outputs": [],
   "source": [
    "# weekday -> period -> pair id\n",
    "\n",
    "# periods = [6, 7, 8]\n",
    "# pair_dfs = defaultdict(lambda: defaultdict(int))\n",
    "\n",
    "# data_df = {}\n",
    "# for pair in data_universe.pairs.get_all_pair_ids():\n",
    "#     data_df[pair] = data_universe.candles.get_candles_by_pair(pair)\n",
    "\n",
    "# for pair in data_universe.pairs.get_all_pair_ids():\n",
    "#     data = data_df[pair]\n",
    "#     for day in range(0, 7):\n",
    "#         for period in periods:\n",
    "#             pair_dfs[day][period][pair] = calculate_momentum_by_weekday(period, day)\n"
   ]
  }
 ],
 "metadata": {
  "kernelspec": {
   "display_name": "trade-executor-8Oz1GdY1-py3.10",
   "language": "python",
   "name": "python3"
  },
  "language_info": {
   "codemirror_mode": {
    "name": "ipython",
    "version": 3
   },
   "file_extension": ".py",
   "mimetype": "text/x-python",
   "name": "python",
   "nbconvert_exporter": "python",
   "pygments_lexer": "ipython3",
   "version": "3.10.13"
  }
 },
 "nbformat": 4,
 "nbformat_minor": 2
}
