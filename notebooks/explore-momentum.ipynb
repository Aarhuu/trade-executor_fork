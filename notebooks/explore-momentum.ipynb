{
 "cells": [
  {
   "cell_type": "code",
   "execution_count": 1,
   "metadata": {},
   "outputs": [
    {
     "name": "stdout",
     "output_type": "stream",
     "text": [
      "Backtesting for strategy /Users/moo/code/ts/trade-executor/strategies/spot-and-short-momentum.py, engine version 0.3\n",
      "Started Trading Strategy in Jupyter notebook environment, configuration is stored in /Users/moo/.tradingstrategy\n"
     ]
    },
    {
     "data": {
      "application/vnd.jupyter.widget-view+json": {
       "model_id": "84208d14b11147c19b807f9ce070406f",
       "version_major": 2,
       "version_minor": 0
      },
      "text/plain": [
       "Downloading interest rate data for 5 assets:   0%|          | 0/10 [00:00<?, ?it/s]"
      ]
     },
     "metadata": {},
     "output_type": "display_data"
    }
   ],
   "source": [
    "import datetime\n",
    "import importlib.util\n",
    "import sys\n",
    "from tradingstrategy.client import Client\n",
    "from tradeexecutor.utils.default_strategies import get_default_strategies_path\n",
    "from tradeexecutor.strategy.execution_context import notebook_execution_context\n",
    "\n",
    "\n",
    "from tradeexecutor.utils.default_strategies import get_default_strategies_path\n",
    "from tradeexecutor.strategy.strategy_module import read_strategy_module\n",
    "\n",
    "strategies_folder = get_default_strategies_path()\n",
    "strategy_path = strategies_folder / \"spot-and-short-momentum.py\"\n",
    "\n",
    "strategy_mod = read_strategy_module(strategy_path)\n",
    "\n",
    "print(f\"Backtesting for strategy {strategy_path}, engine version {strategy_mod.trading_strategy_engine_version}\")\n",
    "\n",
    "client = Client.create_jupyter_client()\n",
    "\n",
    "# contains start_at, end_at backtesting range\n",
    "universe_options = strategy_mod.get_universe_options()\n",
    "\n",
    "strategy_universe = strategy_mod.create_trading_universe(\n",
    "    datetime.datetime.utcnow(),\n",
    "    client,\n",
    "    notebook_execution_context,\n",
    "    universe_options,\n",
    ")\n",
    "\n",
    "data_universe = strategy_universe.data_universe"
   ]
  },
  {
   "cell_type": "markdown",
   "metadata": {},
   "source": [
    "## Explore momentum by weekday\n",
    "\n"
   ]
  },
  {
   "cell_type": "code",
   "execution_count": 2,
   "metadata": {},
   "outputs": [],
   "source": [
    "import pandas as pd\n",
    "\n",
    "\n",
    "def calculate_momentum_by_weekday(df, momentum_period: pd.Timedelta, weekday: int) -> pd.Series:\n",
    "    # Monday = 0 and Sunday = 6\n",
    "    index = []\n",
    "    values = []\n",
    "    for date in df.index[df.index.weekday==weekday]:        \n",
    "        first = df[date + momentum_period][\"close\"]\n",
    "        last = df[date][\"open\"]\n",
    "        momentum = (last - first) / first \n",
    "        index.append(date)\n",
    "        values.append(momentum)\n",
    "\n",
    "    assert len(values) > 1, f\"Could not calculate: {momentum_period} {weekday}\"\n",
    "    \n",
    "    return pd.Series(values, index)\n",
    "     "
   ]
  },
  {
   "cell_type": "code",
   "execution_count": 3,
   "metadata": {},
   "outputs": [
    {
     "name": "stdout",
     "output_type": "stream",
     "text": [
      "Creating for Monday\n"
     ]
    },
    {
     "ename": "AssertionError",
     "evalue": "Could not calculate: -7 days +00:00:00 0",
     "output_type": "error",
     "traceback": [
      "\u001b[0;31m---------------------------------------------------------------------------\u001b[0m",
      "\u001b[0;31mAssertionError\u001b[0m                            Traceback (most recent call last)",
      "\u001b[1;32m/Users/moo/code/ts/trade-executor/notebooks/explore-momentum.ipynb Cell 4\u001b[0m line \u001b[0;36m1\n\u001b[1;32m     <a href='vscode-notebook-cell:/Users/moo/code/ts/trade-executor/notebooks/explore-momentum.ipynb#X12sZmlsZQ%3D%3D?line=10'>11</a>\u001b[0m     day_name \u001b[39m=\u001b[39m calendar\u001b[39m.\u001b[39mday_name[day]\n\u001b[1;32m     <a href='vscode-notebook-cell:/Users/moo/code/ts/trade-executor/notebooks/explore-momentum.ipynb#X12sZmlsZQ%3D%3D?line=11'>12</a>\u001b[0m     \u001b[39mprint\u001b[39m(\u001b[39mf\u001b[39m\u001b[39m\"\u001b[39m\u001b[39mCreating for \u001b[39m\u001b[39m{\u001b[39;00mday_name\u001b[39m}\u001b[39;00m\u001b[39m\"\u001b[39m)    \n\u001b[0;32m---> <a href='vscode-notebook-cell:/Users/moo/code/ts/trade-executor/notebooks/explore-momentum.ipynb#X12sZmlsZQ%3D%3D?line=12'>13</a>\u001b[0m     momentums[day_name] \u001b[39m=\u001b[39m calculate_momentum_by_weekday(df, pd\u001b[39m.\u001b[39;49mTimedelta(days\u001b[39m=\u001b[39;49m\u001b[39m-\u001b[39;49m\u001b[39m7\u001b[39;49m), day)\n\u001b[1;32m     <a href='vscode-notebook-cell:/Users/moo/code/ts/trade-executor/notebooks/explore-momentum.ipynb#X12sZmlsZQ%3D%3D?line=13'>14</a>\u001b[0m     display(momentums[day_name])\n\u001b[1;32m     <a href='vscode-notebook-cell:/Users/moo/code/ts/trade-executor/notebooks/explore-momentum.ipynb#X12sZmlsZQ%3D%3D?line=15'>16</a>\u001b[0m \u001b[39m# momentums.index = df.index\u001b[39;00m\n\u001b[1;32m     <a href='vscode-notebook-cell:/Users/moo/code/ts/trade-executor/notebooks/explore-momentum.ipynb#X12sZmlsZQ%3D%3D?line=16'>17</a>\u001b[0m \n\u001b[1;32m     <a href='vscode-notebook-cell:/Users/moo/code/ts/trade-executor/notebooks/explore-momentum.ipynb#X12sZmlsZQ%3D%3D?line=17'>18</a>\u001b[0m \u001b[39m# display(momentums)\u001b[39;00m\n",
      "\u001b[1;32m/Users/moo/code/ts/trade-executor/notebooks/explore-momentum.ipynb Cell 4\u001b[0m line \u001b[0;36m1\n\u001b[1;32m     <a href='vscode-notebook-cell:/Users/moo/code/ts/trade-executor/notebooks/explore-momentum.ipynb#X12sZmlsZQ%3D%3D?line=14'>15</a>\u001b[0m     index\u001b[39m.\u001b[39mappend(date)\n\u001b[1;32m     <a href='vscode-notebook-cell:/Users/moo/code/ts/trade-executor/notebooks/explore-momentum.ipynb#X12sZmlsZQ%3D%3D?line=15'>16</a>\u001b[0m     values\u001b[39m.\u001b[39mappend(momentum)\n\u001b[0;32m---> <a href='vscode-notebook-cell:/Users/moo/code/ts/trade-executor/notebooks/explore-momentum.ipynb#X12sZmlsZQ%3D%3D?line=17'>18</a>\u001b[0m \u001b[39massert\u001b[39;00m \u001b[39mlen\u001b[39m(values) \u001b[39m>\u001b[39m \u001b[39m1\u001b[39m, \u001b[39mf\u001b[39m\u001b[39m\"\u001b[39m\u001b[39mCould not calculate: \u001b[39m\u001b[39m{\u001b[39;00mmomentum_period\u001b[39m}\u001b[39;00m\u001b[39m \u001b[39m\u001b[39m{\u001b[39;00mweekday\u001b[39m}\u001b[39;00m\u001b[39m\"\u001b[39m\n\u001b[1;32m     <a href='vscode-notebook-cell:/Users/moo/code/ts/trade-executor/notebooks/explore-momentum.ipynb#X12sZmlsZQ%3D%3D?line=19'>20</a>\u001b[0m \u001b[39mreturn\u001b[39;00m pd\u001b[39m.\u001b[39mSeries(values, index)\n",
      "\u001b[0;31mAssertionError\u001b[0m: Could not calculate: -7 days +00:00:00 0"
     ]
    }
   ],
   "source": [
    "# Do ETH first\n",
    "import calendar\n",
    "from tradingstrategy.chain import ChainId\n",
    "\n",
    "pair = data_universe.pairs.get_pair_by_human_description((ChainId.polygon, \"uniswap-v3\", \"WETH\", \"USDC\"))\n",
    "df = data_universe.candles.get_candles_by_pair(pair)\n",
    "assert df is not None\n",
    "momentums = pd.DataFrame()\n",
    "\n",
    "for day in range(0, 7):\n",
    "    day_name = calendar.day_name[day]\n",
    "    print(f\"Creating for {day_name}\")    \n",
    "    momentums[day_name] = calculate_momentum_by_weekday(df, pd.Timedelta(days=-7), day)\n",
    "    display(momentums[day_name])\n",
    "\n",
    "# momentums.index = df.index\n",
    "\n",
    "# display(momentums)"
   ]
  },
  {
   "cell_type": "code",
   "execution_count": null,
   "metadata": {},
   "outputs": [],
   "source": [
    "# weekday -> period -> pair id\n",
    "\n",
    "# periods = [6, 7, 8]\n",
    "# pair_dfs = defaultdict(lambda: defaultdict(int))\n",
    "\n",
    "# data_df = {}\n",
    "# for pair in data_universe.pairs.get_all_pair_ids():\n",
    "#     data_df[pair] = data_universe.candles.get_candles_by_pair(pair)\n",
    "\n",
    "# for pair in data_universe.pairs.get_all_pair_ids():\n",
    "#     data = data_df[pair]\n",
    "#     for day in range(0, 7):\n",
    "#         for period in periods:\n",
    "#             pair_dfs[day][period][pair] = calculate_momentum_by_weekday(period, day)\n"
   ]
  }
 ],
 "metadata": {
  "kernelspec": {
   "display_name": "trade-executor-8Oz1GdY1-py3.10",
   "language": "python",
   "name": "python3"
  },
  "language_info": {
   "codemirror_mode": {
    "name": "ipython",
    "version": 3
   },
   "file_extension": ".py",
   "mimetype": "text/x-python",
   "name": "python",
   "nbconvert_exporter": "python",
   "pygments_lexer": "ipython3",
   "version": "3.10.13"
  }
 },
 "nbformat": 4,
 "nbformat_minor": 2
}
