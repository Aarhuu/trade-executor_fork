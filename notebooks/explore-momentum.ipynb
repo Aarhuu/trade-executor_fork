{
 "cells": [
  {
   "cell_type": "code",
   "execution_count": 1,
   "metadata": {},
   "outputs": [
    {
     "ename": "FileNotFoundError",
     "evalue": "[Errno 2] No such file or directory: '/Users/moo/code/ts/trade-executor/strategies/spot-and-short-momentum.py'",
     "output_type": "error",
     "traceback": [
      "\u001b[0;31m---------------------------------------------------------------------------\u001b[0m",
      "\u001b[0;31mFileNotFoundError\u001b[0m                         Traceback (most recent call last)",
      "\u001b[1;32m/Users/moo/code/ts/trade-executor/notebooks/explore-momentum.ipynb Cell 1\u001b[0m line \u001b[0;36m1\n\u001b[1;32m     <a href='vscode-notebook-cell:/Users/moo/code/ts/trade-executor/notebooks/explore-momentum.ipynb#W0sZmlsZQ%3D%3D?line=11'>12</a>\u001b[0m strategies_folder \u001b[39m=\u001b[39m get_default_strategies_path()\n\u001b[1;32m     <a href='vscode-notebook-cell:/Users/moo/code/ts/trade-executor/notebooks/explore-momentum.ipynb#W0sZmlsZQ%3D%3D?line=12'>13</a>\u001b[0m strategy_path \u001b[39m=\u001b[39m strategies_folder \u001b[39m/\u001b[39m \u001b[39m\"\u001b[39m\u001b[39mspot-and-short-momentum.py\u001b[39m\u001b[39m\"\u001b[39m\n\u001b[0;32m---> <a href='vscode-notebook-cell:/Users/moo/code/ts/trade-executor/notebooks/explore-momentum.ipynb#W0sZmlsZQ%3D%3D?line=14'>15</a>\u001b[0m strategy_mod \u001b[39m=\u001b[39m read_strategy_module(strategy_path)\n\u001b[1;32m     <a href='vscode-notebook-cell:/Users/moo/code/ts/trade-executor/notebooks/explore-momentum.ipynb#W0sZmlsZQ%3D%3D?line=16'>17</a>\u001b[0m \u001b[39mprint\u001b[39m(\u001b[39mf\u001b[39m\u001b[39m\"\u001b[39m\u001b[39mBacktesting for strategy \u001b[39m\u001b[39m{\u001b[39;00mstrategy_path\u001b[39m}\u001b[39;00m\u001b[39m, engine version \u001b[39m\u001b[39m{\u001b[39;00mstrategy_mod\u001b[39m.\u001b[39mtrading_strategy_engine_version\u001b[39m}\u001b[39;00m\u001b[39m\"\u001b[39m)\n\u001b[1;32m     <a href='vscode-notebook-cell:/Users/moo/code/ts/trade-executor/notebooks/explore-momentum.ipynb#W0sZmlsZQ%3D%3D?line=18'>19</a>\u001b[0m client \u001b[39m=\u001b[39m Client\u001b[39m.\u001b[39mcreate_jupyter_client()\n",
      "File \u001b[0;32m~/code/ts/trade-executor/tradeexecutor/strategy/strategy_module.py:458\u001b[0m, in \u001b[0;36mread_strategy_module\u001b[0;34m(path)\u001b[0m\n\u001b[1;32m    454\u001b[0m logger\u001b[39m.\u001b[39minfo(\u001b[39m\"\u001b[39m\u001b[39mReading strategy \u001b[39m\u001b[39m%s\u001b[39;00m\u001b[39m\"\u001b[39m, path)\n\u001b[1;32m    456\u001b[0m \u001b[39massert\u001b[39;00m \u001b[39misinstance\u001b[39m(path, Path)\n\u001b[0;32m--> 458\u001b[0m strategy_exports \u001b[39m=\u001b[39m runpy\u001b[39m.\u001b[39;49mrun_path(path\u001b[39m.\u001b[39;49mas_posix())\n\u001b[1;32m    460\u001b[0m \u001b[39mwith\u001b[39;00m \u001b[39mopen\u001b[39m(path\u001b[39m.\u001b[39mas_posix(), \u001b[39m\"\u001b[39m\u001b[39mrt\u001b[39m\u001b[39m\"\u001b[39m) \u001b[39mas\u001b[39;00m inp:\n\u001b[1;32m    461\u001b[0m     source_code \u001b[39m=\u001b[39m inp\u001b[39m.\u001b[39mread()\n",
      "File \u001b[0;32m/opt/homebrew/Cellar/python@3.10/3.10.13/Frameworks/Python.framework/Versions/3.10/lib/python3.10/runpy.py:288\u001b[0m, in \u001b[0;36mrun_path\u001b[0;34m(path_name, init_globals, run_name)\u001b[0m\n\u001b[1;32m    284\u001b[0m         is_NullImporter \u001b[39m=\u001b[39m \u001b[39mTrue\u001b[39;00m\n\u001b[1;32m    285\u001b[0m \u001b[39mif\u001b[39;00m \u001b[39misinstance\u001b[39m(importer, \u001b[39mtype\u001b[39m(\u001b[39mNone\u001b[39;00m)) \u001b[39mor\u001b[39;00m is_NullImporter:\n\u001b[1;32m    286\u001b[0m     \u001b[39m# Not a valid sys.path entry, so run the code directly\u001b[39;00m\n\u001b[1;32m    287\u001b[0m     \u001b[39m# execfile() doesn't help as we want to allow compiled files\u001b[39;00m\n\u001b[0;32m--> 288\u001b[0m     code, fname \u001b[39m=\u001b[39m _get_code_from_file(run_name, path_name)\n\u001b[1;32m    289\u001b[0m     \u001b[39mreturn\u001b[39;00m _run_module_code(code, init_globals, run_name,\n\u001b[1;32m    290\u001b[0m                             pkg_name\u001b[39m=\u001b[39mpkg_name, script_name\u001b[39m=\u001b[39mfname)\n\u001b[1;32m    291\u001b[0m \u001b[39melse\u001b[39;00m:\n\u001b[1;32m    292\u001b[0m     \u001b[39m# Finder is defined for path, so add it to\u001b[39;00m\n\u001b[1;32m    293\u001b[0m     \u001b[39m# the start of sys.path\u001b[39;00m\n",
      "File \u001b[0;32m/opt/homebrew/Cellar/python@3.10/3.10.13/Frameworks/Python.framework/Versions/3.10/lib/python3.10/runpy.py:252\u001b[0m, in \u001b[0;36m_get_code_from_file\u001b[0;34m(run_name, fname)\u001b[0m\n\u001b[1;32m    250\u001b[0m \u001b[39mfrom\u001b[39;00m \u001b[39mpkgutil\u001b[39;00m \u001b[39mimport\u001b[39;00m read_code\n\u001b[1;32m    251\u001b[0m decoded_path \u001b[39m=\u001b[39m os\u001b[39m.\u001b[39mpath\u001b[39m.\u001b[39mabspath(os\u001b[39m.\u001b[39mfsdecode(fname))\n\u001b[0;32m--> 252\u001b[0m \u001b[39mwith\u001b[39;00m io\u001b[39m.\u001b[39;49mopen_code(decoded_path) \u001b[39mas\u001b[39;00m f:\n\u001b[1;32m    253\u001b[0m     code \u001b[39m=\u001b[39m read_code(f)\n\u001b[1;32m    254\u001b[0m \u001b[39mif\u001b[39;00m code \u001b[39mis\u001b[39;00m \u001b[39mNone\u001b[39;00m:\n\u001b[1;32m    255\u001b[0m     \u001b[39m# That didn't work, so try it as normal source code\u001b[39;00m\n",
      "\u001b[0;31mFileNotFoundError\u001b[0m: [Errno 2] No such file or directory: '/Users/moo/code/ts/trade-executor/strategies/spot-and-short-momentum.py'"
     ]
    }
   ],
   "source": [
    "import datetime\n",
    "import importlib.util\n",
    "import sys\n",
    "from tradingstrategy.client import Client\n",
    "from tradeexecutor.utils.default_strategies import get_default_strategies_path\n",
    "from tradeexecutor.strategy.execution_context import notebook_execution_context\n",
    "\n",
    "\n",
    "from tradeexecutor.utils.default_strategies import get_default_strategies_path\n",
    "from tradeexecutor.strategy.strategy_module import read_strategy_module\n",
    "\n",
    "strategies_folder = get_default_strategies_path()\n",
    "strategy_path = strategies_folder / \"spot-and-short-momentum.py\"\n",
    "\n",
    "strategy_mod = read_strategy_module(strategy_path)\n",
    "\n",
    "print(f\"Backtesting for strategy {strategy_path}, engine version {strategy_mod.trading_strategy_engine_version}\")\n",
    "\n",
    "client = Client.create_jupyter_client()\n",
    "\n",
    "# contains start_at, end_at backtesting range\n",
    "universe_options = strategy_mod.get_universe_options()\n",
    "\n",
    "strategy_universe = strategy_mod.create_trading_universe(\n",
    "    datetime.datetime.utcnow(),\n",
    "    client,\n",
    "    notebook_execution_context,\n",
    "    universe_options,\n",
    ")\n",
    "\n",
    "data_universe = strategy_universe.data_universe"
   ]
  },
  {
   "cell_type": "markdown",
   "metadata": {},
   "source": [
    "## Explore momentum by weekday\n",
    "\n"
   ]
  },
  {
   "cell_type": "code",
   "execution_count": null,
   "metadata": {},
   "outputs": [],
   "source": [
    "from collections import defaultdict\n",
    "\n",
    "\n",
    "def calculate_momentum_by_weekday(df, momentum_period, weekday):\n",
    "    # Monday = 0 and Sunday = 6\n",
    "    for date in df.index.weekday==weekday:\n",
    "        print(date)\n",
    "    # chosen_day_df = df[]\n",
    "    \n",
    " "
   ]
  },
  {
   "cell_type": "code",
   "execution_count": null,
   "metadata": {},
   "outputs": [],
   "source": [
    "# Do ETH first\n",
    "from tradingstrategy.chain import ChainId\n",
    "\n",
    "pair = data_universe.pairs.get_pair_by_human_description((ChainId.polygon, \"uniswap-v3\", \"WETH\", \"USDC\"))\n",
    "df = data_universe.candles.get_candles_by_pair(pair)\n",
    "momentums = {}\n",
    "\n",
    "for day in range(0, 7):\n",
    "    print(\"Creating for {day}\")\n",
    "    momentums[day] = calculate_momentum_by_weekday(df, 7, day)\n",
    "\n"
   ]
  },
  {
   "cell_type": "code",
   "execution_count": null,
   "metadata": {},
   "outputs": [],
   "source": [
    "# weekday -> period -> pair id\n",
    "\n",
    "# periods = [6, 7, 8]\n",
    "# pair_dfs = defaultdict(lambda: defaultdict(int))\n",
    "\n",
    "# data_df = {}\n",
    "# for pair in data_universe.pairs.get_all_pair_ids():\n",
    "#     data_df[pair] = data_universe.candles.get_candles_by_pair(pair)\n",
    "\n",
    "# for pair in data_universe.pairs.get_all_pair_ids():\n",
    "#     data = data_df[pair]\n",
    "#     for day in range(0, 7):\n",
    "#         for period in periods:\n",
    "#             pair_dfs[day][period][pair] = calculate_momentum_by_weekday(period, day)\n"
   ]
  }
 ],
 "metadata": {
  "kernelspec": {
   "display_name": "trade-executor-8Oz1GdY1-py3.10",
   "language": "python",
   "name": "python3"
  },
  "language_info": {
   "codemirror_mode": {
    "name": "ipython",
    "version": 3
   },
   "file_extension": ".py",
   "mimetype": "text/x-python",
   "name": "python",
   "nbconvert_exporter": "python",
   "pygments_lexer": "ipython3",
   "version": "3.10.13"
  }
 },
 "nbformat": 4,
 "nbformat_minor": 2
}
