{
 "cells": [
  {
   "cell_type": "markdown",
   "source": [
    "# Analyse a state file\n",
    "\n",
    "For debugging state management issues of trade-executors.\n",
    "\n",
    "- Download a state file from the remote server\n",
    "- Open it with notebook, or clone of the notebook, for inspection"
   ],
   "metadata": {
    "collapsed": false
   }
  },
  {
   "cell_type": "code",
   "execution_count": 9,
   "outputs": [
    {
     "name": "stderr",
     "output_type": "stream",
     "text": [
      "/Users/moo/Library/Caches/pypoetry/virtualenvs/trade-executor-8Oz1GdY1-py3.10/lib/python3.10/site-packages/dataclasses_json/core.py:184: RuntimeWarning: `NoneType` object value of non-optional type initial_cash detected when decoding TradeSummary.\n",
      "  warnings.warn(\n",
      "/Users/moo/Library/Caches/pypoetry/virtualenvs/trade-executor-8Oz1GdY1-py3.10/lib/python3.10/site-packages/dataclasses_json/core.py:184: RuntimeWarning: `NoneType` object value of non-optional type duration detected when decoding TradeSummary.\n",
      "  warnings.warn(\n",
      "/Users/moo/Library/Caches/pypoetry/virtualenvs/trade-executor-8Oz1GdY1-py3.10/lib/python3.10/site-packages/dataclasses_json/core.py:184: RuntimeWarning: `NoneType` object value of non-optional type average_winning_trade_profit_pc detected when decoding TradeSummary.\n",
      "  warnings.warn(\n",
      "/Users/moo/Library/Caches/pypoetry/virtualenvs/trade-executor-8Oz1GdY1-py3.10/lib/python3.10/site-packages/dataclasses_json/core.py:184: RuntimeWarning: `NoneType` object value of non-optional type average_losing_trade_loss_pc detected when decoding TradeSummary.\n",
      "  warnings.warn(\n"
     ]
    }
   ],
   "source": [
    "from pathlib import Path\n",
    "from tradeexecutor.state.state import State\n",
    "\n",
    "state = State.read_json_file(Path.home() / \"code\" / \"ts\" / \"enzyme-polygon-matic-usdc.json\")\n",
    "\n"
   ],
   "metadata": {
    "collapsed": false,
    "ExecuteTime": {
     "end_time": "2023-07-04T08:54:14.635467Z",
     "start_time": "2023-07-04T08:54:14.560157Z"
    }
   }
  },
  {
   "cell_type": "markdown",
   "source": [
    "## Open positions\n"
   ],
   "metadata": {
    "collapsed": false
   }
  },
  {
   "cell_type": "code",
   "execution_count": 10,
   "outputs": [
    {
     "data": {
      "text/plain": "   Id  Trades           Opened at         First trade          Last trade\n4   4       1 2023-07-02 23:00:00 2023-07-02 23:00:15 2023-07-02 23:00:15\n2   2       3 2023-06-29 12:00:00 2023-06-29 12:00:16 2023-07-03 07:45:56",
      "text/html": "<div>\n<style scoped>\n    .dataframe tbody tr th:only-of-type {\n        vertical-align: middle;\n    }\n\n    .dataframe tbody tr th {\n        vertical-align: top;\n    }\n\n    .dataframe thead th {\n        text-align: right;\n    }\n</style>\n<table border=\"1\" class=\"dataframe\">\n  <thead>\n    <tr style=\"text-align: right;\">\n      <th></th>\n      <th>Id</th>\n      <th>Trades</th>\n      <th>Opened at</th>\n      <th>First trade</th>\n      <th>Last trade</th>\n    </tr>\n  </thead>\n  <tbody>\n    <tr>\n      <th>4</th>\n      <td>4</td>\n      <td>1</td>\n      <td>2023-07-02 23:00:00</td>\n      <td>2023-07-02 23:00:15</td>\n      <td>2023-07-02 23:00:15</td>\n    </tr>\n    <tr>\n      <th>2</th>\n      <td>2</td>\n      <td>3</td>\n      <td>2023-06-29 12:00:00</td>\n      <td>2023-06-29 12:00:16</td>\n      <td>2023-07-03 07:45:56</td>\n    </tr>\n  </tbody>\n</table>\n</div>"
     },
     "execution_count": 10,
     "metadata": {},
     "output_type": "execute_result"
    }
   ],
   "source": [
    "from tradeexecutor.analysis.position import display_positions\n",
    "\n",
    "display_positions(state.portfolio.open_positions.values())"
   ],
   "metadata": {
    "collapsed": false,
    "ExecuteTime": {
     "end_time": "2023-07-04T08:54:14.640135Z",
     "start_time": "2023-07-04T08:54:14.637842Z"
    }
   }
  },
  {
   "cell_type": "markdown",
   "source": [
    "## Frozen positions"
   ],
   "metadata": {
    "collapsed": false
   }
  },
  {
   "cell_type": "code",
   "execution_count": 11,
   "outputs": [
    {
     "data": {
      "text/plain": "Empty DataFrame\nColumns: []\nIndex: []",
      "text/html": "<div>\n<style scoped>\n    .dataframe tbody tr th:only-of-type {\n        vertical-align: middle;\n    }\n\n    .dataframe tbody tr th {\n        vertical-align: top;\n    }\n\n    .dataframe thead th {\n        text-align: right;\n    }\n</style>\n<table border=\"1\" class=\"dataframe\">\n  <thead>\n    <tr style=\"text-align: right;\">\n      <th></th>\n    </tr>\n  </thead>\n  <tbody>\n  </tbody>\n</table>\n</div>"
     },
     "execution_count": 11,
     "metadata": {},
     "output_type": "execute_result"
    }
   ],
   "source": [
    "display_positions(state.portfolio.frozen_positions.values())"
   ],
   "metadata": {
    "collapsed": false,
    "ExecuteTime": {
     "end_time": "2023-07-04T08:54:14.644737Z",
     "start_time": "2023-07-04T08:54:14.641290Z"
    }
   }
  },
  {
   "cell_type": "markdown",
   "source": [
    "## Closed positions"
   ],
   "metadata": {
    "collapsed": false
   }
  },
  {
   "cell_type": "code",
   "execution_count": 12,
   "outputs": [
    {
     "data": {
      "text/plain": "   Id  Trades           Opened at         First trade          Last trade\n1   1       2 2023-06-23 16:00:00 2023-06-23 16:00:16 2023-06-23 22:00:15\n3   3       2 2023-06-30 04:00:00 2023-07-03 07:45:56 2023-07-03 07:45:56",
      "text/html": "<div>\n<style scoped>\n    .dataframe tbody tr th:only-of-type {\n        vertical-align: middle;\n    }\n\n    .dataframe tbody tr th {\n        vertical-align: top;\n    }\n\n    .dataframe thead th {\n        text-align: right;\n    }\n</style>\n<table border=\"1\" class=\"dataframe\">\n  <thead>\n    <tr style=\"text-align: right;\">\n      <th></th>\n      <th>Id</th>\n      <th>Trades</th>\n      <th>Opened at</th>\n      <th>First trade</th>\n      <th>Last trade</th>\n    </tr>\n  </thead>\n  <tbody>\n    <tr>\n      <th>1</th>\n      <td>1</td>\n      <td>2</td>\n      <td>2023-06-23 16:00:00</td>\n      <td>2023-06-23 16:00:16</td>\n      <td>2023-06-23 22:00:15</td>\n    </tr>\n    <tr>\n      <th>3</th>\n      <td>3</td>\n      <td>2</td>\n      <td>2023-06-30 04:00:00</td>\n      <td>2023-07-03 07:45:56</td>\n      <td>2023-07-03 07:45:56</td>\n    </tr>\n  </tbody>\n</table>\n</div>"
     },
     "execution_count": 12,
     "metadata": {},
     "output_type": "execute_result"
    }
   ],
   "source": [
    "display_positions(state.portfolio.closed_positions.values())"
   ],
   "metadata": {
    "collapsed": false,
    "ExecuteTime": {
     "end_time": "2023-07-04T08:54:14.649332Z",
     "start_time": "2023-07-04T08:54:14.647033Z"
    }
   }
  }
 ],
 "metadata": {
  "kernelspec": {
   "display_name": "Python 3",
   "language": "python",
   "name": "python3"
  },
  "language_info": {
   "codemirror_mode": {
    "name": "ipython",
    "version": 2
   },
   "file_extension": ".py",
   "mimetype": "text/x-python",
   "name": "python",
   "nbconvert_exporter": "python",
   "pygments_lexer": "ipython2",
   "version": "2.7.6"
  }
 },
 "nbformat": 4,
 "nbformat_minor": 0
}
