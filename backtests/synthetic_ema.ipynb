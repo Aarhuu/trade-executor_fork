{
 "cells": [
  {
   "cell_type": "markdown",
   "metadata": {
    "collapsed": true,
    "pycharm": {
     "name": "#%% md\n"
    }
   },
   "source": [
    "# Example EMA backtest using synthetic data\n",
    "\n",
    "* Runs everything within a single notebook\n",
    "    - Easy to read\n",
    "    - Easy to test different functionalities of `tradeexecutor` library\n",
    "* Uses synthetic random price dataa\n",
    "    - No downloads needed\n",
    "    - No API keys needed\n",
    "* Long only\n",
    "* No stop loss"
   ]
  },
  {
   "cell_type": "markdown",
   "source": [
    "## Set up\n",
    "\n",
    "Set up strategy paramets that will decide its behavior"
   ],
   "metadata": {
    "collapsed": false,
    "pycharm": {
     "name": "#%% md\n"
    }
   }
  },
  {
   "cell_type": "code",
   "execution_count": 1,
   "outputs": [],
   "source": [
    "import datetime\n",
    "import logging\n",
    "\n",
    "import pandas as pd\n",
    "\n",
    "from tradingstrategy.chain import ChainId\n",
    "from tradingstrategy.timebucket import TimeBucket\n",
    "from tradeexecutor.strategy.cycle import CycleDuration\n",
    "from tradeexecutor.strategy.strategy_module import StrategyType, TradeRouting, ReserveCurrency\n",
    "\n",
    "trading_strategy_cycle = CycleDuration.cycle_24h\n",
    "\n",
    "# Strategy keeps its cash in BUSD\n",
    "reserve_currency = ReserveCurrency.busd\n",
    "\n",
    "# How much of the cash to put on a single trade\n",
    "position_size = 0.10\n",
    "\n",
    "#\n",
    "# Strategy thinking specific parameter\n",
    "#\n",
    "\n",
    "slow_ema_candle_count = 20\n",
    "\n",
    "fast_ema_candle_count = 5\n",
    "\n",
    "# How many candles to extract from the dataset once\n",
    "batch_size = 90\n",
    "\n",
    "# Range of backtesting and synthetic data generation.\n",
    "# Because we are using synthetic data actual dates do not really matter -\n",
    "# only the duration\n",
    "\n",
    "start_at = datetime.datetime(2021, 6, 1)\n",
    "end_at = datetime.datetime(2022, 1, 1)\n"
   ],
   "metadata": {
    "collapsed": false,
    "pycharm": {
     "name": "#%%\n"
    }
   }
  },
  {
   "cell_type": "markdown",
   "source": [
    "## Strategy function\n",
    "\n",
    "This function decide what trades to take."
   ],
   "metadata": {
    "collapsed": false,
    "pycharm": {
     "name": "#%% md\n"
    }
   }
  },
  {
   "cell_type": "code",
   "execution_count": 2,
   "outputs": [],
   "source": [
    "\n",
    "from tradeexecutor.state.visualisation import PlotKind\n",
    "from tradeexecutor.state.trade import TradeExecution\n",
    "from typing import List, Dict\n",
    "from tradeexecutor.strategy.pricing_model import PricingModel\n",
    "from tradeexecutor.strategy.pandas_trader.position_manager import PositionManager\n",
    "from tradeexecutor.state.state import State\n",
    "from tradingstrategy.universe import Universe\n",
    "\n",
    "\n",
    "def decide_trades(\n",
    "        timestamp: pd.Timestamp,\n",
    "        universe: Universe,\n",
    "        state: State,\n",
    "        pricing_model: PricingModel,\n",
    "        cycle_debug_data: Dict) -> List[TradeExecution]:\n",
    "    \"\"\"The brain function to decide the trades on each trading strategy cycle.\"\"\"\n",
    "\n",
    "    # The pair we are trading\n",
    "    pair = universe.pairs.get_single()\n",
    "\n",
    "    # How much cash we have in the hand\n",
    "    cash = state.portfolio.get_current_cash()\n",
    "\n",
    "    # Get OHLCV candles for our trading pair as Pandas Dataframe.\n",
    "    # We could have candles for multiple trading pairs in a different strategy,\n",
    "    # but this strategy only operates on single pair candle.\n",
    "    # We also limit our sample size to N latest candles to speed up calculations.\n",
    "    candles: pd.DataFrame = universe.candles.get_single_pair_data(timestamp)\n",
    "\n",
    "    # We have data for open, high, close, etc.\n",
    "    # We only operate using candle close values in this strategy.\n",
    "    close = candles[\"close\"]\n",
    "\n",
    "    # Calculate exponential moving averages based on slow and fast sample numbers.\n",
    "    # More information about calculating expotential averages in Pandas:\n",
    "    #\n",
    "    # - https://www.statology.org/exponential-moving-average-pandas/\n",
    "    #\n",
    "    # - https://pandas.pydata.org/pandas-docs/stable/reference/api/pandas.DataFrame.ewm.html\n",
    "    #\n",
    "    slow_ema_window = close.ewm(min_periods=slow_ema_candle_count).mean()\n",
    "    fast_ema_window = close.ewm(min_periods=fast_ema_candle_count).mean()\n",
    "\n",
    "    if len(slow_ema_window) == 0 or len(fast_ema_window) == 0:\n",
    "        # We are backtesting early, so values not available yet\n",
    "        return []\n",
    "\n",
    "    slow_ema = slow_ema_window.iloc[-1]\n",
    "    fast_ema = fast_ema_window.iloc[-1]\n",
    "    # print(\"Slow EMA is\", slow_ema)\n",
    "\n",
    "    # Get the last close price from close time series\n",
    "    # that's Pandas's Series object\n",
    "    # https://pandas.pydata.org/docs/reference/api/pandas.Series.iat.html\n",
    "    current_price = close.iloc[-1]\n",
    "\n",
    "    # List of any trades we decide on this cycle.\n",
    "    # Because the strategy is simple, there can be\n",
    "    # only zero (do nothing) or 1 (open or close) trades\n",
    "    # decides\n",
    "    trades = []\n",
    "\n",
    "    # Create a position manager helper class that allows us easily to create\n",
    "    # opening/closing trades for different positions\n",
    "    position_manager = PositionManager(timestamp, universe, state, pricing_model)\n",
    "\n",
    "    if current_price >= slow_ema:\n",
    "        # Entry condition:\n",
    "        # Close price is higher than the slow EMA\n",
    "        if not position_manager.is_any_open():\n",
    "            buy_amount = cash * position_size\n",
    "            trades += position_manager.open_1x_long(pair, buy_amount)\n",
    "    elif fast_ema >= slow_ema:\n",
    "        # Exit condition:\n",
    "        # Fast EMA crosses slow EMA\n",
    "        if position_manager.is_any_open():\n",
    "            trades += position_manager.close_all()\n",
    "\n",
    "    # Visualize strategy\n",
    "    # See available Plotly colours here\n",
    "    # https://community.plotly.com/t/plotly-colours-list/11730/3?u=miohtama\n",
    "    visualisation = state.visualisation\n",
    "    visualisation.plot_indicator(timestamp, \"Slow EMA\", PlotKind.technical_indicator_on_price, slow_ema, colour=\"darkblue\")\n",
    "    visualisation.plot_indicator(timestamp, \"Fast EMA\", PlotKind.technical_indicator_on_price, fast_ema, colour=\"mediumpurple\")\n",
    "\n",
    "    return trades"
   ],
   "metadata": {
    "collapsed": false,
    "pycharm": {
     "name": "#%%\n"
    }
   }
  },
  {
   "cell_type": "markdown",
   "source": [
    "# Synthetic trading universe\n",
    "\n",
    "We create a single Uniswap v2 like exchange with a single ETH-USDC trading pair.\n",
    "This pair has generated noise like OHLCV trading data."
   ],
   "metadata": {
    "collapsed": false,
    "pycharm": {
     "name": "#%% md\n"
    }
   }
  },
  {
   "cell_type": "code",
   "execution_count": 3,
   "outputs": [],
   "source": [
    "\n",
    "import random\n",
    "from tradeexecutor.state.identifier import AssetIdentifier, TradingPairIdentifier\n",
    "from tradingstrategy.candle import GroupedCandleUniverse\n",
    "from tradeexecutor.testing.synthetic_ethereum_data import generate_random_ethereum_address\n",
    "from tradeexecutor.testing.synthetic_exchange_data import generate_exchange\n",
    "from tradeexecutor.testing.synthetic_price_data import generate_ohlcv_candles\n",
    "from tradeexecutor.strategy.trading_strategy_universe import TradingStrategyUniverse, \\\n",
    "    create_pair_universe_from_code\n",
    "\n",
    "def create_trading_universe() -> TradingStrategyUniverse:\n",
    "\n",
    "    # Set up fake assets\n",
    "    mock_chain_id = ChainId.ethereum\n",
    "    mock_exchange = generate_exchange(\n",
    "        exchange_id=random.randint(1, 1000),\n",
    "        chain_id=mock_chain_id,\n",
    "        address=generate_random_ethereum_address())\n",
    "    usdc = AssetIdentifier(ChainId.ethereum.value, generate_random_ethereum_address(), \"USDC\", 6, 1)\n",
    "    weth = AssetIdentifier(ChainId.ethereum.value, generate_random_ethereum_address(), \"WETH\", 18, 2)\n",
    "    weth_usdc = TradingPairIdentifier(\n",
    "        weth,\n",
    "        usdc,\n",
    "        generate_random_ethereum_address(),\n",
    "        mock_exchange.address,\n",
    "        internal_id=random.randint(1, 1000),\n",
    "        internal_exchange_id=mock_exchange.exchange_id)\n",
    "\n",
    "    time_bucket = TimeBucket.d1\n",
    "\n",
    "    pair_universe = create_pair_universe_from_code(mock_chain_id, [weth_usdc])\n",
    "\n",
    "    candles = generate_ohlcv_candles(time_bucket, start_at, end_at, pair_id=weth_usdc.internal_id)\n",
    "    candle_universe = GroupedCandleUniverse.create_from_single_pair_dataframe(candles)\n",
    "\n",
    "    universe = Universe(\n",
    "        time_bucket=time_bucket,\n",
    "        chains={mock_chain_id},\n",
    "        exchanges={mock_exchange},\n",
    "        pairs=pair_universe,\n",
    "        candles=candle_universe,\n",
    "        liquidity=None\n",
    "    )\n",
    "\n",
    "    return TradingStrategyUniverse(universe=universe, reserve_assets=[usdc])\n",
    "\n"
   ],
   "metadata": {
    "collapsed": false,
    "pycharm": {
     "name": "#%%\n"
    }
   }
  },
  {
   "cell_type": "markdown",
   "source": [
    "## Run backtest\n",
    "\n",
    "Run backtest using giving trading universe and strategy function."
   ],
   "metadata": {
    "collapsed": false,
    "pycharm": {
     "name": "#%% md\n"
    }
   }
  },
  {
   "cell_type": "code",
   "execution_count": 4,
   "outputs": [
    {
     "name": "stderr",
     "output_type": "stream",
     "text": [
      "2022-06-27 01:53:52 tradeexecutor.backtest.backtest_execution          INFO     Initialising backtest execution model\n",
      "2022-06-27 01:53:52 tradeexecutor.cli.loop                             TRADE    Preflight checks ok\n",
      "2022-06-27 01:53:52 tradeexecutor.cli.loop                             INFO     Strategy is executed in backtesting mode, starting at 2021-06-01 00:00:00\n"
     ]
    },
    {
     "name": "stdout",
     "output_type": "stream",
     "text": [
      "Our universe has synthetic candle data for the period 2021-06-01 00:00:00 - 2021-12-31 00:00:00\n"
     ]
    },
    {
     "data": {
      "text/plain": "  0%|          | 0/18489600 [00:00<?, ?it/s]",
      "application/vnd.jupyter.widget-view+json": {
       "version_major": 2,
       "version_minor": 0,
       "model_id": "5bef3cd69cba432d8476651f54482175"
      }
     },
     "metadata": {},
     "output_type": "display_data"
    },
    {
     "name": "stderr",
     "output_type": "stream",
     "text": [
      "2022-06-27 01:53:52 tradeexecutor.cli.loop                             TRADE    Performing strategy tick #1 for timestamp 2021-06-01 00:00:00, unrounded time is 2021-06-01 00:00:00, live trading is False\n",
      "2022-06-27 01:53:52 tradeexecutor.utils.timer                          INFO     Starting task strategy_tick at 2022-06-26 22:53:52.454954, context is {'clock': datetime.datetime(2021, 6, 1, 0, 0)}\n",
      "2022-06-27 01:53:52 tradeexecutor.utils.timer                          INFO     Starting task sync_portfolio at 2022-06-26 22:53:52.455249, context is {}\n",
      "2022-06-27 01:53:52 tradeexecutor.ethereum.wallet                      INFO     Portfolio reserve created. Asset: <USDC at 0xf73cd96cb3e16e017a223cb81c0d4c19609862a1>\n",
      "2022-06-27 01:53:52 tradeexecutor.utils.timer                          INFO     Ended task sync_portfolio, took 0:00:00.000850\n",
      "2022-06-27 01:53:52 tradeexecutor.utils.timer                          INFO     Starting task revalue_portfolio at 2022-06-26 22:53:52.456437, context is {}\n",
      "2022-06-27 01:53:52 tradeexecutor.strategy.runner                      INFO     After revaluation at 2021-06-01 00:00:00 our equity is 10000.000000\n",
      "2022-06-27 01:53:52 tradeexecutor.utils.timer                          INFO     Ended task revalue_portfolio, took 0:00:00.000552\n",
      "2022-06-27 01:53:52 tradeexecutor.strategy.runner                      TRADE    Portfolio status (before rebalance), tick #1\n",
      "\n",
      "Total equity: $10,000.00, in cash: $10,000.00\n",
      "Life-time positions: 0, trades: 0\n",
      "…\n",
      "Currently open positions:\n",
      "\n",
      "    No positions\n",
      "…\n",
      "Frozen positions ($0.00):\n",
      "\n",
      "    No positions\n",
      "…\n",
      "Reserves:\n",
      "\n",
      "    10,000.00 USDC\n",
      "\n",
      "2022-06-27 01:53:52 tradeexecutor.utils.timer                          INFO     Starting task decide_trades at 2022-06-26 22:53:52.457622, context is {}\n",
      "2022-06-27 01:53:52 tradeexecutor.utils.timer                          INFO     Ended task decide_trades, took 0:00:00.001709\n",
      "2022-06-27 01:53:52 tradeexecutor.utils.timer                          INFO     Ended task strategy_tick, took 0:00:00.004968\n"
     ]
    },
    {
     "ename": "ValueError",
     "evalue": "Must pass one of comass, span, halflife, or alpha",
     "output_type": "error",
     "traceback": [
      "\u001B[0;31m---------------------------------------------------------------------------\u001B[0m",
      "\u001B[0;31mValueError\u001B[0m                                Traceback (most recent call last)",
      "Input \u001B[0;32mIn [4]\u001B[0m, in \u001B[0;36m<cell line: 12>\u001B[0;34m()\u001B[0m\n\u001B[1;32m      8\u001B[0m \u001B[38;5;28mprint\u001B[39m(\u001B[38;5;124mf\u001B[39m\u001B[38;5;124m\"\u001B[39m\u001B[38;5;124mOur universe has synthetic candle data for the period \u001B[39m\u001B[38;5;132;01m{\u001B[39;00mstart_candle\u001B[38;5;132;01m}\u001B[39;00m\u001B[38;5;124m - \u001B[39m\u001B[38;5;132;01m{\u001B[39;00mend_candle\u001B[38;5;132;01m}\u001B[39;00m\u001B[38;5;124m\"\u001B[39m)\n\u001B[1;32m     10\u001B[0m routing_model \u001B[38;5;241m=\u001B[39m generate_simple_routing_model(universe)\n\u001B[0;32m---> 12\u001B[0m state, debug_dump \u001B[38;5;241m=\u001B[39m \u001B[43mrun_backtest_inline\u001B[49m\u001B[43m(\u001B[49m\n\u001B[1;32m     13\u001B[0m \u001B[43m    \u001B[49m\u001B[43mstart_at\u001B[49m\u001B[38;5;241;43m=\u001B[39;49m\u001B[43mstart_at\u001B[49m\u001B[43m,\u001B[49m\n\u001B[1;32m     14\u001B[0m \u001B[43m    \u001B[49m\u001B[43mend_at\u001B[49m\u001B[38;5;241;43m=\u001B[39;49m\u001B[43mend_at\u001B[49m\u001B[43m,\u001B[49m\n\u001B[1;32m     15\u001B[0m \u001B[43m    \u001B[49m\u001B[43mclient\u001B[49m\u001B[38;5;241;43m=\u001B[39;49m\u001B[38;5;28;43;01mNone\u001B[39;49;00m\u001B[43m,\u001B[49m\u001B[43m  \u001B[49m\u001B[38;5;66;43;03m# None of downloads needed, because we are using synthetic data\u001B[39;49;00m\n\u001B[1;32m     16\u001B[0m \u001B[43m    \u001B[49m\u001B[43mcycle_duration\u001B[49m\u001B[38;5;241;43m=\u001B[39;49m\u001B[43mCycleDuration\u001B[49m\u001B[38;5;241;43m.\u001B[39;49m\u001B[43mcycle_24h\u001B[49m\u001B[43m,\u001B[49m\u001B[43m  \u001B[49m\u001B[38;5;66;43;03m# Override to use 24h cycles despite what strategy file says\u001B[39;49;00m\n\u001B[1;32m     17\u001B[0m \u001B[43m    \u001B[49m\u001B[43mdecide_trades\u001B[49m\u001B[38;5;241;43m=\u001B[39;49m\u001B[43mdecide_trades\u001B[49m\u001B[43m,\u001B[49m\n\u001B[1;32m     18\u001B[0m \u001B[43m    \u001B[49m\u001B[43muniverse\u001B[49m\u001B[38;5;241;43m=\u001B[39;49m\u001B[43muniverse\u001B[49m\u001B[43m,\u001B[49m\n\u001B[1;32m     19\u001B[0m \u001B[43m    \u001B[49m\u001B[43minitial_deposit\u001B[49m\u001B[38;5;241;43m=\u001B[39;49m\u001B[38;5;241;43m10_000\u001B[39;49m\u001B[43m,\u001B[49m\n\u001B[1;32m     20\u001B[0m \u001B[43m    \u001B[49m\u001B[43mreserve_currency\u001B[49m\u001B[38;5;241;43m=\u001B[39;49m\u001B[43mReserveCurrency\u001B[49m\u001B[38;5;241;43m.\u001B[39;49m\u001B[43mbusd\u001B[49m\u001B[43m,\u001B[49m\n\u001B[1;32m     21\u001B[0m \u001B[43m    \u001B[49m\u001B[43mtrade_routing\u001B[49m\u001B[38;5;241;43m=\u001B[39;49m\u001B[43mTradeRouting\u001B[49m\u001B[38;5;241;43m.\u001B[39;49m\u001B[43mrouting_model\u001B[49m\u001B[43m,\u001B[49m\n\u001B[1;32m     22\u001B[0m \u001B[43m    \u001B[49m\u001B[43mrouting_model\u001B[49m\u001B[38;5;241;43m=\u001B[39;49m\u001B[43mrouting_model\u001B[49m\u001B[43m,\u001B[49m\n\u001B[1;32m     23\u001B[0m \u001B[43m    \u001B[49m\u001B[43mlog_level\u001B[49m\u001B[38;5;241;43m=\u001B[39;49m\u001B[43mlogging\u001B[49m\u001B[38;5;241;43m.\u001B[39;49m\u001B[43mINFO\u001B[49m\u001B[43m,\u001B[49m\n\u001B[1;32m     24\u001B[0m \u001B[43m)\u001B[49m\n",
      "File \u001B[0;32m~/code/executor/trade-executor/tradeexecutor/backtest/backtest_runner.py:424\u001B[0m, in \u001B[0;36mrun_backtest_inline\u001B[0;34m(start_at, end_at, client, decide_trades, cycle_duration, initial_deposit, reserve_currency, trade_routing, create_trading_universe, universe, routing_model, max_slippage, candle_time_frame, log_level)\u001B[0m\n\u001B[1;32m    403\u001B[0m     pricing_model \u001B[38;5;241m=\u001B[39m \u001B[38;5;28;01mNone\u001B[39;00m\n\u001B[1;32m    405\u001B[0m backtest_setup \u001B[38;5;241m=\u001B[39m BacktestSetup(\n\u001B[1;32m    406\u001B[0m     start_at,\n\u001B[1;32m    407\u001B[0m     end_at,\n\u001B[0;32m   (...)\u001B[0m\n\u001B[1;32m    421\u001B[0m     trading_strategy_engine_version\u001B[38;5;241m=\u001B[39mCURRENT_ENGINE_VERSION,\n\u001B[1;32m    422\u001B[0m )\n\u001B[0;32m--> 424\u001B[0m \u001B[38;5;28;01mreturn\u001B[39;00m \u001B[43mrun_backtest\u001B[49m\u001B[43m(\u001B[49m\u001B[43mbacktest_setup\u001B[49m\u001B[43m,\u001B[49m\u001B[43m \u001B[49m\u001B[43mclient\u001B[49m\u001B[43m)\u001B[49m\n",
      "File \u001B[0;32m~/code/executor/trade-executor/tradeexecutor/backtest/backtest_runner.py:311\u001B[0m, in \u001B[0;36mrun_backtest\u001B[0;34m(setup, client)\u001B[0m\n\u001B[1;32m    287\u001B[0m         \u001B[38;5;28;01mpass\u001B[39;00m\n\u001B[1;32m    289\u001B[0m main_loop \u001B[38;5;241m=\u001B[39m ExecutionLoop(\n\u001B[1;32m    290\u001B[0m     name\u001B[38;5;241m=\u001B[39m\u001B[38;5;124m\"\u001B[39m\u001B[38;5;124mbacktest\u001B[39m\u001B[38;5;124m\"\u001B[39m,\n\u001B[1;32m    291\u001B[0m     command_queue\u001B[38;5;241m=\u001B[39mQueue(),\n\u001B[0;32m   (...)\u001B[0m\n\u001B[1;32m    308\u001B[0m     trade_immediately\u001B[38;5;241m=\u001B[39m\u001B[38;5;28;01mTrue\u001B[39;00m,\n\u001B[1;32m    309\u001B[0m )\n\u001B[0;32m--> 311\u001B[0m debug_dump \u001B[38;5;241m=\u001B[39m \u001B[43mmain_loop\u001B[49m\u001B[38;5;241;43m.\u001B[39;49m\u001B[43mrun\u001B[49m\u001B[43m(\u001B[49m\u001B[43m)\u001B[49m\n\u001B[1;32m    313\u001B[0m \u001B[38;5;28;01mreturn\u001B[39;00m setup\u001B[38;5;241m.\u001B[39mstate, debug_dump\n",
      "File \u001B[0;32m~/code/executor/trade-executor/tradeexecutor/cli/loop.py:384\u001B[0m, in \u001B[0;36mExecutionLoop.run\u001B[0;34m(self)\u001B[0m\n\u001B[1;32m    380\u001B[0m \u001B[38;5;28;01massert\u001B[39;00m \u001B[38;5;28mself\u001B[39m\u001B[38;5;241m.\u001B[39mcycle_duration \u001B[38;5;129;01mis\u001B[39;00m \u001B[38;5;129;01mnot\u001B[39;00m \u001B[38;5;28;01mNone\u001B[39;00m, \u001B[38;5;124m\"\u001B[39m\u001B[38;5;124mDid not get strategy cycle duration from constructor or strategy run description\u001B[39m\u001B[38;5;124m\"\u001B[39m\n\u001B[1;32m    382\u001B[0m \u001B[38;5;28;01mif\u001B[39;00m \u001B[38;5;28mself\u001B[39m\u001B[38;5;241m.\u001B[39mbacktest_start:\n\u001B[1;32m    383\u001B[0m     \u001B[38;5;66;03m# Walk through backtesting range\u001B[39;00m\n\u001B[0;32m--> 384\u001B[0m     \u001B[38;5;28;01mreturn\u001B[39;00m \u001B[38;5;28;43mself\u001B[39;49m\u001B[38;5;241;43m.\u001B[39;49m\u001B[43mrun_backtest\u001B[49m\u001B[43m(\u001B[49m\u001B[43mstate\u001B[49m\u001B[43m)\u001B[49m\n\u001B[1;32m    385\u001B[0m \u001B[38;5;28;01melse\u001B[39;00m:\n\u001B[1;32m    386\u001B[0m     \u001B[38;5;28;01mreturn\u001B[39;00m \u001B[38;5;28mself\u001B[39m\u001B[38;5;241m.\u001B[39mrun_live(state)\n",
      "File \u001B[0;32m~/code/executor/trade-executor/tradeexecutor/cli/loop.py:241\u001B[0m, in \u001B[0;36mExecutionLoop.run_backtest\u001B[0;34m(self, state)\u001B[0m\n\u001B[1;32m    238\u001B[0m progress_bar\u001B[38;5;241m.\u001B[39mset_description(\u001B[38;5;124mf\u001B[39m\u001B[38;5;124m\"\u001B[39m\u001B[38;5;124mBacktesting \u001B[39m\u001B[38;5;132;01m{\u001B[39;00m\u001B[38;5;28mself\u001B[39m\u001B[38;5;241m.\u001B[39mname\u001B[38;5;132;01m}\u001B[39;00m\u001B[38;5;124m, \u001B[39m\u001B[38;5;132;01m{\u001B[39;00mfriendly_start\u001B[38;5;132;01m}\u001B[39;00m\u001B[38;5;124m-\u001B[39m\u001B[38;5;132;01m{\u001B[39;00mfriendly_end\u001B[38;5;132;01m}\u001B[39;00m\u001B[38;5;124m at \u001B[39m\u001B[38;5;132;01m{\u001B[39;00mfriedly_ts\u001B[38;5;132;01m}\u001B[39;00m\u001B[38;5;124m, total \u001B[39m\u001B[38;5;132;01m{\u001B[39;00mtrade_count\u001B[38;5;132;01m:\u001B[39;00m\u001B[38;5;124m,\u001B[39m\u001B[38;5;132;01m}\u001B[39;00m\u001B[38;5;124m trades\u001B[39m\u001B[38;5;124m\"\u001B[39m)\n\u001B[1;32m    240\u001B[0m \u001B[38;5;66;03m# Decide trades and everything for this cycle\u001B[39;00m\n\u001B[0;32m--> 241\u001B[0m universe \u001B[38;5;241m=\u001B[39m \u001B[38;5;28;43mself\u001B[39;49m\u001B[38;5;241;43m.\u001B[39;49m\u001B[43mtick\u001B[49m\u001B[43m(\u001B[49m\u001B[43mts\u001B[49m\u001B[43m,\u001B[49m\u001B[43m \u001B[49m\u001B[43mstate\u001B[49m\u001B[43m,\u001B[49m\u001B[43m \u001B[49m\u001B[43mcycle\u001B[49m\u001B[43m,\u001B[49m\u001B[43m \u001B[49m\u001B[43mlive\u001B[49m\u001B[38;5;241;43m=\u001B[39;49m\u001B[38;5;28;43;01mFalse\u001B[39;49;00m\u001B[43m,\u001B[49m\u001B[43m \u001B[49m\u001B[43mbacktesting_universe\u001B[49m\u001B[38;5;241;43m=\u001B[39;49m\u001B[43muniverse\u001B[49m\u001B[43m)\u001B[49m\n\u001B[1;32m    243\u001B[0m \u001B[38;5;66;03m# Revalue our portfolio\u001B[39;00m\n\u001B[1;32m    244\u001B[0m \u001B[38;5;28mself\u001B[39m\u001B[38;5;241m.\u001B[39mupdate_position_valuations(ts, state, universe)\n",
      "File \u001B[0;32m~/code/executor/trade-executor/tradeexecutor/cli/loop.py:163\u001B[0m, in \u001B[0;36mExecutionLoop.tick\u001B[0;34m(self, unrounded_timestamp, state, cycle, live, backtesting_universe)\u001B[0m\n\u001B[1;32m    160\u001B[0m     \u001B[38;5;28mself\u001B[39m\u001B[38;5;241m.\u001B[39mbacktest_setup(state, universe, \u001B[38;5;28mself\u001B[39m\u001B[38;5;241m.\u001B[39msync_method)\n\u001B[1;32m    162\u001B[0m \u001B[38;5;66;03m# Execute the strategy tick and trades\u001B[39;00m\n\u001B[0;32m--> 163\u001B[0m \u001B[38;5;28;43mself\u001B[39;49m\u001B[38;5;241;43m.\u001B[39;49m\u001B[43mrunner\u001B[49m\u001B[38;5;241;43m.\u001B[39;49m\u001B[43mtick\u001B[49m\u001B[43m(\u001B[49m\u001B[43mts\u001B[49m\u001B[43m,\u001B[49m\u001B[43m \u001B[49m\u001B[43muniverse\u001B[49m\u001B[43m,\u001B[49m\u001B[43m \u001B[49m\u001B[43mstate\u001B[49m\u001B[43m,\u001B[49m\u001B[43m \u001B[49m\u001B[43mdebug_details\u001B[49m\u001B[43m)\u001B[49m\n\u001B[1;32m    165\u001B[0m \u001B[38;5;66;03m# Check that state is good before writing it to the disk\u001B[39;00m\n\u001B[1;32m    166\u001B[0m state\u001B[38;5;241m.\u001B[39mperform_integrity_check()\n",
      "File \u001B[0;32m~/code/executor/trade-executor/tradeexecutor/strategy/runner.py:252\u001B[0m, in \u001B[0;36mStrategyRunner.tick\u001B[0;34m(self, clock, universe, state, debug_details)\u001B[0m\n\u001B[1;32m    250\u001B[0m \u001B[38;5;66;03m# Run the strategy cycle\u001B[39;00m\n\u001B[1;32m    251\u001B[0m \u001B[38;5;28;01mwith\u001B[39;00m \u001B[38;5;28mself\u001B[39m\u001B[38;5;241m.\u001B[39mtimed_task_context_manager(\u001B[38;5;124m\"\u001B[39m\u001B[38;5;124mdecide_trades\u001B[39m\u001B[38;5;124m\"\u001B[39m):\n\u001B[0;32m--> 252\u001B[0m     rebalance_trades \u001B[38;5;241m=\u001B[39m \u001B[38;5;28;43mself\u001B[39;49m\u001B[38;5;241;43m.\u001B[39;49m\u001B[43mon_clock\u001B[49m\u001B[43m(\u001B[49m\u001B[43mclock\u001B[49m\u001B[43m,\u001B[49m\u001B[43m \u001B[49m\u001B[43muniverse\u001B[49m\u001B[43m,\u001B[49m\u001B[43m \u001B[49m\u001B[43mpricing_model\u001B[49m\u001B[43m,\u001B[49m\u001B[43m \u001B[49m\u001B[43mstate\u001B[49m\u001B[43m,\u001B[49m\u001B[43m \u001B[49m\u001B[43mdebug_details\u001B[49m\u001B[43m)\u001B[49m\n\u001B[1;32m    253\u001B[0m     \u001B[38;5;28;01massert\u001B[39;00m \u001B[38;5;28mtype\u001B[39m(rebalance_trades) \u001B[38;5;241m==\u001B[39m \u001B[38;5;28mlist\u001B[39m\n\u001B[1;32m    254\u001B[0m     debug_details[\u001B[38;5;124m\"\u001B[39m\u001B[38;5;124mrebalance_trades\u001B[39m\u001B[38;5;124m\"\u001B[39m] \u001B[38;5;241m=\u001B[39m rebalance_trades\n",
      "File \u001B[0;32m~/code/executor/trade-executor/tradeexecutor/strategy/pandas_trader/runner.py:50\u001B[0m, in \u001B[0;36mPandasTraderRunner.on_clock\u001B[0;34m(self, clock, executor_universe, pricing_model, state, debug_details)\u001B[0m\n\u001B[1;32m     46\u001B[0m \u001B[38;5;28;01massert\u001B[39;00m \u001B[38;5;28mlen\u001B[39m(executor_universe\u001B[38;5;241m.\u001B[39mreserve_assets) \u001B[38;5;241m==\u001B[39m \u001B[38;5;241m1\u001B[39m\n\u001B[1;32m     48\u001B[0m \u001B[38;5;66;03m# Call the strategy script decide_trades()\u001B[39;00m\n\u001B[1;32m     49\u001B[0m \u001B[38;5;66;03m# callback\u001B[39;00m\n\u001B[0;32m---> 50\u001B[0m \u001B[38;5;28;01mreturn\u001B[39;00m \u001B[38;5;28;43mself\u001B[39;49m\u001B[38;5;241;43m.\u001B[39;49m\u001B[43mdecide_trades\u001B[49m\u001B[43m(\u001B[49m\n\u001B[1;32m     51\u001B[0m \u001B[43m    \u001B[49m\u001B[43mtimestamp\u001B[49m\u001B[38;5;241;43m=\u001B[39;49m\u001B[43mpd_timestamp\u001B[49m\u001B[43m,\u001B[49m\n\u001B[1;32m     52\u001B[0m \u001B[43m    \u001B[49m\u001B[43muniverse\u001B[49m\u001B[38;5;241;43m=\u001B[39;49m\u001B[43muniverse\u001B[49m\u001B[43m,\u001B[49m\n\u001B[1;32m     53\u001B[0m \u001B[43m    \u001B[49m\u001B[43mstate\u001B[49m\u001B[38;5;241;43m=\u001B[39;49m\u001B[43mstate\u001B[49m\u001B[43m,\u001B[49m\n\u001B[1;32m     54\u001B[0m \u001B[43m    \u001B[49m\u001B[43mpricing_model\u001B[49m\u001B[38;5;241;43m=\u001B[39;49m\u001B[43mpricing_model\u001B[49m\u001B[43m,\u001B[49m\n\u001B[1;32m     55\u001B[0m \u001B[43m    \u001B[49m\u001B[43mcycle_debug_data\u001B[49m\u001B[38;5;241;43m=\u001B[39;49m\u001B[43mdebug_details\u001B[49m\u001B[43m,\u001B[49m\n\u001B[1;32m     56\u001B[0m \u001B[43m\u001B[49m\u001B[43m)\u001B[49m\n",
      "Input \u001B[0;32mIn [2]\u001B[0m, in \u001B[0;36mdecide_trades\u001B[0;34m(timestamp, universe, state, pricing_model, cycle_debug_data)\u001B[0m\n\u001B[1;32m     32\u001B[0m close \u001B[38;5;241m=\u001B[39m candles[\u001B[38;5;124m\"\u001B[39m\u001B[38;5;124mclose\u001B[39m\u001B[38;5;124m\"\u001B[39m]\n\u001B[1;32m     34\u001B[0m \u001B[38;5;66;03m# Calculate exponential moving averages based on slow and fast sample numbers.\u001B[39;00m\n\u001B[1;32m     35\u001B[0m \u001B[38;5;66;03m# More information about calculating expotential averages in Pandas:\u001B[39;00m\n\u001B[1;32m     36\u001B[0m \u001B[38;5;66;03m#\u001B[39;00m\n\u001B[0;32m   (...)\u001B[0m\n\u001B[1;32m     39\u001B[0m \u001B[38;5;66;03m# - https://pandas.pydata.org/pandas-docs/stable/reference/api/pandas.DataFrame.ewm.html\u001B[39;00m\n\u001B[1;32m     40\u001B[0m \u001B[38;5;66;03m#\u001B[39;00m\n\u001B[0;32m---> 41\u001B[0m slow_ema_window \u001B[38;5;241m=\u001B[39m \u001B[43mclose\u001B[49m\u001B[38;5;241;43m.\u001B[39;49m\u001B[43mewm\u001B[49m\u001B[43m(\u001B[49m\u001B[43mmin_periods\u001B[49m\u001B[38;5;241;43m=\u001B[39;49m\u001B[43mslow_ema_candle_count\u001B[49m\u001B[43m)\u001B[49m\u001B[38;5;241m.\u001B[39mmean()\n\u001B[1;32m     42\u001B[0m fast_ema_window \u001B[38;5;241m=\u001B[39m close\u001B[38;5;241m.\u001B[39mewm(min_periods\u001B[38;5;241m=\u001B[39mfast_ema_candle_count)\u001B[38;5;241m.\u001B[39mmean()\n\u001B[1;32m     44\u001B[0m \u001B[38;5;28;01mif\u001B[39;00m \u001B[38;5;28mlen\u001B[39m(slow_ema_window) \u001B[38;5;241m==\u001B[39m \u001B[38;5;241m0\u001B[39m \u001B[38;5;129;01mor\u001B[39;00m \u001B[38;5;28mlen\u001B[39m(fast_ema_window) \u001B[38;5;241m==\u001B[39m \u001B[38;5;241m0\u001B[39m:\n\u001B[1;32m     45\u001B[0m     \u001B[38;5;66;03m# We are backtesting early, so values not available yet\u001B[39;00m\n",
      "File \u001B[0;32m~/Library/Caches/pypoetry/virtualenvs/trade-executor-0IMGzMxl-py3.9/lib/python3.9/site-packages/pandas/core/generic.py:11320\u001B[0m, in \u001B[0;36mNDFrame.ewm\u001B[0;34m(self, com, span, halflife, alpha, min_periods, adjust, ignore_na, axis, times, method)\u001B[0m\n\u001B[1;32m  11304\u001B[0m \u001B[38;5;129m@final\u001B[39m\n\u001B[1;32m  11305\u001B[0m \u001B[38;5;129m@doc\u001B[39m(ExponentialMovingWindow)\n\u001B[1;32m  11306\u001B[0m \u001B[38;5;28;01mdef\u001B[39;00m \u001B[38;5;21mewm\u001B[39m(\n\u001B[0;32m   (...)\u001B[0m\n\u001B[1;32m  11317\u001B[0m     method: \u001B[38;5;28mstr\u001B[39m \u001B[38;5;241m=\u001B[39m \u001B[38;5;124m\"\u001B[39m\u001B[38;5;124msingle\u001B[39m\u001B[38;5;124m\"\u001B[39m,\n\u001B[1;32m  11318\u001B[0m ) \u001B[38;5;241m-\u001B[39m\u001B[38;5;241m>\u001B[39m ExponentialMovingWindow:\n\u001B[1;32m  11319\u001B[0m     axis \u001B[38;5;241m=\u001B[39m \u001B[38;5;28mself\u001B[39m\u001B[38;5;241m.\u001B[39m_get_axis_number(axis)\n\u001B[0;32m> 11320\u001B[0m     \u001B[38;5;28;01mreturn\u001B[39;00m \u001B[43mExponentialMovingWindow\u001B[49m\u001B[43m(\u001B[49m\n\u001B[1;32m  11321\u001B[0m \u001B[43m        \u001B[49m\u001B[38;5;28;43mself\u001B[39;49m\u001B[43m,\u001B[49m\n\u001B[1;32m  11322\u001B[0m \u001B[43m        \u001B[49m\u001B[43mcom\u001B[49m\u001B[38;5;241;43m=\u001B[39;49m\u001B[43mcom\u001B[49m\u001B[43m,\u001B[49m\n\u001B[1;32m  11323\u001B[0m \u001B[43m        \u001B[49m\u001B[43mspan\u001B[49m\u001B[38;5;241;43m=\u001B[39;49m\u001B[43mspan\u001B[49m\u001B[43m,\u001B[49m\n\u001B[1;32m  11324\u001B[0m \u001B[43m        \u001B[49m\u001B[43mhalflife\u001B[49m\u001B[38;5;241;43m=\u001B[39;49m\u001B[43mhalflife\u001B[49m\u001B[43m,\u001B[49m\n\u001B[1;32m  11325\u001B[0m \u001B[43m        \u001B[49m\u001B[43malpha\u001B[49m\u001B[38;5;241;43m=\u001B[39;49m\u001B[43malpha\u001B[49m\u001B[43m,\u001B[49m\n\u001B[1;32m  11326\u001B[0m \u001B[43m        \u001B[49m\u001B[43mmin_periods\u001B[49m\u001B[38;5;241;43m=\u001B[39;49m\u001B[43mmin_periods\u001B[49m\u001B[43m,\u001B[49m\n\u001B[1;32m  11327\u001B[0m \u001B[43m        \u001B[49m\u001B[43madjust\u001B[49m\u001B[38;5;241;43m=\u001B[39;49m\u001B[43madjust\u001B[49m\u001B[43m,\u001B[49m\n\u001B[1;32m  11328\u001B[0m \u001B[43m        \u001B[49m\u001B[43mignore_na\u001B[49m\u001B[38;5;241;43m=\u001B[39;49m\u001B[43mignore_na\u001B[49m\u001B[43m,\u001B[49m\n\u001B[1;32m  11329\u001B[0m \u001B[43m        \u001B[49m\u001B[43maxis\u001B[49m\u001B[38;5;241;43m=\u001B[39;49m\u001B[43maxis\u001B[49m\u001B[43m,\u001B[49m\n\u001B[1;32m  11330\u001B[0m \u001B[43m        \u001B[49m\u001B[43mtimes\u001B[49m\u001B[38;5;241;43m=\u001B[39;49m\u001B[43mtimes\u001B[49m\u001B[43m,\u001B[49m\n\u001B[1;32m  11331\u001B[0m \u001B[43m        \u001B[49m\u001B[43mmethod\u001B[49m\u001B[38;5;241;43m=\u001B[39;49m\u001B[43mmethod\u001B[49m\u001B[43m,\u001B[49m\n\u001B[1;32m  11332\u001B[0m \u001B[43m    \u001B[49m\u001B[43m)\u001B[49m\n",
      "File \u001B[0;32m~/Library/Caches/pypoetry/virtualenvs/trade-executor-0IMGzMxl-py3.9/lib/python3.9/site-packages/pandas/core/window/ewm.py:410\u001B[0m, in \u001B[0;36mExponentialMovingWindow.__init__\u001B[0;34m(self, obj, com, span, halflife, alpha, min_periods, adjust, ignore_na, axis, times, method, selection)\u001B[0m\n\u001B[1;32m    408\u001B[0m \u001B[38;5;66;03m# Without times, points are equally spaced\u001B[39;00m\n\u001B[1;32m    409\u001B[0m \u001B[38;5;28mself\u001B[39m\u001B[38;5;241m.\u001B[39m_deltas \u001B[38;5;241m=\u001B[39m np\u001B[38;5;241m.\u001B[39mones(\u001B[38;5;28mmax\u001B[39m(\u001B[38;5;28mlen\u001B[39m(\u001B[38;5;28mself\u001B[39m\u001B[38;5;241m.\u001B[39mobj) \u001B[38;5;241m-\u001B[39m \u001B[38;5;241m1\u001B[39m, \u001B[38;5;241m0\u001B[39m), dtype\u001B[38;5;241m=\u001B[39mnp\u001B[38;5;241m.\u001B[39mfloat64)\n\u001B[0;32m--> 410\u001B[0m \u001B[38;5;28mself\u001B[39m\u001B[38;5;241m.\u001B[39m_com \u001B[38;5;241m=\u001B[39m \u001B[43mget_center_of_mass\u001B[49m\u001B[43m(\u001B[49m\n\u001B[1;32m    411\u001B[0m \u001B[43m    \u001B[49m\u001B[38;5;66;43;03m# error: Argument 3 to \"get_center_of_mass\" has incompatible type\u001B[39;49;00m\n\u001B[1;32m    412\u001B[0m \u001B[43m    \u001B[49m\u001B[38;5;66;43;03m# \"Union[float, Any, None, timedelta64, signedinteger[_64Bit]]\";\u001B[39;49;00m\n\u001B[1;32m    413\u001B[0m \u001B[43m    \u001B[49m\u001B[38;5;66;43;03m# expected \"Optional[float]\"\u001B[39;49;00m\n\u001B[1;32m    414\u001B[0m \u001B[43m    \u001B[49m\u001B[38;5;28;43mself\u001B[39;49m\u001B[38;5;241;43m.\u001B[39;49m\u001B[43mcom\u001B[49m\u001B[43m,\u001B[49m\n\u001B[1;32m    415\u001B[0m \u001B[43m    \u001B[49m\u001B[38;5;28;43mself\u001B[39;49m\u001B[38;5;241;43m.\u001B[39;49m\u001B[43mspan\u001B[49m\u001B[43m,\u001B[49m\n\u001B[1;32m    416\u001B[0m \u001B[43m    \u001B[49m\u001B[38;5;28;43mself\u001B[39;49m\u001B[38;5;241;43m.\u001B[39;49m\u001B[43mhalflife\u001B[49m\u001B[43m,\u001B[49m\u001B[43m  \u001B[49m\u001B[38;5;66;43;03m# type: ignore[arg-type]\u001B[39;49;00m\n\u001B[1;32m    417\u001B[0m \u001B[43m    \u001B[49m\u001B[38;5;28;43mself\u001B[39;49m\u001B[38;5;241;43m.\u001B[39;49m\u001B[43malpha\u001B[49m\u001B[43m,\u001B[49m\n\u001B[1;32m    418\u001B[0m \u001B[43m\u001B[49m\u001B[43m)\u001B[49m\n",
      "File \u001B[0;32m~/Library/Caches/pypoetry/virtualenvs/trade-executor-0IMGzMxl-py3.9/lib/python3.9/site-packages/pandas/core/window/ewm.py:90\u001B[0m, in \u001B[0;36mget_center_of_mass\u001B[0;34m(comass, span, halflife, alpha)\u001B[0m\n\u001B[1;32m     88\u001B[0m     comass \u001B[38;5;241m=\u001B[39m (\u001B[38;5;241m1\u001B[39m \u001B[38;5;241m-\u001B[39m alpha) \u001B[38;5;241m/\u001B[39m alpha\n\u001B[1;32m     89\u001B[0m \u001B[38;5;28;01melse\u001B[39;00m:\n\u001B[0;32m---> 90\u001B[0m     \u001B[38;5;28;01mraise\u001B[39;00m \u001B[38;5;167;01mValueError\u001B[39;00m(\u001B[38;5;124m\"\u001B[39m\u001B[38;5;124mMust pass one of comass, span, halflife, or alpha\u001B[39m\u001B[38;5;124m\"\u001B[39m)\n\u001B[1;32m     92\u001B[0m \u001B[38;5;28;01mreturn\u001B[39;00m \u001B[38;5;28mfloat\u001B[39m(comass)\n",
      "\u001B[0;31mValueError\u001B[0m: Must pass one of comass, span, halflife, or alpha"
     ]
    }
   ],
   "source": [
    "from tradeexecutor.strategy.strategy_module import pregenerated_create_trading_universe\n",
    "from tradeexecutor.testing.synthetic_exchange_data import generate_simple_routing_model\n",
    "from tradeexecutor.backtest.backtest_runner import run_backtest_inline\n",
    "\n",
    "universe = create_trading_universe()\n",
    "\n",
    "start_candle, end_candle = universe.universe.candles.get_timestamp_range()\n",
    "print(f\"Our universe has synthetic candle data for the period {start_candle} - {end_candle}\")\n",
    "\n",
    "routing_model = generate_simple_routing_model(universe)\n",
    "\n",
    "state, debug_dump = run_backtest_inline(\n",
    "    start_at=start_at,\n",
    "    end_at=end_at,\n",
    "    client=None,  # None of downloads needed, because we are using synthetic data\n",
    "    cycle_duration=CycleDuration.cycle_24h,  # Override to use 24h cycles despite what strategy file says\n",
    "    decide_trades=decide_trades,\n",
    "    universe=universe,\n",
    "    initial_deposit=10_000,\n",
    "    reserve_currency=ReserveCurrency.busd,\n",
    "    trade_routing=TradeRouting.routing_model,\n",
    "    routing_model=routing_model,\n",
    "    log_level=logging.WARNING,\n",
    ")\n"
   ],
   "metadata": {
    "collapsed": false,
    "pycharm": {
     "name": "#%%\n"
    }
   }
  },
  {
   "cell_type": "markdown",
   "source": [
    "## Examine backtest results\n",
    "\n",
    "Examine `state` that contains all actions the trade executor took."
   ],
   "metadata": {
    "collapsed": false,
    "pycharm": {
     "name": "#%% md\n"
    }
   }
  },
  {
   "cell_type": "code",
   "execution_count": null,
   "outputs": [],
   "source": [
    "print(f\"Positions taken: {len(list(state.portfolio.get_all_positions()))}\")\n",
    "print(f\"Trades made: {len(list(state.portfolio.get_all_trades()))}\")"
   ],
   "metadata": {
    "collapsed": false,
    "pycharm": {
     "name": "#%%\n"
    }
   }
  },
  {
   "cell_type": "markdown",
   "source": [
    "# Visualise trading strategy\n",
    "\n",
    "* Plot the OHLCV graph of the synthetic data\n",
    "* Display trades on the graph"
   ],
   "metadata": {
    "collapsed": false,
    "pycharm": {
     "name": "#%% md\n"
    }
   }
  },
  {
   "cell_type": "code",
   "execution_count": null,
   "outputs": [],
   "source": [
    "from tradeexecutor.visual.single_pair import visualise_single_pair\n",
    "\n",
    "figure = visualise_single_pair(state, universe.universe.candles)\n",
    "\n",
    "figure.show()"
   ],
   "metadata": {
    "collapsed": false,
    "pycharm": {
     "name": "#%%\n"
    }
   }
  },
  {
   "cell_type": "markdown",
   "source": [
    "## Finishing notes"
   ],
   "metadata": {
    "collapsed": false,
    "pycharm": {
     "name": "#%% md\n"
    }
   }
  },
  {
   "cell_type": "code",
   "execution_count": null,
   "outputs": [],
   "source": [
    "print(\"All ok\")"
   ],
   "metadata": {
    "collapsed": false,
    "pycharm": {
     "name": "#%%\n"
    }
   }
  }
 ],
 "metadata": {
  "kernelspec": {
   "display_name": "Python 3",
   "language": "python",
   "name": "python3"
  },
  "language_info": {
   "codemirror_mode": {
    "name": "ipython",
    "version": 2
   },
   "file_extension": ".py",
   "mimetype": "text/x-python",
   "name": "python",
   "nbconvert_exporter": "python",
   "pygments_lexer": "ipython2",
   "version": "2.7.6"
  }
 },
 "nbformat": 4,
 "nbformat_minor": 0
}