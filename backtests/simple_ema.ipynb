{
 "cells": [
  {
   "cell_type": "markdown",
   "metadata": {
    "collapsed": true,
    "pycharm": {
     "name": "#%% md\n"
    }
   },
   "source": [
    "# Simple EMA backtest\n",
    "\n",
    "* ETH/USD\n",
    "* Long only\n",
    "* No stop loss\n",
    "\n"
   ]
  },
  {
   "cell_type": "markdown",
   "source": [
    "## Set up\n",
    "\n",
    "Set up the parameters used in the backtesting\n",
    "\n",
    "- Backtested blockchain, exchange and trading pair\n",
    "- Backtesting period\n",
    "- Strategy parameters for EMAs"
   ],
   "metadata": {
    "collapsed": false,
    "pycharm": {
     "name": "#%% md\n"
    }
   }
  },
  {
   "cell_type": "code",
   "execution_count": 1,
   "outputs": [],
   "source": [
    "import datetime\n",
    "import pandas as pd\n",
    "\n",
    "from tradingstrategy.chain import ChainId\n",
    "from tradingstrategy.timebucket import TimeBucket\n",
    "from tradeexecutor.strategy.cycle import CycleDuration\n",
    "from tradeexecutor.strategy.strategy_module import StrategyType, TradeRouting, ReserveCurrency\n",
    "\n",
    "# Tell what trade execution engine version this strategy needs to use\n",
    "trading_strategy_engine_version = \"0.1\"\n",
    "\n",
    "# What kind of strategy we are running.\n",
    "# This tells we are going to use\n",
    "trading_strategy_type = StrategyType.managed_positions\n",
    "\n",
    "# How our trades are routed.\n",
    "# PancakeSwap basic routing supports two way trades with BUSD\n",
    "# and three way trades with BUSD-BNB hop.\n",
    "trade_routing = TradeRouting.pancakeswap_basic\n",
    "\n",
    "# How often the strategy performs the decide_trades cycle.\n",
    "# We do it for every 16h.\n",
    "trading_strategy_cycle = CycleDuration.cycle_16h\n",
    "\n",
    "# Strategy keeps its cash in BUSD\n",
    "reserve_currency = ReserveCurrency.busd\n",
    "\n",
    "# Time bucket for our candles\n",
    "candle_time_bucket = TimeBucket.h4\n",
    "\n",
    "# Which chain we are trading\n",
    "chain_id = ChainId.bsc\n",
    "\n",
    "# Which exchange we are trading on.\n",
    "exchange_slug = \"pancakeswap-v2\"\n",
    "\n",
    "# Which trading pair we are trading\n",
    "trading_pair = (\"WBNB\", \"BUSD\")\n",
    "\n",
    "# How much of the cash to put on a single trade\n",
    "position_size = 0.10\n",
    "\n",
    "#\n",
    "# Strategy thinking specific parameter\n",
    "#\n",
    "\n",
    "batch_size = 90\n",
    "\n",
    "slow_ema_candle_count = 39\n",
    "\n",
    "fast_ema_candle_count = 15\n",
    "\n",
    "\n",
    "# Range of backtesting and synthetic data generation.\n",
    "# Because we are using synthetic data actual dates do not really matter -\n",
    "# only the duration\n",
    "\n",
    "start_at = datetime.datetime(2021, 6, 1)\n",
    "\n",
    "end_at = datetime.datetime(2022, 1, 1)\n",
    "\n",
    "# Start with 10,000 USD\n",
    "initial_deposit = 10_000\n"
   ],
   "metadata": {
    "collapsed": false,
    "pycharm": {
     "name": "#%%\n"
    }
   }
  },
  {
   "cell_type": "code",
   "execution_count": 2,
   "outputs": [],
   "source": [
    "\n",
    "from tradeexecutor.state.visualisation import PlotKind\n",
    "from tradeexecutor.state.trade import TradeExecution\n",
    "from typing import List, Dict\n",
    "from tradeexecutor.strategy.pricing_model import PricingModel\n",
    "from tradeexecutor.strategy.pandas_trader.position_manager import PositionManager\n",
    "from tradeexecutor.state.state import State\n",
    "from tradingstrategy.universe import Universe\n",
    "\n",
    "\n",
    "def decide_trades(\n",
    "        timestamp: pd.Timestamp,\n",
    "        universe: Universe,\n",
    "        state: State,\n",
    "        pricing_model: PricingModel,\n",
    "        cycle_debug_data: Dict) -> List[TradeExecution]:\n",
    "    \"\"\"The brain function to decide the trades on each trading strategy cycle.\n",
    "\n",
    "    - Reads incoming execution state (positions, past trades)\n",
    "\n",
    "    - Reads the current universe (candles)\n",
    "\n",
    "    - Decides what to do next\n",
    "\n",
    "    - Outputs strategy thinking for visualisation and debug messages\n",
    "\n",
    "    :param timestamp:\n",
    "        The Pandas timestamp object for this cycle. Matches\n",
    "        trading_strategy_cycle division.\n",
    "        Always truncated to the zero seconds and minutes, never a real-time clock.\n",
    "\n",
    "    :param universe:\n",
    "        Trading universe that was constructed earlier.\n",
    "\n",
    "    :param state:\n",
    "        The current trade execution state.\n",
    "        Contains current open positions and all previously executed trades, plus output\n",
    "        for statistics, visualisation and diangnostics of the strategy.\n",
    "\n",
    "    :param pricing_model:\n",
    "        Pricing model can tell the buy/sell price of the particular asset at a particular moment.\n",
    "\n",
    "    :param cycle_debug_data:\n",
    "        Python dictionary for various debug variables you can read or set, specific to this trade cycle.\n",
    "        This data is discarded at the end of the trade cycle.\n",
    "\n",
    "    :return:\n",
    "        List of trade instructions in the form of :py:class:`TradeExecution` instances.\n",
    "        The trades can be generated using `position_manager` but strategy could also hand craft its trades.\n",
    "    \"\"\"\n",
    "\n",
    "    # The pair we are trading\n",
    "    pair = universe.pairs.get_single()\n",
    "\n",
    "    # How much cash we have in the hand\n",
    "    cash = state.portfolio.get_current_cash()\n",
    "\n",
    "    # Get OHLCV candles for our trading pair as Pandas Dataframe.\n",
    "    # We could have candles for multiple trading pairs in a different strategy,\n",
    "    # but this strategy only operates on single pair candle.\n",
    "    # We also limit our sample size to N latest candles to speed up calculations.\n",
    "    candles: pd.DataFrame = universe.candles.get_single_pair_data(sample_count=batch_size)\n",
    "\n",
    "    # We have data for open, high, close, etc.\n",
    "    # We only operate using candle close values in this strategy.\n",
    "    close = candles[\"close\"]\n",
    "\n",
    "    # Calculate exponential moving averages based on slow and fast sample numbers.\n",
    "    # More information about calculating expotential averages in Pandas:\n",
    "    #\n",
    "    # - https://www.statology.org/exponential-moving-average-pandas/\n",
    "    #\n",
    "    # - https://pandas.pydata.org/pandas-docs/stable/reference/api/pandas.DataFrame.ewm.html\n",
    "    #\n",
    "    slow_ema = close.ewm(span=slow_ema_candle_count).mean().iloc[-1]\n",
    "    fast_ema = close.ewm(span=fast_ema_candle_count).mean().iloc[-1]\n",
    "\n",
    "    # Get the last close price from close time series\n",
    "    # that's Pandas's Series object\n",
    "    # https://pandas.pydata.org/docs/reference/api/pandas.Series.iat.html\n",
    "    current_price = close.iloc[-1]\n",
    "\n",
    "    # List of any trades we decide on this cycle.\n",
    "    # Because the strategy is simple, there can be\n",
    "    # only zero (do nothing) or 1 (open or close) trades\n",
    "    # decides\n",
    "    trades = []\n",
    "\n",
    "    # Create a position manager helper class that allows us easily to create\n",
    "    # opening/closing trades for different positions\n",
    "    position_manager = PositionManager(timestamp, universe, state, pricing_model)\n",
    "\n",
    "    if current_price >= slow_ema:\n",
    "        # Entry condition:\n",
    "        # Close price is higher than the slow EMA\n",
    "        if not position_manager.is_any_open():\n",
    "            buy_amount = cash * position_size\n",
    "            trades += position_manager.open_1x_long(pair, buy_amount)\n",
    "    elif fast_ema >= slow_ema:\n",
    "        # Exit condition:\n",
    "        # Fast EMA crosses slow EMA\n",
    "        if position_manager.is_any_open():\n",
    "            trades += position_manager.close_all()\n",
    "\n",
    "    # Visualize strategy\n",
    "    visualisation = state.visualisation\n",
    "    visualisation.plot_indicator(timestamp, \"Slow EMA\", PlotKind.technical_indicator_on_price, slow_ema, colour=\"darkblue\")\n",
    "    visualisation.plot_indicator(timestamp, \"Fast EMA\", PlotKind.technical_indicator_on_price, fast_ema, colour=\"#003300\")\n",
    "\n",
    "    return trades"
   ],
   "metadata": {
    "collapsed": false,
    "pycharm": {
     "name": "#%%\n"
    }
   }
  },
  {
   "cell_type": "code",
   "execution_count": 3,
   "outputs": [],
   "source": [
    "\n",
    "from typing import Optional\n",
    "from tradeexecutor.strategy.trading_strategy_universe import load_all_data, TradingStrategyUniverse\n",
    "from tradeexecutor.strategy.execution_model import ExecutionContext\n",
    "from tradingstrategy.client import Client\n",
    "import datetime\n",
    "\n",
    "def create_trading_universe(\n",
    "        ts: datetime.datetime,\n",
    "        client: Client,\n",
    "        execution_context: ExecutionContext,\n",
    "        candle_time_frame_override: Optional[TimeBucket]=None,\n",
    ") -> TradingStrategyUniverse:\n",
    "    \"\"\"Creates the trading universe where the strategy trades.\n",
    "\n",
    "    If `execution_context.live_trading` is true then this function is called for\n",
    "    every execution cycle. If we are backtesting, then this function is\n",
    "    called only once at the start of backtesting and the `decide_trades`\n",
    "    need to deal with new and deprecated trading pairs.\n",
    "\n",
    "    As we are only trading a single pair, load data for the single pair only.\n",
    "\n",
    "    :param ts:\n",
    "        The timestamp of the trading cycle. For live trading,\n",
    "        `create_trading_universe` is called on every cycle.\n",
    "        For backtesting, it is only called at the start\n",
    "\n",
    "    :param client:\n",
    "        Trading Strategy Python client instance.\n",
    "\n",
    "    :param execution_context:\n",
    "        Information how the strategy is executed. E.g.\n",
    "        if we are live trading or not.\n",
    "\n",
    "    :param candle_timeframe_override:\n",
    "        Allow the backtest framework override what candle size is used to backtest the strategy\n",
    "        without editing the strategy Python source code file.\n",
    "\n",
    "    :return:\n",
    "        This function must return :py:class:`TradingStrategyUniverse` instance\n",
    "        filled with the data for exchanges, pairs and candles needed to decide trades.\n",
    "        The trading universe also contains information about the reserve asset,\n",
    "        usually stablecoin, we use for the strategy.\n",
    "    \"\"\"\n",
    "\n",
    "    # Load all datas we can get for our candle time bucket\n",
    "    dataset = load_all_data(client, candle_time_bucket, execution_context)\n",
    "\n",
    "    # Filter down to the single pair we are interested in\n",
    "    universe = TradingStrategyUniverse.create_single_pair_universe(\n",
    "        dataset,\n",
    "        chain_id,\n",
    "        exchange_slug,\n",
    "        trading_pair[0],\n",
    "        trading_pair[1],\n",
    "    )\n",
    "\n",
    "    return universe"
   ],
   "metadata": {
    "collapsed": false,
    "pycharm": {
     "name": "#%%\n"
    }
   }
  },
  {
   "cell_type": "markdown",
   "source": [
    "## Run backtest\n",
    "\n",
    "Run backtest using giving trading universe and strategy function.\n"
   ],
   "metadata": {
    "collapsed": false,
    "pycharm": {
     "name": "#%% md\n"
    }
   }
  },
  {
   "cell_type": "code",
   "execution_count": 4,
   "outputs": [
    {
     "data": {
      "text/plain": "  0%|          | 0/18489600 [00:00<?, ?it/s]",
      "application/vnd.jupyter.widget-view+json": {
       "version_major": 2,
       "version_minor": 0,
       "model_id": "5ed9349e2f254a03922d6d8c79edc6be"
      }
     },
     "metadata": {},
     "output_type": "display_data"
    },
    {
     "ename": "AssertionError",
     "evalue": "",
     "output_type": "error",
     "traceback": [
      "\u001B[0;31m---------------------------------------------------------------------------\u001B[0m",
      "\u001B[0;31mAssertionError\u001B[0m                            Traceback (most recent call last)",
      "Input \u001B[0;32mIn [4]\u001B[0m, in \u001B[0;36m<cell line: 5>\u001B[0;34m()\u001B[0m\n\u001B[1;32m      1\u001B[0m \u001B[38;5;28;01mimport\u001B[39;00m \u001B[38;5;21;01mlogging\u001B[39;00m\n\u001B[1;32m      3\u001B[0m \u001B[38;5;28;01mfrom\u001B[39;00m \u001B[38;5;21;01mtradeexecutor\u001B[39;00m\u001B[38;5;21;01m.\u001B[39;00m\u001B[38;5;21;01mbacktest\u001B[39;00m\u001B[38;5;21;01m.\u001B[39;00m\u001B[38;5;21;01mbacktest_runner\u001B[39;00m \u001B[38;5;28;01mimport\u001B[39;00m run_backtest_inline\n\u001B[0;32m----> 5\u001B[0m state, debug_dump \u001B[38;5;241m=\u001B[39m \u001B[43mrun_backtest_inline\u001B[49m\u001B[43m(\u001B[49m\n\u001B[1;32m      6\u001B[0m \u001B[43m    \u001B[49m\u001B[43mname\u001B[49m\u001B[38;5;241;43m=\u001B[39;49m\u001B[38;5;124;43m\"\u001B[39;49m\u001B[38;5;124;43mSynthetic random data backtest\u001B[39;49m\u001B[38;5;124;43m\"\u001B[39;49m\u001B[43m,\u001B[49m\n\u001B[1;32m      7\u001B[0m \u001B[43m    \u001B[49m\u001B[43mstart_at\u001B[49m\u001B[38;5;241;43m=\u001B[39;49m\u001B[43mstart_at\u001B[49m\u001B[43m,\u001B[49m\n\u001B[1;32m      8\u001B[0m \u001B[43m    \u001B[49m\u001B[43mend_at\u001B[49m\u001B[38;5;241;43m=\u001B[39;49m\u001B[43mend_at\u001B[49m\u001B[43m,\u001B[49m\n\u001B[1;32m      9\u001B[0m \u001B[43m    \u001B[49m\u001B[43mclient\u001B[49m\u001B[38;5;241;43m=\u001B[39;49m\u001B[38;5;28;43;01mNone\u001B[39;49;00m\u001B[43m,\u001B[49m\u001B[43m  \u001B[49m\u001B[38;5;66;43;03m# None of downloads needed, because we are using synthetic data\u001B[39;49;00m\n\u001B[1;32m     10\u001B[0m \u001B[43m    \u001B[49m\u001B[43mcycle_duration\u001B[49m\u001B[38;5;241;43m=\u001B[39;49m\u001B[43mCycleDuration\u001B[49m\u001B[38;5;241;43m.\u001B[39;49m\u001B[43mcycle_24h\u001B[49m\u001B[43m,\u001B[49m\u001B[43m  \u001B[49m\u001B[38;5;66;43;03m# Override to use 24h cycles despite what strategy file says\u001B[39;49;00m\n\u001B[1;32m     11\u001B[0m \u001B[43m    \u001B[49m\u001B[43mdecide_trades\u001B[49m\u001B[38;5;241;43m=\u001B[39;49m\u001B[43mdecide_trades\u001B[49m\u001B[43m,\u001B[49m\u001B[38;5;66;43;03m# From our strategy\u001B[39;49;00m\n\u001B[1;32m     12\u001B[0m \u001B[43m    \u001B[49m\u001B[43mcreate_trading_universe\u001B[49m\u001B[38;5;241;43m=\u001B[39;49m\u001B[43mcreate_trading_universe\u001B[49m\u001B[43m,\u001B[49m\u001B[43m  \u001B[49m\u001B[38;5;66;43;03m# From our strategy\u001B[39;49;00m\n\u001B[1;32m     13\u001B[0m \u001B[43m    \u001B[49m\u001B[43minitial_deposit\u001B[49m\u001B[38;5;241;43m=\u001B[39;49m\u001B[43minitial_deposit\u001B[49m\u001B[43m,\u001B[49m\n\u001B[1;32m     14\u001B[0m \u001B[43m    \u001B[49m\u001B[43mreserve_currency\u001B[49m\u001B[38;5;241;43m=\u001B[39;49m\u001B[43mReserveCurrency\u001B[49m\u001B[38;5;241;43m.\u001B[39;49m\u001B[43mbusd\u001B[49m\u001B[43m,\u001B[49m\n\u001B[1;32m     15\u001B[0m \u001B[43m    \u001B[49m\u001B[43mtrade_routing\u001B[49m\u001B[38;5;241;43m=\u001B[39;49m\u001B[43mTradeRouting\u001B[49m\u001B[38;5;241;43m.\u001B[39;49m\u001B[43mpancakeswap_basic\u001B[49m\u001B[43m,\u001B[49m\n\u001B[1;32m     16\u001B[0m \u001B[43m    \u001B[49m\u001B[43mlog_level\u001B[49m\u001B[38;5;241;43m=\u001B[39;49m\u001B[43mlogging\u001B[49m\u001B[38;5;241;43m.\u001B[39;49m\u001B[43mWARNING\u001B[49m\u001B[43m,\u001B[49m\n\u001B[1;32m     17\u001B[0m \u001B[43m)\u001B[49m\n\u001B[1;32m     19\u001B[0m trade_count \u001B[38;5;241m=\u001B[39m \u001B[38;5;28mlen\u001B[39m(\u001B[38;5;28mlist\u001B[39m(state\u001B[38;5;241m.\u001B[39mportfolio\u001B[38;5;241m.\u001B[39mget_all_trades()))\n\u001B[1;32m     20\u001B[0m \u001B[38;5;28mprint\u001B[39m(\u001B[38;5;124mf\u001B[39m\u001B[38;5;124m\"\u001B[39m\u001B[38;5;124mBacktesting completed, backtested strategy made \u001B[39m\u001B[38;5;132;01m{\u001B[39;00mtrade_count\u001B[38;5;132;01m}\u001B[39;00m\u001B[38;5;124m trades\u001B[39m\u001B[38;5;124m\"\u001B[39m)\n",
      "File \u001B[0;32m~/code/executor/trade-executor/tradeexecutor/backtest/backtest_runner.py:437\u001B[0m, in \u001B[0;36mrun_backtest_inline\u001B[0;34m(start_at, end_at, client, decide_trades, cycle_duration, initial_deposit, reserve_currency, trade_routing, create_trading_universe, universe, routing_model, max_slippage, candle_time_frame, log_level, name)\u001B[0m\n\u001B[1;32m    415\u001B[0m     pricing_model \u001B[38;5;241m=\u001B[39m \u001B[38;5;28;01mNone\u001B[39;00m\n\u001B[1;32m    417\u001B[0m backtest_setup \u001B[38;5;241m=\u001B[39m BacktestSetup(\n\u001B[1;32m    418\u001B[0m     start_at,\n\u001B[1;32m    419\u001B[0m     end_at,\n\u001B[0;32m   (...)\u001B[0m\n\u001B[1;32m    434\u001B[0m     name\u001B[38;5;241m=\u001B[39mname,\n\u001B[1;32m    435\u001B[0m )\n\u001B[0;32m--> 437\u001B[0m \u001B[38;5;28;01mreturn\u001B[39;00m \u001B[43mrun_backtest\u001B[49m\u001B[43m(\u001B[49m\u001B[43mbacktest_setup\u001B[49m\u001B[43m,\u001B[49m\u001B[43m \u001B[49m\u001B[43mclient\u001B[49m\u001B[43m)\u001B[49m\n",
      "File \u001B[0;32m~/code/executor/trade-executor/tradeexecutor/backtest/backtest_runner.py:319\u001B[0m, in \u001B[0;36mrun_backtest\u001B[0;34m(setup, client)\u001B[0m\n\u001B[1;32m    295\u001B[0m         \u001B[38;5;28;01mpass\u001B[39;00m\n\u001B[1;32m    297\u001B[0m main_loop \u001B[38;5;241m=\u001B[39m ExecutionLoop(\n\u001B[1;32m    298\u001B[0m     name\u001B[38;5;241m=\u001B[39msetup\u001B[38;5;241m.\u001B[39mname,\n\u001B[1;32m    299\u001B[0m     command_queue\u001B[38;5;241m=\u001B[39mQueue(),\n\u001B[0;32m   (...)\u001B[0m\n\u001B[1;32m    316\u001B[0m     trade_immediately\u001B[38;5;241m=\u001B[39m\u001B[38;5;28;01mTrue\u001B[39;00m,\n\u001B[1;32m    317\u001B[0m )\n\u001B[0;32m--> 319\u001B[0m debug_dump \u001B[38;5;241m=\u001B[39m \u001B[43mmain_loop\u001B[49m\u001B[38;5;241;43m.\u001B[39;49m\u001B[43mrun\u001B[49m\u001B[43m(\u001B[49m\u001B[43m)\u001B[49m\n\u001B[1;32m    321\u001B[0m \u001B[38;5;28;01mreturn\u001B[39;00m setup\u001B[38;5;241m.\u001B[39mstate, debug_dump\n",
      "File \u001B[0;32m~/code/executor/trade-executor/tradeexecutor/cli/loop.py:386\u001B[0m, in \u001B[0;36mExecutionLoop.run\u001B[0;34m(self)\u001B[0m\n\u001B[1;32m    382\u001B[0m \u001B[38;5;28;01massert\u001B[39;00m \u001B[38;5;28mself\u001B[39m\u001B[38;5;241m.\u001B[39mcycle_duration \u001B[38;5;129;01mis\u001B[39;00m \u001B[38;5;129;01mnot\u001B[39;00m \u001B[38;5;28;01mNone\u001B[39;00m, \u001B[38;5;124m\"\u001B[39m\u001B[38;5;124mDid not get strategy cycle duration from constructor or strategy run description\u001B[39m\u001B[38;5;124m\"\u001B[39m\n\u001B[1;32m    384\u001B[0m \u001B[38;5;28;01mif\u001B[39;00m \u001B[38;5;28mself\u001B[39m\u001B[38;5;241m.\u001B[39mbacktest_start:\n\u001B[1;32m    385\u001B[0m     \u001B[38;5;66;03m# Walk through backtesting range\u001B[39;00m\n\u001B[0;32m--> 386\u001B[0m     \u001B[38;5;28;01mreturn\u001B[39;00m \u001B[38;5;28;43mself\u001B[39;49m\u001B[38;5;241;43m.\u001B[39;49m\u001B[43mrun_backtest\u001B[49m\u001B[43m(\u001B[49m\u001B[43mstate\u001B[49m\u001B[43m)\u001B[49m\n\u001B[1;32m    387\u001B[0m \u001B[38;5;28;01melse\u001B[39;00m:\n\u001B[1;32m    388\u001B[0m     \u001B[38;5;28;01mreturn\u001B[39;00m \u001B[38;5;28mself\u001B[39m\u001B[38;5;241m.\u001B[39mrun_live(state)\n",
      "File \u001B[0;32m~/code/executor/trade-executor/tradeexecutor/cli/loop.py:243\u001B[0m, in \u001B[0;36mExecutionLoop.run_backtest\u001B[0;34m(self, state)\u001B[0m\n\u001B[1;32m    240\u001B[0m progress_bar\u001B[38;5;241m.\u001B[39mset_description(\u001B[38;5;124mf\u001B[39m\u001B[38;5;124m\"\u001B[39m\u001B[38;5;124mBacktesting \u001B[39m\u001B[38;5;132;01m{\u001B[39;00m\u001B[38;5;28mself\u001B[39m\u001B[38;5;241m.\u001B[39mname\u001B[38;5;132;01m}\u001B[39;00m\u001B[38;5;124m, \u001B[39m\u001B[38;5;132;01m{\u001B[39;00mfriendly_start\u001B[38;5;132;01m}\u001B[39;00m\u001B[38;5;124m-\u001B[39m\u001B[38;5;132;01m{\u001B[39;00mfriendly_end\u001B[38;5;132;01m}\u001B[39;00m\u001B[38;5;124m at \u001B[39m\u001B[38;5;132;01m{\u001B[39;00mfriedly_ts\u001B[38;5;132;01m}\u001B[39;00m\u001B[38;5;124m, total \u001B[39m\u001B[38;5;132;01m{\u001B[39;00mtrade_count\u001B[38;5;132;01m:\u001B[39;00m\u001B[38;5;124m,\u001B[39m\u001B[38;5;132;01m}\u001B[39;00m\u001B[38;5;124m trades\u001B[39m\u001B[38;5;124m\"\u001B[39m)\n\u001B[1;32m    242\u001B[0m \u001B[38;5;66;03m# Decide trades and everything for this cycle\u001B[39;00m\n\u001B[0;32m--> 243\u001B[0m universe \u001B[38;5;241m=\u001B[39m \u001B[38;5;28;43mself\u001B[39;49m\u001B[38;5;241;43m.\u001B[39;49m\u001B[43mtick\u001B[49m\u001B[43m(\u001B[49m\u001B[43mts\u001B[49m\u001B[43m,\u001B[49m\u001B[43m \u001B[49m\u001B[43mstate\u001B[49m\u001B[43m,\u001B[49m\u001B[43m \u001B[49m\u001B[43mcycle\u001B[49m\u001B[43m,\u001B[49m\u001B[43m \u001B[49m\u001B[43mlive\u001B[49m\u001B[38;5;241;43m=\u001B[39;49m\u001B[38;5;28;43;01mFalse\u001B[39;49;00m\u001B[43m,\u001B[49m\u001B[43m \u001B[49m\u001B[43mbacktesting_universe\u001B[49m\u001B[38;5;241;43m=\u001B[39;49m\u001B[43muniverse\u001B[49m\u001B[43m)\u001B[49m\n\u001B[1;32m    245\u001B[0m \u001B[38;5;66;03m# Revalue our portfolio\u001B[39;00m\n\u001B[1;32m    246\u001B[0m \u001B[38;5;28mself\u001B[39m\u001B[38;5;241m.\u001B[39mupdate_position_valuations(ts, state, universe)\n",
      "File \u001B[0;32m~/code/executor/trade-executor/tradeexecutor/cli/loop.py:146\u001B[0m, in \u001B[0;36mExecutionLoop.tick\u001B[0;34m(self, unrounded_timestamp, state, cycle, live, backtesting_universe)\u001B[0m\n\u001B[1;32m    141\u001B[0m logger\u001B[38;5;241m.\u001B[39mtrade(\u001B[38;5;124m\"\u001B[39m\u001B[38;5;124mPerforming strategy tick #\u001B[39m\u001B[38;5;132;01m%d\u001B[39;00m\u001B[38;5;124m for timestamp \u001B[39m\u001B[38;5;132;01m%s\u001B[39;00m\u001B[38;5;124m, unrounded time is \u001B[39m\u001B[38;5;132;01m%s\u001B[39;00m\u001B[38;5;124m, live trading is \u001B[39m\u001B[38;5;132;01m%s\u001B[39;00m\u001B[38;5;124m\"\u001B[39m, cycle, ts, unrounded_timestamp, live)\n\u001B[1;32m    143\u001B[0m \u001B[38;5;28;01mif\u001B[39;00m backtesting_universe \u001B[38;5;129;01mis\u001B[39;00m \u001B[38;5;28;01mNone\u001B[39;00m:\n\u001B[1;32m    144\u001B[0m \n\u001B[1;32m    145\u001B[0m     \u001B[38;5;66;03m# Refresh the trading universe for this cycle\u001B[39;00m\n\u001B[0;32m--> 146\u001B[0m     universe \u001B[38;5;241m=\u001B[39m \u001B[38;5;28;43mself\u001B[39;49m\u001B[38;5;241;43m.\u001B[39;49m\u001B[43muniverse_model\u001B[49m\u001B[38;5;241;43m.\u001B[39;49m\u001B[43mconstruct_universe\u001B[49m\u001B[43m(\u001B[49m\u001B[43mts\u001B[49m\u001B[43m,\u001B[49m\u001B[43m \u001B[49m\u001B[43mlive\u001B[49m\u001B[43m)\u001B[49m\n\u001B[1;32m    148\u001B[0m     \u001B[38;5;66;03m# Check if our data is stagnated and we cannot execute the strategy\u001B[39;00m\n\u001B[1;32m    149\u001B[0m     \u001B[38;5;28;01mif\u001B[39;00m \u001B[38;5;28mself\u001B[39m\u001B[38;5;241m.\u001B[39mmax_data_delay \u001B[38;5;129;01mis\u001B[39;00m \u001B[38;5;129;01mnot\u001B[39;00m \u001B[38;5;28;01mNone\u001B[39;00m:\n",
      "File \u001B[0;32m~/code/executor/trade-executor/tradeexecutor/strategy/trading_strategy_universe.py:343\u001B[0m, in \u001B[0;36mDefaultTradingStrategyUniverseModel.construct_universe\u001B[0;34m(self, ts, live)\u001B[0m\n\u001B[1;32m    341\u001B[0m \u001B[38;5;28;01mdef\u001B[39;00m \u001B[38;5;21mconstruct_universe\u001B[39m(\u001B[38;5;28mself\u001B[39m, ts: datetime\u001B[38;5;241m.\u001B[39mdatetime, live: \u001B[38;5;28mbool\u001B[39m) \u001B[38;5;241m-\u001B[39m\u001B[38;5;241m>\u001B[39m TradingStrategyUniverse:\n\u001B[1;32m    342\u001B[0m     \u001B[38;5;28;01mwith\u001B[39;00m \u001B[38;5;28mself\u001B[39m\u001B[38;5;241m.\u001B[39mexecution_context\u001B[38;5;241m.\u001B[39mtimed_task_context_manager(task_name\u001B[38;5;241m=\u001B[39m\u001B[38;5;124m\"\u001B[39m\u001B[38;5;124mcreate_trading_universe\u001B[39m\u001B[38;5;124m\"\u001B[39m):\n\u001B[0;32m--> 343\u001B[0m         universe \u001B[38;5;241m=\u001B[39m \u001B[38;5;28;43mself\u001B[39;49m\u001B[38;5;241;43m.\u001B[39;49m\u001B[43mcreate_trading_universe\u001B[49m\u001B[43m(\u001B[49m\u001B[43mts\u001B[49m\u001B[43m,\u001B[49m\u001B[43m \u001B[49m\u001B[38;5;28;43mself\u001B[39;49m\u001B[38;5;241;43m.\u001B[39;49m\u001B[43mclient\u001B[49m\u001B[43m,\u001B[49m\u001B[43m \u001B[49m\u001B[38;5;28;43mself\u001B[39;49m\u001B[38;5;241;43m.\u001B[39;49m\u001B[43mexecution_context\u001B[49m\u001B[43m,\u001B[49m\u001B[43m \u001B[49m\u001B[43mcandle_time_frame_override\u001B[49m\u001B[38;5;241;43m=\u001B[39;49m\u001B[38;5;28;43mself\u001B[39;49m\u001B[38;5;241;43m.\u001B[39;49m\u001B[43mcandle_time_frame_override\u001B[49m\u001B[43m)\u001B[49m\n\u001B[1;32m    344\u001B[0m         \u001B[38;5;28;01massert\u001B[39;00m \u001B[38;5;28misinstance\u001B[39m(universe, TradingStrategyUniverse), \u001B[38;5;124mf\u001B[39m\u001B[38;5;124m\"\u001B[39m\u001B[38;5;124mExpected TradingStrategyUniverse, got \u001B[39m\u001B[38;5;132;01m{\u001B[39;00muniverse\u001B[38;5;241m.\u001B[39m\u001B[38;5;18m__class__\u001B[39m\u001B[38;5;132;01m}\u001B[39;00m\u001B[38;5;124m\"\u001B[39m\n\u001B[1;32m    345\u001B[0m         universe\u001B[38;5;241m.\u001B[39mvalidate()\n",
      "Input \u001B[0;32mIn [3]\u001B[0m, in \u001B[0;36mcreate_trading_universe\u001B[0;34m(ts, client, execution_context, candle_time_frame_override)\u001B[0m\n\u001B[1;32m     13\u001B[0m \u001B[38;5;124;03m\"\"\"Creates the trading universe where the strategy trades.\u001B[39;00m\n\u001B[1;32m     14\u001B[0m \n\u001B[1;32m     15\u001B[0m \u001B[38;5;124;03mIf `execution_context.live_trading` is true then this function is called for\u001B[39;00m\n\u001B[0;32m   (...)\u001B[0m\n\u001B[1;32m     42\u001B[0m \u001B[38;5;124;03m    usually stablecoin, we use for the strategy.\u001B[39;00m\n\u001B[1;32m     43\u001B[0m \u001B[38;5;124;03m\"\"\"\u001B[39;00m\n\u001B[1;32m     45\u001B[0m \u001B[38;5;66;03m# Load all datas we can get for our candle time bucket\u001B[39;00m\n\u001B[0;32m---> 46\u001B[0m dataset \u001B[38;5;241m=\u001B[39m \u001B[43mload_all_data\u001B[49m\u001B[43m(\u001B[49m\u001B[43mclient\u001B[49m\u001B[43m,\u001B[49m\u001B[43m \u001B[49m\u001B[43mcandle_time_bucket\u001B[49m\u001B[43m,\u001B[49m\u001B[43m \u001B[49m\u001B[43mexecution_context\u001B[49m\u001B[43m)\u001B[49m\n\u001B[1;32m     48\u001B[0m \u001B[38;5;66;03m# Filter down to the single pair we are interested in\u001B[39;00m\n\u001B[1;32m     49\u001B[0m universe \u001B[38;5;241m=\u001B[39m TradingStrategyUniverse\u001B[38;5;241m.\u001B[39mcreate_single_pair_universe(\n\u001B[1;32m     50\u001B[0m     dataset,\n\u001B[1;32m     51\u001B[0m     chain_id,\n\u001B[0;32m   (...)\u001B[0m\n\u001B[1;32m     54\u001B[0m     trading_pair[\u001B[38;5;241m1\u001B[39m],\n\u001B[1;32m     55\u001B[0m )\n",
      "File \u001B[0;32m~/code/executor/trade-executor/tradeexecutor/strategy/trading_strategy_universe.py:459\u001B[0m, in \u001B[0;36mload_all_data\u001B[0;34m(client, time_frame, execution_context)\u001B[0m\n\u001B[1;32m    442\u001B[0m \u001B[38;5;28;01mdef\u001B[39;00m \u001B[38;5;21mload_all_data\u001B[39m(client: Client, time_frame: TimeBucket, execution_context: ExecutionContext) \u001B[38;5;241m-\u001B[39m\u001B[38;5;241m>\u001B[39m Dataset:\n\u001B[1;32m    443\u001B[0m     \u001B[38;5;124;03m\"\"\"Load all pair, candle and liquidity data for a given time bucket.\u001B[39;00m\n\u001B[1;32m    444\u001B[0m \n\u001B[1;32m    445\u001B[0m \u001B[38;5;124;03m    - Backtest data is never reloaded\u001B[39;00m\n\u001B[0;32m   (...)\u001B[0m\n\u001B[1;32m    456\u001B[0m \u001B[38;5;124;03m        Defines if we are live or backtesting\u001B[39;00m\n\u001B[1;32m    457\u001B[0m \u001B[38;5;124;03m    \"\"\"\u001B[39;00m\n\u001B[0;32m--> 459\u001B[0m     \u001B[38;5;28;01massert\u001B[39;00m \u001B[38;5;28misinstance\u001B[39m(client, Client)\n\u001B[1;32m    460\u001B[0m     \u001B[38;5;28;01massert\u001B[39;00m \u001B[38;5;28misinstance\u001B[39m(time_frame, TimeBucket)\n\u001B[1;32m    461\u001B[0m     \u001B[38;5;28;01massert\u001B[39;00m \u001B[38;5;28misinstance\u001B[39m(execution_context, ExecutionContext)\n",
      "\u001B[0;31mAssertionError\u001B[0m: "
     ]
    }
   ],
   "source": [
    "import logging\n",
    "\n",
    "from tradeexecutor.backtest.backtest_runner import run_backtest_inline\n",
    "\n",
    "state, debug_dump = run_backtest_inline(\n",
    "    name=\"Synthetic random data backtest\",\n",
    "    start_at=start_at,\n",
    "    end_at=end_at,\n",
    "    client=None,  # None of downloads needed, because we are using synthetic data\n",
    "    cycle_duration=CycleDuration.cycle_24h,  # Override to use 24h cycles despite what strategy file says\n",
    "    decide_trades=decide_trades,# From our strategy\n",
    "    create_trading_universe=create_trading_universe,  # From our strategy\n",
    "    initial_deposit=initial_deposit,\n",
    "    reserve_currency=ReserveCurrency.busd,\n",
    "    trade_routing=TradeRouting.pancakeswap_basic,\n",
    "    log_level=logging.WARNING,\n",
    ")\n",
    "\n",
    "trade_count = len(list(state.portfolio.get_all_trades()))\n",
    "print(f\"Backtesting completed, backtested strategy made {trade_count} trades\")"
   ],
   "metadata": {
    "collapsed": false,
    "pycharm": {
     "name": "#%%\n"
    }
   }
  }
 ],
 "metadata": {
  "kernelspec": {
   "display_name": "Python 3",
   "language": "python",
   "name": "python3"
  },
  "language_info": {
   "codemirror_mode": {
    "name": "ipython",
    "version": 2
   },
   "file_extension": ".py",
   "mimetype": "text/x-python",
   "name": "python",
   "nbconvert_exporter": "python",
   "pygments_lexer": "ipython2",
   "version": "2.7.6"
  }
 },
 "nbformat": 4,
 "nbformat_minor": 0
}