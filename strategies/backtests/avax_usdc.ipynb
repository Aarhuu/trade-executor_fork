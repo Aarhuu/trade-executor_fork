{
 "cells": [
  {
   "cell_type": "code",
   "execution_count": null,
   "metadata": {},
   "outputs": [],
   "source": [
    "import psutil\n",
    "\n",
    "mem = psutil.virtual_memory()\n",
    "print(f\"Current memory: {mem.available / 2**20:.2f} MB / {mem.total / 2**20:.2f} MB\")"
   ]
  },
  {
   "cell_type": "code",
   "execution_count": null,
   "metadata": {},
   "outputs": [],
   "source": [
    "import datetime\n",
    "import pandas as pd\n",
    "\n",
    "from tradingstrategy.chain import ChainId\n",
    "from tradingstrategy.timebucket import TimeBucket\n",
    "from tradeexecutor.strategy.cycle import CycleDuration\n",
    "from tradeexecutor.strategy.strategy_module import StrategyType, TradeRouting, ReserveCurrency\n",
    "\n",
    "# Tell what trade execution engine version this strategy needs to use\n",
    "# NOTE: this setting has currently no effect\n",
    "TRADING_STRATEGY_TYPE_ENGINE_VERSION = \"0.1\"\n",
    "\n",
    "# What kind of strategy we are running.\n",
    "# This tells we are going to use\n",
    "# NOTE: this setting has currently no effect\n",
    "TRADING_STRATEGY_TYPE = StrategyType.managed_positions\n",
    "\n",
    "# How our trades are routed.\n",
    "# PancakeSwap basic routing supports two way trades with BUSD\n",
    "# and three way trades with BUSD-BNB hop.\n",
    "TRADE_ROUTING = TradeRouting.pancakeswap_basic\n",
    "\n",
    "# How often the strategy performs the decide_trades cycle.\n",
    "# We do it for every 4h.\n",
    "TRADING_STRATEGY_CYCLE = CycleDuration.cycle_1h\n",
    "\n",
    "# Strategy keeps its cash in USDC\n",
    "RESERVE_CURRENCY = ReserveCurrency.busd\n",
    "\n",
    "# Time bucket for our candles\n",
    "CANDLE_TIME_BUCKET = TimeBucket.h1\n",
    "\n",
    "# Which chain we are trading\n",
    "CHAIN_ID = ChainId.bsc\n",
    "\n",
    "# Which exchange we are trading on.\n",
    "EXCHANGE_SLUG = \"pancakeswap-v2\"\n",
    "\n",
    "# Which trading pair we are trading\n",
    "TRADING_PAIR = (\"ETH\", \"USDC\")\n",
    "\n",
    "# How much of the cash to put on a single trade\n",
    "POSITION_SIZE = 0.70\n",
    "\n",
    "#\n",
    "# Strategy thinking specific parameter\n",
    "#\n",
    "\n",
    "BATCH_SIZE = 90\n",
    "\n",
    "SLOW_EMA_CANDLE_COUNT = 10     \n",
    "FAST_EMA_CANDLE_COUNT = 3\n",
    "\n",
    "\n",
    "# Range of backtesting and synthetic data generation.\n",
    "# Because we are using synthetic data actual dates do not really matter -\n",
    "# only the duration\n",
    "\n",
    "START_AT = datetime.datetime(2022, 1, 1)\n",
    "\n",
    "END_AT = datetime.datetime(2022, 10, 18)\n",
    "\n",
    "# Start with 10,000 USD\n",
    "INITIAL_DEPOSIT = 10_000\n",
    "\n",
    "# If the price drops 0.7% we trigger a stop loss\n",
    "STOP_LOSS_PCT = 0.993\n",
    "\n",
    "STOP_LOSS_TIME_BUCKET = TimeBucket.m15"
   ]
  }
 ],
 "metadata": {
  "kernelspec": {
   "display_name": "Python 3.10.8 ('trade-executor-xSh0vQvh-py3.10')",
   "language": "python",
   "name": "python3"
  },
  "language_info": {
   "name": "python",
   "version": "3.10.8"
  },
  "orig_nbformat": 4,
  "vscode": {
   "interpreter": {
    "hash": "24b97508390b963553784416579c9570aeb0b4283871745aab540c27775a3343"
   }
  }
 },
 "nbformat": 4,
 "nbformat_minor": 2
}
