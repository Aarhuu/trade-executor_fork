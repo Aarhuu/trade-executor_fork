{
 "cells": [
  {
   "cell_type": "code",
   "execution_count": 24,
   "metadata": {},
   "outputs": [],
   "source": [
    "import datetime\n",
    "import pandas as pd\n",
    "\n",
    "from tradingstrategy.chain import ChainId\n",
    "from tradingstrategy.timebucket import TimeBucket\n",
    "from tradeexecutor.strategy.cycle import CycleDuration\n",
    "from tradeexecutor.strategy.strategy_module import StrategyType, TradeRouting, ReserveCurrency\n",
    "\n",
    "# Tell what trade execution engine version this strategy needs to use\n",
    "\n",
    "trading_strategy_engine_version = \"0.1\"\n",
    "\n",
    "# What kind of strategy we are running.\n",
    "# This tells we are going to use\n",
    "trading_strategy_type = StrategyType.managed_positions\n",
    "\n",
    "# How our trades are routed.\n",
    "# PancakeSwap basic routing supports two way trades with BUSD\n",
    "# and three way trades with BUSD-BNB hop.\n",
    "trade_routing = TradeRouting.quickswap_usdc\n",
    "\n",
    "# How often the strategy performs the decide_trades cycle.\n",
    "# We do it for every 16h.\n",
    "trading_strategy_cycle = CycleDuration.cycle_16h\n",
    "\n",
    "# Strategy keeps its cash in BUSD\n",
    "reserve_currency = ReserveCurrency.usdc\n",
    "\n",
    "# Time bucket for our candles\n",
    "candle_time_bucket = TimeBucket.h4\n",
    "\n",
    "# Which chain we are trading\n",
    "chain_id = ChainId.avalanche\n",
    "\n",
    "# Which exchange we are trading on.\n",
    "exchange_slug = \"trader-joe\"\n",
    "\n",
    "# Which trading pair we are trading\n",
    "trading_pair_ticker = (\"WAVAX\", \"USDC\")\n",
    "\n",
    "# How much of the cash to put on a single trade\n",
    "position_size = 0.10\n",
    "\n",
    "#\n",
    "# Strategy thinking specific parameter\n",
    "#\n",
    "\n",
    "batch_size = 90\n",
    "\n",
    "slow_ema_candle_count = 15\n",
    "\n",
    "fast_ema_candle_count = 5\n",
    "\n",
    "\n",
    "# Range of backtesting and synthetic data generation.\n",
    "# Because we are using synthetic data actual dates do not really matter -\n",
    "# only the duration\n",
    "\n",
    "start_at = datetime.datetime(2021, 6, 1)\n",
    "\n",
    "end_at = datetime.datetime(2022, 1, 1)\n",
    "\n",
    "# Start with 10,000 USD\n",
    "initial_deposit = 10_000"
   ]
  },
  {
   "cell_type": "code",
   "execution_count": 25,
   "metadata": {},
   "outputs": [],
   "source": [
    "from typing import List, Dict\n",
    "\n",
    "from pandas_ta.overlap import ema\n",
    "\n",
    "from tradeexecutor.state.visualisation import PlotKind\n",
    "from tradeexecutor.state.trade import TradeExecution\n",
    "from tradeexecutor.strategy.pricing_model import PricingModel\n",
    "from tradeexecutor.strategy.pandas_trader.position_manager import PositionManager\n",
    "from tradeexecutor.state.state import State\n",
    "from tradingstrategy.universe import Universe\n",
    "\n",
    "\n",
    "def decide_trades(\n",
    "        timestamp: pd.Timestamp,\n",
    "        universe: Universe,\n",
    "        state: State,\n",
    "        pricing_model: PricingModel,\n",
    "        cycle_debug_data: Dict) -> List[TradeExecution]:\n",
    "    \"\"\"The brain function to decide the trades on each trading strategy cycle.\n",
    "\n",
    "    - Reads incoming execution state (positions, past trades)\n",
    "\n",
    "    - Reads the current universe (candles)\n",
    "\n",
    "    - Decides what to do next\n",
    "\n",
    "    - Outputs strategy thinking for visualisation and debug messages\n",
    "\n",
    "    :param timestamp:\n",
    "        The Pandas timestamp object for this cycle. Matches\n",
    "        trading_strategy_cycle division.\n",
    "        Always truncated to the zero seconds and minutes, never a real-time clock.\n",
    "\n",
    "    :param universe:\n",
    "        Trading universe that was constructed earlier.\n",
    "\n",
    "    :param state:\n",
    "        The current trade execution state.\n",
    "        Contains current open positions and all previously executed trades, plus output\n",
    "        for statistics, visualisation and diangnostics of the strategy.\n",
    "\n",
    "    :param pricing_model:\n",
    "        Pricing model can tell the buy/sell price of the particular asset at a particular moment.\n",
    "\n",
    "    :param cycle_debug_data:\n",
    "        Python dictionary for various debug variables you can read or set, specific to this trade cycle.\n",
    "        This data is discarded at the end of the trade cycle.\n",
    "\n",
    "    :return:\n",
    "        List of trade instructions in the form of :py:class:`TradeExecution` instances.\n",
    "        The trades can be generated using `position_manager` but strategy could also hand craft its trades.\n",
    "    \"\"\"\n",
    "\n",
    "    # The pair we are trading\n",
    "    pair = universe.pairs.get_single()\n",
    "\n",
    "    # How much cash we have in the hand\n",
    "    cash = state.portfolio.get_current_cash()\n",
    "\n",
    "    # Get OHLCV candles for our trading pair as Pandas Dataframe.\n",
    "    # We could have candles for multiple trading pairs in a different strategy,\n",
    "    # but this strategy only operates on single pair candle.\n",
    "    # We also limit our sample size to N latest candles to speed up calculations.\n",
    "    candles: pd.DataFrame = universe.candles.get_single_pair_data(timestamp, sample_count=batch_size)\n",
    "\n",
    "    # We have data for open, high, close, etc.\n",
    "    # We only operate using candle close values in this strategy.\n",
    "    close = candles[\"close\"]\n",
    "\n",
    "    # Calculate exponential moving averages based on slow and fast sample numbers.\n",
    "    slow_ema_series = ema(close, length=slow_ema_candle_count)\n",
    "    fast_ema_series = ema(close, length=fast_ema_candle_count)\n",
    "\n",
    "    if slow_ema_series is None or fast_ema_series is None:\n",
    "        # Cannot calculate EMA, because\n",
    "        # not enough samples in backtesting\n",
    "        return []\n",
    "\n",
    "    slow_ema = slow_ema_series.iloc[-1]\n",
    "    fast_ema = fast_ema_series.iloc[-1]\n",
    "\n",
    "    # Get the last close price from close time series\n",
    "    # that's Pandas's Series object\n",
    "    # https://pandas.pydata.org/docs/reference/api/pandas.Series.iat.html\n",
    "    current_price = close.iloc[-1]\n",
    "\n",
    "    # List of any trades we decide on this cycle.\n",
    "    # Because the strategy is simple, there can be\n",
    "    # only zero (do nothing) or 1 (open or close) trades\n",
    "    # decides\n",
    "    trades = []\n",
    "\n",
    "    # Create a position manager helper class that allows us easily to create\n",
    "    # opening/closing trades for different positions\n",
    "    position_manager = PositionManager(timestamp, universe, state, pricing_model)\n",
    "\n",
    "    if current_price >= slow_ema:\n",
    "        # Entry condition:\n",
    "        # Close price is higher than the slow EMA\n",
    "        if not position_manager.is_any_open():\n",
    "            buy_amount = cash * position_size\n",
    "            trades += position_manager.open_1x_long(pair, buy_amount)\n",
    "    elif fast_ema >= slow_ema:\n",
    "        # Exit condition:\n",
    "        # Fast EMA crosses slow EMA\n",
    "        if position_manager.is_any_open():\n",
    "            trades += position_manager.close_all()\n",
    "\n",
    "    # Visualize strategy\n",
    "    # See available Plotly colours here\n",
    "    # https://community.plotly.com/t/plotly-colours-list/11730/3?u=miohtama\n",
    "    visualisation = state.visualisation\n",
    "    visualisation.plot_indicator(timestamp, \"Slow EMA\", PlotKind.technical_indicator_on_price, slow_ema, colour=\"darkblue\")\n",
    "    visualisation.plot_indicator(timestamp, \"Fast EMA\", PlotKind.technical_indicator_on_price, fast_ema, colour=\"#003300\")\n",
    "\n",
    "    return trades"
   ]
  },
  {
   "cell_type": "code",
   "execution_count": 26,
   "metadata": {},
   "outputs": [],
   "source": [
    "from typing import Optional\n",
    "from tradeexecutor.strategy.trading_strategy_universe import load_all_data, TradingStrategyUniverse, \\\n",
    "    load_pair_data_for_single_exchange\n",
    "from tradeexecutor.strategy.execution_context import ExecutionContext\n",
    "from tradingstrategy.client import Client\n",
    "from tradeexecutor.strategy.universe_model import UniverseOptions\n",
    "import datetime\n",
    "\n",
    "def create_trading_universe(\n",
    "        ts: datetime.datetime,\n",
    "        client: Client,\n",
    "        execution_context: ExecutionContext,\n",
    "        universe_options = UniverseOptions(),\n",
    ") -> TradingStrategyUniverse:\n",
    "    \"\"\"Creates the trading universe where the strategy trades.\n",
    "\n",
    "    If `execution_context.live_trading` is true then this function is called for\n",
    "    every execution cycle. If we are backtesting, then this function is\n",
    "    called only once at the start of backtesting and the `decide_trades`\n",
    "    need to deal with new and deprecated trading pairs.\n",
    "\n",
    "    As we are only trading a single pair, load data for the single pair only.\n",
    "\n",
    "    :param ts:\n",
    "        The timestamp of the trading cycle. For live trading,\n",
    "        `create_trading_universe` is called on every cycle.\n",
    "        For backtesting, it is only called at the start\n",
    "\n",
    "    :param client:\n",
    "        Trading Strategy Python client instance.\n",
    "\n",
    "    :param execution_context:\n",
    "        Information how the strategy is executed. E.g.\n",
    "        if we are live trading or not.\n",
    "\n",
    "    :param candle_timeframe_override:\n",
    "        Allow the backtest framework override what candle size is used to backtest the strategy\n",
    "        without editing the strategy Python source code file.\n",
    "\n",
    "    :return:\n",
    "        This function must return :py:class:`TradingStrategyUniverse` instance\n",
    "        filled with the data for exchanges, pairs and candles needed to decide trades.\n",
    "        The trading universe also contains information about the reserve asset,\n",
    "        usually stablecoin, we use for the strategy.\n",
    "    \"\"\"\n",
    "\n",
    "    # Load all datas we can get for our candle time bucket\n",
    "    dataset = load_pair_data_for_single_exchange(\n",
    "        client,\n",
    "        execution_context,\n",
    "        candle_time_bucket,\n",
    "        chain_id,\n",
    "        exchange_slug,\n",
    "        [trading_pair_ticker],\n",
    "        universe_options = universe_options,\n",
    "        )\n",
    "\n",
    "\n",
    "    # Filter down to the single pair we are interested in\n",
    "    universe = TradingStrategyUniverse.create_single_pair_universe(\n",
    "        dataset,\n",
    "        chain_id,\n",
    "        exchange_slug,\n",
    "        trading_pair_ticker[0],\n",
    "        trading_pair_ticker[1],\n",
    "    )\n",
    "\n",
    "    return universe"
   ]
  },
  {
   "cell_type": "code",
   "execution_count": 27,
   "metadata": {},
   "outputs": [
    {
     "name": "stdout",
     "output_type": "stream",
     "text": [
      "Started Trading Strategy in Jupyter notebook environment, configuration is stored in /home/alex/.tradingstrategy\n"
     ]
    }
   ],
   "source": [
    "from tradingstrategy.client import Client\n",
    "\n",
    "client = Client.create_jupyter_client()"
   ]
  },
  {
   "cell_type": "code",
   "execution_count": 28,
   "metadata": {},
   "outputs": [
    {
     "data": {
      "application/vnd.jupyter.widget-view+json": {
       "model_id": "0f2c58be69f44ebab4f41f4b45be004c",
       "version_major": 2,
       "version_minor": 0
      },
      "text/plain": [
       "  0%|          | 0/50025600 [00:00<?, ?it/s]"
      ]
     },
     "metadata": {},
     "output_type": "display_data"
    },
    {
     "name": "stdout",
     "output_type": "stream",
     "text": [
      "Backtesting completed, backtested strategy made 3 trades\n"
     ]
    }
   ],
   "source": [
    "import logging\n",
    "\n",
    "from tradeexecutor.backtest.backtest_runner import run_backtest_inline\n",
    "\n",
    "state, universe, debug_dump = run_backtest_inline(\n",
    "    name=\"AVAX/USD EMA crossover example\",\n",
    "    start_at=start_at,\n",
    "    end_at=end_at,\n",
    "    client=client,\n",
    "    cycle_duration=trading_strategy_cycle,\n",
    "    decide_trades=decide_trades,\n",
    "    create_trading_universe=create_trading_universe,\n",
    "    initial_deposit=initial_deposit,\n",
    "    reserve_currency=reserve_currency,\n",
    "    trade_routing=trade_routing,\n",
    "    log_level=logging.WARNING,\n",
    ")\n",
    "\n",
    "trade_count = len(list(state.portfolio.get_all_trades()))\n",
    "print(f\"Backtesting completed, backtested strategy made {trade_count} trades\")"
   ]
  },
  {
   "cell_type": "code",
   "execution_count": 29,
   "metadata": {},
   "outputs": [
    {
     "name": "stdout",
     "output_type": "stream",
     "text": [
      "Positions taken: 2\n",
      "Trades made: 3\n"
     ]
    }
   ],
   "source": [
    "print(f\"Positions taken: {len(list(state.portfolio.get_all_positions()))}\")\n",
    "print(f\"Trades made: {len(list(state.portfolio.get_all_trades()))}\")"
   ]
  },
  {
   "cell_type": "code",
   "execution_count": 30,
   "metadata": {},
   "outputs": [
    {
     "data": {
      "application/vnd.plotly.v1+json": {
       "config": {
        "plotlyServerURL": "https://plot.ly"
       },
       "data": [
        {
         "marker": {
          "color": "rgba(128,128,128,0.5)"
         },
         "name": "Volume",
         "showlegend": false,
         "type": "bar",
         "x": [
          "2021-12-16T16:00:00",
          "2021-12-16T20:00:00",
          "2021-12-17T00:00:00",
          "2021-12-17T04:00:00",
          "2021-12-17T08:00:00",
          "2021-12-17T12:00:00",
          "2021-12-17T16:00:00",
          "2021-12-17T20:00:00",
          "2021-12-18T00:00:00",
          "2021-12-18T04:00:00",
          "2021-12-18T08:00:00",
          "2021-12-18T12:00:00",
          "2021-12-18T16:00:00",
          "2021-12-18T20:00:00",
          "2021-12-19T00:00:00",
          "2021-12-19T04:00:00",
          "2021-12-19T08:00:00",
          "2021-12-19T12:00:00",
          "2021-12-19T16:00:00",
          "2021-12-19T20:00:00",
          "2021-12-20T00:00:00",
          "2021-12-20T04:00:00",
          "2021-12-20T08:00:00",
          "2021-12-20T12:00:00",
          "2021-12-20T16:00:00",
          "2021-12-20T20:00:00",
          "2021-12-21T00:00:00",
          "2021-12-21T04:00:00",
          "2021-12-21T08:00:00",
          "2021-12-21T12:00:00",
          "2021-12-21T16:00:00",
          "2021-12-21T20:00:00",
          "2021-12-22T00:00:00",
          "2021-12-22T04:00:00",
          "2021-12-22T08:00:00",
          "2021-12-22T12:00:00",
          "2021-12-22T16:00:00",
          "2021-12-22T20:00:00",
          "2021-12-23T00:00:00",
          "2021-12-23T04:00:00",
          "2021-12-23T08:00:00",
          "2021-12-23T12:00:00",
          "2021-12-23T16:00:00",
          "2021-12-23T20:00:00",
          "2021-12-24T00:00:00",
          "2021-12-24T04:00:00",
          "2021-12-24T08:00:00",
          "2021-12-24T12:00:00",
          "2021-12-24T16:00:00",
          "2021-12-24T20:00:00",
          "2021-12-25T00:00:00",
          "2021-12-25T04:00:00",
          "2021-12-25T08:00:00",
          "2021-12-25T12:00:00",
          "2021-12-25T16:00:00",
          "2021-12-25T20:00:00",
          "2021-12-26T00:00:00",
          "2021-12-26T04:00:00",
          "2021-12-26T08:00:00",
          "2021-12-26T12:00:00",
          "2021-12-26T16:00:00",
          "2021-12-26T20:00:00",
          "2021-12-27T00:00:00",
          "2021-12-27T04:00:00",
          "2021-12-27T08:00:00",
          "2021-12-27T12:00:00",
          "2021-12-27T16:00:00",
          "2021-12-27T20:00:00",
          "2021-12-28T00:00:00",
          "2021-12-28T04:00:00",
          "2021-12-28T08:00:00",
          "2021-12-28T12:00:00",
          "2021-12-28T16:00:00",
          "2021-12-28T20:00:00",
          "2021-12-29T00:00:00",
          "2021-12-29T04:00:00",
          "2021-12-29T08:00:00",
          "2021-12-29T12:00:00",
          "2021-12-29T16:00:00",
          "2021-12-29T20:00:00",
          "2021-12-30T00:00:00",
          "2021-12-30T04:00:00",
          "2021-12-30T08:00:00",
          "2021-12-30T12:00:00",
          "2021-12-30T16:00:00",
          "2021-12-30T20:00:00",
          "2021-12-31T00:00:00",
          "2021-12-31T04:00:00",
          "2021-12-31T08:00:00",
          "2021-12-31T12:00:00",
          "2021-12-31T16:00:00",
          "2021-12-31T20:00:00",
          "2022-01-01T00:00:00"
         ],
         "xaxis": "x",
         "y": [
          440.80824199999995,
          494.72744499999993,
          710.31499,
          283.897461,
          64.85180199999999,
          293.752257,
          410.908493,
          680.183126,
          1392.6277109999999,
          326.339324,
          1066.2326899999998,
          803.8600200000001,
          965.881089,
          741.228599,
          513.30054,
          174.46148,
          144.605965,
          3014.4592589999997,
          23431.730623000003,
          53084.02954999999,
          69613.08371899999,
          72370.740149,
          54404.718486,
          86390.801864,
          106845.92673499999,
          56541.171442000006,
          69869.082175,
          90515.065301,
          60751.25820299999,
          68399.15896699997,
          88587.11941,
          45255.711851,
          26666.0378,
          16416.118155999997,
          21208.365862000002,
          54958.78207299998,
          34338.848434,
          30426.988777,
          29278.740083999997,
          24997.199848999997,
          12002.487063000004,
          25685.895461,
          20234.207797999996,
          35819.355751999996,
          31002.246153999997,
          17162.043088,
          19742.346359,
          17492.303053000003,
          14898.370181999999,
          24805.473934,
          10363.605509,
          4553.342596,
          4732.134065,
          4759.506602,
          6940.624392,
          5705.287027,
          13515.920575,
          4107.737831,
          7744.783075000001,
          3726.4386830000003,
          1940.35369,
          2959.189067,
          2620.9109979999994,
          5548.532268999999,
          2606.646116,
          6086.8887620000005,
          14154.262766999995,
          4223.0764149999995,
          2840.93589,
          5863.04784,
          4952.735157,
          3460.0937129999998,
          5600.471578000001,
          5022.009497999999,
          5469.770016999999,
          1974.906894,
          4205.108082999999,
          4378.856916999999,
          3196.951075,
          3288.1191110000004,
          2333.730344,
          2980.222836,
          2220.5417989999996,
          2294.5291960000004,
          4920.378440999999,
          3410.9939,
          13746.764398000003,
          2386.644195,
          3627.237182,
          3863.444585,
          3079.544065,
          1952.864843,
          6203.433344
         ],
         "yaxis": "y2"
        },
        {
         "close": [
          94.85657706579647,
          88.84702475938029,
          98.68395075364336,
          101.62924582936026,
          105.91138208707986,
          102.45664082590176,
          110.83317693413719,
          112.09343214380587,
          105.43373279501202,
          110.72754413139988,
          112.131094310713,
          114.03157182461457,
          110.48225004066812,
          111.56923880002441,
          117.59981907892478,
          112.96206268848854,
          107.36270255398902,
          109.22391098345757,
          106.78165360034411,
          106.71717059209557,
          104.3518980288395,
          103.63391385237632,
          102.59970626456762,
          104.49195020202282,
          110.87862917863258,
          113.36989826386838,
          113.74250749980428,
          118.5640607551299,
          119.02992034211984,
          117.5688623521601,
          117.33429303437383,
          121.19608959503977,
          125.42341225705293,
          124.17243899918651,
          118.02572058846451,
          122.56040512907575,
          118.97939257447838,
          115.4678902014783,
          120.85808610468622,
          118.2543676665711,
          118.10857557962662,
          120.32385472404479,
          122.79973730793414,
          120.77300284260662,
          120.09961556564295,
          120.23372653206897,
          121.71615586878329,
          121.59817523715904,
          120.11498374245156,
          112.82781123641752,
          112.79035579292817,
          114.74178755784013,
          114.3522500799114,
          115.64995446324217,
          113.98638357491853,
          114.47755894803561,
          110.46001498598102,
          110.63655753498121,
          111.5786740678941,
          114.15924969615186,
          116.5879609863471,
          115.44804463713692,
          115.87738079529129,
          116.7862762193131,
          116.98992290127688,
          118.54778296756338,
          117.7581039878135,
          114.04335145249357,
          110.38071365430261,
          111.97093026031327,
          114.67298202615744,
          113.23880548485585,
          105.4789739432711,
          107.57387281404974,
          111.25217786196728,
          106.75842963879926,
          106.17066961556085,
          106.56411029129326,
          105.30767827247044,
          102.75233022293529,
          99.5392303473991,
          102.60499582835888,
          103.02401730419946,
          103.55733945382215,
          103.412232821583,
          100.84016679887523,
          102.20110517611631,
          102.71262556323624,
          105.61658635030142,
          106.52633647497635,
          102.73171471948261,
          109.42417011751932,
          108.75774983006356
         ],
         "high": [
          104.5949100674392,
          102.71179973023963,
          123.97011314545833,
          101.62924582936026,
          105.91138208707986,
          115.20972510368966,
          131.37489147515956,
          127.63724001443222,
          116.22984403290222,
          111.51736569399482,
          147.01392152265072,
          132.98773348433244,
          123.06296445488987,
          133.41059518812165,
          119.27204869986564,
          114.9573167814968,
          114.72699240800657,
          133.61384184943887,
          118.22345099672768,
          119.01535064654105,
          118.61282389027282,
          106.57333907341766,
          104.97786568613445,
          106.84093227974924,
          114.03179382419734,
          115.90389499487267,
          116.12760040552838,
          121.90690909725888,
          127.71477564034241,
          120.58866450178053,
          125.19363171866715,
          134.08672567245193,
          126.45618636058893,
          125.42042847334609,
          124.23141482232803,
          126.28007627906312,
          126.0123792703793,
          121.14731149701916,
          123.70079377984997,
          121.97836485418578,
          119.03906054597493,
          121.2259737739561,
          125.21258964027436,
          123.17763104237017,
          122.32061597696057,
          120.96855482163404,
          123.90214392552723,
          124.32975291859516,
          122.73426544408566,
          119.7304033762741,
          115.24964866318957,
          116.02846027265925,
          116.16178616337452,
          116.30510768041943,
          115.7362115406583,
          116.26824218803361,
          137.84992627381874,
          112.74982639043931,
          113.42545693490811,
          114.25028931533227,
          116.84966622959635,
          117.43981906275799,
          116.15509593203696,
          119.08359658894919,
          118.39837518804707,
          120.21248205137178,
          156.27860486631243,
          119.05358734922977,
          114.36153866233445,
          117.79120776099829,
          116.5589240238338,
          116.14984158394225,
          112.92485988024434,
          110.0885478742268,
          111.25217786196728,
          110.97419126040067,
          108.61930204535328,
          107.39039091628332,
          107.51928743341611,
          107.77052140369676,
          103.34432487697323,
          103.33661012921067,
          104.21174447101335,
          105.06835858791871,
          106.43527829179162,
          103.83446763173373,
          153.79836370294865,
          104.80232705477385,
          107.24110818244012,
          107.38726864467588,
          108.56156396922712,
          110.61594195282916,
          111.75591844741628
         ],
         "low": [
          71.51368925215993,
          82.57016634266986,
          82.38939418377294,
          80.6253098484222,
          97.52173744151102,
          91.1495503307326,
          100.74938568795051,
          96.74538458434091,
          84.32329185925806,
          98.89091616135082,
          108.87258156136615,
          88.50430952362413,
          95.70801042535504,
          104.09251706309664,
          89.33006351124386,
          108.43888115885434,
          107.36270255398902,
          96.09235501277944,
          96.13977707412471,
          100.1493914521975,
          93.53635296951552,
          93.46459113223129,
          91.23566363363057,
          96.47606332925591,
          100.60303603227871,
          110.74218999508459,
          109.83615803254078,
          108.19114355501746,
          113.88002037158759,
          110.44510363267487,
          108.90056886522561,
          116.2223324144617,
          119.89652615119063,
          122.06640391137559,
          116.03684867718283,
          114.9288316728934,
          116.4360357145621,
          113.69302252232306,
          114.11445581239819,
          115.14933307152525,
          116.74901577257754,
          115.74307909417291,
          119.42259168254586,
          116.83392285190776,
          113.54315465866583,
          118.51847604991211,
          120.27381520314843,
          120.27622234784951,
          119.31741160094371,
          109.43828786605899,
          112.25841046858002,
          111.94497869714752,
          113.4418412649887,
          114.66229793943174,
          110.81487477351602,
          112.8029484797854,
          110.46001498598102,
          109.35591058856386,
          95.41397419548125,
          110.02648291878675,
          113.84467270228136,
          113.79129895294983,
          112.78706249623087,
          113.4714412002965,
          114.58741520859519,
          113.07248313909481,
          113.58003703130089,
          112.13146374358713,
          108.99968984388262,
          107.67178232390255,
          111.42621733448549,
          111.67472718839343,
          101.66069483014266,
          104.49840973725854,
          105.47044972504675,
          106.75842963879926,
          105.55671144832704,
          102.28773718640858,
          102.69147110919346,
          102.29315862189267,
          99.04952677079191,
          98.67900696940332,
          101.6090317063501,
          101.33497059007112,
          100.88731739062804,
          99.70837849260349,
          100.03727120992274,
          101.11768759966475,
          101.84012207588835,
          101.187538924057,
          102.73171471948261,
          102.68632711612769,
          90.22551256718599
         ],
         "name": "candles",
         "open": [
          86.40313072279048,
          97.67887111698865,
          92.97936929512035,
          80.6253098484222,
          97.52173744151102,
          103.34339618873369,
          104.3775724319454,
          112.03849527684793,
          111.38534444450792,
          107.35229600723565,
          108.87258156136615,
          112.489435961376,
          114.8878897091717,
          112.4682316322115,
          114.94995694313533,
          114.9573167814968,
          112.36420958079049,
          112.7044275561084,
          109.11330330929081,
          105.34777724827079,
          106.8256528626795,
          104.19221200320229,
          104.29449920337255,
          102.61032614814629,
          103.86081301509022,
          112.9753752553102,
          113.40054910600261,
          113.76025668833621,
          117.93792267787968,
          118.75998307513073,
          117.46173591759967,
          117.29383846872665,
          121.29479815758009,
          125.42042847334609,
          124.23141482232803,
          118.10981703674067,
          122.65585082831387,
          119.21199190121445,
          115.45027586464812,
          120.89764319292115,
          117.18857952842554,
          118.17031615700537,
          121.02772026758487,
          122.71441827834101,
          122.32061597696057,
          119.60001382816867,
          120.42168373604163,
          121.73505044301292,
          121.67764309073213,
          119.48049440893497,
          113.34179262152651,
          113.21233757565808,
          114.91736837764111,
          114.9726930169288,
          115.7362115406583,
          113.78528157381332,
          114.90343868805587,
          110.44708573224737,
          112.47403475393811,
          111.38705915343496,
          114.116373563525,
          116.48441784066813,
          114.98357972273915,
          116.34981448781441,
          117.33245520590881,
          117.51543592517557,
          118.59870892540118,
          117.71055833974793,
          114.36153866233445,
          109.78582882748964,
          111.42621733448549,
          115.75432505264178,
          112.92485988024434,
          105.59058051584411,
          107.5282745892823,
          110.97419126040067,
          106.93959567152157,
          106.94503890465884,
          106.65019131208496,
          105.11867574016314,
          101.84654224945257,
          99.02650947162864,
          103.67149607820089,
          103.04413763514563,
          103.39158448114327,
          103.2478498063367,
          101.72476904292533,
          102.42204727687935,
          103.07607063704008,
          105.49216905304955,
          106.5494940474707,
          102.68632711612769,
          109.3950649450475
         ],
         "showlegend": false,
         "text": [
          "Change: 9.78%",
          "Change: -9.04%",
          "Change: 6.14%",
          "Change: 26.05%",
          "Change: 8.60%",
          "Change: -0.86%",
          "Change: 6.18%",
          "Change: 0.05%",
          "Change: -5.34%",
          "Change: 3.14%",
          "Change: 2.99%",
          "Change: 1.37%",
          "Change: -3.83%",
          "Change: -0.80%",
          "Change: 2.31%",
          "Change: -1.74%",
          "Change: -4.45%",
          "Change: -3.09%",
          "Change: -2.14%",
          "Change: 1.30%",
          "Change: -2.32%",
          "Change: -0.54%",
          "Change: -1.63%",
          "Change: 1.83%",
          "Change: 6.76%",
          "Change: 0.35%",
          "Change: 0.30%",
          "Change: 4.22%",
          "Change: 0.93%",
          "Change: -1.00%",
          "Change: -0.11%",
          "Change: 3.33%",
          "Change: 3.40%",
          "Change: -1.00%",
          "Change: -5.00%",
          "Change: 3.77%",
          "Change: -3.00%",
          "Change: -3.14%",
          "Change: 4.68%",
          "Change: -2.19%",
          "Change: 0.79%",
          "Change: 1.82%",
          "Change: 1.46%",
          "Change: -1.58%",
          "Change: -1.82%",
          "Change: 0.53%",
          "Change: 1.07%",
          "Change: -0.11%",
          "Change: -1.28%",
          "Change: -5.57%",
          "Change: -0.49%",
          "Change: 1.35%",
          "Change: -0.49%",
          "Change: 0.59%",
          "Change: -1.51%",
          "Change: 0.61%",
          "Change: -3.87%",
          "Change: 0.17%",
          "Change: -0.80%",
          "Change: 2.49%",
          "Change: 2.17%",
          "Change: -0.89%",
          "Change: 0.78%",
          "Change: 0.38%",
          "Change: -0.29%",
          "Change: 0.88%",
          "Change: -0.71%",
          "Change: -3.12%",
          "Change: -3.48%",
          "Change: 1.99%",
          "Change: 2.91%",
          "Change: -2.17%",
          "Change: -6.59%",
          "Change: 1.88%",
          "Change: 3.46%",
          "Change: -3.80%",
          "Change: -0.72%",
          "Change: -0.36%",
          "Change: -1.26%",
          "Change: -2.25%",
          "Change: -2.27%",
          "Change: 3.61%",
          "Change: -0.62%",
          "Change: 0.50%",
          "Change: 0.02%",
          "Change: -2.33%",
          "Change: 0.47%",
          "Change: 0.28%",
          "Change: 2.46%",
          "Change: 0.98%",
          "Change: -3.58%",
          "Change: 6.56%",
          "Change: -0.58%"
         ],
         "type": "candlestick",
         "x": [
          "2021-12-16T16:00:00",
          "2021-12-16T20:00:00",
          "2021-12-17T00:00:00",
          "2021-12-17T04:00:00",
          "2021-12-17T08:00:00",
          "2021-12-17T12:00:00",
          "2021-12-17T16:00:00",
          "2021-12-17T20:00:00",
          "2021-12-18T00:00:00",
          "2021-12-18T04:00:00",
          "2021-12-18T08:00:00",
          "2021-12-18T12:00:00",
          "2021-12-18T16:00:00",
          "2021-12-18T20:00:00",
          "2021-12-19T00:00:00",
          "2021-12-19T04:00:00",
          "2021-12-19T08:00:00",
          "2021-12-19T12:00:00",
          "2021-12-19T16:00:00",
          "2021-12-19T20:00:00",
          "2021-12-20T00:00:00",
          "2021-12-20T04:00:00",
          "2021-12-20T08:00:00",
          "2021-12-20T12:00:00",
          "2021-12-20T16:00:00",
          "2021-12-20T20:00:00",
          "2021-12-21T00:00:00",
          "2021-12-21T04:00:00",
          "2021-12-21T08:00:00",
          "2021-12-21T12:00:00",
          "2021-12-21T16:00:00",
          "2021-12-21T20:00:00",
          "2021-12-22T00:00:00",
          "2021-12-22T04:00:00",
          "2021-12-22T08:00:00",
          "2021-12-22T12:00:00",
          "2021-12-22T16:00:00",
          "2021-12-22T20:00:00",
          "2021-12-23T00:00:00",
          "2021-12-23T04:00:00",
          "2021-12-23T08:00:00",
          "2021-12-23T12:00:00",
          "2021-12-23T16:00:00",
          "2021-12-23T20:00:00",
          "2021-12-24T00:00:00",
          "2021-12-24T04:00:00",
          "2021-12-24T08:00:00",
          "2021-12-24T12:00:00",
          "2021-12-24T16:00:00",
          "2021-12-24T20:00:00",
          "2021-12-25T00:00:00",
          "2021-12-25T04:00:00",
          "2021-12-25T08:00:00",
          "2021-12-25T12:00:00",
          "2021-12-25T16:00:00",
          "2021-12-25T20:00:00",
          "2021-12-26T00:00:00",
          "2021-12-26T04:00:00",
          "2021-12-26T08:00:00",
          "2021-12-26T12:00:00",
          "2021-12-26T16:00:00",
          "2021-12-26T20:00:00",
          "2021-12-27T00:00:00",
          "2021-12-27T04:00:00",
          "2021-12-27T08:00:00",
          "2021-12-27T12:00:00",
          "2021-12-27T16:00:00",
          "2021-12-27T20:00:00",
          "2021-12-28T00:00:00",
          "2021-12-28T04:00:00",
          "2021-12-28T08:00:00",
          "2021-12-28T12:00:00",
          "2021-12-28T16:00:00",
          "2021-12-28T20:00:00",
          "2021-12-29T00:00:00",
          "2021-12-29T04:00:00",
          "2021-12-29T08:00:00",
          "2021-12-29T12:00:00",
          "2021-12-29T16:00:00",
          "2021-12-29T20:00:00",
          "2021-12-30T00:00:00",
          "2021-12-30T04:00:00",
          "2021-12-30T08:00:00",
          "2021-12-30T12:00:00",
          "2021-12-30T16:00:00",
          "2021-12-30T20:00:00",
          "2021-12-31T00:00:00",
          "2021-12-31T04:00:00",
          "2021-12-31T08:00:00",
          "2021-12-31T12:00:00",
          "2021-12-31T16:00:00",
          "2021-12-31T20:00:00",
          "2022-01-01T00:00:00"
         ],
         "xaxis": "x",
         "yaxis": "y"
        },
        {
         "line": {
          "color": "darkblue"
         },
         "mode": "lines",
         "name": "Slow EMA",
         "type": "scatter",
         "x": [
          "2021-12-19T00:00:00",
          "2021-12-19T16:00:00",
          "2021-12-20T08:00:00",
          "2021-12-21T00:00:00",
          "2021-12-21T16:00:00",
          "2021-12-22T08:00:00",
          "2021-12-23T00:00:00",
          "2021-12-23T16:00:00",
          "2021-12-24T08:00:00",
          "2021-12-25T00:00:00",
          "2021-12-25T16:00:00",
          "2021-12-26T08:00:00",
          "2021-12-27T00:00:00",
          "2021-12-27T16:00:00",
          "2021-12-28T08:00:00",
          "2021-12-29T00:00:00",
          "2021-12-29T16:00:00",
          "2021-12-30T08:00:00",
          "2021-12-31T00:00:00",
          "2021-12-31T16:00:00"
         ],
         "y": [
          106.48577875869745,
          107.44849620774244,
          106.0675820186784,
          108.15412701325133,
          112.24396214338478,
          116.28232691773917,
          117.54906315278855,
          118.62149970330252,
          119.50629671766586,
          118.16977240048743,
          116.7188346404115,
          114.62439195892142,
          115.02007114512328,
          116.08459212675653,
          114.74139613062678,
          112.50902594304793,
          109.87047554459724,
          106.63519881251958,
          104.88091690030485,
          104.68108481449757
         ]
        },
        {
         "line": {
          "color": "#003300"
         },
         "mode": "lines",
         "name": "Fast EMA",
         "type": "scatter",
         "x": [
          "2021-12-19T00:00:00",
          "2021-12-19T16:00:00",
          "2021-12-20T08:00:00",
          "2021-12-21T00:00:00",
          "2021-12-21T16:00:00",
          "2021-12-22T08:00:00",
          "2021-12-23T00:00:00",
          "2021-12-23T16:00:00",
          "2021-12-24T08:00:00",
          "2021-12-25T00:00:00",
          "2021-12-25T16:00:00",
          "2021-12-26T08:00:00",
          "2021-12-27T00:00:00",
          "2021-12-27T16:00:00",
          "2021-12-28T08:00:00",
          "2021-12-29T00:00:00",
          "2021-12-29T16:00:00",
          "2021-12-30T08:00:00",
          "2021-12-31T00:00:00",
          "2021-12-31T16:00:00"
         ],
         "y": [
          113.16816923611084,
          109.2824035166059,
          104.81581624487202,
          110.5584948508898,
          116.42065286453938,
          120.48368478458623,
          119.47611428312179,
          120.44911073043292,
          120.80380823765292,
          116.33662157128043,
          114.94912078300376,
          112.15566443712248,
          114.98239809062557,
          117.17551302601164,
          113.86877584295873,
          110.29255626680808,
          106.84268730081524,
          103.14210857887855,
          102.39792702329044,
          103.93453366737975
         ]
        }
       ],
       "layout": {
        "height": 800,
        "legend": {
         "orientation": "h",
         "x": 1,
         "xanchor": "right",
         "y": 1.02,
         "yanchor": "bottom"
        },
        "template": {
         "data": {
          "bar": [
           {
            "error_x": {
             "color": "#2a3f5f"
            },
            "error_y": {
             "color": "#2a3f5f"
            },
            "marker": {
             "line": {
              "color": "#E5ECF6",
              "width": 0.5
             },
             "pattern": {
              "fillmode": "overlay",
              "size": 10,
              "solidity": 0.2
             }
            },
            "type": "bar"
           }
          ],
          "barpolar": [
           {
            "marker": {
             "line": {
              "color": "#E5ECF6",
              "width": 0.5
             },
             "pattern": {
              "fillmode": "overlay",
              "size": 10,
              "solidity": 0.2
             }
            },
            "type": "barpolar"
           }
          ],
          "carpet": [
           {
            "aaxis": {
             "endlinecolor": "#2a3f5f",
             "gridcolor": "white",
             "linecolor": "white",
             "minorgridcolor": "white",
             "startlinecolor": "#2a3f5f"
            },
            "baxis": {
             "endlinecolor": "#2a3f5f",
             "gridcolor": "white",
             "linecolor": "white",
             "minorgridcolor": "white",
             "startlinecolor": "#2a3f5f"
            },
            "type": "carpet"
           }
          ],
          "choropleth": [
           {
            "colorbar": {
             "outlinewidth": 0,
             "ticks": ""
            },
            "type": "choropleth"
           }
          ],
          "contour": [
           {
            "colorbar": {
             "outlinewidth": 0,
             "ticks": ""
            },
            "colorscale": [
             [
              0,
              "#0d0887"
             ],
             [
              0.1111111111111111,
              "#46039f"
             ],
             [
              0.2222222222222222,
              "#7201a8"
             ],
             [
              0.3333333333333333,
              "#9c179e"
             ],
             [
              0.4444444444444444,
              "#bd3786"
             ],
             [
              0.5555555555555556,
              "#d8576b"
             ],
             [
              0.6666666666666666,
              "#ed7953"
             ],
             [
              0.7777777777777778,
              "#fb9f3a"
             ],
             [
              0.8888888888888888,
              "#fdca26"
             ],
             [
              1,
              "#f0f921"
             ]
            ],
            "type": "contour"
           }
          ],
          "contourcarpet": [
           {
            "colorbar": {
             "outlinewidth": 0,
             "ticks": ""
            },
            "type": "contourcarpet"
           }
          ],
          "heatmap": [
           {
            "colorbar": {
             "outlinewidth": 0,
             "ticks": ""
            },
            "colorscale": [
             [
              0,
              "#0d0887"
             ],
             [
              0.1111111111111111,
              "#46039f"
             ],
             [
              0.2222222222222222,
              "#7201a8"
             ],
             [
              0.3333333333333333,
              "#9c179e"
             ],
             [
              0.4444444444444444,
              "#bd3786"
             ],
             [
              0.5555555555555556,
              "#d8576b"
             ],
             [
              0.6666666666666666,
              "#ed7953"
             ],
             [
              0.7777777777777778,
              "#fb9f3a"
             ],
             [
              0.8888888888888888,
              "#fdca26"
             ],
             [
              1,
              "#f0f921"
             ]
            ],
            "type": "heatmap"
           }
          ],
          "heatmapgl": [
           {
            "colorbar": {
             "outlinewidth": 0,
             "ticks": ""
            },
            "colorscale": [
             [
              0,
              "#0d0887"
             ],
             [
              0.1111111111111111,
              "#46039f"
             ],
             [
              0.2222222222222222,
              "#7201a8"
             ],
             [
              0.3333333333333333,
              "#9c179e"
             ],
             [
              0.4444444444444444,
              "#bd3786"
             ],
             [
              0.5555555555555556,
              "#d8576b"
             ],
             [
              0.6666666666666666,
              "#ed7953"
             ],
             [
              0.7777777777777778,
              "#fb9f3a"
             ],
             [
              0.8888888888888888,
              "#fdca26"
             ],
             [
              1,
              "#f0f921"
             ]
            ],
            "type": "heatmapgl"
           }
          ],
          "histogram": [
           {
            "marker": {
             "pattern": {
              "fillmode": "overlay",
              "size": 10,
              "solidity": 0.2
             }
            },
            "type": "histogram"
           }
          ],
          "histogram2d": [
           {
            "colorbar": {
             "outlinewidth": 0,
             "ticks": ""
            },
            "colorscale": [
             [
              0,
              "#0d0887"
             ],
             [
              0.1111111111111111,
              "#46039f"
             ],
             [
              0.2222222222222222,
              "#7201a8"
             ],
             [
              0.3333333333333333,
              "#9c179e"
             ],
             [
              0.4444444444444444,
              "#bd3786"
             ],
             [
              0.5555555555555556,
              "#d8576b"
             ],
             [
              0.6666666666666666,
              "#ed7953"
             ],
             [
              0.7777777777777778,
              "#fb9f3a"
             ],
             [
              0.8888888888888888,
              "#fdca26"
             ],
             [
              1,
              "#f0f921"
             ]
            ],
            "type": "histogram2d"
           }
          ],
          "histogram2dcontour": [
           {
            "colorbar": {
             "outlinewidth": 0,
             "ticks": ""
            },
            "colorscale": [
             [
              0,
              "#0d0887"
             ],
             [
              0.1111111111111111,
              "#46039f"
             ],
             [
              0.2222222222222222,
              "#7201a8"
             ],
             [
              0.3333333333333333,
              "#9c179e"
             ],
             [
              0.4444444444444444,
              "#bd3786"
             ],
             [
              0.5555555555555556,
              "#d8576b"
             ],
             [
              0.6666666666666666,
              "#ed7953"
             ],
             [
              0.7777777777777778,
              "#fb9f3a"
             ],
             [
              0.8888888888888888,
              "#fdca26"
             ],
             [
              1,
              "#f0f921"
             ]
            ],
            "type": "histogram2dcontour"
           }
          ],
          "mesh3d": [
           {
            "colorbar": {
             "outlinewidth": 0,
             "ticks": ""
            },
            "type": "mesh3d"
           }
          ],
          "parcoords": [
           {
            "line": {
             "colorbar": {
              "outlinewidth": 0,
              "ticks": ""
             }
            },
            "type": "parcoords"
           }
          ],
          "pie": [
           {
            "automargin": true,
            "type": "pie"
           }
          ],
          "scatter": [
           {
            "fillpattern": {
             "fillmode": "overlay",
             "size": 10,
             "solidity": 0.2
            },
            "type": "scatter"
           }
          ],
          "scatter3d": [
           {
            "line": {
             "colorbar": {
              "outlinewidth": 0,
              "ticks": ""
             }
            },
            "marker": {
             "colorbar": {
              "outlinewidth": 0,
              "ticks": ""
             }
            },
            "type": "scatter3d"
           }
          ],
          "scattercarpet": [
           {
            "marker": {
             "colorbar": {
              "outlinewidth": 0,
              "ticks": ""
             }
            },
            "type": "scattercarpet"
           }
          ],
          "scattergeo": [
           {
            "marker": {
             "colorbar": {
              "outlinewidth": 0,
              "ticks": ""
             }
            },
            "type": "scattergeo"
           }
          ],
          "scattergl": [
           {
            "marker": {
             "colorbar": {
              "outlinewidth": 0,
              "ticks": ""
             }
            },
            "type": "scattergl"
           }
          ],
          "scattermapbox": [
           {
            "marker": {
             "colorbar": {
              "outlinewidth": 0,
              "ticks": ""
             }
            },
            "type": "scattermapbox"
           }
          ],
          "scatterpolar": [
           {
            "marker": {
             "colorbar": {
              "outlinewidth": 0,
              "ticks": ""
             }
            },
            "type": "scatterpolar"
           }
          ],
          "scatterpolargl": [
           {
            "marker": {
             "colorbar": {
              "outlinewidth": 0,
              "ticks": ""
             }
            },
            "type": "scatterpolargl"
           }
          ],
          "scatterternary": [
           {
            "marker": {
             "colorbar": {
              "outlinewidth": 0,
              "ticks": ""
             }
            },
            "type": "scatterternary"
           }
          ],
          "surface": [
           {
            "colorbar": {
             "outlinewidth": 0,
             "ticks": ""
            },
            "colorscale": [
             [
              0,
              "#0d0887"
             ],
             [
              0.1111111111111111,
              "#46039f"
             ],
             [
              0.2222222222222222,
              "#7201a8"
             ],
             [
              0.3333333333333333,
              "#9c179e"
             ],
             [
              0.4444444444444444,
              "#bd3786"
             ],
             [
              0.5555555555555556,
              "#d8576b"
             ],
             [
              0.6666666666666666,
              "#ed7953"
             ],
             [
              0.7777777777777778,
              "#fb9f3a"
             ],
             [
              0.8888888888888888,
              "#fdca26"
             ],
             [
              1,
              "#f0f921"
             ]
            ],
            "type": "surface"
           }
          ],
          "table": [
           {
            "cells": {
             "fill": {
              "color": "#EBF0F8"
             },
             "line": {
              "color": "white"
             }
            },
            "header": {
             "fill": {
              "color": "#C8D4E3"
             },
             "line": {
              "color": "white"
             }
            },
            "type": "table"
           }
          ]
         },
         "layout": {
          "annotationdefaults": {
           "arrowcolor": "#2a3f5f",
           "arrowhead": 0,
           "arrowwidth": 1
          },
          "autotypenumbers": "strict",
          "coloraxis": {
           "colorbar": {
            "outlinewidth": 0,
            "ticks": ""
           }
          },
          "colorscale": {
           "diverging": [
            [
             0,
             "#8e0152"
            ],
            [
             0.1,
             "#c51b7d"
            ],
            [
             0.2,
             "#de77ae"
            ],
            [
             0.3,
             "#f1b6da"
            ],
            [
             0.4,
             "#fde0ef"
            ],
            [
             0.5,
             "#f7f7f7"
            ],
            [
             0.6,
             "#e6f5d0"
            ],
            [
             0.7,
             "#b8e186"
            ],
            [
             0.8,
             "#7fbc41"
            ],
            [
             0.9,
             "#4d9221"
            ],
            [
             1,
             "#276419"
            ]
           ],
           "sequential": [
            [
             0,
             "#0d0887"
            ],
            [
             0.1111111111111111,
             "#46039f"
            ],
            [
             0.2222222222222222,
             "#7201a8"
            ],
            [
             0.3333333333333333,
             "#9c179e"
            ],
            [
             0.4444444444444444,
             "#bd3786"
            ],
            [
             0.5555555555555556,
             "#d8576b"
            ],
            [
             0.6666666666666666,
             "#ed7953"
            ],
            [
             0.7777777777777778,
             "#fb9f3a"
            ],
            [
             0.8888888888888888,
             "#fdca26"
            ],
            [
             1,
             "#f0f921"
            ]
           ],
           "sequentialminus": [
            [
             0,
             "#0d0887"
            ],
            [
             0.1111111111111111,
             "#46039f"
            ],
            [
             0.2222222222222222,
             "#7201a8"
            ],
            [
             0.3333333333333333,
             "#9c179e"
            ],
            [
             0.4444444444444444,
             "#bd3786"
            ],
            [
             0.5555555555555556,
             "#d8576b"
            ],
            [
             0.6666666666666666,
             "#ed7953"
            ],
            [
             0.7777777777777778,
             "#fb9f3a"
            ],
            [
             0.8888888888888888,
             "#fdca26"
            ],
            [
             1,
             "#f0f921"
            ]
           ]
          },
          "colorway": [
           "#636efa",
           "#EF553B",
           "#00cc96",
           "#ab63fa",
           "#FFA15A",
           "#19d3f3",
           "#FF6692",
           "#B6E880",
           "#FF97FF",
           "#FECB52"
          ],
          "font": {
           "color": "#2a3f5f"
          },
          "geo": {
           "bgcolor": "white",
           "lakecolor": "white",
           "landcolor": "#E5ECF6",
           "showlakes": true,
           "showland": true,
           "subunitcolor": "white"
          },
          "hoverlabel": {
           "align": "left"
          },
          "hovermode": "closest",
          "mapbox": {
           "style": "light"
          },
          "paper_bgcolor": "white",
          "plot_bgcolor": "#E5ECF6",
          "polar": {
           "angularaxis": {
            "gridcolor": "white",
            "linecolor": "white",
            "ticks": ""
           },
           "bgcolor": "#E5ECF6",
           "radialaxis": {
            "gridcolor": "white",
            "linecolor": "white",
            "ticks": ""
           }
          },
          "scene": {
           "xaxis": {
            "backgroundcolor": "#E5ECF6",
            "gridcolor": "white",
            "gridwidth": 2,
            "linecolor": "white",
            "showbackground": true,
            "ticks": "",
            "zerolinecolor": "white"
           },
           "yaxis": {
            "backgroundcolor": "#E5ECF6",
            "gridcolor": "white",
            "gridwidth": 2,
            "linecolor": "white",
            "showbackground": true,
            "ticks": "",
            "zerolinecolor": "white"
           },
           "zaxis": {
            "backgroundcolor": "#E5ECF6",
            "gridcolor": "white",
            "gridwidth": 2,
            "linecolor": "white",
            "showbackground": true,
            "ticks": "",
            "zerolinecolor": "white"
           }
          },
          "shapedefaults": {
           "line": {
            "color": "#2a3f5f"
           }
          },
          "ternary": {
           "aaxis": {
            "gridcolor": "white",
            "linecolor": "white",
            "ticks": ""
           },
           "baxis": {
            "gridcolor": "white",
            "linecolor": "white",
            "ticks": ""
           },
           "bgcolor": "#E5ECF6",
           "caxis": {
            "gridcolor": "white",
            "linecolor": "white",
            "ticks": ""
           }
          },
          "title": {
           "x": 0.05
          },
          "xaxis": {
           "automargin": true,
           "gridcolor": "white",
           "linecolor": "white",
           "ticks": "",
           "title": {
            "standoff": 15
           },
           "zerolinecolor": "white",
           "zerolinewidth": 2
          },
          "yaxis": {
           "automargin": true,
           "gridcolor": "white",
           "linecolor": "white",
           "ticks": "",
           "title": {
            "standoff": 15
           },
           "zerolinecolor": "white",
           "zerolinewidth": 2
          }
         }
        },
        "title": {
         "text": "AVAX/USD EMA crossover example trades"
        },
        "xaxis": {
         "anchor": "y",
         "domain": [
          0,
          0.94
         ],
         "rangeslider": {
          "visible": false
         }
        },
        "yaxis": {
         "anchor": "x",
         "domain": [
          0,
          1
         ],
         "showgrid": true,
         "title": {
          "text": "WAVAX - USDC price"
         }
        },
        "yaxis2": {
         "anchor": "x",
         "overlaying": "y",
         "showgrid": false,
         "side": "right",
         "title": {
          "text": "Volume $"
         }
        }
       }
      }
     },
     "metadata": {},
     "output_type": "display_data"
    }
   ],
   "source": [
    "from tradeexecutor.visual.single_pair import visualise_single_pair\n",
    "\n",
    "figure = visualise_single_pair(\n",
    "    state,\n",
    "    universe.universe.candles,\n",
    "    start_at=start_at,\n",
    "    end_at=end_at)\n",
    "\n",
    "figure.show()"
   ]
  },
  {
   "cell_type": "code",
   "execution_count": 31,
   "metadata": {},
   "outputs": [
    {
     "data": {
      "application/vnd.plotly.v1+json": {
       "config": {
        "plotlyServerURL": "https://plot.ly"
       },
       "data": [
        {
         "line": {
          "color": "#008800"
         },
         "mode": "lines",
         "name": "AVAX/USD EMA crossover example",
         "type": "scatter",
         "x": [
          "2020-06-01T00:00:00",
          "2020-06-01T16:00:00",
          "2020-06-02T08:00:00",
          "2020-06-03T00:00:00",
          "2020-06-03T16:00:00",
          "2020-06-04T08:00:00",
          "2020-06-05T00:00:00",
          "2020-06-05T16:00:00",
          "2020-06-06T08:00:00",
          "2020-06-07T00:00:00",
          "2020-06-07T16:00:00",
          "2020-06-08T08:00:00",
          "2020-06-09T00:00:00",
          "2020-06-09T16:00:00",
          "2020-06-10T08:00:00",
          "2020-06-11T00:00:00",
          "2020-06-11T16:00:00",
          "2020-06-12T08:00:00",
          "2020-06-13T00:00:00",
          "2020-06-13T16:00:00",
          "2020-06-14T08:00:00",
          "2020-06-15T00:00:00",
          "2020-06-15T16:00:00",
          "2020-06-16T08:00:00",
          "2020-06-17T00:00:00",
          "2020-06-17T16:00:00",
          "2020-06-18T08:00:00",
          "2020-06-19T00:00:00",
          "2020-06-19T16:00:00",
          "2020-06-20T08:00:00",
          "2020-06-21T00:00:00",
          "2020-06-21T16:00:00",
          "2020-06-22T08:00:00",
          "2020-06-23T00:00:00",
          "2020-06-23T16:00:00",
          "2020-06-24T08:00:00",
          "2020-06-25T00:00:00",
          "2020-06-25T16:00:00",
          "2020-06-26T08:00:00",
          "2020-06-27T00:00:00",
          "2020-06-27T16:00:00",
          "2020-06-28T08:00:00",
          "2020-06-29T00:00:00",
          "2020-06-29T16:00:00",
          "2020-06-30T08:00:00",
          "2020-07-01T00:00:00",
          "2020-07-01T16:00:00",
          "2020-07-02T08:00:00",
          "2020-07-03T00:00:00",
          "2020-07-03T16:00:00",
          "2020-07-04T08:00:00",
          "2020-07-05T00:00:00",
          "2020-07-05T16:00:00",
          "2020-07-06T08:00:00",
          "2020-07-07T00:00:00",
          "2020-07-07T16:00:00",
          "2020-07-08T08:00:00",
          "2020-07-09T00:00:00",
          "2020-07-09T16:00:00",
          "2020-07-10T08:00:00",
          "2020-07-11T00:00:00",
          "2020-07-11T16:00:00",
          "2020-07-12T08:00:00",
          "2020-07-13T00:00:00",
          "2020-07-13T16:00:00",
          "2020-07-14T08:00:00",
          "2020-07-15T00:00:00",
          "2020-07-15T16:00:00",
          "2020-07-16T08:00:00",
          "2020-07-17T00:00:00",
          "2020-07-17T16:00:00",
          "2020-07-18T08:00:00",
          "2020-07-19T00:00:00",
          "2020-07-19T16:00:00",
          "2020-07-20T08:00:00",
          "2020-07-21T00:00:00",
          "2020-07-21T16:00:00",
          "2020-07-22T08:00:00",
          "2020-07-23T00:00:00",
          "2020-07-23T16:00:00",
          "2020-07-24T08:00:00",
          "2020-07-25T00:00:00",
          "2020-07-25T16:00:00",
          "2020-07-26T08:00:00",
          "2020-07-27T00:00:00",
          "2020-07-27T16:00:00",
          "2020-07-28T08:00:00",
          "2020-07-29T00:00:00",
          "2020-07-29T16:00:00",
          "2020-07-30T08:00:00",
          "2020-07-31T00:00:00",
          "2020-07-31T16:00:00",
          "2020-08-01T08:00:00",
          "2020-08-02T00:00:00",
          "2020-08-02T16:00:00",
          "2020-08-03T08:00:00",
          "2020-08-04T00:00:00",
          "2020-08-04T16:00:00",
          "2020-08-05T08:00:00",
          "2020-08-06T00:00:00",
          "2020-08-06T16:00:00",
          "2020-08-07T08:00:00",
          "2020-08-08T00:00:00",
          "2020-08-08T16:00:00",
          "2020-08-09T08:00:00",
          "2020-08-10T00:00:00",
          "2020-08-10T16:00:00",
          "2020-08-11T08:00:00",
          "2020-08-12T00:00:00",
          "2020-08-12T16:00:00",
          "2020-08-13T08:00:00",
          "2020-08-14T00:00:00",
          "2020-08-14T16:00:00",
          "2020-08-15T08:00:00",
          "2020-08-16T00:00:00",
          "2020-08-16T16:00:00",
          "2020-08-17T08:00:00",
          "2020-08-18T00:00:00",
          "2020-08-18T16:00:00",
          "2020-08-19T08:00:00",
          "2020-08-20T00:00:00",
          "2020-08-20T16:00:00",
          "2020-08-21T08:00:00",
          "2020-08-22T00:00:00",
          "2020-08-22T16:00:00",
          "2020-08-23T08:00:00",
          "2020-08-24T00:00:00",
          "2020-08-24T16:00:00",
          "2020-08-25T08:00:00",
          "2020-08-26T00:00:00",
          "2020-08-26T16:00:00",
          "2020-08-27T08:00:00",
          "2020-08-28T00:00:00",
          "2020-08-28T16:00:00",
          "2020-08-29T08:00:00",
          "2020-08-30T00:00:00",
          "2020-08-30T16:00:00",
          "2020-08-31T08:00:00",
          "2020-09-01T00:00:00",
          "2020-09-01T16:00:00",
          "2020-09-02T08:00:00",
          "2020-09-03T00:00:00",
          "2020-09-03T16:00:00",
          "2020-09-04T08:00:00",
          "2020-09-05T00:00:00",
          "2020-09-05T16:00:00",
          "2020-09-06T08:00:00",
          "2020-09-07T00:00:00",
          "2020-09-07T16:00:00",
          "2020-09-08T08:00:00",
          "2020-09-09T00:00:00",
          "2020-09-09T16:00:00",
          "2020-09-10T08:00:00",
          "2020-09-11T00:00:00",
          "2020-09-11T16:00:00",
          "2020-09-12T08:00:00",
          "2020-09-13T00:00:00",
          "2020-09-13T16:00:00",
          "2020-09-14T08:00:00",
          "2020-09-15T00:00:00",
          "2020-09-15T16:00:00",
          "2020-09-16T08:00:00",
          "2020-09-17T00:00:00",
          "2020-09-17T16:00:00",
          "2020-09-18T08:00:00",
          "2020-09-19T00:00:00",
          "2020-09-19T16:00:00",
          "2020-09-20T08:00:00",
          "2020-09-21T00:00:00",
          "2020-09-21T16:00:00",
          "2020-09-22T08:00:00",
          "2020-09-23T00:00:00",
          "2020-09-23T16:00:00",
          "2020-09-24T08:00:00",
          "2020-09-25T00:00:00",
          "2020-09-25T16:00:00",
          "2020-09-26T08:00:00",
          "2020-09-27T00:00:00",
          "2020-09-27T16:00:00",
          "2020-09-28T08:00:00",
          "2020-09-29T00:00:00",
          "2020-09-29T16:00:00",
          "2020-09-30T08:00:00",
          "2020-10-01T00:00:00",
          "2020-10-01T16:00:00",
          "2020-10-02T08:00:00",
          "2020-10-03T00:00:00",
          "2020-10-03T16:00:00",
          "2020-10-04T08:00:00",
          "2020-10-05T00:00:00",
          "2020-10-05T16:00:00",
          "2020-10-06T08:00:00",
          "2020-10-07T00:00:00",
          "2020-10-07T16:00:00",
          "2020-10-08T08:00:00",
          "2020-10-09T00:00:00",
          "2020-10-09T16:00:00",
          "2020-10-10T08:00:00",
          "2020-10-11T00:00:00",
          "2020-10-11T16:00:00",
          "2020-10-12T08:00:00",
          "2020-10-13T00:00:00",
          "2020-10-13T16:00:00",
          "2020-10-14T08:00:00",
          "2020-10-15T00:00:00",
          "2020-10-15T16:00:00",
          "2020-10-16T08:00:00",
          "2020-10-17T00:00:00",
          "2020-10-17T16:00:00",
          "2020-10-18T08:00:00",
          "2020-10-19T00:00:00",
          "2020-10-19T16:00:00",
          "2020-10-20T08:00:00",
          "2020-10-21T00:00:00",
          "2020-10-21T16:00:00",
          "2020-10-22T08:00:00",
          "2020-10-23T00:00:00",
          "2020-10-23T16:00:00",
          "2020-10-24T08:00:00",
          "2020-10-25T00:00:00",
          "2020-10-25T16:00:00",
          "2020-10-26T08:00:00",
          "2020-10-27T00:00:00",
          "2020-10-27T16:00:00",
          "2020-10-28T08:00:00",
          "2020-10-29T00:00:00",
          "2020-10-29T16:00:00",
          "2020-10-30T08:00:00",
          "2020-10-31T00:00:00",
          "2020-10-31T16:00:00",
          "2020-11-01T08:00:00",
          "2020-11-02T00:00:00",
          "2020-11-02T16:00:00",
          "2020-11-03T08:00:00",
          "2020-11-04T00:00:00",
          "2020-11-04T16:00:00",
          "2020-11-05T08:00:00",
          "2020-11-06T00:00:00",
          "2020-11-06T16:00:00",
          "2020-11-07T08:00:00",
          "2020-11-08T00:00:00",
          "2020-11-08T16:00:00",
          "2020-11-09T08:00:00",
          "2020-11-10T00:00:00",
          "2020-11-10T16:00:00",
          "2020-11-11T08:00:00",
          "2020-11-12T00:00:00",
          "2020-11-12T16:00:00",
          "2020-11-13T08:00:00",
          "2020-11-14T00:00:00",
          "2020-11-14T16:00:00",
          "2020-11-15T08:00:00",
          "2020-11-16T00:00:00",
          "2020-11-16T16:00:00",
          "2020-11-17T08:00:00",
          "2020-11-18T00:00:00",
          "2020-11-18T16:00:00",
          "2020-11-19T08:00:00",
          "2020-11-20T00:00:00",
          "2020-11-20T16:00:00",
          "2020-11-21T08:00:00",
          "2020-11-22T00:00:00",
          "2020-11-22T16:00:00",
          "2020-11-23T08:00:00",
          "2020-11-24T00:00:00",
          "2020-11-24T16:00:00",
          "2020-11-25T08:00:00",
          "2020-11-26T00:00:00",
          "2020-11-26T16:00:00",
          "2020-11-27T08:00:00",
          "2020-11-28T00:00:00",
          "2020-11-28T16:00:00",
          "2020-11-29T08:00:00",
          "2020-11-30T00:00:00",
          "2020-11-30T16:00:00",
          "2020-12-01T08:00:00",
          "2020-12-02T00:00:00",
          "2020-12-02T16:00:00",
          "2020-12-03T08:00:00",
          "2020-12-04T00:00:00",
          "2020-12-04T16:00:00",
          "2020-12-05T08:00:00",
          "2020-12-06T00:00:00",
          "2020-12-06T16:00:00",
          "2020-12-07T08:00:00",
          "2020-12-08T00:00:00",
          "2020-12-08T16:00:00",
          "2020-12-09T08:00:00",
          "2020-12-10T00:00:00",
          "2020-12-10T16:00:00",
          "2020-12-11T08:00:00",
          "2020-12-12T00:00:00",
          "2020-12-12T16:00:00",
          "2020-12-13T08:00:00",
          "2020-12-14T00:00:00",
          "2020-12-14T16:00:00",
          "2020-12-15T08:00:00",
          "2020-12-16T00:00:00",
          "2020-12-16T16:00:00",
          "2020-12-17T08:00:00",
          "2020-12-18T00:00:00",
          "2020-12-18T16:00:00",
          "2020-12-19T08:00:00",
          "2020-12-20T00:00:00",
          "2020-12-20T16:00:00",
          "2020-12-21T08:00:00",
          "2020-12-22T00:00:00",
          "2020-12-22T16:00:00",
          "2020-12-23T08:00:00",
          "2020-12-24T00:00:00",
          "2020-12-24T16:00:00",
          "2020-12-25T08:00:00",
          "2020-12-26T00:00:00",
          "2020-12-26T16:00:00",
          "2020-12-27T08:00:00",
          "2020-12-28T00:00:00",
          "2020-12-28T16:00:00",
          "2020-12-29T08:00:00",
          "2020-12-30T00:00:00",
          "2020-12-30T16:00:00",
          "2020-12-31T08:00:00",
          "2021-01-01T00:00:00",
          "2021-01-01T16:00:00",
          "2021-01-02T08:00:00",
          "2021-01-03T00:00:00",
          "2021-01-03T16:00:00",
          "2021-01-04T08:00:00",
          "2021-01-05T00:00:00",
          "2021-01-05T16:00:00",
          "2021-01-06T08:00:00",
          "2021-01-07T00:00:00",
          "2021-01-07T16:00:00",
          "2021-01-08T08:00:00",
          "2021-01-09T00:00:00",
          "2021-01-09T16:00:00",
          "2021-01-10T08:00:00",
          "2021-01-11T00:00:00",
          "2021-01-11T16:00:00",
          "2021-01-12T08:00:00",
          "2021-01-13T00:00:00",
          "2021-01-13T16:00:00",
          "2021-01-14T08:00:00",
          "2021-01-15T00:00:00",
          "2021-01-15T16:00:00",
          "2021-01-16T08:00:00",
          "2021-01-17T00:00:00",
          "2021-01-17T16:00:00",
          "2021-01-18T08:00:00",
          "2021-01-19T00:00:00",
          "2021-01-19T16:00:00",
          "2021-01-20T08:00:00",
          "2021-01-21T00:00:00",
          "2021-01-21T16:00:00",
          "2021-01-22T08:00:00",
          "2021-01-23T00:00:00",
          "2021-01-23T16:00:00",
          "2021-01-24T08:00:00",
          "2021-01-25T00:00:00",
          "2021-01-25T16:00:00",
          "2021-01-26T08:00:00",
          "2021-01-27T00:00:00",
          "2021-01-27T16:00:00",
          "2021-01-28T08:00:00",
          "2021-01-29T00:00:00",
          "2021-01-29T16:00:00",
          "2021-01-30T08:00:00",
          "2021-01-31T00:00:00",
          "2021-01-31T16:00:00",
          "2021-02-01T08:00:00",
          "2021-02-02T00:00:00",
          "2021-02-02T16:00:00",
          "2021-02-03T08:00:00",
          "2021-02-04T00:00:00",
          "2021-02-04T16:00:00",
          "2021-02-05T08:00:00",
          "2021-02-06T00:00:00",
          "2021-02-06T16:00:00",
          "2021-02-07T08:00:00",
          "2021-02-08T00:00:00",
          "2021-02-08T16:00:00",
          "2021-02-09T08:00:00",
          "2021-02-10T00:00:00",
          "2021-02-10T16:00:00",
          "2021-02-11T08:00:00",
          "2021-02-12T00:00:00",
          "2021-02-12T16:00:00",
          "2021-02-13T08:00:00",
          "2021-02-14T00:00:00",
          "2021-02-14T16:00:00",
          "2021-02-15T08:00:00",
          "2021-02-16T00:00:00",
          "2021-02-16T16:00:00",
          "2021-02-17T08:00:00",
          "2021-02-18T00:00:00",
          "2021-02-18T16:00:00",
          "2021-02-19T08:00:00",
          "2021-02-20T00:00:00",
          "2021-02-20T16:00:00",
          "2021-02-21T08:00:00",
          "2021-02-22T00:00:00",
          "2021-02-22T16:00:00",
          "2021-02-23T08:00:00",
          "2021-02-24T00:00:00",
          "2021-02-24T16:00:00",
          "2021-02-25T08:00:00",
          "2021-02-26T00:00:00",
          "2021-02-26T16:00:00",
          "2021-02-27T08:00:00",
          "2021-02-28T00:00:00",
          "2021-02-28T16:00:00",
          "2021-03-01T08:00:00",
          "2021-03-02T00:00:00",
          "2021-03-02T16:00:00",
          "2021-03-03T08:00:00",
          "2021-03-04T00:00:00",
          "2021-03-04T16:00:00",
          "2021-03-05T08:00:00",
          "2021-03-06T00:00:00",
          "2021-03-06T16:00:00",
          "2021-03-07T08:00:00",
          "2021-03-08T00:00:00",
          "2021-03-08T16:00:00",
          "2021-03-09T08:00:00",
          "2021-03-10T00:00:00",
          "2021-03-10T16:00:00",
          "2021-03-11T08:00:00",
          "2021-03-12T00:00:00",
          "2021-03-12T16:00:00",
          "2021-03-13T08:00:00",
          "2021-03-14T00:00:00",
          "2021-03-14T16:00:00",
          "2021-03-15T08:00:00",
          "2021-03-16T00:00:00",
          "2021-03-16T16:00:00",
          "2021-03-17T08:00:00",
          "2021-03-18T00:00:00",
          "2021-03-18T16:00:00",
          "2021-03-19T08:00:00",
          "2021-03-20T00:00:00",
          "2021-03-20T16:00:00",
          "2021-03-21T08:00:00",
          "2021-03-22T00:00:00",
          "2021-03-22T16:00:00",
          "2021-03-23T08:00:00",
          "2021-03-24T00:00:00",
          "2021-03-24T16:00:00",
          "2021-03-25T08:00:00",
          "2021-03-26T00:00:00",
          "2021-03-26T16:00:00",
          "2021-03-27T08:00:00",
          "2021-03-28T00:00:00",
          "2021-03-28T16:00:00",
          "2021-03-29T08:00:00",
          "2021-03-30T00:00:00",
          "2021-03-30T16:00:00",
          "2021-03-31T08:00:00",
          "2021-04-01T00:00:00",
          "2021-04-01T16:00:00",
          "2021-04-02T08:00:00",
          "2021-04-03T00:00:00",
          "2021-04-03T16:00:00",
          "2021-04-04T08:00:00",
          "2021-04-05T00:00:00",
          "2021-04-05T16:00:00",
          "2021-04-06T08:00:00",
          "2021-04-07T00:00:00",
          "2021-04-07T16:00:00",
          "2021-04-08T08:00:00",
          "2021-04-09T00:00:00",
          "2021-04-09T16:00:00",
          "2021-04-10T08:00:00",
          "2021-04-11T00:00:00",
          "2021-04-11T16:00:00",
          "2021-04-12T08:00:00",
          "2021-04-13T00:00:00",
          "2021-04-13T16:00:00",
          "2021-04-14T08:00:00",
          "2021-04-15T00:00:00",
          "2021-04-15T16:00:00",
          "2021-04-16T08:00:00",
          "2021-04-17T00:00:00",
          "2021-04-17T16:00:00",
          "2021-04-18T08:00:00",
          "2021-04-19T00:00:00",
          "2021-04-19T16:00:00",
          "2021-04-20T08:00:00",
          "2021-04-21T00:00:00",
          "2021-04-21T16:00:00",
          "2021-04-22T08:00:00",
          "2021-04-23T00:00:00",
          "2021-04-23T16:00:00",
          "2021-04-24T08:00:00",
          "2021-04-25T00:00:00",
          "2021-04-25T16:00:00",
          "2021-04-26T08:00:00",
          "2021-04-27T00:00:00",
          "2021-04-27T16:00:00",
          "2021-04-28T08:00:00",
          "2021-04-29T00:00:00",
          "2021-04-29T16:00:00",
          "2021-04-30T08:00:00",
          "2021-05-01T00:00:00",
          "2021-05-01T16:00:00",
          "2021-05-02T08:00:00",
          "2021-05-03T00:00:00",
          "2021-05-03T16:00:00",
          "2021-05-04T08:00:00",
          "2021-05-05T00:00:00",
          "2021-05-05T16:00:00",
          "2021-05-06T08:00:00",
          "2021-05-07T00:00:00",
          "2021-05-07T16:00:00",
          "2021-05-08T08:00:00",
          "2021-05-09T00:00:00",
          "2021-05-09T16:00:00",
          "2021-05-10T08:00:00",
          "2021-05-11T00:00:00",
          "2021-05-11T16:00:00",
          "2021-05-12T08:00:00",
          "2021-05-13T00:00:00",
          "2021-05-13T16:00:00",
          "2021-05-14T08:00:00",
          "2021-05-15T00:00:00",
          "2021-05-15T16:00:00",
          "2021-05-16T08:00:00",
          "2021-05-17T00:00:00",
          "2021-05-17T16:00:00",
          "2021-05-18T08:00:00",
          "2021-05-19T00:00:00",
          "2021-05-19T16:00:00",
          "2021-05-20T08:00:00",
          "2021-05-21T00:00:00",
          "2021-05-21T16:00:00",
          "2021-05-22T08:00:00",
          "2021-05-23T00:00:00",
          "2021-05-23T16:00:00",
          "2021-05-24T08:00:00",
          "2021-05-25T00:00:00",
          "2021-05-25T16:00:00",
          "2021-05-26T08:00:00",
          "2021-05-27T00:00:00",
          "2021-05-27T16:00:00",
          "2021-05-28T08:00:00",
          "2021-05-29T00:00:00",
          "2021-05-29T16:00:00",
          "2021-05-30T08:00:00",
          "2021-05-31T00:00:00",
          "2021-05-31T16:00:00",
          "2021-06-01T08:00:00",
          "2021-06-02T00:00:00",
          "2021-06-02T16:00:00",
          "2021-06-03T08:00:00",
          "2021-06-04T00:00:00",
          "2021-06-04T16:00:00",
          "2021-06-05T08:00:00",
          "2021-06-06T00:00:00",
          "2021-06-06T16:00:00",
          "2021-06-07T08:00:00",
          "2021-06-08T00:00:00",
          "2021-06-08T16:00:00",
          "2021-06-09T08:00:00",
          "2021-06-10T00:00:00",
          "2021-06-10T16:00:00",
          "2021-06-11T08:00:00",
          "2021-06-12T00:00:00",
          "2021-06-12T16:00:00",
          "2021-06-13T08:00:00",
          "2021-06-14T00:00:00",
          "2021-06-14T16:00:00",
          "2021-06-15T08:00:00",
          "2021-06-16T00:00:00",
          "2021-06-16T16:00:00",
          "2021-06-17T08:00:00",
          "2021-06-18T00:00:00",
          "2021-06-18T16:00:00",
          "2021-06-19T08:00:00",
          "2021-06-20T00:00:00",
          "2021-06-20T16:00:00",
          "2021-06-21T08:00:00",
          "2021-06-22T00:00:00",
          "2021-06-22T16:00:00",
          "2021-06-23T08:00:00",
          "2021-06-24T00:00:00",
          "2021-06-24T16:00:00",
          "2021-06-25T08:00:00",
          "2021-06-26T00:00:00",
          "2021-06-26T16:00:00",
          "2021-06-27T08:00:00",
          "2021-06-28T00:00:00",
          "2021-06-28T16:00:00",
          "2021-06-29T08:00:00",
          "2021-06-30T00:00:00",
          "2021-06-30T16:00:00",
          "2021-07-01T08:00:00",
          "2021-07-02T00:00:00",
          "2021-07-02T16:00:00",
          "2021-07-03T08:00:00",
          "2021-07-04T00:00:00",
          "2021-07-04T16:00:00",
          "2021-07-05T08:00:00",
          "2021-07-06T00:00:00",
          "2021-07-06T16:00:00",
          "2021-07-07T08:00:00",
          "2021-07-08T00:00:00",
          "2021-07-08T16:00:00",
          "2021-07-09T08:00:00",
          "2021-07-10T00:00:00",
          "2021-07-10T16:00:00",
          "2021-07-11T08:00:00",
          "2021-07-12T00:00:00",
          "2021-07-12T16:00:00",
          "2021-07-13T08:00:00",
          "2021-07-14T00:00:00",
          "2021-07-14T16:00:00",
          "2021-07-15T08:00:00",
          "2021-07-16T00:00:00",
          "2021-07-16T16:00:00",
          "2021-07-17T08:00:00",
          "2021-07-18T00:00:00",
          "2021-07-18T16:00:00",
          "2021-07-19T08:00:00",
          "2021-07-20T00:00:00",
          "2021-07-20T16:00:00",
          "2021-07-21T08:00:00",
          "2021-07-22T00:00:00",
          "2021-07-22T16:00:00",
          "2021-07-23T08:00:00",
          "2021-07-24T00:00:00",
          "2021-07-24T16:00:00",
          "2021-07-25T08:00:00",
          "2021-07-26T00:00:00",
          "2021-07-26T16:00:00",
          "2021-07-27T08:00:00",
          "2021-07-28T00:00:00",
          "2021-07-28T16:00:00",
          "2021-07-29T08:00:00",
          "2021-07-30T00:00:00",
          "2021-07-30T16:00:00",
          "2021-07-31T08:00:00",
          "2021-08-01T00:00:00",
          "2021-08-01T16:00:00",
          "2021-08-02T08:00:00",
          "2021-08-03T00:00:00",
          "2021-08-03T16:00:00",
          "2021-08-04T08:00:00",
          "2021-08-05T00:00:00",
          "2021-08-05T16:00:00",
          "2021-08-06T08:00:00",
          "2021-08-07T00:00:00",
          "2021-08-07T16:00:00",
          "2021-08-08T08:00:00",
          "2021-08-09T00:00:00",
          "2021-08-09T16:00:00",
          "2021-08-10T08:00:00",
          "2021-08-11T00:00:00",
          "2021-08-11T16:00:00",
          "2021-08-12T08:00:00",
          "2021-08-13T00:00:00",
          "2021-08-13T16:00:00",
          "2021-08-14T08:00:00",
          "2021-08-15T00:00:00",
          "2021-08-15T16:00:00",
          "2021-08-16T08:00:00",
          "2021-08-17T00:00:00",
          "2021-08-17T16:00:00",
          "2021-08-18T08:00:00",
          "2021-08-19T00:00:00",
          "2021-08-19T16:00:00",
          "2021-08-20T08:00:00",
          "2021-08-21T00:00:00",
          "2021-08-21T16:00:00",
          "2021-08-22T08:00:00",
          "2021-08-23T00:00:00",
          "2021-08-23T16:00:00",
          "2021-08-24T08:00:00",
          "2021-08-25T00:00:00",
          "2021-08-25T16:00:00",
          "2021-08-26T08:00:00",
          "2021-08-27T00:00:00",
          "2021-08-27T16:00:00",
          "2021-08-28T08:00:00",
          "2021-08-29T00:00:00",
          "2021-08-29T16:00:00",
          "2021-08-30T08:00:00",
          "2021-08-31T00:00:00",
          "2021-08-31T16:00:00",
          "2021-09-01T08:00:00",
          "2021-09-02T00:00:00",
          "2021-09-02T16:00:00",
          "2021-09-03T08:00:00",
          "2021-09-04T00:00:00",
          "2021-09-04T16:00:00",
          "2021-09-05T08:00:00",
          "2021-09-06T00:00:00",
          "2021-09-06T16:00:00",
          "2021-09-07T08:00:00",
          "2021-09-08T00:00:00",
          "2021-09-08T16:00:00",
          "2021-09-09T08:00:00",
          "2021-09-10T00:00:00",
          "2021-09-10T16:00:00",
          "2021-09-11T08:00:00",
          "2021-09-12T00:00:00",
          "2021-09-12T16:00:00",
          "2021-09-13T08:00:00",
          "2021-09-14T00:00:00",
          "2021-09-14T16:00:00",
          "2021-09-15T08:00:00",
          "2021-09-16T00:00:00",
          "2021-09-16T16:00:00",
          "2021-09-17T08:00:00",
          "2021-09-18T00:00:00",
          "2021-09-18T16:00:00",
          "2021-09-19T08:00:00",
          "2021-09-20T00:00:00",
          "2021-09-20T16:00:00",
          "2021-09-21T08:00:00",
          "2021-09-22T00:00:00",
          "2021-09-22T16:00:00",
          "2021-09-23T08:00:00",
          "2021-09-24T00:00:00",
          "2021-09-24T16:00:00",
          "2021-09-25T08:00:00",
          "2021-09-26T00:00:00",
          "2021-09-26T16:00:00",
          "2021-09-27T08:00:00",
          "2021-09-28T00:00:00",
          "2021-09-28T16:00:00",
          "2021-09-29T08:00:00",
          "2021-09-30T00:00:00",
          "2021-09-30T16:00:00",
          "2021-10-01T08:00:00",
          "2021-10-02T00:00:00",
          "2021-10-02T16:00:00",
          "2021-10-03T08:00:00",
          "2021-10-04T00:00:00",
          "2021-10-04T16:00:00",
          "2021-10-05T08:00:00",
          "2021-10-06T00:00:00",
          "2021-10-06T16:00:00",
          "2021-10-07T08:00:00",
          "2021-10-08T00:00:00",
          "2021-10-08T16:00:00",
          "2021-10-09T08:00:00",
          "2021-10-10T00:00:00",
          "2021-10-10T16:00:00",
          "2021-10-11T08:00:00",
          "2021-10-12T00:00:00",
          "2021-10-12T16:00:00",
          "2021-10-13T08:00:00",
          "2021-10-14T00:00:00",
          "2021-10-14T16:00:00",
          "2021-10-15T08:00:00",
          "2021-10-16T00:00:00",
          "2021-10-16T16:00:00",
          "2021-10-17T08:00:00",
          "2021-10-18T00:00:00",
          "2021-10-18T16:00:00",
          "2021-10-19T08:00:00",
          "2021-10-20T00:00:00",
          "2021-10-20T16:00:00",
          "2021-10-21T08:00:00",
          "2021-10-22T00:00:00",
          "2021-10-22T16:00:00",
          "2021-10-23T08:00:00",
          "2021-10-24T00:00:00",
          "2021-10-24T16:00:00",
          "2021-10-25T08:00:00",
          "2021-10-26T00:00:00",
          "2021-10-26T16:00:00",
          "2021-10-27T08:00:00",
          "2021-10-28T00:00:00",
          "2021-10-28T16:00:00",
          "2021-10-29T08:00:00",
          "2021-10-30T00:00:00",
          "2021-10-30T16:00:00",
          "2021-10-31T08:00:00",
          "2021-11-01T00:00:00",
          "2021-11-01T16:00:00",
          "2021-11-02T08:00:00",
          "2021-11-03T00:00:00",
          "2021-11-03T16:00:00",
          "2021-11-04T08:00:00",
          "2021-11-05T00:00:00",
          "2021-11-05T16:00:00",
          "2021-11-06T08:00:00",
          "2021-11-07T00:00:00",
          "2021-11-07T16:00:00",
          "2021-11-08T08:00:00",
          "2021-11-09T00:00:00",
          "2021-11-09T16:00:00",
          "2021-11-10T08:00:00",
          "2021-11-11T00:00:00",
          "2021-11-11T16:00:00",
          "2021-11-12T08:00:00",
          "2021-11-13T00:00:00",
          "2021-11-13T16:00:00",
          "2021-11-14T08:00:00",
          "2021-11-15T00:00:00",
          "2021-11-15T16:00:00",
          "2021-11-16T08:00:00",
          "2021-11-17T00:00:00",
          "2021-11-17T16:00:00",
          "2021-11-18T08:00:00",
          "2021-11-19T00:00:00",
          "2021-11-19T16:00:00",
          "2021-11-20T08:00:00",
          "2021-11-21T00:00:00",
          "2021-11-21T16:00:00",
          "2021-11-22T08:00:00",
          "2021-11-23T00:00:00",
          "2021-11-23T16:00:00",
          "2021-11-24T08:00:00",
          "2021-11-25T00:00:00",
          "2021-11-25T16:00:00",
          "2021-11-26T08:00:00",
          "2021-11-27T00:00:00",
          "2021-11-27T16:00:00",
          "2021-11-28T08:00:00",
          "2021-11-29T00:00:00",
          "2021-11-29T16:00:00",
          "2021-11-30T08:00:00",
          "2021-12-01T00:00:00",
          "2021-12-01T16:00:00",
          "2021-12-02T08:00:00",
          "2021-12-03T00:00:00",
          "2021-12-03T16:00:00",
          "2021-12-04T08:00:00",
          "2021-12-05T00:00:00",
          "2021-12-05T16:00:00",
          "2021-12-06T08:00:00",
          "2021-12-07T00:00:00",
          "2021-12-07T16:00:00",
          "2021-12-08T08:00:00",
          "2021-12-09T00:00:00",
          "2021-12-09T16:00:00",
          "2021-12-10T08:00:00",
          "2021-12-11T00:00:00",
          "2021-12-11T16:00:00",
          "2021-12-12T08:00:00",
          "2021-12-13T00:00:00",
          "2021-12-13T16:00:00",
          "2021-12-14T08:00:00",
          "2021-12-15T00:00:00",
          "2021-12-15T16:00:00",
          "2021-12-16T08:00:00",
          "2021-12-17T00:00:00",
          "2021-12-17T16:00:00",
          "2021-12-18T08:00:00",
          "2021-12-19T00:00:00",
          "2021-12-19T16:00:00",
          "2021-12-20T08:00:00",
          "2021-12-21T00:00:00",
          "2021-12-21T16:00:00",
          "2021-12-22T08:00:00",
          "2021-12-23T00:00:00",
          "2021-12-23T16:00:00",
          "2021-12-24T08:00:00",
          "2021-12-25T00:00:00",
          "2021-12-25T16:00:00",
          "2021-12-26T08:00:00",
          "2021-12-27T00:00:00",
          "2021-12-27T16:00:00",
          "2021-12-28T08:00:00",
          "2021-12-29T00:00:00",
          "2021-12-29T16:00:00",
          "2021-12-30T08:00:00",
          "2021-12-31T00:00:00",
          "2021-12-31T16:00:00"
         ],
         "y": [
          10000,
          10000,
          10000,
          10000,
          10000,
          10000,
          10000,
          10000,
          10000,
          10000,
          10000,
          10000,
          10000,
          10000,
          10000,
          10000,
          10000,
          10000,
          10000,
          10000,
          10000,
          10000,
          10000,
          10000,
          10000,
          10000,
          10000,
          10000,
          10000,
          10000,
          10000,
          10000,
          10000,
          10000,
          10000,
          10000,
          10000,
          10000,
          10000,
          10000,
          10000,
          10000,
          10000,
          10000,
          10000,
          10000,
          10000,
          10000,
          10000,
          10000,
          10000,
          10000,
          10000,
          10000,
          10000,
          10000,
          10000,
          10000,
          10000,
          10000,
          10000,
          10000,
          10000,
          10000,
          10000,
          10000,
          10000,
          10000,
          10000,
          10000,
          10000,
          10000,
          10000,
          10000,
          10000,
          10000,
          10000,
          10000,
          10000,
          10000,
          10000,
          10000,
          10000,
          10000,
          10000,
          10000,
          10000,
          10000,
          10000,
          10000,
          10000,
          10000,
          10000,
          10000,
          10000,
          10000,
          10000,
          10000,
          10000,
          10000,
          10000,
          10000,
          10000,
          10000,
          10000,
          10000,
          10000,
          10000,
          10000,
          10000,
          10000,
          10000,
          10000,
          10000,
          10000,
          10000,
          10000,
          10000,
          10000,
          10000,
          10000,
          10000,
          10000,
          10000,
          10000,
          10000,
          10000,
          10000,
          10000,
          10000,
          10000,
          10000,
          10000,
          10000,
          10000,
          10000,
          10000,
          10000,
          10000,
          10000,
          10000,
          10000,
          10000,
          10000,
          10000,
          10000,
          10000,
          10000,
          10000,
          10000,
          10000,
          10000,
          10000,
          10000,
          10000,
          10000,
          10000,
          10000,
          10000,
          10000,
          10000,
          10000,
          10000,
          10000,
          10000,
          10000,
          10000,
          10000,
          10000,
          10000,
          10000,
          10000,
          10000,
          10000,
          10000,
          10000,
          10000,
          10000,
          10000,
          10000,
          10000,
          10000,
          10000,
          10000,
          10000,
          10000,
          10000,
          10000,
          10000,
          10000,
          10000,
          10000,
          10000,
          10000,
          10000,
          10000,
          10000,
          10000,
          10000,
          10000,
          10000,
          10000,
          10000,
          10000,
          10000,
          10000,
          10000,
          10000,
          10000,
          10000,
          10000,
          10000,
          10000,
          10000,
          10000,
          10000,
          10000,
          10000,
          10000,
          10000,
          10000,
          10000,
          10000,
          10000,
          10000,
          10000,
          10000,
          10000,
          10000,
          10000,
          10000,
          10000,
          10000,
          10000,
          10000,
          10000,
          10000,
          10000,
          10000,
          10000,
          10000,
          10000,
          10000,
          10000,
          10000,
          10000,
          10000,
          10000,
          10000,
          10000,
          10000,
          10000,
          10000,
          10000,
          10000,
          10000,
          10000,
          10000,
          10000,
          10000,
          10000,
          10000,
          10000,
          10000,
          10000,
          10000,
          10000,
          10000,
          10000,
          10000,
          10000,
          10000,
          10000,
          10000,
          10000,
          10000,
          10000,
          10000,
          10000,
          10000,
          10000,
          10000,
          10000,
          10000,
          10000,
          10000,
          10000,
          10000,
          10000,
          10000,
          10000,
          10000,
          10000,
          10000,
          10000,
          10000,
          10000,
          10000,
          10000,
          10000,
          10000,
          10000,
          10000,
          10000,
          10000,
          10000,
          10000,
          10000,
          10000,
          10000,
          10000,
          10000,
          10000,
          10000,
          10000,
          10000,
          10000,
          10000,
          10000,
          10000,
          10000,
          10000,
          10000,
          10000,
          10000,
          10000,
          10000,
          10000,
          10000,
          10000,
          10000,
          10000,
          10000,
          10000,
          10000,
          10000,
          10000,
          10000,
          10000,
          10000,
          10000,
          10000,
          10000,
          10000,
          10000,
          10000,
          10000,
          10000,
          10000,
          10000,
          10000,
          10000,
          10000,
          10000,
          10000,
          10000,
          10000,
          10000,
          10000,
          10000,
          10000,
          10000,
          10000,
          10000,
          10000,
          10000,
          10000,
          10000,
          10000,
          10000,
          10000,
          10000,
          10000,
          10000,
          10000,
          10000,
          10000,
          10000,
          10000,
          10000,
          10000,
          10000,
          10000,
          10000,
          10000,
          10000,
          10000,
          10000,
          10000,
          10000,
          10000,
          10000,
          10000,
          10000,
          10000,
          10000,
          10000,
          10000,
          10000,
          10000,
          10000,
          10000,
          10000,
          10000,
          10000,
          10000,
          10000,
          10000,
          10000,
          10000,
          10000,
          10000,
          10000,
          10000,
          10000,
          10000,
          10000,
          10000,
          10000,
          10000,
          10000,
          10000,
          10000,
          10000,
          10000,
          10000,
          10000,
          10000,
          10000,
          10000,
          10000,
          10000,
          10000,
          10000,
          10000,
          10000,
          10000,
          10000,
          10000,
          10000,
          10000,
          10000,
          10000,
          10000,
          10000,
          10000,
          10000,
          10000,
          10000,
          10000,
          10000,
          10000,
          10000,
          10000,
          10000,
          10000,
          10000,
          10000,
          10000,
          10000,
          10000,
          10000,
          10000,
          10000,
          10000,
          10000,
          10000,
          10000,
          10000,
          10000,
          10000,
          10000,
          10000,
          10000,
          10000,
          10000,
          10000,
          10000,
          10000,
          10000,
          10000,
          10000,
          10000,
          10000,
          10000,
          10000,
          10000,
          10000,
          10000,
          10000,
          10000,
          10000,
          10000,
          10000,
          10000,
          10000,
          10000,
          10000,
          10000,
          10000,
          10000,
          10000,
          10000,
          10000,
          10000,
          10000,
          10000,
          10000,
          10000,
          10000,
          10000,
          10000,
          10000,
          10000,
          10000,
          10000,
          10000,
          10000,
          10000,
          10000,
          10000,
          10000,
          10000,
          10000,
          10000,
          10000,
          10000,
          10000,
          10000,
          10000,
          10000,
          10000,
          10000,
          10000,
          10000,
          10000,
          10000,
          10000,
          10000,
          10000,
          10000,
          10000,
          10000,
          10000,
          10000,
          10000,
          10000,
          10000,
          10000,
          10000,
          10000,
          10000,
          10000,
          10000,
          10000,
          10000,
          10000,
          10000,
          10000,
          10000,
          10000,
          10000,
          10000,
          10000,
          10000,
          10000,
          10000,
          10000,
          10000,
          10000,
          10000,
          10000,
          10000,
          10000,
          10000,
          10000,
          10000,
          10000,
          10000,
          10000,
          10000,
          10000,
          10000,
          10000,
          10000,
          10000,
          10000,
          10000,
          10000,
          10000,
          10000,
          10000,
          10000,
          10000,
          10000,
          10000,
          10000,
          10000,
          10000,
          10000,
          10000,
          10000,
          10000,
          10000,
          10000,
          10000,
          10000,
          10000,
          10000,
          10000,
          10000,
          10000,
          10000,
          10000,
          10000,
          10000,
          10000,
          10000,
          10000,
          10000,
          10000,
          10000,
          10000,
          10000,
          10000,
          10000,
          10000,
          10000,
          10000,
          10000,
          10000,
          10000,
          10000,
          10000,
          10000,
          10000,
          10000,
          10000,
          10000,
          10000,
          10000,
          10000,
          10000,
          10000,
          10000,
          10000,
          10000,
          10000,
          10000,
          10000,
          10000,
          10000,
          10000,
          10000,
          10000,
          10000,
          10000,
          10000,
          10000,
          10000,
          10000,
          10000,
          10000,
          10000,
          10000,
          10000,
          10000,
          10000,
          10000,
          10000,
          10000,
          10000,
          10000,
          10000,
          10000,
          10000,
          10000,
          10000,
          10000,
          10000,
          10000,
          10000,
          10000,
          10000,
          10000,
          10000,
          10000,
          10000,
          10000,
          10000,
          10000,
          10000,
          10000,
          10000,
          10000,
          10000,
          10000,
          10000,
          10000,
          10000,
          10000,
          10000,
          10000,
          10000,
          10000,
          10000,
          10000,
          10000,
          10000,
          10000,
          10000,
          10000,
          10000,
          10000,
          10000,
          10000,
          10000,
          10000,
          10000,
          10000,
          10000,
          10000,
          10000,
          10000,
          10000,
          10000,
          10000,
          10000,
          10000,
          10000,
          10000,
          10000,
          10000,
          10000,
          10000,
          10000,
          10000,
          10000,
          10000,
          10000,
          10000,
          10000,
          10000,
          10000,
          10000,
          10000,
          10000,
          10000,
          10000,
          10000,
          10000,
          10000,
          10000,
          10000,
          10000,
          10000,
          10000,
          10000,
          10000,
          10000,
          10000,
          10000,
          10000,
          10000,
          10000,
          10000,
          10000,
          10000,
          10000,
          10000,
          10000,
          10000,
          10000,
          10000,
          10000,
          10000,
          10000,
          10000,
          10000,
          10000,
          10000,
          10000,
          10000,
          10000,
          10000,
          10000,
          10000,
          10000,
          10000,
          10000,
          10000,
          10000,
          10000,
          10000,
          10000,
          10000,
          10000,
          10000,
          10000,
          10000,
          10000,
          10000,
          10000,
          10000,
          10000,
          10000,
          10000,
          10000,
          10000,
          10000,
          10000,
          10000,
          10000,
          10000,
          10000,
          10000,
          10000,
          10000,
          10000,
          10000,
          10000,
          10000,
          10000,
          10000,
          10000,
          10000,
          10000,
          10000,
          10000,
          10000,
          10000,
          10000,
          10000,
          10000,
          10000,
          10000,
          10000,
          10000,
          10000,
          10000,
          10000,
          10000,
          10000,
          10000,
          10000,
          10000,
          10000,
          10000,
          10000,
          9997,
          9908.000483349366,
          9908.000483349366,
          9905.02808320436,
          9936.221918608619,
          9942.226808685904,
          9966.825255020563,
          9983.68805138289,
          9974.277394556457,
          9896.758863525649,
          9907.146091106819,
          9886.235685031477,
          9923.568969219803,
          9939.902619752069,
          9913.109041530954,
          9883.400140200147,
          9831.773521636556,
          9811.940448732355,
          9804.79364521958,
          9809.40186767618
         ]
        },
        {
         "line": {
          "color": "#000088"
         },
         "mode": "lines",
         "name": "All cash",
         "type": "scatter",
         "x": [
          "2020-06-01T00:00:00",
          "2022-01-01T00:00:00"
         ],
         "y": [
          10000,
          10000
         ]
        },
        {
         "line": {
          "color": "#880000"
         },
         "mode": "lines",
         "name": "Buy and hold WAVAX",
         "type": "scatter",
         "x": [
          "2021-12-16T16:00:00",
          "2021-12-16T20:00:00",
          "2021-12-17T00:00:00",
          "2021-12-17T04:00:00",
          "2021-12-17T08:00:00",
          "2021-12-17T12:00:00",
          "2021-12-17T16:00:00",
          "2021-12-17T20:00:00",
          "2021-12-18T00:00:00",
          "2021-12-18T04:00:00",
          "2021-12-18T08:00:00",
          "2021-12-18T12:00:00",
          "2021-12-18T16:00:00",
          "2021-12-18T20:00:00",
          "2021-12-19T00:00:00",
          "2021-12-19T04:00:00",
          "2021-12-19T08:00:00",
          "2021-12-19T12:00:00",
          "2021-12-19T16:00:00",
          "2021-12-19T20:00:00",
          "2021-12-20T00:00:00",
          "2021-12-20T04:00:00",
          "2021-12-20T08:00:00",
          "2021-12-20T12:00:00",
          "2021-12-20T16:00:00",
          "2021-12-20T20:00:00",
          "2021-12-21T00:00:00",
          "2021-12-21T04:00:00",
          "2021-12-21T08:00:00",
          "2021-12-21T12:00:00",
          "2021-12-21T16:00:00",
          "2021-12-21T20:00:00",
          "2021-12-22T00:00:00",
          "2021-12-22T04:00:00",
          "2021-12-22T08:00:00",
          "2021-12-22T12:00:00",
          "2021-12-22T16:00:00",
          "2021-12-22T20:00:00",
          "2021-12-23T00:00:00",
          "2021-12-23T04:00:00",
          "2021-12-23T08:00:00",
          "2021-12-23T12:00:00",
          "2021-12-23T16:00:00",
          "2021-12-23T20:00:00",
          "2021-12-24T00:00:00",
          "2021-12-24T04:00:00",
          "2021-12-24T08:00:00",
          "2021-12-24T12:00:00",
          "2021-12-24T16:00:00",
          "2021-12-24T20:00:00",
          "2021-12-25T00:00:00",
          "2021-12-25T04:00:00",
          "2021-12-25T08:00:00",
          "2021-12-25T12:00:00",
          "2021-12-25T16:00:00",
          "2021-12-25T20:00:00",
          "2021-12-26T00:00:00",
          "2021-12-26T04:00:00",
          "2021-12-26T08:00:00",
          "2021-12-26T12:00:00",
          "2021-12-26T16:00:00",
          "2021-12-26T20:00:00",
          "2021-12-27T00:00:00",
          "2021-12-27T04:00:00",
          "2021-12-27T08:00:00",
          "2021-12-27T12:00:00",
          "2021-12-27T16:00:00",
          "2021-12-27T20:00:00",
          "2021-12-28T00:00:00",
          "2021-12-28T04:00:00",
          "2021-12-28T08:00:00",
          "2021-12-28T12:00:00",
          "2021-12-28T16:00:00",
          "2021-12-28T20:00:00",
          "2021-12-29T00:00:00",
          "2021-12-29T04:00:00",
          "2021-12-29T08:00:00",
          "2021-12-29T12:00:00",
          "2021-12-29T16:00:00",
          "2021-12-29T20:00:00",
          "2021-12-30T00:00:00",
          "2021-12-30T04:00:00",
          "2021-12-30T08:00:00",
          "2021-12-30T12:00:00",
          "2021-12-30T16:00:00",
          "2021-12-30T20:00:00",
          "2021-12-31T00:00:00",
          "2021-12-31T04:00:00",
          "2021-12-31T08:00:00",
          "2021-12-31T12:00:00",
          "2021-12-31T16:00:00",
          "2021-12-31T20:00:00",
          "2022-01-01T00:00:00"
         ],
         "y": [
          10000,
          9366.459080402226,
          10403.490596671232,
          10713.990423549227,
          11165.423143364673,
          10801.216319964145,
          11684.290152833439,
          11817.149175228324,
          11115.06824897116,
          11673.154098170193,
          11821.119608072533,
          12021.472348250298,
          11647.294627133027,
          11761.887499127797,
          12397.645236276305,
          11908.72221861151,
          11318.424707600168,
          11514.637609967236,
          11257.169181455485,
          11250.3712334119,
          11001.018722872182,
          10925.327168456808,
          10816.298609784348,
          11015.783347267829,
          11689.081833695363,
          11951.717189334198,
          11990.998517784143,
          12499.297826537524,
          12548.409822922002,
          12394.381706458735,
          12369.652865819296,
          12776.772401451204,
          13222.426545083325,
          13090.546047540312,
          12442.544759610813,
          12920.601704198407,
          12543.08306865736,
          12172.892357415023,
          12741.139290832098,
          12466.649264029942,
          12451.279524634501,
          12684.819381642155,
          12945.832656680741,
          12732.1696163286,
          12661.179570325086,
          12675.317858947183,
          12831.598992271869,
          12819.161200895272,
          12662.799719110126,
          11894.569119667416,
          11890.62048008459,
          12096.344935391295,
          12055.278992472175,
          12192.085993470178,
          12016.708498331416,
          12068.48934350954,
          11644.950556181397,
          11663.56208049117,
          11762.882186914512,
          12034.93244511303,
          12290.972813142607,
          12170.800192068637,
          12216.061804013221,
          12311.879664211927,
          12333.348568979862,
          12497.581784480131,
          12414.331997888936,
          12022.714183897691,
          11636.59042616918,
          11804.234743010553,
          12089.09129691824,
          11937.897085018016,
          11119.837675579047,
          11340.686765392347,
          11728.462200865433,
          11254.72085765304,
          11192.757835011953,
          11234.235262081611,
          11101.77928931851,
          10832.3885808848,
          10493.656151892825,
          10816.856247847503,
          10861.030462098344,
          10917.254518048914,
          10901.957040875719,
          10630.803884998748,
          10774.277160056638,
          10828.202823720963,
          11134.34509417743,
          11230.253058898092,
          10830.215246774465,
          11535.749391591282,
          11465.493821754148
         ]
        }
       ],
       "layout": {
        "height": 800,
        "legend": {
         "orientation": "h",
         "x": 1,
         "xanchor": "right",
         "y": 1.02,
         "yanchor": "bottom"
        },
        "template": {
         "data": {
          "bar": [
           {
            "error_x": {
             "color": "#2a3f5f"
            },
            "error_y": {
             "color": "#2a3f5f"
            },
            "marker": {
             "line": {
              "color": "#E5ECF6",
              "width": 0.5
             },
             "pattern": {
              "fillmode": "overlay",
              "size": 10,
              "solidity": 0.2
             }
            },
            "type": "bar"
           }
          ],
          "barpolar": [
           {
            "marker": {
             "line": {
              "color": "#E5ECF6",
              "width": 0.5
             },
             "pattern": {
              "fillmode": "overlay",
              "size": 10,
              "solidity": 0.2
             }
            },
            "type": "barpolar"
           }
          ],
          "carpet": [
           {
            "aaxis": {
             "endlinecolor": "#2a3f5f",
             "gridcolor": "white",
             "linecolor": "white",
             "minorgridcolor": "white",
             "startlinecolor": "#2a3f5f"
            },
            "baxis": {
             "endlinecolor": "#2a3f5f",
             "gridcolor": "white",
             "linecolor": "white",
             "minorgridcolor": "white",
             "startlinecolor": "#2a3f5f"
            },
            "type": "carpet"
           }
          ],
          "choropleth": [
           {
            "colorbar": {
             "outlinewidth": 0,
             "ticks": ""
            },
            "type": "choropleth"
           }
          ],
          "contour": [
           {
            "colorbar": {
             "outlinewidth": 0,
             "ticks": ""
            },
            "colorscale": [
             [
              0,
              "#0d0887"
             ],
             [
              0.1111111111111111,
              "#46039f"
             ],
             [
              0.2222222222222222,
              "#7201a8"
             ],
             [
              0.3333333333333333,
              "#9c179e"
             ],
             [
              0.4444444444444444,
              "#bd3786"
             ],
             [
              0.5555555555555556,
              "#d8576b"
             ],
             [
              0.6666666666666666,
              "#ed7953"
             ],
             [
              0.7777777777777778,
              "#fb9f3a"
             ],
             [
              0.8888888888888888,
              "#fdca26"
             ],
             [
              1,
              "#f0f921"
             ]
            ],
            "type": "contour"
           }
          ],
          "contourcarpet": [
           {
            "colorbar": {
             "outlinewidth": 0,
             "ticks": ""
            },
            "type": "contourcarpet"
           }
          ],
          "heatmap": [
           {
            "colorbar": {
             "outlinewidth": 0,
             "ticks": ""
            },
            "colorscale": [
             [
              0,
              "#0d0887"
             ],
             [
              0.1111111111111111,
              "#46039f"
             ],
             [
              0.2222222222222222,
              "#7201a8"
             ],
             [
              0.3333333333333333,
              "#9c179e"
             ],
             [
              0.4444444444444444,
              "#bd3786"
             ],
             [
              0.5555555555555556,
              "#d8576b"
             ],
             [
              0.6666666666666666,
              "#ed7953"
             ],
             [
              0.7777777777777778,
              "#fb9f3a"
             ],
             [
              0.8888888888888888,
              "#fdca26"
             ],
             [
              1,
              "#f0f921"
             ]
            ],
            "type": "heatmap"
           }
          ],
          "heatmapgl": [
           {
            "colorbar": {
             "outlinewidth": 0,
             "ticks": ""
            },
            "colorscale": [
             [
              0,
              "#0d0887"
             ],
             [
              0.1111111111111111,
              "#46039f"
             ],
             [
              0.2222222222222222,
              "#7201a8"
             ],
             [
              0.3333333333333333,
              "#9c179e"
             ],
             [
              0.4444444444444444,
              "#bd3786"
             ],
             [
              0.5555555555555556,
              "#d8576b"
             ],
             [
              0.6666666666666666,
              "#ed7953"
             ],
             [
              0.7777777777777778,
              "#fb9f3a"
             ],
             [
              0.8888888888888888,
              "#fdca26"
             ],
             [
              1,
              "#f0f921"
             ]
            ],
            "type": "heatmapgl"
           }
          ],
          "histogram": [
           {
            "marker": {
             "pattern": {
              "fillmode": "overlay",
              "size": 10,
              "solidity": 0.2
             }
            },
            "type": "histogram"
           }
          ],
          "histogram2d": [
           {
            "colorbar": {
             "outlinewidth": 0,
             "ticks": ""
            },
            "colorscale": [
             [
              0,
              "#0d0887"
             ],
             [
              0.1111111111111111,
              "#46039f"
             ],
             [
              0.2222222222222222,
              "#7201a8"
             ],
             [
              0.3333333333333333,
              "#9c179e"
             ],
             [
              0.4444444444444444,
              "#bd3786"
             ],
             [
              0.5555555555555556,
              "#d8576b"
             ],
             [
              0.6666666666666666,
              "#ed7953"
             ],
             [
              0.7777777777777778,
              "#fb9f3a"
             ],
             [
              0.8888888888888888,
              "#fdca26"
             ],
             [
              1,
              "#f0f921"
             ]
            ],
            "type": "histogram2d"
           }
          ],
          "histogram2dcontour": [
           {
            "colorbar": {
             "outlinewidth": 0,
             "ticks": ""
            },
            "colorscale": [
             [
              0,
              "#0d0887"
             ],
             [
              0.1111111111111111,
              "#46039f"
             ],
             [
              0.2222222222222222,
              "#7201a8"
             ],
             [
              0.3333333333333333,
              "#9c179e"
             ],
             [
              0.4444444444444444,
              "#bd3786"
             ],
             [
              0.5555555555555556,
              "#d8576b"
             ],
             [
              0.6666666666666666,
              "#ed7953"
             ],
             [
              0.7777777777777778,
              "#fb9f3a"
             ],
             [
              0.8888888888888888,
              "#fdca26"
             ],
             [
              1,
              "#f0f921"
             ]
            ],
            "type": "histogram2dcontour"
           }
          ],
          "mesh3d": [
           {
            "colorbar": {
             "outlinewidth": 0,
             "ticks": ""
            },
            "type": "mesh3d"
           }
          ],
          "parcoords": [
           {
            "line": {
             "colorbar": {
              "outlinewidth": 0,
              "ticks": ""
             }
            },
            "type": "parcoords"
           }
          ],
          "pie": [
           {
            "automargin": true,
            "type": "pie"
           }
          ],
          "scatter": [
           {
            "fillpattern": {
             "fillmode": "overlay",
             "size": 10,
             "solidity": 0.2
            },
            "type": "scatter"
           }
          ],
          "scatter3d": [
           {
            "line": {
             "colorbar": {
              "outlinewidth": 0,
              "ticks": ""
             }
            },
            "marker": {
             "colorbar": {
              "outlinewidth": 0,
              "ticks": ""
             }
            },
            "type": "scatter3d"
           }
          ],
          "scattercarpet": [
           {
            "marker": {
             "colorbar": {
              "outlinewidth": 0,
              "ticks": ""
             }
            },
            "type": "scattercarpet"
           }
          ],
          "scattergeo": [
           {
            "marker": {
             "colorbar": {
              "outlinewidth": 0,
              "ticks": ""
             }
            },
            "type": "scattergeo"
           }
          ],
          "scattergl": [
           {
            "marker": {
             "colorbar": {
              "outlinewidth": 0,
              "ticks": ""
             }
            },
            "type": "scattergl"
           }
          ],
          "scattermapbox": [
           {
            "marker": {
             "colorbar": {
              "outlinewidth": 0,
              "ticks": ""
             }
            },
            "type": "scattermapbox"
           }
          ],
          "scatterpolar": [
           {
            "marker": {
             "colorbar": {
              "outlinewidth": 0,
              "ticks": ""
             }
            },
            "type": "scatterpolar"
           }
          ],
          "scatterpolargl": [
           {
            "marker": {
             "colorbar": {
              "outlinewidth": 0,
              "ticks": ""
             }
            },
            "type": "scatterpolargl"
           }
          ],
          "scatterternary": [
           {
            "marker": {
             "colorbar": {
              "outlinewidth": 0,
              "ticks": ""
             }
            },
            "type": "scatterternary"
           }
          ],
          "surface": [
           {
            "colorbar": {
             "outlinewidth": 0,
             "ticks": ""
            },
            "colorscale": [
             [
              0,
              "#0d0887"
             ],
             [
              0.1111111111111111,
              "#46039f"
             ],
             [
              0.2222222222222222,
              "#7201a8"
             ],
             [
              0.3333333333333333,
              "#9c179e"
             ],
             [
              0.4444444444444444,
              "#bd3786"
             ],
             [
              0.5555555555555556,
              "#d8576b"
             ],
             [
              0.6666666666666666,
              "#ed7953"
             ],
             [
              0.7777777777777778,
              "#fb9f3a"
             ],
             [
              0.8888888888888888,
              "#fdca26"
             ],
             [
              1,
              "#f0f921"
             ]
            ],
            "type": "surface"
           }
          ],
          "table": [
           {
            "cells": {
             "fill": {
              "color": "#EBF0F8"
             },
             "line": {
              "color": "white"
             }
            },
            "header": {
             "fill": {
              "color": "#C8D4E3"
             },
             "line": {
              "color": "white"
             }
            },
            "type": "table"
           }
          ]
         },
         "layout": {
          "annotationdefaults": {
           "arrowcolor": "#2a3f5f",
           "arrowhead": 0,
           "arrowwidth": 1
          },
          "autotypenumbers": "strict",
          "coloraxis": {
           "colorbar": {
            "outlinewidth": 0,
            "ticks": ""
           }
          },
          "colorscale": {
           "diverging": [
            [
             0,
             "#8e0152"
            ],
            [
             0.1,
             "#c51b7d"
            ],
            [
             0.2,
             "#de77ae"
            ],
            [
             0.3,
             "#f1b6da"
            ],
            [
             0.4,
             "#fde0ef"
            ],
            [
             0.5,
             "#f7f7f7"
            ],
            [
             0.6,
             "#e6f5d0"
            ],
            [
             0.7,
             "#b8e186"
            ],
            [
             0.8,
             "#7fbc41"
            ],
            [
             0.9,
             "#4d9221"
            ],
            [
             1,
             "#276419"
            ]
           ],
           "sequential": [
            [
             0,
             "#0d0887"
            ],
            [
             0.1111111111111111,
             "#46039f"
            ],
            [
             0.2222222222222222,
             "#7201a8"
            ],
            [
             0.3333333333333333,
             "#9c179e"
            ],
            [
             0.4444444444444444,
             "#bd3786"
            ],
            [
             0.5555555555555556,
             "#d8576b"
            ],
            [
             0.6666666666666666,
             "#ed7953"
            ],
            [
             0.7777777777777778,
             "#fb9f3a"
            ],
            [
             0.8888888888888888,
             "#fdca26"
            ],
            [
             1,
             "#f0f921"
            ]
           ],
           "sequentialminus": [
            [
             0,
             "#0d0887"
            ],
            [
             0.1111111111111111,
             "#46039f"
            ],
            [
             0.2222222222222222,
             "#7201a8"
            ],
            [
             0.3333333333333333,
             "#9c179e"
            ],
            [
             0.4444444444444444,
             "#bd3786"
            ],
            [
             0.5555555555555556,
             "#d8576b"
            ],
            [
             0.6666666666666666,
             "#ed7953"
            ],
            [
             0.7777777777777778,
             "#fb9f3a"
            ],
            [
             0.8888888888888888,
             "#fdca26"
            ],
            [
             1,
             "#f0f921"
            ]
           ]
          },
          "colorway": [
           "#636efa",
           "#EF553B",
           "#00cc96",
           "#ab63fa",
           "#FFA15A",
           "#19d3f3",
           "#FF6692",
           "#B6E880",
           "#FF97FF",
           "#FECB52"
          ],
          "font": {
           "color": "#2a3f5f"
          },
          "geo": {
           "bgcolor": "white",
           "lakecolor": "white",
           "landcolor": "#E5ECF6",
           "showlakes": true,
           "showland": true,
           "subunitcolor": "white"
          },
          "hoverlabel": {
           "align": "left"
          },
          "hovermode": "closest",
          "mapbox": {
           "style": "light"
          },
          "paper_bgcolor": "white",
          "plot_bgcolor": "#E5ECF6",
          "polar": {
           "angularaxis": {
            "gridcolor": "white",
            "linecolor": "white",
            "ticks": ""
           },
           "bgcolor": "#E5ECF6",
           "radialaxis": {
            "gridcolor": "white",
            "linecolor": "white",
            "ticks": ""
           }
          },
          "scene": {
           "xaxis": {
            "backgroundcolor": "#E5ECF6",
            "gridcolor": "white",
            "gridwidth": 2,
            "linecolor": "white",
            "showbackground": true,
            "ticks": "",
            "zerolinecolor": "white"
           },
           "yaxis": {
            "backgroundcolor": "#E5ECF6",
            "gridcolor": "white",
            "gridwidth": 2,
            "linecolor": "white",
            "showbackground": true,
            "ticks": "",
            "zerolinecolor": "white"
           },
           "zaxis": {
            "backgroundcolor": "#E5ECF6",
            "gridcolor": "white",
            "gridwidth": 2,
            "linecolor": "white",
            "showbackground": true,
            "ticks": "",
            "zerolinecolor": "white"
           }
          },
          "shapedefaults": {
           "line": {
            "color": "#2a3f5f"
           }
          },
          "ternary": {
           "aaxis": {
            "gridcolor": "white",
            "linecolor": "white",
            "ticks": ""
           },
           "baxis": {
            "gridcolor": "white",
            "linecolor": "white",
            "ticks": ""
           },
           "bgcolor": "#E5ECF6",
           "caxis": {
            "gridcolor": "white",
            "linecolor": "white",
            "ticks": ""
           }
          },
          "title": {
           "x": 0.05
          },
          "xaxis": {
           "automargin": true,
           "gridcolor": "white",
           "linecolor": "white",
           "ticks": "",
           "title": {
            "standoff": 15
           },
           "zerolinecolor": "white",
           "zerolinewidth": 2
          },
          "yaxis": {
           "automargin": true,
           "gridcolor": "white",
           "linecolor": "white",
           "ticks": "",
           "title": {
            "standoff": 15
           },
           "zerolinecolor": "white",
           "zerolinewidth": 2
          }
         }
        },
        "title": {
         "text": "AVAX/USD EMA crossover example portfolio value"
        },
        "xaxis": {
         "rangeslider": {
          "visible": false
         }
        },
        "yaxis": {
         "showgrid": false,
         "title": {
          "text": "Value $"
         }
        }
       }
      }
     },
     "metadata": {},
     "output_type": "display_data"
    }
   ],
   "source": [
    "from tradeexecutor.visual.benchmark import visualise_benchmark\n",
    "\n",
    "traded_pair = universe.universe.pairs.get_single()\n",
    "\n",
    "fig = visualise_benchmark(\n",
    "    state.name,\n",
    "    portfolio_statistics=state.stats.portfolio,\n",
    "    all_cash=state.portfolio.get_initial_deposit(),\n",
    "    buy_and_hold_asset_name=traded_pair.base_token_symbol,\n",
    "    buy_and_hold_price_series=universe.universe.candles.get_single_pair_data()[\"close\"],\n",
    "    start_at=start_at,\n",
    "    end_at=end_at,\n",
    "    height=800\n",
    ")\n",
    "\n",
    "fig.show()"
   ]
  }
 ],
 "metadata": {
  "kernelspec": {
   "display_name": "Python 3.10.8 ('trade-executor-xSh0vQvh-py3.10')",
   "language": "python",
   "name": "python3"
  },
  "language_info": {
   "codemirror_mode": {
    "name": "ipython",
    "version": 3
   },
   "file_extension": ".py",
   "mimetype": "text/x-python",
   "name": "python",
   "nbconvert_exporter": "python",
   "pygments_lexer": "ipython3",
   "version": "3.10.8"
  },
  "orig_nbformat": 4,
  "vscode": {
   "interpreter": {
    "hash": "24b97508390b963553784416579c9570aeb0b4283871745aab540c27775a3343"
   }
  }
 },
 "nbformat": 4,
 "nbformat_minor": 2
}
